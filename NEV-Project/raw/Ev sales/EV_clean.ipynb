{
 "cells": [
  {
   "cell_type": "code",
   "execution_count": 1,
   "id": "b30342d1-ca32-4a59-9204-7ee0ce35b934",
   "metadata": {},
   "outputs": [],
   "source": [
    "import pandas as pd"
   ]
  },
  {
   "cell_type": "code",
   "execution_count": 2,
   "id": "0e99c327-9dac-4fa0-86d2-0b5d5bea4a68",
   "metadata": {},
   "outputs": [],
   "source": [
    "#read the data file, skip the third row and rows contain 'mean' and 'median' \n",
    "data = pd.read_csv('EV_sales_by_state_2016-2019.csv', skiprows=[0,2,55,56], delimiter = ',')"
   ]
  },
  {
   "cell_type": "code",
   "execution_count": 3,
   "id": "09357e3f-7654-4d53-8425-032dab49a8e9",
   "metadata": {},
   "outputs": [
    {
     "data": {
      "text/html": [
       "<div>\n",
       "<style scoped>\n",
       "    .dataframe tbody tr th:only-of-type {\n",
       "        vertical-align: middle;\n",
       "    }\n",
       "\n",
       "    .dataframe tbody tr th {\n",
       "        vertical-align: top;\n",
       "    }\n",
       "\n",
       "    .dataframe thead th {\n",
       "        text-align: right;\n",
       "    }\n",
       "</style>\n",
       "<table border=\"1\" class=\"dataframe\">\n",
       "  <thead>\n",
       "    <tr style=\"text-align: right;\">\n",
       "      <th></th>\n",
       "      <th>Unnamed: 0</th>\n",
       "      <th>2016</th>\n",
       "      <th>2017</th>\n",
       "      <th>2018</th>\n",
       "      <th>2019</th>\n",
       "    </tr>\n",
       "  </thead>\n",
       "  <tbody>\n",
       "    <tr>\n",
       "      <th>0</th>\n",
       "      <td>California</td>\n",
       "      <td>73,854</td>\n",
       "      <td>94,873</td>\n",
       "      <td>153,442</td>\n",
       "      <td>145,020</td>\n",
       "    </tr>\n",
       "    <tr>\n",
       "      <th>1</th>\n",
       "      <td>New York</td>\n",
       "      <td>6,043</td>\n",
       "      <td>10,090</td>\n",
       "      <td>15,752</td>\n",
       "      <td>14,823</td>\n",
       "    </tr>\n",
       "    <tr>\n",
       "      <th>2</th>\n",
       "      <td>Washington</td>\n",
       "      <td>5,363</td>\n",
       "      <td>7,068</td>\n",
       "      <td>12,650</td>\n",
       "      <td>12,172</td>\n",
       "    </tr>\n",
       "    <tr>\n",
       "      <th>3</th>\n",
       "      <td>Florida</td>\n",
       "      <td>6,255</td>\n",
       "      <td>6,573</td>\n",
       "      <td>13,705</td>\n",
       "      <td>15,794</td>\n",
       "    </tr>\n",
       "    <tr>\n",
       "      <th>4</th>\n",
       "      <td>Texas</td>\n",
       "      <td>4,510</td>\n",
       "      <td>5,419</td>\n",
       "      <td>11,764</td>\n",
       "      <td>5,780</td>\n",
       "    </tr>\n",
       "  </tbody>\n",
       "</table>\n",
       "</div>"
      ],
      "text/plain": [
       "   Unnamed: 0    2016    2017     2018     2019\n",
       "0  California  73,854  94,873  153,442  145,020\n",
       "1    New York   6,043  10,090   15,752   14,823\n",
       "2  Washington   5,363   7,068   12,650   12,172\n",
       "3     Florida   6,255   6,573   13,705   15,794\n",
       "4       Texas   4,510   5,419   11,764    5,780"
      ]
     },
     "execution_count": 3,
     "metadata": {},
     "output_type": "execute_result"
    }
   ],
   "source": [
    "data.head()"
   ]
  },
  {
   "cell_type": "code",
   "execution_count": 4,
   "id": "d37be950-571b-46d0-a33d-c6e69891fb94",
   "metadata": {},
   "outputs": [],
   "source": [
    "data = data.rename(columns={'Unnamed: 0':'State'})"
   ]
  },
  {
   "cell_type": "code",
   "execution_count": 5,
   "id": "5a373791-2539-4de0-a177-0be29d7f5e3e",
   "metadata": {},
   "outputs": [],
   "source": [
    "# Now we have cleanned data, save it into processed file\n",
    "path = '../../processed/Ev_sales.csv'\n",
    "data.to_csv(path)"
   ]
  },
  {
   "cell_type": "code",
   "execution_count": null,
   "id": "1b2805b9-f849-4249-8580-a455362ff882",
   "metadata": {},
   "outputs": [],
   "source": []
  }
 ],
 "metadata": {
  "kernelspec": {
   "display_name": "Python 3 (ipykernel)",
   "language": "python",
   "name": "python3"
  },
  "language_info": {
   "codemirror_mode": {
    "name": "ipython",
    "version": 3
   },
   "file_extension": ".py",
   "mimetype": "text/x-python",
   "name": "python",
   "nbconvert_exporter": "python",
   "pygments_lexer": "ipython3",
   "version": "3.9.7"
  }
 },
 "nbformat": 4,
 "nbformat_minor": 5
}
