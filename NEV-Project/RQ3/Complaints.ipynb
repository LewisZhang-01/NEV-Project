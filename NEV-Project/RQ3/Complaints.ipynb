{
 "cells": [
  {
   "cell_type": "code",
   "execution_count": 2,
   "id": "6bc5b308-65ab-4a07-b274-31914b09cc48",
   "metadata": {},
   "outputs": [],
   "source": [
    "import pandas as pd"
   ]
  },
  {
   "cell_type": "markdown",
   "id": "47c7eb50-71da-41a9-91fb-3bc284f58e0c",
   "metadata": {},
   "source": [
    "## Path to complaints dataset"
   ]
  },
  {
   "cell_type": "code",
   "execution_count": 3,
   "id": "c7031ad1-7491-4af2-b697-f851313cf568",
   "metadata": {},
   "outputs": [],
   "source": [
    "complaints_dataset = '../Processed_Data/API/Complaints.pkl'"
   ]
  },
  {
   "cell_type": "markdown",
   "id": "f83517e3-6811-426b-bba1-91e73010d947",
   "metadata": {},
   "source": [
    "## Load Complaints Data"
   ]
  },
  {
   "cell_type": "code",
   "execution_count": 5,
   "id": "b3b4b215-deb5-499b-a68d-8607eb2c2c69",
   "metadata": {},
   "outputs": [
    {
     "name": "stdout",
     "output_type": "stream",
     "text": [
      "(750742, 11)\n"
     ]
    },
    {
     "data": {
      "text/html": [
       "<div>\n",
       "<style scoped>\n",
       "    .dataframe tbody tr th:only-of-type {\n",
       "        vertical-align: middle;\n",
       "    }\n",
       "\n",
       "    .dataframe tbody tr th {\n",
       "        vertical-align: top;\n",
       "    }\n",
       "\n",
       "    .dataframe thead th {\n",
       "        text-align: right;\n",
       "    }\n",
       "</style>\n",
       "<table border=\"1\" class=\"dataframe\">\n",
       "  <thead>\n",
       "    <tr style=\"text-align: right;\">\n",
       "      <th></th>\n",
       "      <th>manufacturer</th>\n",
       "      <th>productMake</th>\n",
       "      <th>productModel</th>\n",
       "      <th>productYear</th>\n",
       "      <th>type</th>\n",
       "      <th>components</th>\n",
       "      <th>crash</th>\n",
       "      <th>dateComplaintFiled</th>\n",
       "      <th>fire</th>\n",
       "      <th>numberOfDeaths</th>\n",
       "      <th>numberOfInjuries</th>\n",
       "    </tr>\n",
       "  </thead>\n",
       "  <tbody>\n",
       "    <tr>\n",
       "      <th>0</th>\n",
       "      <td>Mazda Motor Corp.</td>\n",
       "      <td>MAZDA</td>\n",
       "      <td>MAZDASPEED3</td>\n",
       "      <td>2010</td>\n",
       "      <td>Vehicle</td>\n",
       "      <td>STRUCTURE,ENGINE</td>\n",
       "      <td>False</td>\n",
       "      <td>2019-10-30</td>\n",
       "      <td>False</td>\n",
       "      <td>0</td>\n",
       "      <td>0</td>\n",
       "    </tr>\n",
       "    <tr>\n",
       "      <th>1</th>\n",
       "      <td>Mazda Motor Corp.</td>\n",
       "      <td>MAZDA</td>\n",
       "      <td>MAZDASPEED3</td>\n",
       "      <td>2010</td>\n",
       "      <td>Vehicle</td>\n",
       "      <td>POWER TRAIN,ELECTRICAL SYSTEM,AIR BAGS</td>\n",
       "      <td>False</td>\n",
       "      <td>2019-04-14</td>\n",
       "      <td>False</td>\n",
       "      <td>0</td>\n",
       "      <td>0</td>\n",
       "    </tr>\n",
       "    <tr>\n",
       "      <th>2</th>\n",
       "      <td>Mazda Motor Corp.</td>\n",
       "      <td>MAZDA</td>\n",
       "      <td>MAZDASPEED3</td>\n",
       "      <td>2010</td>\n",
       "      <td>Vehicle</td>\n",
       "      <td>EXTERIOR LIGHTING</td>\n",
       "      <td>False</td>\n",
       "      <td>2018-09-02</td>\n",
       "      <td>False</td>\n",
       "      <td>0</td>\n",
       "      <td>0</td>\n",
       "    </tr>\n",
       "    <tr>\n",
       "      <th>3</th>\n",
       "      <td>Mazda Motor Corp.</td>\n",
       "      <td>MAZDA</td>\n",
       "      <td>MAZDASPEED3</td>\n",
       "      <td>2010</td>\n",
       "      <td>Vehicle</td>\n",
       "      <td>SUSPENSION,AIR BAGS</td>\n",
       "      <td>False</td>\n",
       "      <td>2017-08-16</td>\n",
       "      <td>False</td>\n",
       "      <td>0</td>\n",
       "      <td>1</td>\n",
       "    </tr>\n",
       "    <tr>\n",
       "      <th>4</th>\n",
       "      <td>Mazda Motor Corp.</td>\n",
       "      <td>MAZDA</td>\n",
       "      <td>MAZDASPEED3</td>\n",
       "      <td>2010</td>\n",
       "      <td>Vehicle</td>\n",
       "      <td>SEATS</td>\n",
       "      <td>False</td>\n",
       "      <td>2017-02-15</td>\n",
       "      <td>False</td>\n",
       "      <td>0</td>\n",
       "      <td>0</td>\n",
       "    </tr>\n",
       "  </tbody>\n",
       "</table>\n",
       "</div>"
      ],
      "text/plain": [
       "        manufacturer productMake productModel productYear     type  \\\n",
       "0  Mazda Motor Corp.       MAZDA  MAZDASPEED3        2010  Vehicle   \n",
       "1  Mazda Motor Corp.       MAZDA  MAZDASPEED3        2010  Vehicle   \n",
       "2  Mazda Motor Corp.       MAZDA  MAZDASPEED3        2010  Vehicle   \n",
       "3  Mazda Motor Corp.       MAZDA  MAZDASPEED3        2010  Vehicle   \n",
       "4  Mazda Motor Corp.       MAZDA  MAZDASPEED3        2010  Vehicle   \n",
       "\n",
       "                               components  crash dateComplaintFiled   fire  \\\n",
       "0                        STRUCTURE,ENGINE  False         2019-10-30  False   \n",
       "1  POWER TRAIN,ELECTRICAL SYSTEM,AIR BAGS  False         2019-04-14  False   \n",
       "2                       EXTERIOR LIGHTING  False         2018-09-02  False   \n",
       "3                     SUSPENSION,AIR BAGS  False         2017-08-16  False   \n",
       "4                                   SEATS  False         2017-02-15  False   \n",
       "\n",
       "   numberOfDeaths  numberOfInjuries  \n",
       "0               0                 0  \n",
       "1               0                 0  \n",
       "2               0                 0  \n",
       "3               0                 1  \n",
       "4               0                 0  "
      ]
     },
     "execution_count": 5,
     "metadata": {},
     "output_type": "execute_result"
    }
   ],
   "source": [
    "df_complaints = pd.read_pickle(complaints_dataset)\n",
    "print(df_complaints.shape)\n",
    "df_complaints.head()"
   ]
  },
  {
   "cell_type": "code",
   "execution_count": null,
   "id": "fed2db53-420e-4c73-93ae-f193601659fc",
   "metadata": {},
   "outputs": [],
   "source": []
  }
 ],
 "metadata": {
  "kernelspec": {
   "display_name": "Python 3 (ipykernel)",
   "language": "python",
   "name": "python3"
  },
  "language_info": {
   "codemirror_mode": {
    "name": "ipython",
    "version": 3
   },
   "file_extension": ".py",
   "mimetype": "text/x-python",
   "name": "python",
   "nbconvert_exporter": "python",
   "pygments_lexer": "ipython3",
   "version": "3.9.7"
  }
 },
 "nbformat": 4,
 "nbformat_minor": 5
}
