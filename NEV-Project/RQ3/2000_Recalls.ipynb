{
 "cells": [
  {
   "cell_type": "markdown",
   "id": "b202a77d-3f80-40b5-b56a-bc795928edfd",
   "metadata": {},
   "source": [
    "# Vehicle Recalls"
   ]
  },
  {
   "cell_type": "code",
   "execution_count": 1,
   "id": "6bc5b308-65ab-4a07-b274-31914b09cc48",
   "metadata": {},
   "outputs": [],
   "source": [
    "import pandas as pd\n",
    "import numpy as np\n",
    "import matplotlib as plt\n",
    "import matplotlib.pyplot as plt\n",
    "import seaborn as sns\n",
    "import plotly.express as px\n",
    "import plotly.graph_objects as go"
   ]
  },
  {
   "cell_type": "markdown",
   "id": "47c7eb50-71da-41a9-91fb-3bc284f58e0c",
   "metadata": {},
   "source": [
    "## Path to recalls dataset"
   ]
  },
  {
   "cell_type": "code",
   "execution_count": 2,
   "id": "c7031ad1-7491-4af2-b697-f851313cf568",
   "metadata": {},
   "outputs": [],
   "source": [
    "recalls_dataset = '../Processed_Data/API/Recalls.pkl'"
   ]
  },
  {
   "cell_type": "markdown",
   "id": "f83517e3-6811-426b-bba1-91e73010d947",
   "metadata": {},
   "source": [
    "## Load recalls Data"
   ]
  },
  {
   "cell_type": "code",
   "execution_count": 193,
   "id": "b3b4b215-deb5-499b-a68d-8607eb2c2c69",
   "metadata": {},
   "outputs": [
    {
     "name": "stdout",
     "output_type": "stream",
     "text": [
      "(63599, 6)\n"
     ]
    },
    {
     "data": {
      "text/html": [
       "<div>\n",
       "<style scoped>\n",
       "    .dataframe tbody tr th:only-of-type {\n",
       "        vertical-align: middle;\n",
       "    }\n",
       "\n",
       "    .dataframe tbody tr th {\n",
       "        vertical-align: top;\n",
       "    }\n",
       "\n",
       "    .dataframe thead th {\n",
       "        text-align: right;\n",
       "    }\n",
       "</style>\n",
       "<table border=\"1\" class=\"dataframe\">\n",
       "  <thead>\n",
       "    <tr style=\"text-align: right;\">\n",
       "      <th></th>\n",
       "      <th>Component</th>\n",
       "      <th>Make</th>\n",
       "      <th>Manufacturer</th>\n",
       "      <th>Model</th>\n",
       "      <th>ModelYear</th>\n",
       "      <th>ReportReceivedDate</th>\n",
       "    </tr>\n",
       "  </thead>\n",
       "  <tbody>\n",
       "    <tr>\n",
       "      <th>0</th>\n",
       "      <td>POWER TRAIN:AXLE ASSEMBLY:AXLE SHAFT</td>\n",
       "      <td>VOLVO</td>\n",
       "      <td>VOLVO OF AMERICA CORP.</td>\n",
       "      <td>245</td>\n",
       "      <td>1978</td>\n",
       "      <td>1978</td>\n",
       "    </tr>\n",
       "    <tr>\n",
       "      <th>1</th>\n",
       "      <td>SEAT BELTS:FRONT:ANCHORAGE</td>\n",
       "      <td>MONACO COACH</td>\n",
       "      <td>MONACO COACH CORPORATION</td>\n",
       "      <td>SIGNATURE</td>\n",
       "      <td>2004</td>\n",
       "      <td>2004</td>\n",
       "    </tr>\n",
       "    <tr>\n",
       "      <th>2</th>\n",
       "      <td>ENGINE AND ENGINE COOLING:ENGINE:DIESEL</td>\n",
       "      <td>MONACO COACH</td>\n",
       "      <td>MONACO COACH CORPORATION</td>\n",
       "      <td>SIGNATURE</td>\n",
       "      <td>2004</td>\n",
       "      <td>2006</td>\n",
       "    </tr>\n",
       "    <tr>\n",
       "      <th>3</th>\n",
       "      <td>FUEL SYSTEM, OTHER:DELIVERY:HOSES, LINES/PIPIN...</td>\n",
       "      <td>WESTERN</td>\n",
       "      <td>WESTERN RV, INC.</td>\n",
       "      <td>ALPENLITE</td>\n",
       "      <td>1989</td>\n",
       "      <td>1992</td>\n",
       "    </tr>\n",
       "    <tr>\n",
       "      <th>4</th>\n",
       "      <td>STRUCTURE:BODY:DOOR</td>\n",
       "      <td>PREVOST</td>\n",
       "      <td>PREVOST CAR, INCORPORATED</td>\n",
       "      <td>LE MIRAGE 96</td>\n",
       "      <td>1979</td>\n",
       "      <td>1995</td>\n",
       "    </tr>\n",
       "  </tbody>\n",
       "</table>\n",
       "</div>"
      ],
      "text/plain": [
       "                                           Component          Make  \\\n",
       "0               POWER TRAIN:AXLE ASSEMBLY:AXLE SHAFT         VOLVO   \n",
       "1                         SEAT BELTS:FRONT:ANCHORAGE  MONACO COACH   \n",
       "2            ENGINE AND ENGINE COOLING:ENGINE:DIESEL  MONACO COACH   \n",
       "3  FUEL SYSTEM, OTHER:DELIVERY:HOSES, LINES/PIPIN...       WESTERN   \n",
       "4                                STRUCTURE:BODY:DOOR       PREVOST   \n",
       "\n",
       "                Manufacturer         Model ModelYear ReportReceivedDate  \n",
       "0     VOLVO OF AMERICA CORP.           245      1978               1978  \n",
       "1   MONACO COACH CORPORATION     SIGNATURE      2004               2004  \n",
       "2   MONACO COACH CORPORATION     SIGNATURE      2004               2006  \n",
       "3           WESTERN RV, INC.     ALPENLITE      1989               1992  \n",
       "4  PREVOST CAR, INCORPORATED  LE MIRAGE 96      1979               1995  "
      ]
     },
     "execution_count": 193,
     "metadata": {},
     "output_type": "execute_result"
    }
   ],
   "source": [
    "df_recalls = pd.read_pickle(recalls_dataset)\n",
    "print(df_recalls.shape)\n",
    "df_recalls.head()"
   ]
  },
  {
   "cell_type": "markdown",
   "id": "3a3346d5-035d-4022-9d0a-7d150305c421",
   "metadata": {},
   "source": [
    "## Detect the new energy data"
   ]
  },
  {
   "cell_type": "code",
   "execution_count": 194,
   "id": "130795ba-3b8f-49f8-aebe-92ccb87c6ca2",
   "metadata": {},
   "outputs": [
    {
     "data": {
      "text/html": [
       "<div>\n",
       "<style scoped>\n",
       "    .dataframe tbody tr th:only-of-type {\n",
       "        vertical-align: middle;\n",
       "    }\n",
       "\n",
       "    .dataframe tbody tr th {\n",
       "        vertical-align: top;\n",
       "    }\n",
       "\n",
       "    .dataframe thead th {\n",
       "        text-align: right;\n",
       "    }\n",
       "</style>\n",
       "<table border=\"1\" class=\"dataframe\">\n",
       "  <thead>\n",
       "    <tr style=\"text-align: right;\">\n",
       "      <th></th>\n",
       "      <th>Component</th>\n",
       "      <th>Make</th>\n",
       "      <th>Manufacturer</th>\n",
       "      <th>Model</th>\n",
       "      <th>ModelYear</th>\n",
       "      <th>ReportReceivedDate</th>\n",
       "      <th>fuel_type</th>\n",
       "    </tr>\n",
       "  </thead>\n",
       "  <tbody>\n",
       "    <tr>\n",
       "      <th>0</th>\n",
       "      <td>POWER TRAIN:AXLE ASSEMBLY:AXLE SHAFT</td>\n",
       "      <td>VOLVO</td>\n",
       "      <td>VOLVO OF AMERICA CORP.</td>\n",
       "      <td>245</td>\n",
       "      <td>1978</td>\n",
       "      <td>1978</td>\n",
       "      <td>Traditional</td>\n",
       "    </tr>\n",
       "    <tr>\n",
       "      <th>1</th>\n",
       "      <td>SEAT BELTS:FRONT:ANCHORAGE</td>\n",
       "      <td>MONACO COACH</td>\n",
       "      <td>MONACO COACH CORPORATION</td>\n",
       "      <td>SIGNATURE</td>\n",
       "      <td>2004</td>\n",
       "      <td>2004</td>\n",
       "      <td>Traditional</td>\n",
       "    </tr>\n",
       "    <tr>\n",
       "      <th>2</th>\n",
       "      <td>ENGINE AND ENGINE COOLING:ENGINE:DIESEL</td>\n",
       "      <td>MONACO COACH</td>\n",
       "      <td>MONACO COACH CORPORATION</td>\n",
       "      <td>SIGNATURE</td>\n",
       "      <td>2004</td>\n",
       "      <td>2006</td>\n",
       "      <td>Traditional</td>\n",
       "    </tr>\n",
       "    <tr>\n",
       "      <th>3</th>\n",
       "      <td>FUEL SYSTEM, OTHER:DELIVERY:HOSES, LINES/PIPIN...</td>\n",
       "      <td>WESTERN</td>\n",
       "      <td>WESTERN RV, INC.</td>\n",
       "      <td>ALPENLITE</td>\n",
       "      <td>1989</td>\n",
       "      <td>1992</td>\n",
       "      <td>Traditional</td>\n",
       "    </tr>\n",
       "    <tr>\n",
       "      <th>4</th>\n",
       "      <td>STRUCTURE:BODY:DOOR</td>\n",
       "      <td>PREVOST</td>\n",
       "      <td>PREVOST CAR, INCORPORATED</td>\n",
       "      <td>LE MIRAGE 96</td>\n",
       "      <td>1979</td>\n",
       "      <td>1995</td>\n",
       "      <td>Traditional</td>\n",
       "    </tr>\n",
       "  </tbody>\n",
       "</table>\n",
       "</div>"
      ],
      "text/plain": [
       "                                           Component          Make  \\\n",
       "0               POWER TRAIN:AXLE ASSEMBLY:AXLE SHAFT         VOLVO   \n",
       "1                         SEAT BELTS:FRONT:ANCHORAGE  MONACO COACH   \n",
       "2            ENGINE AND ENGINE COOLING:ENGINE:DIESEL  MONACO COACH   \n",
       "3  FUEL SYSTEM, OTHER:DELIVERY:HOSES, LINES/PIPIN...       WESTERN   \n",
       "4                                STRUCTURE:BODY:DOOR       PREVOST   \n",
       "\n",
       "                Manufacturer         Model ModelYear ReportReceivedDate  \\\n",
       "0     VOLVO OF AMERICA CORP.           245      1978               1978   \n",
       "1   MONACO COACH CORPORATION     SIGNATURE      2004               2004   \n",
       "2   MONACO COACH CORPORATION     SIGNATURE      2004               2006   \n",
       "3           WESTERN RV, INC.     ALPENLITE      1989               1992   \n",
       "4  PREVOST CAR, INCORPORATED  LE MIRAGE 96      1979               1995   \n",
       "\n",
       "     fuel_type  \n",
       "0  Traditional  \n",
       "1  Traditional  \n",
       "2  Traditional  \n",
       "3  Traditional  \n",
       "4  Traditional  "
      ]
     },
     "execution_count": 194,
     "metadata": {},
     "output_type": "execute_result"
    }
   ],
   "source": [
    "NEV_Symbol = ['HYBRID','ELEC','HEV ','HV ','EV ',' HEV',' HV',' EV','ENERGI','ECO','PLUG-IN','TESLA','PLUGIN']\n",
    "pattern = '|'.join(NEV_Symbol)\n",
    "\n",
    "# Determine whether New Energy vehicle or Traditional vehicle, add new column called fuel_type.\n",
    "df_recalls['fuel_type'] = df_recalls.Model.str.contains(pattern)\n",
    "mapping = {False: 'Traditional', True:'New energy'}\n",
    "df_recalls.replace( {'fuel_type': mapping}, inplace=True )\n",
    "df_recalls.head()"
   ]
  },
  {
   "cell_type": "code",
   "execution_count": 195,
   "id": "f180c818-5717-4b28-ade5-471ff61f46a5",
   "metadata": {},
   "outputs": [
    {
     "data": {
      "text/plain": [
       "fuel_type\n",
       "New energy       395\n",
       "Traditional    63204\n",
       "dtype: int64"
      ]
     },
     "execution_count": 195,
     "metadata": {},
     "output_type": "execute_result"
    }
   ],
   "source": [
    "df_recalls.groupby('fuel_type').size()"
   ]
  },
  {
   "cell_type": "markdown",
   "id": "226ecded-a788-4a2f-a7b7-30f098bf665a",
   "metadata": {},
   "source": [
    "# Components\n",
    "## Count The Frequency For Each Components"
   ]
  },
  {
   "cell_type": "markdown",
   "id": "67ae3751-9227-47f3-a1af-52ec806ed0b2",
   "metadata": {},
   "source": [
    "**Each recall may have mulitiple components at same time, we need split them by comma.**"
   ]
  },
  {
   "cell_type": "code",
   "execution_count": 196,
   "id": "89b5585e-f49a-4eb7-9ad8-325275f65ba7",
   "metadata": {},
   "outputs": [
    {
     "data": {
      "text/plain": [
       "0                       POWER TRAIN\n",
       "1                     AXLE ASSEMBLY\n",
       "2                        AXLE SHAFT\n",
       "3                        SEAT BELTS\n",
       "4                             FRONT\n",
       "                    ...            \n",
       "145107                     AIR BAGS\n",
       "145108                      FRONTAL\n",
       "145109    ENGINE AND ENGINE COOLING\n",
       "145110               COOLING SYSTEM\n",
       "145111                        TIRES\n",
       "Length: 145112, dtype: object"
      ]
     },
     "execution_count": 196,
     "metadata": {},
     "output_type": "execute_result"
    }
   ],
   "source": [
    "def split_components(series,delimiter):\n",
    " return pd.Series([x for list_ in series for x in list_.split(delimiter)])\n",
    "split_components(df_recalls['Component'],',')\n",
    "split_components(df_recalls['Component'],':')"
   ]
  },
  {
   "cell_type": "markdown",
   "id": "e32d4a85-fad5-4311-80b6-08e42e16cca1",
   "metadata": {},
   "source": [
    "**Now we can count the frequency.**"
   ]
  },
  {
   "cell_type": "code",
   "execution_count": 197,
   "id": "2f3ae585-20ce-49f8-9c49-05243dccd77a",
   "metadata": {},
   "outputs": [
    {
     "data": {
      "text/plain": [
       "EQUIPMENT                                 6954\n",
       "SERVICE BRAKES                            5653\n",
       "FUEL SYSTEM                               4400\n",
       "STEERING                                  3609\n",
       "ELECTRICAL SYSTEM                         3490\n",
       "                                          ... \n",
       "CUSHION                                      1\n",
       "FILLING/CHARGING                             1\n",
       "REAR WINDOW WIPER/WASHER                     1\n",
       " Lower Anchor (on car seat or vehicle)       1\n",
       " CABLES                                      1\n",
       "Length: 449, dtype: int64"
      ]
     },
     "execution_count": 197,
     "metadata": {},
     "output_type": "execute_result"
    }
   ],
   "source": [
    "df_recalls['Component'] = split_components(df_recalls['Component'],',')\n",
    "valueCount = split_components(df_recalls['Component'],':')\\\n",
    "                            .value_counts()\\\n",
    "                            .sort_values(ascending=False)\n",
    "valueCount"
   ]
  },
  {
   "cell_type": "code",
   "execution_count": 198,
   "id": "10dfb1e5-fcc8-4919-b32c-0b257b71692e",
   "metadata": {},
   "outputs": [
    {
     "data": {
      "image/png": "[encoded data removed]",
      "text/plain": [
       "<Figure size 1440x1080 with 1 Axes>"
      ]
     },
     "metadata": {
      "needs_background": "light"
     },
     "output_type": "display_data"
    }
   ],
   "source": [
    "fig = plt.figure(figsize=(20,15))\n",
    "# set up the bar chart\n",
    "ax = valueCount.head(20).plot(kind=\"barh\")\n",
    "plt.title(\"Ranking of complained components (Top 20)\", fontsize=24)\n",
    "plt.ylabel(\"recall components\", fontsize=24)\n",
    "# increase the font sizes on the axes\n",
    "plt.xticks(fontsize=22)\n",
    "plt.yticks(fontsize=22)\n",
    "ax.invert_yaxis()\n",
    "# Save as png image\n",
    "fig.savefig('./Outputs/Recall_components_top20.png', format='png')"
   ]
  },
  {
   "cell_type": "markdown",
   "id": "1aa38407-1d4b-4c68-8999-10decd1e0500",
   "metadata": {
    "tags": []
   },
   "source": [
    "## The correlation between these components\n",
    "The number of times they were recalled at the same time\n",
    "\n",
    "Get the boolean value of all components for each recall"
   ]
  },
  {
   "cell_type": "code",
   "execution_count": 199,
   "id": "d9d5ca3f-3726-448a-8b1b-87861005a9a0",
   "metadata": {},
   "outputs": [
    {
     "data": {
      "text/html": [
       "<div>\n",
       "<style scoped>\n",
       "    .dataframe tbody tr th:only-of-type {\n",
       "        vertical-align: middle;\n",
       "    }\n",
       "\n",
       "    .dataframe tbody tr th {\n",
       "        vertical-align: top;\n",
       "    }\n",
       "\n",
       "    .dataframe thead th {\n",
       "        text-align: right;\n",
       "    }\n",
       "</style>\n",
       "<table border=\"1\" class=\"dataframe\">\n",
       "  <thead>\n",
       "    <tr style=\"text-align: right;\">\n",
       "      <th></th>\n",
       "      <th>EQUIPMENT</th>\n",
       "      <th>SERVICE BRAKES</th>\n",
       "      <th>FUEL SYSTEM</th>\n",
       "      <th>STEERING</th>\n",
       "      <th>ELECTRICAL SYSTEM</th>\n",
       "      <th>HYDRAULIC</th>\n",
       "      <th>GASOLINE</th>\n",
       "      <th>EXTERIOR LIGHTING</th>\n",
       "      <th>SUSPENSION</th>\n",
       "      <th>RECREATIONAL VEHICLE/TRAILER</th>\n",
       "      <th>...</th>\n",
       "      <th>MACPHERSON STRUT</th>\n",
       "      <th>ACCESORY POWER OUTLET/JACK/PORT/USB/SAE/CIGARETTE LIGHTER</th>\n",
       "      <th>CONNECTORS/PLUGS</th>\n",
       "      <th>HOSES AND FITTINGS</th>\n",
       "      <th>PASSENGER SIDE FRONTAL</th>\n",
       "      <th>CUSHION</th>\n",
       "      <th>FILLING/CHARGING</th>\n",
       "      <th>REAR WINDOW WIPER/WASHER</th>\n",
       "      <th>Lower Anchor (on car seat or vehicle)</th>\n",
       "      <th>CABLES</th>\n",
       "    </tr>\n",
       "  </thead>\n",
       "  <tbody>\n",
       "    <tr>\n",
       "      <th>0</th>\n",
       "      <td>False</td>\n",
       "      <td>False</td>\n",
       "      <td>False</td>\n",
       "      <td>False</td>\n",
       "      <td>False</td>\n",
       "      <td>False</td>\n",
       "      <td>False</td>\n",
       "      <td>False</td>\n",
       "      <td>False</td>\n",
       "      <td>False</td>\n",
       "      <td>...</td>\n",
       "      <td>False</td>\n",
       "      <td>False</td>\n",
       "      <td>False</td>\n",
       "      <td>False</td>\n",
       "      <td>False</td>\n",
       "      <td>False</td>\n",
       "      <td>False</td>\n",
       "      <td>False</td>\n",
       "      <td>False</td>\n",
       "      <td>False</td>\n",
       "    </tr>\n",
       "    <tr>\n",
       "      <th>1</th>\n",
       "      <td>False</td>\n",
       "      <td>False</td>\n",
       "      <td>False</td>\n",
       "      <td>False</td>\n",
       "      <td>False</td>\n",
       "      <td>False</td>\n",
       "      <td>False</td>\n",
       "      <td>False</td>\n",
       "      <td>False</td>\n",
       "      <td>False</td>\n",
       "      <td>...</td>\n",
       "      <td>False</td>\n",
       "      <td>False</td>\n",
       "      <td>False</td>\n",
       "      <td>False</td>\n",
       "      <td>False</td>\n",
       "      <td>False</td>\n",
       "      <td>False</td>\n",
       "      <td>False</td>\n",
       "      <td>False</td>\n",
       "      <td>False</td>\n",
       "    </tr>\n",
       "    <tr>\n",
       "      <th>2</th>\n",
       "      <td>False</td>\n",
       "      <td>False</td>\n",
       "      <td>False</td>\n",
       "      <td>False</td>\n",
       "      <td>False</td>\n",
       "      <td>False</td>\n",
       "      <td>False</td>\n",
       "      <td>False</td>\n",
       "      <td>False</td>\n",
       "      <td>False</td>\n",
       "      <td>...</td>\n",
       "      <td>False</td>\n",
       "      <td>False</td>\n",
       "      <td>False</td>\n",
       "      <td>False</td>\n",
       "      <td>False</td>\n",
       "      <td>False</td>\n",
       "      <td>False</td>\n",
       "      <td>False</td>\n",
       "      <td>False</td>\n",
       "      <td>False</td>\n",
       "    </tr>\n",
       "    <tr>\n",
       "      <th>3</th>\n",
       "      <td>False</td>\n",
       "      <td>False</td>\n",
       "      <td>True</td>\n",
       "      <td>False</td>\n",
       "      <td>False</td>\n",
       "      <td>False</td>\n",
       "      <td>False</td>\n",
       "      <td>False</td>\n",
       "      <td>False</td>\n",
       "      <td>False</td>\n",
       "      <td>...</td>\n",
       "      <td>False</td>\n",
       "      <td>False</td>\n",
       "      <td>False</td>\n",
       "      <td>False</td>\n",
       "      <td>False</td>\n",
       "      <td>False</td>\n",
       "      <td>False</td>\n",
       "      <td>False</td>\n",
       "      <td>False</td>\n",
       "      <td>False</td>\n",
       "    </tr>\n",
       "    <tr>\n",
       "      <th>4</th>\n",
       "      <td>False</td>\n",
       "      <td>False</td>\n",
       "      <td>False</td>\n",
       "      <td>False</td>\n",
       "      <td>False</td>\n",
       "      <td>False</td>\n",
       "      <td>False</td>\n",
       "      <td>False</td>\n",
       "      <td>False</td>\n",
       "      <td>False</td>\n",
       "      <td>...</td>\n",
       "      <td>False</td>\n",
       "      <td>False</td>\n",
       "      <td>False</td>\n",
       "      <td>False</td>\n",
       "      <td>False</td>\n",
       "      <td>False</td>\n",
       "      <td>False</td>\n",
       "      <td>False</td>\n",
       "      <td>False</td>\n",
       "      <td>False</td>\n",
       "    </tr>\n",
       "  </tbody>\n",
       "</table>\n",
       "<p>5 rows × 449 columns</p>\n",
       "</div>"
      ],
      "text/plain": [
       "   EQUIPMENT  SERVICE BRAKES  FUEL SYSTEM  STEERING  ELECTRICAL SYSTEM  \\\n",
       "0      False           False        False     False              False   \n",
       "1      False           False        False     False              False   \n",
       "2      False           False        False     False              False   \n",
       "3      False           False         True     False              False   \n",
       "4      False           False        False     False              False   \n",
       "\n",
       "    HYDRAULIC   GASOLINE  EXTERIOR LIGHTING  SUSPENSION  \\\n",
       "0       False      False              False       False   \n",
       "1       False      False              False       False   \n",
       "2       False      False              False       False   \n",
       "3       False      False              False       False   \n",
       "4       False      False              False       False   \n",
       "\n",
       "   RECREATIONAL VEHICLE/TRAILER  ...  MACPHERSON STRUT  \\\n",
       "0                         False  ...             False   \n",
       "1                         False  ...             False   \n",
       "2                         False  ...             False   \n",
       "3                         False  ...             False   \n",
       "4                         False  ...             False   \n",
       "\n",
       "   ACCESORY POWER OUTLET/JACK/PORT/USB/SAE/CIGARETTE LIGHTER  \\\n",
       "0                                              False           \n",
       "1                                              False           \n",
       "2                                              False           \n",
       "3                                              False           \n",
       "4                                              False           \n",
       "\n",
       "   CONNECTORS/PLUGS  HOSES AND FITTINGS  PASSENGER SIDE FRONTAL  CUSHION  \\\n",
       "0             False               False                   False    False   \n",
       "1             False               False                   False    False   \n",
       "2             False               False                   False    False   \n",
       "3             False               False                   False    False   \n",
       "4             False               False                   False    False   \n",
       "\n",
       "   FILLING/CHARGING  REAR WINDOW WIPER/WASHER  \\\n",
       "0             False                     False   \n",
       "1             False                     False   \n",
       "2             False                     False   \n",
       "3             False                     False   \n",
       "4             False                     False   \n",
       "\n",
       "    Lower Anchor (on car seat or vehicle)   CABLES  \n",
       "0                                   False    False  \n",
       "1                                   False    False  \n",
       "2                                   False    False  \n",
       "3                                   False    False  \n",
       "4                                   False    False  \n",
       "\n",
       "[5 rows x 449 columns]"
      ]
     },
     "execution_count": 199,
     "metadata": {},
     "output_type": "execute_result"
    }
   ],
   "source": [
    "def df_bool_with_item(list_items, unique_items):\n",
    "    bool_dict = {}\n",
    "    \n",
    "    # Loop through all the tags\n",
    "    for i, item in enumerate(unique_items):\n",
    "        \n",
    "        # Apply boolean mask\n",
    "        bool_dict[item] = list_items.apply(lambda x: item in x)\n",
    "            \n",
    "    return pd.DataFrame(bool_dict)\n",
    "\n",
    "components_bool = df_bool_with_item(df_recalls['Component'], valueCount.keys())\n",
    "components_bool.head()"
   ]
  },
  {
   "cell_type": "code",
   "execution_count": 200,
   "id": "ffe3fb2d-e3d9-44f3-97a3-b8f0fc6c1dc9",
   "metadata": {},
   "outputs": [
    {
     "data": {
      "text/html": [
       "<div>\n",
       "<style scoped>\n",
       "    .dataframe tbody tr th:only-of-type {\n",
       "        vertical-align: middle;\n",
       "    }\n",
       "\n",
       "    .dataframe tbody tr th {\n",
       "        vertical-align: top;\n",
       "    }\n",
       "\n",
       "    .dataframe thead th {\n",
       "        text-align: right;\n",
       "    }\n",
       "</style>\n",
       "<table border=\"1\" class=\"dataframe\">\n",
       "  <thead>\n",
       "    <tr style=\"text-align: right;\">\n",
       "      <th></th>\n",
       "      <th>EQUIPMENT</th>\n",
       "      <th>SERVICE BRAKES</th>\n",
       "      <th>FUEL SYSTEM</th>\n",
       "      <th>STEERING</th>\n",
       "      <th>ELECTRICAL SYSTEM</th>\n",
       "      <th>HYDRAULIC</th>\n",
       "      <th>GASOLINE</th>\n",
       "      <th>EXTERIOR LIGHTING</th>\n",
       "      <th>SUSPENSION</th>\n",
       "      <th>RECREATIONAL VEHICLE/TRAILER</th>\n",
       "      <th>...</th>\n",
       "      <th>MACPHERSON STRUT</th>\n",
       "      <th>ACCESORY POWER OUTLET/JACK/PORT/USB/SAE/CIGARETTE LIGHTER</th>\n",
       "      <th>CONNECTORS/PLUGS</th>\n",
       "      <th>HOSES AND FITTINGS</th>\n",
       "      <th>PASSENGER SIDE FRONTAL</th>\n",
       "      <th>CUSHION</th>\n",
       "      <th>FILLING/CHARGING</th>\n",
       "      <th>REAR WINDOW WIPER/WASHER</th>\n",
       "      <th>Lower Anchor (on car seat or vehicle)</th>\n",
       "      <th>CABLES</th>\n",
       "    </tr>\n",
       "  </thead>\n",
       "  <tbody>\n",
       "    <tr>\n",
       "      <th>EQUIPMENT</th>\n",
       "      <td>1.000000</td>\n",
       "      <td>-0.117247</td>\n",
       "      <td>-0.102339</td>\n",
       "      <td>-0.092126</td>\n",
       "      <td>-0.089472</td>\n",
       "      <td>-0.090108</td>\n",
       "      <td>-0.089294</td>\n",
       "      <td>-0.077965</td>\n",
       "      <td>-0.077670</td>\n",
       "      <td>0.542778</td>\n",
       "      <td>...</td>\n",
       "      <td>-0.001489</td>\n",
       "      <td>-0.001489</td>\n",
       "      <td>-0.001489</td>\n",
       "      <td>-0.001489</td>\n",
       "      <td>-0.001489</td>\n",
       "      <td>-0.001489</td>\n",
       "      <td>-0.001489</td>\n",
       "      <td>-0.001489</td>\n",
       "      <td>-0.001489</td>\n",
       "      <td>-0.001489</td>\n",
       "    </tr>\n",
       "    <tr>\n",
       "      <th>SERVICE BRAKES</th>\n",
       "      <td>-0.117247</td>\n",
       "      <td>1.000000</td>\n",
       "      <td>-0.085152</td>\n",
       "      <td>-0.076654</td>\n",
       "      <td>-0.075318</td>\n",
       "      <td>-0.074975</td>\n",
       "      <td>-0.074298</td>\n",
       "      <td>-0.064871</td>\n",
       "      <td>-0.064626</td>\n",
       "      <td>-0.063639</td>\n",
       "      <td>...</td>\n",
       "      <td>-0.001239</td>\n",
       "      <td>-0.001239</td>\n",
       "      <td>-0.001239</td>\n",
       "      <td>-0.001239</td>\n",
       "      <td>-0.001239</td>\n",
       "      <td>-0.001239</td>\n",
       "      <td>-0.001239</td>\n",
       "      <td>-0.001239</td>\n",
       "      <td>-0.001239</td>\n",
       "      <td>-0.001239</td>\n",
       "    </tr>\n",
       "    <tr>\n",
       "      <th>FUEL SYSTEM</th>\n",
       "      <td>-0.102339</td>\n",
       "      <td>-0.085152</td>\n",
       "      <td>1.000000</td>\n",
       "      <td>-0.066908</td>\n",
       "      <td>-0.065742</td>\n",
       "      <td>-0.065443</td>\n",
       "      <td>-0.064851</td>\n",
       "      <td>-0.056623</td>\n",
       "      <td>-0.056409</td>\n",
       "      <td>-0.055548</td>\n",
       "      <td>...</td>\n",
       "      <td>-0.001081</td>\n",
       "      <td>-0.001081</td>\n",
       "      <td>-0.001081</td>\n",
       "      <td>-0.001081</td>\n",
       "      <td>-0.001081</td>\n",
       "      <td>-0.001081</td>\n",
       "      <td>-0.001081</td>\n",
       "      <td>-0.001081</td>\n",
       "      <td>-0.001081</td>\n",
       "      <td>-0.001081</td>\n",
       "    </tr>\n",
       "    <tr>\n",
       "      <th>STEERING</th>\n",
       "      <td>-0.092126</td>\n",
       "      <td>-0.076654</td>\n",
       "      <td>-0.066908</td>\n",
       "      <td>1.000000</td>\n",
       "      <td>-0.059181</td>\n",
       "      <td>-0.058912</td>\n",
       "      <td>-0.058379</td>\n",
       "      <td>-0.050972</td>\n",
       "      <td>-0.050780</td>\n",
       "      <td>-0.050004</td>\n",
       "      <td>...</td>\n",
       "      <td>-0.000973</td>\n",
       "      <td>-0.000973</td>\n",
       "      <td>-0.000973</td>\n",
       "      <td>-0.000973</td>\n",
       "      <td>-0.000973</td>\n",
       "      <td>-0.000973</td>\n",
       "      <td>-0.000973</td>\n",
       "      <td>-0.000973</td>\n",
       "      <td>-0.000973</td>\n",
       "      <td>-0.000973</td>\n",
       "    </tr>\n",
       "    <tr>\n",
       "      <th>ELECTRICAL SYSTEM</th>\n",
       "      <td>-0.089472</td>\n",
       "      <td>-0.075318</td>\n",
       "      <td>-0.065742</td>\n",
       "      <td>-0.059181</td>\n",
       "      <td>1.000000</td>\n",
       "      <td>-0.057885</td>\n",
       "      <td>-0.057362</td>\n",
       "      <td>-0.050084</td>\n",
       "      <td>-0.049895</td>\n",
       "      <td>-0.047369</td>\n",
       "      <td>...</td>\n",
       "      <td>-0.000956</td>\n",
       "      <td>0.016444</td>\n",
       "      <td>0.016444</td>\n",
       "      <td>-0.000956</td>\n",
       "      <td>-0.000956</td>\n",
       "      <td>-0.000956</td>\n",
       "      <td>-0.000956</td>\n",
       "      <td>-0.000956</td>\n",
       "      <td>-0.000956</td>\n",
       "      <td>0.016444</td>\n",
       "    </tr>\n",
       "  </tbody>\n",
       "</table>\n",
       "<p>5 rows × 449 columns</p>\n",
       "</div>"
      ],
      "text/plain": [
       "                   EQUIPMENT  SERVICE BRAKES  FUEL SYSTEM  STEERING  \\\n",
       "EQUIPMENT           1.000000       -0.117247    -0.102339 -0.092126   \n",
       "SERVICE BRAKES     -0.117247        1.000000    -0.085152 -0.076654   \n",
       "FUEL SYSTEM        -0.102339       -0.085152     1.000000 -0.066908   \n",
       "STEERING           -0.092126       -0.076654    -0.066908  1.000000   \n",
       "ELECTRICAL SYSTEM  -0.089472       -0.075318    -0.065742 -0.059181   \n",
       "\n",
       "                   ELECTRICAL SYSTEM   HYDRAULIC   GASOLINE  \\\n",
       "EQUIPMENT                  -0.089472   -0.090108  -0.089294   \n",
       "SERVICE BRAKES             -0.075318   -0.074975  -0.074298   \n",
       "FUEL SYSTEM                -0.065742   -0.065443  -0.064851   \n",
       "STEERING                   -0.059181   -0.058912  -0.058379   \n",
       "ELECTRICAL SYSTEM           1.000000   -0.057885  -0.057362   \n",
       "\n",
       "                   EXTERIOR LIGHTING  SUSPENSION  \\\n",
       "EQUIPMENT                  -0.077965   -0.077670   \n",
       "SERVICE BRAKES             -0.064871   -0.064626   \n",
       "FUEL SYSTEM                -0.056623   -0.056409   \n",
       "STEERING                   -0.050972   -0.050780   \n",
       "ELECTRICAL SYSTEM          -0.050084   -0.049895   \n",
       "\n",
       "                   RECREATIONAL VEHICLE/TRAILER  ...  MACPHERSON STRUT  \\\n",
       "EQUIPMENT                              0.542778  ...         -0.001489   \n",
       "SERVICE BRAKES                        -0.063639  ...         -0.001239   \n",
       "FUEL SYSTEM                           -0.055548  ...         -0.001081   \n",
       "STEERING                              -0.050004  ...         -0.000973   \n",
       "ELECTRICAL SYSTEM                     -0.047369  ...         -0.000956   \n",
       "\n",
       "                   ACCESORY POWER OUTLET/JACK/PORT/USB/SAE/CIGARETTE LIGHTER  \\\n",
       "EQUIPMENT                                                  -0.001489           \n",
       "SERVICE BRAKES                                             -0.001239           \n",
       "FUEL SYSTEM                                                -0.001081           \n",
       "STEERING                                                   -0.000973           \n",
       "ELECTRICAL SYSTEM                                           0.016444           \n",
       "\n",
       "                   CONNECTORS/PLUGS  HOSES AND FITTINGS  \\\n",
       "EQUIPMENT                 -0.001489           -0.001489   \n",
       "SERVICE BRAKES            -0.001239           -0.001239   \n",
       "FUEL SYSTEM               -0.001081           -0.001081   \n",
       "STEERING                  -0.000973           -0.000973   \n",
       "ELECTRICAL SYSTEM          0.016444           -0.000956   \n",
       "\n",
       "                   PASSENGER SIDE FRONTAL   CUSHION  FILLING/CHARGING  \\\n",
       "EQUIPMENT                       -0.001489 -0.001489         -0.001489   \n",
       "SERVICE BRAKES                  -0.001239 -0.001239         -0.001239   \n",
       "FUEL SYSTEM                     -0.001081 -0.001081         -0.001081   \n",
       "STEERING                        -0.000973 -0.000973         -0.000973   \n",
       "ELECTRICAL SYSTEM               -0.000956 -0.000956         -0.000956   \n",
       "\n",
       "                   REAR WINDOW WIPER/WASHER  \\\n",
       "EQUIPMENT                         -0.001489   \n",
       "SERVICE BRAKES                    -0.001239   \n",
       "FUEL SYSTEM                       -0.001081   \n",
       "STEERING                          -0.000973   \n",
       "ELECTRICAL SYSTEM                 -0.000956   \n",
       "\n",
       "                    Lower Anchor (on car seat or vehicle)    CABLES  \n",
       "EQUIPMENT                                       -0.001489 -0.001489  \n",
       "SERVICE BRAKES                                  -0.001239 -0.001239  \n",
       "FUEL SYSTEM                                     -0.001081 -0.001081  \n",
       "STEERING                                        -0.000973 -0.000973  \n",
       "ELECTRICAL SYSTEM                               -0.000956  0.016444  \n",
       "\n",
       "[5 rows x 449 columns]"
      ]
     },
     "execution_count": 200,
     "metadata": {},
     "output_type": "execute_result"
    }
   ],
   "source": [
    "components_corr = components_bool.corr(method = \"pearson\")\n",
    "components_corr.head()"
   ]
  },
  {
   "cell_type": "code",
   "execution_count": 201,
   "id": "d79652ad-b80f-490c-98e7-401ecca66e27",
   "metadata": {},
   "outputs": [
    {
     "data": {
      "image/png": "[encoded data removed]",
      "text/plain": [
       "<Figure size 720x648 with 2 Axes>"
      ]
     },
     "metadata": {
      "needs_background": "light"
     },
     "output_type": "display_data"
    }
   ],
   "source": [
    "fig, ax = plt.subplots(figsize = (10,9))\n",
    "sns.heatmap(components_corr,fmt=\"\",cmap=\"Blues\",linewidths=.1, ax=ax)\n",
    "# Save as png image\n",
    "fig.savefig('./Outputs/Recalls_components_corr.png', format='png')"
   ]
  },
  {
   "cell_type": "markdown",
   "id": "a15751b8-e66f-46bd-9aa3-4fe2594caa1f",
   "metadata": {},
   "source": [
    "# Date between Recall and vehicle released\n",
    "## Calculate the time differences"
   ]
  },
  {
   "cell_type": "code",
   "execution_count": 202,
   "id": "c924393d-074e-4c35-9593-c2227ba35182",
   "metadata": {},
   "outputs": [
    {
     "data": {
      "text/html": [
       "<div>\n",
       "<style scoped>\n",
       "    .dataframe tbody tr th:only-of-type {\n",
       "        vertical-align: middle;\n",
       "    }\n",
       "\n",
       "    .dataframe tbody tr th {\n",
       "        vertical-align: top;\n",
       "    }\n",
       "\n",
       "    .dataframe thead th {\n",
       "        text-align: right;\n",
       "    }\n",
       "</style>\n",
       "<table border=\"1\" class=\"dataframe\">\n",
       "  <thead>\n",
       "    <tr style=\"text-align: right;\">\n",
       "      <th></th>\n",
       "      <th>Component</th>\n",
       "      <th>Make</th>\n",
       "      <th>Manufacturer</th>\n",
       "      <th>Model</th>\n",
       "      <th>ModelYear</th>\n",
       "      <th>ReportReceivedDate</th>\n",
       "      <th>fuel_type</th>\n",
       "      <th>YearDelta</th>\n",
       "    </tr>\n",
       "  </thead>\n",
       "  <tbody>\n",
       "    <tr>\n",
       "      <th>0</th>\n",
       "      <td>POWER TRAIN:AXLE ASSEMBLY:AXLE SHAFT</td>\n",
       "      <td>VOLVO</td>\n",
       "      <td>VOLVO OF AMERICA CORP.</td>\n",
       "      <td>245</td>\n",
       "      <td>1978</td>\n",
       "      <td>1978</td>\n",
       "      <td>Traditional</td>\n",
       "      <td>0</td>\n",
       "    </tr>\n",
       "    <tr>\n",
       "      <th>1</th>\n",
       "      <td>SEAT BELTS:FRONT:ANCHORAGE</td>\n",
       "      <td>MONACO COACH</td>\n",
       "      <td>MONACO COACH CORPORATION</td>\n",
       "      <td>SIGNATURE</td>\n",
       "      <td>2004</td>\n",
       "      <td>2004</td>\n",
       "      <td>Traditional</td>\n",
       "      <td>0</td>\n",
       "    </tr>\n",
       "    <tr>\n",
       "      <th>2</th>\n",
       "      <td>ENGINE AND ENGINE COOLING:ENGINE:DIESEL</td>\n",
       "      <td>MONACO COACH</td>\n",
       "      <td>MONACO COACH CORPORATION</td>\n",
       "      <td>SIGNATURE</td>\n",
       "      <td>2004</td>\n",
       "      <td>2006</td>\n",
       "      <td>Traditional</td>\n",
       "      <td>2</td>\n",
       "    </tr>\n",
       "    <tr>\n",
       "      <th>3</th>\n",
       "      <td>FUEL SYSTEM</td>\n",
       "      <td>WESTERN</td>\n",
       "      <td>WESTERN RV, INC.</td>\n",
       "      <td>ALPENLITE</td>\n",
       "      <td>1989</td>\n",
       "      <td>1992</td>\n",
       "      <td>Traditional</td>\n",
       "      <td>3</td>\n",
       "    </tr>\n",
       "    <tr>\n",
       "      <th>4</th>\n",
       "      <td>OTHER:DELIVERY:HOSES</td>\n",
       "      <td>PREVOST</td>\n",
       "      <td>PREVOST CAR, INCORPORATED</td>\n",
       "      <td>LE MIRAGE 96</td>\n",
       "      <td>1979</td>\n",
       "      <td>1995</td>\n",
       "      <td>Traditional</td>\n",
       "      <td>16</td>\n",
       "    </tr>\n",
       "  </tbody>\n",
       "</table>\n",
       "</div>"
      ],
      "text/plain": [
       "                                 Component          Make  \\\n",
       "0     POWER TRAIN:AXLE ASSEMBLY:AXLE SHAFT         VOLVO   \n",
       "1               SEAT BELTS:FRONT:ANCHORAGE  MONACO COACH   \n",
       "2  ENGINE AND ENGINE COOLING:ENGINE:DIESEL  MONACO COACH   \n",
       "3                              FUEL SYSTEM       WESTERN   \n",
       "4                     OTHER:DELIVERY:HOSES       PREVOST   \n",
       "\n",
       "                Manufacturer         Model  ModelYear  ReportReceivedDate  \\\n",
       "0     VOLVO OF AMERICA CORP.           245       1978                1978   \n",
       "1   MONACO COACH CORPORATION     SIGNATURE       2004                2004   \n",
       "2   MONACO COACH CORPORATION     SIGNATURE       2004                2006   \n",
       "3           WESTERN RV, INC.     ALPENLITE       1989                1992   \n",
       "4  PREVOST CAR, INCORPORATED  LE MIRAGE 96       1979                1995   \n",
       "\n",
       "     fuel_type  YearDelta  \n",
       "0  Traditional          0  \n",
       "1  Traditional          0  \n",
       "2  Traditional          2  \n",
       "3  Traditional          3  \n",
       "4  Traditional         16  "
      ]
     },
     "execution_count": 202,
     "metadata": {},
     "output_type": "execute_result"
    }
   ],
   "source": [
    "df_recalls['ReportReceivedDate'] = pd.to_numeric(df_recalls['ReportReceivedDate'], errors='ignore')\n",
    "df_recalls['ModelYear'] = pd.to_numeric(df_recalls['ModelYear'], errors='ignore')\n",
    "df_recalls['YearDelta'] = df_recalls['ReportReceivedDate'] - df_recalls['ModelYear']\n",
    "df_recalls.head()"
   ]
  },
  {
   "cell_type": "markdown",
   "id": "e6b2c941-3ef7-4a23-993f-689d6f6086ca",
   "metadata": {
    "tags": []
   },
   "source": [
    "## Draw the average year difference between these makers"
   ]
  },
  {
   "cell_type": "code",
   "execution_count": 203,
   "id": "dfc2825c-8724-4c6d-8896-dbc5e0f60fd4",
   "metadata": {},
   "outputs": [
    {
     "data": {
      "image/png": "[encoded data removed]",
      "text/plain": [
       "<Figure size 1440x2160 with 1 Axes>"
      ]
     },
     "metadata": {
      "needs_background": "light"
     },
     "output_type": "display_data"
    }
   ],
   "source": [
    "fig = plt.figure(figsize=(20,30))\n",
    "# set up the bar chart\n",
    "ax = df_recalls.groupby('Make')['YearDelta'].mean().sort_values(ascending=False).head(50).plot(kind='barh')\n",
    "plt.title(\"Average year difference between car produced and recall released (Top 50)\", fontsize=24)\n",
    "plt.xlabel(\"Average year difference.\", fontsize=24)\n",
    "plt.ylabel(\"Makers\", fontsize=24)\n",
    "# increase the font sizes on the axes\n",
    "plt.xticks(fontsize=20)\n",
    "plt.yticks(fontsize=20)\n",
    "ax.invert_yaxis()\n",
    "# Save as png image\n",
    "fig.savefig('./Outputs/Recall_year_differences_top50.png', format='png')"
   ]
  },
  {
   "cell_type": "code",
   "execution_count": 204,
   "id": "e4a54532-ec72-46d2-8e4d-9416c139a636",
   "metadata": {},
   "outputs": [
    {
     "data": {
      "text/plain": [
       "Model\n",
       "E CLASS    4\n",
       "S CLASS    1\n",
       "Name: YearDelta, dtype: int64"
      ]
     },
     "execution_count": 204,
     "metadata": {},
     "output_type": "execute_result"
    }
   ],
   "source": [
    "df_recalls[df_recalls['Make']=='MERCEDES'].groupby('Model')['YearDelta'].count()"
   ]
  },
  {
   "cell_type": "markdown",
   "id": "3e0ead1f-3734-4560-8ef1-6f1f49a7c37b",
   "metadata": {},
   "source": [
    "# Recalls Ratio \n",
    "**\\*Recall per model of each maker\\***\n",
    "## Recalls Ratio X Maker"
   ]
  },
  {
   "cell_type": "markdown",
   "id": "1dedc24b-effa-4f07-aab7-a17be2fe8333",
   "metadata": {
    "tags": []
   },
   "source": [
    "### Number of model for each maker"
   ]
  },
  {
   "cell_type": "code",
   "execution_count": 205,
   "id": "19c29b7e-52d4-4f39-9b9b-643a06cd3eef",
   "metadata": {},
   "outputs": [
    {
     "data": {
      "text/plain": [
       "(         NEV_model_num\n",
       " Make                  \n",
       " FORD                10\n",
       " HYUNDAI              8\n",
       " BMW                  7\n",
       " HONDA                6\n",
       " TOYOTA               6,\n",
       "                          TV_model_num\n",
       " Make                                 \n",
       " CHEVROLET                         339\n",
       " BMW                               335\n",
       " GMC                               290\n",
       " FORD                              268\n",
       " INTERNATIONAL HARVESTER           201)"
      ]
     },
     "execution_count": 205,
     "metadata": {},
     "output_type": "execute_result"
    }
   ],
   "source": [
    "model_num_of_makes_NEV = df_recalls[df_recalls['fuel_type']=='New energy'][['Make','Model']]\\\n",
    "                                    .groupby('Make')\\\n",
    "                                    .nunique()\\\n",
    "                                    .sort_values(by='Model',ascending=False)\\\n",
    "                                    .rename(columns={'Model':'NEV_model_num'})\n",
    "\n",
    "model_num_of_makes_TV = df_recalls[df_recalls['fuel_type']=='Traditional'][['Make','Model']]\\\n",
    "                                    .groupby('Make')\\\n",
    "                                    .nunique()\\\n",
    "                                    .sort_values(by='Model',ascending=False)\\\n",
    "                                    .rename(columns={'Model':'TV_model_num'})\n",
    "\n",
    "model_num_of_makes_NEV.head(),model_num_of_makes_TV.head()"
   ]
  },
  {
   "cell_type": "markdown",
   "id": "a776c4c6-c6d5-4e9c-9970-21b6f43b7a4e",
   "metadata": {},
   "source": [
    "### Number of recall for each maker "
   ]
  },
  {
   "cell_type": "code",
   "execution_count": 206,
   "id": "fe74593a-2219-4997-9f98-1ecd4892209e",
   "metadata": {},
   "outputs": [
    {
     "data": {
      "text/plain": [
       "(         NEV_recall_num\n",
       " Make                   \n",
       " FORD                137\n",
       " BUICK                30\n",
       " HYUNDAI              28\n",
       " BMW                  26\n",
       " TOYOTA               23,\n",
       "            TV_recall_num\n",
       " Make                    \n",
       " FORD                4829\n",
       " CHEVROLET           4064\n",
       " BMW                 3323\n",
       " DODGE               2171\n",
       " BLUE BIRD           2090)"
      ]
     },
     "execution_count": 206,
     "metadata": {},
     "output_type": "execute_result"
    }
   ],
   "source": [
    "recall_NEV = df_recalls[df_recalls['fuel_type']=='New energy'][['Manufacturer','Make']]\n",
    "recall_num_of_makes_NEV = pd.DataFrame(recall_NEV.groupby(['Make']).size().sort_values(ascending=False))\n",
    "\n",
    "recall_TV = df_recalls[df_recalls['fuel_type']=='Traditional'][['Manufacturer','Make']]\n",
    "recall_num_of_makes_TV = pd.DataFrame(recall_TV.groupby(['Make']).size().sort_values(ascending=False))\n",
    "\n",
    "recall_num_of_makes_NEV = recall_num_of_makes_NEV.rename(columns={0:'NEV_recall_num'})\n",
    "recall_num_of_makes_TV = recall_num_of_makes_TV.rename(columns={0:'TV_recall_num'})\n",
    "\n",
    "recall_num_of_makes_NEV.head(),recall_num_of_makes_TV.head()"
   ]
  },
  {
   "cell_type": "markdown",
   "id": "8139951c-e893-4f95-a189-bbe8f88bc7a5",
   "metadata": {
    "tags": []
   },
   "source": [
    "### Concat and calculate the recall ratio"
   ]
  },
  {
   "cell_type": "code",
   "execution_count": 207,
   "id": "7660582d-3d2f-40a8-8a4d-c4fcdd045de4",
   "metadata": {},
   "outputs": [
    {
     "data": {
      "text/plain": [
       "(                 recall_ratio\n",
       " Make                         \n",
       " BUICK                    30.0\n",
       " FORD                     13.7\n",
       " CHRYSLER                 12.0\n",
       " LAND ROVER               10.0\n",
       " HARLEY-DAVIDSON           9.0,\n",
       "                     recall_ratio\n",
       " Make                            \n",
       " THOMAS BUILT BUSES         34.00\n",
       " ACURA                      34.00\n",
       " TESLA                      29.50\n",
       " CORBEIL                    27.00\n",
       " BLUE BIRD                  26.12)"
      ]
     },
     "execution_count": 207,
     "metadata": {},
     "output_type": "execute_result"
    }
   ],
   "source": [
    "# Concat Dataframe\n",
    "all_NEV = pd.concat([model_num_of_makes_NEV,\n",
    "                     recall_num_of_makes_NEV['NEV_recall_num']\n",
    "                    ],axis=1\n",
    "                   )\n",
    "\n",
    "all_TV = pd.concat([model_num_of_makes_TV,\n",
    "                     recall_num_of_makes_TV['TV_recall_num']\n",
    "                   ],axis=1\n",
    "                  )\n",
    "\n",
    "# Calculate ratio\n",
    "compalint_ratio_NEV = (pd.DataFrame(all_NEV['NEV_recall_num']/all_NEV['NEV_model_num']))\\\n",
    "                      .rename(columns = {0:'recall_ratio'})\\\n",
    "                      .sort_values(by='recall_ratio',ascending=False)\n",
    "compalint_ratio_TV = (pd.DataFrame(all_TV['TV_recall_num']/all_TV['TV_model_num']))\\\n",
    "                      .rename(columns = {0:'recall_ratio'})\\\n",
    "                      .sort_values(by='recall_ratio',ascending=False)\n",
    "\n",
    "# Round to percentage\n",
    "compalint_ratio_NEV_round = compalint_ratio_NEV.applymap(lambda x: round(x,2))\n",
    "compalint_ratio_TV_round = compalint_ratio_TV.applymap(lambda x: round(x,2))\n",
    "#compalint_ratio_make_percentage = compalint_ratio_make.applymap(lambda x: \"{0:.2f}%\".format(x*100))\n",
    "compalint_ratio_NEV_round.head(),compalint_ratio_TV_round.head()"
   ]
  },
  {
   "cell_type": "markdown",
   "id": "2e424a9a-2130-41db-b815-d7a057e057d6",
   "metadata": {},
   "source": [
    "### Draw the top 10 recalls ratio for makers"
   ]
  },
  {
   "cell_type": "code",
   "execution_count": 208,
   "id": "dfe95305-e1b0-4bfd-9457-1962270ccd98",
   "metadata": {},
   "outputs": [
    {
     "data": {
      "application/vnd.plotly.v1+json": {
       "config": {
        "plotlyServerURL": "https://plot.ly"
       },
       "data": [
        {
         "alignmentgroup": "True",
         "hovertemplate": "recalls per model=%{x}<br>Product Makers Name=%{y}<extra></extra>",
         "legendgroup": "",
         "marker": {
          "color": "darkcyan",
          "pattern": {
           "shape": ""
          }
         },
         "name": "",
         "offsetgroup": "",
         "orientation": "h",
         "showlegend": false,
         "textposition": "auto",
         "texttemplate": "%{x:}",
         "type": "bar",
         "x": [
          30,
          13.7,
          12,
          10,
          9,
          7,
          6.33,
          5,
          5,
          4
         ],
         "xaxis": "x",
         "y": [
          "BUICK",
          "FORD",
          "CHRYSLER",
          "LAND ROVER",
          "HARLEY-DAVIDSON",
          "IVECO",
          "CHEVROLET",
          "FOREST RIVER",
          "ACURA",
          "HEIL"
         ],
         "yaxis": "y"
        }
       ],
       "layout": {
        "autosize": true,
        "barmode": "relative",
        "legend": {
         "tracegroupgap": 0
        },
        "template": {
         "data": {
          "bar": [
           {
            "error_x": {
             "color": "#2a3f5f"
            },
            "error_y": {
             "color": "#2a3f5f"
            },
            "marker": {
             "line": {
              "color": "#E5ECF6",
              "width": 0.5
             },
             "pattern": {
              "fillmode": "overlay",
              "size": 10,
              "solidity": 0.2
             }
            },
            "type": "bar"
           }
          ],
          "barpolar": [
           {
            "marker": {
             "line": {
              "color": "#E5ECF6",
              "width": 0.5
             },
             "pattern": {
              "fillmode": "overlay",
              "size": 10,
              "solidity": 0.2
             }
            },
            "type": "barpolar"
           }
          ],
          "carpet": [
           {
            "aaxis": {
             "endlinecolor": "#2a3f5f",
             "gridcolor": "white",
             "linecolor": "white",
             "minorgridcolor": "white",
             "startlinecolor": "#2a3f5f"
            },
            "baxis": {
             "endlinecolor": "#2a3f5f",
             "gridcolor": "white",
             "linecolor": "white",
             "minorgridcolor": "white",
             "startlinecolor": "#2a3f5f"
            },
            "type": "carpet"
           }
          ],
          "choropleth": [
           {
            "colorbar": {
             "outlinewidth": 0,
             "ticks": ""
            },
            "type": "choropleth"
           }
          ],
          "contour": [
           {
            "colorbar": {
             "outlinewidth": 0,
             "ticks": ""
            },
            "colorscale": [
             [
              0,
              "#0d0887"
             ],
             [
              0.1111111111111111,
              "#46039f"
             ],
             [
              0.2222222222222222,
              "#7201a8"
             ],
             [
              0.3333333333333333,
              "#9c179e"
             ],
             [
              0.4444444444444444,
              "#bd3786"
             ],
             [
              0.5555555555555556,
              "#d8576b"
             ],
             [
              0.6666666666666666,
              "#ed7953"
             ],
             [
              0.7777777777777778,
              "#fb9f3a"
             ],
             [
              0.8888888888888888,
              "#fdca26"
             ],
             [
              1,
              "#f0f921"
             ]
            ],
            "type": "contour"
           }
          ],
          "contourcarpet": [
           {
            "colorbar": {
             "outlinewidth": 0,
             "ticks": ""
            },
            "type": "contourcarpet"
           }
          ],
          "heatmap": [
           {
            "colorbar": {
             "outlinewidth": 0,
             "ticks": ""
            },
            "colorscale": [
             [
              0,
              "#0d0887"
             ],
             [
              0.1111111111111111,
              "#46039f"
             ],
             [
              0.2222222222222222,
              "#7201a8"
             ],
             [
              0.3333333333333333,
              "#9c179e"
             ],
             [
              0.4444444444444444,
              "#bd3786"
             ],
             [
              0.5555555555555556,
              "#d8576b"
             ],
             [
              0.6666666666666666,
              "#ed7953"
             ],
             [
              0.7777777777777778,
              "#fb9f3a"
             ],
             [
              0.8888888888888888,
              "#fdca26"
             ],
             [
              1,
              "#f0f921"
             ]
            ],
            "type": "heatmap"
           }
          ],
          "heatmapgl": [
           {
            "colorbar": {
             "outlinewidth": 0,
             "ticks": ""
            },
            "colorscale": [
             [
              0,
              "#0d0887"
             ],
             [
              0.1111111111111111,
              "#46039f"
             ],
             [
              0.2222222222222222,
              "#7201a8"
             ],
             [
              0.3333333333333333,
              "#9c179e"
             ],
             [
              0.4444444444444444,
              "#bd3786"
             ],
             [
              0.5555555555555556,
              "#d8576b"
             ],
             [
              0.6666666666666666,
              "#ed7953"
             ],
             [
              0.7777777777777778,
              "#fb9f3a"
             ],
             [
              0.8888888888888888,
              "#fdca26"
             ],
             [
              1,
              "#f0f921"
             ]
            ],
            "type": "heatmapgl"
           }
          ],
          "histogram": [
           {
            "marker": {
             "pattern": {
              "fillmode": "overlay",
              "size": 10,
              "solidity": 0.2
             }
            },
            "type": "histogram"
           }
          ],
          "histogram2d": [
           {
            "colorbar": {
             "outlinewidth": 0,
             "ticks": ""
            },
            "colorscale": [
             [
              0,
              "#0d0887"
             ],
             [
              0.1111111111111111,
              "#46039f"
             ],
             [
              0.2222222222222222,
              "#7201a8"
             ],
             [
              0.3333333333333333,
              "#9c179e"
             ],
             [
              0.4444444444444444,
              "#bd3786"
             ],
             [
              0.5555555555555556,
              "#d8576b"
             ],
             [
              0.6666666666666666,
              "#ed7953"
             ],
             [
              0.7777777777777778,
              "#fb9f3a"
             ],
             [
              0.8888888888888888,
              "#fdca26"
             ],
             [
              1,
              "#f0f921"
             ]
            ],
            "type": "histogram2d"
           }
          ],
          "histogram2dcontour": [
           {
            "colorbar": {
             "outlinewidth": 0,
             "ticks": ""
            },
            "colorscale": [
             [
              0,
              "#0d0887"
             ],
             [
              0.1111111111111111,
              "#46039f"
             ],
             [
              0.2222222222222222,
              "#7201a8"
             ],
             [
              0.3333333333333333,
              "#9c179e"
             ],
             [
              0.4444444444444444,
              "#bd3786"
             ],
             [
              0.5555555555555556,
              "#d8576b"
             ],
             [
              0.6666666666666666,
              "#ed7953"
             ],
             [
              0.7777777777777778,
              "#fb9f3a"
             ],
             [
              0.8888888888888888,
              "#fdca26"
             ],
             [
              1,
              "#f0f921"
             ]
            ],
            "type": "histogram2dcontour"
           }
          ],
          "mesh3d": [
           {
            "colorbar": {
             "outlinewidth": 0,
             "ticks": ""
            },
            "type": "mesh3d"
           }
          ],
          "parcoords": [
           {
            "line": {
             "colorbar": {
              "outlinewidth": 0,
              "ticks": ""
             }
            },
            "type": "parcoords"
           }
          ],
          "pie": [
           {
            "automargin": true,
            "type": "pie"
           }
          ],
          "scatter": [
           {
            "fillpattern": {
             "fillmode": "overlay",
             "size": 10,
             "solidity": 0.2
            },
            "type": "scatter"
           }
          ],
          "scatter3d": [
           {
            "line": {
             "colorbar": {
              "outlinewidth": 0,
              "ticks": ""
             }
            },
            "marker": {
             "colorbar": {
              "outlinewidth": 0,
              "ticks": ""
             }
            },
            "type": "scatter3d"
           }
          ],
          "scattercarpet": [
           {
            "marker": {
             "colorbar": {
              "outlinewidth": 0,
              "ticks": ""
             }
            },
            "type": "scattercarpet"
           }
          ],
          "scattergeo": [
           {
            "marker": {
             "colorbar": {
              "outlinewidth": 0,
              "ticks": ""
             }
            },
            "type": "scattergeo"
           }
          ],
          "scattergl": [
           {
            "marker": {
             "colorbar": {
              "outlinewidth": 0,
              "ticks": ""
             }
            },
            "type": "scattergl"
           }
          ],
          "scattermapbox": [
           {
            "marker": {
             "colorbar": {
              "outlinewidth": 0,
              "ticks": ""
             }
            },
            "type": "scattermapbox"
           }
          ],
          "scatterpolar": [
           {
            "marker": {
             "colorbar": {
              "outlinewidth": 0,
              "ticks": ""
             }
            },
            "type": "scatterpolar"
           }
          ],
          "scatterpolargl": [
           {
            "marker": {
             "colorbar": {
              "outlinewidth": 0,
              "ticks": ""
             }
            },
            "type": "scatterpolargl"
           }
          ],
          "scatterternary": [
           {
            "marker": {
             "colorbar": {
              "outlinewidth": 0,
              "ticks": ""
             }
            },
            "type": "scatterternary"
           }
          ],
          "surface": [
           {
            "colorbar": {
             "outlinewidth": 0,
             "ticks": ""
            },
            "colorscale": [
             [
              0,
              "#0d0887"
             ],
             [
              0.1111111111111111,
              "#46039f"
             ],
             [
              0.2222222222222222,
              "#7201a8"
             ],
             [
              0.3333333333333333,
              "#9c179e"
             ],
             [
              0.4444444444444444,
              "#bd3786"
             ],
             [
              0.5555555555555556,
              "#d8576b"
             ],
             [
              0.6666666666666666,
              "#ed7953"
             ],
             [
              0.7777777777777778,
              "#fb9f3a"
             ],
             [
              0.8888888888888888,
              "#fdca26"
             ],
             [
              1,
              "#f0f921"
             ]
            ],
            "type": "surface"
           }
          ],
          "table": [
           {
            "cells": {
             "fill": {
              "color": "#EBF0F8"
             },
             "line": {
              "color": "white"
             }
            },
            "header": {
             "fill": {
              "color": "#C8D4E3"
             },
             "line": {
              "color": "white"
             }
            },
            "type": "table"
           }
          ]
         },
         "layout": {
          "annotationdefaults": {
           "arrowcolor": "#2a3f5f",
           "arrowhead": 0,
           "arrowwidth": 1
          },
          "autotypenumbers": "strict",
          "coloraxis": {
           "colorbar": {
            "outlinewidth": 0,
            "ticks": ""
           }
          },
          "colorscale": {
           "diverging": [
            [
             0,
             "#8e0152"
            ],
            [
             0.1,
             "#c51b7d"
            ],
            [
             0.2,
             "#de77ae"
            ],
            [
             0.3,
             "#f1b6da"
            ],
            [
             0.4,
             "#fde0ef"
            ],
            [
             0.5,
             "#f7f7f7"
            ],
            [
             0.6,
             "#e6f5d0"
            ],
            [
             0.7,
             "#b8e186"
            ],
            [
             0.8,
             "#7fbc41"
            ],
            [
             0.9,
             "#4d9221"
            ],
            [
             1,
             "#276419"
            ]
           ],
           "sequential": [
            [
             0,
             "#0d0887"
            ],
            [
             0.1111111111111111,
             "#46039f"
            ],
            [
             0.2222222222222222,
             "#7201a8"
            ],
            [
             0.3333333333333333,
             "#9c179e"
            ],
            [
             0.4444444444444444,
             "#bd3786"
            ],
            [
             0.5555555555555556,
             "#d8576b"
            ],
            [
             0.6666666666666666,
             "#ed7953"
            ],
            [
             0.7777777777777778,
             "#fb9f3a"
            ],
            [
             0.8888888888888888,
             "#fdca26"
            ],
            [
             1,
             "#f0f921"
            ]
           ],
           "sequentialminus": [
            [
             0,
             "#0d0887"
            ],
            [
             0.1111111111111111,
             "#46039f"
            ],
            [
             0.2222222222222222,
             "#7201a8"
            ],
            [
             0.3333333333333333,
             "#9c179e"
            ],
            [
             0.4444444444444444,
             "#bd3786"
            ],
            [
             0.5555555555555556,
             "#d8576b"
            ],
            [
             0.6666666666666666,
             "#ed7953"
            ],
            [
             0.7777777777777778,
             "#fb9f3a"
            ],
            [
             0.8888888888888888,
             "#fdca26"
            ],
            [
             1,
             "#f0f921"
            ]
           ]
          },
          "colorway": [
           "#636efa",
           "#EF553B",
           "#00cc96",
           "#ab63fa",
           "#FFA15A",
           "#19d3f3",
           "#FF6692",
           "#B6E880",
           "#FF97FF",
           "#FECB52"
          ],
          "font": {
           "color": "#2a3f5f"
          },
          "geo": {
           "bgcolor": "white",
           "lakecolor": "white",
           "landcolor": "#E5ECF6",
           "showlakes": true,
           "showland": true,
           "subunitcolor": "white"
          },
          "hoverlabel": {
           "align": "left"
          },
          "hovermode": "closest",
          "mapbox": {
           "style": "light"
          },
          "paper_bgcolor": "white",
          "plot_bgcolor": "#E5ECF6",
          "polar": {
           "angularaxis": {
            "gridcolor": "white",
            "linecolor": "white",
            "ticks": ""
           },
           "bgcolor": "#E5ECF6",
           "radialaxis": {
            "gridcolor": "white",
            "linecolor": "white",
            "ticks": ""
           }
          },
          "scene": {
           "xaxis": {
            "backgroundcolor": "#E5ECF6",
            "gridcolor": "white",
            "gridwidth": 2,
            "linecolor": "white",
            "showbackground": true,
            "ticks": "",
            "zerolinecolor": "white"
           },
           "yaxis": {
            "backgroundcolor": "#E5ECF6",
            "gridcolor": "white",
            "gridwidth": 2,
            "linecolor": "white",
            "showbackground": true,
            "ticks": "",
            "zerolinecolor": "white"
           },
           "zaxis": {
            "backgroundcolor": "#E5ECF6",
            "gridcolor": "white",
            "gridwidth": 2,
            "linecolor": "white",
            "showbackground": true,
            "ticks": "",
            "zerolinecolor": "white"
           }
          },
          "shapedefaults": {
           "line": {
            "color": "#2a3f5f"
           }
          },
          "ternary": {
           "aaxis": {
            "gridcolor": "white",
            "linecolor": "white",
            "ticks": ""
           },
           "baxis": {
            "gridcolor": "white",
            "linecolor": "white",
            "ticks": ""
           },
           "bgcolor": "#E5ECF6",
           "caxis": {
            "gridcolor": "white",
            "linecolor": "white",
            "ticks": ""
           }
          },
          "title": {
           "x": 0.05
          },
          "xaxis": {
           "automargin": true,
           "gridcolor": "white",
           "linecolor": "white",
           "ticks": "",
           "title": {
            "standoff": 15
           },
           "zerolinecolor": "white",
           "zerolinewidth": 2
          },
          "yaxis": {
           "automargin": true,
           "gridcolor": "white",
           "linecolor": "white",
           "ticks": "",
           "title": {
            "standoff": 15
           },
           "zerolinecolor": "white",
           "zerolinewidth": 2
          }
         }
        },
        "title": {
         "text": "recalls per Model For New Energy Vehicle"
        },
        "xaxis": {
         "anchor": "y",
         "autorange": true,
         "domain": [
          0,
          1
         ],
         "range": [
          0,
          31.57894736842105
         ],
         "title": {
          "text": "recalls per model"
         },
         "type": "linear"
        },
        "yaxis": {
         "anchor": "x",
         "autorange": true,
         "domain": [
          0,
          1
         ],
         "range": [
          -0.5,
          9.5
         ],
         "title": {
          "text": "Product Makers Name"
         },
         "type": "category"
        }
       }
      },
      "image/png": "[encoded data removed]",
      "text/html": [
       "<div>                            <div id=\"0f9c18a2-cc4d-4f5d-a44e-a3e324c584b4\" class=\"plotly-graph-div\" style=\"height:500px; width:100%;\"></div>            <script type=\"text/javascript\">                require([\"plotly\"], function(Plotly) {                    window.PLOTLYENV=window.PLOTLYENV || {};                                    if (document.getElementById(\"0f9c18a2-cc4d-4f5d-a44e-a3e324c584b4\")) {                    Plotly.newPlot(                        \"0f9c18a2-cc4d-4f5d-a44e-a3e324c584b4\",                        [{\"alignmentgroup\":\"True\",\"hovertemplate\":\"recalls per model=%{x}<br>Product Makers Name=%{y}<extra></extra>\",\"legendgroup\":\"\",\"marker\":{\"color\":\"darkcyan\",\"pattern\":{\"shape\":\"\"}},\"name\":\"\",\"offsetgroup\":\"\",\"orientation\":\"h\",\"showlegend\":false,\"textposition\":\"auto\",\"texttemplate\":\"%{x:}\",\"x\":[30.0,13.7,12.0,10.0,9.0,7.0,6.33,5.0,5.0,4.0],\"xaxis\":\"x\",\"y\":[\"BUICK\",\"FORD\",\"CHRYSLER\",\"LAND ROVER\",\"HARLEY-DAVIDSON\",\"IVECO\",\"CHEVROLET\",\"FOREST RIVER\",\"ACURA\",\"HEIL\"],\"yaxis\":\"y\",\"type\":\"bar\"}],                        {\"template\":{\"data\":{\"histogram2dcontour\":[{\"type\":\"histogram2dcontour\",\"colorbar\":{\"outlinewidth\":0,\"ticks\":\"\"},\"colorscale\":[[0.0,\"#0d0887\"],[0.1111111111111111,\"#46039f\"],[0.2222222222222222,\"#7201a8\"],[0.3333333333333333,\"#9c179e\"],[0.4444444444444444,\"#bd3786\"],[0.5555555555555556,\"#d8576b\"],[0.6666666666666666,\"#ed7953\"],[0.7777777777777778,\"#fb9f3a\"],[0.8888888888888888,\"#fdca26\"],[1.0,\"#f0f921\"]]}],\"choropleth\":[{\"type\":\"choropleth\",\"colorbar\":{\"outlinewidth\":0,\"ticks\":\"\"}}],\"histogram2d\":[{\"type\":\"histogram2d\",\"colorbar\":{\"outlinewidth\":0,\"ticks\":\"\"},\"colorscale\":[[0.0,\"#0d0887\"],[0.1111111111111111,\"#46039f\"],[0.2222222222222222,\"#7201a8\"],[0.3333333333333333,\"#9c179e\"],[0.4444444444444444,\"#bd3786\"],[0.5555555555555556,\"#d8576b\"],[0.6666666666666666,\"#ed7953\"],[0.7777777777777778,\"#fb9f3a\"],[0.8888888888888888,\"#fdca26\"],[1.0,\"#f0f921\"]]}],\"heatmap\":[{\"type\":\"heatmap\",\"colorbar\":{\"outlinewidth\":0,\"ticks\":\"\"},\"colorscale\":[[0.0,\"#0d0887\"],[0.1111111111111111,\"#46039f\"],[0.2222222222222222,\"#7201a8\"],[0.3333333333333333,\"#9c179e\"],[0.4444444444444444,\"#bd3786\"],[0.5555555555555556,\"#d8576b\"],[0.6666666666666666,\"#ed7953\"],[0.7777777777777778,\"#fb9f3a\"],[0.8888888888888888,\"#fdca26\"],[1.0,\"#f0f921\"]]}],\"heatmapgl\":[{\"type\":\"heatmapgl\",\"colorbar\":{\"outlinewidth\":0,\"ticks\":\"\"},\"colorscale\":[[0.0,\"#0d0887\"],[0.1111111111111111,\"#46039f\"],[0.2222222222222222,\"#7201a8\"],[0.3333333333333333,\"#9c179e\"],[0.4444444444444444,\"#bd3786\"],[0.5555555555555556,\"#d8576b\"],[0.6666666666666666,\"#ed7953\"],[0.7777777777777778,\"#fb9f3a\"],[0.8888888888888888,\"#fdca26\"],[1.0,\"#f0f921\"]]}],\"contourcarpet\":[{\"type\":\"contourcarpet\",\"colorbar\":{\"outlinewidth\":0,\"ticks\":\"\"}}],\"contour\":[{\"type\":\"contour\",\"colorbar\":{\"outlinewidth\":0,\"ticks\":\"\"},\"colorscale\":[[0.0,\"#0d0887\"],[0.1111111111111111,\"#46039f\"],[0.2222222222222222,\"#7201a8\"],[0.3333333333333333,\"#9c179e\"],[0.4444444444444444,\"#bd3786\"],[0.5555555555555556,\"#d8576b\"],[0.6666666666666666,\"#ed7953\"],[0.7777777777777778,\"#fb9f3a\"],[0.8888888888888888,\"#fdca26\"],[1.0,\"#f0f921\"]]}],\"surface\":[{\"type\":\"surface\",\"colorbar\":{\"outlinewidth\":0,\"ticks\":\"\"},\"colorscale\":[[0.0,\"#0d0887\"],[0.1111111111111111,\"#46039f\"],[0.2222222222222222,\"#7201a8\"],[0.3333333333333333,\"#9c179e\"],[0.4444444444444444,\"#bd3786\"],[0.5555555555555556,\"#d8576b\"],[0.6666666666666666,\"#ed7953\"],[0.7777777777777778,\"#fb9f3a\"],[0.8888888888888888,\"#fdca26\"],[1.0,\"#f0f921\"]]}],\"mesh3d\":[{\"type\":\"mesh3d\",\"colorbar\":{\"outlinewidth\":0,\"ticks\":\"\"}}],\"scatter\":[{\"fillpattern\":{\"fillmode\":\"overlay\",\"size\":10,\"solidity\":0.2},\"type\":\"scatter\"}],\"parcoords\":[{\"type\":\"parcoords\",\"line\":{\"colorbar\":{\"outlinewidth\":0,\"ticks\":\"\"}}}],\"scatterpolargl\":[{\"type\":\"scatterpolargl\",\"marker\":{\"colorbar\":{\"outlinewidth\":0,\"ticks\":\"\"}}}],\"bar\":[{\"error_x\":{\"color\":\"#2a3f5f\"},\"error_y\":{\"color\":\"#2a3f5f\"},\"marker\":{\"line\":{\"color\":\"#E5ECF6\",\"width\":0.5},\"pattern\":{\"fillmode\":\"overlay\",\"size\":10,\"solidity\":0.2}},\"type\":\"bar\"}],\"scattergeo\":[{\"type\":\"scattergeo\",\"marker\":{\"colorbar\":{\"outlinewidth\":0,\"ticks\":\"\"}}}],\"scatterpolar\":[{\"type\":\"scatterpolar\",\"marker\":{\"colorbar\":{\"outlinewidth\":0,\"ticks\":\"\"}}}],\"histogram\":[{\"marker\":{\"pattern\":{\"fillmode\":\"overlay\",\"size\":10,\"solidity\":0.2}},\"type\":\"histogram\"}],\"scattergl\":[{\"type\":\"scattergl\",\"marker\":{\"colorbar\":{\"outlinewidth\":0,\"ticks\":\"\"}}}],\"scatter3d\":[{\"type\":\"scatter3d\",\"line\":{\"colorbar\":{\"outlinewidth\":0,\"ticks\":\"\"}},\"marker\":{\"colorbar\":{\"outlinewidth\":0,\"ticks\":\"\"}}}],\"scattermapbox\":[{\"type\":\"scattermapbox\",\"marker\":{\"colorbar\":{\"outlinewidth\":0,\"ticks\":\"\"}}}],\"scatterternary\":[{\"type\":\"scatterternary\",\"marker\":{\"colorbar\":{\"outlinewidth\":0,\"ticks\":\"\"}}}],\"scattercarpet\":[{\"type\":\"scattercarpet\",\"marker\":{\"colorbar\":{\"outlinewidth\":0,\"ticks\":\"\"}}}],\"carpet\":[{\"aaxis\":{\"endlinecolor\":\"#2a3f5f\",\"gridcolor\":\"white\",\"linecolor\":\"white\",\"minorgridcolor\":\"white\",\"startlinecolor\":\"#2a3f5f\"},\"baxis\":{\"endlinecolor\":\"#2a3f5f\",\"gridcolor\":\"white\",\"linecolor\":\"white\",\"minorgridcolor\":\"white\",\"startlinecolor\":\"#2a3f5f\"},\"type\":\"carpet\"}],\"table\":[{\"cells\":{\"fill\":{\"color\":\"#EBF0F8\"},\"line\":{\"color\":\"white\"}},\"header\":{\"fill\":{\"color\":\"#C8D4E3\"},\"line\":{\"color\":\"white\"}},\"type\":\"table\"}],\"barpolar\":[{\"marker\":{\"line\":{\"color\":\"#E5ECF6\",\"width\":0.5},\"pattern\":{\"fillmode\":\"overlay\",\"size\":10,\"solidity\":0.2}},\"type\":\"barpolar\"}],\"pie\":[{\"automargin\":true,\"type\":\"pie\"}]},\"layout\":{\"autotypenumbers\":\"strict\",\"colorway\":[\"#636efa\",\"#EF553B\",\"#00cc96\",\"#ab63fa\",\"#FFA15A\",\"#19d3f3\",\"#FF6692\",\"#B6E880\",\"#FF97FF\",\"#FECB52\"],\"font\":{\"color\":\"#2a3f5f\"},\"hovermode\":\"closest\",\"hoverlabel\":{\"align\":\"left\"},\"paper_bgcolor\":\"white\",\"plot_bgcolor\":\"#E5ECF6\",\"polar\":{\"bgcolor\":\"#E5ECF6\",\"angularaxis\":{\"gridcolor\":\"white\",\"linecolor\":\"white\",\"ticks\":\"\"},\"radialaxis\":{\"gridcolor\":\"white\",\"linecolor\":\"white\",\"ticks\":\"\"}},\"ternary\":{\"bgcolor\":\"#E5ECF6\",\"aaxis\":{\"gridcolor\":\"white\",\"linecolor\":\"white\",\"ticks\":\"\"},\"baxis\":{\"gridcolor\":\"white\",\"linecolor\":\"white\",\"ticks\":\"\"},\"caxis\":{\"gridcolor\":\"white\",\"linecolor\":\"white\",\"ticks\":\"\"}},\"coloraxis\":{\"colorbar\":{\"outlinewidth\":0,\"ticks\":\"\"}},\"colorscale\":{\"sequential\":[[0.0,\"#0d0887\"],[0.1111111111111111,\"#46039f\"],[0.2222222222222222,\"#7201a8\"],[0.3333333333333333,\"#9c179e\"],[0.4444444444444444,\"#bd3786\"],[0.5555555555555556,\"#d8576b\"],[0.6666666666666666,\"#ed7953\"],[0.7777777777777778,\"#fb9f3a\"],[0.8888888888888888,\"#fdca26\"],[1.0,\"#f0f921\"]],\"sequentialminus\":[[0.0,\"#0d0887\"],[0.1111111111111111,\"#46039f\"],[0.2222222222222222,\"#7201a8\"],[0.3333333333333333,\"#9c179e\"],[0.4444444444444444,\"#bd3786\"],[0.5555555555555556,\"#d8576b\"],[0.6666666666666666,\"#ed7953\"],[0.7777777777777778,\"#fb9f3a\"],[0.8888888888888888,\"#fdca26\"],[1.0,\"#f0f921\"]],\"diverging\":[[0,\"#8e0152\"],[0.1,\"#c51b7d\"],[0.2,\"#de77ae\"],[0.3,\"#f1b6da\"],[0.4,\"#fde0ef\"],[0.5,\"#f7f7f7\"],[0.6,\"#e6f5d0\"],[0.7,\"#b8e186\"],[0.8,\"#7fbc41\"],[0.9,\"#4d9221\"],[1,\"#276419\"]]},\"xaxis\":{\"gridcolor\":\"white\",\"linecolor\":\"white\",\"ticks\":\"\",\"title\":{\"standoff\":15},\"zerolinecolor\":\"white\",\"automargin\":true,\"zerolinewidth\":2},\"yaxis\":{\"gridcolor\":\"white\",\"linecolor\":\"white\",\"ticks\":\"\",\"title\":{\"standoff\":15},\"zerolinecolor\":\"white\",\"automargin\":true,\"zerolinewidth\":2},\"scene\":{\"xaxis\":{\"backgroundcolor\":\"#E5ECF6\",\"gridcolor\":\"white\",\"linecolor\":\"white\",\"showbackground\":true,\"ticks\":\"\",\"zerolinecolor\":\"white\",\"gridwidth\":2},\"yaxis\":{\"backgroundcolor\":\"#E5ECF6\",\"gridcolor\":\"white\",\"linecolor\":\"white\",\"showbackground\":true,\"ticks\":\"\",\"zerolinecolor\":\"white\",\"gridwidth\":2},\"zaxis\":{\"backgroundcolor\":\"#E5ECF6\",\"gridcolor\":\"white\",\"linecolor\":\"white\",\"showbackground\":true,\"ticks\":\"\",\"zerolinecolor\":\"white\",\"gridwidth\":2}},\"shapedefaults\":{\"line\":{\"color\":\"#2a3f5f\"}},\"annotationdefaults\":{\"arrowcolor\":\"#2a3f5f\",\"arrowhead\":0,\"arrowwidth\":1},\"geo\":{\"bgcolor\":\"white\",\"landcolor\":\"#E5ECF6\",\"subunitcolor\":\"white\",\"showland\":true,\"showlakes\":true,\"lakecolor\":\"white\"},\"title\":{\"x\":0.05},\"mapbox\":{\"style\":\"light\"}}},\"xaxis\":{\"anchor\":\"y\",\"domain\":[0.0,1.0],\"title\":{\"text\":\"recalls per model\"}},\"yaxis\":{\"anchor\":\"x\",\"domain\":[0.0,1.0],\"title\":{\"text\":\"Product Makers Name\"}},\"legend\":{\"tracegroupgap\":0},\"title\":{\"text\":\"recalls per Model For New Energy Vehicle\"},\"barmode\":\"relative\",\"height\":500},                        {\"responsive\": true}                    ).then(function(){\n",
       "                            \n",
       "var gd = document.getElementById('0f9c18a2-cc4d-4f5d-a44e-a3e324c584b4');\n",
       "var x = new MutationObserver(function (mutations, observer) {{\n",
       "        var display = window.getComputedStyle(gd).display;\n",
       "        if (!display || display === 'none') {{\n",
       "            console.log([gd, 'removed!']);\n",
       "            Plotly.purge(gd);\n",
       "            observer.disconnect();\n",
       "        }}\n",
       "}});\n",
       "\n",
       "// Listen for the removal of the full notebook cells\n",
       "var notebookContainer = gd.closest('#notebook-container');\n",
       "if (notebookContainer) {{\n",
       "    x.observe(notebookContainer, {childList: true});\n",
       "}}\n",
       "\n",
       "// Listen for the clearing of the current output cell\n",
       "var outputEl = gd.closest('.output');\n",
       "if (outputEl) {{\n",
       "    x.observe(outputEl, {childList: true});\n",
       "}}\n",
       "\n",
       "                        })                };                });            </script>        </div>"
      ]
     },
     "metadata": {},
     "output_type": "display_data"
    },
    {
     "data": {
      "application/vnd.plotly.v1+json": {
       "config": {
        "plotlyServerURL": "https://plot.ly"
       },
       "data": [
        {
         "alignmentgroup": "True",
         "hovertemplate": "recalls per model=%{x}<br>Product Makers Name=%{y}<extra></extra>",
         "legendgroup": "",
         "marker": {
          "color": "darkorange",
          "pattern": {
           "shape": ""
          }
         },
         "name": "",
         "offsetgroup": "",
         "orientation": "h",
         "showlegend": false,
         "textposition": "auto",
         "texttemplate": "%{x:}",
         "type": "bar",
         "x": [
          34,
          34,
          29.5,
          27,
          26.12,
          22.39,
          22.22,
          21,
          20.57,
          19.6
         ],
         "xaxis": "x",
         "y": [
          "THOMAS BUILT BUSES",
          "ACURA",
          "TESLA",
          "CORBEIL",
          "BLUE BIRD",
          "AUDI",
          "BUICK",
          "ARCIMOTO",
          "RAM",
          "IC BUS"
         ],
         "yaxis": "y"
        }
       ],
       "layout": {
        "autosize": true,
        "barmode": "relative",
        "legend": {
         "tracegroupgap": 0
        },
        "template": {
         "data": {
          "bar": [
           {
            "error_x": {
             "color": "#2a3f5f"
            },
            "error_y": {
             "color": "#2a3f5f"
            },
            "marker": {
             "line": {
              "color": "#E5ECF6",
              "width": 0.5
             },
             "pattern": {
              "fillmode": "overlay",
              "size": 10,
              "solidity": 0.2
             }
            },
            "type": "bar"
           }
          ],
          "barpolar": [
           {
            "marker": {
             "line": {
              "color": "#E5ECF6",
              "width": 0.5
             },
             "pattern": {
              "fillmode": "overlay",
              "size": 10,
              "solidity": 0.2
             }
            },
            "type": "barpolar"
           }
          ],
          "carpet": [
           {
            "aaxis": {
             "endlinecolor": "#2a3f5f",
             "gridcolor": "white",
             "linecolor": "white",
             "minorgridcolor": "white",
             "startlinecolor": "#2a3f5f"
            },
            "baxis": {
             "endlinecolor": "#2a3f5f",
             "gridcolor": "white",
             "linecolor": "white",
             "minorgridcolor": "white",
             "startlinecolor": "#2a3f5f"
            },
            "type": "carpet"
           }
          ],
          "choropleth": [
           {
            "colorbar": {
             "outlinewidth": 0,
             "ticks": ""
            },
            "type": "choropleth"
           }
          ],
          "contour": [
           {
            "colorbar": {
             "outlinewidth": 0,
             "ticks": ""
            },
            "colorscale": [
             [
              0,
              "#0d0887"
             ],
             [
              0.1111111111111111,
              "#46039f"
             ],
             [
              0.2222222222222222,
              "#7201a8"
             ],
             [
              0.3333333333333333,
              "#9c179e"
             ],
             [
              0.4444444444444444,
              "#bd3786"
             ],
             [
              0.5555555555555556,
              "#d8576b"
             ],
             [
              0.6666666666666666,
              "#ed7953"
             ],
             [
              0.7777777777777778,
              "#fb9f3a"
             ],
             [
              0.8888888888888888,
              "#fdca26"
             ],
             [
              1,
              "#f0f921"
             ]
            ],
            "type": "contour"
           }
          ],
          "contourcarpet": [
           {
            "colorbar": {
             "outlinewidth": 0,
             "ticks": ""
            },
            "type": "contourcarpet"
           }
          ],
          "heatmap": [
           {
            "colorbar": {
             "outlinewidth": 0,
             "ticks": ""
            },
            "colorscale": [
             [
              0,
              "#0d0887"
             ],
             [
              0.1111111111111111,
              "#46039f"
             ],
             [
              0.2222222222222222,
              "#7201a8"
             ],
             [
              0.3333333333333333,
              "#9c179e"
             ],
             [
              0.4444444444444444,
              "#bd3786"
             ],
             [
              0.5555555555555556,
              "#d8576b"
             ],
             [
              0.6666666666666666,
              "#ed7953"
             ],
             [
              0.7777777777777778,
              "#fb9f3a"
             ],
             [
              0.8888888888888888,
              "#fdca26"
             ],
             [
              1,
              "#f0f921"
             ]
            ],
            "type": "heatmap"
           }
          ],
          "heatmapgl": [
           {
            "colorbar": {
             "outlinewidth": 0,
             "ticks": ""
            },
            "colorscale": [
             [
              0,
              "#0d0887"
             ],
             [
              0.1111111111111111,
              "#46039f"
             ],
             [
              0.2222222222222222,
              "#7201a8"
             ],
             [
              0.3333333333333333,
              "#9c179e"
             ],
             [
              0.4444444444444444,
              "#bd3786"
             ],
             [
              0.5555555555555556,
              "#d8576b"
             ],
             [
              0.6666666666666666,
              "#ed7953"
             ],
             [
              0.7777777777777778,
              "#fb9f3a"
             ],
             [
              0.8888888888888888,
              "#fdca26"
             ],
             [
              1,
              "#f0f921"
             ]
            ],
            "type": "heatmapgl"
           }
          ],
          "histogram": [
           {
            "marker": {
             "pattern": {
              "fillmode": "overlay",
              "size": 10,
              "solidity": 0.2
             }
            },
            "type": "histogram"
           }
          ],
          "histogram2d": [
           {
            "colorbar": {
             "outlinewidth": 0,
             "ticks": ""
            },
            "colorscale": [
             [
              0,
              "#0d0887"
             ],
             [
              0.1111111111111111,
              "#46039f"
             ],
             [
              0.2222222222222222,
              "#7201a8"
             ],
             [
              0.3333333333333333,
              "#9c179e"
             ],
             [
              0.4444444444444444,
              "#bd3786"
             ],
             [
              0.5555555555555556,
              "#d8576b"
             ],
             [
              0.6666666666666666,
              "#ed7953"
             ],
             [
              0.7777777777777778,
              "#fb9f3a"
             ],
             [
              0.8888888888888888,
              "#fdca26"
             ],
             [
              1,
              "#f0f921"
             ]
            ],
            "type": "histogram2d"
           }
          ],
          "histogram2dcontour": [
           {
            "colorbar": {
             "outlinewidth": 0,
             "ticks": ""
            },
            "colorscale": [
             [
              0,
              "#0d0887"
             ],
             [
              0.1111111111111111,
              "#46039f"
             ],
             [
              0.2222222222222222,
              "#7201a8"
             ],
             [
              0.3333333333333333,
              "#9c179e"
             ],
             [
              0.4444444444444444,
              "#bd3786"
             ],
             [
              0.5555555555555556,
              "#d8576b"
             ],
             [
              0.6666666666666666,
              "#ed7953"
             ],
             [
              0.7777777777777778,
              "#fb9f3a"
             ],
             [
              0.8888888888888888,
              "#fdca26"
             ],
             [
              1,
              "#f0f921"
             ]
            ],
            "type": "histogram2dcontour"
           }
          ],
          "mesh3d": [
           {
            "colorbar": {
             "outlinewidth": 0,
             "ticks": ""
            },
            "type": "mesh3d"
           }
          ],
          "parcoords": [
           {
            "line": {
             "colorbar": {
              "outlinewidth": 0,
              "ticks": ""
             }
            },
            "type": "parcoords"
           }
          ],
          "pie": [
           {
            "automargin": true,
            "type": "pie"
           }
          ],
          "scatter": [
           {
            "fillpattern": {
             "fillmode": "overlay",
             "size": 10,
             "solidity": 0.2
            },
            "type": "scatter"
           }
          ],
          "scatter3d": [
           {
            "line": {
             "colorbar": {
              "outlinewidth": 0,
              "ticks": ""
             }
            },
            "marker": {
             "colorbar": {
              "outlinewidth": 0,
              "ticks": ""
             }
            },
            "type": "scatter3d"
           }
          ],
          "scattercarpet": [
           {
            "marker": {
             "colorbar": {
              "outlinewidth": 0,
              "ticks": ""
             }
            },
            "type": "scattercarpet"
           }
          ],
          "scattergeo": [
           {
            "marker": {
             "colorbar": {
              "outlinewidth": 0,
              "ticks": ""
             }
            },
            "type": "scattergeo"
           }
          ],
          "scattergl": [
           {
            "marker": {
             "colorbar": {
              "outlinewidth": 0,
              "ticks": ""
             }
            },
            "type": "scattergl"
           }
          ],
          "scattermapbox": [
           {
            "marker": {
             "colorbar": {
              "outlinewidth": 0,
              "ticks": ""
             }
            },
            "type": "scattermapbox"
           }
          ],
          "scatterpolar": [
           {
            "marker": {
             "colorbar": {
              "outlinewidth": 0,
              "ticks": ""
             }
            },
            "type": "scatterpolar"
           }
          ],
          "scatterpolargl": [
           {
            "marker": {
             "colorbar": {
              "outlinewidth": 0,
              "ticks": ""
             }
            },
            "type": "scatterpolargl"
           }
          ],
          "scatterternary": [
           {
            "marker": {
             "colorbar": {
              "outlinewidth": 0,
              "ticks": ""
             }
            },
            "type": "scatterternary"
           }
          ],
          "surface": [
           {
            "colorbar": {
             "outlinewidth": 0,
             "ticks": ""
            },
            "colorscale": [
             [
              0,
              "#0d0887"
             ],
             [
              0.1111111111111111,
              "#46039f"
             ],
             [
              0.2222222222222222,
              "#7201a8"
             ],
             [
              0.3333333333333333,
              "#9c179e"
             ],
             [
              0.4444444444444444,
              "#bd3786"
             ],
             [
              0.5555555555555556,
              "#d8576b"
             ],
             [
              0.6666666666666666,
              "#ed7953"
             ],
             [
              0.7777777777777778,
              "#fb9f3a"
             ],
             [
              0.8888888888888888,
              "#fdca26"
             ],
             [
              1,
              "#f0f921"
             ]
            ],
            "type": "surface"
           }
          ],
          "table": [
           {
            "cells": {
             "fill": {
              "color": "#EBF0F8"
             },
             "line": {
              "color": "white"
             }
            },
            "header": {
             "fill": {
              "color": "#C8D4E3"
             },
             "line": {
              "color": "white"
             }
            },
            "type": "table"
           }
          ]
         },
         "layout": {
          "annotationdefaults": {
           "arrowcolor": "#2a3f5f",
           "arrowhead": 0,
           "arrowwidth": 1
          },
          "autotypenumbers": "strict",
          "coloraxis": {
           "colorbar": {
            "outlinewidth": 0,
            "ticks": ""
           }
          },
          "colorscale": {
           "diverging": [
            [
             0,
             "#8e0152"
            ],
            [
             0.1,
             "#c51b7d"
            ],
            [
             0.2,
             "#de77ae"
            ],
            [
             0.3,
             "#f1b6da"
            ],
            [
             0.4,
             "#fde0ef"
            ],
            [
             0.5,
             "#f7f7f7"
            ],
            [
             0.6,
             "#e6f5d0"
            ],
            [
             0.7,
             "#b8e186"
            ],
            [
             0.8,
             "#7fbc41"
            ],
            [
             0.9,
             "#4d9221"
            ],
            [
             1,
             "#276419"
            ]
           ],
           "sequential": [
            [
             0,
             "#0d0887"
            ],
            [
             0.1111111111111111,
             "#46039f"
            ],
            [
             0.2222222222222222,
             "#7201a8"
            ],
            [
             0.3333333333333333,
             "#9c179e"
            ],
            [
             0.4444444444444444,
             "#bd3786"
            ],
            [
             0.5555555555555556,
             "#d8576b"
            ],
            [
             0.6666666666666666,
             "#ed7953"
            ],
            [
             0.7777777777777778,
             "#fb9f3a"
            ],
            [
             0.8888888888888888,
             "#fdca26"
            ],
            [
             1,
             "#f0f921"
            ]
           ],
           "sequentialminus": [
            [
             0,
             "#0d0887"
            ],
            [
             0.1111111111111111,
             "#46039f"
            ],
            [
             0.2222222222222222,
             "#7201a8"
            ],
            [
             0.3333333333333333,
             "#9c179e"
            ],
            [
             0.4444444444444444,
             "#bd3786"
            ],
            [
             0.5555555555555556,
             "#d8576b"
            ],
            [
             0.6666666666666666,
             "#ed7953"
            ],
            [
             0.7777777777777778,
             "#fb9f3a"
            ],
            [
             0.8888888888888888,
             "#fdca26"
            ],
            [
             1,
             "#f0f921"
            ]
           ]
          },
          "colorway": [
           "#636efa",
           "#EF553B",
           "#00cc96",
           "#ab63fa",
           "#FFA15A",
           "#19d3f3",
           "#FF6692",
           "#B6E880",
           "#FF97FF",
           "#FECB52"
          ],
          "font": {
           "color": "#2a3f5f"
          },
          "geo": {
           "bgcolor": "white",
           "lakecolor": "white",
           "landcolor": "#E5ECF6",
           "showlakes": true,
           "showland": true,
           "subunitcolor": "white"
          },
          "hoverlabel": {
           "align": "left"
          },
          "hovermode": "closest",
          "mapbox": {
           "style": "light"
          },
          "paper_bgcolor": "white",
          "plot_bgcolor": "#E5ECF6",
          "polar": {
           "angularaxis": {
            "gridcolor": "white",
            "linecolor": "white",
            "ticks": ""
           },
           "bgcolor": "#E5ECF6",
           "radialaxis": {
            "gridcolor": "white",
            "linecolor": "white",
            "ticks": ""
           }
          },
          "scene": {
           "xaxis": {
            "backgroundcolor": "#E5ECF6",
            "gridcolor": "white",
            "gridwidth": 2,
            "linecolor": "white",
            "showbackground": true,
            "ticks": "",
            "zerolinecolor": "white"
           },
           "yaxis": {
            "backgroundcolor": "#E5ECF6",
            "gridcolor": "white",
            "gridwidth": 2,
            "linecolor": "white",
            "showbackground": true,
            "ticks": "",
            "zerolinecolor": "white"
           },
           "zaxis": {
            "backgroundcolor": "#E5ECF6",
            "gridcolor": "white",
            "gridwidth": 2,
            "linecolor": "white",
            "showbackground": true,
            "ticks": "",
            "zerolinecolor": "white"
           }
          },
          "shapedefaults": {
           "line": {
            "color": "#2a3f5f"
           }
          },
          "ternary": {
           "aaxis": {
            "gridcolor": "white",
            "linecolor": "white",
            "ticks": ""
           },
           "baxis": {
            "gridcolor": "white",
            "linecolor": "white",
            "ticks": ""
           },
           "bgcolor": "#E5ECF6",
           "caxis": {
            "gridcolor": "white",
            "linecolor": "white",
            "ticks": ""
           }
          },
          "title": {
           "x": 0.05
          },
          "xaxis": {
           "automargin": true,
           "gridcolor": "white",
           "linecolor": "white",
           "ticks": "",
           "title": {
            "standoff": 15
           },
           "zerolinecolor": "white",
           "zerolinewidth": 2
          },
          "yaxis": {
           "automargin": true,
           "gridcolor": "white",
           "linecolor": "white",
           "ticks": "",
           "title": {
            "standoff": 15
           },
           "zerolinecolor": "white",
           "zerolinewidth": 2
          }
         }
        },
        "title": {
         "text": "recalls per Model For Traditional Vehicle"
        },
        "xaxis": {
         "anchor": "y",
         "autorange": true,
         "domain": [
          0,
          1
         ],
         "range": [
          0,
          35.78947368421053
         ],
         "title": {
          "text": "recalls per model"
         },
         "type": "linear"
        },
        "yaxis": {
         "anchor": "x",
         "autorange": true,
         "domain": [
          0,
          1
         ],
         "range": [
          -0.5,
          9.5
         ],
         "title": {
          "text": "Product Makers Name"
         },
         "type": "category"
        }
       }
      },
      "image/png": "[encoded data removed]",
      "text/html": [
       "<div>                            <div id=\"6bd0665d-37d6-4520-9fd2-2b70dedd06cc\" class=\"plotly-graph-div\" style=\"height:500px; width:100%;\"></div>            <script type=\"text/javascript\">                require([\"plotly\"], function(Plotly) {                    window.PLOTLYENV=window.PLOTLYENV || {};                                    if (document.getElementById(\"6bd0665d-37d6-4520-9fd2-2b70dedd06cc\")) {                    Plotly.newPlot(                        \"6bd0665d-37d6-4520-9fd2-2b70dedd06cc\",                        [{\"alignmentgroup\":\"True\",\"hovertemplate\":\"recalls per model=%{x}<br>Product Makers Name=%{y}<extra></extra>\",\"legendgroup\":\"\",\"marker\":{\"color\":\"darkorange\",\"pattern\":{\"shape\":\"\"}},\"name\":\"\",\"offsetgroup\":\"\",\"orientation\":\"h\",\"showlegend\":false,\"textposition\":\"auto\",\"texttemplate\":\"%{x:}\",\"x\":[34.0,34.0,29.5,27.0,26.12,22.39,22.22,21.0,20.57,19.6],\"xaxis\":\"x\",\"y\":[\"THOMAS BUILT BUSES\",\"ACURA\",\"TESLA\",\"CORBEIL\",\"BLUE BIRD\",\"AUDI\",\"BUICK\",\"ARCIMOTO\",\"RAM\",\"IC BUS\"],\"yaxis\":\"y\",\"type\":\"bar\"}],                        {\"template\":{\"data\":{\"histogram2dcontour\":[{\"type\":\"histogram2dcontour\",\"colorbar\":{\"outlinewidth\":0,\"ticks\":\"\"},\"colorscale\":[[0.0,\"#0d0887\"],[0.1111111111111111,\"#46039f\"],[0.2222222222222222,\"#7201a8\"],[0.3333333333333333,\"#9c179e\"],[0.4444444444444444,\"#bd3786\"],[0.5555555555555556,\"#d8576b\"],[0.6666666666666666,\"#ed7953\"],[0.7777777777777778,\"#fb9f3a\"],[0.8888888888888888,\"#fdca26\"],[1.0,\"#f0f921\"]]}],\"choropleth\":[{\"type\":\"choropleth\",\"colorbar\":{\"outlinewidth\":0,\"ticks\":\"\"}}],\"histogram2d\":[{\"type\":\"histogram2d\",\"colorbar\":{\"outlinewidth\":0,\"ticks\":\"\"},\"colorscale\":[[0.0,\"#0d0887\"],[0.1111111111111111,\"#46039f\"],[0.2222222222222222,\"#7201a8\"],[0.3333333333333333,\"#9c179e\"],[0.4444444444444444,\"#bd3786\"],[0.5555555555555556,\"#d8576b\"],[0.6666666666666666,\"#ed7953\"],[0.7777777777777778,\"#fb9f3a\"],[0.8888888888888888,\"#fdca26\"],[1.0,\"#f0f921\"]]}],\"heatmap\":[{\"type\":\"heatmap\",\"colorbar\":{\"outlinewidth\":0,\"ticks\":\"\"},\"colorscale\":[[0.0,\"#0d0887\"],[0.1111111111111111,\"#46039f\"],[0.2222222222222222,\"#7201a8\"],[0.3333333333333333,\"#9c179e\"],[0.4444444444444444,\"#bd3786\"],[0.5555555555555556,\"#d8576b\"],[0.6666666666666666,\"#ed7953\"],[0.7777777777777778,\"#fb9f3a\"],[0.8888888888888888,\"#fdca26\"],[1.0,\"#f0f921\"]]}],\"heatmapgl\":[{\"type\":\"heatmapgl\",\"colorbar\":{\"outlinewidth\":0,\"ticks\":\"\"},\"colorscale\":[[0.0,\"#0d0887\"],[0.1111111111111111,\"#46039f\"],[0.2222222222222222,\"#7201a8\"],[0.3333333333333333,\"#9c179e\"],[0.4444444444444444,\"#bd3786\"],[0.5555555555555556,\"#d8576b\"],[0.6666666666666666,\"#ed7953\"],[0.7777777777777778,\"#fb9f3a\"],[0.8888888888888888,\"#fdca26\"],[1.0,\"#f0f921\"]]}],\"contourcarpet\":[{\"type\":\"contourcarpet\",\"colorbar\":{\"outlinewidth\":0,\"ticks\":\"\"}}],\"contour\":[{\"type\":\"contour\",\"colorbar\":{\"outlinewidth\":0,\"ticks\":\"\"},\"colorscale\":[[0.0,\"#0d0887\"],[0.1111111111111111,\"#46039f\"],[0.2222222222222222,\"#7201a8\"],[0.3333333333333333,\"#9c179e\"],[0.4444444444444444,\"#bd3786\"],[0.5555555555555556,\"#d8576b\"],[0.6666666666666666,\"#ed7953\"],[0.7777777777777778,\"#fb9f3a\"],[0.8888888888888888,\"#fdca26\"],[1.0,\"#f0f921\"]]}],\"surface\":[{\"type\":\"surface\",\"colorbar\":{\"outlinewidth\":0,\"ticks\":\"\"},\"colorscale\":[[0.0,\"#0d0887\"],[0.1111111111111111,\"#46039f\"],[0.2222222222222222,\"#7201a8\"],[0.3333333333333333,\"#9c179e\"],[0.4444444444444444,\"#bd3786\"],[0.5555555555555556,\"#d8576b\"],[0.6666666666666666,\"#ed7953\"],[0.7777777777777778,\"#fb9f3a\"],[0.8888888888888888,\"#fdca26\"],[1.0,\"#f0f921\"]]}],\"mesh3d\":[{\"type\":\"mesh3d\",\"colorbar\":{\"outlinewidth\":0,\"ticks\":\"\"}}],\"scatter\":[{\"fillpattern\":{\"fillmode\":\"overlay\",\"size\":10,\"solidity\":0.2},\"type\":\"scatter\"}],\"parcoords\":[{\"type\":\"parcoords\",\"line\":{\"colorbar\":{\"outlinewidth\":0,\"ticks\":\"\"}}}],\"scatterpolargl\":[{\"type\":\"scatterpolargl\",\"marker\":{\"colorbar\":{\"outlinewidth\":0,\"ticks\":\"\"}}}],\"bar\":[{\"error_x\":{\"color\":\"#2a3f5f\"},\"error_y\":{\"color\":\"#2a3f5f\"},\"marker\":{\"line\":{\"color\":\"#E5ECF6\",\"width\":0.5},\"pattern\":{\"fillmode\":\"overlay\",\"size\":10,\"solidity\":0.2}},\"type\":\"bar\"}],\"scattergeo\":[{\"type\":\"scattergeo\",\"marker\":{\"colorbar\":{\"outlinewidth\":0,\"ticks\":\"\"}}}],\"scatterpolar\":[{\"type\":\"scatterpolar\",\"marker\":{\"colorbar\":{\"outlinewidth\":0,\"ticks\":\"\"}}}],\"histogram\":[{\"marker\":{\"pattern\":{\"fillmode\":\"overlay\",\"size\":10,\"solidity\":0.2}},\"type\":\"histogram\"}],\"scattergl\":[{\"type\":\"scattergl\",\"marker\":{\"colorbar\":{\"outlinewidth\":0,\"ticks\":\"\"}}}],\"scatter3d\":[{\"type\":\"scatter3d\",\"line\":{\"colorbar\":{\"outlinewidth\":0,\"ticks\":\"\"}},\"marker\":{\"colorbar\":{\"outlinewidth\":0,\"ticks\":\"\"}}}],\"scattermapbox\":[{\"type\":\"scattermapbox\",\"marker\":{\"colorbar\":{\"outlinewidth\":0,\"ticks\":\"\"}}}],\"scatterternary\":[{\"type\":\"scatterternary\",\"marker\":{\"colorbar\":{\"outlinewidth\":0,\"ticks\":\"\"}}}],\"scattercarpet\":[{\"type\":\"scattercarpet\",\"marker\":{\"colorbar\":{\"outlinewidth\":0,\"ticks\":\"\"}}}],\"carpet\":[{\"aaxis\":{\"endlinecolor\":\"#2a3f5f\",\"gridcolor\":\"white\",\"linecolor\":\"white\",\"minorgridcolor\":\"white\",\"startlinecolor\":\"#2a3f5f\"},\"baxis\":{\"endlinecolor\":\"#2a3f5f\",\"gridcolor\":\"white\",\"linecolor\":\"white\",\"minorgridcolor\":\"white\",\"startlinecolor\":\"#2a3f5f\"},\"type\":\"carpet\"}],\"table\":[{\"cells\":{\"fill\":{\"color\":\"#EBF0F8\"},\"line\":{\"color\":\"white\"}},\"header\":{\"fill\":{\"color\":\"#C8D4E3\"},\"line\":{\"color\":\"white\"}},\"type\":\"table\"}],\"barpolar\":[{\"marker\":{\"line\":{\"color\":\"#E5ECF6\",\"width\":0.5},\"pattern\":{\"fillmode\":\"overlay\",\"size\":10,\"solidity\":0.2}},\"type\":\"barpolar\"}],\"pie\":[{\"automargin\":true,\"type\":\"pie\"}]},\"layout\":{\"autotypenumbers\":\"strict\",\"colorway\":[\"#636efa\",\"#EF553B\",\"#00cc96\",\"#ab63fa\",\"#FFA15A\",\"#19d3f3\",\"#FF6692\",\"#B6E880\",\"#FF97FF\",\"#FECB52\"],\"font\":{\"color\":\"#2a3f5f\"},\"hovermode\":\"closest\",\"hoverlabel\":{\"align\":\"left\"},\"paper_bgcolor\":\"white\",\"plot_bgcolor\":\"#E5ECF6\",\"polar\":{\"bgcolor\":\"#E5ECF6\",\"angularaxis\":{\"gridcolor\":\"white\",\"linecolor\":\"white\",\"ticks\":\"\"},\"radialaxis\":{\"gridcolor\":\"white\",\"linecolor\":\"white\",\"ticks\":\"\"}},\"ternary\":{\"bgcolor\":\"#E5ECF6\",\"aaxis\":{\"gridcolor\":\"white\",\"linecolor\":\"white\",\"ticks\":\"\"},\"baxis\":{\"gridcolor\":\"white\",\"linecolor\":\"white\",\"ticks\":\"\"},\"caxis\":{\"gridcolor\":\"white\",\"linecolor\":\"white\",\"ticks\":\"\"}},\"coloraxis\":{\"colorbar\":{\"outlinewidth\":0,\"ticks\":\"\"}},\"colorscale\":{\"sequential\":[[0.0,\"#0d0887\"],[0.1111111111111111,\"#46039f\"],[0.2222222222222222,\"#7201a8\"],[0.3333333333333333,\"#9c179e\"],[0.4444444444444444,\"#bd3786\"],[0.5555555555555556,\"#d8576b\"],[0.6666666666666666,\"#ed7953\"],[0.7777777777777778,\"#fb9f3a\"],[0.8888888888888888,\"#fdca26\"],[1.0,\"#f0f921\"]],\"sequentialminus\":[[0.0,\"#0d0887\"],[0.1111111111111111,\"#46039f\"],[0.2222222222222222,\"#7201a8\"],[0.3333333333333333,\"#9c179e\"],[0.4444444444444444,\"#bd3786\"],[0.5555555555555556,\"#d8576b\"],[0.6666666666666666,\"#ed7953\"],[0.7777777777777778,\"#fb9f3a\"],[0.8888888888888888,\"#fdca26\"],[1.0,\"#f0f921\"]],\"diverging\":[[0,\"#8e0152\"],[0.1,\"#c51b7d\"],[0.2,\"#de77ae\"],[0.3,\"#f1b6da\"],[0.4,\"#fde0ef\"],[0.5,\"#f7f7f7\"],[0.6,\"#e6f5d0\"],[0.7,\"#b8e186\"],[0.8,\"#7fbc41\"],[0.9,\"#4d9221\"],[1,\"#276419\"]]},\"xaxis\":{\"gridcolor\":\"white\",\"linecolor\":\"white\",\"ticks\":\"\",\"title\":{\"standoff\":15},\"zerolinecolor\":\"white\",\"automargin\":true,\"zerolinewidth\":2},\"yaxis\":{\"gridcolor\":\"white\",\"linecolor\":\"white\",\"ticks\":\"\",\"title\":{\"standoff\":15},\"zerolinecolor\":\"white\",\"automargin\":true,\"zerolinewidth\":2},\"scene\":{\"xaxis\":{\"backgroundcolor\":\"#E5ECF6\",\"gridcolor\":\"white\",\"linecolor\":\"white\",\"showbackground\":true,\"ticks\":\"\",\"zerolinecolor\":\"white\",\"gridwidth\":2},\"yaxis\":{\"backgroundcolor\":\"#E5ECF6\",\"gridcolor\":\"white\",\"linecolor\":\"white\",\"showbackground\":true,\"ticks\":\"\",\"zerolinecolor\":\"white\",\"gridwidth\":2},\"zaxis\":{\"backgroundcolor\":\"#E5ECF6\",\"gridcolor\":\"white\",\"linecolor\":\"white\",\"showbackground\":true,\"ticks\":\"\",\"zerolinecolor\":\"white\",\"gridwidth\":2}},\"shapedefaults\":{\"line\":{\"color\":\"#2a3f5f\"}},\"annotationdefaults\":{\"arrowcolor\":\"#2a3f5f\",\"arrowhead\":0,\"arrowwidth\":1},\"geo\":{\"bgcolor\":\"white\",\"landcolor\":\"#E5ECF6\",\"subunitcolor\":\"white\",\"showland\":true,\"showlakes\":true,\"lakecolor\":\"white\"},\"title\":{\"x\":0.05},\"mapbox\":{\"style\":\"light\"}}},\"xaxis\":{\"anchor\":\"y\",\"domain\":[0.0,1.0],\"title\":{\"text\":\"recalls per model\"}},\"yaxis\":{\"anchor\":\"x\",\"domain\":[0.0,1.0],\"title\":{\"text\":\"Product Makers Name\"}},\"legend\":{\"tracegroupgap\":0},\"title\":{\"text\":\"recalls per Model For Traditional Vehicle\"},\"barmode\":\"relative\",\"height\":500},                        {\"responsive\": true}                    ).then(function(){\n",
       "                            \n",
       "var gd = document.getElementById('6bd0665d-37d6-4520-9fd2-2b70dedd06cc');\n",
       "var x = new MutationObserver(function (mutations, observer) {{\n",
       "        var display = window.getComputedStyle(gd).display;\n",
       "        if (!display || display === 'none') {{\n",
       "            console.log([gd, 'removed!']);\n",
       "            Plotly.purge(gd);\n",
       "            observer.disconnect();\n",
       "        }}\n",
       "}});\n",
       "\n",
       "// Listen for the removal of the full notebook cells\n",
       "var notebookContainer = gd.closest('#notebook-container');\n",
       "if (notebookContainer) {{\n",
       "    x.observe(notebookContainer, {childList: true});\n",
       "}}\n",
       "\n",
       "// Listen for the clearing of the current output cell\n",
       "var outputEl = gd.closest('.output');\n",
       "if (outputEl) {{\n",
       "    x.observe(outputEl, {childList: true});\n",
       "}}\n",
       "\n",
       "                        })                };                });            </script>        </div>"
      ]
     },
     "metadata": {},
     "output_type": "display_data"
    }
   ],
   "source": [
    "top_10 = compalint_ratio_NEV_round.head(10)\n",
    "fig = px.bar(top_10, x=top_10['recall_ratio'], y=top_10.index,\n",
    "             #pattern_shape=make_recalls_count['Make'],\n",
    "             color_discrete_sequence=[\"darkcyan\"],\n",
    "             text_auto='',\n",
    "             title=\"recalls per Model For New Energy Vehicle\",\n",
    "             labels=({\"recall_ratio\": \"recalls per model\",\"Make\":\"Product Makers Name\"}),\n",
    "             height=500)\n",
    "fig.show()\n",
    "\n",
    "top_10 = compalint_ratio_TV_round.head(10)\n",
    "fig = px.bar(top_10, x=top_10['recall_ratio'], y=top_10.index,\n",
    "             #pattern_shape=make_recalls_count['Make'],\n",
    "             color_discrete_sequence=[\"darkorange\"],\n",
    "             text_auto='',\n",
    "             title=\"recalls per Model For Traditional Vehicle\",\n",
    "             labels=({\"recall_ratio\": \"recalls per model\",\"Make\":\"Product Makers Name\"}),\n",
    "             height=500)\n",
    "fig.show()"
   ]
  },
  {
   "cell_type": "code",
   "execution_count": 209,
   "id": "1f079995-5233-4bf2-883f-8d7341730b02",
   "metadata": {},
   "outputs": [
    {
     "data": {
      "image/png": "[encoded data removed]",
      "text/plain": [
       "<Figure size 1152x648 with 1 Axes>"
      ]
     },
     "metadata": {
      "needs_background": "light"
     },
     "output_type": "display_data"
    }
   ],
   "source": [
    "All_recall_ratio = pd.concat([compalint_ratio_NEV_round['recall_ratio'].rename('New_Energy'),\n",
    "                                 compalint_ratio_TV_round['recall_ratio'].rename('Traditional')],\n",
    "                                axis=1)\\\n",
    "                        .fillna(0)\n",
    "\n",
    "fig, ax = plt.subplots(figsize=(16, 9))\n",
    "\n",
    "# Draw scatter plot\n",
    "plt.scatter(data=All_recall_ratio, x='New_Energy', y='Traditional',c='darkcyan')\n",
    "\n",
    "# Label each node\n",
    "All_recall_ratio.sort_values(by=['New_Energy','Traditional'],ascending=False,inplace=True)\n",
    "for i, txt in enumerate(All_recall_ratio.head(7).index):\n",
    "    ax.annotate(txt, (All_recall_ratio['New_Energy'][i], All_recall_ratio['Traditional'][i]))\n",
    "All_recall_ratio.sort_values(by='Traditional',ascending=False,inplace=True)\n",
    "for i, txt in enumerate(All_recall_ratio.head(8).index):\n",
    "    ax.annotate(txt, (All_recall_ratio['New_Energy'][i], All_recall_ratio['Traditional'][i]))\n",
    "    \n",
    "# ax.annotate('CHEVROLET', (126,518))\n",
    "# ax.annotate('AUDI', (6,410))\n",
    "# ax.annotate('BMW', (5,148))\n",
    "# ax.annotate('LINCOIN', (6,805))\n",
    "# ax.annotate('MAZDA',(6,570))\n",
    "# ax.annotate('LEXUS', (-18,465))\n",
    "\n",
    "\n",
    "plt.title(\"The average number of recalls automakers receive per model by fuel type\",fontsize=18)\n",
    "plt.xticks(fontsize=14)\n",
    "plt.yticks(fontsize=14)\n",
    "plt.xlabel(\"Average recall number of New Energy models\", fontsize=16)\n",
    "plt.ylabel(\"Average recall number of Traditional models\", fontsize=16)\n",
    "\n",
    "plt.show()\n",
    "\n",
    "# Save as png image\n",
    "fig.savefig('./Outputs/recall_ratio_per_model_by_makes_by_fuel_type.png', format='png')"
   ]
  },
  {
   "cell_type": "code",
   "execution_count": null,
   "id": "4245f46d-519c-4bd3-b44e-b27d095bd8db",
   "metadata": {},
   "outputs": [],
   "source": []
  },
  {
   "cell_type": "code",
   "execution_count": null,
   "id": "e6765323-f863-4a9c-b4c9-00700f27e60a",
   "metadata": {},
   "outputs": [],
   "source": []
  }
 ],
 "metadata": {
  "kernelspec": {
   "display_name": "Python 3 (ipykernel)",
   "language": "python",
   "name": "python3"
  },
  "language_info": {
   "codemirror_mode": {
    "name": "ipython",
    "version": 3
   },
   "file_extension": ".py",
   "mimetype": "text/x-python",
   "name": "python",
   "nbconvert_exporter": "python",
   "pygments_lexer": "ipython3",
   "version": "3.9.7"
  },
  "toc-autonumbering": true,
  "toc-showcode": false,
  "toc-showmarkdowntxt": false
 },
 "nbformat": 4,
 "nbformat_minor": 5
}
