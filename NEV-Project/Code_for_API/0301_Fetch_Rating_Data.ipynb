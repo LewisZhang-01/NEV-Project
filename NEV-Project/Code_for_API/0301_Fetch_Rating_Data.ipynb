{
 "cells": [
  {
   "cell_type": "markdown",
   "id": "ac979d09-7a5d-4d31-a4cb-fff21c1cf21e",
   "metadata": {},
   "source": [
    "# Accessing the NHTSA API (crawler)\n",
    "This notebook will focus on ratings data from NHTSA API.\n",
    "## Rating Data "
   ]
  },
  {
   "cell_type": "code",
   "execution_count": 27,
   "id": "c8d62758-e509-46f0-83b9-d5ba4728174f",
   "metadata": {},
   "outputs": [],
   "source": [
    "import requests\n",
    "from pathlib import Path\n",
    "import json\n",
    "import pandas as pd\n",
    "import urllib.request\n",
    "import urllib.error\n",
    "import time\n",
    "from loguru import logger\n",
    "import pygame\n",
    "from IPython.display import display, clear_output"
   ]
  },
  {
   "cell_type": "code",
   "execution_count": 28,
   "id": "629ce44e-f939-4a02-b0ac-b18f43f67430",
   "metadata": {},
   "outputs": [],
   "source": [
    "# Set API prefix because our api headers are same.\n",
    "api_prefix = \"https://api.nhtsa.gov\"\n",
    "\n",
    "# Set API suffix for get year.\n",
    "api_get_year = \"/SafetyRatings\"\n",
    "\n",
    "# Set API suffix for get SafetyRatings by VehicleId.\n",
    "api_get_rating = \"/SafetyRatings/VehicleId\"\n",
    "\n",
    "# Set output path.\n",
    "dir_raw = Path(\"../Raw_Data/Raw_API/Ratings\")\n",
    "dir_raw.mkdir(parents=True, exist_ok=True)\n",
    "out_dir = Path(\"../Raw_Data/Raw_API/Ratings_buffer\")\n",
    "out_dir.mkdir(parents=True, exist_ok=True)"
   ]
  },
  {
   "cell_type": "code",
   "execution_count": 29,
   "id": "9922a53f-10e4-406f-96f4-4065c78bb63e",
   "metadata": {},
   "outputs": [],
   "source": [
    "def fetch_Ratings(url):\n",
    "    logger.info(\"Fetching %s\" % url)\n",
    "    try:\n",
    "        headers = {\n",
    "          'User-Agent':\"Mozilla/5.0 (Macintosh; Intel Mac OS X 10.6; rv:2.0.1) Gecko/20100101 Firefox/4.0.1\"\n",
    "        }\n",
    "        response = requests.get(url,headers=headers)\n",
    "        status = response.status_code\n",
    "        logger.info(status)\n",
    "\n",
    "        # Stop if the API cannot be accessed properly.\n",
    "        if status != 200:\n",
    "            return [-1,None]\n",
    "        \n",
    "        # Otherwise return retrieved data.\n",
    "        raw_data = response.text\n",
    "        return [1,json.loads(raw_data)]\n",
    "    except urllib.error.URLError as e:\n",
    "        e.reason \n",
    "\n",
    "# Output each Rating for a json file.\n",
    "def write_out_raw(Ratings_count,year,make,model,data):\n",
    "    # Check if '/' is already in make or model, replaced by '_or_'.\n",
    "    if '/' in make:\n",
    "        make = make.replace(\"/\", \"_or_\")\n",
    "    if '/' in model:\n",
    "        model = model.replace(\"/\", \"_or_\")\n",
    "    # File name format [complaint_num]year_make_model.json\n",
    "    #             e.g. [802]1994_MERCEDES BENZ_E.json\n",
    "    fname = \"[%d]%s_%s_%s.json\" % (Ratings_count,year,make,model)\n",
    "    out_path = dir_raw / fname\n",
    "    logger.info(\"Writing data to %s\" % out_path)\n",
    "    fout = open(out_path, \"w\")\n",
    "    json.dump(data, fout, indent=4, sort_keys=True)\n",
    "    fout.close()\n",
    "    \n",
    "# Check API status.\n",
    "def check_status(data):\n",
    "    #number of Rating in this time.\n",
    "    Rating_num = data[\"count\"]\n",
    "    # Are results returned successfully?\n",
    "    if data[\"message\"] != \"Results returned successfully\":\n",
    "        logger.warning(\"Fail to get from API, %s\" % (data[\"status_message\"]))\n",
    "        return [False,-1]\n",
    "    elif Rating_num <= 0:\n",
    "        logger.warning(\"No info from current API address.\")\n",
    "        return [False,0]\n",
    "    else:\n",
    "        return [True,Rating_num]\n",
    "\n",
    "# Output for \"years\", \"makes\", \"models\" which are dictionaries we get from first 3 steps.  \n",
    "def write_out(name,data):\n",
    "    fname = \"%s.json\" % (name)\n",
    "    out_path = out_dir / fname\n",
    "    logger.info(\"Writing data to %s\" % out_path)\n",
    "    fout = open(out_path, \"w\")\n",
    "    json.dump(data, fout, indent=4, sort_keys=True)\n",
    "    fout.close()"
   ]
  },
  {
   "cell_type": "markdown",
   "id": "209d6d29-6440-42aa-b658-899c5a30868c",
   "metadata": {
    "tags": []
   },
   "source": [
    "## Step-1: Get all Model Years "
   ]
  },
  {
   "cell_type": "code",
   "execution_count": 96,
   "id": "4dae3265-791b-438d-8bf4-df8f3ba88818",
   "metadata": {
    "tags": []
   },
   "outputs": [
    {
     "name": "stderr",
     "output_type": "stream",
     "text": [
      "2022-04-07 16:05:07.210 | INFO     | __main__:fetch_Ratings:2 - Fetching https://api.nhtsa.gov/SafetyRatings\n",
      "2022-04-07 16:05:07.430 | INFO     | __main__:fetch_Ratings:9 - 200\n",
      "2022-04-07 16:05:07.431 | INFO     | __main__:<module>:7 - Completed the task of getting all model years!\n",
      "2022-04-07 16:05:07.432 | INFO     | __main__:write_out:55 - Writing data to ../raw/Ratings_buffer/Rating-years.json\n"
     ]
    }
   ],
   "source": [
    "# Construct API url.\n",
    "api = api_prefix + api_get_year\n",
    "# Fetch data.\n",
    "status,data = fetch_Ratings(api)\n",
    "# Convert result data into list format.\n",
    "years = (list(each[\"ModelYear\"] for each in data[\"Results\"]))\n",
    "logger.info(\"Completed the task of getting all model years!\")\n",
    "# Store years data.\n",
    "write_out(\"Rating-years\",years)"
   ]
  },
  {
   "cell_type": "markdown",
   "id": "7e95c2fc-a119-4d16-ae71-da60517693fb",
   "metadata": {},
   "source": [
    "## Step-2: Get all Makes for the Model Year"
   ]
  },
  {
   "cell_type": "code",
   "execution_count": 120,
   "id": "9fe9de5d-82b7-4e77-abe5-340aa781390b",
   "metadata": {},
   "outputs": [
    {
     "name": "stderr",
     "output_type": "stream",
     "text": [
      "2022-04-07 16:21:22.343 | INFO     | __main__:fetch_Ratings:2 - Fetching https://api.nhtsa.gov/SafetyRatings/modelyear/1990\n",
      "2022-04-07 16:21:22.577 | INFO     | __main__:fetch_Ratings:9 - 200\n",
      "2022-04-07 16:21:22.578 | INFO     | __main__:<module>:14 - Completed the task of getting all makes for the model year!\n",
      "2022-04-07 16:21:22.580 | INFO     | __main__:write_out:55 - Writing data to ../raw/Ratings_buffer/Rating_makes.json\n"
     ]
    }
   ],
   "source": [
    "makes={}\n",
    "for year in years:\n",
    "    clear_output()\n",
    "    # Construct API url.\n",
    "    api = api_prefix + \"/SafetyRatings/modelyear/%d\" % (int(year))\n",
    "    # Fetch data.\n",
    "    status,data = fetch_Ratings(api)\n",
    "    # Store result data into a dict by year.\n",
    "    for each in data[\"Results\"]:\n",
    "        if year in makes:\n",
    "            makes[year].append(each[\"Make\"])\n",
    "        else:\n",
    "            makes[year] = [each[\"Make\"]]\n",
    "logger.info(\"Completed the task of getting all makes for the model year!\")\n",
    "# Store makes data.\n",
    "write_out(\"Rating_makes\",makes)"
   ]
  },
  {
   "cell_type": "markdown",
   "id": "59e5fcb7-c5d5-4e6a-82b7-20cc1c4a6b4e",
   "metadata": {},
   "source": [
    "## Step-3: Get all Models for the Make and Model Year \n",
    "Due to the website's restrictions on crawlers, we have to change IP frequently to bypass its restrictions. The following function will automatically stop when it received an access error (Typically a 403 error) and return the data we got so far. And it will give us a hint for next start."
   ]
  },
  {
   "cell_type": "code",
   "execution_count": 201,
   "id": "d5ceaec4-0136-4d74-8974-ca8776f19c7a",
   "metadata": {},
   "outputs": [],
   "source": [
    "def Get_model(years,skip):\n",
    "    models={}\n",
    "    start_year = years[0]\n",
    "    for year in years:\n",
    "        for make in makes[year]:\n",
    "            # If meet some special case we need skip it.\n",
    "            if make != skip:\n",
    "                clear_output()\n",
    "                api = api_prefix + \"/SafetyRatings/modelyear/%d/make/%s\" % (int(year),make)\n",
    "                status,data = fetch_Ratings(api)\n",
    "            # Status equal -1 means we are failing to use this API at this moment.\n",
    "            if status == -1:\n",
    "                logger.warning(\"Start year:%s, Current Year:%s(index:%d) Current Make:%s(index:%d)\" % (start_year,year,years.index(year),make,makes[year].index(make)))\n",
    "                return models\n",
    "            # Otherwise, store result data into a dict by make.\n",
    "            else:\n",
    "                for each in data[\"Results\"]:\n",
    "                    if make in models:\n",
    "                        models[make].append(each[\"Model\"])\n",
    "                    else:\n",
    "                        models[make] = [each[\"Model\"]]\n",
    "    end_year = year\n",
    "    logger.info(\"Finished (%s-%s)\" % (start_year,end_year))\n",
    "    return models"
   ]
  },
  {
   "cell_type": "code",
   "execution_count": 202,
   "id": "ed9c811e-2cf8-492b-8439-7abade3e7f3d",
   "metadata": {},
   "outputs": [
    {
     "name": "stderr",
     "output_type": "stream",
     "text": [
      "2022-04-07 17:24:44.654 | INFO     | __main__:fetch_Ratings:2 - Fetching https://api.nhtsa.gov/SafetyRatings/modelyear/1990/make/VOLKSWAGEN\n",
      "2022-04-07 17:24:44.856 | INFO     | __main__:fetch_Ratings:9 - 200\n",
      "2022-04-07 17:24:44.858 | INFO     | __main__:Get_model:23 - Finished (2023-1990)\n"
     ]
    }
   ],
   "source": [
    "models = Get_model(years,\"\")"
   ]
  },
  {
   "cell_type": "markdown",
   "id": "76b8ca3d-b8be-478a-a379-d57cf31c2bd3",
   "metadata": {},
   "source": [
    "#### Delete pair if the value of this key is empty."
   ]
  },
  {
   "cell_type": "code",
   "execution_count": 211,
   "id": "f642cc48-42e8-4731-afb6-074fe30fabe0",
   "metadata": {},
   "outputs": [
    {
     "data": {
      "text/plain": [
       "60"
      ]
     },
     "execution_count": 211,
     "metadata": {},
     "output_type": "execute_result"
    }
   ],
   "source": [
    "models_clean = models.copy()\n",
    "for key in list(models_clean.keys()):\n",
    "    if not models_clean.get(key):\n",
    "        del models_clean[key]\n",
    "len(models_clean)"
   ]
  },
  {
   "cell_type": "code",
   "execution_count": 212,
   "id": "6a17562a-c1f6-4542-8b6f-b83dd148a076",
   "metadata": {},
   "outputs": [
    {
     "data": {
      "text/plain": [
       "(25, 2010)"
      ]
     },
     "execution_count": 212,
     "metadata": {},
     "output_type": "execute_result"
    }
   ],
   "source": [
    "for k,v in models_clean.items():\n",
    "    models_clean[k] = list(set(models_clean[k]))\n",
    "# Keys Sizes & Values Sizes.\n",
    "len(models_clean[\"JAGUAR\"]),sum([len(x) for x in models_clean.values()])"
   ]
  },
  {
   "cell_type": "code",
   "execution_count": 213,
   "id": "14f050a4-200a-49cb-ade4-09d9d1c0d95d",
   "metadata": {},
   "outputs": [],
   "source": [
    "# Handel some special case (name contain '/').\n",
    "for k,v in models_clean.items():\n",
    "    for mod in v:\n",
    "        if '/' in mod:\n",
    "            # Find position in that dict -> values -> list\n",
    "            mod_id = v.index(mod)\n",
    "            # Replace '/' with ' '(space)\n",
    "            v[mod_id] = mod.replace(\"/\", \" \")"
   ]
  },
  {
   "cell_type": "code",
   "execution_count": 215,
   "id": "623eb764-aac4-4fa0-acba-e39cce81fcb5",
   "metadata": {},
   "outputs": [
    {
     "name": "stderr",
     "output_type": "stream",
     "text": [
      "2022-04-07 17:32:38.694 | INFO     | __main__:write_out:55 - Writing data to ../raw/Ratings_buffer/Rating_models.json\n"
     ]
    }
   ],
   "source": [
    "write_out(\"Rating_models\",models_clean)"
   ]
  },
  {
   "cell_type": "markdown",
   "id": "cd2c5a11-ee86-4c6e-9818-16a4943d5ac1",
   "metadata": {},
   "source": [
    "## Step-4: Get all Ratings for the selected Model Year, Make, Model by VehicleId"
   ]
  },
  {
   "cell_type": "code",
   "execution_count": 216,
   "id": "d8f512ad-9456-4993-b638-680a103a173b",
   "metadata": {},
   "outputs": [],
   "source": [
    "def Get_Ratings(Ratings_count,years,makes,models,continue_):\n",
    "    Ratings_count = Ratings_count\n",
    "    start_year = years[0]\n",
    "    for year in years:\n",
    "        # \"continue_\" means we've suffered an interruption, \n",
    "        # and we're going back to that position.\n",
    "        if continue_ : \n",
    "            #Get user input of \"make\" which want to continue.\n",
    "            make_input = input()\n",
    "            \n",
    "            #Find correspond index position in the \"makes\" dict.\n",
    "            position_make = makes[year].index(make_input)\n",
    "            \n",
    "            #Get user input of \"model\" which want to continue.\n",
    "            model_input = input()\n",
    "            \n",
    "            #Find correspond index position in the \"models\" dict.\n",
    "            position_model = models[make_input].index(model_input)\n",
    "            \n",
    "            # Find a list of rest of makes by current year. \n",
    "            make_position = makes[year].index(make_input)\n",
    "            \n",
    "            # Find a list of rest of models by current year & make. \n",
    "            model_position = models[make_input].index(model_input)\n",
    "\n",
    "            for make in (makes[year])[make_position:]:\n",
    "                for model in (models[make_input])[model_position:]:\n",
    "                    \n",
    "                    clear_output()\n",
    "                    api = api_prefix + \"/SafetyRatings/modelyear/%d/make/%s/model/%s\" % (int(year),make,model)\n",
    "                    # Fetch data.\n",
    "                    status, data = fetch_Ratings(api)\n",
    "\n",
    "                    # Status equal -1 means we are failing to use this API at this moment.\n",
    "                    if result_status(status,Ratings_count,year,make,model) == -1:\n",
    "                        return -1\n",
    "                    \n",
    "                    # Skip if data is empty\n",
    "                    if data[\"Results\"] != []:\n",
    "                        for result in data[\"Results\"]:\n",
    "                            # Get Vehicle ID from current fetched data.\n",
    "                            vid = result[\"VehicleId\"]\n",
    "                            # Use id for fetch new rating data.\n",
    "                            rating_data_status, rating_data = fetch_Ratings(api_prefix+api_get_rating+\"/%d\"%(int(vid)))\n",
    "                            # Status equal -1 means we are failing to use this API at this moment.\n",
    "                            if result_status(rating_data_status,Ratings_count,year,make,model) == -1:\n",
    "                                return -1\n",
    "                            #Write out\n",
    "                            write_out_raw(Ratings_count,year,make,model,rating_data[\"Results\"])\n",
    "                            Ratings_count+=1\n",
    "                    else:\n",
    "                        logger.info(\"Empty data\")\n",
    "            continue_ = False\n",
    "        else:\n",
    "            for make in makes[year]:\n",
    "                for model in models[make]:\n",
    "                    clear_output()\n",
    "                    api = api_prefix + \"/SafetyRatings/modelyear/%d/make/%s/model/%s\" % (int(year),make,model)\n",
    "                    status, data = fetch_Ratings(api)\n",
    "\n",
    "                    # Status equal -1 means we are failing to use this API at this moment.\n",
    "                    if result_status(status,Ratings_count,year,make,model) == -1:\n",
    "                        return -1\n",
    "                    \n",
    "                    # Skip if data is empty\n",
    "                    if data[\"Results\"] != []:\n",
    "                        for result in data[\"Results\"]:\n",
    "                            # Get Vehicle ID from current fetched data.\n",
    "                            vid = result[\"VehicleId\"]\n",
    "                            # Use id for fetch new rating data.\n",
    "                            rating_data_status, rating_data = fetch_Ratings(api_prefix+api_get_rating+\"/%d\"%(int(vid)))\n",
    "                            # Status equal -1 means we are failing to use this API at this moment.\n",
    "                            if result_status(rating_data_status,Ratings_count,year,make,model) == -1:\n",
    "                                return -1\n",
    "                            #Write out\n",
    "                            write_out_raw(Ratings_count,year,make,model,rating_data[\"Results\"])\n",
    "                            Ratings_count+=1\n",
    "                    else:\n",
    "                        logger.info(\"Empty data\")\n",
    "    end_year = year\n",
    "    logger.info(\"Finished (%s_%s_%s_%s) from %s to %s.\" % (Ratings_count,year,make,model,start_year,end_year))\n",
    "\n",
    "def result_status(status,Ratings_count,year,make,model):\n",
    "    if status == -1:\n",
    "        logger.warning(\"Stopped! (%s_%s_%s_%s)\" % (Ratings_count,year,make,model)) \n",
    "        alarm_clock()\n",
    "        return -1\n",
    "    return 0\n",
    "\n",
    "# Set an alert to remind me to reset when our IP is blocked.\n",
    "def alarm_clock():\n",
    "    file = 'alarm_music.mp3'\n",
    "    pygame.init()\n",
    "    pygame.mixer.init()\n",
    "    pygame.mixer.music.load(file)\n",
    "    pygame.mixer.music.play()\n",
    "    time.sleep(10)\n",
    "    pygame.mixer.music.stop()"
   ]
  },
  {
   "cell_type": "code",
   "execution_count": null,
   "id": "f5fae38c-0724-4079-96cf-4d04f436ffac",
   "metadata": {},
   "outputs": [],
   "source": [
    "Get_Ratings(0,years,makes,models_clean,False)"
   ]
  },
  {
   "cell_type": "code",
   "execution_count": 222,
   "id": "3a7b7c38-138d-49f9-b32b-da5139c06e67",
   "metadata": {},
   "outputs": [
    {
     "name": "stderr",
     "output_type": "stream",
     "text": [
      "2022-04-07 19:08:00.757 | INFO     | __main__:fetch_Ratings:2 - Fetching https://api.nhtsa.gov/SafetyRatings/modelyear/2020/make/MAZDA/model/RX-8\n",
      "2022-04-07 19:08:01.002 | INFO     | __main__:fetch_Ratings:9 - 403\n",
      "2022-04-07 19:08:01.003 | WARNING  | __main__:result_status:85 - Stopped! (2148_2020_MAZDA_RX-8)\n"
     ]
    },
    {
     "data": {
      "text/plain": [
       "-1"
      ]
     },
     "execution_count": 222,
     "metadata": {},
     "output_type": "execute_result"
    }
   ],
   "source": [
    "start = years.index(2022)\n",
    "Get_Ratings(778,years[start:],makes,models_clean,True)"
   ]
  },
  {
   "cell_type": "code",
   "execution_count": 223,
   "id": "32c1b8e0-a20b-4be7-8783-e6d30c40bd0a",
   "metadata": {},
   "outputs": [
    {
     "name": "stderr",
     "output_type": "stream",
     "text": [
      "2022-04-07 19:40:10.624 | INFO     | __main__:fetch_Ratings:2 - Fetching https://api.nhtsa.gov/SafetyRatings/modelyear/2018/make/AUDI/model/A5 CABRIOLET\n",
      "2022-04-07 19:40:10.874 | INFO     | __main__:fetch_Ratings:9 - 403\n",
      "2022-04-07 19:40:10.874 | WARNING  | __main__:result_status:85 - Stopped! (3052_2018_AUDI_A5 CABRIOLET)\n"
     ]
    },
    {
     "data": {
      "text/plain": [
       "-1"
      ]
     },
     "execution_count": 223,
     "metadata": {},
     "output_type": "execute_result"
    }
   ],
   "source": [
    "start = years.index(2020)\n",
    "Get_Ratings(2148,years[start:],makes,models_clean,True)"
   ]
  },
  {
   "cell_type": "code",
   "execution_count": 225,
   "id": "8496c9d6-e792-46c2-a2d9-89b7843600c8",
   "metadata": {},
   "outputs": [
    {
     "name": "stderr",
     "output_type": "stream",
     "text": [
      "2022-04-07 19:58:49.474 | INFO     | __main__:fetch_Ratings:2 - Fetching https://api.nhtsa.gov/SafetyRatings/modelyear/2018/make/MAZDA/model/RS 7\n",
      "2022-04-07 19:58:49.707 | INFO     | __main__:fetch_Ratings:9 - 403\n",
      "2022-04-07 19:58:49.709 | WARNING  | __main__:result_status:85 - Stopped! (3064_2018_MAZDA_RS 7)\n"
     ]
    },
    {
     "data": {
      "text/plain": [
       "-1"
      ]
     },
     "execution_count": 225,
     "metadata": {},
     "output_type": "execute_result"
    }
   ],
   "source": [
    "start = years.index(2018)\n",
    "Get_Ratings(3052,years[start:],makes,models_clean,True)"
   ]
  },
  {
   "cell_type": "code",
   "execution_count": 228,
   "id": "04d26c97-9e32-40dd-a252-a94df9ebb5ff",
   "metadata": {},
   "outputs": [
    {
     "name": "stderr",
     "output_type": "stream",
     "text": [
      "2022-04-07 20:19:07.833 | INFO     | __main__:fetch_Ratings:2 - Fetching https://api.nhtsa.gov/SafetyRatings/modelyear/2017/make/HYUNDAI/model/ELANTRA GT\n",
      "2022-04-07 20:19:08.016 | INFO     | __main__:fetch_Ratings:9 - 403\n",
      "2022-04-07 20:19:08.017 | WARNING  | __main__:result_status:85 - Stopped! (3439_2017_HYUNDAI_ELANTRA GT)\n"
     ]
    },
    {
     "data": {
      "text/plain": [
       "-1"
      ]
     },
     "execution_count": 228,
     "metadata": {},
     "output_type": "execute_result"
    }
   ],
   "source": [
    "start = years.index(2018)\n",
    "Get_Ratings(3064,years[start:],makes,models_clean,True)"
   ]
  },
  {
   "cell_type": "code",
   "execution_count": 230,
   "id": "3fa65ba1-87f8-41dc-a6c9-5e562f5ae684",
   "metadata": {},
   "outputs": [
    {
     "name": "stderr",
     "output_type": "stream",
     "text": [
      "2022-04-07 20:33:59.919 | INFO     | __main__:fetch_Ratings:2 - Fetching https://api.nhtsa.gov/SafetyRatings/modelyear/2016/make/BMW/model/X3 XDRIVE28I\n",
      "2022-04-07 20:34:00.521 | INFO     | __main__:fetch_Ratings:9 - 403\n",
      "2022-04-07 20:34:00.522 | WARNING  | __main__:result_status:85 - Stopped! (3551_2016_BMW_X3 XDRIVE28I)\n"
     ]
    },
    {
     "data": {
      "text/plain": [
       "-1"
      ]
     },
     "execution_count": 230,
     "metadata": {},
     "output_type": "execute_result"
    }
   ],
   "source": [
    "start = years.index(2017)\n",
    "Get_Ratings(3439,years[start:],makes,models_clean,True)"
   ]
  },
  {
   "cell_type": "code",
   "execution_count": 231,
   "id": "6af59784-3ba1-47ff-b406-d1557b77c1db",
   "metadata": {},
   "outputs": [
    {
     "name": "stderr",
     "output_type": "stream",
     "text": [
      "2022-04-07 20:44:05.362 | INFO     | __main__:fetch_Ratings:2 - Fetching https://api.nhtsa.gov/SafetyRatings/modelyear/2015/make/INFINITI/model/Q45\n",
      "2022-04-07 20:44:05.759 | INFO     | __main__:fetch_Ratings:9 - 403\n",
      "2022-04-07 20:44:05.760 | WARNING  | __main__:result_status:85 - Stopped! (3965_2015_INFINITI_Q45)\n"
     ]
    },
    {
     "data": {
      "text/plain": [
       "-1"
      ]
     },
     "execution_count": 231,
     "metadata": {},
     "output_type": "execute_result"
    }
   ],
   "source": [
    "start = years.index(2016)\n",
    "Get_Ratings(3551,years[start:],makes,models_clean,True)"
   ]
  },
  {
   "cell_type": "code",
   "execution_count": 232,
   "id": "ad0df22d-1259-4bc5-bc48-4b99d9fc2e00",
   "metadata": {},
   "outputs": [
    {
     "name": "stderr",
     "output_type": "stream",
     "text": [
      "2022-04-07 20:59:09.629 | INFO     | __main__:fetch_Ratings:2 - Fetching https://api.nhtsa.gov/SafetyRatings/modelyear/2014/make/FORD/model/RANGER\n",
      "2022-04-07 20:59:09.744 | INFO     | __main__:fetch_Ratings:9 - 403\n",
      "2022-04-07 20:59:09.745 | WARNING  | __main__:result_status:85 - Stopped! (4231_2014_FORD_RANGER)\n"
     ]
    },
    {
     "data": {
      "text/plain": [
       "-1"
      ]
     },
     "execution_count": 232,
     "metadata": {},
     "output_type": "execute_result"
    }
   ],
   "source": [
    "start = years.index(2015)\n",
    "Get_Ratings(3965,years[start:],makes,models_clean,True)"
   ]
  },
  {
   "cell_type": "code",
   "execution_count": 233,
   "id": "c768a1f8-f6ef-4ef6-b92b-91bcaf9504ca",
   "metadata": {},
   "outputs": [
    {
     "name": "stderr",
     "output_type": "stream",
     "text": [
      "2022-04-07 21:08:47.600 | INFO     | __main__:fetch_Ratings:2 - Fetching https://api.nhtsa.gov/SafetyRatings/modelyear/2013/make/GMC/model/SAVANA\n",
      "2022-04-07 21:08:48.008 | INFO     | __main__:fetch_Ratings:9 - 403\n",
      "2022-04-07 21:08:48.009 | WARNING  | __main__:result_status:85 - Stopped! (4528_2013_GMC_SAVANA)\n"
     ]
    },
    {
     "data": {
      "text/plain": [
       "-1"
      ]
     },
     "execution_count": 233,
     "metadata": {},
     "output_type": "execute_result"
    }
   ],
   "source": [
    "start = years.index(2014)\n",
    "Get_Ratings(4231,years[start:],makes,models_clean,True)"
   ]
  },
  {
   "cell_type": "code",
   "execution_count": 234,
   "id": "2b88473b-a93f-41ec-95e5-181acf4831c0",
   "metadata": {},
   "outputs": [
    {
     "name": "stderr",
     "output_type": "stream",
     "text": [
      "2022-04-07 21:19:09.837 | INFO     | __main__:fetch_Ratings:2 - Fetching https://api.nhtsa.gov/SafetyRatings/modelyear/2012/make/BENTLEY/model/CONTINENTAL SUPERSPORTS\n",
      "2022-04-07 21:19:10.124 | INFO     | __main__:fetch_Ratings:9 - 200\n",
      "2022-04-07 21:19:10.125 | INFO     | __main__:fetch_Ratings:2 - Fetching https://api.nhtsa.gov/SafetyRatings/VehicleId/6339\n",
      "2022-04-07 21:19:10.394 | INFO     | __main__:fetch_Ratings:9 - 200\n",
      "2022-04-07 21:19:10.395 | INFO     | __main__:write_out_raw:32 - Writing data to ../raw/Ratings/[4608]2012_BENTLEY_CONTINENTAL SUPERSPORTS.json\n",
      "2022-04-07 21:19:10.396 | INFO     | __main__:fetch_Ratings:2 - Fetching https://api.nhtsa.gov/SafetyRatings/VehicleId/6338\n",
      "2022-04-07 21:19:10.589 | INFO     | __main__:fetch_Ratings:9 - 403\n",
      "2022-04-07 21:19:10.590 | WARNING  | __main__:result_status:85 - Stopped! (4609_2012_BENTLEY_CONTINENTAL SUPERSPORTS)\n"
     ]
    },
    {
     "data": {
      "text/plain": [
       "-1"
      ]
     },
     "execution_count": 234,
     "metadata": {},
     "output_type": "execute_result"
    }
   ],
   "source": [
    "start = years.index(2013)\n",
    "Get_Ratings(4528,years[start:],makes,models_clean,True)"
   ]
  },
  {
   "cell_type": "code",
   "execution_count": 235,
   "id": "9f117a66-cf2a-41e7-91aa-e10692ef2dcc",
   "metadata": {},
   "outputs": [
    {
     "name": "stderr",
     "output_type": "stream",
     "text": [
      "2022-04-07 21:29:15.360 | INFO     | __main__:fetch_Ratings:2 - Fetching https://api.nhtsa.gov/SafetyRatings/modelyear/2011/make/HYUNDAI/model/SCOUPE\n",
      "2022-04-07 21:29:15.540 | INFO     | __main__:fetch_Ratings:9 - 403\n",
      "2022-04-07 21:29:15.541 | WARNING  | __main__:result_status:85 - Stopped! (4942_2011_HYUNDAI_SCOUPE)\n"
     ]
    },
    {
     "data": {
      "text/plain": [
       "-1"
      ]
     },
     "execution_count": 235,
     "metadata": {},
     "output_type": "execute_result"
    }
   ],
   "source": [
    "start = years.index(2012)\n",
    "Get_Ratings(4609,years[start:],makes,models_clean,True)"
   ]
  },
  {
   "cell_type": "code",
   "execution_count": 236,
   "id": "09e14e9b-8cc4-45c9-b0c9-1ea579ad99c1",
   "metadata": {},
   "outputs": [
    {
     "name": "stderr",
     "output_type": "stream",
     "text": [
      "2022-04-07 21:45:09.960 | INFO     | __main__:fetch_Ratings:2 - Fetching https://api.nhtsa.gov/SafetyRatings/modelyear/2010/make/MERCEDES-BENZ/model/CLK-CLASS\n",
      "2022-04-07 21:45:10.204 | INFO     | __main__:fetch_Ratings:9 - 403\n",
      "2022-04-07 21:45:10.205 | WARNING  | __main__:result_status:85 - Stopped! (5229_2010_MERCEDES-BENZ_CLK-CLASS)\n"
     ]
    },
    {
     "data": {
      "text/plain": [
       "-1"
      ]
     },
     "execution_count": 236,
     "metadata": {},
     "output_type": "execute_result"
    }
   ],
   "source": [
    "start = years.index(2011)\n",
    "Get_Ratings(4942,years[start:],makes,models_clean,True)"
   ]
  },
  {
   "cell_type": "code",
   "execution_count": 237,
   "id": "520cd778-496f-4782-9b0b-67106aed70b2",
   "metadata": {},
   "outputs": [
    {
     "name": "stderr",
     "output_type": "stream",
     "text": [
      "2022-04-07 21:54:06.958 | INFO     | __main__:fetch_Ratings:2 - Fetching https://api.nhtsa.gov/SafetyRatings/modelyear/2009/make/BMW/model/Z4 SDRIVE35IS\n",
      "2022-04-07 21:54:07.138 | INFO     | __main__:fetch_Ratings:9 - 403\n",
      "2022-04-07 21:54:07.138 | WARNING  | __main__:result_status:85 - Stopped! (5269_2009_BMW_Z4 SDRIVE35IS)\n"
     ]
    },
    {
     "data": {
      "text/plain": [
       "-1"
      ]
     },
     "execution_count": 237,
     "metadata": {},
     "output_type": "execute_result"
    }
   ],
   "source": [
    "start = years.index(2010)\n",
    "Get_Ratings(5229,years[start:],makes,models_clean,True)"
   ]
  },
  {
   "cell_type": "code",
   "execution_count": 238,
   "id": "9ed0a6af-3628-4e4a-82d5-e1c74874122d",
   "metadata": {},
   "outputs": [
    {
     "name": "stderr",
     "output_type": "stream",
     "text": [
      "2022-04-07 22:34:03.106 | INFO     | __main__:fetch_Ratings:2 - Fetching https://api.nhtsa.gov/SafetyRatings/modelyear/2008/make/JEEP/model/GRAND CHEROKEE WK\n",
      "2022-04-07 22:34:03.275 | INFO     | __main__:fetch_Ratings:9 - 403\n",
      "2022-04-07 22:34:03.276 | WARNING  | __main__:result_status:85 - Stopped! (5505_2008_JEEP_GRAND CHEROKEE WK)\n"
     ]
    },
    {
     "data": {
      "text/plain": [
       "-1"
      ]
     },
     "execution_count": 238,
     "metadata": {},
     "output_type": "execute_result"
    }
   ],
   "source": [
    "start = years.index(2009)\n",
    "Get_Ratings(5269,years[start:],makes,models_clean,True)"
   ]
  },
  {
   "cell_type": "code",
   "execution_count": 239,
   "id": "99306a51-7a85-4be4-8236-0f975a697da2",
   "metadata": {},
   "outputs": [
    {
     "name": "stderr",
     "output_type": "stream",
     "text": [
      "2022-04-07 22:44:21.969 | INFO     | __main__:fetch_Ratings:2 - Fetching https://api.nhtsa.gov/SafetyRatings/modelyear/2007/make/KIA/model/RONDO\n",
      "2022-04-07 22:44:22.378 | INFO     | __main__:fetch_Ratings:9 - 200\n",
      "2022-04-07 22:44:22.378 | INFO     | __main__:fetch_Ratings:2 - Fetching https://api.nhtsa.gov/SafetyRatings/VehicleId/2337\n",
      "2022-04-07 22:44:22.570 | INFO     | __main__:fetch_Ratings:9 - 403\n",
      "2022-04-07 22:44:22.571 | WARNING  | __main__:result_status:85 - Stopped! (5710_2007_KIA_RONDO)\n"
     ]
    },
    {
     "data": {
      "text/plain": [
       "-1"
      ]
     },
     "execution_count": 239,
     "metadata": {},
     "output_type": "execute_result"
    }
   ],
   "source": [
    "start = years.index(2008)\n",
    "Get_Ratings(5505,years[start:],makes,models_clean,True)"
   ]
  },
  {
   "cell_type": "code",
   "execution_count": 240,
   "id": "e168e26b-2391-4163-8a14-c359527825cd",
   "metadata": {},
   "outputs": [
    {
     "name": "stderr",
     "output_type": "stream",
     "text": [
      "2022-04-07 22:53:58.724 | INFO     | __main__:fetch_Ratings:2 - Fetching https://api.nhtsa.gov/SafetyRatings/modelyear/2006/make/FORD/model/EXPEDITION\n",
      "2022-04-07 22:53:58.896 | INFO     | __main__:fetch_Ratings:9 - 403\n",
      "2022-04-07 22:53:58.897 | WARNING  | __main__:result_status:85 - Stopped! (5822_2006_FORD_EXPEDITION)\n"
     ]
    },
    {
     "data": {
      "text/plain": [
       "-1"
      ]
     },
     "execution_count": 240,
     "metadata": {},
     "output_type": "execute_result"
    }
   ],
   "source": [
    "start = years.index(2007)\n",
    "Get_Ratings(5710,years[start:],makes,models_clean,True)"
   ]
  },
  {
   "cell_type": "code",
   "execution_count": 241,
   "id": "c9493d25-b370-4140-bedf-e021115a79ae",
   "metadata": {},
   "outputs": [
    {
     "name": "stderr",
     "output_type": "stream",
     "text": [
      "2022-04-07 23:03:43.294 | INFO     | __main__:fetch_Ratings:2 - Fetching https://api.nhtsa.gov/SafetyRatings/modelyear/2006/make/SAAB/model/FOCUS RS\n",
      "2022-04-07 23:03:43.495 | INFO     | __main__:fetch_Ratings:9 - 403\n",
      "2022-04-07 23:03:43.496 | WARNING  | __main__:result_status:85 - Stopped! (5836_2006_SAAB_FOCUS RS)\n"
     ]
    },
    {
     "data": {
      "text/plain": [
       "-1"
      ]
     },
     "execution_count": 241,
     "metadata": {},
     "output_type": "execute_result"
    }
   ],
   "source": [
    "start = years.index(2006)\n",
    "Get_Ratings(5822,years[start:],makes,models_clean,True)"
   ]
  },
  {
   "cell_type": "code",
   "execution_count": 244,
   "id": "2df2c6af-4a97-4f78-9ebd-66f15656c83f",
   "metadata": {},
   "outputs": [
    {
     "name": "stderr",
     "output_type": "stream",
     "text": [
      "2022-04-07 23:14:00.980 | INFO     | __main__:fetch_Ratings:2 - Fetching https://api.nhtsa.gov/SafetyRatings/modelyear/2005/make/MERCURY/model/GRAND MARQUIS\n",
      "2022-04-07 23:14:01.159 | INFO     | __main__:fetch_Ratings:9 - 403\n",
      "2022-04-07 23:14:01.160 | WARNING  | __main__:result_status:85 - Stopped! (6071_2005_MERCURY_GRAND MARQUIS)\n"
     ]
    },
    {
     "data": {
      "text/plain": [
       "-1"
      ]
     },
     "execution_count": 244,
     "metadata": {},
     "output_type": "execute_result"
    }
   ],
   "source": [
    "start = years.index(2006)\n",
    "Get_Ratings(5836,years[start:],makes,models_clean,True)"
   ]
  },
  {
   "cell_type": "code",
   "execution_count": 245,
   "id": "c250c74d-54e1-4b0c-a08a-1b444af57936",
   "metadata": {},
   "outputs": [
    {
     "name": "stderr",
     "output_type": "stream",
     "text": [
      "2022-04-07 23:23:58.713 | INFO     | __main__:fetch_Ratings:2 - Fetching https://api.nhtsa.gov/SafetyRatings/modelyear/2004/make/LEXUS/model/SC430\n",
      "2022-04-07 23:23:58.988 | INFO     | __main__:fetch_Ratings:9 - 200\n",
      "2022-04-07 23:23:58.989 | INFO     | __main__:fetch_Ratings:2 - Fetching https://api.nhtsa.gov/SafetyRatings/VehicleId/1323\n",
      "2022-04-07 23:23:59.159 | INFO     | __main__:fetch_Ratings:9 - 403\n",
      "2022-04-07 23:23:59.160 | WARNING  | __main__:result_status:85 - Stopped! (6269_2004_LEXUS_SC430)\n"
     ]
    },
    {
     "data": {
      "text/plain": [
       "-1"
      ]
     },
     "execution_count": 245,
     "metadata": {},
     "output_type": "execute_result"
    }
   ],
   "source": [
    "start = years.index(2005)\n",
    "Get_Ratings(6071,years[start:],makes,models_clean,True)"
   ]
  },
  {
   "cell_type": "code",
   "execution_count": 248,
   "id": "b95a6c5d-9310-4b7e-9b43-c851f1e8bd58",
   "metadata": {},
   "outputs": [
    {
     "name": "stderr",
     "output_type": "stream",
     "text": [
      "2022-04-08 08:23:51.187 | INFO     | __main__:fetch_Ratings:2 - Fetching https://api.nhtsa.gov/SafetyRatings/modelyear/2003/make/DODGE/model/GRAND CARAVAN CARGO\n",
      "2022-04-08 08:23:51.221 | INFO     | __main__:fetch_Ratings:9 - 403\n",
      "2022-04-08 08:23:51.223 | WARNING  | __main__:result_status:85 - Stopped! (6364_2003_DODGE_GRAND CARAVAN CARGO)\n"
     ]
    },
    {
     "data": {
      "text/plain": [
       "-1"
      ]
     },
     "execution_count": 248,
     "metadata": {},
     "output_type": "execute_result"
    }
   ],
   "source": [
    "start = years.index(2004)\n",
    "Get_Ratings(6269,years[start:],makes,models_clean,True)"
   ]
  },
  {
   "cell_type": "code",
   "execution_count": 249,
   "id": "dbcf3102-aabb-4006-8c24-6e484da4143e",
   "metadata": {},
   "outputs": [
    {
     "name": "stderr",
     "output_type": "stream",
     "text": [
      "2022-04-08 08:48:54.415 | INFO     | __main__:fetch_Ratings:2 - Fetching https://api.nhtsa.gov/SafetyRatings/modelyear/2002/make/HYUNDAI/model/TUCSON PLUG-IN HYBRID\n",
      "2022-04-08 08:48:54.585 | INFO     | __main__:fetch_Ratings:9 - 403\n",
      "2022-04-08 08:48:54.585 | WARNING  | __main__:result_status:85 - Stopped! (6522_2002_HYUNDAI_TUCSON PLUG-IN HYBRID)\n"
     ]
    },
    {
     "data": {
      "text/plain": [
       "-1"
      ]
     },
     "execution_count": 249,
     "metadata": {},
     "output_type": "execute_result"
    }
   ],
   "source": [
    "start = years.index(2003)\n",
    "Get_Ratings(6364,years[start:],makes,models_clean,True)"
   ]
  },
  {
   "cell_type": "code",
   "execution_count": 255,
   "id": "abf18439-f69b-42b6-9c9b-ae5aadfca47b",
   "metadata": {},
   "outputs": [
    {
     "name": "stderr",
     "output_type": "stream",
     "text": [
      "2022-04-08 09:28:49.741 | INFO     | __main__:fetch_Ratings:2 - Fetching https://api.nhtsa.gov/SafetyRatings/modelyear/2000/make/PONTIAC/model/G5\n",
      "2022-04-08 09:28:49.914 | INFO     | __main__:fetch_Ratings:9 - 403\n",
      "2022-04-08 09:28:49.915 | WARNING  | __main__:result_status:85 - Stopped! (6684_2000_PONTIAC_G5)\n"
     ]
    },
    {
     "data": {
      "text/plain": [
       "-1"
      ]
     },
     "execution_count": 255,
     "metadata": {},
     "output_type": "execute_result"
    }
   ],
   "source": [
    "start = years.index(2001)\n",
    "Get_Ratings(6556,years[start:],makes,models_clean,True)"
   ]
  },
  {
   "cell_type": "code",
   "execution_count": 264,
   "id": "e4d5058c-db79-4b70-ae65-eabe510cc28e",
   "metadata": {},
   "outputs": [
    {
     "name": "stderr",
     "output_type": "stream",
     "text": [
      "2022-04-08 09:41:17.129 | INFO     | __main__:fetch_Ratings:2 - Fetching https://api.nhtsa.gov/SafetyRatings/modelyear/1999/make/NISSAN/model/TYPHOON\n",
      "2022-04-08 09:41:17.492 | INFO     | __main__:fetch_Ratings:9 - 502\n",
      "2022-04-08 09:41:17.493 | WARNING  | __main__:result_status:85 - Stopped! (6712_1999_NISSAN_TYPHOON)\n"
     ]
    },
    {
     "data": {
      "text/plain": [
       "-1"
      ]
     },
     "execution_count": 264,
     "metadata": {},
     "output_type": "execute_result"
    }
   ],
   "source": [
    "start = years.index(1999)\n",
    "Get_Ratings(6707,years[start:],makes,models_clean,True)"
   ]
  },
  {
   "cell_type": "code",
   "execution_count": 269,
   "id": "a1312ac7-2570-4857-81e7-34493d505f57",
   "metadata": {},
   "outputs": [
    {
     "name": "stderr",
     "output_type": "stream",
     "text": [
      "2022-04-08 09:53:50.689 | INFO     | __main__:fetch_Ratings:2 - Fetching https://api.nhtsa.gov/SafetyRatings/modelyear/1998/make/VOLVO/model/XC90 T8\n",
      "2022-04-08 09:53:50.873 | INFO     | __main__:fetch_Ratings:9 - 403\n",
      "2022-04-08 09:53:50.875 | WARNING  | __main__:result_status:85 - Stopped! (6824_1998_VOLVO_XC90 T8)\n"
     ]
    },
    {
     "data": {
      "text/plain": [
       "-1"
      ]
     },
     "execution_count": 269,
     "metadata": {},
     "output_type": "execute_result"
    }
   ],
   "source": [
    "start = years.index(1999)\n",
    "Get_Ratings(6712,years[start:],makes,models_clean,True)"
   ]
  },
  {
   "cell_type": "code",
   "execution_count": 270,
   "id": "bcf86291-5fbe-45d6-b7b9-a54069272054",
   "metadata": {},
   "outputs": [
    {
     "name": "stderr",
     "output_type": "stream",
     "text": [
      "2022-04-08 10:03:53.247 | INFO     | __main__:fetch_Ratings:2 - Fetching https://api.nhtsa.gov/SafetyRatings/modelyear/1996/make/BMW/model/M6\n",
      "2022-04-08 10:03:53.416 | INFO     | __main__:fetch_Ratings:9 - 403\n",
      "2022-04-08 10:03:53.418 | WARNING  | __main__:result_status:85 - Stopped! (6981_1996_BMW_M6)\n"
     ]
    },
    {
     "data": {
      "text/plain": [
       "-1"
      ]
     },
     "execution_count": 270,
     "metadata": {},
     "output_type": "execute_result"
    }
   ],
   "source": [
    "start = years.index(1998)\n",
    "Get_Ratings(6824,years[start:],makes,models_clean,True)"
   ]
  },
  {
   "cell_type": "code",
   "execution_count": 271,
   "id": "f88abe7f-8759-44db-a578-74dcc83ec2b9",
   "metadata": {},
   "outputs": [
    {
     "name": "stderr",
     "output_type": "stream",
     "text": [
      "2022-04-08 10:13:45.134 | INFO     | __main__:fetch_Ratings:2 - Fetching https://api.nhtsa.gov/SafetyRatings/modelyear/1996/make/MAZDA/model/2 SERIES COUPE\n",
      "2022-04-08 10:13:45.308 | INFO     | __main__:fetch_Ratings:9 - 403\n",
      "2022-04-08 10:13:45.310 | WARNING  | __main__:result_status:85 - Stopped! (6981_1996_MAZDA_2 SERIES COUPE)\n"
     ]
    },
    {
     "data": {
      "text/plain": [
       "-1"
      ]
     },
     "execution_count": 271,
     "metadata": {},
     "output_type": "execute_result"
    }
   ],
   "source": [
    "start = years.index(1996)\n",
    "Get_Ratings(6981,years[start:],makes,models_clean,True)"
   ]
  },
  {
   "cell_type": "code",
   "execution_count": 279,
   "id": "5c602931-72c2-47f5-a806-2a9a50961fa5",
   "metadata": {},
   "outputs": [
    {
     "name": "stderr",
     "output_type": "stream",
     "text": [
      "2022-04-08 10:23:49.706 | INFO     | __main__:fetch_Ratings:2 - Fetching https://api.nhtsa.gov/SafetyRatings/modelyear/1996/make/GMC/model/X5 SDRIVE35I\n",
      "2022-04-08 10:23:49.881 | INFO     | __main__:fetch_Ratings:9 - 403\n",
      "2022-04-08 10:23:49.882 | WARNING  | __main__:result_status:85 - Stopped! (6981_1996_GMC_X5 SDRIVE35I)\n"
     ]
    },
    {
     "data": {
      "text/plain": [
       "-1"
      ]
     },
     "execution_count": 279,
     "metadata": {},
     "output_type": "execute_result"
    }
   ],
   "source": [
    "start = years.index(1996)\n",
    "Get_Ratings(6980,years[start:],makes,models_clean,True)"
   ]
  },
  {
   "cell_type": "code",
   "execution_count": 282,
   "id": "db11c621-de63-4d36-b5ef-afb468dc581c",
   "metadata": {},
   "outputs": [
    {
     "name": "stderr",
     "output_type": "stream",
     "text": [
      "2022-04-08 10:33:55.338 | INFO     | __main__:fetch_Ratings:2 - Fetching https://api.nhtsa.gov/SafetyRatings/modelyear/1995/make/AUDI/model/AUDI S8 LWB\n",
      "2022-04-08 10:33:55.525 | INFO     | __main__:fetch_Ratings:9 - 403\n",
      "2022-04-08 10:33:55.527 | WARNING  | __main__:result_status:85 - Stopped! (6988_1995_AUDI_AUDI S8 LWB)\n"
     ]
    },
    {
     "data": {
      "text/plain": [
       "-1"
      ]
     },
     "execution_count": 282,
     "metadata": {},
     "output_type": "execute_result"
    }
   ],
   "source": [
    "start = years.index(1996)\n",
    "Get_Ratings(6981,years[start:],makes,models_clean,True)"
   ]
  },
  {
   "cell_type": "code",
   "execution_count": 283,
   "id": "ee957d80-d1f6-4366-9cf6-91f62b2a80de",
   "metadata": {},
   "outputs": [
    {
     "name": "stderr",
     "output_type": "stream",
     "text": [
      "2022-04-08 10:43:54.956 | INFO     | __main__:fetch_Ratings:2 - Fetching https://api.nhtsa.gov/SafetyRatings/modelyear/1995/make/OLDSMOBILE/model/A5 SPORTBACK\n",
      "2022-04-08 10:43:55.132 | INFO     | __main__:fetch_Ratings:9 - 403\n",
      "2022-04-08 10:43:55.134 | WARNING  | __main__:result_status:85 - Stopped! (6989_1995_OLDSMOBILE_A5 SPORTBACK)\n"
     ]
    },
    {
     "data": {
      "text/plain": [
       "-1"
      ]
     },
     "execution_count": 283,
     "metadata": {},
     "output_type": "execute_result"
    }
   ],
   "source": [
    "start = years.index(1995)\n",
    "Get_Ratings(6988,years[start:],makes,models_clean,True)"
   ]
  },
  {
   "cell_type": "code",
   "execution_count": 286,
   "id": "a383a4ff-e389-45f3-ab56-f3ef18c52cc8",
   "metadata": {},
   "outputs": [
    {
     "name": "stderr",
     "output_type": "stream",
     "text": [
      "2022-04-08 10:53:51.140 | INFO     | __main__:fetch_Ratings:2 - Fetching https://api.nhtsa.gov/SafetyRatings/modelyear/1993/make/CHEVROLET/model/MALIBU\n",
      "2022-04-08 10:53:51.399 | INFO     | __main__:fetch_Ratings:9 - 403\n",
      "2022-04-08 10:53:51.400 | WARNING  | __main__:result_status:85 - Stopped! (7134_1993_CHEVROLET_MALIBU)\n"
     ]
    },
    {
     "data": {
      "text/plain": [
       "-1"
      ]
     },
     "execution_count": 286,
     "metadata": {},
     "output_type": "execute_result"
    }
   ],
   "source": [
    "start = years.index(1995)\n",
    "Get_Ratings(6989,years[start:],makes,models_clean,True)"
   ]
  },
  {
   "cell_type": "code",
   "execution_count": 287,
   "id": "a5569835-dfb0-4698-9ba8-8f0b292fdf29",
   "metadata": {},
   "outputs": [
    {
     "name": "stderr",
     "output_type": "stream",
     "text": [
      "2022-04-08 11:03:54.689 | INFO     | __main__:fetch_Ratings:2 - Fetching https://api.nhtsa.gov/SafetyRatings/modelyear/1991/make/CHEVROLET/model/CAPRICE PPV\n",
      "2022-04-08 11:03:54.861 | INFO     | __main__:fetch_Ratings:9 - 403\n",
      "2022-04-08 11:03:54.862 | WARNING  | __main__:result_status:85 - Stopped! (7251_1991_CHEVROLET_CAPRICE PPV)\n"
     ]
    },
    {
     "data": {
      "text/plain": [
       "-1"
      ]
     },
     "execution_count": 287,
     "metadata": {},
     "output_type": "execute_result"
    }
   ],
   "source": [
    "start = years.index(1993)\n",
    "Get_Ratings(7134,years[start:],makes,models_clean,True)"
   ]
  },
  {
   "cell_type": "code",
   "execution_count": 288,
   "id": "a3a3fb13-e50f-4ed3-95af-102f06722be8",
   "metadata": {},
   "outputs": [
    {
     "name": "stderr",
     "output_type": "stream",
     "text": [
      "2022-04-08 11:13:54.351 | INFO     | __main__:fetch_Ratings:2 - Fetching https://api.nhtsa.gov/SafetyRatings/modelyear/1991/make/MAZDA/model/HHR\n",
      "2022-04-08 11:13:54.535 | INFO     | __main__:fetch_Ratings:9 - 403\n",
      "2022-04-08 11:13:54.537 | WARNING  | __main__:result_status:85 - Stopped! (7261_1991_MAZDA_HHR)\n"
     ]
    },
    {
     "data": {
      "text/plain": [
       "-1"
      ]
     },
     "execution_count": 288,
     "metadata": {},
     "output_type": "execute_result"
    }
   ],
   "source": [
    "start = years.index(1991)\n",
    "Get_Ratings(7251,years[start:],makes,models_clean,True)"
   ]
  },
  {
   "cell_type": "code",
   "execution_count": 291,
   "id": "2c958aa0-09ba-424f-909d-a4e77c8be71f",
   "metadata": {},
   "outputs": [
    {
     "name": "stderr",
     "output_type": "stream",
     "text": [
      "2022-04-08 11:23:30.264 | INFO     | __main__:fetch_Ratings:2 - Fetching https://api.nhtsa.gov/SafetyRatings/modelyear/1990/make/INFINITI/model/Q70 HYBRID\n",
      "2022-04-08 11:23:30.658 | INFO     | __main__:fetch_Ratings:9 - 403\n",
      "2022-04-08 11:23:30.659 | WARNING  | __main__:result_status:85 - Stopped! (7294_1990_INFINITI_Q70 HYBRID)\n"
     ]
    },
    {
     "data": {
      "text/plain": [
       "-1"
      ]
     },
     "execution_count": 291,
     "metadata": {},
     "output_type": "execute_result"
    }
   ],
   "source": [
    "start = years.index(1991)\n",
    "Get_Ratings(7261,years[start:],makes,models_clean,True)"
   ]
  },
  {
   "cell_type": "code",
   "execution_count": 292,
   "id": "e67a573a-ff50-4edf-8e43-6d854f4c4415",
   "metadata": {},
   "outputs": [
    {
     "name": "stderr",
     "output_type": "stream",
     "text": [
      "2022-04-08 11:29:20.183 | INFO     | __main__:fetch_Ratings:2 - Fetching https://api.nhtsa.gov/SafetyRatings/modelyear/1990/make/VOLKSWAGEN/model/G35 SEDAN\n",
      "2022-04-08 11:29:20.473 | INFO     | __main__:fetch_Ratings:9 - 200\n",
      "2022-04-08 11:29:20.474 | INFO     | __main__:Get_Ratings:52 - Empty data\n",
      "2022-04-08 11:29:20.475 | INFO     | __main__:Get_Ratings:81 - Finished (7295_1990_VOLKSWAGEN_G35 SEDAN) from 1990 to 1990.\n"
     ]
    }
   ],
   "source": [
    "start = years.index(1990)\n",
    "Get_Ratings(7294,years[start:],makes,models_clean,True)"
   ]
  },
  {
   "cell_type": "code",
   "execution_count": null,
   "id": "297d4263-a41e-46aa-bc40-8e04c3a09e2d",
   "metadata": {},
   "outputs": [],
   "source": []
  }
 ],
 "metadata": {
  "kernelspec": {
   "display_name": "Python 3 (ipykernel)",
   "language": "python",
   "name": "python3"
  },
  "language_info": {
   "codemirror_mode": {
    "name": "ipython",
    "version": 3
   },
   "file_extension": ".py",
   "mimetype": "text/x-python",
   "name": "python",
   "nbconvert_exporter": "python",
   "pygments_lexer": "ipython3",
   "version": "3.9.7"
  }
 },
 "nbformat": 4,
 "nbformat_minor": 5
}
