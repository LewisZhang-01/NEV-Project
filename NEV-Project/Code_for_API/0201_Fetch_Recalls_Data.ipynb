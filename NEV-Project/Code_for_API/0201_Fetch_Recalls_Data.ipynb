{
 "cells": [
  {
   "cell_type": "markdown",
   "id": "ac979d09-7a5d-4d31-a4cb-fff21c1cf21e",
   "metadata": {},
   "source": [
    "# Accessing the NHTSA API (crawler)\n",
    "This notebook will focus on recalls data from NHTSA API.\n",
    "## Recall Data "
   ]
  },
  {
   "cell_type": "code",
   "execution_count": 1,
   "id": "c8d62758-e509-46f0-83b9-d5ba4728174f",
   "metadata": {},
   "outputs": [
    {
     "name": "stdout",
     "output_type": "stream",
     "text": [
      "pygame 2.1.2 (SDL 2.0.18, Python 3.9.7)\n",
      "Hello from the pygame community. https://www.pygame.org/contribute.html\n"
     ]
    }
   ],
   "source": [
    "import requests\n",
    "from pathlib import Path\n",
    "import json\n",
    "import pandas as pd\n",
    "import urllib.request\n",
    "import urllib.error\n",
    "import time\n",
    "from loguru import logger\n",
    "import pygame\n",
    "from IPython.display import display, clear_output"
   ]
  },
  {
   "cell_type": "code",
   "execution_count": 2,
   "id": "629ce44e-f939-4a02-b0ac-b18f43f67430",
   "metadata": {},
   "outputs": [],
   "source": [
    "# Set API prefix because our api headers are same.\n",
    "api_prefix = \"https://api.nhtsa.gov\"\n",
    "\n",
    "# Set API suffix for get year.\n",
    "api_get_year = \"/products/vehicle/modelYears?issueType=r\"\n",
    "\n",
    "# Set output path.\n",
    "dir_raw = Path(\"../Raw_Data/Raw_API/Recalls\")\n",
    "dir_raw.mkdir(parents=True, exist_ok=True)\n",
    "out_dir = Path(\"../Raw_Data/Raw_API/Recalls_buffer\")\n",
    "out_dir.mkdir(parents=True, exist_ok=True)"
   ]
  },
  {
   "cell_type": "code",
   "execution_count": 3,
   "id": "9922a53f-10e4-406f-96f4-4065c78bb63e",
   "metadata": {},
   "outputs": [],
   "source": [
    "def fetch_recalls(url):\n",
    "    logger.info(\"Fetching %s\" % url)\n",
    "    try:\n",
    "        headers = {\n",
    "          'User-Agent':\"Mozilla/5.0 (Macintosh; Intel Mac OS X 10.6; rv:2.0.1) Gecko/20100101 Firefox/4.0.1\"\n",
    "        }\n",
    "        response = requests.get(url,headers=headers)\n",
    "        status = response.status_code\n",
    "        logger.info(status)\n",
    "\n",
    "        # Stop if the API cannot be accessed properly.\n",
    "        if status != 200:\n",
    "            return [-1,None]\n",
    "        \n",
    "        # Otherwise return retrieved data.\n",
    "        raw_data = response.text\n",
    "        return [1,json.loads(raw_data)]\n",
    "    except urllib.error.URLError as e:\n",
    "        e.reason \n",
    "\n",
    "# Output each recall for a json file.\n",
    "def write_out_raw(recalls_count,year,make,model,data):\n",
    "    # Check if '/' is already in make or model, replaced by '_or_'.\n",
    "    if '/' in make:\n",
    "        make = make.replace(\"/\", \"_or_\")\n",
    "    if '/' in model:\n",
    "        model = model.replace(\"/\", \"_or_\")\n",
    "    # File name format [complaint_num]year_make_model.json\n",
    "    #             e.g. [802]1994_MERCEDES BENZ_E.json\n",
    "    fname = \"[%d]%s_%s_%s.json\" % (recalls_count,year,make,model)\n",
    "    out_path = dir_raw / fname\n",
    "    logger.info(\"Writing data to %s\" % out_path)\n",
    "    fout = open(out_path, \"w\")\n",
    "    json.dump(data, fout, indent=4, sort_keys=True)\n",
    "    fout.close()\n",
    "    \n",
    "# Check API status.\n",
    "def check_status(data):\n",
    "    #number of recall in this time.\n",
    "    recall_num = data[\"count\"]\n",
    "    # Are results returned successfully?\n",
    "    if data[\"message\"] != \"Results returned successfully\":\n",
    "        logger.warning(\"Fail to get from API, %s\" % (data[\"status_message\"]))\n",
    "        return [False,-1]\n",
    "    elif recall_num <= 0:\n",
    "        logger.warning(\"No info from current API address.\")\n",
    "        return [False,0]\n",
    "    else:\n",
    "        return [True,recall_num]\n",
    "\n",
    "# Output for \"years\", \"makes\", \"models\" which are dictionaries we get from first 3 steps.  \n",
    "def write_out(name,data):\n",
    "    fname = \"%s.json\" % (name)\n",
    "    out_path = out_dir / fname\n",
    "    logger.info(\"Writing data to %s\" % out_path)\n",
    "    fout = open(out_path, \"w\")\n",
    "    json.dump(data, fout, indent=4, sort_keys=True)\n",
    "    fout.close()"
   ]
  },
  {
   "cell_type": "markdown",
   "id": "209d6d29-6440-42aa-b658-899c5a30868c",
   "metadata": {
    "tags": []
   },
   "source": [
    "## Step-1: Get all Model Years "
   ]
  },
  {
   "cell_type": "code",
   "execution_count": 4,
   "id": "4dae3265-791b-438d-8bf4-df8f3ba88818",
   "metadata": {
    "tags": []
   },
   "outputs": [
    {
     "name": "stderr",
     "output_type": "stream",
     "text": [
      "2022-04-28 13:20:07.333 | INFO     | __main__:fetch_recalls:2 - Fetching https://api.nhtsa.gov/products/vehicle/modelYears?issueType=r\n",
      "2022-04-28 13:20:08.006 | INFO     | __main__:fetch_recalls:9 - 200\n",
      "2022-04-28 13:20:08.007 | INFO     | __main__:<module>:7 - Completed the task of getting all model years!\n",
      "2022-04-28 13:20:08.008 | INFO     | __main__:write_out:55 - Writing data to ../raw/Recalls_buffer/years.json\n"
     ]
    }
   ],
   "source": [
    "# Construct API url.\n",
    "api = api_prefix + api_get_year\n",
    "# Fetch data.\n",
    "status,data = fetch_recalls(api)\n",
    "# Convert result data into list format.\n",
    "years = (list(each[\"modelYear\"] for each in data[\"results\"]))\n",
    "logger.info(\"Completed the task of getting all model years!\")\n",
    "# Store years data.\n",
    "write_out(\"years\",years)"
   ]
  },
  {
   "cell_type": "markdown",
   "id": "7e95c2fc-a119-4d16-ae71-da60517693fb",
   "metadata": {},
   "source": [
    "## Step-2: Get all Makes for the Model Year"
   ]
  },
  {
   "cell_type": "code",
   "execution_count": 5,
   "id": "9fe9de5d-82b7-4e77-abe5-340aa781390b",
   "metadata": {},
   "outputs": [
    {
     "name": "stderr",
     "output_type": "stream",
     "text": [
      "2022-04-28 13:22:00.650 | INFO     | __main__:fetch_recalls:2 - Fetching https://api.nhtsa.gov/products/vehicle/makes?modelYear=9999&issueType=r\n",
      "2022-04-28 13:22:01.664 | INFO     | __main__:fetch_recalls:9 - 200\n",
      "2022-04-28 13:22:01.667 | INFO     | __main__:<module>:14 - Completed the task of getting all makes for the model year!\n",
      "2022-04-28 13:22:01.669 | INFO     | __main__:write_out:55 - Writing data to ../raw/Recalls_buffer/recall_makes.json\n"
     ]
    }
   ],
   "source": [
    "makes={}\n",
    "for year in years:\n",
    "    clear_output()\n",
    "    # Construct API url.\n",
    "    api = api_prefix + \"/products/vehicle/makes?modelYear=%d&issueType=r\" % (int(year))\n",
    "    # Fetch data.\n",
    "    status,data = fetch_recalls(api)\n",
    "    # Store result data into a dict by year.\n",
    "    for each in data[\"results\"]:\n",
    "        if year in makes:\n",
    "            makes[year].append(each[\"make\"])\n",
    "        else:\n",
    "            makes[year] = [each[\"make\"]]\n",
    "logger.info(\"Completed the task of getting all makes for the model year!\")\n",
    "# Store makes data.\n",
    "write_out(\"recall_makes\",makes)"
   ]
  },
  {
   "cell_type": "markdown",
   "id": "59e5fcb7-c5d5-4e6a-82b7-20cc1c4a6b4e",
   "metadata": {},
   "source": [
    "## Step-3: Get all Models for the Make and Model Year \n",
    "Due to the website's restrictions on crawlers, we have to change IP frequently to bypass its restrictions. The following function will automatically stop when it received an access error (Typically a 403 error) and return the data we got so far. And it will give us a hint for next start."
   ]
  },
  {
   "cell_type": "code",
   "execution_count": 6,
   "id": "d5ceaec4-0136-4d74-8974-ca8776f19c7a",
   "metadata": {},
   "outputs": [],
   "source": [
    "def Get_model(years,skip):\n",
    "    models={}\n",
    "    start_year = years[0]\n",
    "    for year in years:\n",
    "        for make in makes[year]:\n",
    "            # If meet some special case we need skip it.\n",
    "            if make != skip:\n",
    "                clear_output()\n",
    "                api = api_prefix + \"/products/vehicle/models?modelYear=%d&make=%s&issueType=r\" % (int(year),make)\n",
    "                status,data = fetch_recalls(api)\n",
    "            # Status equal -1 means we are failing to use this API at this moment.\n",
    "            if status == -1:\n",
    "                logger.warning(\"Start year:%s, Current Year:%s(index:%d) Current Make:%s(index:%d)\" % (start_year,year,years.index(year),make,makes[year].index(make)))\n",
    "                return models\n",
    "            # Otherwise, convert result data into list format then store in a dict by make.\n",
    "            else:\n",
    "                for each in data[\"results\"]:\n",
    "                    if make in models:\n",
    "                        models[make].append(each[\"model\"])\n",
    "                    else:\n",
    "                        models[make] = [each[\"model\"]]\n",
    "    end_year = year\n",
    "    logger.info(\"Finished (%s-%s)\" % (start_year,end_year))\n",
    "    return models"
   ]
  },
  {
   "cell_type": "code",
   "execution_count": 7,
   "id": "ed9c811e-2cf8-492b-8439-7abade3e7f3d",
   "metadata": {},
   "outputs": [
    {
     "name": "stderr",
     "output_type": "stream",
     "text": [
      "2022-04-28 13:34:37.925 | INFO     | __main__:fetch_recalls:2 - Fetching https://api.nhtsa.gov/products/vehicle/models?modelYear=1984&make=EMERGENCY ONE&issueType=r\n",
      "2022-04-28 13:34:38.139 | INFO     | __main__:fetch_recalls:9 - 403\n",
      "2022-04-28 13:34:38.142 | WARNING  | __main__:Get_model:13 - Start year:1949, Current Year:1984(index:35) Current Make:EMERGENCY ONE(index:35)\n"
     ]
    }
   ],
   "source": [
    "models = Get_model(years,\"\")"
   ]
  },
  {
   "cell_type": "markdown",
   "id": "00fa85b2-b011-40e5-816a-26c0f8e694a6",
   "metadata": {
    "tags": []
   },
   "source": [
    "#### We cannot access url related to **\"EMERGENCY ONE\"**, therefore we skip it."
   ]
  },
  {
   "cell_type": "code",
   "execution_count": 8,
   "id": "4de7d7e2-1789-4174-9fe2-199a10ee5db2",
   "metadata": {},
   "outputs": [
    {
     "name": "stderr",
     "output_type": "stream",
     "text": [
      "2022-04-28 14:36:03.006 | INFO     | __main__:fetch_recalls:2 - Fetching https://api.nhtsa.gov/products/vehicle/models?modelYear=9999&make=ZEMCO&issueType=r\n",
      "2022-04-28 14:36:03.344 | INFO     | __main__:fetch_recalls:9 - 200\n",
      "2022-04-28 14:36:03.348 | INFO     | __main__:Get_model:23 - Finished (1984-9999)\n"
     ]
    }
   ],
   "source": [
    "start = years.index(\"1984\")\n",
    "model_1 = Get_model(years[start:],\"EMERGENCY ONE\")"
   ]
  },
  {
   "cell_type": "code",
   "execution_count": 10,
   "id": "054a4d83-60c0-410a-95cf-a812c7d9de1e",
   "metadata": {},
   "outputs": [
    {
     "data": {
      "text/plain": [
       "(393, 1319)"
      ]
     },
     "execution_count": 10,
     "metadata": {},
     "output_type": "execute_result"
    }
   ],
   "source": [
    "len(models),len(model_1)"
   ]
  },
  {
   "cell_type": "markdown",
   "id": "e677a545-cb18-4538-95a3-99a88cdc5c47",
   "metadata": {},
   "source": [
    "#### Define a function for merge two dictionary with out replacement & duplication."
   ]
  },
  {
   "cell_type": "code",
   "execution_count": 11,
   "id": "763a8c91-8dd3-4bc0-947a-ce2bc56967a4",
   "metadata": {},
   "outputs": [],
   "source": [
    "def merge_2_dict(dict_1,dict_2):\n",
    "    for key, value in dict_2.items():\n",
    "        if key in dict_1:\n",
    "            for v in value:\n",
    "                if v not in dict_1[key]:\n",
    "                    dict_1[key].append(v)\n",
    "        else:\n",
    "            dict_1[key] = value\n",
    "    return dict_1"
   ]
  },
  {
   "cell_type": "code",
   "execution_count": 12,
   "id": "e01db59c-f8c1-4f9a-9a3c-e8bbb023fcdb",
   "metadata": {},
   "outputs": [
    {
     "data": {
      "text/plain": [
       "1520"
      ]
     },
     "execution_count": 12,
     "metadata": {},
     "output_type": "execute_result"
    }
   ],
   "source": [
    "models = merge_2_dict(models,model_1)\n",
    "len(models)"
   ]
  },
  {
   "cell_type": "markdown",
   "id": "76b8ca3d-b8be-478a-a379-d57cf31c2bd3",
   "metadata": {},
   "source": [
    "#### Delete pair if the value of this key is empty."
   ]
  },
  {
   "cell_type": "code",
   "execution_count": 13,
   "id": "f642cc48-42e8-4731-afb6-074fe30fabe0",
   "metadata": {},
   "outputs": [
    {
     "data": {
      "text/plain": [
       "1520"
      ]
     },
     "execution_count": 13,
     "metadata": {},
     "output_type": "execute_result"
    }
   ],
   "source": [
    "clean_models = models.copy()\n",
    "for key in list(clean_models.keys()):\n",
    "    if not clean_models.get(key):\n",
    "        del clean_models[key]\n",
    "len(clean_models)"
   ]
  },
  {
   "cell_type": "markdown",
   "id": "f6334179-65a8-4f84-9ced-a7196e5cdf5c",
   "metadata": {},
   "source": [
    "#### Clean for redundancy"
   ]
  },
  {
   "cell_type": "code",
   "execution_count": 40,
   "id": "2fb10283-46ef-47d5-9b91-fe9ce7f95a22",
   "metadata": {},
   "outputs": [],
   "source": [
    "for key, val in clean_models.items():\n",
    "    clean_models[key]=list(set(val))"
   ]
  },
  {
   "cell_type": "markdown",
   "id": "ee60b0c8-e00e-4d71-b446-e2dd3d8106fa",
   "metadata": {},
   "source": [
    "#### Delect special 403 case from **makes** and **models**."
   ]
  },
  {
   "cell_type": "code",
   "execution_count": 14,
   "id": "dc26d857-4364-44ef-85a6-525859fdd05c",
   "metadata": {},
   "outputs": [],
   "source": [
    "#Retrieve back from file\n",
    "\n",
    "#f = open('../raw/Complaints-Plus/makes.json')\n",
    "#data_m = json.load(f)\n",
    "#f.close()\n",
    "#makes = data_m.copy()"
   ]
  },
  {
   "cell_type": "code",
   "execution_count": 41,
   "id": "d4fc1df4-6b7f-435b-99a1-efdf76b3b1dc",
   "metadata": {},
   "outputs": [
    {
     "name": "stderr",
     "output_type": "stream",
     "text": [
      "2022-04-28 15:13:15.293 | INFO     | __main__:<module>:9 - 76 -> 76\n"
     ]
    }
   ],
   "source": [
    "makes_clean_403 = makes.copy()\n",
    "for k,v in makes_clean_403.items():\n",
    "    if \"EMERGENCY ONE\" in v:\n",
    "        id = v.index(\"EMERGENCY ONE\")\n",
    "        del v[id]\n",
    "    if \"SUNLIGHT\" in v:\n",
    "        id = v.index(\"SUNLIGHT\")\n",
    "        del v[id]\n",
    "logger.info( \"%d -> %d\" %(len(makes),len(makes_clean_403)))"
   ]
  },
  {
   "cell_type": "code",
   "execution_count": 42,
   "id": "ea8b536e-b9f1-49fd-b63b-2e3e7ad08628",
   "metadata": {},
   "outputs": [
    {
     "name": "stderr",
     "output_type": "stream",
     "text": [
      "2022-04-28 15:13:46.527 | INFO     | __main__:<module>:4 - 1520 -> 1518\n"
     ]
    }
   ],
   "source": [
    "clean_models = clean_models.copy()\n",
    "del clean_models[\"EMERGENCY ONE\"]\n",
    "del clean_models[\"SUNLIGHT\"]\n",
    "logger.info( \"%d -> %d\" %(len(models),len(clean_models)))"
   ]
  },
  {
   "cell_type": "code",
   "execution_count": 43,
   "id": "623eb764-aac4-4fa0-acba-e39cce81fcb5",
   "metadata": {},
   "outputs": [
    {
     "name": "stderr",
     "output_type": "stream",
     "text": [
      "2022-04-28 15:13:50.937 | INFO     | __main__:write_out:55 - Writing data to ../raw/Recalls_buffer/recall_models.json\n"
     ]
    }
   ],
   "source": [
    "write_out(\"recall_models\",clean_models)"
   ]
  },
  {
   "cell_type": "markdown",
   "id": "cd2c5a11-ee86-4c6e-9818-16a4943d5ac1",
   "metadata": {},
   "source": [
    "## Step-4: Get all recalls for the selected Model Year, Make, Model"
   ]
  },
  {
   "cell_type": "code",
   "execution_count": 44,
   "id": "d8f512ad-9456-4993-b638-680a103a173b",
   "metadata": {},
   "outputs": [],
   "source": [
    "def Get_recalls(recalls_count,years,makes,models,continue_):\n",
    "    recalls_count = recalls_count\n",
    "    start_year = years[0]\n",
    "    for year in years:\n",
    "        # \"continue_\" means we've suffered an interruption, \n",
    "        # and we're going back to that position.\n",
    "        if continue_ : \n",
    "            #Get user input of \"make\" which want to continue.\n",
    "            make_input = input()\n",
    "            \n",
    "            #Find correspond index position in the \"makes\" dict.\n",
    "            position_make = makes[year].index(make_input)\n",
    "            \n",
    "            #Get user input of \"model\" which want to continue.\n",
    "            model_input = input()\n",
    "            \n",
    "            #Find correspond index position in the \"models\" dict.\n",
    "            position_model = models[make_input].index(model_input)\n",
    "            \n",
    "            # Find a list of rest of makes by current year. \n",
    "            make_position = makes[year].index(make_input)\n",
    "            \n",
    "            # Find a list of rest of models by current year & make. \n",
    "            model_position = models[make_input].index(model_input)\n",
    "\n",
    "            for make in (makes[year])[make_position:]:\n",
    "                for model in (models[make_input])[model_position:]:\n",
    "                    \n",
    "                    clear_output()\n",
    "                    api = api_prefix + \"/recalls/recallsByVehicle?make=%s&model=%s&modelYear=%d\" % (make,model,int(year))\n",
    "                    # Fetch data.\n",
    "                    status, data = fetch_recalls(api)\n",
    "\n",
    "                    # Status equal -1 means we are failing to use this API at this moment.\n",
    "                    if status == -1:\n",
    "                        logger.warning(\"Stopped! (%s_%s_%s_%s)\" % (recalls_count,year,make,model))                    \n",
    "                        alarm_clock()\n",
    "                        return -1\n",
    "                    \n",
    "                    # Skip if data is empty\n",
    "                    if data[\"results\"] != []:\n",
    "                        #Write out\n",
    "                        write_out_raw(recalls_count,year,make,model,data[\"results\"])\n",
    "                        recalls_count += 1\n",
    "                    else:\n",
    "                        logger.info(\"Empty data\")\n",
    "            continue_ = False\n",
    "        else:\n",
    "            for make in makes[year]:\n",
    "                for model in models[make]:\n",
    "                    clear_output()\n",
    "                    api = api_prefix + \"/recalls/recallsByVehicle?make=%s&model=%s&modelYear=%d\" % (make,model,int(year))\n",
    "                    status, data = fetch_recalls(api)\n",
    "\n",
    "                    # Status equal -1 means we are failing to use this API at this moment.\n",
    "                    if status == -1:\n",
    "                        logger.warning(\"Stopped! (%s_%s_%s_%s)\" % (recalls_count,year,make,model)) \n",
    "                        alarm_clock()\n",
    "                        return -1\n",
    "                    \n",
    "                    # Skip if data is empty\n",
    "                    if data[\"results\"] != []:\n",
    "                        #Write out\n",
    "                        write_out_raw(recalls_count,year,make,model,data[\"results\"])\n",
    "                        recalls_count += 1\n",
    "                    else:\n",
    "                        logger.info(\"Empty data\")\n",
    "    end_year = year\n",
    "    logger.info(\"Finished (%s_%s_%s_%s) from %s to %s.\" % (recalls_count,year,make,model,start_year,end_year))\n",
    "\n",
    "# Set an alert to remind me to reset when our IP is blocked.\n",
    "def alarm_clock():\n",
    "    file = 'alarm_music.mp3'\n",
    "    pygame.init()\n",
    "    pygame.mixer.init()\n",
    "    pygame.mixer.music.load(file)\n",
    "    pygame.mixer.music.play()\n",
    "    time.sleep(10)\n",
    "    pygame.mixer.music.stop()"
   ]
  },
  {
   "cell_type": "code",
   "execution_count": null,
   "id": "de57c1c3-b1e4-4474-8b47-d6b4561483e5",
   "metadata": {},
   "outputs": [],
   "source": [
    "Get_recalls(0,years,makes,clean_models,False)"
   ]
  },
  {
   "cell_type": "code",
   "execution_count": null,
   "id": "34277edd-7ac3-479c-947b-bbe44711721f",
   "metadata": {},
   "outputs": [
    {
     "name": "stderr",
     "output_type": "stream",
     "text": [
      "2022-04-28 20:04:04.906 | INFO     | __main__:fetch_recalls:2 - Fetching https://api.nhtsa.gov/recalls/recallsByVehicle?make=PONTIAC&model=PHOENIX&modelYear=1971\n",
      "2022-04-28 20:04:05.359 | INFO     | __main__:fetch_recalls:9 - 200\n"
     ]
    }
   ],
   "source": [
    "start = years.index(\"1967\")\n",
    "Get_recalls(658,years[start:],makes,clean_models,True)"
   ]
  },
  {
   "cell_type": "code",
   "execution_count": 48,
   "id": "bf9387e5-d82c-46eb-874e-6ed6f8289fb8",
   "metadata": {},
   "outputs": [
    {
     "name": "stderr",
     "output_type": "stream",
     "text": [
      "2022-04-29 11:05:16.713 | INFO     | __main__:fetch_recalls:2 - Fetching https://api.nhtsa.gov/recalls/recallsByVehicle?make=GLAVAL&model=EASY ON&modelYear=1990\n",
      "2022-04-29 11:05:16.811 | INFO     | __main__:fetch_recalls:9 - 403\n",
      "2022-04-29 11:05:16.812 | WARNING  | __main__:Get_recalls:57 - Stopped! (13813_1990_GLAVAL_EASY ON)\n"
     ]
    },
    {
     "data": {
      "text/plain": [
       "-1"
      ]
     },
     "execution_count": 48,
     "metadata": {},
     "output_type": "execute_result"
    }
   ],
   "source": [
    "start = years.index(\"1988\")\n",
    "Get_recalls(12586,years[start:],makes,clean_models,True)"
   ]
  },
  {
   "cell_type": "code",
   "execution_count": 54,
   "id": "c5ca878c-5bc6-4b29-88ae-a65e1a691576",
   "metadata": {},
   "outputs": [
    {
     "name": "stderr",
     "output_type": "stream",
     "text": [
      "2022-04-29 11:51:37.500 | INFO     | __main__:fetch_recalls:2 - Fetching https://api.nhtsa.gov/recalls/recallsByVehicle?make=GLAVAL&model=EASY ON&modelYear=1991\n",
      "2022-04-29 11:51:37.613 | INFO     | __main__:fetch_recalls:9 - 403\n",
      "2022-04-29 11:51:37.615 | WARNING  | __main__:Get_recalls:57 - Stopped! (14125_1991_GLAVAL_EASY ON)\n"
     ]
    },
    {
     "data": {
      "text/plain": [
       "-1"
      ]
     },
     "execution_count": 54,
     "metadata": {},
     "output_type": "execute_result"
    }
   ],
   "source": [
    "start = years.index(\"1990\")\n",
    "Get_recalls(13813,years[start:],makes,clean_models,True)"
   ]
  },
  {
   "cell_type": "code",
   "execution_count": 55,
   "id": "5f997beb-4ecc-4daf-8497-2c6b7cbbd607",
   "metadata": {},
   "outputs": [
    {
     "name": "stderr",
     "output_type": "stream",
     "text": [
      "2022-04-29 13:20:52.110 | INFO     | __main__:fetch_recalls:2 - Fetching https://api.nhtsa.gov/recalls/recallsByVehicle?make=GLAVAL&model=EASY ON&modelYear=1993\n",
      "2022-04-29 13:20:52.220 | INFO     | __main__:fetch_recalls:9 - 403\n",
      "2022-04-29 13:20:52.221 | WARNING  | __main__:Get_recalls:57 - Stopped! (15405_1993_GLAVAL_EASY ON)\n"
     ]
    },
    {
     "data": {
      "text/plain": [
       "-1"
      ]
     },
     "execution_count": 55,
     "metadata": {},
     "output_type": "execute_result"
    }
   ],
   "source": [
    "start = years.index(\"1991\")\n",
    "Get_recalls(14125,years[start:],makes,clean_models,True)"
   ]
  },
  {
   "cell_type": "code",
   "execution_count": 60,
   "id": "c06ba0b2-07b1-416a-9ff9-b6a94be2f5fb",
   "metadata": {},
   "outputs": [
    {
     "name": "stderr",
     "output_type": "stream",
     "text": [
      "2022-04-29 17:13:22.051 | INFO     | __main__:fetch_recalls:2 - Fetching https://api.nhtsa.gov/recalls/recallsByVehicle?make=GLAVAL&model=EASY ON&modelYear=1996\n",
      "2022-04-29 17:13:22.226 | INFO     | __main__:fetch_recalls:9 - 403\n",
      "2022-04-29 17:13:22.227 | WARNING  | __main__:Get_recalls:57 - Stopped! (16150_1996_GLAVAL_EASY ON)\n"
     ]
    },
    {
     "data": {
      "text/plain": [
       "-1"
      ]
     },
     "execution_count": 60,
     "metadata": {},
     "output_type": "execute_result"
    }
   ],
   "source": [
    "start = years.index(\"1995\")\n",
    "Get_recalls(15771,years[start:],makes,clean_models,True)"
   ]
  },
  {
   "cell_type": "code",
   "execution_count": 61,
   "id": "0954a597-e4ed-491b-9335-d09d6eaf1805",
   "metadata": {},
   "outputs": [
    {
     "name": "stderr",
     "output_type": "stream",
     "text": [
      "2022-04-29 18:12:55.240 | INFO     | __main__:fetch_recalls:2 - Fetching https://api.nhtsa.gov/recalls/recallsByVehicle?make=GLAVAL&model=EASY ON&modelYear=1997\n",
      "2022-04-29 18:12:55.348 | INFO     | __main__:fetch_recalls:9 - 403\n",
      "2022-04-29 18:12:55.349 | WARNING  | __main__:Get_recalls:57 - Stopped! (16610_1997_GLAVAL_EASY ON)\n"
     ]
    },
    {
     "data": {
      "text/plain": [
       "-1"
      ]
     },
     "execution_count": 61,
     "metadata": {},
     "output_type": "execute_result"
    }
   ],
   "source": [
    "start = years.index(\"1996\")\n",
    "Get_recalls(16150,years[start:],makes,clean_models,True)"
   ]
  },
  {
   "cell_type": "code",
   "execution_count": 64,
   "id": "511702a9-f8b0-4715-b038-5c2c19e45f4b",
   "metadata": {},
   "outputs": [
    {
     "name": "stderr",
     "output_type": "stream",
     "text": [
      "2022-04-29 20:35:09.834 | INFO     | __main__:fetch_recalls:2 - Fetching https://api.nhtsa.gov/recalls/recallsByVehicle?make=GLAVAL&model=EASY ON&modelYear=1999\n",
      "2022-04-29 20:35:09.943 | INFO     | __main__:fetch_recalls:9 - 403\n",
      "2022-04-29 20:35:09.944 | WARNING  | __main__:Get_recalls:57 - Stopped! (17946_1999_GLAVAL_EASY ON)\n"
     ]
    },
    {
     "data": {
      "text/plain": [
       "-1"
      ]
     },
     "execution_count": 64,
     "metadata": {},
     "output_type": "execute_result"
    }
   ],
   "source": [
    "start = years.index(\"1998\")\n",
    "Get_recalls(17357,years[start:],makes,clean_models,True)"
   ]
  },
  {
   "cell_type": "code",
   "execution_count": 66,
   "id": "95cd4fdf-b537-4d6d-94d5-c77d19cddbc2",
   "metadata": {},
   "outputs": [
    {
     "name": "stderr",
     "output_type": "stream",
     "text": [
      "2022-04-29 21:26:34.109 | INFO     | __main__:fetch_recalls:2 - Fetching https://api.nhtsa.gov/recalls/recallsByVehicle?make=GLAVAL&model=EASY ON&modelYear=2000\n",
      "2022-04-29 21:26:34.274 | INFO     | __main__:fetch_recalls:9 - 403\n",
      "2022-04-29 21:26:34.275 | WARNING  | __main__:Get_recalls:57 - Stopped! (18660_2000_GLAVAL_EASY ON)\n"
     ]
    },
    {
     "data": {
      "text/plain": [
       "-1"
      ]
     },
     "execution_count": 66,
     "metadata": {},
     "output_type": "execute_result"
    }
   ],
   "source": [
    "start = years.index(\"1999\")\n",
    "Get_recalls(17946,years[start:],makes,clean_models,True)"
   ]
  },
  {
   "cell_type": "code",
   "execution_count": 161,
   "id": "d2761278-3d94-4360-ab27-24a23deef247",
   "metadata": {},
   "outputs": [
    {
     "name": "stderr",
     "output_type": "stream",
     "text": [
      "2022-05-01 19:55:05.094 | INFO     | __main__:fetch_recalls:2 - Fetching https://api.nhtsa.gov/recalls/recallsByVehicle?make=MG&model=MG&modelYear=9999\n",
      "2022-05-01 19:55:05.354 | INFO     | __main__:fetch_recalls:9 - 200\n",
      "2022-05-01 19:55:05.355 | INFO     | __main__:Get_recalls:67 - Empty data\n",
      "2022-05-01 19:55:05.356 | INFO     | __main__:Get_recalls:69 - Finished (32108_9999_MG_MG) from 2023 to 9999.\n"
     ]
    }
   ],
   "source": [
    "start = years.index(\"2023\")\n",
    "Get_recalls(32107,years[start:],makes,clean_models,True)"
   ]
  }
 ],
 "metadata": {
  "kernelspec": {
   "display_name": "Python 3 (ipykernel)",
   "language": "python",
   "name": "python3"
  },
  "language_info": {
   "codemirror_mode": {
    "name": "ipython",
    "version": 3
   },
   "file_extension": ".py",
   "mimetype": "text/x-python",
   "name": "python",
   "nbconvert_exporter": "python",
   "pygments_lexer": "ipython3",
   "version": "3.9.7"
  }
 },
 "nbformat": 4,
 "nbformat_minor": 5
}
