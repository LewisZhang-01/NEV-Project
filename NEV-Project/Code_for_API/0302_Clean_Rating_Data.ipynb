{
 "cells": [
  {
   "cell_type": "markdown",
   "id": "df5dcd08-7d24-4c06-b7bd-5537c8bbcd75",
   "metadata": {},
   "source": [
    "# Load, Aggregate And Clean Rating Data"
   ]
  },
  {
   "cell_type": "code",
   "execution_count": 1,
   "id": "668917ee-f854-4d5e-9743-aa79b464ac07",
   "metadata": {},
   "outputs": [],
   "source": [
    "import json\n",
    "from glob import glob\n",
    "import pandas as pd\n",
    "import numpy as np\n",
    "import itertools\n",
    "\n",
    "from loguru import logger\n",
    "from IPython.display import display, clear_output"
   ]
  },
  {
   "cell_type": "markdown",
   "id": "d552cdad-c6c6-4284-88a6-d21e828fe039",
   "metadata": {},
   "source": [
    "## Path to rating dataset"
   ]
  },
  {
   "cell_type": "code",
   "execution_count": 2,
   "id": "90471ba1-bb71-4c9e-9e8a-c7ce11f6049c",
   "metadata": {},
   "outputs": [],
   "source": [
    "ratings_dataset = \"../Raw_Data/Raw_API/Ratings/Ratings\"\n",
    "output_path = '../Processed_Data/API/Ratings.pkl'"
   ]
  },
  {
   "cell_type": "markdown",
   "id": "6b389e78-81d9-4c50-85b9-7516b9d2f7a4",
   "metadata": {},
   "source": [
    "## Aggregate all json file in this directory."
   ]
  },
  {
   "cell_type": "code",
   "execution_count": 3,
   "id": "a83a42c1-2abf-4e85-843a-a2576d6f4d3b",
   "metadata": {},
   "outputs": [
    {
     "data": {
      "text/plain": [
       "7314"
      ]
     },
     "execution_count": 3,
     "metadata": {},
     "output_type": "execute_result"
    }
   ],
   "source": [
    "files = glob(ratings_dataset+'/*.json')\n",
    "len(files)"
   ]
  },
  {
   "cell_type": "code",
   "execution_count": 4,
   "id": "82fea792-6885-4a95-98f7-e1acb124570d",
   "metadata": {
    "tags": []
   },
   "outputs": [
    {
     "name": "stderr",
     "output_type": "stream",
     "text": [
      "2022-04-26 19:25:17.075 | INFO     | __main__:<module>:6 - (7313, '../Raw_Data/Raw_API/Ratings/Ratings/[6390]2002_BMW_7 SERIES.json')\n"
     ]
    },
    {
     "data": {
      "text/plain": [
       "(7314, 34)"
      ]
     },
     "execution_count": 4,
     "metadata": {},
     "output_type": "execute_result"
    }
   ],
   "source": [
    "data = []\n",
    "\n",
    "for i, file in enumerate(files):\n",
    "    \n",
    "    clear_output()\n",
    "    logger.info((i, file))\n",
    "    \n",
    "    with open(file, 'r') as f: data.append(json.load(f))\n",
    "        \n",
    "df = pd.DataFrame(itertools.chain.from_iterable(data))\n",
    "df.shape"
   ]
  },
  {
   "cell_type": "code",
   "execution_count": 9,
   "id": "5c1b2404-7c8d-41e9-845a-49944d96e424",
   "metadata": {},
   "outputs": [
    {
     "data": {
      "text/plain": [
       "Index(['ComplaintsCount', 'FrontCrashDriversideRating',\n",
       "       'FrontCrashPassengersideRating', 'InvestigationCount', 'Make', 'Model',\n",
       "       'ModelYear', 'NHTSAElectronicStabilityControl',\n",
       "       'NHTSAForwardCollisionWarning', 'NHTSALaneDepartureWarning',\n",
       "       'OverallFrontCrashRating', 'OverallRating', 'OverallSideCrashRating',\n",
       "       'RecallsCount', 'RolloverPossibility', 'RolloverPossibility2',\n",
       "       'RolloverRating', 'RolloverRating2', 'SideCrashDriversideRating',\n",
       "       'SideCrashPassengersideRating', 'SidePoleCrashRating',\n",
       "       'VehicleDescription', 'VehicleId',\n",
       "       'combinedSideBarrierAndPoleRating-Front',\n",
       "       'combinedSideBarrierAndPoleRating-Rear', 'dynamicTipResult',\n",
       "       'sideBarrierRating-Overall', 'VehiclePicture', 'FrontCrashPicture',\n",
       "       'FrontCrashVideo', 'SideCrashPicture', 'SideCrashVideo',\n",
       "       'SidePolePicture', 'SidePoleVideo'],\n",
       "      dtype='object')"
      ]
     },
     "execution_count": 9,
     "metadata": {},
     "output_type": "execute_result"
    }
   ],
   "source": [
    "df.columns"
   ]
  },
  {
   "cell_type": "markdown",
   "id": "4efd55bf-6ab1-4709-a7c4-3ffc48e90773",
   "metadata": {},
   "source": [
    "## Drop some unused columns"
   ]
  },
  {
   "cell_type": "code",
   "execution_count": 32,
   "id": "2eee357f-1a8f-4c08-b255-f648d9ecf06d",
   "metadata": {},
   "outputs": [
    {
     "data": {
      "text/html": [
       "<div>\n",
       "<style scoped>\n",
       "    .dataframe tbody tr th:only-of-type {\n",
       "        vertical-align: middle;\n",
       "    }\n",
       "\n",
       "    .dataframe tbody tr th {\n",
       "        vertical-align: top;\n",
       "    }\n",
       "\n",
       "    .dataframe thead th {\n",
       "        text-align: right;\n",
       "    }\n",
       "</style>\n",
       "<table border=\"1\" class=\"dataframe\">\n",
       "  <thead>\n",
       "    <tr style=\"text-align: right;\">\n",
       "      <th></th>\n",
       "      <th>ComplaintsCount</th>\n",
       "      <th>FrontCrashDriversideRating</th>\n",
       "      <th>FrontCrashPassengersideRating</th>\n",
       "      <th>InvestigationCount</th>\n",
       "      <th>Make</th>\n",
       "      <th>Model</th>\n",
       "      <th>ModelYear</th>\n",
       "      <th>NHTSAElectronicStabilityControl</th>\n",
       "      <th>NHTSAForwardCollisionWarning</th>\n",
       "      <th>NHTSALaneDepartureWarning</th>\n",
       "      <th>...</th>\n",
       "      <th>OverallRating</th>\n",
       "      <th>OverallSideCrashRating</th>\n",
       "      <th>RecallsCount</th>\n",
       "      <th>RolloverRating</th>\n",
       "      <th>RolloverRating2</th>\n",
       "      <th>SideCrashDriversideRating</th>\n",
       "      <th>SideCrashPassengersideRating</th>\n",
       "      <th>SidePoleCrashRating</th>\n",
       "      <th>VehicleDescription</th>\n",
       "      <th>sideBarrierRating-Overall</th>\n",
       "    </tr>\n",
       "  </thead>\n",
       "  <tbody>\n",
       "    <tr>\n",
       "      <th>0</th>\n",
       "      <td>56</td>\n",
       "      <td>4</td>\n",
       "      <td>4</td>\n",
       "      <td>3</td>\n",
       "      <td>MITSUBISHI</td>\n",
       "      <td>ECLIPSE</td>\n",
       "      <td>1992</td>\n",
       "      <td>No</td>\n",
       "      <td>No</td>\n",
       "      <td>No</td>\n",
       "      <td>...</td>\n",
       "      <td>Not Rated</td>\n",
       "      <td>Not Rated</td>\n",
       "      <td>3</td>\n",
       "      <td>Not Rated</td>\n",
       "      <td>Not Rated</td>\n",
       "      <td>Not Rated</td>\n",
       "      <td>Not Rated</td>\n",
       "      <td>Not Rated</td>\n",
       "      <td>1992 Mitsubishi Eclipse 2-DR.</td>\n",
       "      <td>Not Rated</td>\n",
       "    </tr>\n",
       "    <tr>\n",
       "      <th>1</th>\n",
       "      <td>0</td>\n",
       "      <td>Not Rated</td>\n",
       "      <td>Not Rated</td>\n",
       "      <td>1</td>\n",
       "      <td>BMW</td>\n",
       "      <td>6 SERIES</td>\n",
       "      <td>2017</td>\n",
       "      <td>Standard</td>\n",
       "      <td>No</td>\n",
       "      <td>No</td>\n",
       "      <td>...</td>\n",
       "      <td>Not Rated</td>\n",
       "      <td>Not Rated</td>\n",
       "      <td>1</td>\n",
       "      <td>Not Rated</td>\n",
       "      <td>Not Rated</td>\n",
       "      <td>Not Rated</td>\n",
       "      <td>Not Rated</td>\n",
       "      <td>Not Rated</td>\n",
       "      <td>2017 BMW 6 Series C RWD</td>\n",
       "      <td>Not Rated</td>\n",
       "    </tr>\n",
       "    <tr>\n",
       "      <th>2</th>\n",
       "      <td>1</td>\n",
       "      <td>Not Rated</td>\n",
       "      <td>Not Rated</td>\n",
       "      <td>0</td>\n",
       "      <td>BMW</td>\n",
       "      <td>X5 HYBRID</td>\n",
       "      <td>2021</td>\n",
       "      <td>Standard</td>\n",
       "      <td>Standard</td>\n",
       "      <td>Standard</td>\n",
       "      <td>...</td>\n",
       "      <td>Not Rated</td>\n",
       "      <td>Not Rated</td>\n",
       "      <td>1</td>\n",
       "      <td>Not Rated</td>\n",
       "      <td>Not Rated</td>\n",
       "      <td>Not Rated</td>\n",
       "      <td>Not Rated</td>\n",
       "      <td>Not Rated</td>\n",
       "      <td>2021 BMW X5 Hybrid SUV AWD</td>\n",
       "      <td>Not Rated</td>\n",
       "    </tr>\n",
       "    <tr>\n",
       "      <th>3</th>\n",
       "      <td>0</td>\n",
       "      <td>Not Rated</td>\n",
       "      <td>Not Rated</td>\n",
       "      <td>0</td>\n",
       "      <td>LEXUS</td>\n",
       "      <td>LS 500</td>\n",
       "      <td>2021</td>\n",
       "      <td>Standard</td>\n",
       "      <td>Standard</td>\n",
       "      <td>Standard</td>\n",
       "      <td>...</td>\n",
       "      <td>Not Rated</td>\n",
       "      <td>Not Rated</td>\n",
       "      <td>0</td>\n",
       "      <td>Not Rated</td>\n",
       "      <td>Not Rated</td>\n",
       "      <td>Not Rated</td>\n",
       "      <td>Not Rated</td>\n",
       "      <td>Not Rated</td>\n",
       "      <td>2021 Lexus LS 500 4 DR AWD</td>\n",
       "      <td>Not Rated</td>\n",
       "    </tr>\n",
       "    <tr>\n",
       "      <th>4</th>\n",
       "      <td>156</td>\n",
       "      <td>5</td>\n",
       "      <td>5</td>\n",
       "      <td>0</td>\n",
       "      <td>CHEVROLET</td>\n",
       "      <td>TRAVERSE</td>\n",
       "      <td>2015</td>\n",
       "      <td>Standard</td>\n",
       "      <td>Optional</td>\n",
       "      <td>Optional</td>\n",
       "      <td>...</td>\n",
       "      <td>5</td>\n",
       "      <td>5</td>\n",
       "      <td>3</td>\n",
       "      <td>4</td>\n",
       "      <td>Not Rated</td>\n",
       "      <td>5</td>\n",
       "      <td>5</td>\n",
       "      <td>5</td>\n",
       "      <td>2015 Chevrolet Traverse SUV AWD</td>\n",
       "      <td>5</td>\n",
       "    </tr>\n",
       "  </tbody>\n",
       "</table>\n",
       "<p>5 rows × 21 columns</p>\n",
       "</div>"
      ],
      "text/plain": [
       "   ComplaintsCount FrontCrashDriversideRating FrontCrashPassengersideRating  \\\n",
       "0               56                          4                             4   \n",
       "1                0                  Not Rated                     Not Rated   \n",
       "2                1                  Not Rated                     Not Rated   \n",
       "3                0                  Not Rated                     Not Rated   \n",
       "4              156                          5                             5   \n",
       "\n",
       "   InvestigationCount        Make      Model  ModelYear  \\\n",
       "0                   3  MITSUBISHI    ECLIPSE       1992   \n",
       "1                   1         BMW   6 SERIES       2017   \n",
       "2                   0         BMW  X5 HYBRID       2021   \n",
       "3                   0       LEXUS     LS 500       2021   \n",
       "4                   0   CHEVROLET   TRAVERSE       2015   \n",
       "\n",
       "  NHTSAElectronicStabilityControl NHTSAForwardCollisionWarning  \\\n",
       "0                              No                           No   \n",
       "1                        Standard                           No   \n",
       "2                        Standard                     Standard   \n",
       "3                        Standard                     Standard   \n",
       "4                        Standard                     Optional   \n",
       "\n",
       "  NHTSALaneDepartureWarning  ... OverallRating OverallSideCrashRating  \\\n",
       "0                        No  ...     Not Rated              Not Rated   \n",
       "1                        No  ...     Not Rated              Not Rated   \n",
       "2                  Standard  ...     Not Rated              Not Rated   \n",
       "3                  Standard  ...     Not Rated              Not Rated   \n",
       "4                  Optional  ...             5                      5   \n",
       "\n",
       "  RecallsCount  RolloverRating RolloverRating2 SideCrashDriversideRating  \\\n",
       "0            3       Not Rated       Not Rated                 Not Rated   \n",
       "1            1       Not Rated       Not Rated                 Not Rated   \n",
       "2            1       Not Rated       Not Rated                 Not Rated   \n",
       "3            0       Not Rated       Not Rated                 Not Rated   \n",
       "4            3               4       Not Rated                         5   \n",
       "\n",
       "  SideCrashPassengersideRating SidePoleCrashRating  \\\n",
       "0                    Not Rated           Not Rated   \n",
       "1                    Not Rated           Not Rated   \n",
       "2                    Not Rated           Not Rated   \n",
       "3                    Not Rated           Not Rated   \n",
       "4                            5                   5   \n",
       "\n",
       "                VehicleDescription sideBarrierRating-Overall  \n",
       "0    1992 Mitsubishi Eclipse 2-DR.                 Not Rated  \n",
       "1          2017 BMW 6 Series C RWD                 Not Rated  \n",
       "2       2021 BMW X5 Hybrid SUV AWD                 Not Rated  \n",
       "3       2021 Lexus LS 500 4 DR AWD                 Not Rated  \n",
       "4  2015 Chevrolet Traverse SUV AWD                         5  \n",
       "\n",
       "[5 rows x 21 columns]"
      ]
     },
     "execution_count": 32,
     "metadata": {},
     "output_type": "execute_result"
    }
   ],
   "source": [
    "df_clean = df.drop(['VehicleId',\n",
    "                    'RolloverPossibility',\n",
    "                    'RolloverPossibility2',\n",
    "                    'combinedSideBarrierAndPoleRating-Front',\n",
    "                    'combinedSideBarrierAndPoleRating-Rear',\n",
    "                    'dynamicTipResult',\n",
    "                    'VehiclePicture',\n",
    "                    'FrontCrashPicture',\n",
    "                    'FrontCrashVideo',\n",
    "                    'SideCrashPicture',\n",
    "                    'SideCrashVideo',\n",
    "                    'SidePolePicture',\n",
    "                    'SidePoleVideo'], axis=1)\n",
    "df_clean.head()"
   ]
  },
  {
   "cell_type": "markdown",
   "id": "a85c7ccc-1e2f-47c4-bf3d-9bf727deeca4",
   "metadata": {
    "tags": []
   },
   "source": [
    "## Output cleaned version"
   ]
  },
  {
   "cell_type": "code",
   "execution_count": 35,
   "id": "d9ce5916-cf24-41ba-b22f-426227af90c5",
   "metadata": {},
   "outputs": [],
   "source": [
    "df_clean.to_pickle(output_path) "
   ]
  }
 ],
 "metadata": {
  "kernelspec": {
   "display_name": "Python 3 (ipykernel)",
   "language": "python",
   "name": "python3"
  },
  "language_info": {
   "codemirror_mode": {
    "name": "ipython",
    "version": 3
   },
   "file_extension": ".py",
   "mimetype": "text/x-python",
   "name": "python",
   "nbconvert_exporter": "python",
   "pygments_lexer": "ipython3",
   "version": "3.9.7"
  }
 },
 "nbformat": 4,
 "nbformat_minor": 5
}
