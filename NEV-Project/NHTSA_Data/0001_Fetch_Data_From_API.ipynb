{
 "cells": [
  {
   "cell_type": "code",
   "execution_count": 8,
   "id": "a3c7a05a-af76-4221-8c2d-d21a7f9f03ff",
   "metadata": {},
   "outputs": [],
   "source": [
    "import requests\n",
    "from pathlib import Path\n",
    "import json\n",
    "import pandas as pd\n",
    "import urllib.request\n",
    "import urllib.error\n",
    "import time\n",
    "from loguru import logger\n",
    "from IPython.display import display, clear_output"
   ]
  },
  {
   "cell_type": "code",
   "execution_count": 12,
   "id": "629ce44e-f939-4a02-b0ac-b18f43f67430",
   "metadata": {},
   "outputs": [],
   "source": [
    "# store the URL in url as \n",
    "# parameter for urlopen\n",
    "api_prefix = \"https://api.nhtsa.gov/complaints\"\n",
    "\n",
    "# Number of data you want to collect\n",
    "num_complaints_needed = 100000\n",
    "\n",
    "# Start position that data you want to collect\n",
    "start_from = 10005719\n",
    "count_from = 5521\n",
    "\n",
    "dir_raw = Path(\"../raw/Complaints\")\n",
    "dir_raw.mkdir(parents=True, exist_ok=True)"
   ]
  },
  {
   "cell_type": "code",
   "execution_count": 13,
   "id": "9922a53f-10e4-406f-96f4-4065c78bb63e",
   "metadata": {},
   "outputs": [],
   "source": [
    "def fetch_complaints(url):\n",
    "    logger.info(\"Fetching %s\" % url)\n",
    "    try:\n",
    "        response = requests.get(url)\n",
    "        logger.info(response.status_code)\n",
    "        raw_data = response.text\n",
    "        return json.loads(raw_data)\n",
    "    except urllib.error.URLError as e:\n",
    "        e.reason \n",
    "\n",
    "def write_out_raw(complaint_count,data):\n",
    "    title=data[0]['odiNumber']\n",
    "    # File name format e.g.[complaint_Count]odi_Number.json\n",
    "    fname = \"[%d]%d.json\" % (complaint_count,title)\n",
    "    out_path = dir_raw / fname\n",
    "    logger.info(\"Writing data to %s\" % out_path)\n",
    "#    print(\"Writing data to %s\" % out_path)\n",
    "    fout = open(out_path, \"w\")\n",
    "    json.dump(data, fout, indent=4, sort_keys=True)\n",
    "    fout.close()\n",
    "    \n",
    "def check_status(data):\n",
    "    #number of complaint in this odi.\n",
    "    complaint_num = data[\"count\"]\n",
    "    if data[\"message\"] != \"Results returned successfully\":\n",
    "        logger.warning(\"Fail to get from API, %s\" % (data[\"status_message\"]))\n",
    "        return [False,-1]\n",
    "    elif complaint_num <= 0:\n",
    "        logger.warning(\"No info from current API address.\")\n",
    "        return [False,0]\n",
    "    else:\n",
    "        return [True,complaint_num]"
   ]
  },
  {
   "cell_type": "code",
   "execution_count": null,
   "id": "4dae3265-791b-438d-8bf4-df8f3ba88818",
   "metadata": {
    "tags": []
   },
   "outputs": [
    {
     "name": "stderr",
     "output_type": "stream",
     "text": [
      "2022-04-04 21:45:17.616 | INFO     | __main__:fetch_complaints:2 - Fetching https://api.nhtsa.gov/complaints/odinumber?odinumber=10007363\n"
     ]
    }
   ],
   "source": [
    "odi_num = start_from\n",
    "complaint_count = count_from\n",
    "\n",
    "#logger.add(filename='fetch_log.log', encoding='utf-8', level=\"DEBUG\")\n",
    "\n",
    "while complaint_count < num_complaints_needed:\n",
    "    # Update complaint serial number each time to get a new complaint data.\n",
    "    api = \"%s/odinumber?odinumber=%d\" % (api_prefix,odi_num)\n",
    "    odi_num+=1\n",
    "    \n",
    "    clear_output()\n",
    "    \n",
    "    # Fetch data.\n",
    "    data = fetch_complaints(api)\n",
    "    \n",
    "    #time.sleep(2)\n",
    "    \n",
    "    # Check if the complaint data is fetch successfully.\n",
    "    status,num_in_odi = check_status(data)\n",
    "    if status:\n",
    "        logger.info(\"Complaint Num: %d\" % (complaint_count))\n",
    "        write_out_raw(complaint_count,data[\"results\"])\n",
    "        complaint_count+=num_in_odi\n",
    "        \n",
    "logger.info(\"Retrieved %d complaints in total.\" % (complaint_count))"
   ]
  },
  {
   "cell_type": "code",
   "execution_count": null,
   "id": "9fe9de5d-82b7-4e77-abe5-340aa781390b",
   "metadata": {},
   "outputs": [],
   "source": []
  }
 ],
 "metadata": {
  "kernelspec": {
   "display_name": "Python 3 (ipykernel)",
   "language": "python",
   "name": "python3"
  },
  "language_info": {
   "codemirror_mode": {
    "name": "ipython",
    "version": 3
   },
   "file_extension": ".py",
   "mimetype": "text/x-python",
   "name": "python",
   "nbconvert_exporter": "python",
   "pygments_lexer": "ipython3",
   "version": "3.9.7"
  }
 },
 "nbformat": 4,
 "nbformat_minor": 5
}
