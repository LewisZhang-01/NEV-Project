{
 "cells": [
  {
   "cell_type": "markdown",
   "id": "947faeeb-f381-477a-b8fd-d484e24e7550",
   "metadata": {},
   "source": [
    "# Climate vs EV_sales"
   ]
  },
  {
   "cell_type": "markdown",
   "id": "3b1490bf-1f4d-497b-91fb-6bc8222fa0b5",
   "metadata": {},
   "source": [
    "Studies have shown that high temperatures as well as cold temperatures have an impact on electric car trams. So in this NoteBook we'll be looking at whether people care enough about this to make the temperature affect car sales"
   ]
  },
  {
   "cell_type": "code",
   "execution_count": 1,
   "id": "7ef862e3-fbcc-45bd-9031-eee65019c767",
   "metadata": {},
   "outputs": [],
   "source": [
    "import pandas as pd\n",
    "import matplotlib.pylab as plt\n",
    "import matplotlib\n",
    "import numpy as np"
   ]
  },
  {
   "cell_type": "markdown",
   "id": "42c933e9-f3e0-4d55-96ed-89071f41a1d2",
   "metadata": {},
   "source": [
    "## Parameters "
   ]
  },
  {
   "cell_type": "code",
   "execution_count": 6,
   "id": "3761071b-65fc-4328-b3a9-955023afa36d",
   "metadata": {},
   "outputs": [],
   "source": [
    "EV_SALE_DATASET = '../Processed_Data/Ev_sales_per_capita.csv'\n",
    "CLIMATE_DATASET = '../Processed_Data/climate_state.csv'\n",
    "POPULATION_DATASET = '../Processed_Data/population.csv'"
   ]
  },
  {
   "cell_type": "markdown",
   "id": "0c4ca782-ed86-492f-a1ce-e2725ff4f712",
   "metadata": {
    "tags": []
   },
   "source": [
    "# Load Datasets\n",
    "## Load the EV sales dataset"
   ]
  },
  {
   "cell_type": "code",
   "execution_count": 7,
   "id": "6f713f99-1bfc-45da-8575-f610773193fa",
   "metadata": {},
   "outputs": [
    {
     "name": "stdout",
     "output_type": "stream",
     "text": [
      "(51, 4)\n"
     ]
    },
    {
     "data": {
      "text/html": [
       "<div>\n",
       "<style scoped>\n",
       "    .dataframe tbody tr th:only-of-type {\n",
       "        vertical-align: middle;\n",
       "    }\n",
       "\n",
       "    .dataframe tbody tr th {\n",
       "        vertical-align: top;\n",
       "    }\n",
       "\n",
       "    .dataframe thead th {\n",
       "        text-align: right;\n",
       "    }\n",
       "</style>\n",
       "<table border=\"1\" class=\"dataframe\">\n",
       "  <thead>\n",
       "    <tr style=\"text-align: right;\">\n",
       "      <th></th>\n",
       "      <th>2016</th>\n",
       "      <th>2017</th>\n",
       "      <th>2018</th>\n",
       "      <th>2019</th>\n",
       "    </tr>\n",
       "    <tr>\n",
       "      <th>Unnamed: 0</th>\n",
       "      <th></th>\n",
       "      <th></th>\n",
       "      <th></th>\n",
       "      <th></th>\n",
       "    </tr>\n",
       "  </thead>\n",
       "  <tbody>\n",
       "    <tr>\n",
       "      <th>Alabama</th>\n",
       "      <td>0.000067</td>\n",
       "      <td>0.000077</td>\n",
       "      <td>0.000174</td>\n",
       "      <td>0.000201</td>\n",
       "    </tr>\n",
       "    <tr>\n",
       "      <th>Alaska</th>\n",
       "      <td>0.000126</td>\n",
       "      <td>0.000115</td>\n",
       "      <td>0.000210</td>\n",
       "      <td>0.000195</td>\n",
       "    </tr>\n",
       "    <tr>\n",
       "      <th>Arizona</th>\n",
       "      <td>0.000333</td>\n",
       "      <td>0.000433</td>\n",
       "      <td>0.001017</td>\n",
       "      <td>0.001074</td>\n",
       "    </tr>\n",
       "    <tr>\n",
       "      <th>Arkansas</th>\n",
       "      <td>0.000046</td>\n",
       "      <td>0.000063</td>\n",
       "      <td>0.000145</td>\n",
       "      <td>0.000179</td>\n",
       "    </tr>\n",
       "    <tr>\n",
       "      <th>California</th>\n",
       "      <td>0.001883</td>\n",
       "      <td>0.002406</td>\n",
       "      <td>0.003881</td>\n",
       "      <td>0.003667</td>\n",
       "    </tr>\n",
       "  </tbody>\n",
       "</table>\n",
       "</div>"
      ],
      "text/plain": [
       "                2016      2017      2018      2019\n",
       "Unnamed: 0                                        \n",
       "Alabama     0.000067  0.000077  0.000174  0.000201\n",
       "Alaska      0.000126  0.000115  0.000210  0.000195\n",
       "Arizona     0.000333  0.000433  0.001017  0.001074\n",
       "Arkansas    0.000046  0.000063  0.000145  0.000179\n",
       "California  0.001883  0.002406  0.003881  0.003667"
      ]
     },
     "execution_count": 7,
     "metadata": {},
     "output_type": "execute_result"
    }
   ],
   "source": [
    "df_EV = pd.read_csv(EV_SALE_DATASET).set_index(\"Unnamed: 0\")\n",
    "print(df_EV.shape)\n",
    "df_EV.head()"
   ]
  },
  {
   "cell_type": "markdown",
   "id": "d83fda94-5b82-4d49-a96e-37743567babd",
   "metadata": {},
   "source": [
    "## Load the climate dataset"
   ]
  },
  {
   "cell_type": "code",
   "execution_count": 8,
   "id": "57bdeae3-9170-4670-a5b5-0ccf0011aec7",
   "metadata": {},
   "outputs": [
    {
     "name": "stdout",
     "output_type": "stream",
     "text": [
      "(49, 32)\n"
     ]
    },
    {
     "data": {
      "text/html": [
       "<div>\n",
       "<style scoped>\n",
       "    .dataframe tbody tr th:only-of-type {\n",
       "        vertical-align: middle;\n",
       "    }\n",
       "\n",
       "    .dataframe tbody tr th {\n",
       "        vertical-align: top;\n",
       "    }\n",
       "\n",
       "    .dataframe thead th {\n",
       "        text-align: right;\n",
       "    }\n",
       "</style>\n",
       "<table border=\"1\" class=\"dataframe\">\n",
       "  <thead>\n",
       "    <tr style=\"text-align: right;\">\n",
       "      <th></th>\n",
       "      <th>1990</th>\n",
       "      <th>1991</th>\n",
       "      <th>1992</th>\n",
       "      <th>1993</th>\n",
       "      <th>1994</th>\n",
       "      <th>1995</th>\n",
       "      <th>1996</th>\n",
       "      <th>1997</th>\n",
       "      <th>1998</th>\n",
       "      <th>1999</th>\n",
       "      <th>...</th>\n",
       "      <th>2012</th>\n",
       "      <th>2013</th>\n",
       "      <th>2014</th>\n",
       "      <th>2015</th>\n",
       "      <th>2016</th>\n",
       "      <th>2017</th>\n",
       "      <th>2018</th>\n",
       "      <th>2019</th>\n",
       "      <th>2020</th>\n",
       "      <th>2021</th>\n",
       "    </tr>\n",
       "    <tr>\n",
       "      <th>State</th>\n",
       "      <th></th>\n",
       "      <th></th>\n",
       "      <th></th>\n",
       "      <th></th>\n",
       "      <th></th>\n",
       "      <th></th>\n",
       "      <th></th>\n",
       "      <th></th>\n",
       "      <th></th>\n",
       "      <th></th>\n",
       "      <th></th>\n",
       "      <th></th>\n",
       "      <th></th>\n",
       "      <th></th>\n",
       "      <th></th>\n",
       "      <th></th>\n",
       "      <th></th>\n",
       "      <th></th>\n",
       "      <th></th>\n",
       "      <th></th>\n",
       "      <th></th>\n",
       "    </tr>\n",
       "  </thead>\n",
       "  <tbody>\n",
       "    <tr>\n",
       "      <th>Massachusetts</th>\n",
       "      <td>49.7</td>\n",
       "      <td>49.6</td>\n",
       "      <td>46.4</td>\n",
       "      <td>47.3</td>\n",
       "      <td>47.7</td>\n",
       "      <td>47.8</td>\n",
       "      <td>47.3</td>\n",
       "      <td>47.4</td>\n",
       "      <td>50.4</td>\n",
       "      <td>49.8</td>\n",
       "      <td>...</td>\n",
       "      <td>51.3</td>\n",
       "      <td>48.8</td>\n",
       "      <td>47.7</td>\n",
       "      <td>48.5</td>\n",
       "      <td>50.3</td>\n",
       "      <td>49.6</td>\n",
       "      <td>49.5</td>\n",
       "      <td>48.5</td>\n",
       "      <td>50.9</td>\n",
       "      <td>50.7</td>\n",
       "    </tr>\n",
       "    <tr>\n",
       "      <th>North Carolina</th>\n",
       "      <td>61.1</td>\n",
       "      <td>60.2</td>\n",
       "      <td>58.2</td>\n",
       "      <td>58.7</td>\n",
       "      <td>59.0</td>\n",
       "      <td>58.4</td>\n",
       "      <td>57.8</td>\n",
       "      <td>58.1</td>\n",
       "      <td>60.8</td>\n",
       "      <td>59.7</td>\n",
       "      <td>...</td>\n",
       "      <td>60.7</td>\n",
       "      <td>58.6</td>\n",
       "      <td>58.4</td>\n",
       "      <td>60.5</td>\n",
       "      <td>60.8</td>\n",
       "      <td>61.0</td>\n",
       "      <td>60.4</td>\n",
       "      <td>61.3</td>\n",
       "      <td>60.8</td>\n",
       "      <td>60.2</td>\n",
       "    </tr>\n",
       "    <tr>\n",
       "      <th>Arkansas</th>\n",
       "      <td>61.8</td>\n",
       "      <td>61.3</td>\n",
       "      <td>59.9</td>\n",
       "      <td>59.3</td>\n",
       "      <td>60.4</td>\n",
       "      <td>60.5</td>\n",
       "      <td>59.6</td>\n",
       "      <td>59.7</td>\n",
       "      <td>63.1</td>\n",
       "      <td>62.1</td>\n",
       "      <td>...</td>\n",
       "      <td>63.6</td>\n",
       "      <td>59.6</td>\n",
       "      <td>58.7</td>\n",
       "      <td>61.4</td>\n",
       "      <td>62.8</td>\n",
       "      <td>62.5</td>\n",
       "      <td>61.2</td>\n",
       "      <td>61.2</td>\n",
       "      <td>61.1</td>\n",
       "      <td>61.2</td>\n",
       "    </tr>\n",
       "    <tr>\n",
       "      <th>North Dakota</th>\n",
       "      <td>42.6</td>\n",
       "      <td>42.3</td>\n",
       "      <td>41.2</td>\n",
       "      <td>38.3</td>\n",
       "      <td>40.0</td>\n",
       "      <td>39.6</td>\n",
       "      <td>36.5</td>\n",
       "      <td>40.7</td>\n",
       "      <td>43.2</td>\n",
       "      <td>43.0</td>\n",
       "      <td>...</td>\n",
       "      <td>44.1</td>\n",
       "      <td>38.8</td>\n",
       "      <td>39.0</td>\n",
       "      <td>43.4</td>\n",
       "      <td>44.4</td>\n",
       "      <td>42.0</td>\n",
       "      <td>39.8</td>\n",
       "      <td>38.0</td>\n",
       "      <td>42.3</td>\n",
       "      <td>43.8</td>\n",
       "    </tr>\n",
       "    <tr>\n",
       "      <th>Kansas</th>\n",
       "      <td>55.5</td>\n",
       "      <td>55.7</td>\n",
       "      <td>54.2</td>\n",
       "      <td>51.9</td>\n",
       "      <td>54.9</td>\n",
       "      <td>53.9</td>\n",
       "      <td>53.1</td>\n",
       "      <td>53.7</td>\n",
       "      <td>56.3</td>\n",
       "      <td>56.0</td>\n",
       "      <td>...</td>\n",
       "      <td>58.2</td>\n",
       "      <td>53.7</td>\n",
       "      <td>53.7</td>\n",
       "      <td>56.3</td>\n",
       "      <td>57.2</td>\n",
       "      <td>56.5</td>\n",
       "      <td>54.6</td>\n",
       "      <td>53.8</td>\n",
       "      <td>55.6</td>\n",
       "      <td>56.1</td>\n",
       "    </tr>\n",
       "  </tbody>\n",
       "</table>\n",
       "<p>5 rows × 32 columns</p>\n",
       "</div>"
      ],
      "text/plain": [
       "                1990  1991  1992  1993  1994  1995  1996  1997  1998  1999  \\\n",
       "State                                                                        \n",
       "Massachusetts   49.7  49.6  46.4  47.3  47.7  47.8  47.3  47.4  50.4  49.8   \n",
       "North Carolina  61.1  60.2  58.2  58.7  59.0  58.4  57.8  58.1  60.8  59.7   \n",
       "Arkansas        61.8  61.3  59.9  59.3  60.4  60.5  59.6  59.7  63.1  62.1   \n",
       "North Dakota    42.6  42.3  41.2  38.3  40.0  39.6  36.5  40.7  43.2  43.0   \n",
       "Kansas          55.5  55.7  54.2  51.9  54.9  53.9  53.1  53.7  56.3  56.0   \n",
       "\n",
       "                ...  2012  2013  2014  2015  2016  2017  2018  2019  2020  \\\n",
       "State           ...                                                         \n",
       "Massachusetts   ...  51.3  48.8  47.7  48.5  50.3  49.6  49.5  48.5  50.9   \n",
       "North Carolina  ...  60.7  58.6  58.4  60.5  60.8  61.0  60.4  61.3  60.8   \n",
       "Arkansas        ...  63.6  59.6  58.7  61.4  62.8  62.5  61.2  61.2  61.1   \n",
       "North Dakota    ...  44.1  38.8  39.0  43.4  44.4  42.0  39.8  38.0  42.3   \n",
       "Kansas          ...  58.2  53.7  53.7  56.3  57.2  56.5  54.6  53.8  55.6   \n",
       "\n",
       "                2021  \n",
       "State                 \n",
       "Massachusetts   50.7  \n",
       "North Carolina  60.2  \n",
       "Arkansas        61.2  \n",
       "North Dakota    43.8  \n",
       "Kansas          56.1  \n",
       "\n",
       "[5 rows x 32 columns]"
      ]
     },
     "execution_count": 8,
     "metadata": {},
     "output_type": "execute_result"
    }
   ],
   "source": [
    "df_Climate = pd.read_csv(CLIMATE_DATASET,index_col=[0])\n",
    "print(df_Climate.shape)\n",
    "df_Climate.head()"
   ]
  },
  {
   "cell_type": "markdown",
   "id": "ccdda6d2-2fa9-4f85-800b-eed515f38b14",
   "metadata": {},
   "source": [
    "## Merge into one dataframe"
   ]
  },
  {
   "cell_type": "code",
   "execution_count": 9,
   "id": "51e6dbaf-9fd2-4a76-9daf-f22be896c4b8",
   "metadata": {},
   "outputs": [
    {
     "name": "stdout",
     "output_type": "stream",
     "text": [
      "(49, 2)\n"
     ]
    },
    {
     "data": {
      "text/html": [
       "<div>\n",
       "<style scoped>\n",
       "    .dataframe tbody tr th:only-of-type {\n",
       "        vertical-align: middle;\n",
       "    }\n",
       "\n",
       "    .dataframe tbody tr th {\n",
       "        vertical-align: top;\n",
       "    }\n",
       "\n",
       "    .dataframe thead th {\n",
       "        text-align: right;\n",
       "    }\n",
       "</style>\n",
       "<table border=\"1\" class=\"dataframe\">\n",
       "  <thead>\n",
       "    <tr style=\"text-align: right;\">\n",
       "      <th></th>\n",
       "      <th>temp</th>\n",
       "      <th>EV_sale</th>\n",
       "    </tr>\n",
       "  </thead>\n",
       "  <tbody>\n",
       "    <tr>\n",
       "      <th>Massachusetts</th>\n",
       "      <td>48.5</td>\n",
       "      <td>0.001120</td>\n",
       "    </tr>\n",
       "    <tr>\n",
       "      <th>North Carolina</th>\n",
       "      <td>61.3</td>\n",
       "      <td>0.000520</td>\n",
       "    </tr>\n",
       "    <tr>\n",
       "      <th>Arkansas</th>\n",
       "      <td>61.2</td>\n",
       "      <td>0.000179</td>\n",
       "    </tr>\n",
       "    <tr>\n",
       "      <th>North Dakota</th>\n",
       "      <td>38.0</td>\n",
       "      <td>0.000147</td>\n",
       "    </tr>\n",
       "    <tr>\n",
       "      <th>Kansas</th>\n",
       "      <td>53.8</td>\n",
       "      <td>0.000289</td>\n",
       "    </tr>\n",
       "  </tbody>\n",
       "</table>\n",
       "</div>"
      ],
      "text/plain": [
       "                temp   EV_sale\n",
       "Massachusetts   48.5  0.001120\n",
       "North Carolina  61.3  0.000520\n",
       "Arkansas        61.2  0.000179\n",
       "North Dakota    38.0  0.000147\n",
       "Kansas          53.8  0.000289"
      ]
     },
     "execution_count": 9,
     "metadata": {},
     "output_type": "execute_result"
    }
   ],
   "source": [
    "df_climate_and_ev = pd.concat([df_Climate['2019'].rename('temp'), df_EV['2019'].rename('EV_sale')], axis = 1)\n",
    "df_climate_and_ev = df_climate_and_ev.dropna()\n",
    "print(df_climate_and_ev.shape)\n",
    "df_climate_and_ev.head()"
   ]
  },
  {
   "cell_type": "markdown",
   "id": "afb52653-e047-46c0-a460-754cd74b281d",
   "metadata": {},
   "source": [
    "We will use a scatter plot to represent their relationship from the prominent cities analysed. The cities with the highest and lowest temperature respectively"
   ]
  },
  {
   "cell_type": "code",
   "execution_count": 10,
   "id": "8bb398c7-ae3a-47e4-8ed2-d79972bd8b99",
   "metadata": {},
   "outputs": [
    {
     "data": {
      "text/plain": [
       "('California', 'Florida', 'Alaska')"
      ]
     },
     "execution_count": 10,
     "metadata": {},
     "output_type": "execute_result"
    }
   ],
   "source": [
    "highest_sale = df_climate_and_ev.sort_values(by='EV_sale',ascending=False).index[0]\n",
    "highest_temp = df_climate_and_ev.sort_values(by='temp',ascending=False).index[0]\n",
    "lowest_temp = df_climate_and_ev.sort_values(by='temp',ascending=True).index[0]\n",
    "highest_sale, highest_temp, lowest_temp"
   ]
  },
  {
   "cell_type": "code",
   "execution_count": 16,
   "id": "b19f6297-5c53-47a0-aab7-1481f4bb78be",
   "metadata": {},
   "outputs": [
    {
     "data": {
      "image/png": "[encoded data removed]",
      "text/plain": [
       "<Figure size 720x360 with 1 Axes>"
      ]
     },
     "metadata": {
      "needs_background": "light"
     },
     "output_type": "display_data"
    }
   ],
   "source": [
    "fig, ax = plt.subplots(figsize=(10, 5))\n",
    "ax.ticklabel_format(style='plain')\n",
    "plt.scatter(df_climate_and_ev['temp'],df_climate_and_ev['EV_sale'])\n",
    "\n",
    "plt.annotate(highest_sale, xy = (df_climate_and_ev.loc[highest_sale][['temp', 'EV_sale']]), xytext = df_climate_and_ev.loc[highest_sale][['temp', 'EV_sale']] +(+5, -0.0003), fontsize=15, \n",
    "            arrowprops=dict(arrowstyle='->')\n",
    "            )\n",
    "plt.annotate(highest_temp, xy = (df_climate_and_ev.loc[highest_temp][['temp', 'EV_sale']]), xytext = df_climate_and_ev.loc[highest_temp][['temp', 'EV_sale']] +(-5, +0.0003), fontsize=15, \n",
    "            arrowprops=dict(arrowstyle='->')\n",
    "            )\n",
    "plt.annotate(lowest_temp, xy = (df_climate_and_ev.loc[lowest_temp][['temp', 'EV_sale']]), xytext = df_climate_and_ev.loc[lowest_temp][['temp', 'EV_sale']] +(-0, +0.0003), fontsize=15, \n",
    "            arrowprops=dict(arrowstyle='->')\n",
    "            )\n",
    "\n",
    "plt.title(\"climate vs EV sales\")\n",
    "plt.xlabel(\"temperature\")\n",
    "plt.ylabel(\"sales\")\n",
    "plt.show()"
   ]
  },
  {
   "cell_type": "markdown",
   "id": "8388fa24-fd2b-4488-82f3-d2e6ae4b8380",
   "metadata": {},
   "source": [
    "We can see the aggregation of points in the diagram and the three outliers. we remove the outlier"
   ]
  },
  {
   "cell_type": "code",
   "execution_count": 17,
   "id": "2cffd744-bf7b-4697-b86f-9797f80eeb77",
   "metadata": {},
   "outputs": [
    {
     "data": {
      "text/plain": [
       "temp       58.400000\n",
       "EV_sale     0.003667\n",
       "Name: California, dtype: float64"
      ]
     },
     "execution_count": 17,
     "metadata": {},
     "output_type": "execute_result"
    }
   ],
   "source": [
    "df_climate_and_ev.loc[highest_sale][['temp', 'EV_sale']]"
   ]
  },
  {
   "cell_type": "code",
   "execution_count": 18,
   "id": "2133c313-c700-4600-8ff9-19a0309dc1e8",
   "metadata": {},
   "outputs": [],
   "source": [
    "df_climate_and_ev = df_climate_and_ev.drop(highest_sale)\n",
    "df_climate_and_ev = df_climate_and_ev.drop(highest_temp)\n",
    "df_climate_and_ev = df_climate_and_ev.drop(lowest_temp)"
   ]
  },
  {
   "cell_type": "code",
   "execution_count": 19,
   "id": "5d61ae58-e329-41f4-8287-efd2959c8654",
   "metadata": {},
   "outputs": [
    {
     "data": {
      "image/png": "[encoded data removed]",
      "text/plain": [
       "<Figure size 720x360 with 1 Axes>"
      ]
     },
     "metadata": {
      "needs_background": "light"
     },
     "output_type": "display_data"
    }
   ],
   "source": [
    "fig, ax = plt.subplots(figsize=(10, 5))\n",
    "ax.ticklabel_format(style='plain')\n",
    "plt.scatter(df_climate_and_ev['temp'],df_climate_and_ev['EV_sale'])\n",
    "plt.title(\"climate vs EV sales\")\n",
    "plt.xlabel(\"temperature\")\n",
    "plt.ylabel(\"sales\")\n",
    "plt.show()"
   ]
  },
  {
   "cell_type": "markdown",
   "id": "d20a6003-2f02-4bc3-8cdb-bd31d445670e",
   "metadata": {},
   "source": [
    "#### We now have a scatter plot of the distribution of temperature and sales, but we can't easily see its trend yet"
   ]
  },
  {
   "cell_type": "markdown",
   "id": "70ba29c4-682c-484a-9bb5-8cf390837ea6",
   "metadata": {},
   "source": [
    "So we decided to add linear regression models to them"
   ]
  },
  {
   "cell_type": "code",
   "execution_count": 21,
   "id": "1a8d66b1-afbe-469a-8ffd-6f94b99df036",
   "metadata": {},
   "outputs": [
    {
     "data": {
      "image/png": "[encoded data removed]",
      "text/plain": [
       "<Figure size 1440x360 with 1 Axes>"
      ]
     },
     "metadata": {
      "needs_background": "light"
     },
     "output_type": "display_data"
    }
   ],
   "source": [
    "fig, ax = plt.subplots(figsize=(20, 5))\n",
    "\n",
    "plt.subplot(1, 2, 1)\n",
    "plt.title(\"climate vs EV sales with regression degree 1\")\n",
    "plt.xlabel(\"temperature\")\n",
    "plt.ylabel(\"sales\")\n",
    "parameter = np.polyfit(df_climate_and_ev['temp'], df_climate_and_ev['EV_sale'],1)\n",
    "p = np.poly1d(parameter)\n",
    "plt.scatter(df_climate_and_ev['temp'], df_climate_and_ev['EV_sale'])\n",
    "plt.plot(df_climate_and_ev['temp'],p(df_climate_and_ev['temp']),color='g')\n",
    "\n",
    "plt.show()\n",
    "\n",
    "# Save as png image\n",
    "fig.savefig('./Images/Climate_vs_EVsales_1.png', format='png')"
   ]
  },
  {
   "cell_type": "markdown",
   "id": "c3a2e334-233f-48fa-8eec-f4d902990c9a",
   "metadata": {},
   "source": [
    "The linear regression model with 1 degree is very difficult to see the changes, and the model with 2 degrees shows a slight trend but is very messy. So we decided to try a histogram to see if it was more obvious"
   ]
  },
  {
   "cell_type": "code",
   "execution_count": 22,
   "id": "35dd69da-dc8e-40ec-9b16-f0468fd68a73",
   "metadata": {},
   "outputs": [
    {
     "data": {
      "text/html": [
       "<div>\n",
       "<style scoped>\n",
       "    .dataframe tbody tr th:only-of-type {\n",
       "        vertical-align: middle;\n",
       "    }\n",
       "\n",
       "    .dataframe tbody tr th {\n",
       "        vertical-align: top;\n",
       "    }\n",
       "\n",
       "    .dataframe thead th {\n",
       "        text-align: right;\n",
       "    }\n",
       "</style>\n",
       "<table border=\"1\" class=\"dataframe\">\n",
       "  <thead>\n",
       "    <tr style=\"text-align: right;\">\n",
       "      <th></th>\n",
       "      <th>temp</th>\n",
       "      <th>EV_sale</th>\n",
       "    </tr>\n",
       "  </thead>\n",
       "  <tbody>\n",
       "    <tr>\n",
       "      <th>Massachusetts</th>\n",
       "      <td>48.5</td>\n",
       "      <td>0.001120</td>\n",
       "    </tr>\n",
       "    <tr>\n",
       "      <th>North Carolina</th>\n",
       "      <td>61.3</td>\n",
       "      <td>0.000520</td>\n",
       "    </tr>\n",
       "    <tr>\n",
       "      <th>Arkansas</th>\n",
       "      <td>61.2</td>\n",
       "      <td>0.000179</td>\n",
       "    </tr>\n",
       "    <tr>\n",
       "      <th>North Dakota</th>\n",
       "      <td>38.0</td>\n",
       "      <td>0.000147</td>\n",
       "    </tr>\n",
       "    <tr>\n",
       "      <th>Kansas</th>\n",
       "      <td>53.8</td>\n",
       "      <td>0.000289</td>\n",
       "    </tr>\n",
       "  </tbody>\n",
       "</table>\n",
       "</div>"
      ],
      "text/plain": [
       "                temp   EV_sale\n",
       "Massachusetts   48.5  0.001120\n",
       "North Carolina  61.3  0.000520\n",
       "Arkansas        61.2  0.000179\n",
       "North Dakota    38.0  0.000147\n",
       "Kansas          53.8  0.000289"
      ]
     },
     "execution_count": 22,
     "metadata": {},
     "output_type": "execute_result"
    }
   ],
   "source": [
    "df_climate_and_ev.head()"
   ]
  },
  {
   "cell_type": "code",
   "execution_count": 23,
   "id": "06723f25-c51f-4e60-ab6f-c0206b4e1ff7",
   "metadata": {},
   "outputs": [],
   "source": [
    "df_climate_and_ev[\"temp\"] = pd.to_numeric(df_climate_and_ev[\"temp\"],errors='coerce')"
   ]
  },
  {
   "cell_type": "code",
   "execution_count": 24,
   "id": "546064ec-85ab-40cc-bade-34954d5a1216",
   "metadata": {},
   "outputs": [
    {
     "data": {
      "image/png": "[encoded data removed]",
      "text/plain": [
       "<Figure size 720x360 with 1 Axes>"
      ]
     },
     "metadata": {
      "needs_background": "light"
     },
     "output_type": "display_data"
    }
   ],
   "source": [
    "fig, ax = plt.subplots(figsize=(10, 5))\n",
    "plt.bar(df_climate_and_ev['temp'],df_climate_and_ev['EV_sale'])\n",
    "plt.title(\"climate vs EV sales\")\n",
    "plt.xlabel(\"temperature\")\n",
    "plt.ylabel(\"sales\")\n",
    "plt.show()\n",
    "\n",
    "# Save as png image\n",
    "fig.savefig('./Images/Climate_vs_EVsales_2.png', format='png')"
   ]
  },
  {
   "cell_type": "markdown",
   "id": "a6f2da76-6021-4bac-b926-16fe6d2feed1",
   "metadata": {},
   "source": [
    "We have created a bar chart for each temperature corresponding to its sales volume, and we will make a classification of the temperatures. Each corresponds to four classes: \"cold, cool, warm, hot\""
   ]
  },
  {
   "cell_type": "code",
   "execution_count": 25,
   "id": "78d6fcf9-686f-4ee2-9136-90c916d7726f",
   "metadata": {},
   "outputs": [
    {
     "data": {
      "text/html": [
       "<div>\n",
       "<style scoped>\n",
       "    .dataframe tbody tr th:only-of-type {\n",
       "        vertical-align: middle;\n",
       "    }\n",
       "\n",
       "    .dataframe tbody tr th {\n",
       "        vertical-align: top;\n",
       "    }\n",
       "\n",
       "    .dataframe thead th {\n",
       "        text-align: right;\n",
       "    }\n",
       "</style>\n",
       "<table border=\"1\" class=\"dataframe\">\n",
       "  <thead>\n",
       "    <tr style=\"text-align: right;\">\n",
       "      <th></th>\n",
       "      <th>Climate</th>\n",
       "      <th>EV_sale</th>\n",
       "    </tr>\n",
       "  </thead>\n",
       "  <tbody>\n",
       "    <tr>\n",
       "      <th>0</th>\n",
       "      <td>cold</td>\n",
       "      <td>0.001083</td>\n",
       "    </tr>\n",
       "    <tr>\n",
       "      <th>1</th>\n",
       "      <td>cool</td>\n",
       "      <td>0.014907</td>\n",
       "    </tr>\n",
       "    <tr>\n",
       "      <th>2</th>\n",
       "      <td>warm</td>\n",
       "      <td>0.007639</td>\n",
       "    </tr>\n",
       "    <tr>\n",
       "      <th>3</th>\n",
       "      <td>hot</td>\n",
       "      <td>0.003166</td>\n",
       "    </tr>\n",
       "  </tbody>\n",
       "</table>\n",
       "</div>"
      ],
      "text/plain": [
       "  Climate   EV_sale\n",
       "0    cold  0.001083\n",
       "1    cool  0.014907\n",
       "2    warm  0.007639\n",
       "3     hot  0.003166"
      ]
     },
     "execution_count": 25,
     "metadata": {},
     "output_type": "execute_result"
    }
   ],
   "source": [
    "col = ['Climate','EV_sale']\n",
    "df = pd.DataFrame(columns = col)\n",
    "df['Climate'] =  ['cold','cool','warm','hot']\n",
    "for index, row in df.iterrows():\n",
    "    if df.iloc[index,0] == 'cold':\n",
    "        df.iloc[index,1] = df_climate_and_ev[(df_climate_and_ev['temp']<= 40)]['EV_sale'].sum()\n",
    "    if df.iloc[index,0] == 'cool':\n",
    "        df.iloc[index,1] = df_climate_and_ev[((df_climate_and_ev['temp']>= 40) & (df_climate_and_ev['temp']<50))]['EV_sale'].sum()\n",
    "    if df.iloc[index,0] == 'warm':\n",
    "        df.iloc[index,1] = df_climate_and_ev[((df_climate_and_ev['temp']>= 50) & (df_climate_and_ev['temp']<60))]['EV_sale'].sum()\n",
    "    if df.iloc[index,0] == 'hot':\n",
    "        df.iloc[index,1] = df_climate_and_ev[((df_climate_and_ev['temp']>= 60) & (df_climate_and_ev['temp']<=70))]['EV_sale'].sum()\n",
    "df.head()"
   ]
  },
  {
   "cell_type": "code",
   "execution_count": 26,
   "id": "c89967a2-8109-4e64-9029-493782f3f049",
   "metadata": {},
   "outputs": [
    {
     "data": {
      "text/html": [
       "<div>\n",
       "<style scoped>\n",
       "    .dataframe tbody tr th:only-of-type {\n",
       "        vertical-align: middle;\n",
       "    }\n",
       "\n",
       "    .dataframe tbody tr th {\n",
       "        vertical-align: top;\n",
       "    }\n",
       "\n",
       "    .dataframe thead th {\n",
       "        text-align: right;\n",
       "    }\n",
       "</style>\n",
       "<table border=\"1\" class=\"dataframe\">\n",
       "  <thead>\n",
       "    <tr style=\"text-align: right;\">\n",
       "      <th></th>\n",
       "      <th>Climate</th>\n",
       "      <th>EV_sale</th>\n",
       "    </tr>\n",
       "  </thead>\n",
       "  <tbody>\n",
       "    <tr>\n",
       "      <th>0</th>\n",
       "      <td>cold</td>\n",
       "      <td>0.001083</td>\n",
       "    </tr>\n",
       "    <tr>\n",
       "      <th>1</th>\n",
       "      <td>cool</td>\n",
       "      <td>0.014907</td>\n",
       "    </tr>\n",
       "    <tr>\n",
       "      <th>2</th>\n",
       "      <td>warm</td>\n",
       "      <td>0.007639</td>\n",
       "    </tr>\n",
       "    <tr>\n",
       "      <th>3</th>\n",
       "      <td>hot</td>\n",
       "      <td>0.003166</td>\n",
       "    </tr>\n",
       "  </tbody>\n",
       "</table>\n",
       "</div>"
      ],
      "text/plain": [
       "  Climate   EV_sale\n",
       "0    cold  0.001083\n",
       "1    cool  0.014907\n",
       "2    warm  0.007639\n",
       "3     hot  0.003166"
      ]
     },
     "execution_count": 26,
     "metadata": {},
     "output_type": "execute_result"
    }
   ],
   "source": [
    "df"
   ]
  },
  {
   "cell_type": "code",
   "execution_count": 27,
   "id": "fd1e6de4-da61-426e-a7ab-34d216ca1854",
   "metadata": {},
   "outputs": [],
   "source": [
    "df = df.set_index('Climate')"
   ]
  },
  {
   "cell_type": "code",
   "execution_count": 28,
   "id": "6386cc41-6dd7-464e-baaa-5e29f33a8e6f",
   "metadata": {},
   "outputs": [
    {
     "data": {
      "image/png": "[encoded data removed]",
      "text/plain": [
       "<Figure size 720x360 with 1 Axes>"
      ]
     },
     "metadata": {
      "needs_background": "light"
     },
     "output_type": "display_data"
    }
   ],
   "source": [
    "fig, ax = plt.subplots(figsize=(10, 5))\n",
    "df.plot(kind='bar',ax=ax)\n",
    "df.plot(kind='line', marker='^',ax=ax, color='black')\n",
    "plt.title(\"climate vs EV sales\")\n",
    "plt.xlabel(\"temperature\")\n",
    "plt.ylabel(\"sales\")\n",
    "plt.show()\n",
    "\n",
    "# Save as png image\n",
    "fig.savefig('./Images/Climate_vs_EVsales_3.png', format='png')"
   ]
  },
  {
   "cell_type": "markdown",
   "id": "6fedcfa6-f662-4f7d-9af9-ae939d911e3a",
   "metadata": {},
   "source": [
    "## Conclusion"
   ]
  },
  {
   "cell_type": "markdown",
   "id": "17dfdffb-e691-45b4-a594-befd3165e701",
   "metadata": {},
   "source": [
    "What surprised me was that car sales were highest in cooler temperatures rather than warmer. People in colder regions are reluctant to buy electric cars"
   ]
  },
  {
   "cell_type": "code",
   "execution_count": null,
   "id": "2663da89-1400-455f-aba9-c7fa1ef02529",
   "metadata": {},
   "outputs": [],
   "source": []
  }
 ],
 "metadata": {
  "kernelspec": {
   "display_name": "Python 3 (ipykernel)",
   "language": "python",
   "name": "python3"
  },
  "language_info": {
   "codemirror_mode": {
    "name": "ipython",
    "version": 3
   },
   "file_extension": ".py",
   "mimetype": "text/x-python",
   "name": "python",
   "nbconvert_exporter": "python",
   "pygments_lexer": "ipython3",
   "version": "3.9.7"
  }
 },
 "nbformat": 4,
 "nbformat_minor": 5
}
