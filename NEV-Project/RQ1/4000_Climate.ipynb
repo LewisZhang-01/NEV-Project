{
 "cells": [
  {
   "cell_type": "markdown",
   "id": "947faeeb-f381-477a-b8fd-d484e24e7550",
   "metadata": {},
   "source": [
    "# Climate vs EV_sales"
   ]
  },
  {
   "cell_type": "code",
   "execution_count": 1,
   "id": "7ef862e3-fbcc-45bd-9031-eee65019c767",
   "metadata": {},
   "outputs": [],
   "source": [
    "import pandas as pd\n",
    "import matplotlib.pylab as plt\n",
    "import matplotlib\n",
    "import numpy as np"
   ]
  },
  {
   "cell_type": "markdown",
   "id": "42c933e9-f3e0-4d55-96ed-89071f41a1d2",
   "metadata": {},
   "source": [
    "## Parameters "
   ]
  },
  {
   "cell_type": "code",
   "execution_count": 2,
   "id": "3761071b-65fc-4328-b3a9-955023afa36d",
   "metadata": {},
   "outputs": [],
   "source": [
    "EV_SALE_DATASET = '../Processed_Data/Ev_sales.csv'\n",
    "CLIMATE_DATASET = '../Processed_Data/climate_state.csv'\n",
    "INCOME_DATASET = '../Processed_Data/incomes.csv'"
   ]
  },
  {
   "cell_type": "markdown",
   "id": "0c4ca782-ed86-492f-a1ce-e2725ff4f712",
   "metadata": {
    "tags": []
   },
   "source": [
    "# Load Datasets\n",
    "## Load the EV sales dataset"
   ]
  },
  {
   "cell_type": "code",
   "execution_count": 3,
   "id": "6f713f99-1bfc-45da-8575-f610773193fa",
   "metadata": {},
   "outputs": [
    {
     "name": "stdout",
     "output_type": "stream",
     "text": [
      "(51, 4)\n"
     ]
    },
    {
     "data": {
      "text/html": [
       "<div>\n",
       "<style scoped>\n",
       "    .dataframe tbody tr th:only-of-type {\n",
       "        vertical-align: middle;\n",
       "    }\n",
       "\n",
       "    .dataframe tbody tr th {\n",
       "        vertical-align: top;\n",
       "    }\n",
       "\n",
       "    .dataframe thead th {\n",
       "        text-align: right;\n",
       "    }\n",
       "</style>\n",
       "<table border=\"1\" class=\"dataframe\">\n",
       "  <thead>\n",
       "    <tr style=\"text-align: right;\">\n",
       "      <th></th>\n",
       "      <th>2016</th>\n",
       "      <th>2017</th>\n",
       "      <th>2018</th>\n",
       "      <th>2019</th>\n",
       "    </tr>\n",
       "    <tr>\n",
       "      <th>State</th>\n",
       "      <th></th>\n",
       "      <th></th>\n",
       "      <th></th>\n",
       "      <th></th>\n",
       "    </tr>\n",
       "  </thead>\n",
       "  <tbody>\n",
       "    <tr>\n",
       "      <th>California</th>\n",
       "      <td>73854</td>\n",
       "      <td>94873</td>\n",
       "      <td>153442</td>\n",
       "      <td>145020</td>\n",
       "    </tr>\n",
       "    <tr>\n",
       "      <th>New York</th>\n",
       "      <td>6043</td>\n",
       "      <td>10090</td>\n",
       "      <td>15752</td>\n",
       "      <td>14823</td>\n",
       "    </tr>\n",
       "    <tr>\n",
       "      <th>Washington</th>\n",
       "      <td>5363</td>\n",
       "      <td>7068</td>\n",
       "      <td>12650</td>\n",
       "      <td>12172</td>\n",
       "    </tr>\n",
       "    <tr>\n",
       "      <th>Florida</th>\n",
       "      <td>6255</td>\n",
       "      <td>6573</td>\n",
       "      <td>13705</td>\n",
       "      <td>15794</td>\n",
       "    </tr>\n",
       "    <tr>\n",
       "      <th>Texas</th>\n",
       "      <td>4510</td>\n",
       "      <td>5419</td>\n",
       "      <td>11764</td>\n",
       "      <td>5780</td>\n",
       "    </tr>\n",
       "  </tbody>\n",
       "</table>\n",
       "</div>"
      ],
      "text/plain": [
       "             2016   2017    2018    2019\n",
       "State                                   \n",
       "California  73854  94873  153442  145020\n",
       "New York     6043  10090   15752   14823\n",
       "Washington   5363   7068   12650   12172\n",
       "Florida      6255   6573   13705   15794\n",
       "Texas        4510   5419   11764    5780"
      ]
     },
     "execution_count": 3,
     "metadata": {},
     "output_type": "execute_result"
    }
   ],
   "source": [
    "df_EV = pd.read_csv(EV_SALE_DATASET,index_col=[0]).set_index(\"State\")\n",
    "print(df_EV.shape)\n",
    "df_EV.head()"
   ]
  },
  {
   "cell_type": "markdown",
   "id": "d83fda94-5b82-4d49-a96e-37743567babd",
   "metadata": {},
   "source": [
    "## Load the climate dataset"
   ]
  },
  {
   "cell_type": "code",
   "execution_count": 4,
   "id": "57bdeae3-9170-4670-a5b5-0ccf0011aec7",
   "metadata": {},
   "outputs": [
    {
     "name": "stdout",
     "output_type": "stream",
     "text": [
      "(49, 32)\n"
     ]
    },
    {
     "data": {
      "text/html": [
       "<div>\n",
       "<style scoped>\n",
       "    .dataframe tbody tr th:only-of-type {\n",
       "        vertical-align: middle;\n",
       "    }\n",
       "\n",
       "    .dataframe tbody tr th {\n",
       "        vertical-align: top;\n",
       "    }\n",
       "\n",
       "    .dataframe thead th {\n",
       "        text-align: right;\n",
       "    }\n",
       "</style>\n",
       "<table border=\"1\" class=\"dataframe\">\n",
       "  <thead>\n",
       "    <tr style=\"text-align: right;\">\n",
       "      <th></th>\n",
       "      <th>1990</th>\n",
       "      <th>1991</th>\n",
       "      <th>1992</th>\n",
       "      <th>1993</th>\n",
       "      <th>1994</th>\n",
       "      <th>1995</th>\n",
       "      <th>1996</th>\n",
       "      <th>1997</th>\n",
       "      <th>1998</th>\n",
       "      <th>1999</th>\n",
       "      <th>...</th>\n",
       "      <th>2012</th>\n",
       "      <th>2013</th>\n",
       "      <th>2014</th>\n",
       "      <th>2015</th>\n",
       "      <th>2016</th>\n",
       "      <th>2017</th>\n",
       "      <th>2018</th>\n",
       "      <th>2019</th>\n",
       "      <th>2020</th>\n",
       "      <th>2021</th>\n",
       "    </tr>\n",
       "    <tr>\n",
       "      <th>State</th>\n",
       "      <th></th>\n",
       "      <th></th>\n",
       "      <th></th>\n",
       "      <th></th>\n",
       "      <th></th>\n",
       "      <th></th>\n",
       "      <th></th>\n",
       "      <th></th>\n",
       "      <th></th>\n",
       "      <th></th>\n",
       "      <th></th>\n",
       "      <th></th>\n",
       "      <th></th>\n",
       "      <th></th>\n",
       "      <th></th>\n",
       "      <th></th>\n",
       "      <th></th>\n",
       "      <th></th>\n",
       "      <th></th>\n",
       "      <th></th>\n",
       "      <th></th>\n",
       "    </tr>\n",
       "  </thead>\n",
       "  <tbody>\n",
       "    <tr>\n",
       "      <th>Massachusetts</th>\n",
       "      <td>49.7</td>\n",
       "      <td>49.6</td>\n",
       "      <td>46.4</td>\n",
       "      <td>47.3</td>\n",
       "      <td>47.7</td>\n",
       "      <td>47.8</td>\n",
       "      <td>47.3</td>\n",
       "      <td>47.4</td>\n",
       "      <td>50.4</td>\n",
       "      <td>49.8</td>\n",
       "      <td>...</td>\n",
       "      <td>51.3</td>\n",
       "      <td>48.8</td>\n",
       "      <td>47.7</td>\n",
       "      <td>48.5</td>\n",
       "      <td>50.3</td>\n",
       "      <td>49.6</td>\n",
       "      <td>49.5</td>\n",
       "      <td>48.5</td>\n",
       "      <td>50.9</td>\n",
       "      <td>50.7</td>\n",
       "    </tr>\n",
       "    <tr>\n",
       "      <th>North Carolina</th>\n",
       "      <td>61.1</td>\n",
       "      <td>60.2</td>\n",
       "      <td>58.2</td>\n",
       "      <td>58.7</td>\n",
       "      <td>59.0</td>\n",
       "      <td>58.4</td>\n",
       "      <td>57.8</td>\n",
       "      <td>58.1</td>\n",
       "      <td>60.8</td>\n",
       "      <td>59.7</td>\n",
       "      <td>...</td>\n",
       "      <td>60.7</td>\n",
       "      <td>58.6</td>\n",
       "      <td>58.4</td>\n",
       "      <td>60.5</td>\n",
       "      <td>60.8</td>\n",
       "      <td>61.0</td>\n",
       "      <td>60.4</td>\n",
       "      <td>61.3</td>\n",
       "      <td>60.8</td>\n",
       "      <td>60.2</td>\n",
       "    </tr>\n",
       "    <tr>\n",
       "      <th>Arkansas</th>\n",
       "      <td>61.8</td>\n",
       "      <td>61.3</td>\n",
       "      <td>59.9</td>\n",
       "      <td>59.3</td>\n",
       "      <td>60.4</td>\n",
       "      <td>60.5</td>\n",
       "      <td>59.6</td>\n",
       "      <td>59.7</td>\n",
       "      <td>63.1</td>\n",
       "      <td>62.1</td>\n",
       "      <td>...</td>\n",
       "      <td>63.6</td>\n",
       "      <td>59.6</td>\n",
       "      <td>58.7</td>\n",
       "      <td>61.4</td>\n",
       "      <td>62.8</td>\n",
       "      <td>62.5</td>\n",
       "      <td>61.2</td>\n",
       "      <td>61.2</td>\n",
       "      <td>61.1</td>\n",
       "      <td>61.2</td>\n",
       "    </tr>\n",
       "    <tr>\n",
       "      <th>North Dakota</th>\n",
       "      <td>42.6</td>\n",
       "      <td>42.3</td>\n",
       "      <td>41.2</td>\n",
       "      <td>38.3</td>\n",
       "      <td>40.0</td>\n",
       "      <td>39.6</td>\n",
       "      <td>36.5</td>\n",
       "      <td>40.7</td>\n",
       "      <td>43.2</td>\n",
       "      <td>43.0</td>\n",
       "      <td>...</td>\n",
       "      <td>44.1</td>\n",
       "      <td>38.8</td>\n",
       "      <td>39.0</td>\n",
       "      <td>43.4</td>\n",
       "      <td>44.4</td>\n",
       "      <td>42.0</td>\n",
       "      <td>39.8</td>\n",
       "      <td>38.0</td>\n",
       "      <td>42.3</td>\n",
       "      <td>43.8</td>\n",
       "    </tr>\n",
       "    <tr>\n",
       "      <th>Kansas</th>\n",
       "      <td>55.5</td>\n",
       "      <td>55.7</td>\n",
       "      <td>54.2</td>\n",
       "      <td>51.9</td>\n",
       "      <td>54.9</td>\n",
       "      <td>53.9</td>\n",
       "      <td>53.1</td>\n",
       "      <td>53.7</td>\n",
       "      <td>56.3</td>\n",
       "      <td>56.0</td>\n",
       "      <td>...</td>\n",
       "      <td>58.2</td>\n",
       "      <td>53.7</td>\n",
       "      <td>53.7</td>\n",
       "      <td>56.3</td>\n",
       "      <td>57.2</td>\n",
       "      <td>56.5</td>\n",
       "      <td>54.6</td>\n",
       "      <td>53.8</td>\n",
       "      <td>55.6</td>\n",
       "      <td>56.1</td>\n",
       "    </tr>\n",
       "  </tbody>\n",
       "</table>\n",
       "<p>5 rows × 32 columns</p>\n",
       "</div>"
      ],
      "text/plain": [
       "                1990  1991  1992  1993  1994  1995  1996  1997  1998  1999  \\\n",
       "State                                                                        \n",
       "Massachusetts   49.7  49.6  46.4  47.3  47.7  47.8  47.3  47.4  50.4  49.8   \n",
       "North Carolina  61.1  60.2  58.2  58.7  59.0  58.4  57.8  58.1  60.8  59.7   \n",
       "Arkansas        61.8  61.3  59.9  59.3  60.4  60.5  59.6  59.7  63.1  62.1   \n",
       "North Dakota    42.6  42.3  41.2  38.3  40.0  39.6  36.5  40.7  43.2  43.0   \n",
       "Kansas          55.5  55.7  54.2  51.9  54.9  53.9  53.1  53.7  56.3  56.0   \n",
       "\n",
       "                ...  2012  2013  2014  2015  2016  2017  2018  2019  2020  \\\n",
       "State           ...                                                         \n",
       "Massachusetts   ...  51.3  48.8  47.7  48.5  50.3  49.6  49.5  48.5  50.9   \n",
       "North Carolina  ...  60.7  58.6  58.4  60.5  60.8  61.0  60.4  61.3  60.8   \n",
       "Arkansas        ...  63.6  59.6  58.7  61.4  62.8  62.5  61.2  61.2  61.1   \n",
       "North Dakota    ...  44.1  38.8  39.0  43.4  44.4  42.0  39.8  38.0  42.3   \n",
       "Kansas          ...  58.2  53.7  53.7  56.3  57.2  56.5  54.6  53.8  55.6   \n",
       "\n",
       "                2021  \n",
       "State                 \n",
       "Massachusetts   50.7  \n",
       "North Carolina  60.2  \n",
       "Arkansas        61.2  \n",
       "North Dakota    43.8  \n",
       "Kansas          56.1  \n",
       "\n",
       "[5 rows x 32 columns]"
      ]
     },
     "execution_count": 4,
     "metadata": {},
     "output_type": "execute_result"
    }
   ],
   "source": [
    "df_Climate = pd.read_csv(CLIMATE_DATASET,index_col=[0])\n",
    "print(df_Climate.shape)\n",
    "df_Climate.head()"
   ]
  },
  {
   "cell_type": "markdown",
   "id": "09d8b1f5-9f36-4cfc-bc5a-a119c050c23f",
   "metadata": {},
   "source": [
    "## Load the income dataset"
   ]
  },
  {
   "cell_type": "code",
   "execution_count": 5,
   "id": "06f8f4e4-e3b4-462a-81f1-9e3290564f19",
   "metadata": {},
   "outputs": [
    {
     "name": "stdout",
     "output_type": "stream",
     "text": [
      "(51, 74)\n"
     ]
    },
    {
     "data": {
      "text/html": [
       "<div>\n",
       "<style scoped>\n",
       "    .dataframe tbody tr th:only-of-type {\n",
       "        vertical-align: middle;\n",
       "    }\n",
       "\n",
       "    .dataframe tbody tr th {\n",
       "        vertical-align: top;\n",
       "    }\n",
       "\n",
       "    .dataframe thead th {\n",
       "        text-align: right;\n",
       "    }\n",
       "</style>\n",
       "<table border=\"1\" class=\"dataframe\">\n",
       "  <thead>\n",
       "    <tr style=\"text-align: right;\">\n",
       "      <th></th>\n",
       "      <th>1948</th>\n",
       "      <th>1949</th>\n",
       "      <th>1950</th>\n",
       "      <th>1951</th>\n",
       "      <th>1952</th>\n",
       "      <th>1953</th>\n",
       "      <th>1954</th>\n",
       "      <th>1955</th>\n",
       "      <th>1956</th>\n",
       "      <th>1957</th>\n",
       "      <th>...</th>\n",
       "      <th>2012</th>\n",
       "      <th>2013</th>\n",
       "      <th>2014</th>\n",
       "      <th>2015</th>\n",
       "      <th>2016</th>\n",
       "      <th>2017</th>\n",
       "      <th>2018</th>\n",
       "      <th>2019</th>\n",
       "      <th>2020</th>\n",
       "      <th>2021</th>\n",
       "    </tr>\n",
       "    <tr>\n",
       "      <th>GeoName</th>\n",
       "      <th></th>\n",
       "      <th></th>\n",
       "      <th></th>\n",
       "      <th></th>\n",
       "      <th></th>\n",
       "      <th></th>\n",
       "      <th></th>\n",
       "      <th></th>\n",
       "      <th></th>\n",
       "      <th></th>\n",
       "      <th></th>\n",
       "      <th></th>\n",
       "      <th></th>\n",
       "      <th></th>\n",
       "      <th></th>\n",
       "      <th></th>\n",
       "      <th></th>\n",
       "      <th></th>\n",
       "      <th></th>\n",
       "      <th></th>\n",
       "      <th></th>\n",
       "    </tr>\n",
       "  </thead>\n",
       "  <tbody>\n",
       "    <tr>\n",
       "      <th>Alabama</th>\n",
       "      <td>10467.9</td>\n",
       "      <td>10252.7</td>\n",
       "      <td>12141.1</td>\n",
       "      <td>13719.4</td>\n",
       "      <td>14571.1</td>\n",
       "      <td>14331.5</td>\n",
       "      <td>16687.0</td>\n",
       "      <td>17907.4</td>\n",
       "      <td>18931.3</td>\n",
       "      <td>20113.4</td>\n",
       "      <td>...</td>\n",
       "      <td>491754.4</td>\n",
       "      <td>790033.1</td>\n",
       "      <td>1185940.7</td>\n",
       "      <td>1629938.5</td>\n",
       "      <td>2175204.7</td>\n",
       "      <td>2680407.0</td>\n",
       "      <td>3251615.6</td>\n",
       "      <td>561796.4</td>\n",
       "      <td>4097666.7</td>\n",
       "      <td>10591485.7</td>\n",
       "    </tr>\n",
       "    <tr>\n",
       "      <th>Alaska</th>\n",
       "      <td>0.0</td>\n",
       "      <td>343.4</td>\n",
       "      <td>1834.8</td>\n",
       "      <td>2453.7</td>\n",
       "      <td>2598.4</td>\n",
       "      <td>2486.0</td>\n",
       "      <td>2633.0</td>\n",
       "      <td>2723.0</td>\n",
       "      <td>2688.8</td>\n",
       "      <td>2842.0</td>\n",
       "      <td>...</td>\n",
       "      <td>103757.3</td>\n",
       "      <td>172710.3</td>\n",
       "      <td>231480.8</td>\n",
       "      <td>299836.3</td>\n",
       "      <td>418046.7</td>\n",
       "      <td>593095.3</td>\n",
       "      <td>695672.9</td>\n",
       "      <td>95956.2</td>\n",
       "      <td>807784.7</td>\n",
       "      <td>2192509.1</td>\n",
       "    </tr>\n",
       "    <tr>\n",
       "      <th>Arizona</th>\n",
       "      <td>3738.2</td>\n",
       "      <td>3917.6</td>\n",
       "      <td>4731.7</td>\n",
       "      <td>5915.6</td>\n",
       "      <td>6359.8</td>\n",
       "      <td>6732.2</td>\n",
       "      <td>7652.7</td>\n",
       "      <td>8771.7</td>\n",
       "      <td>9488.8</td>\n",
       "      <td>10717.6</td>\n",
       "      <td>...</td>\n",
       "      <td>414098.9</td>\n",
       "      <td>784716.8</td>\n",
       "      <td>1197632.4</td>\n",
       "      <td>1967944.9</td>\n",
       "      <td>2999854.9</td>\n",
       "      <td>3653468.2</td>\n",
       "      <td>4894171.6</td>\n",
       "      <td>569427.7</td>\n",
       "      <td>4364393.0</td>\n",
       "      <td>13481460.5</td>\n",
       "    </tr>\n",
       "    <tr>\n",
       "      <th>Arkansas</th>\n",
       "      <td>6429.8</td>\n",
       "      <td>6002.5</td>\n",
       "      <td>6961.9</td>\n",
       "      <td>7638.7</td>\n",
       "      <td>7717.7</td>\n",
       "      <td>7672.4</td>\n",
       "      <td>8583.4</td>\n",
       "      <td>8753.5</td>\n",
       "      <td>9244.4</td>\n",
       "      <td>10108.6</td>\n",
       "      <td>...</td>\n",
       "      <td>280218.7</td>\n",
       "      <td>440516.1</td>\n",
       "      <td>644009.5</td>\n",
       "      <td>916271.4</td>\n",
       "      <td>1254655.3</td>\n",
       "      <td>1612672.7</td>\n",
       "      <td>2048814.3</td>\n",
       "      <td>321698.4</td>\n",
       "      <td>2281015.7</td>\n",
       "      <td>6264201.1</td>\n",
       "    </tr>\n",
       "    <tr>\n",
       "      <th>California</th>\n",
       "      <td>73098.0</td>\n",
       "      <td>76086.4</td>\n",
       "      <td>89729.5</td>\n",
       "      <td>104507.7</td>\n",
       "      <td>114912.5</td>\n",
       "      <td>120629.2</td>\n",
       "      <td>136485.1</td>\n",
       "      <td>150933.0</td>\n",
       "      <td>161009.6</td>\n",
       "      <td>179496.7</td>\n",
       "      <td>...</td>\n",
       "      <td>4474919.5</td>\n",
       "      <td>7767454.3</td>\n",
       "      <td>11280953.2</td>\n",
       "      <td>16209227.0</td>\n",
       "      <td>22363039.0</td>\n",
       "      <td>27437210.9</td>\n",
       "      <td>37870143.0</td>\n",
       "      <td>5844770.9</td>\n",
       "      <td>39732554.0</td>\n",
       "      <td>110884678.8</td>\n",
       "    </tr>\n",
       "  </tbody>\n",
       "</table>\n",
       "<p>5 rows × 74 columns</p>\n",
       "</div>"
      ],
      "text/plain": [
       "               1948     1949     1950      1951      1952      1953      1954  \\\n",
       "GeoName                                                                         \n",
       "Alabama     10467.9  10252.7  12141.1   13719.4   14571.1   14331.5   16687.0   \n",
       "Alaska          0.0    343.4   1834.8    2453.7    2598.4    2486.0    2633.0   \n",
       "Arizona      3738.2   3917.6   4731.7    5915.6    6359.8    6732.2    7652.7   \n",
       "Arkansas     6429.8   6002.5   6961.9    7638.7    7717.7    7672.4    8583.4   \n",
       "California  73098.0  76086.4  89729.5  104507.7  114912.5  120629.2  136485.1   \n",
       "\n",
       "                1955      1956      1957  ...       2012       2013  \\\n",
       "GeoName                                   ...                         \n",
       "Alabama      17907.4   18931.3   20113.4  ...   491754.4   790033.1   \n",
       "Alaska        2723.0    2688.8    2842.0  ...   103757.3   172710.3   \n",
       "Arizona       8771.7    9488.8   10717.6  ...   414098.9   784716.8   \n",
       "Arkansas      8753.5    9244.4   10108.6  ...   280218.7   440516.1   \n",
       "California  150933.0  161009.6  179496.7  ...  4474919.5  7767454.3   \n",
       "\n",
       "                  2014        2015        2016        2017        2018  \\\n",
       "GeoName                                                                  \n",
       "Alabama      1185940.7   1629938.5   2175204.7   2680407.0   3251615.6   \n",
       "Alaska        231480.8    299836.3    418046.7    593095.3    695672.9   \n",
       "Arizona      1197632.4   1967944.9   2999854.9   3653468.2   4894171.6   \n",
       "Arkansas      644009.5    916271.4   1254655.3   1612672.7   2048814.3   \n",
       "California  11280953.2  16209227.0  22363039.0  27437210.9  37870143.0   \n",
       "\n",
       "                 2019        2020         2021  \n",
       "GeoName                                         \n",
       "Alabama      561796.4   4097666.7   10591485.7  \n",
       "Alaska        95956.2    807784.7    2192509.1  \n",
       "Arizona      569427.7   4364393.0   13481460.5  \n",
       "Arkansas     321698.4   2281015.7    6264201.1  \n",
       "California  5844770.9  39732554.0  110884678.8  \n",
       "\n",
       "[5 rows x 74 columns]"
      ]
     },
     "execution_count": 5,
     "metadata": {},
     "output_type": "execute_result"
    }
   ],
   "source": [
    "df_Income = pd.read_csv(INCOME_DATASET,index_col=[0]).sort_values('GeoName').set_index(\"GeoName\")\n",
    "print(df_Income.shape)\n",
    "df_Income.head()"
   ]
  },
  {
   "cell_type": "markdown",
   "id": "ccdda6d2-2fa9-4f85-800b-eed515f38b14",
   "metadata": {},
   "source": [
    "## Merge into one dataframe"
   ]
  },
  {
   "cell_type": "code",
   "execution_count": 6,
   "id": "51e6dbaf-9fd2-4a76-9daf-f22be896c4b8",
   "metadata": {},
   "outputs": [
    {
     "name": "stdout",
     "output_type": "stream",
     "text": [
      "(49, 2)\n"
     ]
    },
    {
     "data": {
      "text/html": [
       "<div>\n",
       "<style scoped>\n",
       "    .dataframe tbody tr th:only-of-type {\n",
       "        vertical-align: middle;\n",
       "    }\n",
       "\n",
       "    .dataframe tbody tr th {\n",
       "        vertical-align: top;\n",
       "    }\n",
       "\n",
       "    .dataframe thead th {\n",
       "        text-align: right;\n",
       "    }\n",
       "</style>\n",
       "<table border=\"1\" class=\"dataframe\">\n",
       "  <thead>\n",
       "    <tr style=\"text-align: right;\">\n",
       "      <th></th>\n",
       "      <th>temp</th>\n",
       "      <th>EV_sale</th>\n",
       "    </tr>\n",
       "    <tr>\n",
       "      <th>State</th>\n",
       "      <th></th>\n",
       "      <th></th>\n",
       "    </tr>\n",
       "  </thead>\n",
       "  <tbody>\n",
       "    <tr>\n",
       "      <th>Massachusetts</th>\n",
       "      <td>48.5</td>\n",
       "      <td>7858</td>\n",
       "    </tr>\n",
       "    <tr>\n",
       "      <th>North Carolina</th>\n",
       "      <td>61.3</td>\n",
       "      <td>5393</td>\n",
       "    </tr>\n",
       "    <tr>\n",
       "      <th>Arkansas</th>\n",
       "      <td>61.2</td>\n",
       "      <td>538</td>\n",
       "    </tr>\n",
       "    <tr>\n",
       "      <th>North Dakota</th>\n",
       "      <td>38.0</td>\n",
       "      <td>114</td>\n",
       "    </tr>\n",
       "    <tr>\n",
       "      <th>Kansas</th>\n",
       "      <td>53.8</td>\n",
       "      <td>847</td>\n",
       "    </tr>\n",
       "  </tbody>\n",
       "</table>\n",
       "</div>"
      ],
      "text/plain": [
       "                temp  EV_sale\n",
       "State                        \n",
       "Massachusetts   48.5     7858\n",
       "North Carolina  61.3     5393\n",
       "Arkansas        61.2      538\n",
       "North Dakota    38.0      114\n",
       "Kansas          53.8      847"
      ]
     },
     "execution_count": 6,
     "metadata": {},
     "output_type": "execute_result"
    }
   ],
   "source": [
    "df_climate_and_ev = pd.concat([df_Climate['2019'].rename('temp'), df_EV['2019'].rename('EV_sale')], axis = 1)\n",
    "df_climate_and_ev = df_climate_and_ev.dropna()\n",
    "print(df_climate_and_ev.shape)\n",
    "df_climate_and_ev.head()"
   ]
  },
  {
   "cell_type": "code",
   "execution_count": 7,
   "id": "8bb398c7-ae3a-47e4-8ed2-d79972bd8b99",
   "metadata": {},
   "outputs": [
    {
     "data": {
      "text/plain": [
       "('California', 'Florida', 'Alaska')"
      ]
     },
     "execution_count": 7,
     "metadata": {},
     "output_type": "execute_result"
    }
   ],
   "source": [
    "highest_sale = df_climate_and_ev.sort_values(by='EV_sale',ascending=False).index[0]\n",
    "highest_temp = df_climate_and_ev.sort_values(by='temp',ascending=False).index[0]\n",
    "lowest_temp = df_climate_and_ev.sort_values(by='temp',ascending=True).index[0]\n",
    "highest_sale, highest_temp, lowest_temp"
   ]
  },
  {
   "cell_type": "code",
   "execution_count": 8,
   "id": "b19f6297-5c53-47a0-aab7-1481f4bb78be",
   "metadata": {},
   "outputs": [
    {
     "data": {
      "image/png": "[encoded data removed]",
      "text/plain": [
       "<Figure size 720x360 with 1 Axes>"
      ]
     },
     "metadata": {
      "needs_background": "light"
     },
     "output_type": "display_data"
    }
   ],
   "source": [
    "fig, ax = plt.subplots(figsize=(10, 5))\n",
    "ax.ticklabel_format(style='plain')\n",
    "plt.scatter(df_climate_and_ev['temp'],df_climate_and_ev['EV_sale'])\n",
    "\n",
    "plt.annotate(highest_sale, xy = (df_climate_and_ev.loc[highest_sale][['temp', 'EV_sale']]), xytext = df_climate_and_ev.loc[highest_sale][['temp', 'EV_sale']] +(+5, -20000), fontsize=15, \n",
    "            arrowprops=dict(arrowstyle='->')\n",
    "            )\n",
    "plt.annotate(highest_temp, xy = (df_climate_and_ev.loc[highest_temp][['temp', 'EV_sale']]), xytext = df_climate_and_ev.loc[highest_temp][['temp', 'EV_sale']] +(-5, +20000), fontsize=15, \n",
    "            arrowprops=dict(arrowstyle='->')\n",
    "            )\n",
    "plt.annotate(lowest_temp, xy = (df_climate_and_ev.loc[lowest_temp][['temp', 'EV_sale']]), xytext = df_climate_and_ev.loc[lowest_temp][['temp', 'EV_sale']] +(-0, +20000), fontsize=15, \n",
    "            arrowprops=dict(arrowstyle='->')\n",
    "            )\n",
    "\n",
    "plt.title(\"climate vs EV sales\")\n",
    "plt.xlabel(\"temperature\")\n",
    "plt.ylabel(\"sales\")\n",
    "plt.show()"
   ]
  },
  {
   "cell_type": "code",
   "execution_count": 9,
   "id": "2cffd744-bf7b-4697-b86f-9797f80eeb77",
   "metadata": {},
   "outputs": [
    {
     "data": {
      "text/plain": [
       "temp           58.4\n",
       "EV_sale    145020.0\n",
       "Name: California, dtype: float64"
      ]
     },
     "execution_count": 9,
     "metadata": {},
     "output_type": "execute_result"
    }
   ],
   "source": [
    "df_climate_and_ev.loc[highest_sale][['temp', 'EV_sale']]"
   ]
  },
  {
   "cell_type": "code",
   "execution_count": 10,
   "id": "2133c313-c700-4600-8ff9-19a0309dc1e8",
   "metadata": {},
   "outputs": [],
   "source": [
    "df_climate_and_ev = df_climate_and_ev.drop(highest_sale)\n",
    "df_climate_and_ev = df_climate_and_ev.drop(highest_temp)\n",
    "df_climate_and_ev = df_climate_and_ev.drop(lowest_temp)"
   ]
  },
  {
   "cell_type": "code",
   "execution_count": 11,
   "id": "5d61ae58-e329-41f4-8287-efd2959c8654",
   "metadata": {},
   "outputs": [
    {
     "data": {
      "image/png": "[encoded data removed]",
      "text/plain": [
       "<Figure size 720x360 with 1 Axes>"
      ]
     },
     "metadata": {
      "needs_background": "light"
     },
     "output_type": "display_data"
    }
   ],
   "source": [
    "fig, ax = plt.subplots(figsize=(10, 5))\n",
    "ax.ticklabel_format(style='plain')\n",
    "plt.scatter(df_climate_and_ev['temp'],df_climate_and_ev['EV_sale'])\n",
    "plt.title(\"climate vs EV sales\")\n",
    "plt.xlabel(\"temperature\")\n",
    "plt.ylabel(\"sales\")\n",
    "plt.show()"
   ]
  },
  {
   "cell_type": "code",
   "execution_count": 12,
   "id": "1a8d66b1-afbe-469a-8ffd-6f94b99df036",
   "metadata": {},
   "outputs": [
    {
     "data": {
      "image/png": "[encoded data removed]",
      "text/plain": [
       "<Figure size 1440x360 with 2 Axes>"
      ]
     },
     "metadata": {
      "needs_background": "light"
     },
     "output_type": "display_data"
    }
   ],
   "source": [
    "fig, ax = plt.subplots(figsize=(20, 5))\n",
    "\n",
    "plt.subplot(1, 2, 1)\n",
    "plt.title(\"climate vs EV sales with regression degree 1\")\n",
    "plt.xlabel(\"temperature\")\n",
    "plt.ylabel(\"sales\")\n",
    "parameter = np.polyfit(df_climate_and_ev['temp'], df_climate_and_ev['EV_sale'],1)\n",
    "p = np.poly1d(parameter)\n",
    "plt.scatter(df_climate_and_ev['temp'], df_climate_and_ev['EV_sale'])\n",
    "plt.plot(df_climate_and_ev['temp'],p(df_climate_and_ev['temp']),color='g')\n",
    "\n",
    "plt.subplot(1, 2, 2)\n",
    "plt.title(\"climate vs EV sales with regression degree 2\")\n",
    "plt.xlabel(\"temperature\")\n",
    "plt.ylabel(\"sales\")\n",
    "parameter = np.polyfit(df_climate_and_ev['temp'], df_climate_and_ev['EV_sale'],2)\n",
    "p = np.poly1d(parameter)\n",
    "plt.scatter(df_climate_and_ev['temp'], df_climate_and_ev['EV_sale'])\n",
    "plt.plot(df_climate_and_ev['temp'],p(df_climate_and_ev['temp']),color='g')\n",
    "\n",
    "plt.show()\n",
    "\n",
    "# Save as png image\n",
    "fig.savefig('./Images/Climate_vs_EVsales_1.png', format='png')"
   ]
  },
  {
   "cell_type": "code",
   "execution_count": 13,
   "id": "35dd69da-dc8e-40ec-9b16-f0468fd68a73",
   "metadata": {},
   "outputs": [
    {
     "data": {
      "text/html": [
       "<div>\n",
       "<style scoped>\n",
       "    .dataframe tbody tr th:only-of-type {\n",
       "        vertical-align: middle;\n",
       "    }\n",
       "\n",
       "    .dataframe tbody tr th {\n",
       "        vertical-align: top;\n",
       "    }\n",
       "\n",
       "    .dataframe thead th {\n",
       "        text-align: right;\n",
       "    }\n",
       "</style>\n",
       "<table border=\"1\" class=\"dataframe\">\n",
       "  <thead>\n",
       "    <tr style=\"text-align: right;\">\n",
       "      <th></th>\n",
       "      <th>temp</th>\n",
       "      <th>EV_sale</th>\n",
       "    </tr>\n",
       "    <tr>\n",
       "      <th>State</th>\n",
       "      <th></th>\n",
       "      <th></th>\n",
       "    </tr>\n",
       "  </thead>\n",
       "  <tbody>\n",
       "    <tr>\n",
       "      <th>Massachusetts</th>\n",
       "      <td>48.5</td>\n",
       "      <td>7858</td>\n",
       "    </tr>\n",
       "    <tr>\n",
       "      <th>North Carolina</th>\n",
       "      <td>61.3</td>\n",
       "      <td>5393</td>\n",
       "    </tr>\n",
       "    <tr>\n",
       "      <th>Arkansas</th>\n",
       "      <td>61.2</td>\n",
       "      <td>538</td>\n",
       "    </tr>\n",
       "    <tr>\n",
       "      <th>North Dakota</th>\n",
       "      <td>38.0</td>\n",
       "      <td>114</td>\n",
       "    </tr>\n",
       "    <tr>\n",
       "      <th>Kansas</th>\n",
       "      <td>53.8</td>\n",
       "      <td>847</td>\n",
       "    </tr>\n",
       "  </tbody>\n",
       "</table>\n",
       "</div>"
      ],
      "text/plain": [
       "                temp  EV_sale\n",
       "State                        \n",
       "Massachusetts   48.5     7858\n",
       "North Carolina  61.3     5393\n",
       "Arkansas        61.2      538\n",
       "North Dakota    38.0      114\n",
       "Kansas          53.8      847"
      ]
     },
     "execution_count": 13,
     "metadata": {},
     "output_type": "execute_result"
    }
   ],
   "source": [
    "df_climate_and_ev.head()"
   ]
  },
  {
   "cell_type": "code",
   "execution_count": 14,
   "id": "06723f25-c51f-4e60-ab6f-c0206b4e1ff7",
   "metadata": {},
   "outputs": [],
   "source": [
    "df_climate_and_ev[\"temp\"] = pd.to_numeric(df_climate_and_ev[\"temp\"],errors='coerce')"
   ]
  },
  {
   "cell_type": "code",
   "execution_count": 15,
   "id": "546064ec-85ab-40cc-bade-34954d5a1216",
   "metadata": {},
   "outputs": [
    {
     "data": {
      "image/png": "[encoded data removed]",
      "text/plain": [
       "<Figure size 720x360 with 1 Axes>"
      ]
     },
     "metadata": {
      "needs_background": "light"
     },
     "output_type": "display_data"
    }
   ],
   "source": [
    "fig, ax = plt.subplots(figsize=(10, 5))\n",
    "plt.bar(df_climate_and_ev['temp'],df_climate_and_ev['EV_sale'])\n",
    "plt.title(\"climate vs EV sales\")\n",
    "plt.xlabel(\"temperature\")\n",
    "plt.ylabel(\"sales\")\n",
    "plt.show()\n",
    "\n",
    "# Save as png image\n",
    "fig.savefig('./Images/Climate_vs_EVsales_2.png', format='png')"
   ]
  },
  {
   "cell_type": "code",
   "execution_count": 16,
   "id": "78d6fcf9-686f-4ee2-9136-90c916d7726f",
   "metadata": {},
   "outputs": [
    {
     "data": {
      "text/html": [
       "<div>\n",
       "<style scoped>\n",
       "    .dataframe tbody tr th:only-of-type {\n",
       "        vertical-align: middle;\n",
       "    }\n",
       "\n",
       "    .dataframe tbody tr th {\n",
       "        vertical-align: top;\n",
       "    }\n",
       "\n",
       "    .dataframe thead th {\n",
       "        text-align: right;\n",
       "    }\n",
       "</style>\n",
       "<table border=\"1\" class=\"dataframe\">\n",
       "  <thead>\n",
       "    <tr style=\"text-align: right;\">\n",
       "      <th></th>\n",
       "      <th>Climate</th>\n",
       "      <th>EV_sale</th>\n",
       "    </tr>\n",
       "  </thead>\n",
       "  <tbody>\n",
       "    <tr>\n",
       "      <th>0</th>\n",
       "      <td>cold</td>\n",
       "      <td>4072</td>\n",
       "    </tr>\n",
       "    <tr>\n",
       "      <th>1</th>\n",
       "      <td>cool</td>\n",
       "      <td>75796</td>\n",
       "    </tr>\n",
       "    <tr>\n",
       "      <th>2</th>\n",
       "      <td>warm</td>\n",
       "      <td>48134</td>\n",
       "    </tr>\n",
       "    <tr>\n",
       "      <th>3</th>\n",
       "      <td>hot</td>\n",
       "      <td>27775</td>\n",
       "    </tr>\n",
       "  </tbody>\n",
       "</table>\n",
       "</div>"
      ],
      "text/plain": [
       "  Climate EV_sale\n",
       "0    cold    4072\n",
       "1    cool   75796\n",
       "2    warm   48134\n",
       "3     hot   27775"
      ]
     },
     "execution_count": 16,
     "metadata": {},
     "output_type": "execute_result"
    }
   ],
   "source": [
    "col = ['Climate','EV_sale']\n",
    "df = pd.DataFrame(columns = col)\n",
    "df['Climate'] =  ['cold','cool','warm','hot']\n",
    "for index, row in df.iterrows():\n",
    "    if df.iloc[index,0] == 'cold':\n",
    "        df.iloc[index,1] = df_climate_and_ev[(df_climate_and_ev['temp']<= 40)]['EV_sale'].sum()\n",
    "    if df.iloc[index,0] == 'cool':\n",
    "        df.iloc[index,1] = df_climate_and_ev[((df_climate_and_ev['temp']>= 40) & (df_climate_and_ev['temp']<50))]['EV_sale'].sum()\n",
    "    if df.iloc[index,0] == 'warm':\n",
    "        df.iloc[index,1] = df_climate_and_ev[((df_climate_and_ev['temp']>= 50) & (df_climate_and_ev['temp']<60))]['EV_sale'].sum()\n",
    "    if df.iloc[index,0] == 'hot':\n",
    "        df.iloc[index,1] = df_climate_and_ev[((df_climate_and_ev['temp']>= 60) & (df_climate_and_ev['temp']<=70))]['EV_sale'].sum()\n",
    "df.head()"
   ]
  },
  {
   "cell_type": "code",
   "execution_count": 17,
   "id": "c89967a2-8109-4e64-9029-493782f3f049",
   "metadata": {},
   "outputs": [
    {
     "data": {
      "text/html": [
       "<div>\n",
       "<style scoped>\n",
       "    .dataframe tbody tr th:only-of-type {\n",
       "        vertical-align: middle;\n",
       "    }\n",
       "\n",
       "    .dataframe tbody tr th {\n",
       "        vertical-align: top;\n",
       "    }\n",
       "\n",
       "    .dataframe thead th {\n",
       "        text-align: right;\n",
       "    }\n",
       "</style>\n",
       "<table border=\"1\" class=\"dataframe\">\n",
       "  <thead>\n",
       "    <tr style=\"text-align: right;\">\n",
       "      <th></th>\n",
       "      <th>Climate</th>\n",
       "      <th>EV_sale</th>\n",
       "    </tr>\n",
       "  </thead>\n",
       "  <tbody>\n",
       "    <tr>\n",
       "      <th>0</th>\n",
       "      <td>cold</td>\n",
       "      <td>4072</td>\n",
       "    </tr>\n",
       "    <tr>\n",
       "      <th>1</th>\n",
       "      <td>cool</td>\n",
       "      <td>75796</td>\n",
       "    </tr>\n",
       "    <tr>\n",
       "      <th>2</th>\n",
       "      <td>warm</td>\n",
       "      <td>48134</td>\n",
       "    </tr>\n",
       "    <tr>\n",
       "      <th>3</th>\n",
       "      <td>hot</td>\n",
       "      <td>27775</td>\n",
       "    </tr>\n",
       "  </tbody>\n",
       "</table>\n",
       "</div>"
      ],
      "text/plain": [
       "  Climate EV_sale\n",
       "0    cold    4072\n",
       "1    cool   75796\n",
       "2    warm   48134\n",
       "3     hot   27775"
      ]
     },
     "execution_count": 17,
     "metadata": {},
     "output_type": "execute_result"
    }
   ],
   "source": [
    "df"
   ]
  },
  {
   "cell_type": "code",
   "execution_count": 18,
   "id": "fd1e6de4-da61-426e-a7ab-34d216ca1854",
   "metadata": {},
   "outputs": [],
   "source": [
    "df = df.set_index('Climate')"
   ]
  },
  {
   "cell_type": "code",
   "execution_count": 19,
   "id": "6386cc41-6dd7-464e-baaa-5e29f33a8e6f",
   "metadata": {},
   "outputs": [
    {
     "data": {
      "image/png": "[encoded data removed]",
      "text/plain": [
       "<Figure size 720x360 with 1 Axes>"
      ]
     },
     "metadata": {
      "needs_background": "light"
     },
     "output_type": "display_data"
    }
   ],
   "source": [
    "fig, ax = plt.subplots(figsize=(10, 5))\n",
    "df.plot(kind='bar',ax=ax)\n",
    "df.plot(kind='line', marker='^',ax=ax, color='black')\n",
    "plt.title(\"climate vs EV sales\")\n",
    "plt.xlabel(\"temperature\")\n",
    "plt.ylabel(\"sales\")\n",
    "plt.show()\n",
    "\n",
    "# Save as png image\n",
    "fig.savefig('./Images/Climate_vs_EVsales_3.png', format='png')"
   ]
  }
 ],
 "metadata": {
  "kernelspec": {
   "display_name": "Python 3 (ipykernel)",
   "language": "python",
   "name": "python3"
  },
  "language_info": {
   "codemirror_mode": {
    "name": "ipython",
    "version": 3
   },
   "file_extension": ".py",
   "mimetype": "text/x-python",
   "name": "python",
   "nbconvert_exporter": "python",
   "pygments_lexer": "ipython3",
   "version": "3.9.7"
  }
 },
 "nbformat": 4,
 "nbformat_minor": 5
}
