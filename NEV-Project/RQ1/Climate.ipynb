{
 "cells": [
  {
   "cell_type": "markdown",
   "id": "947faeeb-f381-477a-b8fd-d484e24e7550",
   "metadata": {},
   "source": [
    "# Climate vs EV_sales"
   ]
  },
  {
   "cell_type": "code",
   "execution_count": 1,
   "id": "7ef862e3-fbcc-45bd-9031-eee65019c767",
   "metadata": {},
   "outputs": [],
   "source": [
    "import pandas as pd\n",
    "import matplotlib.pylab as plt\n",
    "from matplotlib.patches import Patch\n",
    "from matplotlib.lines import Line2D\n",
    "import matplotlib\n",
    "import seaborn as sns"
   ]
  },
  {
   "cell_type": "code",
   "execution_count": 5,
   "id": "3761071b-65fc-4328-b3a9-955023afa36d",
   "metadata": {},
   "outputs": [],
   "source": [
    "path_EV = '../Processed_Data/Ev_sales.csv'\n",
    "path_climate = '../Processed_Data/climate_state.csv'\n",
    "path_income = '../Processed_Data/incomes.csv'"
   ]
  },
  {
   "cell_type": "code",
   "execution_count": 6,
   "id": "06f8f4e4-e3b4-462a-81f1-9e3290564f19",
   "metadata": {},
   "outputs": [],
   "source": [
    "df_EV = pd.read_csv(path_EV).sort_values('State').set_index('State').drop(columns=['Unnamed: 0'])\n",
    "df_climate = pd.read_csv(path_climate).drop(columns=['Unnamed: 0'])\n",
    "df_income = pd.read_csv(path_income).sort_values('GeoName').set_index('GeoName').drop(columns=['Unnamed: 0'])"
   ]
  },
  {
   "cell_type": "code",
   "execution_count": 7,
   "id": "ba0bcd5a-de85-44f9-805d-4db1b0468317",
   "metadata": {},
   "outputs": [
    {
     "data": {
      "text/html": [
       "<div>\n",
       "<style scoped>\n",
       "    .dataframe tbody tr th:only-of-type {\n",
       "        vertical-align: middle;\n",
       "    }\n",
       "\n",
       "    .dataframe tbody tr th {\n",
       "        vertical-align: top;\n",
       "    }\n",
       "\n",
       "    .dataframe thead th {\n",
       "        text-align: right;\n",
       "    }\n",
       "</style>\n",
       "<table border=\"1\" class=\"dataframe\">\n",
       "  <thead>\n",
       "    <tr style=\"text-align: right;\">\n",
       "      <th></th>\n",
       "      <th>temp</th>\n",
       "      <th>EV_sale</th>\n",
       "    </tr>\n",
       "    <tr>\n",
       "      <th>State</th>\n",
       "      <th></th>\n",
       "      <th></th>\n",
       "    </tr>\n",
       "  </thead>\n",
       "  <tbody>\n",
       "    <tr>\n",
       "      <th>Alabama</th>\n",
       "      <td>65.4</td>\n",
       "      <td>1007</td>\n",
       "    </tr>\n",
       "    <tr>\n",
       "      <th>Alaska</th>\n",
       "      <td>32.2</td>\n",
       "      <td>143</td>\n",
       "    </tr>\n",
       "    <tr>\n",
       "      <th>Arizona</th>\n",
       "      <td>60.3</td>\n",
       "      <td>7591</td>\n",
       "    </tr>\n",
       "    <tr>\n",
       "      <th>Arkansas</th>\n",
       "      <td>61.2</td>\n",
       "      <td>538</td>\n",
       "    </tr>\n",
       "    <tr>\n",
       "      <th>California</th>\n",
       "      <td>58.4</td>\n",
       "      <td>145020</td>\n",
       "    </tr>\n",
       "  </tbody>\n",
       "</table>\n",
       "</div>"
      ],
      "text/plain": [
       "            temp  EV_sale\n",
       "State                    \n",
       "Alabama     65.4     1007\n",
       "Alaska      32.2      143\n",
       "Arizona     60.3     7591\n",
       "Arkansas    61.2      538\n",
       "California  58.4   145020"
      ]
     },
     "execution_count": 7,
     "metadata": {},
     "output_type": "execute_result"
    }
   ],
   "source": [
    "col = ['State','temp','EV_sale']\n",
    "data = pd.DataFrame(columns = col)\n",
    "data['State']=df_income.index\n",
    "data = data.set_index('State')\n",
    "data['temp'] = df_climate.iloc[29]\n",
    "data['EV_sale']=df_EV['2019']\n",
    "data = data.drop(['District of Columbia','Hawaii'])\n",
    "data.head()"
   ]
  },
  {
   "cell_type": "code",
   "execution_count": 8,
   "id": "b19f6297-5c53-47a0-aab7-1481f4bb78be",
   "metadata": {},
   "outputs": [
    {
     "data": {
      "image/png": "[encoded data removed]",
      "text/plain": [
       "<Figure size 720x360 with 1 Axes>"
      ]
     },
     "metadata": {
      "needs_background": "light"
     },
     "output_type": "display_data"
    }
   ],
   "source": [
    "fig, ax = plt.subplots(figsize=(10, 5))\n",
    "ax.ticklabel_format(style='plain')\n",
    "plt.scatter(data['temp'],data['EV_sale'])\n",
    "plt.title(\"climate vs EV sales\")\n",
    "plt.xlabel(\"GDP\")\n",
    "plt.ylabel(\"income\")\n",
    "plt.show()"
   ]
  },
  {
   "cell_type": "code",
   "execution_count": 9,
   "id": "5d61ae58-e329-41f4-8287-efd2959c8654",
   "metadata": {},
   "outputs": [
    {
     "data": {
      "image/png": "[encoded data removed]",
      "text/plain": [
       "<Figure size 720x360 with 1 Axes>"
      ]
     },
     "metadata": {
      "needs_background": "light"
     },
     "output_type": "display_data"
    }
   ],
   "source": [
    "data = data.drop('California')\n",
    "fig, ax = plt.subplots(figsize=(10, 5))\n",
    "ax.ticklabel_format(style='plain')\n",
    "plt.scatter(data['temp'],data['EV_sale'])\n",
    "plt.title(\"climate vs EV sales\")\n",
    "plt.xlabel(\"temperature\")\n",
    "plt.ylabel(\"sales\")\n",
    "plt.show()"
   ]
  },
  {
   "cell_type": "code",
   "execution_count": null,
   "id": "c7629d8c-347f-485c-83f4-d34d4580db8b",
   "metadata": {},
   "outputs": [],
   "source": []
  }
 ],
 "metadata": {
  "kernelspec": {
   "display_name": "Python 3 (ipykernel)",
   "language": "python",
   "name": "python3"
  },
  "language_info": {
   "codemirror_mode": {
    "name": "ipython",
    "version": 3
   },
   "file_extension": ".py",
   "mimetype": "text/x-python",
   "name": "python",
   "nbconvert_exporter": "python",
   "pygments_lexer": "ipython3",
   "version": "3.9.7"
  }
 },
 "nbformat": 4,
 "nbformat_minor": 5
}
