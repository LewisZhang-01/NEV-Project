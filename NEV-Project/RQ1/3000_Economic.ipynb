{
 "cells": [
  {
   "cell_type": "markdown",
   "id": "441ccfef-03c1-4235-8838-6da416ee89f3",
   "metadata": {},
   "source": [
    "# Economic vs EV sales"
   ]
  },
  {
   "cell_type": "markdown",
   "id": "a52f3379-0bd3-47b0-aecc-42460ea5caba",
   "metadata": {},
   "source": [
    "In this NoteBook, the economic impact of new energy vehicles is discussed, including GDP, and income."
   ]
  },
  {
   "cell_type": "code",
   "execution_count": 168,
   "id": "35cebb1f-f256-4bc6-9bb4-fd7d4ee26a1a",
   "metadata": {},
   "outputs": [],
   "source": [
    "import pandas as pd\n",
    "import matplotlib.pylab as plt\n",
    "import plotly.graph_objs as go\n",
    "import plotly.express as px\n",
    "import matplotlib\n",
    "import numpy as np\n",
    "from matplotlib.pyplot import figure\n",
    "from plotly.subplots import make_subplots"
   ]
  },
  {
   "cell_type": "markdown",
   "id": "d3bcf104-e6e9-41f3-8a9c-e11b7fb0d3f6",
   "metadata": {},
   "source": [
    "## Parameters "
   ]
  },
  {
   "cell_type": "code",
   "execution_count": 169,
   "id": "1ff74afe-baed-4388-bef7-4ba0c9512637",
   "metadata": {},
   "outputs": [],
   "source": [
    "EV_SALE_DATASET = '../Processed_Data/Ev_sales_per_capita.csv'\n",
    "GDP_DATASET = '../Processed_Data/GDP_per_capita.csv'\n",
    "INCOME_DATASET = '../Processed_Data/incomes.csv'\n",
    "POPULATION_DATASET = '../Processed_Data/population.csv'"
   ]
  },
  {
   "cell_type": "markdown",
   "id": "79082f90-756d-4fc2-9bfa-340d476d699a",
   "metadata": {
    "tags": []
   },
   "source": [
    "# Load Datasets\n",
    "## Load the EV sales dataset"
   ]
  },
  {
   "cell_type": "code",
   "execution_count": 170,
   "id": "65a0e6c5-1d44-4402-a057-08ad848c55fa",
   "metadata": {},
   "outputs": [
    {
     "name": "stdout",
     "output_type": "stream",
     "text": [
      "(51, 4)\n"
     ]
    },
    {
     "data": {
      "text/html": [
       "<div>\n",
       "<style scoped>\n",
       "    .dataframe tbody tr th:only-of-type {\n",
       "        vertical-align: middle;\n",
       "    }\n",
       "\n",
       "    .dataframe tbody tr th {\n",
       "        vertical-align: top;\n",
       "    }\n",
       "\n",
       "    .dataframe thead th {\n",
       "        text-align: right;\n",
       "    }\n",
       "</style>\n",
       "<table border=\"1\" class=\"dataframe\">\n",
       "  <thead>\n",
       "    <tr style=\"text-align: right;\">\n",
       "      <th></th>\n",
       "      <th>2016</th>\n",
       "      <th>2017</th>\n",
       "      <th>2018</th>\n",
       "      <th>2019</th>\n",
       "    </tr>\n",
       "    <tr>\n",
       "      <th>Unnamed: 0</th>\n",
       "      <th></th>\n",
       "      <th></th>\n",
       "      <th></th>\n",
       "      <th></th>\n",
       "    </tr>\n",
       "  </thead>\n",
       "  <tbody>\n",
       "    <tr>\n",
       "      <th>Alabama</th>\n",
       "      <td>0.000067</td>\n",
       "      <td>0.000077</td>\n",
       "      <td>0.000174</td>\n",
       "      <td>0.000201</td>\n",
       "    </tr>\n",
       "    <tr>\n",
       "      <th>Alaska</th>\n",
       "      <td>0.000126</td>\n",
       "      <td>0.000115</td>\n",
       "      <td>0.000210</td>\n",
       "      <td>0.000195</td>\n",
       "    </tr>\n",
       "    <tr>\n",
       "      <th>Arizona</th>\n",
       "      <td>0.000333</td>\n",
       "      <td>0.000433</td>\n",
       "      <td>0.001017</td>\n",
       "      <td>0.001074</td>\n",
       "    </tr>\n",
       "    <tr>\n",
       "      <th>Arkansas</th>\n",
       "      <td>0.000046</td>\n",
       "      <td>0.000063</td>\n",
       "      <td>0.000145</td>\n",
       "      <td>0.000179</td>\n",
       "    </tr>\n",
       "    <tr>\n",
       "      <th>California</th>\n",
       "      <td>0.001883</td>\n",
       "      <td>0.002406</td>\n",
       "      <td>0.003881</td>\n",
       "      <td>0.003667</td>\n",
       "    </tr>\n",
       "  </tbody>\n",
       "</table>\n",
       "</div>"
      ],
      "text/plain": [
       "                2016      2017      2018      2019\n",
       "Unnamed: 0                                        \n",
       "Alabama     0.000067  0.000077  0.000174  0.000201\n",
       "Alaska      0.000126  0.000115  0.000210  0.000195\n",
       "Arizona     0.000333  0.000433  0.001017  0.001074\n",
       "Arkansas    0.000046  0.000063  0.000145  0.000179\n",
       "California  0.001883  0.002406  0.003881  0.003667"
      ]
     },
     "execution_count": 170,
     "metadata": {},
     "output_type": "execute_result"
    }
   ],
   "source": [
    "df_EV = pd.read_csv(EV_SALE_DATASET).set_index(\"Unnamed: 0\")\n",
    "print(df_EV.shape)\n",
    "df_EV.head()"
   ]
  },
  {
   "cell_type": "markdown",
   "id": "f5df1e04-b252-4d03-b023-30dfaa11e8e1",
   "metadata": {},
   "source": [
    "## Load the GDP dataset"
   ]
  },
  {
   "cell_type": "code",
   "execution_count": 171,
   "id": "7401883d-2238-4c4e-b166-735f36a8b9ab",
   "metadata": {},
   "outputs": [
    {
     "name": "stdout",
     "output_type": "stream",
     "text": [
      "(51, 25)\n"
     ]
    },
    {
     "data": {
      "text/html": [
       "<div>\n",
       "<style scoped>\n",
       "    .dataframe tbody tr th:only-of-type {\n",
       "        vertical-align: middle;\n",
       "    }\n",
       "\n",
       "    .dataframe tbody tr th {\n",
       "        vertical-align: top;\n",
       "    }\n",
       "\n",
       "    .dataframe thead th {\n",
       "        text-align: right;\n",
       "    }\n",
       "</style>\n",
       "<table border=\"1\" class=\"dataframe\">\n",
       "  <thead>\n",
       "    <tr style=\"text-align: right;\">\n",
       "      <th></th>\n",
       "      <th>1997</th>\n",
       "      <th>1998</th>\n",
       "      <th>1999</th>\n",
       "      <th>2000</th>\n",
       "      <th>2001</th>\n",
       "      <th>2002</th>\n",
       "      <th>2003</th>\n",
       "      <th>2004</th>\n",
       "      <th>2005</th>\n",
       "      <th>2006</th>\n",
       "      <th>...</th>\n",
       "      <th>2012</th>\n",
       "      <th>2013</th>\n",
       "      <th>2014</th>\n",
       "      <th>2015</th>\n",
       "      <th>2016</th>\n",
       "      <th>2017</th>\n",
       "      <th>2018</th>\n",
       "      <th>2019</th>\n",
       "      <th>2020</th>\n",
       "      <th>2021</th>\n",
       "    </tr>\n",
       "    <tr>\n",
       "      <th>GeoName</th>\n",
       "      <th></th>\n",
       "      <th></th>\n",
       "      <th></th>\n",
       "      <th></th>\n",
       "      <th></th>\n",
       "      <th></th>\n",
       "      <th></th>\n",
       "      <th></th>\n",
       "      <th></th>\n",
       "      <th></th>\n",
       "      <th></th>\n",
       "      <th></th>\n",
       "      <th></th>\n",
       "      <th></th>\n",
       "      <th></th>\n",
       "      <th></th>\n",
       "      <th></th>\n",
       "      <th></th>\n",
       "      <th></th>\n",
       "      <th></th>\n",
       "      <th></th>\n",
       "    </tr>\n",
       "  </thead>\n",
       "  <tbody>\n",
       "    <tr>\n",
       "      <th>Alabama</th>\n",
       "      <td>33082.27</td>\n",
       "      <td>33956.49</td>\n",
       "      <td>34965.07</td>\n",
       "      <td>35313.39</td>\n",
       "      <td>35108.78</td>\n",
       "      <td>35807.86</td>\n",
       "      <td>36668.15</td>\n",
       "      <td>38983.79</td>\n",
       "      <td>40345.16</td>\n",
       "      <td>40456.16</td>\n",
       "      <td>...</td>\n",
       "      <td>39106.28</td>\n",
       "      <td>39340.89</td>\n",
       "      <td>38857.04</td>\n",
       "      <td>38983.07</td>\n",
       "      <td>39403.72</td>\n",
       "      <td>39894.70</td>\n",
       "      <td>40350.68</td>\n",
       "      <td>40648.99</td>\n",
       "      <td>39186.83</td>\n",
       "      <td>40652.70</td>\n",
       "    </tr>\n",
       "    <tr>\n",
       "      <th>Alaska</th>\n",
       "      <td>68863.79</td>\n",
       "      <td>66290.98</td>\n",
       "      <td>64967.77</td>\n",
       "      <td>62753.06</td>\n",
       "      <td>64632.78</td>\n",
       "      <td>66910.36</td>\n",
       "      <td>65321.38</td>\n",
       "      <td>66822.29</td>\n",
       "      <td>68456.97</td>\n",
       "      <td>72841.78</td>\n",
       "      <td>...</td>\n",
       "      <td>79719.77</td>\n",
       "      <td>75000.03</td>\n",
       "      <td>73461.78</td>\n",
       "      <td>74061.43</td>\n",
       "      <td>72969.96</td>\n",
       "      <td>72955.82</td>\n",
       "      <td>72181.61</td>\n",
       "      <td>72584.15</td>\n",
       "      <td>68484.70</td>\n",
       "      <td>68653.14</td>\n",
       "    </tr>\n",
       "    <tr>\n",
       "      <th>Arizona</th>\n",
       "      <td>35551.86</td>\n",
       "      <td>37486.73</td>\n",
       "      <td>39551.53</td>\n",
       "      <td>40390.66</td>\n",
       "      <td>40422.32</td>\n",
       "      <td>40898.12</td>\n",
       "      <td>42477.39</td>\n",
       "      <td>43223.61</td>\n",
       "      <td>44925.94</td>\n",
       "      <td>45475.70</td>\n",
       "      <td>...</td>\n",
       "      <td>41712.83</td>\n",
       "      <td>41668.89</td>\n",
       "      <td>41720.51</td>\n",
       "      <td>42085.67</td>\n",
       "      <td>42824.57</td>\n",
       "      <td>43962.63</td>\n",
       "      <td>44995.87</td>\n",
       "      <td>45809.18</td>\n",
       "      <td>44657.46</td>\n",
       "      <td>46373.01</td>\n",
       "    </tr>\n",
       "    <tr>\n",
       "      <th>Arkansas</th>\n",
       "      <td>31744.88</td>\n",
       "      <td>32201.64</td>\n",
       "      <td>33604.79</td>\n",
       "      <td>33551.89</td>\n",
       "      <td>33359.33</td>\n",
       "      <td>34350.70</td>\n",
       "      <td>35578.37</td>\n",
       "      <td>36998.26</td>\n",
       "      <td>38107.26</td>\n",
       "      <td>38437.20</td>\n",
       "      <td>...</td>\n",
       "      <td>36790.86</td>\n",
       "      <td>37483.66</td>\n",
       "      <td>37732.96</td>\n",
       "      <td>37824.14</td>\n",
       "      <td>37844.07</td>\n",
       "      <td>38078.49</td>\n",
       "      <td>38681.05</td>\n",
       "      <td>38875.25</td>\n",
       "      <td>38158.91</td>\n",
       "      <td>39892.55</td>\n",
       "    </tr>\n",
       "    <tr>\n",
       "      <th>California</th>\n",
       "      <td>42426.77</td>\n",
       "      <td>44523.62</td>\n",
       "      <td>46995.32</td>\n",
       "      <td>49905.07</td>\n",
       "      <td>49082.10</td>\n",
       "      <td>49395.79</td>\n",
       "      <td>50775.55</td>\n",
       "      <td>52028.86</td>\n",
       "      <td>53780.43</td>\n",
       "      <td>55590.52</td>\n",
       "      <td>...</td>\n",
       "      <td>55651.20</td>\n",
       "      <td>56911.77</td>\n",
       "      <td>58392.12</td>\n",
       "      <td>60500.17</td>\n",
       "      <td>61899.44</td>\n",
       "      <td>64472.52</td>\n",
       "      <td>66865.20</td>\n",
       "      <td>69266.30</td>\n",
       "      <td>67435.03</td>\n",
       "      <td>73179.98</td>\n",
       "    </tr>\n",
       "  </tbody>\n",
       "</table>\n",
       "<p>5 rows × 25 columns</p>\n",
       "</div>"
      ],
      "text/plain": [
       "                1997      1998      1999      2000      2001      2002  \\\n",
       "GeoName                                                                  \n",
       "Alabama     33082.27  33956.49  34965.07  35313.39  35108.78  35807.86   \n",
       "Alaska      68863.79  66290.98  64967.77  62753.06  64632.78  66910.36   \n",
       "Arizona     35551.86  37486.73  39551.53  40390.66  40422.32  40898.12   \n",
       "Arkansas    31744.88  32201.64  33604.79  33551.89  33359.33  34350.70   \n",
       "California  42426.77  44523.62  46995.32  49905.07  49082.10  49395.79   \n",
       "\n",
       "                2003      2004      2005      2006  ...      2012      2013  \\\n",
       "GeoName                                             ...                       \n",
       "Alabama     36668.15  38983.79  40345.16  40456.16  ...  39106.28  39340.89   \n",
       "Alaska      65321.38  66822.29  68456.97  72841.78  ...  79719.77  75000.03   \n",
       "Arizona     42477.39  43223.61  44925.94  45475.70  ...  41712.83  41668.89   \n",
       "Arkansas    35578.37  36998.26  38107.26  38437.20  ...  36790.86  37483.66   \n",
       "California  50775.55  52028.86  53780.43  55590.52  ...  55651.20  56911.77   \n",
       "\n",
       "                2014      2015      2016      2017      2018      2019  \\\n",
       "GeoName                                                                  \n",
       "Alabama     38857.04  38983.07  39403.72  39894.70  40350.68  40648.99   \n",
       "Alaska      73461.78  74061.43  72969.96  72955.82  72181.61  72584.15   \n",
       "Arizona     41720.51  42085.67  42824.57  43962.63  44995.87  45809.18   \n",
       "Arkansas    37732.96  37824.14  37844.07  38078.49  38681.05  38875.25   \n",
       "California  58392.12  60500.17  61899.44  64472.52  66865.20  69266.30   \n",
       "\n",
       "                2020      2021  \n",
       "GeoName                         \n",
       "Alabama     39186.83  40652.70  \n",
       "Alaska      68484.70  68653.14  \n",
       "Arizona     44657.46  46373.01  \n",
       "Arkansas    38158.91  39892.55  \n",
       "California  67435.03  73179.98  \n",
       "\n",
       "[5 rows x 25 columns]"
      ]
     },
     "execution_count": 171,
     "metadata": {},
     "output_type": "execute_result"
    }
   ],
   "source": [
    "df_GDP = pd.read_csv(GDP_DATASET).sort_values('GeoName').set_index('GeoName')\n",
    "print(df_GDP.shape)\n",
    "df_GDP.head()"
   ]
  },
  {
   "cell_type": "markdown",
   "id": "7c6780ef-cd32-4b55-8a36-4790e816535d",
   "metadata": {},
   "source": [
    "## Load the income dataset"
   ]
  },
  {
   "cell_type": "code",
   "execution_count": 172,
   "id": "a084f8f3-c2e1-4541-8c96-e00abdbaebc7",
   "metadata": {},
   "outputs": [
    {
     "name": "stdout",
     "output_type": "stream",
     "text": [
      "(51, 42)\n"
     ]
    },
    {
     "data": {
      "text/html": [
       "<div>\n",
       "<style scoped>\n",
       "    .dataframe tbody tr th:only-of-type {\n",
       "        vertical-align: middle;\n",
       "    }\n",
       "\n",
       "    .dataframe tbody tr th {\n",
       "        vertical-align: top;\n",
       "    }\n",
       "\n",
       "    .dataframe thead th {\n",
       "        text-align: right;\n",
       "    }\n",
       "</style>\n",
       "<table border=\"1\" class=\"dataframe\">\n",
       "  <thead>\n",
       "    <tr style=\"text-align: right;\">\n",
       "      <th></th>\n",
       "      <th>1980</th>\n",
       "      <th>1981</th>\n",
       "      <th>1982</th>\n",
       "      <th>1983</th>\n",
       "      <th>1984</th>\n",
       "      <th>1985</th>\n",
       "      <th>1986</th>\n",
       "      <th>1987</th>\n",
       "      <th>1988</th>\n",
       "      <th>1989</th>\n",
       "      <th>...</th>\n",
       "      <th>2012</th>\n",
       "      <th>2013</th>\n",
       "      <th>2014</th>\n",
       "      <th>2015</th>\n",
       "      <th>2016</th>\n",
       "      <th>2017</th>\n",
       "      <th>2018</th>\n",
       "      <th>2019</th>\n",
       "      <th>2020</th>\n",
       "      <th>2021</th>\n",
       "    </tr>\n",
       "    <tr>\n",
       "      <th>GeoName</th>\n",
       "      <th></th>\n",
       "      <th></th>\n",
       "      <th></th>\n",
       "      <th></th>\n",
       "      <th></th>\n",
       "      <th></th>\n",
       "      <th></th>\n",
       "      <th></th>\n",
       "      <th></th>\n",
       "      <th></th>\n",
       "      <th></th>\n",
       "      <th></th>\n",
       "      <th></th>\n",
       "      <th></th>\n",
       "      <th></th>\n",
       "      <th></th>\n",
       "      <th></th>\n",
       "      <th></th>\n",
       "      <th></th>\n",
       "      <th></th>\n",
       "      <th></th>\n",
       "    </tr>\n",
       "  </thead>\n",
       "  <tbody>\n",
       "    <tr>\n",
       "      <th>Alabama</th>\n",
       "      <td>7957</td>\n",
       "      <td>8796</td>\n",
       "      <td>9272</td>\n",
       "      <td>9906</td>\n",
       "      <td>10848</td>\n",
       "      <td>11604</td>\n",
       "      <td>12223</td>\n",
       "      <td>12864</td>\n",
       "      <td>13807</td>\n",
       "      <td>14986</td>\n",
       "      <td>...</td>\n",
       "      <td>35824</td>\n",
       "      <td>36014</td>\n",
       "      <td>37055</td>\n",
       "      <td>38531</td>\n",
       "      <td>39014</td>\n",
       "      <td>40252</td>\n",
       "      <td>41607</td>\n",
       "      <td>43157</td>\n",
       "      <td>45524</td>\n",
       "      <td>48608</td>\n",
       "    </tr>\n",
       "    <tr>\n",
       "      <th>Alaska</th>\n",
       "      <td>15507</td>\n",
       "      <td>17091</td>\n",
       "      <td>19424</td>\n",
       "      <td>19478</td>\n",
       "      <td>19701</td>\n",
       "      <td>20593</td>\n",
       "      <td>20331</td>\n",
       "      <td>19688</td>\n",
       "      <td>20420</td>\n",
       "      <td>22133</td>\n",
       "      <td>...</td>\n",
       "      <td>53708</td>\n",
       "      <td>52812</td>\n",
       "      <td>55867</td>\n",
       "      <td>57575</td>\n",
       "      <td>56278</td>\n",
       "      <td>57278</td>\n",
       "      <td>59783</td>\n",
       "      <td>61639</td>\n",
       "      <td>63391</td>\n",
       "      <td>67138</td>\n",
       "    </tr>\n",
       "    <tr>\n",
       "      <th>Arizona</th>\n",
       "      <td>9671</td>\n",
       "      <td>10764</td>\n",
       "      <td>11141</td>\n",
       "      <td>11941</td>\n",
       "      <td>13060</td>\n",
       "      <td>14000</td>\n",
       "      <td>14733</td>\n",
       "      <td>15280</td>\n",
       "      <td>16044</td>\n",
       "      <td>16803</td>\n",
       "      <td>...</td>\n",
       "      <td>36545</td>\n",
       "      <td>37139</td>\n",
       "      <td>38756</td>\n",
       "      <td>40334</td>\n",
       "      <td>41473</td>\n",
       "      <td>43301</td>\n",
       "      <td>45299</td>\n",
       "      <td>47242</td>\n",
       "      <td>51332</td>\n",
       "      <td>54301</td>\n",
       "    </tr>\n",
       "    <tr>\n",
       "      <th>Arkansas</th>\n",
       "      <td>7597</td>\n",
       "      <td>8592</td>\n",
       "      <td>9024</td>\n",
       "      <td>9513</td>\n",
       "      <td>10543</td>\n",
       "      <td>11165</td>\n",
       "      <td>11708</td>\n",
       "      <td>12139</td>\n",
       "      <td>13022</td>\n",
       "      <td>13946</td>\n",
       "      <td>...</td>\n",
       "      <td>36582</td>\n",
       "      <td>36677</td>\n",
       "      <td>38749</td>\n",
       "      <td>39968</td>\n",
       "      <td>40873</td>\n",
       "      <td>42056</td>\n",
       "      <td>43661</td>\n",
       "      <td>45037</td>\n",
       "      <td>47522</td>\n",
       "      <td>51148</td>\n",
       "    </tr>\n",
       "    <tr>\n",
       "      <th>California</th>\n",
       "      <td>11945</td>\n",
       "      <td>13158</td>\n",
       "      <td>13793</td>\n",
       "      <td>14582</td>\n",
       "      <td>15895</td>\n",
       "      <td>16795</td>\n",
       "      <td>17588</td>\n",
       "      <td>18482</td>\n",
       "      <td>19605</td>\n",
       "      <td>20561</td>\n",
       "      <td>...</td>\n",
       "      <td>48121</td>\n",
       "      <td>48502</td>\n",
       "      <td>51266</td>\n",
       "      <td>54546</td>\n",
       "      <td>56560</td>\n",
       "      <td>58813</td>\n",
       "      <td>61509</td>\n",
       "      <td>64333</td>\n",
       "      <td>69958</td>\n",
       "      <td>76386</td>\n",
       "    </tr>\n",
       "  </tbody>\n",
       "</table>\n",
       "<p>5 rows × 42 columns</p>\n",
       "</div>"
      ],
      "text/plain": [
       "             1980   1981   1982   1983   1984   1985   1986   1987   1988  \\\n",
       "GeoName                                                                     \n",
       "Alabama      7957   8796   9272   9906  10848  11604  12223  12864  13807   \n",
       "Alaska      15507  17091  19424  19478  19701  20593  20331  19688  20420   \n",
       "Arizona      9671  10764  11141  11941  13060  14000  14733  15280  16044   \n",
       "Arkansas     7597   8592   9024   9513  10543  11165  11708  12139  13022   \n",
       "California  11945  13158  13793  14582  15895  16795  17588  18482  19605   \n",
       "\n",
       "             1989  ...   2012   2013   2014   2015   2016   2017   2018  \\\n",
       "GeoName            ...                                                    \n",
       "Alabama     14986  ...  35824  36014  37055  38531  39014  40252  41607   \n",
       "Alaska      22133  ...  53708  52812  55867  57575  56278  57278  59783   \n",
       "Arizona     16803  ...  36545  37139  38756  40334  41473  43301  45299   \n",
       "Arkansas    13946  ...  36582  36677  38749  39968  40873  42056  43661   \n",
       "California  20561  ...  48121  48502  51266  54546  56560  58813  61509   \n",
       "\n",
       "             2019   2020   2021  \n",
       "GeoName                          \n",
       "Alabama     43157  45524  48608  \n",
       "Alaska      61639  63391  67138  \n",
       "Arizona     47242  51332  54301  \n",
       "Arkansas    45037  47522  51148  \n",
       "California  64333  69958  76386  \n",
       "\n",
       "[5 rows x 42 columns]"
      ]
     },
     "execution_count": 172,
     "metadata": {},
     "output_type": "execute_result"
    }
   ],
   "source": [
    "df_Income = pd.read_csv(INCOME_DATASET).sort_values('GeoName').set_index(\"GeoName\")\n",
    "print(df_Income.shape)\n",
    "df_Income.head()"
   ]
  },
  {
   "cell_type": "markdown",
   "id": "4842d39a-c13c-4ebc-8fd0-f2dd0432b5f8",
   "metadata": {},
   "source": [
    "## Load the population dataset"
   ]
  },
  {
   "cell_type": "code",
   "execution_count": 173,
   "id": "8278f341-2862-4261-b23c-0b0aed81a6f6",
   "metadata": {},
   "outputs": [
    {
     "name": "stdout",
     "output_type": "stream",
     "text": [
      "(51, 72)\n"
     ]
    },
    {
     "data": {
      "text/html": [
       "<div>\n",
       "<style scoped>\n",
       "    .dataframe tbody tr th:only-of-type {\n",
       "        vertical-align: middle;\n",
       "    }\n",
       "\n",
       "    .dataframe tbody tr th {\n",
       "        vertical-align: top;\n",
       "    }\n",
       "\n",
       "    .dataframe thead th {\n",
       "        text-align: right;\n",
       "    }\n",
       "</style>\n",
       "<table border=\"1\" class=\"dataframe\">\n",
       "  <thead>\n",
       "    <tr style=\"text-align: right;\">\n",
       "      <th></th>\n",
       "      <th>1950</th>\n",
       "      <th>1951</th>\n",
       "      <th>1952</th>\n",
       "      <th>1953</th>\n",
       "      <th>1954</th>\n",
       "      <th>1955</th>\n",
       "      <th>1956</th>\n",
       "      <th>1957</th>\n",
       "      <th>1958</th>\n",
       "      <th>1959</th>\n",
       "      <th>...</th>\n",
       "      <th>2012</th>\n",
       "      <th>2013</th>\n",
       "      <th>2014</th>\n",
       "      <th>2015</th>\n",
       "      <th>2016</th>\n",
       "      <th>2017</th>\n",
       "      <th>2018</th>\n",
       "      <th>2019</th>\n",
       "      <th>2020</th>\n",
       "      <th>2021</th>\n",
       "    </tr>\n",
       "    <tr>\n",
       "      <th>GeoName</th>\n",
       "      <th></th>\n",
       "      <th></th>\n",
       "      <th></th>\n",
       "      <th></th>\n",
       "      <th></th>\n",
       "      <th></th>\n",
       "      <th></th>\n",
       "      <th></th>\n",
       "      <th></th>\n",
       "      <th></th>\n",
       "      <th></th>\n",
       "      <th></th>\n",
       "      <th></th>\n",
       "      <th></th>\n",
       "      <th></th>\n",
       "      <th></th>\n",
       "      <th></th>\n",
       "      <th></th>\n",
       "      <th></th>\n",
       "      <th></th>\n",
       "      <th></th>\n",
       "    </tr>\n",
       "  </thead>\n",
       "  <tbody>\n",
       "    <tr>\n",
       "      <th>Alabama</th>\n",
       "      <td>3058000</td>\n",
       "      <td>3059000</td>\n",
       "      <td>3068000</td>\n",
       "      <td>3053000</td>\n",
       "      <td>3014000</td>\n",
       "      <td>3050000</td>\n",
       "      <td>3071000</td>\n",
       "      <td>3109000</td>\n",
       "      <td>3163000</td>\n",
       "      <td>3204000</td>\n",
       "      <td>...</td>\n",
       "      <td>4839261</td>\n",
       "      <td>4864399</td>\n",
       "      <td>4886793</td>\n",
       "      <td>4908162</td>\n",
       "      <td>4930595</td>\n",
       "      <td>4952202</td>\n",
       "      <td>4976395</td>\n",
       "      <td>5003418</td>\n",
       "      <td>5024803</td>\n",
       "      <td>5039877</td>\n",
       "    </tr>\n",
       "    <tr>\n",
       "      <th>Alaska</th>\n",
       "      <td>135000</td>\n",
       "      <td>158000</td>\n",
       "      <td>189000</td>\n",
       "      <td>205000</td>\n",
       "      <td>215000</td>\n",
       "      <td>222000</td>\n",
       "      <td>224000</td>\n",
       "      <td>231000</td>\n",
       "      <td>224000</td>\n",
       "      <td>224000</td>\n",
       "      <td>...</td>\n",
       "      <td>731106</td>\n",
       "      <td>738057</td>\n",
       "      <td>737638</td>\n",
       "      <td>739127</td>\n",
       "      <td>743410</td>\n",
       "      <td>741949</td>\n",
       "      <td>737717</td>\n",
       "      <td>734823</td>\n",
       "      <td>732441</td>\n",
       "      <td>732673</td>\n",
       "    </tr>\n",
       "    <tr>\n",
       "      <th>Arizona</th>\n",
       "      <td>756000</td>\n",
       "      <td>785000</td>\n",
       "      <td>842000</td>\n",
       "      <td>894000</td>\n",
       "      <td>933000</td>\n",
       "      <td>987000</td>\n",
       "      <td>1053000</td>\n",
       "      <td>1125000</td>\n",
       "      <td>1193000</td>\n",
       "      <td>1261000</td>\n",
       "      <td>...</td>\n",
       "      <td>6507351</td>\n",
       "      <td>6563216</td>\n",
       "      <td>6638196</td>\n",
       "      <td>6714328</td>\n",
       "      <td>6801591</td>\n",
       "      <td>6879830</td>\n",
       "      <td>6969944</td>\n",
       "      <td>7070511</td>\n",
       "      <td>7177986</td>\n",
       "      <td>7276316</td>\n",
       "    </tr>\n",
       "    <tr>\n",
       "      <th>Arkansas</th>\n",
       "      <td>1908000</td>\n",
       "      <td>1901000</td>\n",
       "      <td>1838000</td>\n",
       "      <td>1780000</td>\n",
       "      <td>1734000</td>\n",
       "      <td>1725000</td>\n",
       "      <td>1704000</td>\n",
       "      <td>1733000</td>\n",
       "      <td>1726000</td>\n",
       "      <td>1756000</td>\n",
       "      <td>...</td>\n",
       "      <td>2948887</td>\n",
       "      <td>2954685</td>\n",
       "      <td>2961191</td>\n",
       "      <td>2970352</td>\n",
       "      <td>2980602</td>\n",
       "      <td>2990801</td>\n",
       "      <td>2997271</td>\n",
       "      <td>3004248</td>\n",
       "      <td>3012232</td>\n",
       "      <td>3025891</td>\n",
       "    </tr>\n",
       "    <tr>\n",
       "      <th>California</th>\n",
       "      <td>10677000</td>\n",
       "      <td>11134000</td>\n",
       "      <td>11635000</td>\n",
       "      <td>12251000</td>\n",
       "      <td>12746000</td>\n",
       "      <td>13133000</td>\n",
       "      <td>13713000</td>\n",
       "      <td>14264000</td>\n",
       "      <td>14880000</td>\n",
       "      <td>15467000</td>\n",
       "      <td>...</td>\n",
       "      <td>37970368</td>\n",
       "      <td>38291358</td>\n",
       "      <td>38636290</td>\n",
       "      <td>38966055</td>\n",
       "      <td>39223210</td>\n",
       "      <td>39424071</td>\n",
       "      <td>39535906</td>\n",
       "      <td>39547996</td>\n",
       "      <td>39499738</td>\n",
       "      <td>39237836</td>\n",
       "    </tr>\n",
       "  </tbody>\n",
       "</table>\n",
       "<p>5 rows × 72 columns</p>\n",
       "</div>"
      ],
      "text/plain": [
       "                1950      1951      1952      1953      1954      1955  \\\n",
       "GeoName                                                                  \n",
       "Alabama      3058000   3059000   3068000   3053000   3014000   3050000   \n",
       "Alaska        135000    158000    189000    205000    215000    222000   \n",
       "Arizona       756000    785000    842000    894000    933000    987000   \n",
       "Arkansas     1908000   1901000   1838000   1780000   1734000   1725000   \n",
       "California  10677000  11134000  11635000  12251000  12746000  13133000   \n",
       "\n",
       "                1956      1957      1958      1959  ...      2012      2013  \\\n",
       "GeoName                                             ...                       \n",
       "Alabama      3071000   3109000   3163000   3204000  ...   4839261   4864399   \n",
       "Alaska        224000    231000    224000    224000  ...    731106    738057   \n",
       "Arizona      1053000   1125000   1193000   1261000  ...   6507351   6563216   \n",
       "Arkansas     1704000   1733000   1726000   1756000  ...   2948887   2954685   \n",
       "California  13713000  14264000  14880000  15467000  ...  37970368  38291358   \n",
       "\n",
       "                2014      2015      2016      2017      2018      2019  \\\n",
       "GeoName                                                                  \n",
       "Alabama      4886793   4908162   4930595   4952202   4976395   5003418   \n",
       "Alaska        737638    739127    743410    741949    737717    734823   \n",
       "Arizona      6638196   6714328   6801591   6879830   6969944   7070511   \n",
       "Arkansas     2961191   2970352   2980602   2990801   2997271   3004248   \n",
       "California  38636290  38966055  39223210  39424071  39535906  39547996   \n",
       "\n",
       "                2020      2021  \n",
       "GeoName                         \n",
       "Alabama      5024803   5039877  \n",
       "Alaska        732441    732673  \n",
       "Arizona      7177986   7276316  \n",
       "Arkansas     3012232   3025891  \n",
       "California  39499738  39237836  \n",
       "\n",
       "[5 rows x 72 columns]"
      ]
     },
     "execution_count": 173,
     "metadata": {},
     "output_type": "execute_result"
    }
   ],
   "source": [
    "df_Population = pd.read_csv(POPULATION_DATASET).sort_values('GeoName').set_index(\"GeoName\")\n",
    "print(df_Population.shape)\n",
    "df_Population.head()"
   ]
  },
  {
   "cell_type": "markdown",
   "id": "fcdb277b-047a-4e49-9f08-dfd50851b8ae",
   "metadata": {},
   "source": [
    "## Merge into one dataframe"
   ]
  },
  {
   "cell_type": "code",
   "execution_count": 174,
   "id": "a39035b6-ed0e-4528-a81b-1ec079e9bf4c",
   "metadata": {},
   "outputs": [
    {
     "name": "stdout",
     "output_type": "stream",
     "text": [
      "(51, 4)\n"
     ]
    },
    {
     "data": {
      "text/html": [
       "<div>\n",
       "<style scoped>\n",
       "    .dataframe tbody tr th:only-of-type {\n",
       "        vertical-align: middle;\n",
       "    }\n",
       "\n",
       "    .dataframe tbody tr th {\n",
       "        vertical-align: top;\n",
       "    }\n",
       "\n",
       "    .dataframe thead th {\n",
       "        text-align: right;\n",
       "    }\n",
       "</style>\n",
       "<table border=\"1\" class=\"dataframe\">\n",
       "  <thead>\n",
       "    <tr style=\"text-align: right;\">\n",
       "      <th></th>\n",
       "      <th>income</th>\n",
       "      <th>GDP</th>\n",
       "      <th>EV_sale</th>\n",
       "      <th>Population</th>\n",
       "    </tr>\n",
       "  </thead>\n",
       "  <tbody>\n",
       "    <tr>\n",
       "      <th>Alabama</th>\n",
       "      <td>43157</td>\n",
       "      <td>40648.99</td>\n",
       "      <td>0.000201</td>\n",
       "      <td>5003418</td>\n",
       "    </tr>\n",
       "    <tr>\n",
       "      <th>Alaska</th>\n",
       "      <td>61639</td>\n",
       "      <td>72584.15</td>\n",
       "      <td>0.000195</td>\n",
       "      <td>734823</td>\n",
       "    </tr>\n",
       "    <tr>\n",
       "      <th>Arizona</th>\n",
       "      <td>47242</td>\n",
       "      <td>45809.18</td>\n",
       "      <td>0.001074</td>\n",
       "      <td>7070511</td>\n",
       "    </tr>\n",
       "    <tr>\n",
       "      <th>Arkansas</th>\n",
       "      <td>45037</td>\n",
       "      <td>38875.25</td>\n",
       "      <td>0.000179</td>\n",
       "      <td>3004248</td>\n",
       "    </tr>\n",
       "    <tr>\n",
       "      <th>California</th>\n",
       "      <td>64333</td>\n",
       "      <td>69266.30</td>\n",
       "      <td>0.003667</td>\n",
       "      <td>39547996</td>\n",
       "    </tr>\n",
       "  </tbody>\n",
       "</table>\n",
       "</div>"
      ],
      "text/plain": [
       "            income       GDP   EV_sale  Population\n",
       "Alabama      43157  40648.99  0.000201     5003418\n",
       "Alaska       61639  72584.15  0.000195      734823\n",
       "Arizona      47242  45809.18  0.001074     7070511\n",
       "Arkansas     45037  38875.25  0.000179     3004248\n",
       "California   64333  69266.30  0.003667    39547996"
      ]
     },
     "execution_count": 174,
     "metadata": {},
     "output_type": "execute_result"
    }
   ],
   "source": [
    "df_economic = pd.concat([df_Income['2019'].rename('income'), \\\n",
    "                               df_GDP['2019'].rename('GDP'),\\\n",
    "                               df_EV['2019'].rename('EV_sale'),\n",
    "                        df_Population['2019'].rename('Population')],\\\n",
    "                              axis = 1)\n",
    "df_economic = df_economic.dropna()\n",
    "print(df_economic.shape)\n",
    "df_economic.head()"
   ]
  },
  {
   "cell_type": "markdown",
   "id": "bb665bbb-b241-48c6-83aa-ffb8fcdee0c1",
   "metadata": {},
   "source": [
    "# Analyze Economic, GDP vs Income"
   ]
  },
  {
   "cell_type": "markdown",
   "id": "bdfcf874-f206-42af-be1d-5e6710e6ce44",
   "metadata": {},
   "source": [
    "We will use a scatter plot to represent their relationship from the prominent cities analysed. The cities with the highest gdp, income and the lowest gdp and income respectively"
   ]
  },
  {
   "cell_type": "code",
   "execution_count": 175,
   "id": "01ab0c1c-d618-4a2d-81b9-2d948dac1ceb",
   "metadata": {},
   "outputs": [
    {
     "data": {
      "text/plain": [
       "('District of Columbia',\n",
       " 'District of Columbia',\n",
       " 'Mississippi',\n",
       " 'Mississippi',\n",
       " 'California')"
      ]
     },
     "execution_count": 175,
     "metadata": {},
     "output_type": "execute_result"
    }
   ],
   "source": [
    "highest_income = df_economic.sort_values(by='income',ascending=False).index[0]\n",
    "highest_gdp = df_economic.sort_values(by='GDP',ascending=False).index[0]\n",
    "highest_sale = df_economic.sort_values(by='EV_sale',ascending=False).index[0]\n",
    "lowest_income = df_economic.sort_values(by='income',ascending=True).index[0]\n",
    "lowest_gdp = df_economic.sort_values(by='GDP',ascending=True).index[0]\n",
    "highest_income, highest_gdp, lowest_income, lowest_gdp,highest_sale"
   ]
  },
  {
   "cell_type": "code",
   "execution_count": 176,
   "id": "03fdec79-b5d8-400a-adeb-2335c2014f8b",
   "metadata": {},
   "outputs": [
    {
     "data": {
      "image/png": "[encoded data removed]",
      "text/plain": [
       "<Figure size 720x360 with 1 Axes>"
      ]
     },
     "metadata": {
      "needs_background": "light"
     },
     "output_type": "display_data"
    }
   ],
   "source": [
    "fig, ax = plt.subplots(figsize=(10, 5))\n",
    "ax.ticklabel_format(style='plain')\n",
    "plt.scatter(df_economic['GDP'],df_economic['income'])\n",
    "plt.title(\"income_gdp vs EV sales\")\n",
    "plt.xlabel(\"GDP\")\n",
    "plt.ylabel(\"income\")\n",
    "plt.show()"
   ]
  },
  {
   "cell_type": "markdown",
   "id": "552b0b31-ce75-4edf-a1be-c8e5f28eb333",
   "metadata": {},
   "source": [
    "#### We can see that GDP and income are proportional, but there is a lack of indication of EV sales. Each point represents a state, so we use EV sales to assign a size to the points"
   ]
  },
  {
   "cell_type": "code",
   "execution_count": 177,
   "id": "10859347-3143-43cc-9979-4799f31ce1f0",
   "metadata": {},
   "outputs": [
    {
     "data": {
      "image/png": "[encoded data removed]",
      "text/plain": [
       "<Figure size 1296x576 with 2 Axes>"
      ]
     },
     "metadata": {
      "needs_background": "light"
     },
     "output_type": "display_data"
    }
   ],
   "source": [
    "def draw(df_economic, ax, size_scale=1200000, *args, **kwargs):\n",
    "    df_economic.plot.scatter(x='GDP',y='income',s=(df_economic['EV_sale'])*size_scale, ax=ax,*args, **kwargs)\n",
    "fig, ax = plt.subplots(figsize=(18,8))\n",
    "ax.ticklabel_format(style='plain')\n",
    "draw(df_economic, ax, c='EV_sale', colormap='RdBu', colorbar=True)\n",
    "## hightlight states\n",
    "plt.annotate(highest_income, xy = (df_economic.loc[highest_income][['GDP', 'income']]), xytext = df_economic.loc[highest_income][['GDP', 'income']] +(-40000, 0.2), fontsize=18, \n",
    "            arrowprops=dict(arrowstyle='->')\n",
    "            )\n",
    "plt.annotate(highest_gdp, xy = (df_economic.loc[highest_gdp][['GDP', 'income']]), xytext = df_economic.loc[highest_gdp][['GDP', 'income']] +(-40000, 0.2), fontsize=18, \n",
    "            arrowprops=dict(arrowstyle='->')\n",
    "            )\n",
    "plt.annotate(lowest_income, xy = (df_economic.loc[lowest_income][['GDP', 'income']]), xytext = df_economic.loc[lowest_income][['GDP', 'income']] +(-0, +12000), fontsize=18, \n",
    "            arrowprops=dict(arrowstyle='->')\n",
    "            )\n",
    "plt.annotate(lowest_income, xy = (df_economic.loc[lowest_income][['GDP', 'income']]), xytext = df_economic.loc[lowest_income][['GDP', 'income']] +(-0, +12000), fontsize=18, \n",
    "            arrowprops=dict(arrowstyle='->')\n",
    "            )\n",
    "\n",
    "plt.title(\"Income & GDP vs EV_Sales_per_capita\")\n",
    "ax.set_xlabel('GDP')\n",
    "ax.set_ylabel('income')\n",
    "fig.tight_layout()"
   ]
  },
  {
   "cell_type": "markdown",
   "id": "4f8597d0-5ab5-4915-a340-458d23d4d354",
   "metadata": {},
   "source": [
    "#### The highest as well as the lowest revenues and gdp correspond to the highest and lowest sales respectively. This is similar to our forecast. But the data for California is too large for us to see a significant change. So we removed California"
   ]
  },
  {
   "cell_type": "code",
   "execution_count": 178,
   "id": "add285e7-549b-4cc7-837f-d6e6a6014879",
   "metadata": {},
   "outputs": [],
   "source": [
    "new = df_economic.drop(\"California\")\n",
    "new = new.drop(\"District of Columbia\")"
   ]
  },
  {
   "cell_type": "code",
   "execution_count": 179,
   "id": "ec71b8ed-c809-41ba-bfb2-2b64f98824f4",
   "metadata": {},
   "outputs": [
    {
     "data": {
      "text/plain": [
       "('Connecticut', 'New York', 'Mississippi', 'Mississippi', 'Hawaii')"
      ]
     },
     "execution_count": 179,
     "metadata": {},
     "output_type": "execute_result"
    }
   ],
   "source": [
    "highest_income = new.sort_values(by='income',ascending=False).index[0]\n",
    "highest_gdp = new.sort_values(by='GDP',ascending=False).index[0]\n",
    "highest_sale = new.sort_values(by='EV_sale',ascending=False).index[0]\n",
    "lowest_income = new.sort_values(by='income',ascending=True).index[0]\n",
    "lowest_gdp = new.sort_values(by='GDP',ascending=True).index[0]\n",
    "highest_income, highest_gdp, lowest_income, lowest_gdp, highest_sale"
   ]
  },
  {
   "cell_type": "code",
   "execution_count": 180,
   "id": "ed2209f3-c374-49ea-a32f-c2334a7fc3ce",
   "metadata": {},
   "outputs": [
    {
     "data": {
      "image/png": "[encoded data removed]",
      "text/plain": [
       "<Figure size 1296x576 with 2 Axes>"
      ]
     },
     "metadata": {
      "needs_background": "light"
     },
     "output_type": "display_data"
    }
   ],
   "source": [
    "fig, ax = plt.subplots(figsize=(18,8))\n",
    "ax.ticklabel_format(style='plain')\n",
    "draw(new, ax, c='EV_sale', colormap='RdBu', colorbar=True)\n",
    "\n",
    "\n",
    "plt.annotate(highest_income, xy = (new.loc[highest_income][['GDP', 'income']]), xytext = new.loc[highest_income][['GDP', 'income']] +(-8000, 0.2), fontsize=18, \n",
    "            arrowprops=dict(arrowstyle='->')\n",
    "            )\n",
    "plt.annotate(highest_gdp, xy = (new.loc[highest_gdp][['GDP', 'income']]), xytext = new.loc[highest_gdp][['GDP', 'income']] +(-6000, 0.2), fontsize=18, \n",
    "            arrowprops=dict(arrowstyle='->')\n",
    "            )\n",
    "plt.annotate(lowest_income, xy = (new.loc[lowest_income][['GDP', 'income']]), xytext = new.loc[lowest_income][['GDP', 'income']] +(-250, +5000), fontsize=18, \n",
    "            arrowprops=dict(arrowstyle='->')\n",
    "            )\n",
    "plt.annotate(lowest_income, xy = (new.loc[lowest_income][['GDP', 'income']]), xytext = new.loc[lowest_income][['GDP', 'income']] +(-250, +5000), fontsize=18, \n",
    "            arrowprops=dict(arrowstyle='->')\n",
    "            )\n",
    "\n",
    "\n",
    "plt.title(\"income_gdp vs EV sales\")\n",
    "ax.set_xlabel('GDP')\n",
    "ax.set_ylabel('income')\n",
    "fig.tight_layout()\n",
    "\n",
    "# Save as png image\n",
    "fig.savefig('./Images/Income_GDP_vs_EVsales.png', format='png')"
   ]
  },
  {
   "cell_type": "markdown",
   "id": "81d80546-4ccb-429e-9896-a54d0b7468dc",
   "metadata": {},
   "source": [
    "#### The change in the data is now becoming more apparent: a proportional trend. But the highest GDP corresponds not to the highest sales, the highest income corresponds to the highest sales. So which factor has the greatest influence on the factor of sales, GDP?"
   ]
  },
  {
   "cell_type": "markdown",
   "id": "1ab8da7f-1a1b-414a-83fa-b6d4ed4aae78",
   "metadata": {},
   "source": [
    "We will model each of these two factors to derive R^2. The correlation will be derived from the magnitude of R^2"
   ]
  },
  {
   "cell_type": "code",
   "execution_count": 181,
   "id": "593ddcf3-8c8a-4749-9936-1b0dbf556ac6",
   "metadata": {},
   "outputs": [],
   "source": [
    "## df_EV.head(), df_gdp.head(), df_income.head()"
   ]
  },
  {
   "cell_type": "code",
   "execution_count": 182,
   "id": "4620ce61-b2e8-4511-8b95-d409291da0d8",
   "metadata": {},
   "outputs": [
    {
     "data": {
      "text/html": [
       "<div>\n",
       "<style scoped>\n",
       "    .dataframe tbody tr th:only-of-type {\n",
       "        vertical-align: middle;\n",
       "    }\n",
       "\n",
       "    .dataframe tbody tr th {\n",
       "        vertical-align: top;\n",
       "    }\n",
       "\n",
       "    .dataframe thead th {\n",
       "        text-align: right;\n",
       "    }\n",
       "</style>\n",
       "<table border=\"1\" class=\"dataframe\">\n",
       "  <thead>\n",
       "    <tr style=\"text-align: right;\">\n",
       "      <th></th>\n",
       "      <th>income</th>\n",
       "      <th>GDP</th>\n",
       "      <th>EV_sale</th>\n",
       "      <th>Population</th>\n",
       "    </tr>\n",
       "  </thead>\n",
       "  <tbody>\n",
       "    <tr>\n",
       "      <th>Alabama</th>\n",
       "      <td>43157</td>\n",
       "      <td>40648.99</td>\n",
       "      <td>0.000201</td>\n",
       "      <td>5003418</td>\n",
       "    </tr>\n",
       "    <tr>\n",
       "      <th>Alaska</th>\n",
       "      <td>61639</td>\n",
       "      <td>72584.15</td>\n",
       "      <td>0.000195</td>\n",
       "      <td>734823</td>\n",
       "    </tr>\n",
       "    <tr>\n",
       "      <th>Arizona</th>\n",
       "      <td>47242</td>\n",
       "      <td>45809.18</td>\n",
       "      <td>0.001074</td>\n",
       "      <td>7070511</td>\n",
       "    </tr>\n",
       "    <tr>\n",
       "      <th>Arkansas</th>\n",
       "      <td>45037</td>\n",
       "      <td>38875.25</td>\n",
       "      <td>0.000179</td>\n",
       "      <td>3004248</td>\n",
       "    </tr>\n",
       "    <tr>\n",
       "      <th>California</th>\n",
       "      <td>64333</td>\n",
       "      <td>69266.30</td>\n",
       "      <td>0.003667</td>\n",
       "      <td>39547996</td>\n",
       "    </tr>\n",
       "  </tbody>\n",
       "</table>\n",
       "</div>"
      ],
      "text/plain": [
       "            income       GDP   EV_sale  Population\n",
       "Alabama      43157  40648.99  0.000201     5003418\n",
       "Alaska       61639  72584.15  0.000195      734823\n",
       "Arizona      47242  45809.18  0.001074     7070511\n",
       "Arkansas     45037  38875.25  0.000179     3004248\n",
       "California   64333  69266.30  0.003667    39547996"
      ]
     },
     "execution_count": 182,
     "metadata": {},
     "output_type": "execute_result"
    }
   ],
   "source": [
    "df_economic.head()"
   ]
  },
  {
   "cell_type": "markdown",
   "id": "fd914f2a-7bf1-474c-9140-9357aa516256",
   "metadata": {},
   "source": [
    "# GDP"
   ]
  },
  {
   "cell_type": "code",
   "execution_count": 185,
   "id": "944c268d-c2e4-4075-a2e6-73533fe2397a",
   "metadata": {},
   "outputs": [
    {
     "data": {
      "application/vnd.plotly.v1+json": {
       "config": {
        "plotlyServerURL": "https://plot.ly"
       },
       "data": [
        {
         "hovertemplate": "GDP=%{x}<br>EV_sale=%{y}<extra></extra>",
         "legendgroup": "",
         "marker": {
          "color": "#636efa",
          "symbol": "circle"
         },
         "mode": "markers",
         "name": "",
         "orientation": "v",
         "showlegend": false,
         "type": "scatter",
         "x": [
          40648.99,
          72584.15,
          45809.18,
          38875.25,
          62199.74,
          69721.1,
          65487.21,
          45499.47,
          52455.14,
          54340.12,
          40879.65,
          60517.1,
          50038.9,
          54307.53,
          54599.9,
          42541.02,
          50583.06,
          43782.3,
          59968.56,
          73785.85,
          46367.26,
          59811.21,
          34195.27,
          47342.14,
          43505.02,
          60506.86,
          51101.89,
          56221.45,
          60682.01,
          44960.06,
          73915.16,
          49623.68,
          72435.08,
          51842.33,
          50892.82,
          52053.95,
          55126.53,
          48628.44,
          41847.56,
          52850.57,
          47958.83,
          61866.14,
          52938.61,
          46589.33,
          56674.7,
          70166.56,
          40291.99,
          51680.48,
          67140.01
         ],
         "xaxis": "x",
         "y": [
          0.0002012624170117,
          0.0001946046871151,
          0.001073614057032,
          0.0001790797563982,
          0.001570276087556,
          0.0009176196558011,
          0.0008376668837263,
          0.0007396092602226,
          0.0004827610247424,
          0.0021392774636693,
          0.0002975599530762,
          0.0005937673879293,
          0.0003263951804135,
          0.0002365075281948,
          0.0002887092854291,
          0.0001787405063558,
          0.0001543554609032,
          0.0007285520966314,
          0.0011042197874368,
          0.0011199127556894,
          0.0001815793954418,
          0.0006400863202123,
          9.195074000136747e-05,
          0.0003341794437808,
          0.0002956868768956,
          0.0002639484748023,
          0.001051502096976,
          0.0007508197055912,
          0.0010188140930513,
          0.0003729599752813,
          0.0007330017690844,
          0.0005200302780469,
          0.0001468095956812,
          0.0005007402523822,
          0.000196257615759,
          0.0016752941667599,
          0.0004890909773875,
          0.0006231019146222,
          0.000262922441031,
          0.0002107632007451,
          0.0003092222550258,
          0.0002002927878586,
          0.0009369873675295,
          0.0015658156731137,
          0.0008158338295139,
          0.0015934671512349,
          0.0001388557178007,
          0.0003336625175398,
          0.0002502863519199
         ],
         "yaxis": "y"
        },
        {
         "hovertemplate": "<b>OLS trendline</b><br>EV_sale = 1.40017e-08 * GDP + -0.000141345<br>R<sup>2</sup>=0.083560<br><br>GDP=%{x}<br>EV_sale=%{y} <b>(trend)</b><extra></extra>",
         "legendgroup": "",
         "marker": {
          "color": "#636efa",
          "symbol": "circle"
         },
         "mode": "lines",
         "name": "",
         "showlegend": false,
         "type": "scatter",
         "x": [
          34195.27,
          38875.25,
          40291.99,
          40648.99,
          40879.65,
          41847.56,
          42541.02,
          43505.02,
          43782.3,
          44960.06,
          45499.47,
          45809.18,
          46367.26,
          46589.33,
          47342.14,
          47958.83,
          48628.44,
          49623.68,
          50038.9,
          50583.06,
          50892.82,
          51101.89,
          51680.48,
          51842.33,
          52053.95,
          52455.14,
          52850.57,
          52938.61,
          54307.53,
          54340.12,
          54599.9,
          55126.53,
          56221.45,
          56674.7,
          59811.21,
          59968.56,
          60506.86,
          60517.1,
          60682.01,
          61866.14,
          62199.74,
          65487.21,
          67140.01,
          69721.1,
          70166.56,
          72435.08,
          72584.15,
          73785.85,
          73915.16
         ],
         "xaxis": "x",
         "y": [
          0.0003374486726578995,
          0.0004029765618063256,
          0.0004228133947996591,
          0.0004278120179617214,
          0.0004310416605907446,
          0.00044459409012797613,
          0.00045430374059846263,
          0.0004678014233105859,
          0.0004716838273172432,
          0.0004881745231585608,
          0.0004957272047267626,
          0.0005000636853416709,
          0.0005078777794993284,
          0.00051098714713406,
          0.0005215278012030574,
          0.0005301625376675172,
          0.0005395382465065887,
          0.0005534733437497563,
          0.0005592871485378557,
          0.0005669063383974293,
          0.0005712435190996153,
          0.000574170864042171,
          0.0005822721340010998,
          0.0005845383165186902,
          0.0005875013659124034,
          0.0005931187262104083,
          0.0005986554364540337,
          0.0005998881501324314,
          0.0006190554196534685,
          0.0006195117365410081,
          0.0006231491100005054,
          0.0006305228492605525,
          0.0006458536405003429,
          0.0006521999316717848,
          0.0006961165466130729,
          0.0006983197212756792,
          0.0007058568609063183,
          0.0007060002387807707,
          0.0007083092666397503,
          0.0007248891536002341,
          0.0007295601359163797,
          0.0007755904543661971,
          0.0007987325394145345,
          0.0008348723048413337,
          0.0008411095224149254,
          0.0008728727622345372,
          0.0008749600024439731,
          0.0008917859000738058,
          0.0008935964657911342
         ],
         "yaxis": "y"
        }
       ],
       "layout": {
        "height": 800,
        "legend": {
         "tracegroupgap": 0
        },
        "margin": {
         "t": 60
        },
        "template": {
         "data": {
          "bar": [
           {
            "error_x": {
             "color": "#2a3f5f"
            },
            "error_y": {
             "color": "#2a3f5f"
            },
            "marker": {
             "line": {
              "color": "#E5ECF6",
              "width": 0.5
             },
             "pattern": {
              "fillmode": "overlay",
              "size": 10,
              "solidity": 0.2
             }
            },
            "type": "bar"
           }
          ],
          "barpolar": [
           {
            "marker": {
             "line": {
              "color": "#E5ECF6",
              "width": 0.5
             },
             "pattern": {
              "fillmode": "overlay",
              "size": 10,
              "solidity": 0.2
             }
            },
            "type": "barpolar"
           }
          ],
          "carpet": [
           {
            "aaxis": {
             "endlinecolor": "#2a3f5f",
             "gridcolor": "white",
             "linecolor": "white",
             "minorgridcolor": "white",
             "startlinecolor": "#2a3f5f"
            },
            "baxis": {
             "endlinecolor": "#2a3f5f",
             "gridcolor": "white",
             "linecolor": "white",
             "minorgridcolor": "white",
             "startlinecolor": "#2a3f5f"
            },
            "type": "carpet"
           }
          ],
          "choropleth": [
           {
            "colorbar": {
             "outlinewidth": 0,
             "ticks": ""
            },
            "type": "choropleth"
           }
          ],
          "contour": [
           {
            "colorbar": {
             "outlinewidth": 0,
             "ticks": ""
            },
            "colorscale": [
             [
              0,
              "#0d0887"
             ],
             [
              0.1111111111111111,
              "#46039f"
             ],
             [
              0.2222222222222222,
              "#7201a8"
             ],
             [
              0.3333333333333333,
              "#9c179e"
             ],
             [
              0.4444444444444444,
              "#bd3786"
             ],
             [
              0.5555555555555556,
              "#d8576b"
             ],
             [
              0.6666666666666666,
              "#ed7953"
             ],
             [
              0.7777777777777778,
              "#fb9f3a"
             ],
             [
              0.8888888888888888,
              "#fdca26"
             ],
             [
              1,
              "#f0f921"
             ]
            ],
            "type": "contour"
           }
          ],
          "contourcarpet": [
           {
            "colorbar": {
             "outlinewidth": 0,
             "ticks": ""
            },
            "type": "contourcarpet"
           }
          ],
          "heatmap": [
           {
            "colorbar": {
             "outlinewidth": 0,
             "ticks": ""
            },
            "colorscale": [
             [
              0,
              "#0d0887"
             ],
             [
              0.1111111111111111,
              "#46039f"
             ],
             [
              0.2222222222222222,
              "#7201a8"
             ],
             [
              0.3333333333333333,
              "#9c179e"
             ],
             [
              0.4444444444444444,
              "#bd3786"
             ],
             [
              0.5555555555555556,
              "#d8576b"
             ],
             [
              0.6666666666666666,
              "#ed7953"
             ],
             [
              0.7777777777777778,
              "#fb9f3a"
             ],
             [
              0.8888888888888888,
              "#fdca26"
             ],
             [
              1,
              "#f0f921"
             ]
            ],
            "type": "heatmap"
           }
          ],
          "heatmapgl": [
           {
            "colorbar": {
             "outlinewidth": 0,
             "ticks": ""
            },
            "colorscale": [
             [
              0,
              "#0d0887"
             ],
             [
              0.1111111111111111,
              "#46039f"
             ],
             [
              0.2222222222222222,
              "#7201a8"
             ],
             [
              0.3333333333333333,
              "#9c179e"
             ],
             [
              0.4444444444444444,
              "#bd3786"
             ],
             [
              0.5555555555555556,
              "#d8576b"
             ],
             [
              0.6666666666666666,
              "#ed7953"
             ],
             [
              0.7777777777777778,
              "#fb9f3a"
             ],
             [
              0.8888888888888888,
              "#fdca26"
             ],
             [
              1,
              "#f0f921"
             ]
            ],
            "type": "heatmapgl"
           }
          ],
          "histogram": [
           {
            "marker": {
             "pattern": {
              "fillmode": "overlay",
              "size": 10,
              "solidity": 0.2
             }
            },
            "type": "histogram"
           }
          ],
          "histogram2d": [
           {
            "colorbar": {
             "outlinewidth": 0,
             "ticks": ""
            },
            "colorscale": [
             [
              0,
              "#0d0887"
             ],
             [
              0.1111111111111111,
              "#46039f"
             ],
             [
              0.2222222222222222,
              "#7201a8"
             ],
             [
              0.3333333333333333,
              "#9c179e"
             ],
             [
              0.4444444444444444,
              "#bd3786"
             ],
             [
              0.5555555555555556,
              "#d8576b"
             ],
             [
              0.6666666666666666,
              "#ed7953"
             ],
             [
              0.7777777777777778,
              "#fb9f3a"
             ],
             [
              0.8888888888888888,
              "#fdca26"
             ],
             [
              1,
              "#f0f921"
             ]
            ],
            "type": "histogram2d"
           }
          ],
          "histogram2dcontour": [
           {
            "colorbar": {
             "outlinewidth": 0,
             "ticks": ""
            },
            "colorscale": [
             [
              0,
              "#0d0887"
             ],
             [
              0.1111111111111111,
              "#46039f"
             ],
             [
              0.2222222222222222,
              "#7201a8"
             ],
             [
              0.3333333333333333,
              "#9c179e"
             ],
             [
              0.4444444444444444,
              "#bd3786"
             ],
             [
              0.5555555555555556,
              "#d8576b"
             ],
             [
              0.6666666666666666,
              "#ed7953"
             ],
             [
              0.7777777777777778,
              "#fb9f3a"
             ],
             [
              0.8888888888888888,
              "#fdca26"
             ],
             [
              1,
              "#f0f921"
             ]
            ],
            "type": "histogram2dcontour"
           }
          ],
          "mesh3d": [
           {
            "colorbar": {
             "outlinewidth": 0,
             "ticks": ""
            },
            "type": "mesh3d"
           }
          ],
          "parcoords": [
           {
            "line": {
             "colorbar": {
              "outlinewidth": 0,
              "ticks": ""
             }
            },
            "type": "parcoords"
           }
          ],
          "pie": [
           {
            "automargin": true,
            "type": "pie"
           }
          ],
          "scatter": [
           {
            "marker": {
             "colorbar": {
              "outlinewidth": 0,
              "ticks": ""
             }
            },
            "type": "scatter"
           }
          ],
          "scatter3d": [
           {
            "line": {
             "colorbar": {
              "outlinewidth": 0,
              "ticks": ""
             }
            },
            "marker": {
             "colorbar": {
              "outlinewidth": 0,
              "ticks": ""
             }
            },
            "type": "scatter3d"
           }
          ],
          "scattercarpet": [
           {
            "marker": {
             "colorbar": {
              "outlinewidth": 0,
              "ticks": ""
             }
            },
            "type": "scattercarpet"
           }
          ],
          "scattergeo": [
           {
            "marker": {
             "colorbar": {
              "outlinewidth": 0,
              "ticks": ""
             }
            },
            "type": "scattergeo"
           }
          ],
          "scattergl": [
           {
            "marker": {
             "colorbar": {
              "outlinewidth": 0,
              "ticks": ""
             }
            },
            "type": "scattergl"
           }
          ],
          "scattermapbox": [
           {
            "marker": {
             "colorbar": {
              "outlinewidth": 0,
              "ticks": ""
             }
            },
            "type": "scattermapbox"
           }
          ],
          "scatterpolar": [
           {
            "marker": {
             "colorbar": {
              "outlinewidth": 0,
              "ticks": ""
             }
            },
            "type": "scatterpolar"
           }
          ],
          "scatterpolargl": [
           {
            "marker": {
             "colorbar": {
              "outlinewidth": 0,
              "ticks": ""
             }
            },
            "type": "scatterpolargl"
           }
          ],
          "scatterternary": [
           {
            "marker": {
             "colorbar": {
              "outlinewidth": 0,
              "ticks": ""
             }
            },
            "type": "scatterternary"
           }
          ],
          "surface": [
           {
            "colorbar": {
             "outlinewidth": 0,
             "ticks": ""
            },
            "colorscale": [
             [
              0,
              "#0d0887"
             ],
             [
              0.1111111111111111,
              "#46039f"
             ],
             [
              0.2222222222222222,
              "#7201a8"
             ],
             [
              0.3333333333333333,
              "#9c179e"
             ],
             [
              0.4444444444444444,
              "#bd3786"
             ],
             [
              0.5555555555555556,
              "#d8576b"
             ],
             [
              0.6666666666666666,
              "#ed7953"
             ],
             [
              0.7777777777777778,
              "#fb9f3a"
             ],
             [
              0.8888888888888888,
              "#fdca26"
             ],
             [
              1,
              "#f0f921"
             ]
            ],
            "type": "surface"
           }
          ],
          "table": [
           {
            "cells": {
             "fill": {
              "color": "#EBF0F8"
             },
             "line": {
              "color": "white"
             }
            },
            "header": {
             "fill": {
              "color": "#C8D4E3"
             },
             "line": {
              "color": "white"
             }
            },
            "type": "table"
           }
          ]
         },
         "layout": {
          "annotationdefaults": {
           "arrowcolor": "#2a3f5f",
           "arrowhead": 0,
           "arrowwidth": 1
          },
          "autotypenumbers": "strict",
          "coloraxis": {
           "colorbar": {
            "outlinewidth": 0,
            "ticks": ""
           }
          },
          "colorscale": {
           "diverging": [
            [
             0,
             "#8e0152"
            ],
            [
             0.1,
             "#c51b7d"
            ],
            [
             0.2,
             "#de77ae"
            ],
            [
             0.3,
             "#f1b6da"
            ],
            [
             0.4,
             "#fde0ef"
            ],
            [
             0.5,
             "#f7f7f7"
            ],
            [
             0.6,
             "#e6f5d0"
            ],
            [
             0.7,
             "#b8e186"
            ],
            [
             0.8,
             "#7fbc41"
            ],
            [
             0.9,
             "#4d9221"
            ],
            [
             1,
             "#276419"
            ]
           ],
           "sequential": [
            [
             0,
             "#0d0887"
            ],
            [
             0.1111111111111111,
             "#46039f"
            ],
            [
             0.2222222222222222,
             "#7201a8"
            ],
            [
             0.3333333333333333,
             "#9c179e"
            ],
            [
             0.4444444444444444,
             "#bd3786"
            ],
            [
             0.5555555555555556,
             "#d8576b"
            ],
            [
             0.6666666666666666,
             "#ed7953"
            ],
            [
             0.7777777777777778,
             "#fb9f3a"
            ],
            [
             0.8888888888888888,
             "#fdca26"
            ],
            [
             1,
             "#f0f921"
            ]
           ],
           "sequentialminus": [
            [
             0,
             "#0d0887"
            ],
            [
             0.1111111111111111,
             "#46039f"
            ],
            [
             0.2222222222222222,
             "#7201a8"
            ],
            [
             0.3333333333333333,
             "#9c179e"
            ],
            [
             0.4444444444444444,
             "#bd3786"
            ],
            [
             0.5555555555555556,
             "#d8576b"
            ],
            [
             0.6666666666666666,
             "#ed7953"
            ],
            [
             0.7777777777777778,
             "#fb9f3a"
            ],
            [
             0.8888888888888888,
             "#fdca26"
            ],
            [
             1,
             "#f0f921"
            ]
           ]
          },
          "colorway": [
           "#636efa",
           "#EF553B",
           "#00cc96",
           "#ab63fa",
           "#FFA15A",
           "#19d3f3",
           "#FF6692",
           "#B6E880",
           "#FF97FF",
           "#FECB52"
          ],
          "font": {
           "color": "#2a3f5f"
          },
          "geo": {
           "bgcolor": "white",
           "lakecolor": "white",
           "landcolor": "#E5ECF6",
           "showlakes": true,
           "showland": true,
           "subunitcolor": "white"
          },
          "hoverlabel": {
           "align": "left"
          },
          "hovermode": "closest",
          "mapbox": {
           "style": "light"
          },
          "paper_bgcolor": "white",
          "plot_bgcolor": "#E5ECF6",
          "polar": {
           "angularaxis": {
            "gridcolor": "white",
            "linecolor": "white",
            "ticks": ""
           },
           "bgcolor": "#E5ECF6",
           "radialaxis": {
            "gridcolor": "white",
            "linecolor": "white",
            "ticks": ""
           }
          },
          "scene": {
           "xaxis": {
            "backgroundcolor": "#E5ECF6",
            "gridcolor": "white",
            "gridwidth": 2,
            "linecolor": "white",
            "showbackground": true,
            "ticks": "",
            "zerolinecolor": "white"
           },
           "yaxis": {
            "backgroundcolor": "#E5ECF6",
            "gridcolor": "white",
            "gridwidth": 2,
            "linecolor": "white",
            "showbackground": true,
            "ticks": "",
            "zerolinecolor": "white"
           },
           "zaxis": {
            "backgroundcolor": "#E5ECF6",
            "gridcolor": "white",
            "gridwidth": 2,
            "linecolor": "white",
            "showbackground": true,
            "ticks": "",
            "zerolinecolor": "white"
           }
          },
          "shapedefaults": {
           "line": {
            "color": "#2a3f5f"
           }
          },
          "ternary": {
           "aaxis": {
            "gridcolor": "white",
            "linecolor": "white",
            "ticks": ""
           },
           "baxis": {
            "gridcolor": "white",
            "linecolor": "white",
            "ticks": ""
           },
           "bgcolor": "#E5ECF6",
           "caxis": {
            "gridcolor": "white",
            "linecolor": "white",
            "ticks": ""
           }
          },
          "title": {
           "x": 0.05
          },
          "xaxis": {
           "automargin": true,
           "gridcolor": "white",
           "linecolor": "white",
           "ticks": "",
           "title": {
            "standoff": 15
           },
           "zerolinecolor": "white",
           "zerolinewidth": 2
          },
          "yaxis": {
           "automargin": true,
           "gridcolor": "white",
           "linecolor": "white",
           "ticks": "",
           "title": {
            "standoff": 15
           },
           "zerolinecolor": "white",
           "zerolinewidth": 2
          }
         }
        },
        "title": {
         "text": "GDP vs EV_sales"
        },
        "width": 1700,
        "xaxis": {
         "anchor": "y",
         "autorange": true,
         "domain": [
          0,
          1
         ],
         "range": [
          31868.55174283641,
          76241.87825716358
         ],
         "title": {
          "text": "GDP"
         },
         "type": "linear"
        },
        "yaxis": {
         "anchor": "x",
         "autorange": true,
         "domain": [
          0,
          1
         ],
         "range": [
          -3.63344383358815e-05,
          0.0022675626420065494
         ],
         "title": {
          "text": "EV_sale"
         },
         "type": "linear"
        }
       }
      },
      "image/png": "[encoded data removed]",
      "text/html": [
       "<div>                            <div id=\"91827981-c379-49a1-bbb8-c70266d8a45b\" class=\"plotly-graph-div\" style=\"height:800px; width:1700px;\"></div>            <script type=\"text/javascript\">                require([\"plotly\"], function(Plotly) {                    window.PLOTLYENV=window.PLOTLYENV || {};                                    if (document.getElementById(\"91827981-c379-49a1-bbb8-c70266d8a45b\")) {                    Plotly.newPlot(                        \"91827981-c379-49a1-bbb8-c70266d8a45b\",                        [{\"hovertemplate\":\"GDP=%{x}<br>EV_sale=%{y}<extra></extra>\",\"legendgroup\":\"\",\"marker\":{\"color\":\"#636efa\",\"symbol\":\"circle\"},\"mode\":\"markers\",\"name\":\"\",\"orientation\":\"v\",\"showlegend\":false,\"x\":[40648.99,72584.15,45809.18,38875.25,62199.74,69721.1,65487.21,45499.47,52455.14,54340.12,40879.65,60517.1,50038.9,54307.53,54599.9,42541.02,50583.06,43782.3,59968.56,73785.85,46367.26,59811.21,34195.27,47342.14,43505.02,60506.86,51101.89,56221.45,60682.01,44960.06,73915.16,49623.68,72435.08,51842.33,50892.82,52053.95,55126.53,48628.44,41847.56,52850.57,47958.83,61866.14,52938.61,46589.33,56674.7,70166.56,40291.99,51680.48,67140.01],\"xaxis\":\"x\",\"y\":[0.0002012624170117,0.0001946046871151,0.001073614057032,0.0001790797563982,0.001570276087556,0.0009176196558011,0.0008376668837263,0.0007396092602226,0.0004827610247424,0.0021392774636693,0.0002975599530762,0.0005937673879293,0.0003263951804135,0.0002365075281948,0.0002887092854291,0.0001787405063558,0.0001543554609032,0.0007285520966314,0.0011042197874368,0.0011199127556894,0.0001815793954418,0.0006400863202123,9.195074000136747e-05,0.0003341794437808,0.0002956868768956,0.0002639484748023,0.001051502096976,0.0007508197055912,0.0010188140930513,0.0003729599752813,0.0007330017690844,0.0005200302780469,0.0001468095956812,0.0005007402523822,0.000196257615759,0.0016752941667599,0.0004890909773875,0.0006231019146222,0.000262922441031,0.0002107632007451,0.0003092222550258,0.0002002927878586,0.0009369873675295,0.0015658156731137,0.0008158338295139,0.0015934671512349,0.0001388557178007,0.0003336625175398,0.0002502863519199],\"yaxis\":\"y\",\"type\":\"scatter\"},{\"hovertemplate\":\"<b>OLS trendline</b><br>EV_sale = 1.40017e-08 * GDP + -0.000141345<br>R<sup>2</sup>=0.083560<br><br>GDP=%{x}<br>EV_sale=%{y} <b>(trend)</b><extra></extra>\",\"legendgroup\":\"\",\"marker\":{\"color\":\"#636efa\",\"symbol\":\"circle\"},\"mode\":\"lines\",\"name\":\"\",\"showlegend\":false,\"x\":[34195.27,38875.25,40291.99,40648.99,40879.65,41847.56,42541.02,43505.02,43782.3,44960.06,45499.47,45809.18,46367.26,46589.33,47342.14,47958.83,48628.44,49623.68,50038.9,50583.06,50892.82,51101.89,51680.48,51842.33,52053.95,52455.14,52850.57,52938.61,54307.53,54340.12,54599.9,55126.53,56221.45,56674.7,59811.21,59968.56,60506.86,60517.1,60682.01,61866.14,62199.74,65487.21,67140.01,69721.1,70166.56,72435.08,72584.15,73785.85,73915.16],\"xaxis\":\"x\",\"y\":[0.0003374486726578995,0.0004029765618063256,0.0004228133947996591,0.0004278120179617214,0.0004310416605907446,0.00044459409012797613,0.00045430374059846263,0.0004678014233105859,0.0004716838273172432,0.0004881745231585608,0.0004957272047267626,0.0005000636853416709,0.0005078777794993284,0.00051098714713406,0.0005215278012030574,0.0005301625376675172,0.0005395382465065887,0.0005534733437497563,0.0005592871485378557,0.0005669063383974293,0.0005712435190996153,0.000574170864042171,0.0005822721340010998,0.0005845383165186902,0.0005875013659124034,0.0005931187262104083,0.0005986554364540337,0.0005998881501324314,0.0006190554196534685,0.0006195117365410081,0.0006231491100005054,0.0006305228492605525,0.0006458536405003429,0.0006521999316717848,0.0006961165466130729,0.0006983197212756792,0.0007058568609063183,0.0007060002387807707,0.0007083092666397503,0.0007248891536002341,0.0007295601359163797,0.0007755904543661971,0.0007987325394145345,0.0008348723048413337,0.0008411095224149254,0.0008728727622345372,0.0008749600024439731,0.0008917859000738058,0.0008935964657911342],\"yaxis\":\"y\",\"type\":\"scatter\"}],                        {\"template\":{\"data\":{\"bar\":[{\"error_x\":{\"color\":\"#2a3f5f\"},\"error_y\":{\"color\":\"#2a3f5f\"},\"marker\":{\"line\":{\"color\":\"#E5ECF6\",\"width\":0.5},\"pattern\":{\"fillmode\":\"overlay\",\"size\":10,\"solidity\":0.2}},\"type\":\"bar\"}],\"barpolar\":[{\"marker\":{\"line\":{\"color\":\"#E5ECF6\",\"width\":0.5},\"pattern\":{\"fillmode\":\"overlay\",\"size\":10,\"solidity\":0.2}},\"type\":\"barpolar\"}],\"carpet\":[{\"aaxis\":{\"endlinecolor\":\"#2a3f5f\",\"gridcolor\":\"white\",\"linecolor\":\"white\",\"minorgridcolor\":\"white\",\"startlinecolor\":\"#2a3f5f\"},\"baxis\":{\"endlinecolor\":\"#2a3f5f\",\"gridcolor\":\"white\",\"linecolor\":\"white\",\"minorgridcolor\":\"white\",\"startlinecolor\":\"#2a3f5f\"},\"type\":\"carpet\"}],\"choropleth\":[{\"colorbar\":{\"outlinewidth\":0,\"ticks\":\"\"},\"type\":\"choropleth\"}],\"contour\":[{\"colorbar\":{\"outlinewidth\":0,\"ticks\":\"\"},\"colorscale\":[[0.0,\"#0d0887\"],[0.1111111111111111,\"#46039f\"],[0.2222222222222222,\"#7201a8\"],[0.3333333333333333,\"#9c179e\"],[0.4444444444444444,\"#bd3786\"],[0.5555555555555556,\"#d8576b\"],[0.6666666666666666,\"#ed7953\"],[0.7777777777777778,\"#fb9f3a\"],[0.8888888888888888,\"#fdca26\"],[1.0,\"#f0f921\"]],\"type\":\"contour\"}],\"contourcarpet\":[{\"colorbar\":{\"outlinewidth\":0,\"ticks\":\"\"},\"type\":\"contourcarpet\"}],\"heatmap\":[{\"colorbar\":{\"outlinewidth\":0,\"ticks\":\"\"},\"colorscale\":[[0.0,\"#0d0887\"],[0.1111111111111111,\"#46039f\"],[0.2222222222222222,\"#7201a8\"],[0.3333333333333333,\"#9c179e\"],[0.4444444444444444,\"#bd3786\"],[0.5555555555555556,\"#d8576b\"],[0.6666666666666666,\"#ed7953\"],[0.7777777777777778,\"#fb9f3a\"],[0.8888888888888888,\"#fdca26\"],[1.0,\"#f0f921\"]],\"type\":\"heatmap\"}],\"heatmapgl\":[{\"colorbar\":{\"outlinewidth\":0,\"ticks\":\"\"},\"colorscale\":[[0.0,\"#0d0887\"],[0.1111111111111111,\"#46039f\"],[0.2222222222222222,\"#7201a8\"],[0.3333333333333333,\"#9c179e\"],[0.4444444444444444,\"#bd3786\"],[0.5555555555555556,\"#d8576b\"],[0.6666666666666666,\"#ed7953\"],[0.7777777777777778,\"#fb9f3a\"],[0.8888888888888888,\"#fdca26\"],[1.0,\"#f0f921\"]],\"type\":\"heatmapgl\"}],\"histogram\":[{\"marker\":{\"pattern\":{\"fillmode\":\"overlay\",\"size\":10,\"solidity\":0.2}},\"type\":\"histogram\"}],\"histogram2d\":[{\"colorbar\":{\"outlinewidth\":0,\"ticks\":\"\"},\"colorscale\":[[0.0,\"#0d0887\"],[0.1111111111111111,\"#46039f\"],[0.2222222222222222,\"#7201a8\"],[0.3333333333333333,\"#9c179e\"],[0.4444444444444444,\"#bd3786\"],[0.5555555555555556,\"#d8576b\"],[0.6666666666666666,\"#ed7953\"],[0.7777777777777778,\"#fb9f3a\"],[0.8888888888888888,\"#fdca26\"],[1.0,\"#f0f921\"]],\"type\":\"histogram2d\"}],\"histogram2dcontour\":[{\"colorbar\":{\"outlinewidth\":0,\"ticks\":\"\"},\"colorscale\":[[0.0,\"#0d0887\"],[0.1111111111111111,\"#46039f\"],[0.2222222222222222,\"#7201a8\"],[0.3333333333333333,\"#9c179e\"],[0.4444444444444444,\"#bd3786\"],[0.5555555555555556,\"#d8576b\"],[0.6666666666666666,\"#ed7953\"],[0.7777777777777778,\"#fb9f3a\"],[0.8888888888888888,\"#fdca26\"],[1.0,\"#f0f921\"]],\"type\":\"histogram2dcontour\"}],\"mesh3d\":[{\"colorbar\":{\"outlinewidth\":0,\"ticks\":\"\"},\"type\":\"mesh3d\"}],\"parcoords\":[{\"line\":{\"colorbar\":{\"outlinewidth\":0,\"ticks\":\"\"}},\"type\":\"parcoords\"}],\"pie\":[{\"automargin\":true,\"type\":\"pie\"}],\"scatter\":[{\"marker\":{\"colorbar\":{\"outlinewidth\":0,\"ticks\":\"\"}},\"type\":\"scatter\"}],\"scatter3d\":[{\"line\":{\"colorbar\":{\"outlinewidth\":0,\"ticks\":\"\"}},\"marker\":{\"colorbar\":{\"outlinewidth\":0,\"ticks\":\"\"}},\"type\":\"scatter3d\"}],\"scattercarpet\":[{\"marker\":{\"colorbar\":{\"outlinewidth\":0,\"ticks\":\"\"}},\"type\":\"scattercarpet\"}],\"scattergeo\":[{\"marker\":{\"colorbar\":{\"outlinewidth\":0,\"ticks\":\"\"}},\"type\":\"scattergeo\"}],\"scattergl\":[{\"marker\":{\"colorbar\":{\"outlinewidth\":0,\"ticks\":\"\"}},\"type\":\"scattergl\"}],\"scattermapbox\":[{\"marker\":{\"colorbar\":{\"outlinewidth\":0,\"ticks\":\"\"}},\"type\":\"scattermapbox\"}],\"scatterpolar\":[{\"marker\":{\"colorbar\":{\"outlinewidth\":0,\"ticks\":\"\"}},\"type\":\"scatterpolar\"}],\"scatterpolargl\":[{\"marker\":{\"colorbar\":{\"outlinewidth\":0,\"ticks\":\"\"}},\"type\":\"scatterpolargl\"}],\"scatterternary\":[{\"marker\":{\"colorbar\":{\"outlinewidth\":0,\"ticks\":\"\"}},\"type\":\"scatterternary\"}],\"surface\":[{\"colorbar\":{\"outlinewidth\":0,\"ticks\":\"\"},\"colorscale\":[[0.0,\"#0d0887\"],[0.1111111111111111,\"#46039f\"],[0.2222222222222222,\"#7201a8\"],[0.3333333333333333,\"#9c179e\"],[0.4444444444444444,\"#bd3786\"],[0.5555555555555556,\"#d8576b\"],[0.6666666666666666,\"#ed7953\"],[0.7777777777777778,\"#fb9f3a\"],[0.8888888888888888,\"#fdca26\"],[1.0,\"#f0f921\"]],\"type\":\"surface\"}],\"table\":[{\"cells\":{\"fill\":{\"color\":\"#EBF0F8\"},\"line\":{\"color\":\"white\"}},\"header\":{\"fill\":{\"color\":\"#C8D4E3\"},\"line\":{\"color\":\"white\"}},\"type\":\"table\"}]},\"layout\":{\"annotationdefaults\":{\"arrowcolor\":\"#2a3f5f\",\"arrowhead\":0,\"arrowwidth\":1},\"autotypenumbers\":\"strict\",\"coloraxis\":{\"colorbar\":{\"outlinewidth\":0,\"ticks\":\"\"}},\"colorscale\":{\"diverging\":[[0,\"#8e0152\"],[0.1,\"#c51b7d\"],[0.2,\"#de77ae\"],[0.3,\"#f1b6da\"],[0.4,\"#fde0ef\"],[0.5,\"#f7f7f7\"],[0.6,\"#e6f5d0\"],[0.7,\"#b8e186\"],[0.8,\"#7fbc41\"],[0.9,\"#4d9221\"],[1,\"#276419\"]],\"sequential\":[[0.0,\"#0d0887\"],[0.1111111111111111,\"#46039f\"],[0.2222222222222222,\"#7201a8\"],[0.3333333333333333,\"#9c179e\"],[0.4444444444444444,\"#bd3786\"],[0.5555555555555556,\"#d8576b\"],[0.6666666666666666,\"#ed7953\"],[0.7777777777777778,\"#fb9f3a\"],[0.8888888888888888,\"#fdca26\"],[1.0,\"#f0f921\"]],\"sequentialminus\":[[0.0,\"#0d0887\"],[0.1111111111111111,\"#46039f\"],[0.2222222222222222,\"#7201a8\"],[0.3333333333333333,\"#9c179e\"],[0.4444444444444444,\"#bd3786\"],[0.5555555555555556,\"#d8576b\"],[0.6666666666666666,\"#ed7953\"],[0.7777777777777778,\"#fb9f3a\"],[0.8888888888888888,\"#fdca26\"],[1.0,\"#f0f921\"]]},\"colorway\":[\"#636efa\",\"#EF553B\",\"#00cc96\",\"#ab63fa\",\"#FFA15A\",\"#19d3f3\",\"#FF6692\",\"#B6E880\",\"#FF97FF\",\"#FECB52\"],\"font\":{\"color\":\"#2a3f5f\"},\"geo\":{\"bgcolor\":\"white\",\"lakecolor\":\"white\",\"landcolor\":\"#E5ECF6\",\"showlakes\":true,\"showland\":true,\"subunitcolor\":\"white\"},\"hoverlabel\":{\"align\":\"left\"},\"hovermode\":\"closest\",\"mapbox\":{\"style\":\"light\"},\"paper_bgcolor\":\"white\",\"plot_bgcolor\":\"#E5ECF6\",\"polar\":{\"angularaxis\":{\"gridcolor\":\"white\",\"linecolor\":\"white\",\"ticks\":\"\"},\"bgcolor\":\"#E5ECF6\",\"radialaxis\":{\"gridcolor\":\"white\",\"linecolor\":\"white\",\"ticks\":\"\"}},\"scene\":{\"xaxis\":{\"backgroundcolor\":\"#E5ECF6\",\"gridcolor\":\"white\",\"gridwidth\":2,\"linecolor\":\"white\",\"showbackground\":true,\"ticks\":\"\",\"zerolinecolor\":\"white\"},\"yaxis\":{\"backgroundcolor\":\"#E5ECF6\",\"gridcolor\":\"white\",\"gridwidth\":2,\"linecolor\":\"white\",\"showbackground\":true,\"ticks\":\"\",\"zerolinecolor\":\"white\"},\"zaxis\":{\"backgroundcolor\":\"#E5ECF6\",\"gridcolor\":\"white\",\"gridwidth\":2,\"linecolor\":\"white\",\"showbackground\":true,\"ticks\":\"\",\"zerolinecolor\":\"white\"}},\"shapedefaults\":{\"line\":{\"color\":\"#2a3f5f\"}},\"ternary\":{\"aaxis\":{\"gridcolor\":\"white\",\"linecolor\":\"white\",\"ticks\":\"\"},\"baxis\":{\"gridcolor\":\"white\",\"linecolor\":\"white\",\"ticks\":\"\"},\"bgcolor\":\"#E5ECF6\",\"caxis\":{\"gridcolor\":\"white\",\"linecolor\":\"white\",\"ticks\":\"\"}},\"title\":{\"x\":0.05},\"xaxis\":{\"automargin\":true,\"gridcolor\":\"white\",\"linecolor\":\"white\",\"ticks\":\"\",\"title\":{\"standoff\":15},\"zerolinecolor\":\"white\",\"zerolinewidth\":2},\"yaxis\":{\"automargin\":true,\"gridcolor\":\"white\",\"linecolor\":\"white\",\"ticks\":\"\",\"title\":{\"standoff\":15},\"zerolinecolor\":\"white\",\"zerolinewidth\":2}}},\"xaxis\":{\"anchor\":\"y\",\"domain\":[0.0,1.0],\"title\":{\"text\":\"GDP\"}},\"yaxis\":{\"anchor\":\"x\",\"domain\":[0.0,1.0],\"title\":{\"text\":\"EV_sale\"}},\"legend\":{\"tracegroupgap\":0},\"margin\":{\"t\":60},\"title\":{\"text\":\"GDP vs EV_sales\"},\"width\":1700,\"height\":800},                        {\"responsive\": true}                    ).then(function(){\n",
       "                            \n",
       "var gd = document.getElementById('91827981-c379-49a1-bbb8-c70266d8a45b');\n",
       "var x = new MutationObserver(function (mutations, observer) {{\n",
       "        var display = window.getComputedStyle(gd).display;\n",
       "        if (!display || display === 'none') {{\n",
       "            console.log([gd, 'removed!']);\n",
       "            Plotly.purge(gd);\n",
       "            observer.disconnect();\n",
       "        }}\n",
       "}});\n",
       "\n",
       "// Listen for the removal of the full notebook cells\n",
       "var notebookContainer = gd.closest('#notebook-container');\n",
       "if (notebookContainer) {{\n",
       "    x.observe(notebookContainer, {childList: true});\n",
       "}}\n",
       "\n",
       "// Listen for the clearing of the current output cell\n",
       "var outputEl = gd.closest('.output');\n",
       "if (outputEl) {{\n",
       "    x.observe(outputEl, {childList: true});\n",
       "}}\n",
       "\n",
       "                        })                };                });            </script>        </div>"
      ]
     },
     "metadata": {},
     "output_type": "display_data"
    }
   ],
   "source": [
    "fig = px.scatter(new, x=new['GDP'], y=new['EV_sale'],trendline='ols')\n",
    "fig.layout.update(\n",
    "    width=1700,\n",
    "    height=800,\n",
    "    title_text = 'GDP vs EV_sales')\n",
    "fig.show()"
   ]
  },
  {
   "cell_type": "markdown",
   "id": "27b3e06d-11d9-4f25-b591-3017d278fe48",
   "metadata": {},
   "source": [
    "# Income"
   ]
  },
  {
   "cell_type": "code",
   "execution_count": 186,
   "id": "e6fde251-ff7e-4938-bc24-84a4a0b834ea",
   "metadata": {},
   "outputs": [
    {
     "data": {
      "application/vnd.plotly.v1+json": {
       "config": {
        "plotlyServerURL": "https://plot.ly"
       },
       "data": [
        {
         "hovertemplate": "income=%{x}<br>EV_sale=%{y}<extra></extra>",
         "legendgroup": "",
         "marker": {
          "color": "#636efa",
          "symbol": "circle"
         },
         "mode": "markers",
         "name": "",
         "orientation": "v",
         "showlegend": false,
         "type": "scatter",
         "x": [
          43157,
          61639,
          47242,
          45037,
          61087,
          74930,
          53539,
          53375,
          48697,
          53888,
          45261,
          58273,
          48757,
          50149,
          52820,
          43629,
          47606,
          49986,
          61879,
          72202,
          48820,
          57946,
          39184,
          48922,
          49851,
          53419,
          51785,
          63271,
          66862,
          42907,
          67325,
          48261,
          57205,
          49809,
          48524,
          52464,
          56742,
          54735,
          46173,
          55011,
          48781,
          53505,
          48670,
          53860,
          58460,
          62817,
          42378,
          52417,
          61571
         ],
         "xaxis": "x",
         "y": [
          0.0002012624170117,
          0.0001946046871151,
          0.001073614057032,
          0.0001790797563982,
          0.001570276087556,
          0.0009176196558011,
          0.0008376668837263,
          0.0007396092602226,
          0.0004827610247424,
          0.0021392774636693,
          0.0002975599530762,
          0.0005937673879293,
          0.0003263951804135,
          0.0002365075281948,
          0.0002887092854291,
          0.0001787405063558,
          0.0001543554609032,
          0.0007285520966314,
          0.0011042197874368,
          0.0011199127556894,
          0.0001815793954418,
          0.0006400863202123,
          9.195074000136747e-05,
          0.0003341794437808,
          0.0002956868768956,
          0.0002639484748023,
          0.001051502096976,
          0.0007508197055912,
          0.0010188140930513,
          0.0003729599752813,
          0.0007330017690844,
          0.0005200302780469,
          0.0001468095956812,
          0.0005007402523822,
          0.000196257615759,
          0.0016752941667599,
          0.0004890909773875,
          0.0006231019146222,
          0.000262922441031,
          0.0002107632007451,
          0.0003092222550258,
          0.0002002927878586,
          0.0009369873675295,
          0.0015658156731137,
          0.0008158338295139,
          0.0015934671512349,
          0.0001388557178007,
          0.0003336625175398,
          0.0002502863519199
         ],
         "yaxis": "y"
        },
        {
         "hovertemplate": "<b>OLS trendline</b><br>EV_sale = 2.75818e-08 * income + -0.000862309<br>R<sup>2</sup>=0.193774<br><br>income=%{x}<br>EV_sale=%{y} <b>(trend)</b><extra></extra>",
         "legendgroup": "",
         "marker": {
          "color": "#636efa",
          "symbol": "circle"
         },
         "mode": "lines",
         "name": "",
         "showlegend": false,
         "type": "scatter",
         "x": [
          39184,
          42378,
          42907,
          43157,
          43629,
          45037,
          45261,
          46173,
          47242,
          47606,
          48261,
          48524,
          48670,
          48697,
          48757,
          48781,
          48820,
          48922,
          49809,
          49851,
          49986,
          50149,
          51785,
          52417,
          52464,
          52820,
          53375,
          53419,
          53505,
          53539,
          53860,
          53888,
          54735,
          55011,
          56742,
          57205,
          57946,
          58273,
          58460,
          61087,
          61571,
          61639,
          61879,
          62817,
          63271,
          66862,
          67325,
          72202,
          74930
         ],
         "xaxis": "x",
         "y": [
          0.00021845523518845974,
          0.00030655142198656707,
          0.00032114218053891483,
          0.00032803762408917367,
          0.00034105622151206245,
          0.0003798913595871202,
          0.0003860696770081523,
          0.00041122425507949644,
          0.0004407091717004034,
          0.0004507489375095802,
          0.0004688149996112586,
          0.0004760690062261308,
          0.00048009594525948195,
          0.0004808406531629099,
          0.0004824955596149722,
          0.00048315752219579703,
          0.0004842332113896374,
          0.00048704655235814293,
          0.0005115115860744615,
          0.000512670020590905,
          0.0005163935601080447,
          0.0005208893893028135,
          0.0005660131718957074,
          0.0005834448531907619,
          0.0005847411965782106,
          0.000594560308193779,
          0.0006098681928753538,
          0.0006110817909401994,
          0.0006134538235214884,
          0.0006143916038443235,
          0.0006232453533628559,
          0.000624017643040485,
          0.0006473794057887621,
          0.0006549919754682477,
          0.0007027360266102402,
          0.0007155063880653194,
          0.0007359444827482869,
          0.0007449637229120255,
          0.0007501215146876191,
          0.0008225788355137391,
          0.0008359284142270403,
          0.0008378039748727107,
          0.0008444236006809593,
          0.0008702953048815304,
          0.0008828174303688005,
          0.000981863581524719,
          0.0009946339429797984,
          0.0011291502557582481,
          0.0012043933357786729
         ],
         "yaxis": "y"
        }
       ],
       "layout": {
        "height": 800,
        "legend": {
         "tracegroupgap": 0
        },
        "margin": {
         "t": 60
        },
        "template": {
         "data": {
          "bar": [
           {
            "error_x": {
             "color": "#2a3f5f"
            },
            "error_y": {
             "color": "#2a3f5f"
            },
            "marker": {
             "line": {
              "color": "#E5ECF6",
              "width": 0.5
             },
             "pattern": {
              "fillmode": "overlay",
              "size": 10,
              "solidity": 0.2
             }
            },
            "type": "bar"
           }
          ],
          "barpolar": [
           {
            "marker": {
             "line": {
              "color": "#E5ECF6",
              "width": 0.5
             },
             "pattern": {
              "fillmode": "overlay",
              "size": 10,
              "solidity": 0.2
             }
            },
            "type": "barpolar"
           }
          ],
          "carpet": [
           {
            "aaxis": {
             "endlinecolor": "#2a3f5f",
             "gridcolor": "white",
             "linecolor": "white",
             "minorgridcolor": "white",
             "startlinecolor": "#2a3f5f"
            },
            "baxis": {
             "endlinecolor": "#2a3f5f",
             "gridcolor": "white",
             "linecolor": "white",
             "minorgridcolor": "white",
             "startlinecolor": "#2a3f5f"
            },
            "type": "carpet"
           }
          ],
          "choropleth": [
           {
            "colorbar": {
             "outlinewidth": 0,
             "ticks": ""
            },
            "type": "choropleth"
           }
          ],
          "contour": [
           {
            "colorbar": {
             "outlinewidth": 0,
             "ticks": ""
            },
            "colorscale": [
             [
              0,
              "#0d0887"
             ],
             [
              0.1111111111111111,
              "#46039f"
             ],
             [
              0.2222222222222222,
              "#7201a8"
             ],
             [
              0.3333333333333333,
              "#9c179e"
             ],
             [
              0.4444444444444444,
              "#bd3786"
             ],
             [
              0.5555555555555556,
              "#d8576b"
             ],
             [
              0.6666666666666666,
              "#ed7953"
             ],
             [
              0.7777777777777778,
              "#fb9f3a"
             ],
             [
              0.8888888888888888,
              "#fdca26"
             ],
             [
              1,
              "#f0f921"
             ]
            ],
            "type": "contour"
           }
          ],
          "contourcarpet": [
           {
            "colorbar": {
             "outlinewidth": 0,
             "ticks": ""
            },
            "type": "contourcarpet"
           }
          ],
          "heatmap": [
           {
            "colorbar": {
             "outlinewidth": 0,
             "ticks": ""
            },
            "colorscale": [
             [
              0,
              "#0d0887"
             ],
             [
              0.1111111111111111,
              "#46039f"
             ],
             [
              0.2222222222222222,
              "#7201a8"
             ],
             [
              0.3333333333333333,
              "#9c179e"
             ],
             [
              0.4444444444444444,
              "#bd3786"
             ],
             [
              0.5555555555555556,
              "#d8576b"
             ],
             [
              0.6666666666666666,
              "#ed7953"
             ],
             [
              0.7777777777777778,
              "#fb9f3a"
             ],
             [
              0.8888888888888888,
              "#fdca26"
             ],
             [
              1,
              "#f0f921"
             ]
            ],
            "type": "heatmap"
           }
          ],
          "heatmapgl": [
           {
            "colorbar": {
             "outlinewidth": 0,
             "ticks": ""
            },
            "colorscale": [
             [
              0,
              "#0d0887"
             ],
             [
              0.1111111111111111,
              "#46039f"
             ],
             [
              0.2222222222222222,
              "#7201a8"
             ],
             [
              0.3333333333333333,
              "#9c179e"
             ],
             [
              0.4444444444444444,
              "#bd3786"
             ],
             [
              0.5555555555555556,
              "#d8576b"
             ],
             [
              0.6666666666666666,
              "#ed7953"
             ],
             [
              0.7777777777777778,
              "#fb9f3a"
             ],
             [
              0.8888888888888888,
              "#fdca26"
             ],
             [
              1,
              "#f0f921"
             ]
            ],
            "type": "heatmapgl"
           }
          ],
          "histogram": [
           {
            "marker": {
             "pattern": {
              "fillmode": "overlay",
              "size": 10,
              "solidity": 0.2
             }
            },
            "type": "histogram"
           }
          ],
          "histogram2d": [
           {
            "colorbar": {
             "outlinewidth": 0,
             "ticks": ""
            },
            "colorscale": [
             [
              0,
              "#0d0887"
             ],
             [
              0.1111111111111111,
              "#46039f"
             ],
             [
              0.2222222222222222,
              "#7201a8"
             ],
             [
              0.3333333333333333,
              "#9c179e"
             ],
             [
              0.4444444444444444,
              "#bd3786"
             ],
             [
              0.5555555555555556,
              "#d8576b"
             ],
             [
              0.6666666666666666,
              "#ed7953"
             ],
             [
              0.7777777777777778,
              "#fb9f3a"
             ],
             [
              0.8888888888888888,
              "#fdca26"
             ],
             [
              1,
              "#f0f921"
             ]
            ],
            "type": "histogram2d"
           }
          ],
          "histogram2dcontour": [
           {
            "colorbar": {
             "outlinewidth": 0,
             "ticks": ""
            },
            "colorscale": [
             [
              0,
              "#0d0887"
             ],
             [
              0.1111111111111111,
              "#46039f"
             ],
             [
              0.2222222222222222,
              "#7201a8"
             ],
             [
              0.3333333333333333,
              "#9c179e"
             ],
             [
              0.4444444444444444,
              "#bd3786"
             ],
             [
              0.5555555555555556,
              "#d8576b"
             ],
             [
              0.6666666666666666,
              "#ed7953"
             ],
             [
              0.7777777777777778,
              "#fb9f3a"
             ],
             [
              0.8888888888888888,
              "#fdca26"
             ],
             [
              1,
              "#f0f921"
             ]
            ],
            "type": "histogram2dcontour"
           }
          ],
          "mesh3d": [
           {
            "colorbar": {
             "outlinewidth": 0,
             "ticks": ""
            },
            "type": "mesh3d"
           }
          ],
          "parcoords": [
           {
            "line": {
             "colorbar": {
              "outlinewidth": 0,
              "ticks": ""
             }
            },
            "type": "parcoords"
           }
          ],
          "pie": [
           {
            "automargin": true,
            "type": "pie"
           }
          ],
          "scatter": [
           {
            "marker": {
             "colorbar": {
              "outlinewidth": 0,
              "ticks": ""
             }
            },
            "type": "scatter"
           }
          ],
          "scatter3d": [
           {
            "line": {
             "colorbar": {
              "outlinewidth": 0,
              "ticks": ""
             }
            },
            "marker": {
             "colorbar": {
              "outlinewidth": 0,
              "ticks": ""
             }
            },
            "type": "scatter3d"
           }
          ],
          "scattercarpet": [
           {
            "marker": {
             "colorbar": {
              "outlinewidth": 0,
              "ticks": ""
             }
            },
            "type": "scattercarpet"
           }
          ],
          "scattergeo": [
           {
            "marker": {
             "colorbar": {
              "outlinewidth": 0,
              "ticks": ""
             }
            },
            "type": "scattergeo"
           }
          ],
          "scattergl": [
           {
            "marker": {
             "colorbar": {
              "outlinewidth": 0,
              "ticks": ""
             }
            },
            "type": "scattergl"
           }
          ],
          "scattermapbox": [
           {
            "marker": {
             "colorbar": {
              "outlinewidth": 0,
              "ticks": ""
             }
            },
            "type": "scattermapbox"
           }
          ],
          "scatterpolar": [
           {
            "marker": {
             "colorbar": {
              "outlinewidth": 0,
              "ticks": ""
             }
            },
            "type": "scatterpolar"
           }
          ],
          "scatterpolargl": [
           {
            "marker": {
             "colorbar": {
              "outlinewidth": 0,
              "ticks": ""
             }
            },
            "type": "scatterpolargl"
           }
          ],
          "scatterternary": [
           {
            "marker": {
             "colorbar": {
              "outlinewidth": 0,
              "ticks": ""
             }
            },
            "type": "scatterternary"
           }
          ],
          "surface": [
           {
            "colorbar": {
             "outlinewidth": 0,
             "ticks": ""
            },
            "colorscale": [
             [
              0,
              "#0d0887"
             ],
             [
              0.1111111111111111,
              "#46039f"
             ],
             [
              0.2222222222222222,
              "#7201a8"
             ],
             [
              0.3333333333333333,
              "#9c179e"
             ],
             [
              0.4444444444444444,
              "#bd3786"
             ],
             [
              0.5555555555555556,
              "#d8576b"
             ],
             [
              0.6666666666666666,
              "#ed7953"
             ],
             [
              0.7777777777777778,
              "#fb9f3a"
             ],
             [
              0.8888888888888888,
              "#fdca26"
             ],
             [
              1,
              "#f0f921"
             ]
            ],
            "type": "surface"
           }
          ],
          "table": [
           {
            "cells": {
             "fill": {
              "color": "#EBF0F8"
             },
             "line": {
              "color": "white"
             }
            },
            "header": {
             "fill": {
              "color": "#C8D4E3"
             },
             "line": {
              "color": "white"
             }
            },
            "type": "table"
           }
          ]
         },
         "layout": {
          "annotationdefaults": {
           "arrowcolor": "#2a3f5f",
           "arrowhead": 0,
           "arrowwidth": 1
          },
          "autotypenumbers": "strict",
          "coloraxis": {
           "colorbar": {
            "outlinewidth": 0,
            "ticks": ""
           }
          },
          "colorscale": {
           "diverging": [
            [
             0,
             "#8e0152"
            ],
            [
             0.1,
             "#c51b7d"
            ],
            [
             0.2,
             "#de77ae"
            ],
            [
             0.3,
             "#f1b6da"
            ],
            [
             0.4,
             "#fde0ef"
            ],
            [
             0.5,
             "#f7f7f7"
            ],
            [
             0.6,
             "#e6f5d0"
            ],
            [
             0.7,
             "#b8e186"
            ],
            [
             0.8,
             "#7fbc41"
            ],
            [
             0.9,
             "#4d9221"
            ],
            [
             1,
             "#276419"
            ]
           ],
           "sequential": [
            [
             0,
             "#0d0887"
            ],
            [
             0.1111111111111111,
             "#46039f"
            ],
            [
             0.2222222222222222,
             "#7201a8"
            ],
            [
             0.3333333333333333,
             "#9c179e"
            ],
            [
             0.4444444444444444,
             "#bd3786"
            ],
            [
             0.5555555555555556,
             "#d8576b"
            ],
            [
             0.6666666666666666,
             "#ed7953"
            ],
            [
             0.7777777777777778,
             "#fb9f3a"
            ],
            [
             0.8888888888888888,
             "#fdca26"
            ],
            [
             1,
             "#f0f921"
            ]
           ],
           "sequentialminus": [
            [
             0,
             "#0d0887"
            ],
            [
             0.1111111111111111,
             "#46039f"
            ],
            [
             0.2222222222222222,
             "#7201a8"
            ],
            [
             0.3333333333333333,
             "#9c179e"
            ],
            [
             0.4444444444444444,
             "#bd3786"
            ],
            [
             0.5555555555555556,
             "#d8576b"
            ],
            [
             0.6666666666666666,
             "#ed7953"
            ],
            [
             0.7777777777777778,
             "#fb9f3a"
            ],
            [
             0.8888888888888888,
             "#fdca26"
            ],
            [
             1,
             "#f0f921"
            ]
           ]
          },
          "colorway": [
           "#636efa",
           "#EF553B",
           "#00cc96",
           "#ab63fa",
           "#FFA15A",
           "#19d3f3",
           "#FF6692",
           "#B6E880",
           "#FF97FF",
           "#FECB52"
          ],
          "font": {
           "color": "#2a3f5f"
          },
          "geo": {
           "bgcolor": "white",
           "lakecolor": "white",
           "landcolor": "#E5ECF6",
           "showlakes": true,
           "showland": true,
           "subunitcolor": "white"
          },
          "hoverlabel": {
           "align": "left"
          },
          "hovermode": "closest",
          "mapbox": {
           "style": "light"
          },
          "paper_bgcolor": "white",
          "plot_bgcolor": "#E5ECF6",
          "polar": {
           "angularaxis": {
            "gridcolor": "white",
            "linecolor": "white",
            "ticks": ""
           },
           "bgcolor": "#E5ECF6",
           "radialaxis": {
            "gridcolor": "white",
            "linecolor": "white",
            "ticks": ""
           }
          },
          "scene": {
           "xaxis": {
            "backgroundcolor": "#E5ECF6",
            "gridcolor": "white",
            "gridwidth": 2,
            "linecolor": "white",
            "showbackground": true,
            "ticks": "",
            "zerolinecolor": "white"
           },
           "yaxis": {
            "backgroundcolor": "#E5ECF6",
            "gridcolor": "white",
            "gridwidth": 2,
            "linecolor": "white",
            "showbackground": true,
            "ticks": "",
            "zerolinecolor": "white"
           },
           "zaxis": {
            "backgroundcolor": "#E5ECF6",
            "gridcolor": "white",
            "gridwidth": 2,
            "linecolor": "white",
            "showbackground": true,
            "ticks": "",
            "zerolinecolor": "white"
           }
          },
          "shapedefaults": {
           "line": {
            "color": "#2a3f5f"
           }
          },
          "ternary": {
           "aaxis": {
            "gridcolor": "white",
            "linecolor": "white",
            "ticks": ""
           },
           "baxis": {
            "gridcolor": "white",
            "linecolor": "white",
            "ticks": ""
           },
           "bgcolor": "#E5ECF6",
           "caxis": {
            "gridcolor": "white",
            "linecolor": "white",
            "ticks": ""
           }
          },
          "title": {
           "x": 0.05
          },
          "xaxis": {
           "automargin": true,
           "gridcolor": "white",
           "linecolor": "white",
           "ticks": "",
           "title": {
            "standoff": 15
           },
           "zerolinecolor": "white",
           "zerolinewidth": 2
          },
          "yaxis": {
           "automargin": true,
           "gridcolor": "white",
           "linecolor": "white",
           "ticks": "",
           "title": {
            "standoff": 15
           },
           "zerolinecolor": "white",
           "zerolinewidth": 2
          }
         }
        },
        "title": {
         "text": "income vs EV_sales"
        },
        "width": 1700,
        "xaxis": {
         "anchor": "y",
         "autorange": true,
         "domain": [
          0,
          1
         ],
         "range": [
          37090.06492564382,
          77023.93507435618
         ],
         "title": {
          "text": "income"
         },
         "type": "linear"
        },
        "yaxis": {
         "anchor": "x",
         "autorange": true,
         "domain": [
          0,
          1
         ],
         "range": [
          -3.63344383358815e-05,
          0.0022675626420065494
         ],
         "title": {
          "text": "EV_sale"
         },
         "type": "linear"
        }
       }
      },
      "image/png": "[encoded data removed]",
      "text/html": [
       "<div>                            <div id=\"10eadb7c-3898-40b8-afed-39ca4903b324\" class=\"plotly-graph-div\" style=\"height:800px; width:1700px;\"></div>            <script type=\"text/javascript\">                require([\"plotly\"], function(Plotly) {                    window.PLOTLYENV=window.PLOTLYENV || {};                                    if (document.getElementById(\"10eadb7c-3898-40b8-afed-39ca4903b324\")) {                    Plotly.newPlot(                        \"10eadb7c-3898-40b8-afed-39ca4903b324\",                        [{\"hovertemplate\":\"income=%{x}<br>EV_sale=%{y}<extra></extra>\",\"legendgroup\":\"\",\"marker\":{\"color\":\"#636efa\",\"symbol\":\"circle\"},\"mode\":\"markers\",\"name\":\"\",\"orientation\":\"v\",\"showlegend\":false,\"x\":[43157,61639,47242,45037,61087,74930,53539,53375,48697,53888,45261,58273,48757,50149,52820,43629,47606,49986,61879,72202,48820,57946,39184,48922,49851,53419,51785,63271,66862,42907,67325,48261,57205,49809,48524,52464,56742,54735,46173,55011,48781,53505,48670,53860,58460,62817,42378,52417,61571],\"xaxis\":\"x\",\"y\":[0.0002012624170117,0.0001946046871151,0.001073614057032,0.0001790797563982,0.001570276087556,0.0009176196558011,0.0008376668837263,0.0007396092602226,0.0004827610247424,0.0021392774636693,0.0002975599530762,0.0005937673879293,0.0003263951804135,0.0002365075281948,0.0002887092854291,0.0001787405063558,0.0001543554609032,0.0007285520966314,0.0011042197874368,0.0011199127556894,0.0001815793954418,0.0006400863202123,9.195074000136747e-05,0.0003341794437808,0.0002956868768956,0.0002639484748023,0.001051502096976,0.0007508197055912,0.0010188140930513,0.0003729599752813,0.0007330017690844,0.0005200302780469,0.0001468095956812,0.0005007402523822,0.000196257615759,0.0016752941667599,0.0004890909773875,0.0006231019146222,0.000262922441031,0.0002107632007451,0.0003092222550258,0.0002002927878586,0.0009369873675295,0.0015658156731137,0.0008158338295139,0.0015934671512349,0.0001388557178007,0.0003336625175398,0.0002502863519199],\"yaxis\":\"y\",\"type\":\"scatter\"},{\"hovertemplate\":\"<b>OLS trendline</b><br>EV_sale = 2.75818e-08 * income + -0.000862309<br>R<sup>2</sup>=0.193774<br><br>income=%{x}<br>EV_sale=%{y} <b>(trend)</b><extra></extra>\",\"legendgroup\":\"\",\"marker\":{\"color\":\"#636efa\",\"symbol\":\"circle\"},\"mode\":\"lines\",\"name\":\"\",\"showlegend\":false,\"x\":[39184,42378,42907,43157,43629,45037,45261,46173,47242,47606,48261,48524,48670,48697,48757,48781,48820,48922,49809,49851,49986,50149,51785,52417,52464,52820,53375,53419,53505,53539,53860,53888,54735,55011,56742,57205,57946,58273,58460,61087,61571,61639,61879,62817,63271,66862,67325,72202,74930],\"xaxis\":\"x\",\"y\":[0.00021845523518845974,0.00030655142198656707,0.00032114218053891483,0.00032803762408917367,0.00034105622151206245,0.0003798913595871202,0.0003860696770081523,0.00041122425507949644,0.0004407091717004034,0.0004507489375095802,0.0004688149996112586,0.0004760690062261308,0.00048009594525948195,0.0004808406531629099,0.0004824955596149722,0.00048315752219579703,0.0004842332113896374,0.00048704655235814293,0.0005115115860744615,0.000512670020590905,0.0005163935601080447,0.0005208893893028135,0.0005660131718957074,0.0005834448531907619,0.0005847411965782106,0.000594560308193779,0.0006098681928753538,0.0006110817909401994,0.0006134538235214884,0.0006143916038443235,0.0006232453533628559,0.000624017643040485,0.0006473794057887621,0.0006549919754682477,0.0007027360266102402,0.0007155063880653194,0.0007359444827482869,0.0007449637229120255,0.0007501215146876191,0.0008225788355137391,0.0008359284142270403,0.0008378039748727107,0.0008444236006809593,0.0008702953048815304,0.0008828174303688005,0.000981863581524719,0.0009946339429797984,0.0011291502557582481,0.0012043933357786729],\"yaxis\":\"y\",\"type\":\"scatter\"}],                        {\"template\":{\"data\":{\"bar\":[{\"error_x\":{\"color\":\"#2a3f5f\"},\"error_y\":{\"color\":\"#2a3f5f\"},\"marker\":{\"line\":{\"color\":\"#E5ECF6\",\"width\":0.5},\"pattern\":{\"fillmode\":\"overlay\",\"size\":10,\"solidity\":0.2}},\"type\":\"bar\"}],\"barpolar\":[{\"marker\":{\"line\":{\"color\":\"#E5ECF6\",\"width\":0.5},\"pattern\":{\"fillmode\":\"overlay\",\"size\":10,\"solidity\":0.2}},\"type\":\"barpolar\"}],\"carpet\":[{\"aaxis\":{\"endlinecolor\":\"#2a3f5f\",\"gridcolor\":\"white\",\"linecolor\":\"white\",\"minorgridcolor\":\"white\",\"startlinecolor\":\"#2a3f5f\"},\"baxis\":{\"endlinecolor\":\"#2a3f5f\",\"gridcolor\":\"white\",\"linecolor\":\"white\",\"minorgridcolor\":\"white\",\"startlinecolor\":\"#2a3f5f\"},\"type\":\"carpet\"}],\"choropleth\":[{\"colorbar\":{\"outlinewidth\":0,\"ticks\":\"\"},\"type\":\"choropleth\"}],\"contour\":[{\"colorbar\":{\"outlinewidth\":0,\"ticks\":\"\"},\"colorscale\":[[0.0,\"#0d0887\"],[0.1111111111111111,\"#46039f\"],[0.2222222222222222,\"#7201a8\"],[0.3333333333333333,\"#9c179e\"],[0.4444444444444444,\"#bd3786\"],[0.5555555555555556,\"#d8576b\"],[0.6666666666666666,\"#ed7953\"],[0.7777777777777778,\"#fb9f3a\"],[0.8888888888888888,\"#fdca26\"],[1.0,\"#f0f921\"]],\"type\":\"contour\"}],\"contourcarpet\":[{\"colorbar\":{\"outlinewidth\":0,\"ticks\":\"\"},\"type\":\"contourcarpet\"}],\"heatmap\":[{\"colorbar\":{\"outlinewidth\":0,\"ticks\":\"\"},\"colorscale\":[[0.0,\"#0d0887\"],[0.1111111111111111,\"#46039f\"],[0.2222222222222222,\"#7201a8\"],[0.3333333333333333,\"#9c179e\"],[0.4444444444444444,\"#bd3786\"],[0.5555555555555556,\"#d8576b\"],[0.6666666666666666,\"#ed7953\"],[0.7777777777777778,\"#fb9f3a\"],[0.8888888888888888,\"#fdca26\"],[1.0,\"#f0f921\"]],\"type\":\"heatmap\"}],\"heatmapgl\":[{\"colorbar\":{\"outlinewidth\":0,\"ticks\":\"\"},\"colorscale\":[[0.0,\"#0d0887\"],[0.1111111111111111,\"#46039f\"],[0.2222222222222222,\"#7201a8\"],[0.3333333333333333,\"#9c179e\"],[0.4444444444444444,\"#bd3786\"],[0.5555555555555556,\"#d8576b\"],[0.6666666666666666,\"#ed7953\"],[0.7777777777777778,\"#fb9f3a\"],[0.8888888888888888,\"#fdca26\"],[1.0,\"#f0f921\"]],\"type\":\"heatmapgl\"}],\"histogram\":[{\"marker\":{\"pattern\":{\"fillmode\":\"overlay\",\"size\":10,\"solidity\":0.2}},\"type\":\"histogram\"}],\"histogram2d\":[{\"colorbar\":{\"outlinewidth\":0,\"ticks\":\"\"},\"colorscale\":[[0.0,\"#0d0887\"],[0.1111111111111111,\"#46039f\"],[0.2222222222222222,\"#7201a8\"],[0.3333333333333333,\"#9c179e\"],[0.4444444444444444,\"#bd3786\"],[0.5555555555555556,\"#d8576b\"],[0.6666666666666666,\"#ed7953\"],[0.7777777777777778,\"#fb9f3a\"],[0.8888888888888888,\"#fdca26\"],[1.0,\"#f0f921\"]],\"type\":\"histogram2d\"}],\"histogram2dcontour\":[{\"colorbar\":{\"outlinewidth\":0,\"ticks\":\"\"},\"colorscale\":[[0.0,\"#0d0887\"],[0.1111111111111111,\"#46039f\"],[0.2222222222222222,\"#7201a8\"],[0.3333333333333333,\"#9c179e\"],[0.4444444444444444,\"#bd3786\"],[0.5555555555555556,\"#d8576b\"],[0.6666666666666666,\"#ed7953\"],[0.7777777777777778,\"#fb9f3a\"],[0.8888888888888888,\"#fdca26\"],[1.0,\"#f0f921\"]],\"type\":\"histogram2dcontour\"}],\"mesh3d\":[{\"colorbar\":{\"outlinewidth\":0,\"ticks\":\"\"},\"type\":\"mesh3d\"}],\"parcoords\":[{\"line\":{\"colorbar\":{\"outlinewidth\":0,\"ticks\":\"\"}},\"type\":\"parcoords\"}],\"pie\":[{\"automargin\":true,\"type\":\"pie\"}],\"scatter\":[{\"marker\":{\"colorbar\":{\"outlinewidth\":0,\"ticks\":\"\"}},\"type\":\"scatter\"}],\"scatter3d\":[{\"line\":{\"colorbar\":{\"outlinewidth\":0,\"ticks\":\"\"}},\"marker\":{\"colorbar\":{\"outlinewidth\":0,\"ticks\":\"\"}},\"type\":\"scatter3d\"}],\"scattercarpet\":[{\"marker\":{\"colorbar\":{\"outlinewidth\":0,\"ticks\":\"\"}},\"type\":\"scattercarpet\"}],\"scattergeo\":[{\"marker\":{\"colorbar\":{\"outlinewidth\":0,\"ticks\":\"\"}},\"type\":\"scattergeo\"}],\"scattergl\":[{\"marker\":{\"colorbar\":{\"outlinewidth\":0,\"ticks\":\"\"}},\"type\":\"scattergl\"}],\"scattermapbox\":[{\"marker\":{\"colorbar\":{\"outlinewidth\":0,\"ticks\":\"\"}},\"type\":\"scattermapbox\"}],\"scatterpolar\":[{\"marker\":{\"colorbar\":{\"outlinewidth\":0,\"ticks\":\"\"}},\"type\":\"scatterpolar\"}],\"scatterpolargl\":[{\"marker\":{\"colorbar\":{\"outlinewidth\":0,\"ticks\":\"\"}},\"type\":\"scatterpolargl\"}],\"scatterternary\":[{\"marker\":{\"colorbar\":{\"outlinewidth\":0,\"ticks\":\"\"}},\"type\":\"scatterternary\"}],\"surface\":[{\"colorbar\":{\"outlinewidth\":0,\"ticks\":\"\"},\"colorscale\":[[0.0,\"#0d0887\"],[0.1111111111111111,\"#46039f\"],[0.2222222222222222,\"#7201a8\"],[0.3333333333333333,\"#9c179e\"],[0.4444444444444444,\"#bd3786\"],[0.5555555555555556,\"#d8576b\"],[0.6666666666666666,\"#ed7953\"],[0.7777777777777778,\"#fb9f3a\"],[0.8888888888888888,\"#fdca26\"],[1.0,\"#f0f921\"]],\"type\":\"surface\"}],\"table\":[{\"cells\":{\"fill\":{\"color\":\"#EBF0F8\"},\"line\":{\"color\":\"white\"}},\"header\":{\"fill\":{\"color\":\"#C8D4E3\"},\"line\":{\"color\":\"white\"}},\"type\":\"table\"}]},\"layout\":{\"annotationdefaults\":{\"arrowcolor\":\"#2a3f5f\",\"arrowhead\":0,\"arrowwidth\":1},\"autotypenumbers\":\"strict\",\"coloraxis\":{\"colorbar\":{\"outlinewidth\":0,\"ticks\":\"\"}},\"colorscale\":{\"diverging\":[[0,\"#8e0152\"],[0.1,\"#c51b7d\"],[0.2,\"#de77ae\"],[0.3,\"#f1b6da\"],[0.4,\"#fde0ef\"],[0.5,\"#f7f7f7\"],[0.6,\"#e6f5d0\"],[0.7,\"#b8e186\"],[0.8,\"#7fbc41\"],[0.9,\"#4d9221\"],[1,\"#276419\"]],\"sequential\":[[0.0,\"#0d0887\"],[0.1111111111111111,\"#46039f\"],[0.2222222222222222,\"#7201a8\"],[0.3333333333333333,\"#9c179e\"],[0.4444444444444444,\"#bd3786\"],[0.5555555555555556,\"#d8576b\"],[0.6666666666666666,\"#ed7953\"],[0.7777777777777778,\"#fb9f3a\"],[0.8888888888888888,\"#fdca26\"],[1.0,\"#f0f921\"]],\"sequentialminus\":[[0.0,\"#0d0887\"],[0.1111111111111111,\"#46039f\"],[0.2222222222222222,\"#7201a8\"],[0.3333333333333333,\"#9c179e\"],[0.4444444444444444,\"#bd3786\"],[0.5555555555555556,\"#d8576b\"],[0.6666666666666666,\"#ed7953\"],[0.7777777777777778,\"#fb9f3a\"],[0.8888888888888888,\"#fdca26\"],[1.0,\"#f0f921\"]]},\"colorway\":[\"#636efa\",\"#EF553B\",\"#00cc96\",\"#ab63fa\",\"#FFA15A\",\"#19d3f3\",\"#FF6692\",\"#B6E880\",\"#FF97FF\",\"#FECB52\"],\"font\":{\"color\":\"#2a3f5f\"},\"geo\":{\"bgcolor\":\"white\",\"lakecolor\":\"white\",\"landcolor\":\"#E5ECF6\",\"showlakes\":true,\"showland\":true,\"subunitcolor\":\"white\"},\"hoverlabel\":{\"align\":\"left\"},\"hovermode\":\"closest\",\"mapbox\":{\"style\":\"light\"},\"paper_bgcolor\":\"white\",\"plot_bgcolor\":\"#E5ECF6\",\"polar\":{\"angularaxis\":{\"gridcolor\":\"white\",\"linecolor\":\"white\",\"ticks\":\"\"},\"bgcolor\":\"#E5ECF6\",\"radialaxis\":{\"gridcolor\":\"white\",\"linecolor\":\"white\",\"ticks\":\"\"}},\"scene\":{\"xaxis\":{\"backgroundcolor\":\"#E5ECF6\",\"gridcolor\":\"white\",\"gridwidth\":2,\"linecolor\":\"white\",\"showbackground\":true,\"ticks\":\"\",\"zerolinecolor\":\"white\"},\"yaxis\":{\"backgroundcolor\":\"#E5ECF6\",\"gridcolor\":\"white\",\"gridwidth\":2,\"linecolor\":\"white\",\"showbackground\":true,\"ticks\":\"\",\"zerolinecolor\":\"white\"},\"zaxis\":{\"backgroundcolor\":\"#E5ECF6\",\"gridcolor\":\"white\",\"gridwidth\":2,\"linecolor\":\"white\",\"showbackground\":true,\"ticks\":\"\",\"zerolinecolor\":\"white\"}},\"shapedefaults\":{\"line\":{\"color\":\"#2a3f5f\"}},\"ternary\":{\"aaxis\":{\"gridcolor\":\"white\",\"linecolor\":\"white\",\"ticks\":\"\"},\"baxis\":{\"gridcolor\":\"white\",\"linecolor\":\"white\",\"ticks\":\"\"},\"bgcolor\":\"#E5ECF6\",\"caxis\":{\"gridcolor\":\"white\",\"linecolor\":\"white\",\"ticks\":\"\"}},\"title\":{\"x\":0.05},\"xaxis\":{\"automargin\":true,\"gridcolor\":\"white\",\"linecolor\":\"white\",\"ticks\":\"\",\"title\":{\"standoff\":15},\"zerolinecolor\":\"white\",\"zerolinewidth\":2},\"yaxis\":{\"automargin\":true,\"gridcolor\":\"white\",\"linecolor\":\"white\",\"ticks\":\"\",\"title\":{\"standoff\":15},\"zerolinecolor\":\"white\",\"zerolinewidth\":2}}},\"xaxis\":{\"anchor\":\"y\",\"domain\":[0.0,1.0],\"title\":{\"text\":\"income\"}},\"yaxis\":{\"anchor\":\"x\",\"domain\":[0.0,1.0],\"title\":{\"text\":\"EV_sale\"}},\"legend\":{\"tracegroupgap\":0},\"margin\":{\"t\":60},\"title\":{\"text\":\"income vs EV_sales\"},\"width\":1700,\"height\":800},                        {\"responsive\": true}                    ).then(function(){\n",
       "                            \n",
       "var gd = document.getElementById('10eadb7c-3898-40b8-afed-39ca4903b324');\n",
       "var x = new MutationObserver(function (mutations, observer) {{\n",
       "        var display = window.getComputedStyle(gd).display;\n",
       "        if (!display || display === 'none') {{\n",
       "            console.log([gd, 'removed!']);\n",
       "            Plotly.purge(gd);\n",
       "            observer.disconnect();\n",
       "        }}\n",
       "}});\n",
       "\n",
       "// Listen for the removal of the full notebook cells\n",
       "var notebookContainer = gd.closest('#notebook-container');\n",
       "if (notebookContainer) {{\n",
       "    x.observe(notebookContainer, {childList: true});\n",
       "}}\n",
       "\n",
       "// Listen for the clearing of the current output cell\n",
       "var outputEl = gd.closest('.output');\n",
       "if (outputEl) {{\n",
       "    x.observe(outputEl, {childList: true});\n",
       "}}\n",
       "\n",
       "                        })                };                });            </script>        </div>"
      ]
     },
     "metadata": {},
     "output_type": "display_data"
    }
   ],
   "source": [
    "fig = px.scatter(new, x=new['income'], y=new['EV_sale'],trendline='ols')\n",
    "fig.layout.update(\n",
    "    width=1700,\n",
    "    height=800,\n",
    "    title_text = 'income vs EV_sales')\n",
    "fig.show()"
   ]
  },
  {
   "cell_type": "markdown",
   "id": "4bdc8305-b3a1-4662-b973-bf1df56d641a",
   "metadata": {},
   "source": [
    "## Conclusion"
   ]
  },
  {
   "cell_type": "markdown",
   "id": "2fb0db66-3422-437f-8ac6-09d6ce1e0240",
   "metadata": {},
   "source": [
    "GDP and income are directly proportional. and they both proportional to EV sales"
   ]
  },
  {
   "cell_type": "code",
   "execution_count": null,
   "id": "71d2d0e6-3528-4456-878e-7298b944372c",
   "metadata": {},
   "outputs": [],
   "source": []
  }
 ],
 "metadata": {
  "kernelspec": {
   "display_name": "Python 3 (ipykernel)",
   "language": "python",
   "name": "python3"
  },
  "language_info": {
   "codemirror_mode": {
    "name": "ipython",
    "version": 3
   },
   "file_extension": ".py",
   "mimetype": "text/x-python",
   "name": "python",
   "nbconvert_exporter": "python",
   "pygments_lexer": "ipython3",
   "version": "3.9.7"
  }
 },
 "nbformat": 4,
 "nbformat_minor": 5
}
