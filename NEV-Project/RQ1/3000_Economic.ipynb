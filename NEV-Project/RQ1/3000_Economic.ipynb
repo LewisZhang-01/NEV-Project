{
 "cells": [
  {
   "cell_type": "markdown",
   "id": "441ccfef-03c1-4235-8838-6da416ee89f3",
   "metadata": {},
   "source": [
    "# Economic vs EV sales"
   ]
  },
  {
   "cell_type": "markdown",
   "id": "a52f3379-0bd3-47b0-aecc-42460ea5caba",
   "metadata": {},
   "source": [
    "In this NoteBook, the economic impact of new energy vehicles is discussed, including GDP, and income."
   ]
  },
  {
   "cell_type": "code",
   "execution_count": 1,
   "id": "35cebb1f-f256-4bc6-9bb4-fd7d4ee26a1a",
   "metadata": {},
   "outputs": [],
   "source": [
    "import pandas as pd\n",
    "import matplotlib.pylab as plt\n",
    "import plotly.graph_objs as go\n",
    "import plotly.express as px\n",
    "import matplotlib\n",
    "import numpy as np\n",
    "from matplotlib.pyplot import figure\n",
    "from plotly.subplots import make_subplots"
   ]
  },
  {
   "cell_type": "markdown",
   "id": "d3bcf104-e6e9-41f3-8a9c-e11b7fb0d3f6",
   "metadata": {},
   "source": [
    "## Parameters "
   ]
  },
  {
   "cell_type": "code",
   "execution_count": 2,
   "id": "1ff74afe-baed-4388-bef7-4ba0c9512637",
   "metadata": {},
   "outputs": [],
   "source": [
    "EV_SALE_DATASET = '../Processed_Data/Ev_sales_per_capita.csv'\n",
    "GDP_DATASET = '../Processed_Data/GDP_per_capita.csv'\n",
    "INCOME_DATASET = '../Processed_Data/incomes.csv'\n",
    "POPULATION_DATASET = '../Processed_Data/population.csv'"
   ]
  },
  {
   "cell_type": "markdown",
   "id": "79082f90-756d-4fc2-9bfa-340d476d699a",
   "metadata": {
    "tags": []
   },
   "source": [
    "# Load Datasets\n",
    "## Load the EV sales dataset"
   ]
  },
  {
   "cell_type": "code",
   "execution_count": 3,
   "id": "65a0e6c5-1d44-4402-a057-08ad848c55fa",
   "metadata": {},
   "outputs": [
    {
     "name": "stdout",
     "output_type": "stream",
     "text": [
      "(51, 4)\n"
     ]
    },
    {
     "data": {
      "text/html": [
       "<div>\n",
       "<style scoped>\n",
       "    .dataframe tbody tr th:only-of-type {\n",
       "        vertical-align: middle;\n",
       "    }\n",
       "\n",
       "    .dataframe tbody tr th {\n",
       "        vertical-align: top;\n",
       "    }\n",
       "\n",
       "    .dataframe thead th {\n",
       "        text-align: right;\n",
       "    }\n",
       "</style>\n",
       "<table border=\"1\" class=\"dataframe\">\n",
       "  <thead>\n",
       "    <tr style=\"text-align: right;\">\n",
       "      <th></th>\n",
       "      <th>2016</th>\n",
       "      <th>2017</th>\n",
       "      <th>2018</th>\n",
       "      <th>2019</th>\n",
       "    </tr>\n",
       "    <tr>\n",
       "      <th>Unnamed: 0</th>\n",
       "      <th></th>\n",
       "      <th></th>\n",
       "      <th></th>\n",
       "      <th></th>\n",
       "    </tr>\n",
       "  </thead>\n",
       "  <tbody>\n",
       "    <tr>\n",
       "      <th>Alabama</th>\n",
       "      <td>0.000067</td>\n",
       "      <td>0.000077</td>\n",
       "      <td>0.000174</td>\n",
       "      <td>0.000201</td>\n",
       "    </tr>\n",
       "    <tr>\n",
       "      <th>Alaska</th>\n",
       "      <td>0.000126</td>\n",
       "      <td>0.000115</td>\n",
       "      <td>0.000210</td>\n",
       "      <td>0.000195</td>\n",
       "    </tr>\n",
       "    <tr>\n",
       "      <th>Arizona</th>\n",
       "      <td>0.000333</td>\n",
       "      <td>0.000433</td>\n",
       "      <td>0.001017</td>\n",
       "      <td>0.001074</td>\n",
       "    </tr>\n",
       "    <tr>\n",
       "      <th>Arkansas</th>\n",
       "      <td>0.000046</td>\n",
       "      <td>0.000063</td>\n",
       "      <td>0.000145</td>\n",
       "      <td>0.000179</td>\n",
       "    </tr>\n",
       "    <tr>\n",
       "      <th>California</th>\n",
       "      <td>0.001883</td>\n",
       "      <td>0.002406</td>\n",
       "      <td>0.003881</td>\n",
       "      <td>0.003667</td>\n",
       "    </tr>\n",
       "  </tbody>\n",
       "</table>\n",
       "</div>"
      ],
      "text/plain": [
       "                2016      2017      2018      2019\n",
       "Unnamed: 0                                        \n",
       "Alabama     0.000067  0.000077  0.000174  0.000201\n",
       "Alaska      0.000126  0.000115  0.000210  0.000195\n",
       "Arizona     0.000333  0.000433  0.001017  0.001074\n",
       "Arkansas    0.000046  0.000063  0.000145  0.000179\n",
       "California  0.001883  0.002406  0.003881  0.003667"
      ]
     },
     "execution_count": 3,
     "metadata": {},
     "output_type": "execute_result"
    }
   ],
   "source": [
    "df_EV = pd.read_csv(EV_SALE_DATASET).set_index(\"Unnamed: 0\")\n",
    "print(df_EV.shape)\n",
    "df_EV.head()"
   ]
  },
  {
   "cell_type": "markdown",
   "id": "f5df1e04-b252-4d03-b023-30dfaa11e8e1",
   "metadata": {},
   "source": [
    "## Load the GDP dataset"
   ]
  },
  {
   "cell_type": "code",
   "execution_count": 4,
   "id": "7401883d-2238-4c4e-b166-735f36a8b9ab",
   "metadata": {},
   "outputs": [
    {
     "name": "stdout",
     "output_type": "stream",
     "text": [
      "(51, 25)\n"
     ]
    },
    {
     "data": {
      "text/html": [
       "<div>\n",
       "<style scoped>\n",
       "    .dataframe tbody tr th:only-of-type {\n",
       "        vertical-align: middle;\n",
       "    }\n",
       "\n",
       "    .dataframe tbody tr th {\n",
       "        vertical-align: top;\n",
       "    }\n",
       "\n",
       "    .dataframe thead th {\n",
       "        text-align: right;\n",
       "    }\n",
       "</style>\n",
       "<table border=\"1\" class=\"dataframe\">\n",
       "  <thead>\n",
       "    <tr style=\"text-align: right;\">\n",
       "      <th></th>\n",
       "      <th>1997</th>\n",
       "      <th>1998</th>\n",
       "      <th>1999</th>\n",
       "      <th>2000</th>\n",
       "      <th>2001</th>\n",
       "      <th>2002</th>\n",
       "      <th>2003</th>\n",
       "      <th>2004</th>\n",
       "      <th>2005</th>\n",
       "      <th>2006</th>\n",
       "      <th>...</th>\n",
       "      <th>2012</th>\n",
       "      <th>2013</th>\n",
       "      <th>2014</th>\n",
       "      <th>2015</th>\n",
       "      <th>2016</th>\n",
       "      <th>2017</th>\n",
       "      <th>2018</th>\n",
       "      <th>2019</th>\n",
       "      <th>2020</th>\n",
       "      <th>2021</th>\n",
       "    </tr>\n",
       "    <tr>\n",
       "      <th>GeoName</th>\n",
       "      <th></th>\n",
       "      <th></th>\n",
       "      <th></th>\n",
       "      <th></th>\n",
       "      <th></th>\n",
       "      <th></th>\n",
       "      <th></th>\n",
       "      <th></th>\n",
       "      <th></th>\n",
       "      <th></th>\n",
       "      <th></th>\n",
       "      <th></th>\n",
       "      <th></th>\n",
       "      <th></th>\n",
       "      <th></th>\n",
       "      <th></th>\n",
       "      <th></th>\n",
       "      <th></th>\n",
       "      <th></th>\n",
       "      <th></th>\n",
       "      <th></th>\n",
       "    </tr>\n",
       "  </thead>\n",
       "  <tbody>\n",
       "    <tr>\n",
       "      <th>Alabama</th>\n",
       "      <td>33082.27</td>\n",
       "      <td>33956.49</td>\n",
       "      <td>34965.07</td>\n",
       "      <td>35313.39</td>\n",
       "      <td>35108.78</td>\n",
       "      <td>35807.86</td>\n",
       "      <td>36668.15</td>\n",
       "      <td>38983.79</td>\n",
       "      <td>40345.16</td>\n",
       "      <td>40456.16</td>\n",
       "      <td>...</td>\n",
       "      <td>39106.28</td>\n",
       "      <td>39340.89</td>\n",
       "      <td>38857.04</td>\n",
       "      <td>38983.07</td>\n",
       "      <td>39403.72</td>\n",
       "      <td>39894.70</td>\n",
       "      <td>40350.68</td>\n",
       "      <td>40648.99</td>\n",
       "      <td>39186.83</td>\n",
       "      <td>40652.70</td>\n",
       "    </tr>\n",
       "    <tr>\n",
       "      <th>Alaska</th>\n",
       "      <td>68863.79</td>\n",
       "      <td>66290.98</td>\n",
       "      <td>64967.77</td>\n",
       "      <td>62753.06</td>\n",
       "      <td>64632.78</td>\n",
       "      <td>66910.36</td>\n",
       "      <td>65321.38</td>\n",
       "      <td>66822.29</td>\n",
       "      <td>68456.97</td>\n",
       "      <td>72841.78</td>\n",
       "      <td>...</td>\n",
       "      <td>79719.77</td>\n",
       "      <td>75000.03</td>\n",
       "      <td>73461.78</td>\n",
       "      <td>74061.43</td>\n",
       "      <td>72969.96</td>\n",
       "      <td>72955.82</td>\n",
       "      <td>72181.61</td>\n",
       "      <td>72584.15</td>\n",
       "      <td>68484.70</td>\n",
       "      <td>68653.14</td>\n",
       "    </tr>\n",
       "    <tr>\n",
       "      <th>Arizona</th>\n",
       "      <td>35551.86</td>\n",
       "      <td>37486.73</td>\n",
       "      <td>39551.53</td>\n",
       "      <td>40390.66</td>\n",
       "      <td>40422.32</td>\n",
       "      <td>40898.12</td>\n",
       "      <td>42477.39</td>\n",
       "      <td>43223.61</td>\n",
       "      <td>44925.94</td>\n",
       "      <td>45475.70</td>\n",
       "      <td>...</td>\n",
       "      <td>41712.83</td>\n",
       "      <td>41668.89</td>\n",
       "      <td>41720.51</td>\n",
       "      <td>42085.67</td>\n",
       "      <td>42824.57</td>\n",
       "      <td>43962.63</td>\n",
       "      <td>44995.87</td>\n",
       "      <td>45809.18</td>\n",
       "      <td>44657.46</td>\n",
       "      <td>46373.01</td>\n",
       "    </tr>\n",
       "    <tr>\n",
       "      <th>Arkansas</th>\n",
       "      <td>31744.88</td>\n",
       "      <td>32201.64</td>\n",
       "      <td>33604.79</td>\n",
       "      <td>33551.89</td>\n",
       "      <td>33359.33</td>\n",
       "      <td>34350.70</td>\n",
       "      <td>35578.37</td>\n",
       "      <td>36998.26</td>\n",
       "      <td>38107.26</td>\n",
       "      <td>38437.20</td>\n",
       "      <td>...</td>\n",
       "      <td>36790.86</td>\n",
       "      <td>37483.66</td>\n",
       "      <td>37732.96</td>\n",
       "      <td>37824.14</td>\n",
       "      <td>37844.07</td>\n",
       "      <td>38078.49</td>\n",
       "      <td>38681.05</td>\n",
       "      <td>38875.25</td>\n",
       "      <td>38158.91</td>\n",
       "      <td>39892.55</td>\n",
       "    </tr>\n",
       "    <tr>\n",
       "      <th>California</th>\n",
       "      <td>42426.77</td>\n",
       "      <td>44523.62</td>\n",
       "      <td>46995.32</td>\n",
       "      <td>49905.07</td>\n",
       "      <td>49082.10</td>\n",
       "      <td>49395.79</td>\n",
       "      <td>50775.55</td>\n",
       "      <td>52028.86</td>\n",
       "      <td>53780.43</td>\n",
       "      <td>55590.52</td>\n",
       "      <td>...</td>\n",
       "      <td>55651.20</td>\n",
       "      <td>56911.77</td>\n",
       "      <td>58392.12</td>\n",
       "      <td>60500.17</td>\n",
       "      <td>61899.44</td>\n",
       "      <td>64472.52</td>\n",
       "      <td>66865.20</td>\n",
       "      <td>69266.30</td>\n",
       "      <td>67435.03</td>\n",
       "      <td>73179.98</td>\n",
       "    </tr>\n",
       "  </tbody>\n",
       "</table>\n",
       "<p>5 rows × 25 columns</p>\n",
       "</div>"
      ],
      "text/plain": [
       "                1997      1998      1999      2000      2001      2002  \\\n",
       "GeoName                                                                  \n",
       "Alabama     33082.27  33956.49  34965.07  35313.39  35108.78  35807.86   \n",
       "Alaska      68863.79  66290.98  64967.77  62753.06  64632.78  66910.36   \n",
       "Arizona     35551.86  37486.73  39551.53  40390.66  40422.32  40898.12   \n",
       "Arkansas    31744.88  32201.64  33604.79  33551.89  33359.33  34350.70   \n",
       "California  42426.77  44523.62  46995.32  49905.07  49082.10  49395.79   \n",
       "\n",
       "                2003      2004      2005      2006  ...      2012      2013  \\\n",
       "GeoName                                             ...                       \n",
       "Alabama     36668.15  38983.79  40345.16  40456.16  ...  39106.28  39340.89   \n",
       "Alaska      65321.38  66822.29  68456.97  72841.78  ...  79719.77  75000.03   \n",
       "Arizona     42477.39  43223.61  44925.94  45475.70  ...  41712.83  41668.89   \n",
       "Arkansas    35578.37  36998.26  38107.26  38437.20  ...  36790.86  37483.66   \n",
       "California  50775.55  52028.86  53780.43  55590.52  ...  55651.20  56911.77   \n",
       "\n",
       "                2014      2015      2016      2017      2018      2019  \\\n",
       "GeoName                                                                  \n",
       "Alabama     38857.04  38983.07  39403.72  39894.70  40350.68  40648.99   \n",
       "Alaska      73461.78  74061.43  72969.96  72955.82  72181.61  72584.15   \n",
       "Arizona     41720.51  42085.67  42824.57  43962.63  44995.87  45809.18   \n",
       "Arkansas    37732.96  37824.14  37844.07  38078.49  38681.05  38875.25   \n",
       "California  58392.12  60500.17  61899.44  64472.52  66865.20  69266.30   \n",
       "\n",
       "                2020      2021  \n",
       "GeoName                         \n",
       "Alabama     39186.83  40652.70  \n",
       "Alaska      68484.70  68653.14  \n",
       "Arizona     44657.46  46373.01  \n",
       "Arkansas    38158.91  39892.55  \n",
       "California  67435.03  73179.98  \n",
       "\n",
       "[5 rows x 25 columns]"
      ]
     },
     "execution_count": 4,
     "metadata": {},
     "output_type": "execute_result"
    }
   ],
   "source": [
    "df_GDP = pd.read_csv(GDP_DATASET).sort_values('GeoName').set_index('GeoName')\n",
    "print(df_GDP.shape)\n",
    "df_GDP.head()"
   ]
  },
  {
   "cell_type": "markdown",
   "id": "7c6780ef-cd32-4b55-8a36-4790e816535d",
   "metadata": {},
   "source": [
    "## Load the income dataset"
   ]
  },
  {
   "cell_type": "code",
   "execution_count": 5,
   "id": "a084f8f3-c2e1-4541-8c96-e00abdbaebc7",
   "metadata": {},
   "outputs": [
    {
     "name": "stdout",
     "output_type": "stream",
     "text": [
      "(51, 42)\n"
     ]
    },
    {
     "data": {
      "text/html": [
       "<div>\n",
       "<style scoped>\n",
       "    .dataframe tbody tr th:only-of-type {\n",
       "        vertical-align: middle;\n",
       "    }\n",
       "\n",
       "    .dataframe tbody tr th {\n",
       "        vertical-align: top;\n",
       "    }\n",
       "\n",
       "    .dataframe thead th {\n",
       "        text-align: right;\n",
       "    }\n",
       "</style>\n",
       "<table border=\"1\" class=\"dataframe\">\n",
       "  <thead>\n",
       "    <tr style=\"text-align: right;\">\n",
       "      <th></th>\n",
       "      <th>1980</th>\n",
       "      <th>1981</th>\n",
       "      <th>1982</th>\n",
       "      <th>1983</th>\n",
       "      <th>1984</th>\n",
       "      <th>1985</th>\n",
       "      <th>1986</th>\n",
       "      <th>1987</th>\n",
       "      <th>1988</th>\n",
       "      <th>1989</th>\n",
       "      <th>...</th>\n",
       "      <th>2012</th>\n",
       "      <th>2013</th>\n",
       "      <th>2014</th>\n",
       "      <th>2015</th>\n",
       "      <th>2016</th>\n",
       "      <th>2017</th>\n",
       "      <th>2018</th>\n",
       "      <th>2019</th>\n",
       "      <th>2020</th>\n",
       "      <th>2021</th>\n",
       "    </tr>\n",
       "    <tr>\n",
       "      <th>GeoName</th>\n",
       "      <th></th>\n",
       "      <th></th>\n",
       "      <th></th>\n",
       "      <th></th>\n",
       "      <th></th>\n",
       "      <th></th>\n",
       "      <th></th>\n",
       "      <th></th>\n",
       "      <th></th>\n",
       "      <th></th>\n",
       "      <th></th>\n",
       "      <th></th>\n",
       "      <th></th>\n",
       "      <th></th>\n",
       "      <th></th>\n",
       "      <th></th>\n",
       "      <th></th>\n",
       "      <th></th>\n",
       "      <th></th>\n",
       "      <th></th>\n",
       "      <th></th>\n",
       "    </tr>\n",
       "  </thead>\n",
       "  <tbody>\n",
       "    <tr>\n",
       "      <th>Alabama</th>\n",
       "      <td>7957</td>\n",
       "      <td>8796</td>\n",
       "      <td>9272</td>\n",
       "      <td>9906</td>\n",
       "      <td>10848</td>\n",
       "      <td>11604</td>\n",
       "      <td>12223</td>\n",
       "      <td>12864</td>\n",
       "      <td>13807</td>\n",
       "      <td>14986</td>\n",
       "      <td>...</td>\n",
       "      <td>35824</td>\n",
       "      <td>36014</td>\n",
       "      <td>37055</td>\n",
       "      <td>38531</td>\n",
       "      <td>39014</td>\n",
       "      <td>40252</td>\n",
       "      <td>41607</td>\n",
       "      <td>43157</td>\n",
       "      <td>45524</td>\n",
       "      <td>48608</td>\n",
       "    </tr>\n",
       "    <tr>\n",
       "      <th>Alaska</th>\n",
       "      <td>15507</td>\n",
       "      <td>17091</td>\n",
       "      <td>19424</td>\n",
       "      <td>19478</td>\n",
       "      <td>19701</td>\n",
       "      <td>20593</td>\n",
       "      <td>20331</td>\n",
       "      <td>19688</td>\n",
       "      <td>20420</td>\n",
       "      <td>22133</td>\n",
       "      <td>...</td>\n",
       "      <td>53708</td>\n",
       "      <td>52812</td>\n",
       "      <td>55867</td>\n",
       "      <td>57575</td>\n",
       "      <td>56278</td>\n",
       "      <td>57278</td>\n",
       "      <td>59783</td>\n",
       "      <td>61639</td>\n",
       "      <td>63391</td>\n",
       "      <td>67138</td>\n",
       "    </tr>\n",
       "    <tr>\n",
       "      <th>Arizona</th>\n",
       "      <td>9671</td>\n",
       "      <td>10764</td>\n",
       "      <td>11141</td>\n",
       "      <td>11941</td>\n",
       "      <td>13060</td>\n",
       "      <td>14000</td>\n",
       "      <td>14733</td>\n",
       "      <td>15280</td>\n",
       "      <td>16044</td>\n",
       "      <td>16803</td>\n",
       "      <td>...</td>\n",
       "      <td>36545</td>\n",
       "      <td>37139</td>\n",
       "      <td>38756</td>\n",
       "      <td>40334</td>\n",
       "      <td>41473</td>\n",
       "      <td>43301</td>\n",
       "      <td>45299</td>\n",
       "      <td>47242</td>\n",
       "      <td>51332</td>\n",
       "      <td>54301</td>\n",
       "    </tr>\n",
       "    <tr>\n",
       "      <th>Arkansas</th>\n",
       "      <td>7597</td>\n",
       "      <td>8592</td>\n",
       "      <td>9024</td>\n",
       "      <td>9513</td>\n",
       "      <td>10543</td>\n",
       "      <td>11165</td>\n",
       "      <td>11708</td>\n",
       "      <td>12139</td>\n",
       "      <td>13022</td>\n",
       "      <td>13946</td>\n",
       "      <td>...</td>\n",
       "      <td>36582</td>\n",
       "      <td>36677</td>\n",
       "      <td>38749</td>\n",
       "      <td>39968</td>\n",
       "      <td>40873</td>\n",
       "      <td>42056</td>\n",
       "      <td>43661</td>\n",
       "      <td>45037</td>\n",
       "      <td>47522</td>\n",
       "      <td>51148</td>\n",
       "    </tr>\n",
       "    <tr>\n",
       "      <th>California</th>\n",
       "      <td>11945</td>\n",
       "      <td>13158</td>\n",
       "      <td>13793</td>\n",
       "      <td>14582</td>\n",
       "      <td>15895</td>\n",
       "      <td>16795</td>\n",
       "      <td>17588</td>\n",
       "      <td>18482</td>\n",
       "      <td>19605</td>\n",
       "      <td>20561</td>\n",
       "      <td>...</td>\n",
       "      <td>48121</td>\n",
       "      <td>48502</td>\n",
       "      <td>51266</td>\n",
       "      <td>54546</td>\n",
       "      <td>56560</td>\n",
       "      <td>58813</td>\n",
       "      <td>61509</td>\n",
       "      <td>64333</td>\n",
       "      <td>69958</td>\n",
       "      <td>76386</td>\n",
       "    </tr>\n",
       "  </tbody>\n",
       "</table>\n",
       "<p>5 rows × 42 columns</p>\n",
       "</div>"
      ],
      "text/plain": [
       "             1980   1981   1982   1983   1984   1985   1986   1987   1988  \\\n",
       "GeoName                                                                     \n",
       "Alabama      7957   8796   9272   9906  10848  11604  12223  12864  13807   \n",
       "Alaska      15507  17091  19424  19478  19701  20593  20331  19688  20420   \n",
       "Arizona      9671  10764  11141  11941  13060  14000  14733  15280  16044   \n",
       "Arkansas     7597   8592   9024   9513  10543  11165  11708  12139  13022   \n",
       "California  11945  13158  13793  14582  15895  16795  17588  18482  19605   \n",
       "\n",
       "             1989  ...   2012   2013   2014   2015   2016   2017   2018  \\\n",
       "GeoName            ...                                                    \n",
       "Alabama     14986  ...  35824  36014  37055  38531  39014  40252  41607   \n",
       "Alaska      22133  ...  53708  52812  55867  57575  56278  57278  59783   \n",
       "Arizona     16803  ...  36545  37139  38756  40334  41473  43301  45299   \n",
       "Arkansas    13946  ...  36582  36677  38749  39968  40873  42056  43661   \n",
       "California  20561  ...  48121  48502  51266  54546  56560  58813  61509   \n",
       "\n",
       "             2019   2020   2021  \n",
       "GeoName                          \n",
       "Alabama     43157  45524  48608  \n",
       "Alaska      61639  63391  67138  \n",
       "Arizona     47242  51332  54301  \n",
       "Arkansas    45037  47522  51148  \n",
       "California  64333  69958  76386  \n",
       "\n",
       "[5 rows x 42 columns]"
      ]
     },
     "execution_count": 5,
     "metadata": {},
     "output_type": "execute_result"
    }
   ],
   "source": [
    "df_Income = pd.read_csv(INCOME_DATASET).sort_values('GeoName').set_index(\"GeoName\")\n",
    "print(df_Income.shape)\n",
    "df_Income.head()"
   ]
  },
  {
   "cell_type": "markdown",
   "id": "4842d39a-c13c-4ebc-8fd0-f2dd0432b5f8",
   "metadata": {},
   "source": [
    "## Load the population dataset"
   ]
  },
  {
   "cell_type": "code",
   "execution_count": 6,
   "id": "8278f341-2862-4261-b23c-0b0aed81a6f6",
   "metadata": {},
   "outputs": [
    {
     "name": "stdout",
     "output_type": "stream",
     "text": [
      "(51, 72)\n"
     ]
    },
    {
     "data": {
      "text/html": [
       "<div>\n",
       "<style scoped>\n",
       "    .dataframe tbody tr th:only-of-type {\n",
       "        vertical-align: middle;\n",
       "    }\n",
       "\n",
       "    .dataframe tbody tr th {\n",
       "        vertical-align: top;\n",
       "    }\n",
       "\n",
       "    .dataframe thead th {\n",
       "        text-align: right;\n",
       "    }\n",
       "</style>\n",
       "<table border=\"1\" class=\"dataframe\">\n",
       "  <thead>\n",
       "    <tr style=\"text-align: right;\">\n",
       "      <th></th>\n",
       "      <th>1950</th>\n",
       "      <th>1951</th>\n",
       "      <th>1952</th>\n",
       "      <th>1953</th>\n",
       "      <th>1954</th>\n",
       "      <th>1955</th>\n",
       "      <th>1956</th>\n",
       "      <th>1957</th>\n",
       "      <th>1958</th>\n",
       "      <th>1959</th>\n",
       "      <th>...</th>\n",
       "      <th>2012</th>\n",
       "      <th>2013</th>\n",
       "      <th>2014</th>\n",
       "      <th>2015</th>\n",
       "      <th>2016</th>\n",
       "      <th>2017</th>\n",
       "      <th>2018</th>\n",
       "      <th>2019</th>\n",
       "      <th>2020</th>\n",
       "      <th>2021</th>\n",
       "    </tr>\n",
       "    <tr>\n",
       "      <th>GeoName</th>\n",
       "      <th></th>\n",
       "      <th></th>\n",
       "      <th></th>\n",
       "      <th></th>\n",
       "      <th></th>\n",
       "      <th></th>\n",
       "      <th></th>\n",
       "      <th></th>\n",
       "      <th></th>\n",
       "      <th></th>\n",
       "      <th></th>\n",
       "      <th></th>\n",
       "      <th></th>\n",
       "      <th></th>\n",
       "      <th></th>\n",
       "      <th></th>\n",
       "      <th></th>\n",
       "      <th></th>\n",
       "      <th></th>\n",
       "      <th></th>\n",
       "      <th></th>\n",
       "    </tr>\n",
       "  </thead>\n",
       "  <tbody>\n",
       "    <tr>\n",
       "      <th>Alabama</th>\n",
       "      <td>3058000</td>\n",
       "      <td>3059000</td>\n",
       "      <td>3068000</td>\n",
       "      <td>3053000</td>\n",
       "      <td>3014000</td>\n",
       "      <td>3050000</td>\n",
       "      <td>3071000</td>\n",
       "      <td>3109000</td>\n",
       "      <td>3163000</td>\n",
       "      <td>3204000</td>\n",
       "      <td>...</td>\n",
       "      <td>4839261</td>\n",
       "      <td>4864399</td>\n",
       "      <td>4886793</td>\n",
       "      <td>4908162</td>\n",
       "      <td>4930595</td>\n",
       "      <td>4952202</td>\n",
       "      <td>4976395</td>\n",
       "      <td>5003418</td>\n",
       "      <td>5024803</td>\n",
       "      <td>5039877</td>\n",
       "    </tr>\n",
       "    <tr>\n",
       "      <th>Alaska</th>\n",
       "      <td>135000</td>\n",
       "      <td>158000</td>\n",
       "      <td>189000</td>\n",
       "      <td>205000</td>\n",
       "      <td>215000</td>\n",
       "      <td>222000</td>\n",
       "      <td>224000</td>\n",
       "      <td>231000</td>\n",
       "      <td>224000</td>\n",
       "      <td>224000</td>\n",
       "      <td>...</td>\n",
       "      <td>731106</td>\n",
       "      <td>738057</td>\n",
       "      <td>737638</td>\n",
       "      <td>739127</td>\n",
       "      <td>743410</td>\n",
       "      <td>741949</td>\n",
       "      <td>737717</td>\n",
       "      <td>734823</td>\n",
       "      <td>732441</td>\n",
       "      <td>732673</td>\n",
       "    </tr>\n",
       "    <tr>\n",
       "      <th>Arizona</th>\n",
       "      <td>756000</td>\n",
       "      <td>785000</td>\n",
       "      <td>842000</td>\n",
       "      <td>894000</td>\n",
       "      <td>933000</td>\n",
       "      <td>987000</td>\n",
       "      <td>1053000</td>\n",
       "      <td>1125000</td>\n",
       "      <td>1193000</td>\n",
       "      <td>1261000</td>\n",
       "      <td>...</td>\n",
       "      <td>6507351</td>\n",
       "      <td>6563216</td>\n",
       "      <td>6638196</td>\n",
       "      <td>6714328</td>\n",
       "      <td>6801591</td>\n",
       "      <td>6879830</td>\n",
       "      <td>6969944</td>\n",
       "      <td>7070511</td>\n",
       "      <td>7177986</td>\n",
       "      <td>7276316</td>\n",
       "    </tr>\n",
       "    <tr>\n",
       "      <th>Arkansas</th>\n",
       "      <td>1908000</td>\n",
       "      <td>1901000</td>\n",
       "      <td>1838000</td>\n",
       "      <td>1780000</td>\n",
       "      <td>1734000</td>\n",
       "      <td>1725000</td>\n",
       "      <td>1704000</td>\n",
       "      <td>1733000</td>\n",
       "      <td>1726000</td>\n",
       "      <td>1756000</td>\n",
       "      <td>...</td>\n",
       "      <td>2948887</td>\n",
       "      <td>2954685</td>\n",
       "      <td>2961191</td>\n",
       "      <td>2970352</td>\n",
       "      <td>2980602</td>\n",
       "      <td>2990801</td>\n",
       "      <td>2997271</td>\n",
       "      <td>3004248</td>\n",
       "      <td>3012232</td>\n",
       "      <td>3025891</td>\n",
       "    </tr>\n",
       "    <tr>\n",
       "      <th>California</th>\n",
       "      <td>10677000</td>\n",
       "      <td>11134000</td>\n",
       "      <td>11635000</td>\n",
       "      <td>12251000</td>\n",
       "      <td>12746000</td>\n",
       "      <td>13133000</td>\n",
       "      <td>13713000</td>\n",
       "      <td>14264000</td>\n",
       "      <td>14880000</td>\n",
       "      <td>15467000</td>\n",
       "      <td>...</td>\n",
       "      <td>37970368</td>\n",
       "      <td>38291358</td>\n",
       "      <td>38636290</td>\n",
       "      <td>38966055</td>\n",
       "      <td>39223210</td>\n",
       "      <td>39424071</td>\n",
       "      <td>39535906</td>\n",
       "      <td>39547996</td>\n",
       "      <td>39499738</td>\n",
       "      <td>39237836</td>\n",
       "    </tr>\n",
       "  </tbody>\n",
       "</table>\n",
       "<p>5 rows × 72 columns</p>\n",
       "</div>"
      ],
      "text/plain": [
       "                1950      1951      1952      1953      1954      1955  \\\n",
       "GeoName                                                                  \n",
       "Alabama      3058000   3059000   3068000   3053000   3014000   3050000   \n",
       "Alaska        135000    158000    189000    205000    215000    222000   \n",
       "Arizona       756000    785000    842000    894000    933000    987000   \n",
       "Arkansas     1908000   1901000   1838000   1780000   1734000   1725000   \n",
       "California  10677000  11134000  11635000  12251000  12746000  13133000   \n",
       "\n",
       "                1956      1957      1958      1959  ...      2012      2013  \\\n",
       "GeoName                                             ...                       \n",
       "Alabama      3071000   3109000   3163000   3204000  ...   4839261   4864399   \n",
       "Alaska        224000    231000    224000    224000  ...    731106    738057   \n",
       "Arizona      1053000   1125000   1193000   1261000  ...   6507351   6563216   \n",
       "Arkansas     1704000   1733000   1726000   1756000  ...   2948887   2954685   \n",
       "California  13713000  14264000  14880000  15467000  ...  37970368  38291358   \n",
       "\n",
       "                2014      2015      2016      2017      2018      2019  \\\n",
       "GeoName                                                                  \n",
       "Alabama      4886793   4908162   4930595   4952202   4976395   5003418   \n",
       "Alaska        737638    739127    743410    741949    737717    734823   \n",
       "Arizona      6638196   6714328   6801591   6879830   6969944   7070511   \n",
       "Arkansas     2961191   2970352   2980602   2990801   2997271   3004248   \n",
       "California  38636290  38966055  39223210  39424071  39535906  39547996   \n",
       "\n",
       "                2020      2021  \n",
       "GeoName                         \n",
       "Alabama      5024803   5039877  \n",
       "Alaska        732441    732673  \n",
       "Arizona      7177986   7276316  \n",
       "Arkansas     3012232   3025891  \n",
       "California  39499738  39237836  \n",
       "\n",
       "[5 rows x 72 columns]"
      ]
     },
     "execution_count": 6,
     "metadata": {},
     "output_type": "execute_result"
    }
   ],
   "source": [
    "df_Population = pd.read_csv(POPULATION_DATASET).sort_values('GeoName').set_index(\"GeoName\")\n",
    "print(df_Population.shape)\n",
    "df_Population.head()"
   ]
  },
  {
   "cell_type": "markdown",
   "id": "fcdb277b-047a-4e49-9f08-dfd50851b8ae",
   "metadata": {},
   "source": [
    "## Merge into one dataframe"
   ]
  },
  {
   "cell_type": "code",
   "execution_count": 7,
   "id": "a39035b6-ed0e-4528-a81b-1ec079e9bf4c",
   "metadata": {},
   "outputs": [
    {
     "name": "stdout",
     "output_type": "stream",
     "text": [
      "(51, 4)\n"
     ]
    },
    {
     "data": {
      "text/html": [
       "<div>\n",
       "<style scoped>\n",
       "    .dataframe tbody tr th:only-of-type {\n",
       "        vertical-align: middle;\n",
       "    }\n",
       "\n",
       "    .dataframe tbody tr th {\n",
       "        vertical-align: top;\n",
       "    }\n",
       "\n",
       "    .dataframe thead th {\n",
       "        text-align: right;\n",
       "    }\n",
       "</style>\n",
       "<table border=\"1\" class=\"dataframe\">\n",
       "  <thead>\n",
       "    <tr style=\"text-align: right;\">\n",
       "      <th></th>\n",
       "      <th>income</th>\n",
       "      <th>GDP</th>\n",
       "      <th>EV_sale</th>\n",
       "      <th>Population</th>\n",
       "    </tr>\n",
       "  </thead>\n",
       "  <tbody>\n",
       "    <tr>\n",
       "      <th>Alabama</th>\n",
       "      <td>43157</td>\n",
       "      <td>40648.99</td>\n",
       "      <td>0.000201</td>\n",
       "      <td>5003418</td>\n",
       "    </tr>\n",
       "    <tr>\n",
       "      <th>Alaska</th>\n",
       "      <td>61639</td>\n",
       "      <td>72584.15</td>\n",
       "      <td>0.000195</td>\n",
       "      <td>734823</td>\n",
       "    </tr>\n",
       "    <tr>\n",
       "      <th>Arizona</th>\n",
       "      <td>47242</td>\n",
       "      <td>45809.18</td>\n",
       "      <td>0.001074</td>\n",
       "      <td>7070511</td>\n",
       "    </tr>\n",
       "    <tr>\n",
       "      <th>Arkansas</th>\n",
       "      <td>45037</td>\n",
       "      <td>38875.25</td>\n",
       "      <td>0.000179</td>\n",
       "      <td>3004248</td>\n",
       "    </tr>\n",
       "    <tr>\n",
       "      <th>California</th>\n",
       "      <td>64333</td>\n",
       "      <td>69266.30</td>\n",
       "      <td>0.003667</td>\n",
       "      <td>39547996</td>\n",
       "    </tr>\n",
       "  </tbody>\n",
       "</table>\n",
       "</div>"
      ],
      "text/plain": [
       "            income       GDP   EV_sale  Population\n",
       "Alabama      43157  40648.99  0.000201     5003418\n",
       "Alaska       61639  72584.15  0.000195      734823\n",
       "Arizona      47242  45809.18  0.001074     7070511\n",
       "Arkansas     45037  38875.25  0.000179     3004248\n",
       "California   64333  69266.30  0.003667    39547996"
      ]
     },
     "execution_count": 7,
     "metadata": {},
     "output_type": "execute_result"
    }
   ],
   "source": [
    "df_economic = pd.concat([df_Income['2019'].rename('income'), \\\n",
    "                               df_GDP['2019'].rename('GDP'),\\\n",
    "                               df_EV['2019'].rename('EV_sale'),\n",
    "                        df_Population['2019'].rename('Population')],\\\n",
    "                              axis = 1)\n",
    "df_economic = df_economic.dropna()\n",
    "print(df_economic.shape)\n",
    "df_economic.head()"
   ]
  },
  {
   "cell_type": "markdown",
   "id": "bb665bbb-b241-48c6-83aa-ffb8fcdee0c1",
   "metadata": {},
   "source": [
    "# Analyze Economic, GDP vs Income"
   ]
  },
  {
   "cell_type": "markdown",
   "id": "bdfcf874-f206-42af-be1d-5e6710e6ce44",
   "metadata": {},
   "source": [
    "We will use a scatter plot to represent their relationship from the prominent cities analysed. The cities with the highest gdp, income and the lowest gdp and income respectively"
   ]
  },
  {
   "cell_type": "code",
   "execution_count": 8,
   "id": "01ab0c1c-d618-4a2d-81b9-2d948dac1ceb",
   "metadata": {},
   "outputs": [
    {
     "data": {
      "text/plain": [
       "('District of Columbia',\n",
       " 'District of Columbia',\n",
       " 'Mississippi',\n",
       " 'Mississippi',\n",
       " 'California')"
      ]
     },
     "execution_count": 8,
     "metadata": {},
     "output_type": "execute_result"
    }
   ],
   "source": [
    "highest_income = df_economic.sort_values(by='income',ascending=False).index[0]\n",
    "highest_gdp = df_economic.sort_values(by='GDP',ascending=False).index[0]\n",
    "highest_sale = df_economic.sort_values(by='EV_sale',ascending=False).index[0]\n",
    "lowest_income = df_economic.sort_values(by='income',ascending=True).index[0]\n",
    "lowest_gdp = df_economic.sort_values(by='GDP',ascending=True).index[0]\n",
    "highest_income, highest_gdp, lowest_income, lowest_gdp,highest_sale"
   ]
  },
  {
   "cell_type": "code",
   "execution_count": 9,
   "id": "03fdec79-b5d8-400a-adeb-2335c2014f8b",
   "metadata": {},
   "outputs": [
    {
     "data": {
      "image/png": "[encoded data removed]",
      "text/plain": [
       "<Figure size 720x360 with 1 Axes>"
      ]
     },
     "metadata": {
      "needs_background": "light"
     },
     "output_type": "display_data"
    }
   ],
   "source": [
    "fig, ax = plt.subplots(figsize=(10, 5))\n",
    "ax.ticklabel_format(style='plain')\n",
    "plt.scatter(df_economic['GDP'],df_economic['income'])\n",
    "plt.title(\"income_gdp vs EV sales\")\n",
    "plt.xlabel(\"GDP\")\n",
    "plt.ylabel(\"income\")\n",
    "plt.show()"
   ]
  },
  {
   "cell_type": "markdown",
   "id": "552b0b31-ce75-4edf-a1be-c8e5f28eb333",
   "metadata": {},
   "source": [
    "#### We can see that GDP and income are proportional, but there is a lack of indication of EV sales. Each point represents a state, so we use EV sales to assign a size to the points"
   ]
  },
  {
   "cell_type": "code",
   "execution_count": 10,
   "id": "10859347-3143-43cc-9979-4799f31ce1f0",
   "metadata": {},
   "outputs": [
    {
     "data": {
      "image/png": "[encoded data removed]",
      "text/plain": [
       "<Figure size 1296x576 with 2 Axes>"
      ]
     },
     "metadata": {
      "needs_background": "light"
     },
     "output_type": "display_data"
    }
   ],
   "source": [
    "def draw(df_economic, ax, size_scale=1200000, *args, **kwargs):\n",
    "    df_economic.plot.scatter(x='GDP',y='income',s=(df_economic['EV_sale'])*size_scale, ax=ax,*args, **kwargs)\n",
    "fig, ax = plt.subplots(figsize=(18,8))\n",
    "ax.ticklabel_format(style='plain')\n",
    "draw(df_economic, ax, c='EV_sale', colormap='RdBu', colorbar=True)\n",
    "## hightlight states\n",
    "plt.annotate(highest_income, xy = (df_economic.loc[highest_income][['GDP', 'income']]), xytext = df_economic.loc[highest_income][['GDP', 'income']] +(-40000, 0.2), fontsize=18, \n",
    "            arrowprops=dict(arrowstyle='->')\n",
    "            )\n",
    "plt.annotate(highest_gdp, xy = (df_economic.loc[highest_gdp][['GDP', 'income']]), xytext = df_economic.loc[highest_gdp][['GDP', 'income']] +(-40000, 0.2), fontsize=18, \n",
    "            arrowprops=dict(arrowstyle='->')\n",
    "            )\n",
    "plt.annotate(lowest_income, xy = (df_economic.loc[lowest_income][['GDP', 'income']]), xytext = df_economic.loc[lowest_income][['GDP', 'income']] +(-0, +12000), fontsize=18, \n",
    "            arrowprops=dict(arrowstyle='->')\n",
    "            )\n",
    "plt.annotate(lowest_income, xy = (df_economic.loc[lowest_income][['GDP', 'income']]), xytext = df_economic.loc[lowest_income][['GDP', 'income']] +(-0, +12000), fontsize=18, \n",
    "            arrowprops=dict(arrowstyle='->')\n",
    "            )\n",
    "\n",
    "plt.title(\"Income & GDP vs EV_Sales_per_capita\")\n",
    "ax.set_xlabel('GDP')\n",
    "ax.set_ylabel('income')\n",
    "fig.tight_layout()"
   ]
  },
  {
   "cell_type": "markdown",
   "id": "4f8597d0-5ab5-4915-a340-458d23d4d354",
   "metadata": {},
   "source": [
    "#### The highest as well as the lowest revenues and gdp correspond to the highest and lowest sales respectively. This is similar to our forecast. But the data for California is too large for us to see a significant change. So we removed California"
   ]
  },
  {
   "cell_type": "code",
   "execution_count": 11,
   "id": "add285e7-549b-4cc7-837f-d6e6a6014879",
   "metadata": {},
   "outputs": [],
   "source": [
    "new = df_economic.drop(\"California\")\n",
    "new = new.drop(\"District of Columbia\")"
   ]
  },
  {
   "cell_type": "code",
   "execution_count": 12,
   "id": "ec71b8ed-c809-41ba-bfb2-2b64f98824f4",
   "metadata": {},
   "outputs": [
    {
     "data": {
      "text/plain": [
       "('Connecticut', 'New York', 'Mississippi', 'Mississippi', 'Hawaii')"
      ]
     },
     "execution_count": 12,
     "metadata": {},
     "output_type": "execute_result"
    }
   ],
   "source": [
    "highest_income = new.sort_values(by='income',ascending=False).index[0]\n",
    "highest_gdp = new.sort_values(by='GDP',ascending=False).index[0]\n",
    "highest_sale = new.sort_values(by='EV_sale',ascending=False).index[0]\n",
    "lowest_income = new.sort_values(by='income',ascending=True).index[0]\n",
    "lowest_gdp = new.sort_values(by='GDP',ascending=True).index[0]\n",
    "highest_income, highest_gdp, lowest_income, lowest_gdp, highest_sale"
   ]
  },
  {
   "cell_type": "code",
   "execution_count": 13,
   "id": "ed2209f3-c374-49ea-a32f-c2334a7fc3ce",
   "metadata": {},
   "outputs": [
    {
     "data": {
      "image/png": "[encoded data removed]",
      "text/plain": [
       "<Figure size 1296x576 with 2 Axes>"
      ]
     },
     "metadata": {
      "needs_background": "light"
     },
     "output_type": "display_data"
    }
   ],
   "source": [
    "fig, ax = plt.subplots(figsize=(18,8))\n",
    "ax.ticklabel_format(style='plain')\n",
    "draw(new, ax, c='EV_sale', colormap='RdBu', colorbar=True)\n",
    "\n",
    "\n",
    "plt.annotate(highest_income, xy = (new.loc[highest_income][['GDP', 'income']]), xytext = new.loc[highest_income][['GDP', 'income']] +(-8000, 0.2), fontsize=18, \n",
    "            arrowprops=dict(arrowstyle='->')\n",
    "            )\n",
    "plt.annotate(highest_gdp, xy = (new.loc[highest_gdp][['GDP', 'income']]), xytext = new.loc[highest_gdp][['GDP', 'income']] +(-6000, 0.2), fontsize=18, \n",
    "            arrowprops=dict(arrowstyle='->')\n",
    "            )\n",
    "plt.annotate(lowest_income, xy = (new.loc[lowest_income][['GDP', 'income']]), xytext = new.loc[lowest_income][['GDP', 'income']] +(-250, +5000), fontsize=18, \n",
    "            arrowprops=dict(arrowstyle='->')\n",
    "            )\n",
    "plt.annotate(lowest_income, xy = (new.loc[lowest_income][['GDP', 'income']]), xytext = new.loc[lowest_income][['GDP', 'income']] +(-250, +5000), fontsize=18, \n",
    "            arrowprops=dict(arrowstyle='->')\n",
    "            )\n",
    "\n",
    "\n",
    "plt.title(\"income_gdp vs EV sales\")\n",
    "ax.set_xlabel('GDP')\n",
    "ax.set_ylabel('income')\n",
    "fig.tight_layout()\n",
    "\n",
    "# Save as png image\n",
    "fig.savefig('./Images/Income_GDP_vs_EVsales.png', format='png')"
   ]
  },
  {
   "cell_type": "code",
   "execution_count": 22,
   "id": "61fa98dd-52d7-4a8e-ab43-61da5df12af0",
   "metadata": {},
   "outputs": [
    {
     "data": {
      "text/plain": [
       "('Connecticut', 'New York', 'Mississippi', 'Mississippi', 'Oregon')"
      ]
     },
     "execution_count": 22,
     "metadata": {},
     "output_type": "execute_result"
    }
   ],
   "source": [
    "new1= new.drop(\"Hawaii\")\n",
    "highest_income = new1.sort_values(by='income',ascending=False).index[0]\n",
    "highest_gdp = new1.sort_values(by='GDP',ascending=False).index[0]\n",
    "highest_sale = new1.sort_values(by='EV_sale',ascending=False).index[0]\n",
    "lowest_income = new1.sort_values(by='income',ascending=True).index[0]\n",
    "lowest_gdp = new1.sort_values(by='GDP',ascending=True).index[0]\n",
    "highest_income, highest_gdp, lowest_income, lowest_gdp, highest_sale"
   ]
  },
  {
   "cell_type": "code",
   "execution_count": 23,
   "id": "bca9b499-7fd0-4e9c-8918-35dbdc9bf658",
   "metadata": {},
   "outputs": [
    {
     "data": {
      "image/png": "[encoded data removed]",
      "text/plain": [
       "<Figure size 1296x576 with 2 Axes>"
      ]
     },
     "metadata": {
      "needs_background": "light"
     },
     "output_type": "display_data"
    }
   ],
   "source": [
    "fig, ax = plt.subplots(figsize=(18,8))\n",
    "ax.ticklabel_format(style='plain')\n",
    "draw(new1, ax, c='EV_sale', colormap='RdBu', colorbar=True)\n",
    "\n",
    "\n",
    "plt.annotate(highest_income, xy = (new.loc[highest_income][['GDP', 'income']]), xytext = new.loc[highest_income][['GDP', 'income']] +(-8000, 0.2), fontsize=18, \n",
    "            arrowprops=dict(arrowstyle='->')\n",
    "            )\n",
    "plt.annotate(highest_gdp, xy = (new.loc[highest_gdp][['GDP', 'income']]), xytext = new.loc[highest_gdp][['GDP', 'income']] +(-6000, 0.2), fontsize=18, \n",
    "            arrowprops=dict(arrowstyle='->')\n",
    "            )\n",
    "plt.annotate(lowest_income, xy = (new.loc[lowest_income][['GDP', 'income']]), xytext = new.loc[lowest_income][['GDP', 'income']] +(-250, +5000), fontsize=18, \n",
    "            arrowprops=dict(arrowstyle='->')\n",
    "            )\n",
    "plt.annotate(lowest_income, xy = (new.loc[lowest_income][['GDP', 'income']]), xytext = new.loc[lowest_income][['GDP', 'income']] +(-250, +5000), fontsize=18, \n",
    "            arrowprops=dict(arrowstyle='->')\n",
    "            )\n",
    "\n",
    "\n",
    "plt.title(\"income_gdp vs EV sales\")\n",
    "ax.set_xlabel('GDP')\n",
    "ax.set_ylabel('income')\n",
    "fig.tight_layout()\n",
    "\n",
    "# Save as png image\n",
    "fig.savefig('./Images/Income_GDP_vs_EVsales.png', format='png')"
   ]
  },
  {
   "cell_type": "markdown",
   "id": "81d80546-4ccb-429e-9896-a54d0b7468dc",
   "metadata": {},
   "source": [
    "#### The change in the data is now becoming more apparent: a proportional trend. But the highest GDP corresponds not to the highest sales, the highest income corresponds to the highest sales. So which factor has the greatest influence on the factor of sales, GDP?"
   ]
  },
  {
   "cell_type": "markdown",
   "id": "1ab8da7f-1a1b-414a-83fa-b6d4ed4aae78",
   "metadata": {},
   "source": [
    "We will model each of these two factors to derive R^2. The correlation will be derived from the magnitude of R^2"
   ]
  },
  {
   "cell_type": "code",
   "execution_count": 24,
   "id": "593ddcf3-8c8a-4749-9936-1b0dbf556ac6",
   "metadata": {},
   "outputs": [],
   "source": [
    "## df_EV.head(), df_gdp.head(), df_income.head()"
   ]
  },
  {
   "cell_type": "code",
   "execution_count": 25,
   "id": "4620ce61-b2e8-4511-8b95-d409291da0d8",
   "metadata": {},
   "outputs": [
    {
     "data": {
      "text/html": [
       "<div>\n",
       "<style scoped>\n",
       "    .dataframe tbody tr th:only-of-type {\n",
       "        vertical-align: middle;\n",
       "    }\n",
       "\n",
       "    .dataframe tbody tr th {\n",
       "        vertical-align: top;\n",
       "    }\n",
       "\n",
       "    .dataframe thead th {\n",
       "        text-align: right;\n",
       "    }\n",
       "</style>\n",
       "<table border=\"1\" class=\"dataframe\">\n",
       "  <thead>\n",
       "    <tr style=\"text-align: right;\">\n",
       "      <th></th>\n",
       "      <th>income</th>\n",
       "      <th>GDP</th>\n",
       "      <th>EV_sale</th>\n",
       "      <th>Population</th>\n",
       "    </tr>\n",
       "  </thead>\n",
       "  <tbody>\n",
       "    <tr>\n",
       "      <th>Alabama</th>\n",
       "      <td>43157</td>\n",
       "      <td>40648.99</td>\n",
       "      <td>0.000201</td>\n",
       "      <td>5003418</td>\n",
       "    </tr>\n",
       "    <tr>\n",
       "      <th>Alaska</th>\n",
       "      <td>61639</td>\n",
       "      <td>72584.15</td>\n",
       "      <td>0.000195</td>\n",
       "      <td>734823</td>\n",
       "    </tr>\n",
       "    <tr>\n",
       "      <th>Arizona</th>\n",
       "      <td>47242</td>\n",
       "      <td>45809.18</td>\n",
       "      <td>0.001074</td>\n",
       "      <td>7070511</td>\n",
       "    </tr>\n",
       "    <tr>\n",
       "      <th>Arkansas</th>\n",
       "      <td>45037</td>\n",
       "      <td>38875.25</td>\n",
       "      <td>0.000179</td>\n",
       "      <td>3004248</td>\n",
       "    </tr>\n",
       "    <tr>\n",
       "      <th>California</th>\n",
       "      <td>64333</td>\n",
       "      <td>69266.30</td>\n",
       "      <td>0.003667</td>\n",
       "      <td>39547996</td>\n",
       "    </tr>\n",
       "  </tbody>\n",
       "</table>\n",
       "</div>"
      ],
      "text/plain": [
       "            income       GDP   EV_sale  Population\n",
       "Alabama      43157  40648.99  0.000201     5003418\n",
       "Alaska       61639  72584.15  0.000195      734823\n",
       "Arizona      47242  45809.18  0.001074     7070511\n",
       "Arkansas     45037  38875.25  0.000179     3004248\n",
       "California   64333  69266.30  0.003667    39547996"
      ]
     },
     "execution_count": 25,
     "metadata": {},
     "output_type": "execute_result"
    }
   ],
   "source": [
    "df_economic.head()"
   ]
  },
  {
   "cell_type": "markdown",
   "id": "fd914f2a-7bf1-474c-9140-9357aa516256",
   "metadata": {},
   "source": [
    "# GDP"
   ]
  },
  {
   "cell_type": "code",
   "execution_count": 43,
   "id": "944c268d-c2e4-4075-a2e6-73533fe2397a",
   "metadata": {},
   "outputs": [
    {
     "data": {
      "application/vnd.plotly.v1+json": {
       "config": {
        "plotlyServerURL": "https://plot.ly"
       },
       "data": [
        {
         "hovertemplate": "EV_sale=%{x}<br>GDP=%{y}<extra></extra>",
         "legendgroup": "",
         "marker": {
          "color": "#636efa",
          "symbol": "circle"
         },
         "mode": "markers",
         "name": "",
         "orientation": "v",
         "showlegend": false,
         "type": "scatter",
         "x": [
          0.0002012624170117,
          0.0001946046871151,
          0.001073614057032,
          0.0001790797563982,
          0.001570276087556,
          0.0009176196558011,
          0.0008376668837263,
          0.0007396092602226,
          0.0004827610247424,
          0.0002975599530762,
          0.0005937673879293,
          0.0003263951804135,
          0.0002365075281948,
          0.0002887092854291,
          0.0001787405063558,
          0.0001543554609032,
          0.0007285520966314,
          0.0011042197874368,
          0.0011199127556894,
          0.0001815793954418,
          0.0006400863202123,
          9.195074000136747e-05,
          0.0003341794437808,
          0.0002956868768956,
          0.0002639484748023,
          0.001051502096976,
          0.0007508197055912,
          0.0010188140930513,
          0.0003729599752813,
          0.0007330017690844,
          0.0005200302780469,
          0.0001468095956812,
          0.0005007402523822,
          0.000196257615759,
          0.0016752941667599,
          0.0004890909773875,
          0.0006231019146222,
          0.000262922441031,
          0.0002107632007451,
          0.0003092222550258,
          0.0002002927878586,
          0.0009369873675295,
          0.0015658156731137,
          0.0008158338295139,
          0.0015934671512349,
          0.0001388557178007,
          0.0003336625175398,
          0.0002502863519199
         ],
         "xaxis": "x",
         "y": [
          40648.99,
          72584.15,
          45809.18,
          38875.25,
          62199.74,
          69721.1,
          65487.21,
          45499.47,
          52455.14,
          40879.65,
          60517.1,
          50038.9,
          54307.53,
          54599.9,
          42541.02,
          50583.06,
          43782.3,
          59968.56,
          73785.85,
          46367.26,
          59811.21,
          34195.27,
          47342.14,
          43505.02,
          60506.86,
          51101.89,
          56221.45,
          60682.01,
          44960.06,
          73915.16,
          49623.68,
          72435.08,
          51842.33,
          50892.82,
          52053.95,
          55126.53,
          48628.44,
          41847.56,
          52850.57,
          47958.83,
          61866.14,
          52938.61,
          46589.33,
          56674.7,
          70166.56,
          40291.99,
          51680.48,
          67140.01
         ],
         "yaxis": "y"
        },
        {
         "hovertemplate": "<b>OLS trendline</b><br>GDP = 7.44877e+06 * EV_sale + 49311.5<br>R<sup>2</sup>=0.102585<br><br>EV_sale=%{x}<br>GDP=%{y} <b>(trend)</b><extra></extra>",
         "legendgroup": "",
         "marker": {
          "color": "#636efa",
          "symbol": "circle"
         },
         "mode": "lines",
         "name": "",
         "showlegend": false,
         "type": "scatter",
         "x": [
          9.195074000136747e-05,
          0.0001388557178007,
          0.0001468095956812,
          0.0001543554609032,
          0.0001787405063558,
          0.0001790797563982,
          0.0001815793954418,
          0.0001946046871151,
          0.000196257615759,
          0.0002002927878586,
          0.0002012624170117,
          0.0002107632007451,
          0.0002365075281948,
          0.0002502863519199,
          0.000262922441031,
          0.0002639484748023,
          0.0002887092854291,
          0.0002956868768956,
          0.0002975599530762,
          0.0003092222550258,
          0.0003263951804135,
          0.0003336625175398,
          0.0003341794437808,
          0.0003729599752813,
          0.0004827610247424,
          0.0004890909773875,
          0.0005007402523822,
          0.0005200302780469,
          0.0005937673879293,
          0.0006231019146222,
          0.0006400863202123,
          0.0007285520966314,
          0.0007330017690844,
          0.0007396092602226,
          0.0007508197055912,
          0.0008158338295139,
          0.0008376668837263,
          0.0009176196558011,
          0.0009369873675295,
          0.0010188140930513,
          0.001051502096976,
          0.001073614057032,
          0.0011042197874368,
          0.0011199127556894,
          0.0015658156731137,
          0.001570276087556,
          0.0015934671512349,
          0.0016752941667599
         ],
         "xaxis": "x",
         "y": [
          49996.41433444474,
          50345.79882218755,
          50405.04544545078,
          50461.25287542641,
          50642.89152048645,
          50645.418516721,
          50664.03775816967,
          50761.06018675808,
          50773.37247544511,
          50803.42955260661,
          50810.65209914326,
          50881.42127149103,
          51073.184898302185,
          51175.82021537851,
          51269.94356279894,
          51277.586254479254,
          51462.02388866708,
          51513.99837697472,
          51527.9504944805,
          51614.82032330752,
          51742.73752999069,
          51796.870267671315,
          51800.72073340834,
          52089.58807262045,
          52907.47106115339,
          52954.62143550824,
          53041.39422951767,
          53185.08123357596,
          53734.33215688125,
          53952.838359477144,
          54079.351325160664,
          54738.31272813135,
          54771.45732394089,
          54820.67501926657,
          54904.179071421415,
          55388.45446069797,
          55551.08390473043,
          56146.63387886066,
          56290.89954869909,
          56900.408174892546,
          57143.8936649705,
          57308.60061505598,
          57536.57572433377,
          57653.4690676705,
          60974.898256994835,
          61008.12286743407,
          61180.86781442727,
          61790.37860078846
         ],
         "yaxis": "y"
        }
       ],
       "layout": {
        "height": 800,
        "legend": {
         "tracegroupgap": 0
        },
        "margin": {
         "t": 60
        },
        "template": {
         "data": {
          "bar": [
           {
            "error_x": {
             "color": "#2a3f5f"
            },
            "error_y": {
             "color": "#2a3f5f"
            },
            "marker": {
             "line": {
              "color": "#E5ECF6",
              "width": 0.5
             },
             "pattern": {
              "fillmode": "overlay",
              "size": 10,
              "solidity": 0.2
             }
            },
            "type": "bar"
           }
          ],
          "barpolar": [
           {
            "marker": {
             "line": {
              "color": "#E5ECF6",
              "width": 0.5
             },
             "pattern": {
              "fillmode": "overlay",
              "size": 10,
              "solidity": 0.2
             }
            },
            "type": "barpolar"
           }
          ],
          "carpet": [
           {
            "aaxis": {
             "endlinecolor": "#2a3f5f",
             "gridcolor": "white",
             "linecolor": "white",
             "minorgridcolor": "white",
             "startlinecolor": "#2a3f5f"
            },
            "baxis": {
             "endlinecolor": "#2a3f5f",
             "gridcolor": "white",
             "linecolor": "white",
             "minorgridcolor": "white",
             "startlinecolor": "#2a3f5f"
            },
            "type": "carpet"
           }
          ],
          "choropleth": [
           {
            "colorbar": {
             "outlinewidth": 0,
             "ticks": ""
            },
            "type": "choropleth"
           }
          ],
          "contour": [
           {
            "colorbar": {
             "outlinewidth": 0,
             "ticks": ""
            },
            "colorscale": [
             [
              0,
              "#0d0887"
             ],
             [
              0.1111111111111111,
              "#46039f"
             ],
             [
              0.2222222222222222,
              "#7201a8"
             ],
             [
              0.3333333333333333,
              "#9c179e"
             ],
             [
              0.4444444444444444,
              "#bd3786"
             ],
             [
              0.5555555555555556,
              "#d8576b"
             ],
             [
              0.6666666666666666,
              "#ed7953"
             ],
             [
              0.7777777777777778,
              "#fb9f3a"
             ],
             [
              0.8888888888888888,
              "#fdca26"
             ],
             [
              1,
              "#f0f921"
             ]
            ],
            "type": "contour"
           }
          ],
          "contourcarpet": [
           {
            "colorbar": {
             "outlinewidth": 0,
             "ticks": ""
            },
            "type": "contourcarpet"
           }
          ],
          "heatmap": [
           {
            "colorbar": {
             "outlinewidth": 0,
             "ticks": ""
            },
            "colorscale": [
             [
              0,
              "#0d0887"
             ],
             [
              0.1111111111111111,
              "#46039f"
             ],
             [
              0.2222222222222222,
              "#7201a8"
             ],
             [
              0.3333333333333333,
              "#9c179e"
             ],
             [
              0.4444444444444444,
              "#bd3786"
             ],
             [
              0.5555555555555556,
              "#d8576b"
             ],
             [
              0.6666666666666666,
              "#ed7953"
             ],
             [
              0.7777777777777778,
              "#fb9f3a"
             ],
             [
              0.8888888888888888,
              "#fdca26"
             ],
             [
              1,
              "#f0f921"
             ]
            ],
            "type": "heatmap"
           }
          ],
          "heatmapgl": [
           {
            "colorbar": {
             "outlinewidth": 0,
             "ticks": ""
            },
            "colorscale": [
             [
              0,
              "#0d0887"
             ],
             [
              0.1111111111111111,
              "#46039f"
             ],
             [
              0.2222222222222222,
              "#7201a8"
             ],
             [
              0.3333333333333333,
              "#9c179e"
             ],
             [
              0.4444444444444444,
              "#bd3786"
             ],
             [
              0.5555555555555556,
              "#d8576b"
             ],
             [
              0.6666666666666666,
              "#ed7953"
             ],
             [
              0.7777777777777778,
              "#fb9f3a"
             ],
             [
              0.8888888888888888,
              "#fdca26"
             ],
             [
              1,
              "#f0f921"
             ]
            ],
            "type": "heatmapgl"
           }
          ],
          "histogram": [
           {
            "marker": {
             "pattern": {
              "fillmode": "overlay",
              "size": 10,
              "solidity": 0.2
             }
            },
            "type": "histogram"
           }
          ],
          "histogram2d": [
           {
            "colorbar": {
             "outlinewidth": 0,
             "ticks": ""
            },
            "colorscale": [
             [
              0,
              "#0d0887"
             ],
             [
              0.1111111111111111,
              "#46039f"
             ],
             [
              0.2222222222222222,
              "#7201a8"
             ],
             [
              0.3333333333333333,
              "#9c179e"
             ],
             [
              0.4444444444444444,
              "#bd3786"
             ],
             [
              0.5555555555555556,
              "#d8576b"
             ],
             [
              0.6666666666666666,
              "#ed7953"
             ],
             [
              0.7777777777777778,
              "#fb9f3a"
             ],
             [
              0.8888888888888888,
              "#fdca26"
             ],
             [
              1,
              "#f0f921"
             ]
            ],
            "type": "histogram2d"
           }
          ],
          "histogram2dcontour": [
           {
            "colorbar": {
             "outlinewidth": 0,
             "ticks": ""
            },
            "colorscale": [
             [
              0,
              "#0d0887"
             ],
             [
              0.1111111111111111,
              "#46039f"
             ],
             [
              0.2222222222222222,
              "#7201a8"
             ],
             [
              0.3333333333333333,
              "#9c179e"
             ],
             [
              0.4444444444444444,
              "#bd3786"
             ],
             [
              0.5555555555555556,
              "#d8576b"
             ],
             [
              0.6666666666666666,
              "#ed7953"
             ],
             [
              0.7777777777777778,
              "#fb9f3a"
             ],
             [
              0.8888888888888888,
              "#fdca26"
             ],
             [
              1,
              "#f0f921"
             ]
            ],
            "type": "histogram2dcontour"
           }
          ],
          "mesh3d": [
           {
            "colorbar": {
             "outlinewidth": 0,
             "ticks": ""
            },
            "type": "mesh3d"
           }
          ],
          "parcoords": [
           {
            "line": {
             "colorbar": {
              "outlinewidth": 0,
              "ticks": ""
             }
            },
            "type": "parcoords"
           }
          ],
          "pie": [
           {
            "automargin": true,
            "type": "pie"
           }
          ],
          "scatter": [
           {
            "marker": {
             "colorbar": {
              "outlinewidth": 0,
              "ticks": ""
             }
            },
            "type": "scatter"
           }
          ],
          "scatter3d": [
           {
            "line": {
             "colorbar": {
              "outlinewidth": 0,
              "ticks": ""
             }
            },
            "marker": {
             "colorbar": {
              "outlinewidth": 0,
              "ticks": ""
             }
            },
            "type": "scatter3d"
           }
          ],
          "scattercarpet": [
           {
            "marker": {
             "colorbar": {
              "outlinewidth": 0,
              "ticks": ""
             }
            },
            "type": "scattercarpet"
           }
          ],
          "scattergeo": [
           {
            "marker": {
             "colorbar": {
              "outlinewidth": 0,
              "ticks": ""
             }
            },
            "type": "scattergeo"
           }
          ],
          "scattergl": [
           {
            "marker": {
             "colorbar": {
              "outlinewidth": 0,
              "ticks": ""
             }
            },
            "type": "scattergl"
           }
          ],
          "scattermapbox": [
           {
            "marker": {
             "colorbar": {
              "outlinewidth": 0,
              "ticks": ""
             }
            },
            "type": "scattermapbox"
           }
          ],
          "scatterpolar": [
           {
            "marker": {
             "colorbar": {
              "outlinewidth": 0,
              "ticks": ""
             }
            },
            "type": "scatterpolar"
           }
          ],
          "scatterpolargl": [
           {
            "marker": {
             "colorbar": {
              "outlinewidth": 0,
              "ticks": ""
             }
            },
            "type": "scatterpolargl"
           }
          ],
          "scatterternary": [
           {
            "marker": {
             "colorbar": {
              "outlinewidth": 0,
              "ticks": ""
             }
            },
            "type": "scatterternary"
           }
          ],
          "surface": [
           {
            "colorbar": {
             "outlinewidth": 0,
             "ticks": ""
            },
            "colorscale": [
             [
              0,
              "#0d0887"
             ],
             [
              0.1111111111111111,
              "#46039f"
             ],
             [
              0.2222222222222222,
              "#7201a8"
             ],
             [
              0.3333333333333333,
              "#9c179e"
             ],
             [
              0.4444444444444444,
              "#bd3786"
             ],
             [
              0.5555555555555556,
              "#d8576b"
             ],
             [
              0.6666666666666666,
              "#ed7953"
             ],
             [
              0.7777777777777778,
              "#fb9f3a"
             ],
             [
              0.8888888888888888,
              "#fdca26"
             ],
             [
              1,
              "#f0f921"
             ]
            ],
            "type": "surface"
           }
          ],
          "table": [
           {
            "cells": {
             "fill": {
              "color": "#EBF0F8"
             },
             "line": {
              "color": "white"
             }
            },
            "header": {
             "fill": {
              "color": "#C8D4E3"
             },
             "line": {
              "color": "white"
             }
            },
            "type": "table"
           }
          ]
         },
         "layout": {
          "annotationdefaults": {
           "arrowcolor": "#2a3f5f",
           "arrowhead": 0,
           "arrowwidth": 1
          },
          "autotypenumbers": "strict",
          "coloraxis": {
           "colorbar": {
            "outlinewidth": 0,
            "ticks": ""
           }
          },
          "colorscale": {
           "diverging": [
            [
             0,
             "#8e0152"
            ],
            [
             0.1,
             "#c51b7d"
            ],
            [
             0.2,
             "#de77ae"
            ],
            [
             0.3,
             "#f1b6da"
            ],
            [
             0.4,
             "#fde0ef"
            ],
            [
             0.5,
             "#f7f7f7"
            ],
            [
             0.6,
             "#e6f5d0"
            ],
            [
             0.7,
             "#b8e186"
            ],
            [
             0.8,
             "#7fbc41"
            ],
            [
             0.9,
             "#4d9221"
            ],
            [
             1,
             "#276419"
            ]
           ],
           "sequential": [
            [
             0,
             "#0d0887"
            ],
            [
             0.1111111111111111,
             "#46039f"
            ],
            [
             0.2222222222222222,
             "#7201a8"
            ],
            [
             0.3333333333333333,
             "#9c179e"
            ],
            [
             0.4444444444444444,
             "#bd3786"
            ],
            [
             0.5555555555555556,
             "#d8576b"
            ],
            [
             0.6666666666666666,
             "#ed7953"
            ],
            [
             0.7777777777777778,
             "#fb9f3a"
            ],
            [
             0.8888888888888888,
             "#fdca26"
            ],
            [
             1,
             "#f0f921"
            ]
           ],
           "sequentialminus": [
            [
             0,
             "#0d0887"
            ],
            [
             0.1111111111111111,
             "#46039f"
            ],
            [
             0.2222222222222222,
             "#7201a8"
            ],
            [
             0.3333333333333333,
             "#9c179e"
            ],
            [
             0.4444444444444444,
             "#bd3786"
            ],
            [
             0.5555555555555556,
             "#d8576b"
            ],
            [
             0.6666666666666666,
             "#ed7953"
            ],
            [
             0.7777777777777778,
             "#fb9f3a"
            ],
            [
             0.8888888888888888,
             "#fdca26"
            ],
            [
             1,
             "#f0f921"
            ]
           ]
          },
          "colorway": [
           "#636efa",
           "#EF553B",
           "#00cc96",
           "#ab63fa",
           "#FFA15A",
           "#19d3f3",
           "#FF6692",
           "#B6E880",
           "#FF97FF",
           "#FECB52"
          ],
          "font": {
           "color": "#2a3f5f"
          },
          "geo": {
           "bgcolor": "white",
           "lakecolor": "white",
           "landcolor": "#E5ECF6",
           "showlakes": true,
           "showland": true,
           "subunitcolor": "white"
          },
          "hoverlabel": {
           "align": "left"
          },
          "hovermode": "closest",
          "mapbox": {
           "style": "light"
          },
          "paper_bgcolor": "white",
          "plot_bgcolor": "#E5ECF6",
          "polar": {
           "angularaxis": {
            "gridcolor": "white",
            "linecolor": "white",
            "ticks": ""
           },
           "bgcolor": "#E5ECF6",
           "radialaxis": {
            "gridcolor": "white",
            "linecolor": "white",
            "ticks": ""
           }
          },
          "scene": {
           "xaxis": {
            "backgroundcolor": "#E5ECF6",
            "gridcolor": "white",
            "gridwidth": 2,
            "linecolor": "white",
            "showbackground": true,
            "ticks": "",
            "zerolinecolor": "white"
           },
           "yaxis": {
            "backgroundcolor": "#E5ECF6",
            "gridcolor": "white",
            "gridwidth": 2,
            "linecolor": "white",
            "showbackground": true,
            "ticks": "",
            "zerolinecolor": "white"
           },
           "zaxis": {
            "backgroundcolor": "#E5ECF6",
            "gridcolor": "white",
            "gridwidth": 2,
            "linecolor": "white",
            "showbackground": true,
            "ticks": "",
            "zerolinecolor": "white"
           }
          },
          "shapedefaults": {
           "line": {
            "color": "#2a3f5f"
           }
          },
          "ternary": {
           "aaxis": {
            "gridcolor": "white",
            "linecolor": "white",
            "ticks": ""
           },
           "baxis": {
            "gridcolor": "white",
            "linecolor": "white",
            "ticks": ""
           },
           "bgcolor": "#E5ECF6",
           "caxis": {
            "gridcolor": "white",
            "linecolor": "white",
            "ticks": ""
           }
          },
          "title": {
           "x": 0.05
          },
          "xaxis": {
           "automargin": true,
           "gridcolor": "white",
           "linecolor": "white",
           "ticks": "",
           "title": {
            "standoff": 15
           },
           "zerolinecolor": "white",
           "zerolinewidth": 2
          },
          "yaxis": {
           "automargin": true,
           "gridcolor": "white",
           "linecolor": "white",
           "ticks": "",
           "title": {
            "standoff": 15
           },
           "zerolinecolor": "white",
           "zerolinewidth": 2
          }
         }
        },
        "title": {
         "text": "GDP vs EV_sales"
        },
        "width": 1700,
        "xaxis": {
         "anchor": "y",
         "autorange": true,
         "domain": [
          0,
          1
         ],
         "range": [
          -7.986119832183077e-07,
          0.001768043518744486
         ],
         "title": {
          "text": "EV_sale"
         },
         "type": "linear"
        },
        "yaxis": {
         "anchor": "x",
         "autorange": true,
         "domain": [
          0,
          1
         ],
         "range": [
          31706.42778772378,
          76404.00221227622
         ],
         "title": {
          "text": "GDP"
         },
         "type": "linear"
        }
       }
      },
      "image/png": "[encoded data removed]",
      "text/html": [
       "<div>                            <div id=\"5e7ba76f-7511-4e6d-84c2-21d1bfdf4fb4\" class=\"plotly-graph-div\" style=\"height:800px; width:1700px;\"></div>            <script type=\"text/javascript\">                require([\"plotly\"], function(Plotly) {                    window.PLOTLYENV=window.PLOTLYENV || {};                                    if (document.getElementById(\"5e7ba76f-7511-4e6d-84c2-21d1bfdf4fb4\")) {                    Plotly.newPlot(                        \"5e7ba76f-7511-4e6d-84c2-21d1bfdf4fb4\",                        [{\"hovertemplate\":\"EV_sale=%{x}<br>GDP=%{y}<extra></extra>\",\"legendgroup\":\"\",\"marker\":{\"color\":\"#636efa\",\"symbol\":\"circle\"},\"mode\":\"markers\",\"name\":\"\",\"orientation\":\"v\",\"showlegend\":false,\"x\":[0.0002012624170117,0.0001946046871151,0.001073614057032,0.0001790797563982,0.001570276087556,0.0009176196558011,0.0008376668837263,0.0007396092602226,0.0004827610247424,0.0002975599530762,0.0005937673879293,0.0003263951804135,0.0002365075281948,0.0002887092854291,0.0001787405063558,0.0001543554609032,0.0007285520966314,0.0011042197874368,0.0011199127556894,0.0001815793954418,0.0006400863202123,9.195074000136747e-05,0.0003341794437808,0.0002956868768956,0.0002639484748023,0.001051502096976,0.0007508197055912,0.0010188140930513,0.0003729599752813,0.0007330017690844,0.0005200302780469,0.0001468095956812,0.0005007402523822,0.000196257615759,0.0016752941667599,0.0004890909773875,0.0006231019146222,0.000262922441031,0.0002107632007451,0.0003092222550258,0.0002002927878586,0.0009369873675295,0.0015658156731137,0.0008158338295139,0.0015934671512349,0.0001388557178007,0.0003336625175398,0.0002502863519199],\"xaxis\":\"x\",\"y\":[40648.99,72584.15,45809.18,38875.25,62199.74,69721.1,65487.21,45499.47,52455.14,40879.65,60517.1,50038.9,54307.53,54599.9,42541.02,50583.06,43782.3,59968.56,73785.85,46367.26,59811.21,34195.27,47342.14,43505.02,60506.86,51101.89,56221.45,60682.01,44960.06,73915.16,49623.68,72435.08,51842.33,50892.82,52053.95,55126.53,48628.44,41847.56,52850.57,47958.83,61866.14,52938.61,46589.33,56674.7,70166.56,40291.99,51680.48,67140.01],\"yaxis\":\"y\",\"type\":\"scatter\"},{\"hovertemplate\":\"<b>OLS trendline</b><br>GDP = 7.44877e+06 * EV_sale + 49311.5<br>R<sup>2</sup>=0.102585<br><br>EV_sale=%{x}<br>GDP=%{y} <b>(trend)</b><extra></extra>\",\"legendgroup\":\"\",\"marker\":{\"color\":\"#636efa\",\"symbol\":\"circle\"},\"mode\":\"lines\",\"name\":\"\",\"showlegend\":false,\"x\":[9.195074000136747e-05,0.0001388557178007,0.0001468095956812,0.0001543554609032,0.0001787405063558,0.0001790797563982,0.0001815793954418,0.0001946046871151,0.000196257615759,0.0002002927878586,0.0002012624170117,0.0002107632007451,0.0002365075281948,0.0002502863519199,0.000262922441031,0.0002639484748023,0.0002887092854291,0.0002956868768956,0.0002975599530762,0.0003092222550258,0.0003263951804135,0.0003336625175398,0.0003341794437808,0.0003729599752813,0.0004827610247424,0.0004890909773875,0.0005007402523822,0.0005200302780469,0.0005937673879293,0.0006231019146222,0.0006400863202123,0.0007285520966314,0.0007330017690844,0.0007396092602226,0.0007508197055912,0.0008158338295139,0.0008376668837263,0.0009176196558011,0.0009369873675295,0.0010188140930513,0.001051502096976,0.001073614057032,0.0011042197874368,0.0011199127556894,0.0015658156731137,0.001570276087556,0.0015934671512349,0.0016752941667599],\"xaxis\":\"x\",\"y\":[49996.41433444474,50345.79882218755,50405.04544545078,50461.25287542641,50642.89152048645,50645.418516721,50664.03775816967,50761.06018675808,50773.37247544511,50803.42955260661,50810.65209914326,50881.42127149103,51073.184898302185,51175.82021537851,51269.94356279894,51277.586254479254,51462.02388866708,51513.99837697472,51527.9504944805,51614.82032330752,51742.73752999069,51796.870267671315,51800.72073340834,52089.58807262045,52907.47106115339,52954.62143550824,53041.39422951767,53185.08123357596,53734.33215688125,53952.838359477144,54079.351325160664,54738.31272813135,54771.45732394089,54820.67501926657,54904.179071421415,55388.45446069797,55551.08390473043,56146.63387886066,56290.89954869909,56900.408174892546,57143.8936649705,57308.60061505598,57536.57572433377,57653.4690676705,60974.898256994835,61008.12286743407,61180.86781442727,61790.37860078846],\"yaxis\":\"y\",\"type\":\"scatter\"}],                        {\"template\":{\"data\":{\"bar\":[{\"error_x\":{\"color\":\"#2a3f5f\"},\"error_y\":{\"color\":\"#2a3f5f\"},\"marker\":{\"line\":{\"color\":\"#E5ECF6\",\"width\":0.5},\"pattern\":{\"fillmode\":\"overlay\",\"size\":10,\"solidity\":0.2}},\"type\":\"bar\"}],\"barpolar\":[{\"marker\":{\"line\":{\"color\":\"#E5ECF6\",\"width\":0.5},\"pattern\":{\"fillmode\":\"overlay\",\"size\":10,\"solidity\":0.2}},\"type\":\"barpolar\"}],\"carpet\":[{\"aaxis\":{\"endlinecolor\":\"#2a3f5f\",\"gridcolor\":\"white\",\"linecolor\":\"white\",\"minorgridcolor\":\"white\",\"startlinecolor\":\"#2a3f5f\"},\"baxis\":{\"endlinecolor\":\"#2a3f5f\",\"gridcolor\":\"white\",\"linecolor\":\"white\",\"minorgridcolor\":\"white\",\"startlinecolor\":\"#2a3f5f\"},\"type\":\"carpet\"}],\"choropleth\":[{\"colorbar\":{\"outlinewidth\":0,\"ticks\":\"\"},\"type\":\"choropleth\"}],\"contour\":[{\"colorbar\":{\"outlinewidth\":0,\"ticks\":\"\"},\"colorscale\":[[0.0,\"#0d0887\"],[0.1111111111111111,\"#46039f\"],[0.2222222222222222,\"#7201a8\"],[0.3333333333333333,\"#9c179e\"],[0.4444444444444444,\"#bd3786\"],[0.5555555555555556,\"#d8576b\"],[0.6666666666666666,\"#ed7953\"],[0.7777777777777778,\"#fb9f3a\"],[0.8888888888888888,\"#fdca26\"],[1.0,\"#f0f921\"]],\"type\":\"contour\"}],\"contourcarpet\":[{\"colorbar\":{\"outlinewidth\":0,\"ticks\":\"\"},\"type\":\"contourcarpet\"}],\"heatmap\":[{\"colorbar\":{\"outlinewidth\":0,\"ticks\":\"\"},\"colorscale\":[[0.0,\"#0d0887\"],[0.1111111111111111,\"#46039f\"],[0.2222222222222222,\"#7201a8\"],[0.3333333333333333,\"#9c179e\"],[0.4444444444444444,\"#bd3786\"],[0.5555555555555556,\"#d8576b\"],[0.6666666666666666,\"#ed7953\"],[0.7777777777777778,\"#fb9f3a\"],[0.8888888888888888,\"#fdca26\"],[1.0,\"#f0f921\"]],\"type\":\"heatmap\"}],\"heatmapgl\":[{\"colorbar\":{\"outlinewidth\":0,\"ticks\":\"\"},\"colorscale\":[[0.0,\"#0d0887\"],[0.1111111111111111,\"#46039f\"],[0.2222222222222222,\"#7201a8\"],[0.3333333333333333,\"#9c179e\"],[0.4444444444444444,\"#bd3786\"],[0.5555555555555556,\"#d8576b\"],[0.6666666666666666,\"#ed7953\"],[0.7777777777777778,\"#fb9f3a\"],[0.8888888888888888,\"#fdca26\"],[1.0,\"#f0f921\"]],\"type\":\"heatmapgl\"}],\"histogram\":[{\"marker\":{\"pattern\":{\"fillmode\":\"overlay\",\"size\":10,\"solidity\":0.2}},\"type\":\"histogram\"}],\"histogram2d\":[{\"colorbar\":{\"outlinewidth\":0,\"ticks\":\"\"},\"colorscale\":[[0.0,\"#0d0887\"],[0.1111111111111111,\"#46039f\"],[0.2222222222222222,\"#7201a8\"],[0.3333333333333333,\"#9c179e\"],[0.4444444444444444,\"#bd3786\"],[0.5555555555555556,\"#d8576b\"],[0.6666666666666666,\"#ed7953\"],[0.7777777777777778,\"#fb9f3a\"],[0.8888888888888888,\"#fdca26\"],[1.0,\"#f0f921\"]],\"type\":\"histogram2d\"}],\"histogram2dcontour\":[{\"colorbar\":{\"outlinewidth\":0,\"ticks\":\"\"},\"colorscale\":[[0.0,\"#0d0887\"],[0.1111111111111111,\"#46039f\"],[0.2222222222222222,\"#7201a8\"],[0.3333333333333333,\"#9c179e\"],[0.4444444444444444,\"#bd3786\"],[0.5555555555555556,\"#d8576b\"],[0.6666666666666666,\"#ed7953\"],[0.7777777777777778,\"#fb9f3a\"],[0.8888888888888888,\"#fdca26\"],[1.0,\"#f0f921\"]],\"type\":\"histogram2dcontour\"}],\"mesh3d\":[{\"colorbar\":{\"outlinewidth\":0,\"ticks\":\"\"},\"type\":\"mesh3d\"}],\"parcoords\":[{\"line\":{\"colorbar\":{\"outlinewidth\":0,\"ticks\":\"\"}},\"type\":\"parcoords\"}],\"pie\":[{\"automargin\":true,\"type\":\"pie\"}],\"scatter\":[{\"marker\":{\"colorbar\":{\"outlinewidth\":0,\"ticks\":\"\"}},\"type\":\"scatter\"}],\"scatter3d\":[{\"line\":{\"colorbar\":{\"outlinewidth\":0,\"ticks\":\"\"}},\"marker\":{\"colorbar\":{\"outlinewidth\":0,\"ticks\":\"\"}},\"type\":\"scatter3d\"}],\"scattercarpet\":[{\"marker\":{\"colorbar\":{\"outlinewidth\":0,\"ticks\":\"\"}},\"type\":\"scattercarpet\"}],\"scattergeo\":[{\"marker\":{\"colorbar\":{\"outlinewidth\":0,\"ticks\":\"\"}},\"type\":\"scattergeo\"}],\"scattergl\":[{\"marker\":{\"colorbar\":{\"outlinewidth\":0,\"ticks\":\"\"}},\"type\":\"scattergl\"}],\"scattermapbox\":[{\"marker\":{\"colorbar\":{\"outlinewidth\":0,\"ticks\":\"\"}},\"type\":\"scattermapbox\"}],\"scatterpolar\":[{\"marker\":{\"colorbar\":{\"outlinewidth\":0,\"ticks\":\"\"}},\"type\":\"scatterpolar\"}],\"scatterpolargl\":[{\"marker\":{\"colorbar\":{\"outlinewidth\":0,\"ticks\":\"\"}},\"type\":\"scatterpolargl\"}],\"scatterternary\":[{\"marker\":{\"colorbar\":{\"outlinewidth\":0,\"ticks\":\"\"}},\"type\":\"scatterternary\"}],\"surface\":[{\"colorbar\":{\"outlinewidth\":0,\"ticks\":\"\"},\"colorscale\":[[0.0,\"#0d0887\"],[0.1111111111111111,\"#46039f\"],[0.2222222222222222,\"#7201a8\"],[0.3333333333333333,\"#9c179e\"],[0.4444444444444444,\"#bd3786\"],[0.5555555555555556,\"#d8576b\"],[0.6666666666666666,\"#ed7953\"],[0.7777777777777778,\"#fb9f3a\"],[0.8888888888888888,\"#fdca26\"],[1.0,\"#f0f921\"]],\"type\":\"surface\"}],\"table\":[{\"cells\":{\"fill\":{\"color\":\"#EBF0F8\"},\"line\":{\"color\":\"white\"}},\"header\":{\"fill\":{\"color\":\"#C8D4E3\"},\"line\":{\"color\":\"white\"}},\"type\":\"table\"}]},\"layout\":{\"annotationdefaults\":{\"arrowcolor\":\"#2a3f5f\",\"arrowhead\":0,\"arrowwidth\":1},\"autotypenumbers\":\"strict\",\"coloraxis\":{\"colorbar\":{\"outlinewidth\":0,\"ticks\":\"\"}},\"colorscale\":{\"diverging\":[[0,\"#8e0152\"],[0.1,\"#c51b7d\"],[0.2,\"#de77ae\"],[0.3,\"#f1b6da\"],[0.4,\"#fde0ef\"],[0.5,\"#f7f7f7\"],[0.6,\"#e6f5d0\"],[0.7,\"#b8e186\"],[0.8,\"#7fbc41\"],[0.9,\"#4d9221\"],[1,\"#276419\"]],\"sequential\":[[0.0,\"#0d0887\"],[0.1111111111111111,\"#46039f\"],[0.2222222222222222,\"#7201a8\"],[0.3333333333333333,\"#9c179e\"],[0.4444444444444444,\"#bd3786\"],[0.5555555555555556,\"#d8576b\"],[0.6666666666666666,\"#ed7953\"],[0.7777777777777778,\"#fb9f3a\"],[0.8888888888888888,\"#fdca26\"],[1.0,\"#f0f921\"]],\"sequentialminus\":[[0.0,\"#0d0887\"],[0.1111111111111111,\"#46039f\"],[0.2222222222222222,\"#7201a8\"],[0.3333333333333333,\"#9c179e\"],[0.4444444444444444,\"#bd3786\"],[0.5555555555555556,\"#d8576b\"],[0.6666666666666666,\"#ed7953\"],[0.7777777777777778,\"#fb9f3a\"],[0.8888888888888888,\"#fdca26\"],[1.0,\"#f0f921\"]]},\"colorway\":[\"#636efa\",\"#EF553B\",\"#00cc96\",\"#ab63fa\",\"#FFA15A\",\"#19d3f3\",\"#FF6692\",\"#B6E880\",\"#FF97FF\",\"#FECB52\"],\"font\":{\"color\":\"#2a3f5f\"},\"geo\":{\"bgcolor\":\"white\",\"lakecolor\":\"white\",\"landcolor\":\"#E5ECF6\",\"showlakes\":true,\"showland\":true,\"subunitcolor\":\"white\"},\"hoverlabel\":{\"align\":\"left\"},\"hovermode\":\"closest\",\"mapbox\":{\"style\":\"light\"},\"paper_bgcolor\":\"white\",\"plot_bgcolor\":\"#E5ECF6\",\"polar\":{\"angularaxis\":{\"gridcolor\":\"white\",\"linecolor\":\"white\",\"ticks\":\"\"},\"bgcolor\":\"#E5ECF6\",\"radialaxis\":{\"gridcolor\":\"white\",\"linecolor\":\"white\",\"ticks\":\"\"}},\"scene\":{\"xaxis\":{\"backgroundcolor\":\"#E5ECF6\",\"gridcolor\":\"white\",\"gridwidth\":2,\"linecolor\":\"white\",\"showbackground\":true,\"ticks\":\"\",\"zerolinecolor\":\"white\"},\"yaxis\":{\"backgroundcolor\":\"#E5ECF6\",\"gridcolor\":\"white\",\"gridwidth\":2,\"linecolor\":\"white\",\"showbackground\":true,\"ticks\":\"\",\"zerolinecolor\":\"white\"},\"zaxis\":{\"backgroundcolor\":\"#E5ECF6\",\"gridcolor\":\"white\",\"gridwidth\":2,\"linecolor\":\"white\",\"showbackground\":true,\"ticks\":\"\",\"zerolinecolor\":\"white\"}},\"shapedefaults\":{\"line\":{\"color\":\"#2a3f5f\"}},\"ternary\":{\"aaxis\":{\"gridcolor\":\"white\",\"linecolor\":\"white\",\"ticks\":\"\"},\"baxis\":{\"gridcolor\":\"white\",\"linecolor\":\"white\",\"ticks\":\"\"},\"bgcolor\":\"#E5ECF6\",\"caxis\":{\"gridcolor\":\"white\",\"linecolor\":\"white\",\"ticks\":\"\"}},\"title\":{\"x\":0.05},\"xaxis\":{\"automargin\":true,\"gridcolor\":\"white\",\"linecolor\":\"white\",\"ticks\":\"\",\"title\":{\"standoff\":15},\"zerolinecolor\":\"white\",\"zerolinewidth\":2},\"yaxis\":{\"automargin\":true,\"gridcolor\":\"white\",\"linecolor\":\"white\",\"ticks\":\"\",\"title\":{\"standoff\":15},\"zerolinecolor\":\"white\",\"zerolinewidth\":2}}},\"xaxis\":{\"anchor\":\"y\",\"domain\":[0.0,1.0],\"title\":{\"text\":\"EV_sale\"}},\"yaxis\":{\"anchor\":\"x\",\"domain\":[0.0,1.0],\"title\":{\"text\":\"GDP\"}},\"legend\":{\"tracegroupgap\":0},\"margin\":{\"t\":60},\"title\":{\"text\":\"GDP vs EV_sales\"},\"width\":1700,\"height\":800},                        {\"responsive\": true}                    ).then(function(){\n",
       "                            \n",
       "var gd = document.getElementById('5e7ba76f-7511-4e6d-84c2-21d1bfdf4fb4');\n",
       "var x = new MutationObserver(function (mutations, observer) {{\n",
       "        var display = window.getComputedStyle(gd).display;\n",
       "        if (!display || display === 'none') {{\n",
       "            console.log([gd, 'removed!']);\n",
       "            Plotly.purge(gd);\n",
       "            observer.disconnect();\n",
       "        }}\n",
       "}});\n",
       "\n",
       "// Listen for the removal of the full notebook cells\n",
       "var notebookContainer = gd.closest('#notebook-container');\n",
       "if (notebookContainer) {{\n",
       "    x.observe(notebookContainer, {childList: true});\n",
       "}}\n",
       "\n",
       "// Listen for the clearing of the current output cell\n",
       "var outputEl = gd.closest('.output');\n",
       "if (outputEl) {{\n",
       "    x.observe(outputEl, {childList: true});\n",
       "}}\n",
       "\n",
       "                        })                };                });            </script>        </div>"
      ]
     },
     "metadata": {},
     "output_type": "display_data"
    }
   ],
   "source": [
    "fig = px.scatter(new1, x=new1['EV_sale'], y=new1['GDP'],trendline='ols')\n",
    "fig.layout.update(\n",
    "    width=1700,\n",
    "    height=800,\n",
    "    title_text = 'GDP vs EV_sales')\n",
    "fig.show()"
   ]
  },
  {
   "cell_type": "markdown",
   "id": "27b3e06d-11d9-4f25-b591-3017d278fe48",
   "metadata": {},
   "source": [
    "# Income"
   ]
  },
  {
   "cell_type": "code",
   "execution_count": 44,
   "id": "e6fde251-ff7e-4938-bc24-84a4a0b834ea",
   "metadata": {},
   "outputs": [
    {
     "data": {
      "application/vnd.plotly.v1+json": {
       "config": {
        "plotlyServerURL": "https://plot.ly"
       },
       "data": [
        {
         "hovertemplate": "EV_sale=%{x}<br>income=%{y}<extra></extra>",
         "legendgroup": "",
         "marker": {
          "color": "#636efa",
          "symbol": "circle"
         },
         "mode": "markers",
         "name": "",
         "orientation": "v",
         "showlegend": false,
         "type": "scatter",
         "x": [
          0.0002012624170117,
          0.0001946046871151,
          0.001073614057032,
          0.0001790797563982,
          0.001570276087556,
          0.0009176196558011,
          0.0008376668837263,
          0.0007396092602226,
          0.0004827610247424,
          0.0002975599530762,
          0.0005937673879293,
          0.0003263951804135,
          0.0002365075281948,
          0.0002887092854291,
          0.0001787405063558,
          0.0001543554609032,
          0.0007285520966314,
          0.0011042197874368,
          0.0011199127556894,
          0.0001815793954418,
          0.0006400863202123,
          9.195074000136747e-05,
          0.0003341794437808,
          0.0002956868768956,
          0.0002639484748023,
          0.001051502096976,
          0.0007508197055912,
          0.0010188140930513,
          0.0003729599752813,
          0.0007330017690844,
          0.0005200302780469,
          0.0001468095956812,
          0.0005007402523822,
          0.000196257615759,
          0.0016752941667599,
          0.0004890909773875,
          0.0006231019146222,
          0.000262922441031,
          0.0002107632007451,
          0.0003092222550258,
          0.0002002927878586,
          0.0009369873675295,
          0.0015658156731137,
          0.0008158338295139,
          0.0015934671512349,
          0.0001388557178007,
          0.0003336625175398,
          0.0002502863519199
         ],
         "xaxis": "x",
         "y": [
          43157,
          61639,
          47242,
          45037,
          61087,
          74930,
          53539,
          53375,
          48697,
          45261,
          58273,
          48757,
          50149,
          52820,
          43629,
          47606,
          49986,
          61879,
          72202,
          48820,
          57946,
          39184,
          48922,
          49851,
          53419,
          51785,
          63271,
          66862,
          42907,
          67325,
          48261,
          57205,
          49809,
          48524,
          52464,
          56742,
          54735,
          46173,
          55011,
          48781,
          53505,
          48670,
          53860,
          58460,
          62817,
          42378,
          52417,
          61571
         ],
         "yaxis": "y"
        },
        {
         "hovertemplate": "<b>OLS trendline</b><br>income = 8.82381e+06 * EV_sale + 48255.5<br>R<sup>2</sup>=0.240883<br><br>EV_sale=%{x}<br>income=%{y} <b>(trend)</b><extra></extra>",
         "legendgroup": "",
         "marker": {
          "color": "#636efa",
          "symbol": "circle"
         },
         "mode": "lines",
         "name": "",
         "showlegend": false,
         "type": "scatter",
         "x": [
          9.195074000136747e-05,
          0.0001388557178007,
          0.0001468095956812,
          0.0001543554609032,
          0.0001787405063558,
          0.0001790797563982,
          0.0001815793954418,
          0.0001946046871151,
          0.000196257615759,
          0.0002002927878586,
          0.0002012624170117,
          0.0002107632007451,
          0.0002365075281948,
          0.0002502863519199,
          0.000262922441031,
          0.0002639484748023,
          0.0002887092854291,
          0.0002956868768956,
          0.0002975599530762,
          0.0003092222550258,
          0.0003263951804135,
          0.0003336625175398,
          0.0003341794437808,
          0.0003729599752813,
          0.0004827610247424,
          0.0004890909773875,
          0.0005007402523822,
          0.0005200302780469,
          0.0005937673879293,
          0.0006231019146222,
          0.0006400863202123,
          0.0007285520966314,
          0.0007330017690844,
          0.0007396092602226,
          0.0007508197055912,
          0.0008158338295139,
          0.0008376668837263,
          0.0009176196558011,
          0.0009369873675295,
          0.0010188140930513,
          0.001051502096976,
          0.001073614057032,
          0.0011042197874368,
          0.0011199127556894,
          0.0015658156731137,
          0.001570276087556,
          0.0015934671512349,
          0.0016752941667599
         ],
         "xaxis": "x",
         "y": [
          49066.8358251821,
          49480.716385981184,
          49550.89988445318,
          49617.483157195726,
          49832.65213841155,
          49835.64561595673,
          49857.70195320918,
          49972.634637867515,
          49987.219764355046,
          50022.825351861095,
          50031.38117421686,
          50115.21427432903,
          50342.3773001354,
          50463.95900762269,
          50575.4574432468,
          50584.51096917493,
          50802.995630481084,
          50864.56456419931,
          50881.09223048161,
          50983.998154278415,
          51135.528766240954,
          51199.654360292334,
          51204.21561866095,
          51546.407617859426,
          52515.27109588318,
          52571.12538840185,
          52673.916364838,
          52844.12786507771,
          53494.770031894084,
          53753.61228975368,
          53903.47943904737,
          54684.08454481047,
          54723.34760422601,
          54781.6508433716,
          54880.569671045145,
          55454.241876671294,
          55646.892574856116,
          56352.38055707686,
          56523.27754429725,
          57245.30093363137,
          57533.73363375195,
          57728.845343803216,
          57998.904460296064,
          58137.376213310745,
          62071.93834688763,
          62111.29619156402,
          62315.92970577255,
          63037.95565403949
         ],
         "yaxis": "y"
        }
       ],
       "layout": {
        "height": 800,
        "legend": {
         "tracegroupgap": 0
        },
        "margin": {
         "t": 60
        },
        "template": {
         "data": {
          "bar": [
           {
            "error_x": {
             "color": "#2a3f5f"
            },
            "error_y": {
             "color": "#2a3f5f"
            },
            "marker": {
             "line": {
              "color": "#E5ECF6",
              "width": 0.5
             },
             "pattern": {
              "fillmode": "overlay",
              "size": 10,
              "solidity": 0.2
             }
            },
            "type": "bar"
           }
          ],
          "barpolar": [
           {
            "marker": {
             "line": {
              "color": "#E5ECF6",
              "width": 0.5
             },
             "pattern": {
              "fillmode": "overlay",
              "size": 10,
              "solidity": 0.2
             }
            },
            "type": "barpolar"
           }
          ],
          "carpet": [
           {
            "aaxis": {
             "endlinecolor": "#2a3f5f",
             "gridcolor": "white",
             "linecolor": "white",
             "minorgridcolor": "white",
             "startlinecolor": "#2a3f5f"
            },
            "baxis": {
             "endlinecolor": "#2a3f5f",
             "gridcolor": "white",
             "linecolor": "white",
             "minorgridcolor": "white",
             "startlinecolor": "#2a3f5f"
            },
            "type": "carpet"
           }
          ],
          "choropleth": [
           {
            "colorbar": {
             "outlinewidth": 0,
             "ticks": ""
            },
            "type": "choropleth"
           }
          ],
          "contour": [
           {
            "colorbar": {
             "outlinewidth": 0,
             "ticks": ""
            },
            "colorscale": [
             [
              0,
              "#0d0887"
             ],
             [
              0.1111111111111111,
              "#46039f"
             ],
             [
              0.2222222222222222,
              "#7201a8"
             ],
             [
              0.3333333333333333,
              "#9c179e"
             ],
             [
              0.4444444444444444,
              "#bd3786"
             ],
             [
              0.5555555555555556,
              "#d8576b"
             ],
             [
              0.6666666666666666,
              "#ed7953"
             ],
             [
              0.7777777777777778,
              "#fb9f3a"
             ],
             [
              0.8888888888888888,
              "#fdca26"
             ],
             [
              1,
              "#f0f921"
             ]
            ],
            "type": "contour"
           }
          ],
          "contourcarpet": [
           {
            "colorbar": {
             "outlinewidth": 0,
             "ticks": ""
            },
            "type": "contourcarpet"
           }
          ],
          "heatmap": [
           {
            "colorbar": {
             "outlinewidth": 0,
             "ticks": ""
            },
            "colorscale": [
             [
              0,
              "#0d0887"
             ],
             [
              0.1111111111111111,
              "#46039f"
             ],
             [
              0.2222222222222222,
              "#7201a8"
             ],
             [
              0.3333333333333333,
              "#9c179e"
             ],
             [
              0.4444444444444444,
              "#bd3786"
             ],
             [
              0.5555555555555556,
              "#d8576b"
             ],
             [
              0.6666666666666666,
              "#ed7953"
             ],
             [
              0.7777777777777778,
              "#fb9f3a"
             ],
             [
              0.8888888888888888,
              "#fdca26"
             ],
             [
              1,
              "#f0f921"
             ]
            ],
            "type": "heatmap"
           }
          ],
          "heatmapgl": [
           {
            "colorbar": {
             "outlinewidth": 0,
             "ticks": ""
            },
            "colorscale": [
             [
              0,
              "#0d0887"
             ],
             [
              0.1111111111111111,
              "#46039f"
             ],
             [
              0.2222222222222222,
              "#7201a8"
             ],
             [
              0.3333333333333333,
              "#9c179e"
             ],
             [
              0.4444444444444444,
              "#bd3786"
             ],
             [
              0.5555555555555556,
              "#d8576b"
             ],
             [
              0.6666666666666666,
              "#ed7953"
             ],
             [
              0.7777777777777778,
              "#fb9f3a"
             ],
             [
              0.8888888888888888,
              "#fdca26"
             ],
             [
              1,
              "#f0f921"
             ]
            ],
            "type": "heatmapgl"
           }
          ],
          "histogram": [
           {
            "marker": {
             "pattern": {
              "fillmode": "overlay",
              "size": 10,
              "solidity": 0.2
             }
            },
            "type": "histogram"
           }
          ],
          "histogram2d": [
           {
            "colorbar": {
             "outlinewidth": 0,
             "ticks": ""
            },
            "colorscale": [
             [
              0,
              "#0d0887"
             ],
             [
              0.1111111111111111,
              "#46039f"
             ],
             [
              0.2222222222222222,
              "#7201a8"
             ],
             [
              0.3333333333333333,
              "#9c179e"
             ],
             [
              0.4444444444444444,
              "#bd3786"
             ],
             [
              0.5555555555555556,
              "#d8576b"
             ],
             [
              0.6666666666666666,
              "#ed7953"
             ],
             [
              0.7777777777777778,
              "#fb9f3a"
             ],
             [
              0.8888888888888888,
              "#fdca26"
             ],
             [
              1,
              "#f0f921"
             ]
            ],
            "type": "histogram2d"
           }
          ],
          "histogram2dcontour": [
           {
            "colorbar": {
             "outlinewidth": 0,
             "ticks": ""
            },
            "colorscale": [
             [
              0,
              "#0d0887"
             ],
             [
              0.1111111111111111,
              "#46039f"
             ],
             [
              0.2222222222222222,
              "#7201a8"
             ],
             [
              0.3333333333333333,
              "#9c179e"
             ],
             [
              0.4444444444444444,
              "#bd3786"
             ],
             [
              0.5555555555555556,
              "#d8576b"
             ],
             [
              0.6666666666666666,
              "#ed7953"
             ],
             [
              0.7777777777777778,
              "#fb9f3a"
             ],
             [
              0.8888888888888888,
              "#fdca26"
             ],
             [
              1,
              "#f0f921"
             ]
            ],
            "type": "histogram2dcontour"
           }
          ],
          "mesh3d": [
           {
            "colorbar": {
             "outlinewidth": 0,
             "ticks": ""
            },
            "type": "mesh3d"
           }
          ],
          "parcoords": [
           {
            "line": {
             "colorbar": {
              "outlinewidth": 0,
              "ticks": ""
             }
            },
            "type": "parcoords"
           }
          ],
          "pie": [
           {
            "automargin": true,
            "type": "pie"
           }
          ],
          "scatter": [
           {
            "marker": {
             "colorbar": {
              "outlinewidth": 0,
              "ticks": ""
             }
            },
            "type": "scatter"
           }
          ],
          "scatter3d": [
           {
            "line": {
             "colorbar": {
              "outlinewidth": 0,
              "ticks": ""
             }
            },
            "marker": {
             "colorbar": {
              "outlinewidth": 0,
              "ticks": ""
             }
            },
            "type": "scatter3d"
           }
          ],
          "scattercarpet": [
           {
            "marker": {
             "colorbar": {
              "outlinewidth": 0,
              "ticks": ""
             }
            },
            "type": "scattercarpet"
           }
          ],
          "scattergeo": [
           {
            "marker": {
             "colorbar": {
              "outlinewidth": 0,
              "ticks": ""
             }
            },
            "type": "scattergeo"
           }
          ],
          "scattergl": [
           {
            "marker": {
             "colorbar": {
              "outlinewidth": 0,
              "ticks": ""
             }
            },
            "type": "scattergl"
           }
          ],
          "scattermapbox": [
           {
            "marker": {
             "colorbar": {
              "outlinewidth": 0,
              "ticks": ""
             }
            },
            "type": "scattermapbox"
           }
          ],
          "scatterpolar": [
           {
            "marker": {
             "colorbar": {
              "outlinewidth": 0,
              "ticks": ""
             }
            },
            "type": "scatterpolar"
           }
          ],
          "scatterpolargl": [
           {
            "marker": {
             "colorbar": {
              "outlinewidth": 0,
              "ticks": ""
             }
            },
            "type": "scatterpolargl"
           }
          ],
          "scatterternary": [
           {
            "marker": {
             "colorbar": {
              "outlinewidth": 0,
              "ticks": ""
             }
            },
            "type": "scatterternary"
           }
          ],
          "surface": [
           {
            "colorbar": {
             "outlinewidth": 0,
             "ticks": ""
            },
            "colorscale": [
             [
              0,
              "#0d0887"
             ],
             [
              0.1111111111111111,
              "#46039f"
             ],
             [
              0.2222222222222222,
              "#7201a8"
             ],
             [
              0.3333333333333333,
              "#9c179e"
             ],
             [
              0.4444444444444444,
              "#bd3786"
             ],
             [
              0.5555555555555556,
              "#d8576b"
             ],
             [
              0.6666666666666666,
              "#ed7953"
             ],
             [
              0.7777777777777778,
              "#fb9f3a"
             ],
             [
              0.8888888888888888,
              "#fdca26"
             ],
             [
              1,
              "#f0f921"
             ]
            ],
            "type": "surface"
           }
          ],
          "table": [
           {
            "cells": {
             "fill": {
              "color": "#EBF0F8"
             },
             "line": {
              "color": "white"
             }
            },
            "header": {
             "fill": {
              "color": "#C8D4E3"
             },
             "line": {
              "color": "white"
             }
            },
            "type": "table"
           }
          ]
         },
         "layout": {
          "annotationdefaults": {
           "arrowcolor": "#2a3f5f",
           "arrowhead": 0,
           "arrowwidth": 1
          },
          "autotypenumbers": "strict",
          "coloraxis": {
           "colorbar": {
            "outlinewidth": 0,
            "ticks": ""
           }
          },
          "colorscale": {
           "diverging": [
            [
             0,
             "#8e0152"
            ],
            [
             0.1,
             "#c51b7d"
            ],
            [
             0.2,
             "#de77ae"
            ],
            [
             0.3,
             "#f1b6da"
            ],
            [
             0.4,
             "#fde0ef"
            ],
            [
             0.5,
             "#f7f7f7"
            ],
            [
             0.6,
             "#e6f5d0"
            ],
            [
             0.7,
             "#b8e186"
            ],
            [
             0.8,
             "#7fbc41"
            ],
            [
             0.9,
             "#4d9221"
            ],
            [
             1,
             "#276419"
            ]
           ],
           "sequential": [
            [
             0,
             "#0d0887"
            ],
            [
             0.1111111111111111,
             "#46039f"
            ],
            [
             0.2222222222222222,
             "#7201a8"
            ],
            [
             0.3333333333333333,
             "#9c179e"
            ],
            [
             0.4444444444444444,
             "#bd3786"
            ],
            [
             0.5555555555555556,
             "#d8576b"
            ],
            [
             0.6666666666666666,
             "#ed7953"
            ],
            [
             0.7777777777777778,
             "#fb9f3a"
            ],
            [
             0.8888888888888888,
             "#fdca26"
            ],
            [
             1,
             "#f0f921"
            ]
           ],
           "sequentialminus": [
            [
             0,
             "#0d0887"
            ],
            [
             0.1111111111111111,
             "#46039f"
            ],
            [
             0.2222222222222222,
             "#7201a8"
            ],
            [
             0.3333333333333333,
             "#9c179e"
            ],
            [
             0.4444444444444444,
             "#bd3786"
            ],
            [
             0.5555555555555556,
             "#d8576b"
            ],
            [
             0.6666666666666666,
             "#ed7953"
            ],
            [
             0.7777777777777778,
             "#fb9f3a"
            ],
            [
             0.8888888888888888,
             "#fdca26"
            ],
            [
             1,
             "#f0f921"
            ]
           ]
          },
          "colorway": [
           "#636efa",
           "#EF553B",
           "#00cc96",
           "#ab63fa",
           "#FFA15A",
           "#19d3f3",
           "#FF6692",
           "#B6E880",
           "#FF97FF",
           "#FECB52"
          ],
          "font": {
           "color": "#2a3f5f"
          },
          "geo": {
           "bgcolor": "white",
           "lakecolor": "white",
           "landcolor": "#E5ECF6",
           "showlakes": true,
           "showland": true,
           "subunitcolor": "white"
          },
          "hoverlabel": {
           "align": "left"
          },
          "hovermode": "closest",
          "mapbox": {
           "style": "light"
          },
          "paper_bgcolor": "white",
          "plot_bgcolor": "#E5ECF6",
          "polar": {
           "angularaxis": {
            "gridcolor": "white",
            "linecolor": "white",
            "ticks": ""
           },
           "bgcolor": "#E5ECF6",
           "radialaxis": {
            "gridcolor": "white",
            "linecolor": "white",
            "ticks": ""
           }
          },
          "scene": {
           "xaxis": {
            "backgroundcolor": "#E5ECF6",
            "gridcolor": "white",
            "gridwidth": 2,
            "linecolor": "white",
            "showbackground": true,
            "ticks": "",
            "zerolinecolor": "white"
           },
           "yaxis": {
            "backgroundcolor": "#E5ECF6",
            "gridcolor": "white",
            "gridwidth": 2,
            "linecolor": "white",
            "showbackground": true,
            "ticks": "",
            "zerolinecolor": "white"
           },
           "zaxis": {
            "backgroundcolor": "#E5ECF6",
            "gridcolor": "white",
            "gridwidth": 2,
            "linecolor": "white",
            "showbackground": true,
            "ticks": "",
            "zerolinecolor": "white"
           }
          },
          "shapedefaults": {
           "line": {
            "color": "#2a3f5f"
           }
          },
          "ternary": {
           "aaxis": {
            "gridcolor": "white",
            "linecolor": "white",
            "ticks": ""
           },
           "baxis": {
            "gridcolor": "white",
            "linecolor": "white",
            "ticks": ""
           },
           "bgcolor": "#E5ECF6",
           "caxis": {
            "gridcolor": "white",
            "linecolor": "white",
            "ticks": ""
           }
          },
          "title": {
           "x": 0.05
          },
          "xaxis": {
           "automargin": true,
           "gridcolor": "white",
           "linecolor": "white",
           "ticks": "",
           "title": {
            "standoff": 15
           },
           "zerolinecolor": "white",
           "zerolinewidth": 2
          },
          "yaxis": {
           "automargin": true,
           "gridcolor": "white",
           "linecolor": "white",
           "ticks": "",
           "title": {
            "standoff": 15
           },
           "zerolinecolor": "white",
           "zerolinewidth": 2
          }
         }
        },
        "title": {
         "text": "income vs EV_sales"
        },
        "width": 1700,
        "xaxis": {
         "anchor": "y",
         "autorange": true,
         "domain": [
          0,
          1
         ],
         "range": [
          -7.986119832183077e-07,
          0.001768043518744486
         ],
         "title": {
          "text": "EV_sale"
         },
         "type": "linear"
        },
        "yaxis": {
         "anchor": "x",
         "autorange": true,
         "domain": [
          0,
          1
         ],
         "range": [
          36944.16112531969,
          77169.83887468031
         ],
         "title": {
          "text": "income"
         },
         "type": "linear"
        }
       }
      },
      "image/png": "[encoded data removed]",
      "text/html": [
       "<div>                            <div id=\"2f77e836-5bb1-4114-a325-62119a2f6772\" class=\"plotly-graph-div\" style=\"height:800px; width:1700px;\"></div>            <script type=\"text/javascript\">                require([\"plotly\"], function(Plotly) {                    window.PLOTLYENV=window.PLOTLYENV || {};                                    if (document.getElementById(\"2f77e836-5bb1-4114-a325-62119a2f6772\")) {                    Plotly.newPlot(                        \"2f77e836-5bb1-4114-a325-62119a2f6772\",                        [{\"hovertemplate\":\"EV_sale=%{x}<br>income=%{y}<extra></extra>\",\"legendgroup\":\"\",\"marker\":{\"color\":\"#636efa\",\"symbol\":\"circle\"},\"mode\":\"markers\",\"name\":\"\",\"orientation\":\"v\",\"showlegend\":false,\"x\":[0.0002012624170117,0.0001946046871151,0.001073614057032,0.0001790797563982,0.001570276087556,0.0009176196558011,0.0008376668837263,0.0007396092602226,0.0004827610247424,0.0002975599530762,0.0005937673879293,0.0003263951804135,0.0002365075281948,0.0002887092854291,0.0001787405063558,0.0001543554609032,0.0007285520966314,0.0011042197874368,0.0011199127556894,0.0001815793954418,0.0006400863202123,9.195074000136747e-05,0.0003341794437808,0.0002956868768956,0.0002639484748023,0.001051502096976,0.0007508197055912,0.0010188140930513,0.0003729599752813,0.0007330017690844,0.0005200302780469,0.0001468095956812,0.0005007402523822,0.000196257615759,0.0016752941667599,0.0004890909773875,0.0006231019146222,0.000262922441031,0.0002107632007451,0.0003092222550258,0.0002002927878586,0.0009369873675295,0.0015658156731137,0.0008158338295139,0.0015934671512349,0.0001388557178007,0.0003336625175398,0.0002502863519199],\"xaxis\":\"x\",\"y\":[43157,61639,47242,45037,61087,74930,53539,53375,48697,45261,58273,48757,50149,52820,43629,47606,49986,61879,72202,48820,57946,39184,48922,49851,53419,51785,63271,66862,42907,67325,48261,57205,49809,48524,52464,56742,54735,46173,55011,48781,53505,48670,53860,58460,62817,42378,52417,61571],\"yaxis\":\"y\",\"type\":\"scatter\"},{\"hovertemplate\":\"<b>OLS trendline</b><br>income = 8.82381e+06 * EV_sale + 48255.5<br>R<sup>2</sup>=0.240883<br><br>EV_sale=%{x}<br>income=%{y} <b>(trend)</b><extra></extra>\",\"legendgroup\":\"\",\"marker\":{\"color\":\"#636efa\",\"symbol\":\"circle\"},\"mode\":\"lines\",\"name\":\"\",\"showlegend\":false,\"x\":[9.195074000136747e-05,0.0001388557178007,0.0001468095956812,0.0001543554609032,0.0001787405063558,0.0001790797563982,0.0001815793954418,0.0001946046871151,0.000196257615759,0.0002002927878586,0.0002012624170117,0.0002107632007451,0.0002365075281948,0.0002502863519199,0.000262922441031,0.0002639484748023,0.0002887092854291,0.0002956868768956,0.0002975599530762,0.0003092222550258,0.0003263951804135,0.0003336625175398,0.0003341794437808,0.0003729599752813,0.0004827610247424,0.0004890909773875,0.0005007402523822,0.0005200302780469,0.0005937673879293,0.0006231019146222,0.0006400863202123,0.0007285520966314,0.0007330017690844,0.0007396092602226,0.0007508197055912,0.0008158338295139,0.0008376668837263,0.0009176196558011,0.0009369873675295,0.0010188140930513,0.001051502096976,0.001073614057032,0.0011042197874368,0.0011199127556894,0.0015658156731137,0.001570276087556,0.0015934671512349,0.0016752941667599],\"xaxis\":\"x\",\"y\":[49066.8358251821,49480.716385981184,49550.89988445318,49617.483157195726,49832.65213841155,49835.64561595673,49857.70195320918,49972.634637867515,49987.219764355046,50022.825351861095,50031.38117421686,50115.21427432903,50342.3773001354,50463.95900762269,50575.4574432468,50584.51096917493,50802.995630481084,50864.56456419931,50881.09223048161,50983.998154278415,51135.528766240954,51199.654360292334,51204.21561866095,51546.407617859426,52515.27109588318,52571.12538840185,52673.916364838,52844.12786507771,53494.770031894084,53753.61228975368,53903.47943904737,54684.08454481047,54723.34760422601,54781.6508433716,54880.569671045145,55454.241876671294,55646.892574856116,56352.38055707686,56523.27754429725,57245.30093363137,57533.73363375195,57728.845343803216,57998.904460296064,58137.376213310745,62071.93834688763,62111.29619156402,62315.92970577255,63037.95565403949],\"yaxis\":\"y\",\"type\":\"scatter\"}],                        {\"template\":{\"data\":{\"bar\":[{\"error_x\":{\"color\":\"#2a3f5f\"},\"error_y\":{\"color\":\"#2a3f5f\"},\"marker\":{\"line\":{\"color\":\"#E5ECF6\",\"width\":0.5},\"pattern\":{\"fillmode\":\"overlay\",\"size\":10,\"solidity\":0.2}},\"type\":\"bar\"}],\"barpolar\":[{\"marker\":{\"line\":{\"color\":\"#E5ECF6\",\"width\":0.5},\"pattern\":{\"fillmode\":\"overlay\",\"size\":10,\"solidity\":0.2}},\"type\":\"barpolar\"}],\"carpet\":[{\"aaxis\":{\"endlinecolor\":\"#2a3f5f\",\"gridcolor\":\"white\",\"linecolor\":\"white\",\"minorgridcolor\":\"white\",\"startlinecolor\":\"#2a3f5f\"},\"baxis\":{\"endlinecolor\":\"#2a3f5f\",\"gridcolor\":\"white\",\"linecolor\":\"white\",\"minorgridcolor\":\"white\",\"startlinecolor\":\"#2a3f5f\"},\"type\":\"carpet\"}],\"choropleth\":[{\"colorbar\":{\"outlinewidth\":0,\"ticks\":\"\"},\"type\":\"choropleth\"}],\"contour\":[{\"colorbar\":{\"outlinewidth\":0,\"ticks\":\"\"},\"colorscale\":[[0.0,\"#0d0887\"],[0.1111111111111111,\"#46039f\"],[0.2222222222222222,\"#7201a8\"],[0.3333333333333333,\"#9c179e\"],[0.4444444444444444,\"#bd3786\"],[0.5555555555555556,\"#d8576b\"],[0.6666666666666666,\"#ed7953\"],[0.7777777777777778,\"#fb9f3a\"],[0.8888888888888888,\"#fdca26\"],[1.0,\"#f0f921\"]],\"type\":\"contour\"}],\"contourcarpet\":[{\"colorbar\":{\"outlinewidth\":0,\"ticks\":\"\"},\"type\":\"contourcarpet\"}],\"heatmap\":[{\"colorbar\":{\"outlinewidth\":0,\"ticks\":\"\"},\"colorscale\":[[0.0,\"#0d0887\"],[0.1111111111111111,\"#46039f\"],[0.2222222222222222,\"#7201a8\"],[0.3333333333333333,\"#9c179e\"],[0.4444444444444444,\"#bd3786\"],[0.5555555555555556,\"#d8576b\"],[0.6666666666666666,\"#ed7953\"],[0.7777777777777778,\"#fb9f3a\"],[0.8888888888888888,\"#fdca26\"],[1.0,\"#f0f921\"]],\"type\":\"heatmap\"}],\"heatmapgl\":[{\"colorbar\":{\"outlinewidth\":0,\"ticks\":\"\"},\"colorscale\":[[0.0,\"#0d0887\"],[0.1111111111111111,\"#46039f\"],[0.2222222222222222,\"#7201a8\"],[0.3333333333333333,\"#9c179e\"],[0.4444444444444444,\"#bd3786\"],[0.5555555555555556,\"#d8576b\"],[0.6666666666666666,\"#ed7953\"],[0.7777777777777778,\"#fb9f3a\"],[0.8888888888888888,\"#fdca26\"],[1.0,\"#f0f921\"]],\"type\":\"heatmapgl\"}],\"histogram\":[{\"marker\":{\"pattern\":{\"fillmode\":\"overlay\",\"size\":10,\"solidity\":0.2}},\"type\":\"histogram\"}],\"histogram2d\":[{\"colorbar\":{\"outlinewidth\":0,\"ticks\":\"\"},\"colorscale\":[[0.0,\"#0d0887\"],[0.1111111111111111,\"#46039f\"],[0.2222222222222222,\"#7201a8\"],[0.3333333333333333,\"#9c179e\"],[0.4444444444444444,\"#bd3786\"],[0.5555555555555556,\"#d8576b\"],[0.6666666666666666,\"#ed7953\"],[0.7777777777777778,\"#fb9f3a\"],[0.8888888888888888,\"#fdca26\"],[1.0,\"#f0f921\"]],\"type\":\"histogram2d\"}],\"histogram2dcontour\":[{\"colorbar\":{\"outlinewidth\":0,\"ticks\":\"\"},\"colorscale\":[[0.0,\"#0d0887\"],[0.1111111111111111,\"#46039f\"],[0.2222222222222222,\"#7201a8\"],[0.3333333333333333,\"#9c179e\"],[0.4444444444444444,\"#bd3786\"],[0.5555555555555556,\"#d8576b\"],[0.6666666666666666,\"#ed7953\"],[0.7777777777777778,\"#fb9f3a\"],[0.8888888888888888,\"#fdca26\"],[1.0,\"#f0f921\"]],\"type\":\"histogram2dcontour\"}],\"mesh3d\":[{\"colorbar\":{\"outlinewidth\":0,\"ticks\":\"\"},\"type\":\"mesh3d\"}],\"parcoords\":[{\"line\":{\"colorbar\":{\"outlinewidth\":0,\"ticks\":\"\"}},\"type\":\"parcoords\"}],\"pie\":[{\"automargin\":true,\"type\":\"pie\"}],\"scatter\":[{\"marker\":{\"colorbar\":{\"outlinewidth\":0,\"ticks\":\"\"}},\"type\":\"scatter\"}],\"scatter3d\":[{\"line\":{\"colorbar\":{\"outlinewidth\":0,\"ticks\":\"\"}},\"marker\":{\"colorbar\":{\"outlinewidth\":0,\"ticks\":\"\"}},\"type\":\"scatter3d\"}],\"scattercarpet\":[{\"marker\":{\"colorbar\":{\"outlinewidth\":0,\"ticks\":\"\"}},\"type\":\"scattercarpet\"}],\"scattergeo\":[{\"marker\":{\"colorbar\":{\"outlinewidth\":0,\"ticks\":\"\"}},\"type\":\"scattergeo\"}],\"scattergl\":[{\"marker\":{\"colorbar\":{\"outlinewidth\":0,\"ticks\":\"\"}},\"type\":\"scattergl\"}],\"scattermapbox\":[{\"marker\":{\"colorbar\":{\"outlinewidth\":0,\"ticks\":\"\"}},\"type\":\"scattermapbox\"}],\"scatterpolar\":[{\"marker\":{\"colorbar\":{\"outlinewidth\":0,\"ticks\":\"\"}},\"type\":\"scatterpolar\"}],\"scatterpolargl\":[{\"marker\":{\"colorbar\":{\"outlinewidth\":0,\"ticks\":\"\"}},\"type\":\"scatterpolargl\"}],\"scatterternary\":[{\"marker\":{\"colorbar\":{\"outlinewidth\":0,\"ticks\":\"\"}},\"type\":\"scatterternary\"}],\"surface\":[{\"colorbar\":{\"outlinewidth\":0,\"ticks\":\"\"},\"colorscale\":[[0.0,\"#0d0887\"],[0.1111111111111111,\"#46039f\"],[0.2222222222222222,\"#7201a8\"],[0.3333333333333333,\"#9c179e\"],[0.4444444444444444,\"#bd3786\"],[0.5555555555555556,\"#d8576b\"],[0.6666666666666666,\"#ed7953\"],[0.7777777777777778,\"#fb9f3a\"],[0.8888888888888888,\"#fdca26\"],[1.0,\"#f0f921\"]],\"type\":\"surface\"}],\"table\":[{\"cells\":{\"fill\":{\"color\":\"#EBF0F8\"},\"line\":{\"color\":\"white\"}},\"header\":{\"fill\":{\"color\":\"#C8D4E3\"},\"line\":{\"color\":\"white\"}},\"type\":\"table\"}]},\"layout\":{\"annotationdefaults\":{\"arrowcolor\":\"#2a3f5f\",\"arrowhead\":0,\"arrowwidth\":1},\"autotypenumbers\":\"strict\",\"coloraxis\":{\"colorbar\":{\"outlinewidth\":0,\"ticks\":\"\"}},\"colorscale\":{\"diverging\":[[0,\"#8e0152\"],[0.1,\"#c51b7d\"],[0.2,\"#de77ae\"],[0.3,\"#f1b6da\"],[0.4,\"#fde0ef\"],[0.5,\"#f7f7f7\"],[0.6,\"#e6f5d0\"],[0.7,\"#b8e186\"],[0.8,\"#7fbc41\"],[0.9,\"#4d9221\"],[1,\"#276419\"]],\"sequential\":[[0.0,\"#0d0887\"],[0.1111111111111111,\"#46039f\"],[0.2222222222222222,\"#7201a8\"],[0.3333333333333333,\"#9c179e\"],[0.4444444444444444,\"#bd3786\"],[0.5555555555555556,\"#d8576b\"],[0.6666666666666666,\"#ed7953\"],[0.7777777777777778,\"#fb9f3a\"],[0.8888888888888888,\"#fdca26\"],[1.0,\"#f0f921\"]],\"sequentialminus\":[[0.0,\"#0d0887\"],[0.1111111111111111,\"#46039f\"],[0.2222222222222222,\"#7201a8\"],[0.3333333333333333,\"#9c179e\"],[0.4444444444444444,\"#bd3786\"],[0.5555555555555556,\"#d8576b\"],[0.6666666666666666,\"#ed7953\"],[0.7777777777777778,\"#fb9f3a\"],[0.8888888888888888,\"#fdca26\"],[1.0,\"#f0f921\"]]},\"colorway\":[\"#636efa\",\"#EF553B\",\"#00cc96\",\"#ab63fa\",\"#FFA15A\",\"#19d3f3\",\"#FF6692\",\"#B6E880\",\"#FF97FF\",\"#FECB52\"],\"font\":{\"color\":\"#2a3f5f\"},\"geo\":{\"bgcolor\":\"white\",\"lakecolor\":\"white\",\"landcolor\":\"#E5ECF6\",\"showlakes\":true,\"showland\":true,\"subunitcolor\":\"white\"},\"hoverlabel\":{\"align\":\"left\"},\"hovermode\":\"closest\",\"mapbox\":{\"style\":\"light\"},\"paper_bgcolor\":\"white\",\"plot_bgcolor\":\"#E5ECF6\",\"polar\":{\"angularaxis\":{\"gridcolor\":\"white\",\"linecolor\":\"white\",\"ticks\":\"\"},\"bgcolor\":\"#E5ECF6\",\"radialaxis\":{\"gridcolor\":\"white\",\"linecolor\":\"white\",\"ticks\":\"\"}},\"scene\":{\"xaxis\":{\"backgroundcolor\":\"#E5ECF6\",\"gridcolor\":\"white\",\"gridwidth\":2,\"linecolor\":\"white\",\"showbackground\":true,\"ticks\":\"\",\"zerolinecolor\":\"white\"},\"yaxis\":{\"backgroundcolor\":\"#E5ECF6\",\"gridcolor\":\"white\",\"gridwidth\":2,\"linecolor\":\"white\",\"showbackground\":true,\"ticks\":\"\",\"zerolinecolor\":\"white\"},\"zaxis\":{\"backgroundcolor\":\"#E5ECF6\",\"gridcolor\":\"white\",\"gridwidth\":2,\"linecolor\":\"white\",\"showbackground\":true,\"ticks\":\"\",\"zerolinecolor\":\"white\"}},\"shapedefaults\":{\"line\":{\"color\":\"#2a3f5f\"}},\"ternary\":{\"aaxis\":{\"gridcolor\":\"white\",\"linecolor\":\"white\",\"ticks\":\"\"},\"baxis\":{\"gridcolor\":\"white\",\"linecolor\":\"white\",\"ticks\":\"\"},\"bgcolor\":\"#E5ECF6\",\"caxis\":{\"gridcolor\":\"white\",\"linecolor\":\"white\",\"ticks\":\"\"}},\"title\":{\"x\":0.05},\"xaxis\":{\"automargin\":true,\"gridcolor\":\"white\",\"linecolor\":\"white\",\"ticks\":\"\",\"title\":{\"standoff\":15},\"zerolinecolor\":\"white\",\"zerolinewidth\":2},\"yaxis\":{\"automargin\":true,\"gridcolor\":\"white\",\"linecolor\":\"white\",\"ticks\":\"\",\"title\":{\"standoff\":15},\"zerolinecolor\":\"white\",\"zerolinewidth\":2}}},\"xaxis\":{\"anchor\":\"y\",\"domain\":[0.0,1.0],\"title\":{\"text\":\"EV_sale\"}},\"yaxis\":{\"anchor\":\"x\",\"domain\":[0.0,1.0],\"title\":{\"text\":\"income\"}},\"legend\":{\"tracegroupgap\":0},\"margin\":{\"t\":60},\"title\":{\"text\":\"income vs EV_sales\"},\"width\":1700,\"height\":800},                        {\"responsive\": true}                    ).then(function(){\n",
       "                            \n",
       "var gd = document.getElementById('2f77e836-5bb1-4114-a325-62119a2f6772');\n",
       "var x = new MutationObserver(function (mutations, observer) {{\n",
       "        var display = window.getComputedStyle(gd).display;\n",
       "        if (!display || display === 'none') {{\n",
       "            console.log([gd, 'removed!']);\n",
       "            Plotly.purge(gd);\n",
       "            observer.disconnect();\n",
       "        }}\n",
       "}});\n",
       "\n",
       "// Listen for the removal of the full notebook cells\n",
       "var notebookContainer = gd.closest('#notebook-container');\n",
       "if (notebookContainer) {{\n",
       "    x.observe(notebookContainer, {childList: true});\n",
       "}}\n",
       "\n",
       "// Listen for the clearing of the current output cell\n",
       "var outputEl = gd.closest('.output');\n",
       "if (outputEl) {{\n",
       "    x.observe(outputEl, {childList: true});\n",
       "}}\n",
       "\n",
       "                        })                };                });            </script>        </div>"
      ]
     },
     "metadata": {},
     "output_type": "display_data"
    }
   ],
   "source": [
    "fig = px.scatter(new1, x=new1['EV_sale'], y=new1['income'],trendline='ols')\n",
    "fig.layout.update(\n",
    "    width=1700,\n",
    "    height=800,\n",
    "    title_text = 'income vs EV_sales')\n",
    "fig.show()"
   ]
  },
  {
   "cell_type": "code",
   "execution_count": 58,
   "id": "4807adf9-8836-4c3f-9d73-fba6f80885a2",
   "metadata": {},
   "outputs": [
    {
     "data": {
      "application/vnd.plotly.v1+json": {
       "config": {
        "plotlyServerURL": "https://plot.ly"
       },
       "data": [
        {
         "marker": {
          "color": "blue"
         },
         "mode": "markers",
         "name": "EV sales vs Income",
         "type": "scatter",
         "x": [
          0.0002012624170117,
          0.0001946046871151,
          0.001073614057032,
          0.0001790797563982,
          0.001570276087556,
          0.0009176196558011,
          0.0008376668837263,
          0.0007396092602226,
          0.0004827610247424,
          0.0002975599530762,
          0.0005937673879293,
          0.0003263951804135,
          0.0002365075281948,
          0.0002887092854291,
          0.0001787405063558,
          0.0001543554609032,
          0.0007285520966314,
          0.0011042197874368,
          0.0011199127556894,
          0.0001815793954418,
          0.0006400863202123,
          9.195074000136747e-05,
          0.0003341794437808,
          0.0002956868768956,
          0.0002639484748023,
          0.001051502096976,
          0.0007508197055912,
          0.0010188140930513,
          0.0003729599752813,
          0.0007330017690844,
          0.0005200302780469,
          0.0001468095956812,
          0.0005007402523822,
          0.000196257615759,
          0.0016752941667599,
          0.0004890909773875,
          0.0006231019146222,
          0.000262922441031,
          0.0002107632007451,
          0.0003092222550258,
          0.0002002927878586,
          0.0009369873675295,
          0.0015658156731137,
          0.0008158338295139,
          0.0015934671512349,
          0.0001388557178007,
          0.0003336625175398,
          0.0002502863519199
         ],
         "y": [
          43157,
          61639,
          47242,
          45037,
          61087,
          74930,
          53539,
          53375,
          48697,
          45261,
          58273,
          48757,
          50149,
          52820,
          43629,
          47606,
          49986,
          61879,
          72202,
          48820,
          57946,
          39184,
          48922,
          49851,
          53419,
          51785,
          63271,
          66862,
          42907,
          67325,
          48261,
          57205,
          49809,
          48524,
          52464,
          56742,
          54735,
          46173,
          55011,
          48781,
          53505,
          48670,
          53860,
          58460,
          62817,
          42378,
          52417,
          61571
         ]
        },
        {
         "marker": {
          "color": "green"
         },
         "mode": "markers",
         "name": "GDP sales vs Income",
         "type": "scatter",
         "x": [
          0.0002012624170117,
          0.0001946046871151,
          0.001073614057032,
          0.0001790797563982,
          0.001570276087556,
          0.0009176196558011,
          0.0008376668837263,
          0.0007396092602226,
          0.0004827610247424,
          0.0002975599530762,
          0.0005937673879293,
          0.0003263951804135,
          0.0002365075281948,
          0.0002887092854291,
          0.0001787405063558,
          0.0001543554609032,
          0.0007285520966314,
          0.0011042197874368,
          0.0011199127556894,
          0.0001815793954418,
          0.0006400863202123,
          9.195074000136747e-05,
          0.0003341794437808,
          0.0002956868768956,
          0.0002639484748023,
          0.001051502096976,
          0.0007508197055912,
          0.0010188140930513,
          0.0003729599752813,
          0.0007330017690844,
          0.0005200302780469,
          0.0001468095956812,
          0.0005007402523822,
          0.000196257615759,
          0.0016752941667599,
          0.0004890909773875,
          0.0006231019146222,
          0.000262922441031,
          0.0002107632007451,
          0.0003092222550258,
          0.0002002927878586,
          0.0009369873675295,
          0.0015658156731137,
          0.0008158338295139,
          0.0015934671512349,
          0.0001388557178007,
          0.0003336625175398,
          0.0002502863519199
         ],
         "y": [
          40648.99,
          72584.15,
          45809.18,
          38875.25,
          62199.74,
          69721.1,
          65487.21,
          45499.47,
          52455.14,
          40879.65,
          60517.1,
          50038.9,
          54307.53,
          54599.9,
          42541.02,
          50583.06,
          43782.3,
          59968.56,
          73785.85,
          46367.26,
          59811.21,
          34195.27,
          47342.14,
          43505.02,
          60506.86,
          51101.89,
          56221.45,
          60682.01,
          44960.06,
          73915.16,
          49623.68,
          72435.08,
          51842.33,
          50892.82,
          52053.95,
          55126.53,
          48628.44,
          41847.56,
          52850.57,
          47958.83,
          61866.14,
          52938.61,
          46589.33,
          56674.7,
          70166.56,
          40291.99,
          51680.48,
          67140.01
         ],
         "yaxis": "y2"
        },
        {
         "marker": {
          "color": "green"
         },
         "mode": "lines",
         "name": "Trend line of EV sales vs Income",
         "type": "scatter",
         "x": [
          0.0002012624170117,
          0.0001946046871151,
          0.001073614057032,
          0.0001790797563982,
          0.001570276087556,
          0.0009176196558011,
          0.0008376668837263,
          0.0007396092602226,
          0.0004827610247424,
          0.0002975599530762,
          0.0005937673879293,
          0.0003263951804135,
          0.0002365075281948,
          0.0002887092854291,
          0.0001787405063558,
          0.0001543554609032,
          0.0007285520966314,
          0.0011042197874368,
          0.0011199127556894,
          0.0001815793954418,
          0.0006400863202123,
          9.195074000136747e-05,
          0.0003341794437808,
          0.0002956868768956,
          0.0002639484748023,
          0.001051502096976,
          0.0007508197055912,
          0.0010188140930513,
          0.0003729599752813,
          0.0007330017690844,
          0.0005200302780469,
          0.0001468095956812,
          0.0005007402523822,
          0.000196257615759,
          0.0016752941667599,
          0.0004890909773875,
          0.0006231019146222,
          0.000262922441031,
          0.0002107632007451,
          0.0003092222550258,
          0.0002002927878586,
          0.0009369873675295,
          0.0015658156731137,
          0.0008158338295139,
          0.0015934671512349,
          0.0001388557178007,
          0.0003336625175398,
          0.0002502863519199
         ],
         "y": [
          50810.65745396424,
          50761.06555524234,
          57308.60417959825,
          50645.42391706622,
          61008.12541270451,
          56146.637763541556,
          55551.08795349395,
          54820.679269268294,
          52907.475838270446,
          51527.95565167541,
          53734.336706186135,
          51742.742628008666,
          51073.19018079158,
          51462.029064025715,
          50642.89692152789,
          50461.25832651193,
          54738.317000825075,
          57536.579226065616,
          57653.47253719653,
          50664.04315338501,
          54079.35577940777,
          49996.41991359999,
          51800.72581545111,
          51514.00353801364,
          51277.59148065313,
          57143.89727489192,
          54904.18329841656,
          56900.411851897734,
          52089.59307507609,
          54771.4615875028,
          53185.0859342074,
          50405.05091202225,
          53041.39896973696,
          50773.37784053716,
          61790.38093053614,
          52954.62619963469,
          53952.8428485804,
          51269.94879107848,
          50881.42660681408,
          51614.82545656853,
          50803.434909417505,
          56290.90339363272,
          60974.90081141914,
          55388.458554268254,
          61180.87031210399,
          50345.80430508232,
          51796.875350774935,
          51175.825469590396
         ]
        },
        {
         "marker": {
          "color": "blue"
         },
         "mode": "lines",
         "name": "Trend line of EV sales vs GDP",
         "type": "scatter",
         "x": [
          0.0002012624170117,
          0.0001946046871151,
          0.001073614057032,
          0.0001790797563982,
          0.001570276087556,
          0.0009176196558011,
          0.0008376668837263,
          0.0007396092602226,
          0.0004827610247424,
          0.0002975599530762,
          0.0005937673879293,
          0.0003263951804135,
          0.0002365075281948,
          0.0002887092854291,
          0.0001787405063558,
          0.0001543554609032,
          0.0007285520966314,
          0.0011042197874368,
          0.0011199127556894,
          0.0001815793954418,
          0.0006400863202123,
          9.195074000136747e-05,
          0.0003341794437808,
          0.0002956868768956,
          0.0002639484748023,
          0.001051502096976,
          0.0007508197055912,
          0.0010188140930513,
          0.0003729599752813,
          0.0007330017690844,
          0.0005200302780469,
          0.0001468095956812,
          0.0005007402523822,
          0.000196257615759,
          0.0016752941667599,
          0.0004890909773875,
          0.0006231019146222,
          0.000262922441031,
          0.0002107632007451,
          0.0003092222550258,
          0.0002002927878586,
          0.0009369873675295,
          0.0015658156731137,
          0.0008158338295139,
          0.0015934671512349,
          0.0001388557178007,
          0.0003336625175398,
          0.0002502863519199
         ],
         "y": [
          50031.40132785201,
          49972.65478421309,
          57728.86645257953,
          49835.665745304,
          62111.317844137506,
          56352.401495054306,
          55646.913425292965,
          54781.671586444776,
          52515.291557732235,
          50881.11248955331,
          53494.79061528444,
          51135.54905688445,
          50342.39749236056,
          50803.01587986215,
          49832.672267387374,
          49617.503259472265,
          54684.10527577711,
          57998.92560258271,
          58137.397372779684,
          49857.72208529331,
          53903.50007315249,
          49066.855859131465,
          51204.235917827464,
          50864.58482122017,
          50584.53119144528,
          57533.754718317796,
          54880.590426392686,
          57245.32198240699,
          51546.427959486886,
          54723.36834006462,
          52844.14836773302,
          49550.91997846773,
          52673.936846372584,
          49987.23991251042,
          63037.97742159767,
          52571.1458571816,
          53753.632905262515,
          50575.47766439375,
          50115.23443836662,
          50984.018426119204,
          50022.84550443459,
          56523.29850348047,
          62071.959994577395,
          55454.26270320304,
          62315.95138373802,
          49480.736471287,
          51199.674658892865,
          50463.979214934334
         ],
         "yaxis": "y2"
        }
       ],
       "layout": {
        "font": {
         "size": 15
        },
        "height": 800,
        "legend": {
         "font": {
          "color": "black",
          "size": 20
         },
         "x": 0,
         "y": 1
        },
        "template": {
         "data": {
          "bar": [
           {
            "error_x": {
             "color": "#2a3f5f"
            },
            "error_y": {
             "color": "#2a3f5f"
            },
            "marker": {
             "line": {
              "color": "white",
              "width": 0.5
             },
             "pattern": {
              "fillmode": "overlay",
              "size": 10,
              "solidity": 0.2
             }
            },
            "type": "bar"
           }
          ],
          "barpolar": [
           {
            "marker": {
             "line": {
              "color": "white",
              "width": 0.5
             },
             "pattern": {
              "fillmode": "overlay",
              "size": 10,
              "solidity": 0.2
             }
            },
            "type": "barpolar"
           }
          ],
          "carpet": [
           {
            "aaxis": {
             "endlinecolor": "#2a3f5f",
             "gridcolor": "#C8D4E3",
             "linecolor": "#C8D4E3",
             "minorgridcolor": "#C8D4E3",
             "startlinecolor": "#2a3f5f"
            },
            "baxis": {
             "endlinecolor": "#2a3f5f",
             "gridcolor": "#C8D4E3",
             "linecolor": "#C8D4E3",
             "minorgridcolor": "#C8D4E3",
             "startlinecolor": "#2a3f5f"
            },
            "type": "carpet"
           }
          ],
          "choropleth": [
           {
            "colorbar": {
             "outlinewidth": 0,
             "ticks": ""
            },
            "type": "choropleth"
           }
          ],
          "contour": [
           {
            "colorbar": {
             "outlinewidth": 0,
             "ticks": ""
            },
            "colorscale": [
             [
              0,
              "#0d0887"
             ],
             [
              0.1111111111111111,
              "#46039f"
             ],
             [
              0.2222222222222222,
              "#7201a8"
             ],
             [
              0.3333333333333333,
              "#9c179e"
             ],
             [
              0.4444444444444444,
              "#bd3786"
             ],
             [
              0.5555555555555556,
              "#d8576b"
             ],
             [
              0.6666666666666666,
              "#ed7953"
             ],
             [
              0.7777777777777778,
              "#fb9f3a"
             ],
             [
              0.8888888888888888,
              "#fdca26"
             ],
             [
              1,
              "#f0f921"
             ]
            ],
            "type": "contour"
           }
          ],
          "contourcarpet": [
           {
            "colorbar": {
             "outlinewidth": 0,
             "ticks": ""
            },
            "type": "contourcarpet"
           }
          ],
          "heatmap": [
           {
            "colorbar": {
             "outlinewidth": 0,
             "ticks": ""
            },
            "colorscale": [
             [
              0,
              "#0d0887"
             ],
             [
              0.1111111111111111,
              "#46039f"
             ],
             [
              0.2222222222222222,
              "#7201a8"
             ],
             [
              0.3333333333333333,
              "#9c179e"
             ],
             [
              0.4444444444444444,
              "#bd3786"
             ],
             [
              0.5555555555555556,
              "#d8576b"
             ],
             [
              0.6666666666666666,
              "#ed7953"
             ],
             [
              0.7777777777777778,
              "#fb9f3a"
             ],
             [
              0.8888888888888888,
              "#fdca26"
             ],
             [
              1,
              "#f0f921"
             ]
            ],
            "type": "heatmap"
           }
          ],
          "heatmapgl": [
           {
            "colorbar": {
             "outlinewidth": 0,
             "ticks": ""
            },
            "colorscale": [
             [
              0,
              "#0d0887"
             ],
             [
              0.1111111111111111,
              "#46039f"
             ],
             [
              0.2222222222222222,
              "#7201a8"
             ],
             [
              0.3333333333333333,
              "#9c179e"
             ],
             [
              0.4444444444444444,
              "#bd3786"
             ],
             [
              0.5555555555555556,
              "#d8576b"
             ],
             [
              0.6666666666666666,
              "#ed7953"
             ],
             [
              0.7777777777777778,
              "#fb9f3a"
             ],
             [
              0.8888888888888888,
              "#fdca26"
             ],
             [
              1,
              "#f0f921"
             ]
            ],
            "type": "heatmapgl"
           }
          ],
          "histogram": [
           {
            "marker": {
             "pattern": {
              "fillmode": "overlay",
              "size": 10,
              "solidity": 0.2
             }
            },
            "type": "histogram"
           }
          ],
          "histogram2d": [
           {
            "colorbar": {
             "outlinewidth": 0,
             "ticks": ""
            },
            "colorscale": [
             [
              0,
              "#0d0887"
             ],
             [
              0.1111111111111111,
              "#46039f"
             ],
             [
              0.2222222222222222,
              "#7201a8"
             ],
             [
              0.3333333333333333,
              "#9c179e"
             ],
             [
              0.4444444444444444,
              "#bd3786"
             ],
             [
              0.5555555555555556,
              "#d8576b"
             ],
             [
              0.6666666666666666,
              "#ed7953"
             ],
             [
              0.7777777777777778,
              "#fb9f3a"
             ],
             [
              0.8888888888888888,
              "#fdca26"
             ],
             [
              1,
              "#f0f921"
             ]
            ],
            "type": "histogram2d"
           }
          ],
          "histogram2dcontour": [
           {
            "colorbar": {
             "outlinewidth": 0,
             "ticks": ""
            },
            "colorscale": [
             [
              0,
              "#0d0887"
             ],
             [
              0.1111111111111111,
              "#46039f"
             ],
             [
              0.2222222222222222,
              "#7201a8"
             ],
             [
              0.3333333333333333,
              "#9c179e"
             ],
             [
              0.4444444444444444,
              "#bd3786"
             ],
             [
              0.5555555555555556,
              "#d8576b"
             ],
             [
              0.6666666666666666,
              "#ed7953"
             ],
             [
              0.7777777777777778,
              "#fb9f3a"
             ],
             [
              0.8888888888888888,
              "#fdca26"
             ],
             [
              1,
              "#f0f921"
             ]
            ],
            "type": "histogram2dcontour"
           }
          ],
          "mesh3d": [
           {
            "colorbar": {
             "outlinewidth": 0,
             "ticks": ""
            },
            "type": "mesh3d"
           }
          ],
          "parcoords": [
           {
            "line": {
             "colorbar": {
              "outlinewidth": 0,
              "ticks": ""
             }
            },
            "type": "parcoords"
           }
          ],
          "pie": [
           {
            "automargin": true,
            "type": "pie"
           }
          ],
          "scatter": [
           {
            "marker": {
             "colorbar": {
              "outlinewidth": 0,
              "ticks": ""
             }
            },
            "type": "scatter"
           }
          ],
          "scatter3d": [
           {
            "line": {
             "colorbar": {
              "outlinewidth": 0,
              "ticks": ""
             }
            },
            "marker": {
             "colorbar": {
              "outlinewidth": 0,
              "ticks": ""
             }
            },
            "type": "scatter3d"
           }
          ],
          "scattercarpet": [
           {
            "marker": {
             "colorbar": {
              "outlinewidth": 0,
              "ticks": ""
             }
            },
            "type": "scattercarpet"
           }
          ],
          "scattergeo": [
           {
            "marker": {
             "colorbar": {
              "outlinewidth": 0,
              "ticks": ""
             }
            },
            "type": "scattergeo"
           }
          ],
          "scattergl": [
           {
            "marker": {
             "colorbar": {
              "outlinewidth": 0,
              "ticks": ""
             }
            },
            "type": "scattergl"
           }
          ],
          "scattermapbox": [
           {
            "marker": {
             "colorbar": {
              "outlinewidth": 0,
              "ticks": ""
             }
            },
            "type": "scattermapbox"
           }
          ],
          "scatterpolar": [
           {
            "marker": {
             "colorbar": {
              "outlinewidth": 0,
              "ticks": ""
             }
            },
            "type": "scatterpolar"
           }
          ],
          "scatterpolargl": [
           {
            "marker": {
             "colorbar": {
              "outlinewidth": 0,
              "ticks": ""
             }
            },
            "type": "scatterpolargl"
           }
          ],
          "scatterternary": [
           {
            "marker": {
             "colorbar": {
              "outlinewidth": 0,
              "ticks": ""
             }
            },
            "type": "scatterternary"
           }
          ],
          "surface": [
           {
            "colorbar": {
             "outlinewidth": 0,
             "ticks": ""
            },
            "colorscale": [
             [
              0,
              "#0d0887"
             ],
             [
              0.1111111111111111,
              "#46039f"
             ],
             [
              0.2222222222222222,
              "#7201a8"
             ],
             [
              0.3333333333333333,
              "#9c179e"
             ],
             [
              0.4444444444444444,
              "#bd3786"
             ],
             [
              0.5555555555555556,
              "#d8576b"
             ],
             [
              0.6666666666666666,
              "#ed7953"
             ],
             [
              0.7777777777777778,
              "#fb9f3a"
             ],
             [
              0.8888888888888888,
              "#fdca26"
             ],
             [
              1,
              "#f0f921"
             ]
            ],
            "type": "surface"
           }
          ],
          "table": [
           {
            "cells": {
             "fill": {
              "color": "#EBF0F8"
             },
             "line": {
              "color": "white"
             }
            },
            "header": {
             "fill": {
              "color": "#C8D4E3"
             },
             "line": {
              "color": "white"
             }
            },
            "type": "table"
           }
          ]
         },
         "layout": {
          "annotationdefaults": {
           "arrowcolor": "#2a3f5f",
           "arrowhead": 0,
           "arrowwidth": 1
          },
          "autotypenumbers": "strict",
          "coloraxis": {
           "colorbar": {
            "outlinewidth": 0,
            "ticks": ""
           }
          },
          "colorscale": {
           "diverging": [
            [
             0,
             "#8e0152"
            ],
            [
             0.1,
             "#c51b7d"
            ],
            [
             0.2,
             "#de77ae"
            ],
            [
             0.3,
             "#f1b6da"
            ],
            [
             0.4,
             "#fde0ef"
            ],
            [
             0.5,
             "#f7f7f7"
            ],
            [
             0.6,
             "#e6f5d0"
            ],
            [
             0.7,
             "#b8e186"
            ],
            [
             0.8,
             "#7fbc41"
            ],
            [
             0.9,
             "#4d9221"
            ],
            [
             1,
             "#276419"
            ]
           ],
           "sequential": [
            [
             0,
             "#0d0887"
            ],
            [
             0.1111111111111111,
             "#46039f"
            ],
            [
             0.2222222222222222,
             "#7201a8"
            ],
            [
             0.3333333333333333,
             "#9c179e"
            ],
            [
             0.4444444444444444,
             "#bd3786"
            ],
            [
             0.5555555555555556,
             "#d8576b"
            ],
            [
             0.6666666666666666,
             "#ed7953"
            ],
            [
             0.7777777777777778,
             "#fb9f3a"
            ],
            [
             0.8888888888888888,
             "#fdca26"
            ],
            [
             1,
             "#f0f921"
            ]
           ],
           "sequentialminus": [
            [
             0,
             "#0d0887"
            ],
            [
             0.1111111111111111,
             "#46039f"
            ],
            [
             0.2222222222222222,
             "#7201a8"
            ],
            [
             0.3333333333333333,
             "#9c179e"
            ],
            [
             0.4444444444444444,
             "#bd3786"
            ],
            [
             0.5555555555555556,
             "#d8576b"
            ],
            [
             0.6666666666666666,
             "#ed7953"
            ],
            [
             0.7777777777777778,
             "#fb9f3a"
            ],
            [
             0.8888888888888888,
             "#fdca26"
            ],
            [
             1,
             "#f0f921"
            ]
           ]
          },
          "colorway": [
           "#636efa",
           "#EF553B",
           "#00cc96",
           "#ab63fa",
           "#FFA15A",
           "#19d3f3",
           "#FF6692",
           "#B6E880",
           "#FF97FF",
           "#FECB52"
          ],
          "font": {
           "color": "#2a3f5f"
          },
          "geo": {
           "bgcolor": "white",
           "lakecolor": "white",
           "landcolor": "white",
           "showlakes": true,
           "showland": true,
           "subunitcolor": "#C8D4E3"
          },
          "hoverlabel": {
           "align": "left"
          },
          "hovermode": "closest",
          "mapbox": {
           "style": "light"
          },
          "paper_bgcolor": "white",
          "plot_bgcolor": "white",
          "polar": {
           "angularaxis": {
            "gridcolor": "#EBF0F8",
            "linecolor": "#EBF0F8",
            "ticks": ""
           },
           "bgcolor": "white",
           "radialaxis": {
            "gridcolor": "#EBF0F8",
            "linecolor": "#EBF0F8",
            "ticks": ""
           }
          },
          "scene": {
           "xaxis": {
            "backgroundcolor": "white",
            "gridcolor": "#DFE8F3",
            "gridwidth": 2,
            "linecolor": "#EBF0F8",
            "showbackground": true,
            "ticks": "",
            "zerolinecolor": "#EBF0F8"
           },
           "yaxis": {
            "backgroundcolor": "white",
            "gridcolor": "#DFE8F3",
            "gridwidth": 2,
            "linecolor": "#EBF0F8",
            "showbackground": true,
            "ticks": "",
            "zerolinecolor": "#EBF0F8"
           },
           "zaxis": {
            "backgroundcolor": "white",
            "gridcolor": "#DFE8F3",
            "gridwidth": 2,
            "linecolor": "#EBF0F8",
            "showbackground": true,
            "ticks": "",
            "zerolinecolor": "#EBF0F8"
           }
          },
          "shapedefaults": {
           "line": {
            "color": "#2a3f5f"
           }
          },
          "ternary": {
           "aaxis": {
            "gridcolor": "#DFE8F3",
            "linecolor": "#A2B1C6",
            "ticks": ""
           },
           "baxis": {
            "gridcolor": "#DFE8F3",
            "linecolor": "#A2B1C6",
            "ticks": ""
           },
           "bgcolor": "white",
           "caxis": {
            "gridcolor": "#DFE8F3",
            "linecolor": "#A2B1C6",
            "ticks": ""
           }
          },
          "title": {
           "x": 0.05
          },
          "xaxis": {
           "automargin": true,
           "gridcolor": "#EBF0F8",
           "linecolor": "#EBF0F8",
           "ticks": "",
           "title": {
            "standoff": 15
           },
           "zerolinecolor": "#EBF0F8",
           "zerolinewidth": 2
          },
          "yaxis": {
           "automargin": true,
           "gridcolor": "#EBF0F8",
           "linecolor": "#EBF0F8",
           "ticks": "",
           "title": {
            "standoff": 15
           },
           "zerolinecolor": "#EBF0F8",
           "zerolinewidth": 2
          }
         }
        },
        "title": {
         "text": "EV sales vs GDP and income (per capita)"
        },
        "width": 1600,
        "xaxis": {
         "autorange": true,
         "range": [
          -1.132895681177232e-06,
          0.0017683778024424448
         ],
         "type": "linear"
        },
        "yaxis": {
         "autorange": true,
         "range": [
          36927.5540417802,
          77186.4459582198
         ],
         "title": {
          "text": "Income"
         },
         "type": "linear"
        },
        "yaxis2": {
         "autorange": true,
         "overlaying": "y",
         "range": [
          31687.97449137148,
          76422.45550862853
         ],
         "side": "right",
         "title": {
          "text": "GDP"
         },
         "type": "linear"
        }
       }
      },
      "image/png": "[encoded data removed]",
      "text/html": [
       "<div>                            <div id=\"5c5642bd-ae7c-4cf9-8626-a91233ab44fc\" class=\"plotly-graph-div\" style=\"height:800px; width:1600px;\"></div>            <script type=\"text/javascript\">                require([\"plotly\"], function(Plotly) {                    window.PLOTLYENV=window.PLOTLYENV || {};                                    if (document.getElementById(\"5c5642bd-ae7c-4cf9-8626-a91233ab44fc\")) {                    Plotly.newPlot(                        \"5c5642bd-ae7c-4cf9-8626-a91233ab44fc\",                        [{\"marker\":{\"color\":\"blue\"},\"mode\":\"markers\",\"name\":\"EV sales vs Income\",\"x\":[0.0002012624170117,0.0001946046871151,0.001073614057032,0.0001790797563982,0.001570276087556,0.0009176196558011,0.0008376668837263,0.0007396092602226,0.0004827610247424,0.0002975599530762,0.0005937673879293,0.0003263951804135,0.0002365075281948,0.0002887092854291,0.0001787405063558,0.0001543554609032,0.0007285520966314,0.0011042197874368,0.0011199127556894,0.0001815793954418,0.0006400863202123,9.195074000136747e-05,0.0003341794437808,0.0002956868768956,0.0002639484748023,0.001051502096976,0.0007508197055912,0.0010188140930513,0.0003729599752813,0.0007330017690844,0.0005200302780469,0.0001468095956812,0.0005007402523822,0.000196257615759,0.0016752941667599,0.0004890909773875,0.0006231019146222,0.000262922441031,0.0002107632007451,0.0003092222550258,0.0002002927878586,0.0009369873675295,0.0015658156731137,0.0008158338295139,0.0015934671512349,0.0001388557178007,0.0003336625175398,0.0002502863519199],\"y\":[43157,61639,47242,45037,61087,74930,53539,53375,48697,45261,58273,48757,50149,52820,43629,47606,49986,61879,72202,48820,57946,39184,48922,49851,53419,51785,63271,66862,42907,67325,48261,57205,49809,48524,52464,56742,54735,46173,55011,48781,53505,48670,53860,58460,62817,42378,52417,61571],\"type\":\"scatter\"},{\"marker\":{\"color\":\"green\"},\"mode\":\"markers\",\"name\":\"GDP sales vs Income\",\"x\":[0.0002012624170117,0.0001946046871151,0.001073614057032,0.0001790797563982,0.001570276087556,0.0009176196558011,0.0008376668837263,0.0007396092602226,0.0004827610247424,0.0002975599530762,0.0005937673879293,0.0003263951804135,0.0002365075281948,0.0002887092854291,0.0001787405063558,0.0001543554609032,0.0007285520966314,0.0011042197874368,0.0011199127556894,0.0001815793954418,0.0006400863202123,9.195074000136747e-05,0.0003341794437808,0.0002956868768956,0.0002639484748023,0.001051502096976,0.0007508197055912,0.0010188140930513,0.0003729599752813,0.0007330017690844,0.0005200302780469,0.0001468095956812,0.0005007402523822,0.000196257615759,0.0016752941667599,0.0004890909773875,0.0006231019146222,0.000262922441031,0.0002107632007451,0.0003092222550258,0.0002002927878586,0.0009369873675295,0.0015658156731137,0.0008158338295139,0.0015934671512349,0.0001388557178007,0.0003336625175398,0.0002502863519199],\"y\":[40648.99,72584.15,45809.18,38875.25,62199.74,69721.1,65487.21,45499.47,52455.14,40879.65,60517.1,50038.9,54307.53,54599.9,42541.02,50583.06,43782.3,59968.56,73785.85,46367.26,59811.21,34195.27,47342.14,43505.02,60506.86,51101.89,56221.45,60682.01,44960.06,73915.16,49623.68,72435.08,51842.33,50892.82,52053.95,55126.53,48628.44,41847.56,52850.57,47958.83,61866.14,52938.61,46589.33,56674.7,70166.56,40291.99,51680.48,67140.01],\"yaxis\":\"y2\",\"type\":\"scatter\"},{\"marker\":{\"color\":\"green\"},\"mode\":\"lines\",\"name\":\"Trend line of EV sales vs Income\",\"x\":[0.0002012624170117,0.0001946046871151,0.001073614057032,0.0001790797563982,0.001570276087556,0.0009176196558011,0.0008376668837263,0.0007396092602226,0.0004827610247424,0.0002975599530762,0.0005937673879293,0.0003263951804135,0.0002365075281948,0.0002887092854291,0.0001787405063558,0.0001543554609032,0.0007285520966314,0.0011042197874368,0.0011199127556894,0.0001815793954418,0.0006400863202123,9.195074000136747e-05,0.0003341794437808,0.0002956868768956,0.0002639484748023,0.001051502096976,0.0007508197055912,0.0010188140930513,0.0003729599752813,0.0007330017690844,0.0005200302780469,0.0001468095956812,0.0005007402523822,0.000196257615759,0.0016752941667599,0.0004890909773875,0.0006231019146222,0.000262922441031,0.0002107632007451,0.0003092222550258,0.0002002927878586,0.0009369873675295,0.0015658156731137,0.0008158338295139,0.0015934671512349,0.0001388557178007,0.0003336625175398,0.0002502863519199],\"y\":[50810.65745396424,50761.06555524234,57308.60417959825,50645.42391706622,61008.12541270451,56146.637763541556,55551.08795349395,54820.679269268294,52907.475838270446,51527.95565167541,53734.336706186135,51742.742628008666,51073.19018079158,51462.029064025715,50642.89692152789,50461.25832651193,54738.317000825075,57536.579226065616,57653.47253719653,50664.04315338501,54079.35577940777,49996.41991359999,51800.72581545111,51514.00353801364,51277.59148065313,57143.89727489192,54904.18329841656,56900.411851897734,52089.59307507609,54771.4615875028,53185.0859342074,50405.05091202225,53041.39896973696,50773.37784053716,61790.38093053614,52954.62619963469,53952.8428485804,51269.94879107848,50881.42660681408,51614.82545656853,50803.434909417505,56290.90339363272,60974.90081141914,55388.458554268254,61180.87031210399,50345.80430508232,51796.875350774935,51175.825469590396],\"type\":\"scatter\"},{\"marker\":{\"color\":\"blue\"},\"mode\":\"lines\",\"name\":\"Trend line of EV sales vs GDP\",\"x\":[0.0002012624170117,0.0001946046871151,0.001073614057032,0.0001790797563982,0.001570276087556,0.0009176196558011,0.0008376668837263,0.0007396092602226,0.0004827610247424,0.0002975599530762,0.0005937673879293,0.0003263951804135,0.0002365075281948,0.0002887092854291,0.0001787405063558,0.0001543554609032,0.0007285520966314,0.0011042197874368,0.0011199127556894,0.0001815793954418,0.0006400863202123,9.195074000136747e-05,0.0003341794437808,0.0002956868768956,0.0002639484748023,0.001051502096976,0.0007508197055912,0.0010188140930513,0.0003729599752813,0.0007330017690844,0.0005200302780469,0.0001468095956812,0.0005007402523822,0.000196257615759,0.0016752941667599,0.0004890909773875,0.0006231019146222,0.000262922441031,0.0002107632007451,0.0003092222550258,0.0002002927878586,0.0009369873675295,0.0015658156731137,0.0008158338295139,0.0015934671512349,0.0001388557178007,0.0003336625175398,0.0002502863519199],\"y\":[50031.40132785201,49972.65478421309,57728.86645257953,49835.665745304,62111.317844137506,56352.401495054306,55646.913425292965,54781.671586444776,52515.291557732235,50881.11248955331,53494.79061528444,51135.54905688445,50342.39749236056,50803.01587986215,49832.672267387374,49617.503259472265,54684.10527577711,57998.92560258271,58137.397372779684,49857.72208529331,53903.50007315249,49066.855859131465,51204.235917827464,50864.58482122017,50584.53119144528,57533.754718317796,54880.590426392686,57245.32198240699,51546.427959486886,54723.36834006462,52844.14836773302,49550.91997846773,52673.936846372584,49987.23991251042,63037.97742159767,52571.1458571816,53753.632905262515,50575.47766439375,50115.23443836662,50984.018426119204,50022.84550443459,56523.29850348047,62071.959994577395,55454.26270320304,62315.95138373802,49480.736471287,51199.674658892865,50463.979214934334],\"yaxis\":\"y2\",\"type\":\"scatter\"}],                        {\"font\":{\"size\":15},\"legend\":{\"font\":{\"color\":\"black\",\"size\":20},\"x\":0,\"y\":1},\"title\":{\"text\":\"EV sales vs GDP and income (per capita)\"},\"yaxis\":{\"title\":{\"text\":\"Income\"}},\"yaxis2\":{\"overlaying\":\"y\",\"side\":\"right\",\"title\":{\"text\":\"GDP\"}},\"template\":{\"data\":{\"barpolar\":[{\"marker\":{\"line\":{\"color\":\"white\",\"width\":0.5},\"pattern\":{\"fillmode\":\"overlay\",\"size\":10,\"solidity\":0.2}},\"type\":\"barpolar\"}],\"bar\":[{\"error_x\":{\"color\":\"#2a3f5f\"},\"error_y\":{\"color\":\"#2a3f5f\"},\"marker\":{\"line\":{\"color\":\"white\",\"width\":0.5},\"pattern\":{\"fillmode\":\"overlay\",\"size\":10,\"solidity\":0.2}},\"type\":\"bar\"}],\"carpet\":[{\"aaxis\":{\"endlinecolor\":\"#2a3f5f\",\"gridcolor\":\"#C8D4E3\",\"linecolor\":\"#C8D4E3\",\"minorgridcolor\":\"#C8D4E3\",\"startlinecolor\":\"#2a3f5f\"},\"baxis\":{\"endlinecolor\":\"#2a3f5f\",\"gridcolor\":\"#C8D4E3\",\"linecolor\":\"#C8D4E3\",\"minorgridcolor\":\"#C8D4E3\",\"startlinecolor\":\"#2a3f5f\"},\"type\":\"carpet\"}],\"choropleth\":[{\"colorbar\":{\"outlinewidth\":0,\"ticks\":\"\"},\"type\":\"choropleth\"}],\"contourcarpet\":[{\"colorbar\":{\"outlinewidth\":0,\"ticks\":\"\"},\"type\":\"contourcarpet\"}],\"contour\":[{\"colorbar\":{\"outlinewidth\":0,\"ticks\":\"\"},\"colorscale\":[[0.0,\"#0d0887\"],[0.1111111111111111,\"#46039f\"],[0.2222222222222222,\"#7201a8\"],[0.3333333333333333,\"#9c179e\"],[0.4444444444444444,\"#bd3786\"],[0.5555555555555556,\"#d8576b\"],[0.6666666666666666,\"#ed7953\"],[0.7777777777777778,\"#fb9f3a\"],[0.8888888888888888,\"#fdca26\"],[1.0,\"#f0f921\"]],\"type\":\"contour\"}],\"heatmapgl\":[{\"colorbar\":{\"outlinewidth\":0,\"ticks\":\"\"},\"colorscale\":[[0.0,\"#0d0887\"],[0.1111111111111111,\"#46039f\"],[0.2222222222222222,\"#7201a8\"],[0.3333333333333333,\"#9c179e\"],[0.4444444444444444,\"#bd3786\"],[0.5555555555555556,\"#d8576b\"],[0.6666666666666666,\"#ed7953\"],[0.7777777777777778,\"#fb9f3a\"],[0.8888888888888888,\"#fdca26\"],[1.0,\"#f0f921\"]],\"type\":\"heatmapgl\"}],\"heatmap\":[{\"colorbar\":{\"outlinewidth\":0,\"ticks\":\"\"},\"colorscale\":[[0.0,\"#0d0887\"],[0.1111111111111111,\"#46039f\"],[0.2222222222222222,\"#7201a8\"],[0.3333333333333333,\"#9c179e\"],[0.4444444444444444,\"#bd3786\"],[0.5555555555555556,\"#d8576b\"],[0.6666666666666666,\"#ed7953\"],[0.7777777777777778,\"#fb9f3a\"],[0.8888888888888888,\"#fdca26\"],[1.0,\"#f0f921\"]],\"type\":\"heatmap\"}],\"histogram2dcontour\":[{\"colorbar\":{\"outlinewidth\":0,\"ticks\":\"\"},\"colorscale\":[[0.0,\"#0d0887\"],[0.1111111111111111,\"#46039f\"],[0.2222222222222222,\"#7201a8\"],[0.3333333333333333,\"#9c179e\"],[0.4444444444444444,\"#bd3786\"],[0.5555555555555556,\"#d8576b\"],[0.6666666666666666,\"#ed7953\"],[0.7777777777777778,\"#fb9f3a\"],[0.8888888888888888,\"#fdca26\"],[1.0,\"#f0f921\"]],\"type\":\"histogram2dcontour\"}],\"histogram2d\":[{\"colorbar\":{\"outlinewidth\":0,\"ticks\":\"\"},\"colorscale\":[[0.0,\"#0d0887\"],[0.1111111111111111,\"#46039f\"],[0.2222222222222222,\"#7201a8\"],[0.3333333333333333,\"#9c179e\"],[0.4444444444444444,\"#bd3786\"],[0.5555555555555556,\"#d8576b\"],[0.6666666666666666,\"#ed7953\"],[0.7777777777777778,\"#fb9f3a\"],[0.8888888888888888,\"#fdca26\"],[1.0,\"#f0f921\"]],\"type\":\"histogram2d\"}],\"histogram\":[{\"marker\":{\"pattern\":{\"fillmode\":\"overlay\",\"size\":10,\"solidity\":0.2}},\"type\":\"histogram\"}],\"mesh3d\":[{\"colorbar\":{\"outlinewidth\":0,\"ticks\":\"\"},\"type\":\"mesh3d\"}],\"parcoords\":[{\"line\":{\"colorbar\":{\"outlinewidth\":0,\"ticks\":\"\"}},\"type\":\"parcoords\"}],\"pie\":[{\"automargin\":true,\"type\":\"pie\"}],\"scatter3d\":[{\"line\":{\"colorbar\":{\"outlinewidth\":0,\"ticks\":\"\"}},\"marker\":{\"colorbar\":{\"outlinewidth\":0,\"ticks\":\"\"}},\"type\":\"scatter3d\"}],\"scattercarpet\":[{\"marker\":{\"colorbar\":{\"outlinewidth\":0,\"ticks\":\"\"}},\"type\":\"scattercarpet\"}],\"scattergeo\":[{\"marker\":{\"colorbar\":{\"outlinewidth\":0,\"ticks\":\"\"}},\"type\":\"scattergeo\"}],\"scattergl\":[{\"marker\":{\"colorbar\":{\"outlinewidth\":0,\"ticks\":\"\"}},\"type\":\"scattergl\"}],\"scattermapbox\":[{\"marker\":{\"colorbar\":{\"outlinewidth\":0,\"ticks\":\"\"}},\"type\":\"scattermapbox\"}],\"scatterpolargl\":[{\"marker\":{\"colorbar\":{\"outlinewidth\":0,\"ticks\":\"\"}},\"type\":\"scatterpolargl\"}],\"scatterpolar\":[{\"marker\":{\"colorbar\":{\"outlinewidth\":0,\"ticks\":\"\"}},\"type\":\"scatterpolar\"}],\"scatter\":[{\"marker\":{\"colorbar\":{\"outlinewidth\":0,\"ticks\":\"\"}},\"type\":\"scatter\"}],\"scatterternary\":[{\"marker\":{\"colorbar\":{\"outlinewidth\":0,\"ticks\":\"\"}},\"type\":\"scatterternary\"}],\"surface\":[{\"colorbar\":{\"outlinewidth\":0,\"ticks\":\"\"},\"colorscale\":[[0.0,\"#0d0887\"],[0.1111111111111111,\"#46039f\"],[0.2222222222222222,\"#7201a8\"],[0.3333333333333333,\"#9c179e\"],[0.4444444444444444,\"#bd3786\"],[0.5555555555555556,\"#d8576b\"],[0.6666666666666666,\"#ed7953\"],[0.7777777777777778,\"#fb9f3a\"],[0.8888888888888888,\"#fdca26\"],[1.0,\"#f0f921\"]],\"type\":\"surface\"}],\"table\":[{\"cells\":{\"fill\":{\"color\":\"#EBF0F8\"},\"line\":{\"color\":\"white\"}},\"header\":{\"fill\":{\"color\":\"#C8D4E3\"},\"line\":{\"color\":\"white\"}},\"type\":\"table\"}]},\"layout\":{\"annotationdefaults\":{\"arrowcolor\":\"#2a3f5f\",\"arrowhead\":0,\"arrowwidth\":1},\"autotypenumbers\":\"strict\",\"coloraxis\":{\"colorbar\":{\"outlinewidth\":0,\"ticks\":\"\"}},\"colorscale\":{\"diverging\":[[0,\"#8e0152\"],[0.1,\"#c51b7d\"],[0.2,\"#de77ae\"],[0.3,\"#f1b6da\"],[0.4,\"#fde0ef\"],[0.5,\"#f7f7f7\"],[0.6,\"#e6f5d0\"],[0.7,\"#b8e186\"],[0.8,\"#7fbc41\"],[0.9,\"#4d9221\"],[1,\"#276419\"]],\"sequential\":[[0.0,\"#0d0887\"],[0.1111111111111111,\"#46039f\"],[0.2222222222222222,\"#7201a8\"],[0.3333333333333333,\"#9c179e\"],[0.4444444444444444,\"#bd3786\"],[0.5555555555555556,\"#d8576b\"],[0.6666666666666666,\"#ed7953\"],[0.7777777777777778,\"#fb9f3a\"],[0.8888888888888888,\"#fdca26\"],[1.0,\"#f0f921\"]],\"sequentialminus\":[[0.0,\"#0d0887\"],[0.1111111111111111,\"#46039f\"],[0.2222222222222222,\"#7201a8\"],[0.3333333333333333,\"#9c179e\"],[0.4444444444444444,\"#bd3786\"],[0.5555555555555556,\"#d8576b\"],[0.6666666666666666,\"#ed7953\"],[0.7777777777777778,\"#fb9f3a\"],[0.8888888888888888,\"#fdca26\"],[1.0,\"#f0f921\"]]},\"colorway\":[\"#636efa\",\"#EF553B\",\"#00cc96\",\"#ab63fa\",\"#FFA15A\",\"#19d3f3\",\"#FF6692\",\"#B6E880\",\"#FF97FF\",\"#FECB52\"],\"font\":{\"color\":\"#2a3f5f\"},\"geo\":{\"bgcolor\":\"white\",\"lakecolor\":\"white\",\"landcolor\":\"white\",\"showlakes\":true,\"showland\":true,\"subunitcolor\":\"#C8D4E3\"},\"hoverlabel\":{\"align\":\"left\"},\"hovermode\":\"closest\",\"mapbox\":{\"style\":\"light\"},\"paper_bgcolor\":\"white\",\"plot_bgcolor\":\"white\",\"polar\":{\"angularaxis\":{\"gridcolor\":\"#EBF0F8\",\"linecolor\":\"#EBF0F8\",\"ticks\":\"\"},\"bgcolor\":\"white\",\"radialaxis\":{\"gridcolor\":\"#EBF0F8\",\"linecolor\":\"#EBF0F8\",\"ticks\":\"\"}},\"scene\":{\"xaxis\":{\"backgroundcolor\":\"white\",\"gridcolor\":\"#DFE8F3\",\"gridwidth\":2,\"linecolor\":\"#EBF0F8\",\"showbackground\":true,\"ticks\":\"\",\"zerolinecolor\":\"#EBF0F8\"},\"yaxis\":{\"backgroundcolor\":\"white\",\"gridcolor\":\"#DFE8F3\",\"gridwidth\":2,\"linecolor\":\"#EBF0F8\",\"showbackground\":true,\"ticks\":\"\",\"zerolinecolor\":\"#EBF0F8\"},\"zaxis\":{\"backgroundcolor\":\"white\",\"gridcolor\":\"#DFE8F3\",\"gridwidth\":2,\"linecolor\":\"#EBF0F8\",\"showbackground\":true,\"ticks\":\"\",\"zerolinecolor\":\"#EBF0F8\"}},\"shapedefaults\":{\"line\":{\"color\":\"#2a3f5f\"}},\"ternary\":{\"aaxis\":{\"gridcolor\":\"#DFE8F3\",\"linecolor\":\"#A2B1C6\",\"ticks\":\"\"},\"baxis\":{\"gridcolor\":\"#DFE8F3\",\"linecolor\":\"#A2B1C6\",\"ticks\":\"\"},\"bgcolor\":\"white\",\"caxis\":{\"gridcolor\":\"#DFE8F3\",\"linecolor\":\"#A2B1C6\",\"ticks\":\"\"}},\"title\":{\"x\":0.05},\"xaxis\":{\"automargin\":true,\"gridcolor\":\"#EBF0F8\",\"linecolor\":\"#EBF0F8\",\"ticks\":\"\",\"title\":{\"standoff\":15},\"zerolinecolor\":\"#EBF0F8\",\"zerolinewidth\":2},\"yaxis\":{\"automargin\":true,\"gridcolor\":\"#EBF0F8\",\"linecolor\":\"#EBF0F8\",\"ticks\":\"\",\"title\":{\"standoff\":15},\"zerolinecolor\":\"#EBF0F8\",\"zerolinewidth\":2}}},\"width\":1600,\"height\":800},                        {\"responsive\": true}                    ).then(function(){\n",
       "                            \n",
       "var gd = document.getElementById('5c5642bd-ae7c-4cf9-8626-a91233ab44fc');\n",
       "var x = new MutationObserver(function (mutations, observer) {{\n",
       "        var display = window.getComputedStyle(gd).display;\n",
       "        if (!display || display === 'none') {{\n",
       "            console.log([gd, 'removed!']);\n",
       "            Plotly.purge(gd);\n",
       "            observer.disconnect();\n",
       "        }}\n",
       "}});\n",
       "\n",
       "// Listen for the removal of the full notebook cells\n",
       "var notebookContainer = gd.closest('#notebook-container');\n",
       "if (notebookContainer) {{\n",
       "    x.observe(notebookContainer, {childList: true});\n",
       "}}\n",
       "\n",
       "// Listen for the clearing of the current output cell\n",
       "var outputEl = gd.closest('.output');\n",
       "if (outputEl) {{\n",
       "    x.observe(outputEl, {childList: true});\n",
       "}}\n",
       "\n",
       "                        })                };                });            </script>        </div>"
      ]
     },
     "metadata": {},
     "output_type": "display_data"
    }
   ],
   "source": [
    "trace0 = go.Scatter(x=new1['EV_sale'], \n",
    "                y=new1['income'], \n",
    "                mode='markers',\n",
    "                    name= 'EV sales vs Income',\n",
    "                marker_color='blue')\n",
    "trace1 = go.Scatter(x=new1['EV_sale'], \n",
    "                y=new1['GDP'], \n",
    "                mode='markers',\n",
    "                    name= 'GDP sales vs Income',\n",
    "                marker_color='green',\n",
    "                   yaxis=\"y2\")\n",
    "trace2 = go.Scatter(x=new1['EV_sale'], \n",
    "                    y= 7.44877e+06 *new1['EV_sale']+ 49311.5, \n",
    "                    mode = \"lines\",name=\"Trend line of EV sales vs Income\", \n",
    "                    marker_color = \"green\"\n",
    "                    )\n",
    "trace3 = go.Scatter(x=new1['EV_sale'], \n",
    "                    y= 8.82381e+06 *new1['EV_sale']+ 48255.5, \n",
    "                    mode = \"lines\",\n",
    "                    name=\"Trend line of EV sales vs GDP\", \n",
    "                    marker_color = \"blue\",yaxis=\"y2\")\n",
    "data1 = [trace0, trace1, trace2, trace3]\n",
    "layout = go.Layout(title=\"EV sales vs GDP and income (per capita)\",\n",
    "                   font_size=15,\n",
    "                   yaxis=dict(title=\"Income\"),\n",
    "                   yaxis2=dict(title=\"GDP\", overlaying='y', side=\"right\"),\n",
    "                   legend=dict(x=0, y=1, font=dict(size=20, color=\"black\")))\n",
    "fig = go.Figure(data=data1, layout=layout)\n",
    "fig.update_layout(\n",
    "    width=1600,\n",
    "    height=800,\n",
    "    template='plotly_white'\n",
    ")\n",
    "fig.show()"
   ]
  },
  {
   "cell_type": "markdown",
   "id": "4bdc8305-b3a1-4662-b973-bf1df56d641a",
   "metadata": {},
   "source": [
    "## Conclusion"
   ]
  },
  {
   "cell_type": "markdown",
   "id": "2fb0db66-3422-437f-8ac6-09d6ce1e0240",
   "metadata": {},
   "source": [
    "GDP and income are directly proportional. and they both proportional to EV sales"
   ]
  },
  {
   "cell_type": "code",
   "execution_count": null,
   "id": "71d2d0e6-3528-4456-878e-7298b944372c",
   "metadata": {},
   "outputs": [],
   "source": []
  }
 ],
 "metadata": {
  "kernelspec": {
   "display_name": "Python 3 (ipykernel)",
   "language": "python",
   "name": "python3"
  },
  "language_info": {
   "codemirror_mode": {
    "name": "ipython",
    "version": 3
   },
   "file_extension": ".py",
   "mimetype": "text/x-python",
   "name": "python",
   "nbconvert_exporter": "python",
   "pygments_lexer": "ipython3",
   "version": "3.9.7"
  }
 },
 "nbformat": 4,
 "nbformat_minor": 5
}
