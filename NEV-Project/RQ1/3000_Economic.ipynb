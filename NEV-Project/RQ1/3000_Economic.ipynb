{
 "cells": [
  {
   "cell_type": "markdown",
   "id": "441ccfef-03c1-4235-8838-6da416ee89f3",
   "metadata": {},
   "source": [
    "# Economic vs EV sales"
   ]
  },
  {
   "cell_type": "markdown",
   "id": "a52f3379-0bd3-47b0-aecc-42460ea5caba",
   "metadata": {},
   "source": [
    "In this NoteBook, the economic impact of new energy vehicles is discussed, including GDP, and income."
   ]
  },
  {
   "cell_type": "code",
   "execution_count": 1,
   "id": "35cebb1f-f256-4bc6-9bb4-fd7d4ee26a1a",
   "metadata": {},
   "outputs": [],
   "source": [
    "import pandas as pd\n",
    "import matplotlib.pylab as plt\n",
    "import matplotlib\n",
    "from scipy import stats"
   ]
  },
  {
   "cell_type": "markdown",
   "id": "d3bcf104-e6e9-41f3-8a9c-e11b7fb0d3f6",
   "metadata": {},
   "source": [
    "## Parameters "
   ]
  },
  {
   "cell_type": "code",
   "execution_count": 2,
   "id": "1ff74afe-baed-4388-bef7-4ba0c9512637",
   "metadata": {},
   "outputs": [],
   "source": [
    "EV_SALE_DATASET = '../Processed_Data/Ev_sales.csv'\n",
    "GDP_DATASET = '../Processed_Data/gdp.csv'\n",
    "INCOME_DATASET = '../Processed_Data/incomes.csv'"
   ]
  },
  {
   "cell_type": "markdown",
   "id": "79082f90-756d-4fc2-9bfa-340d476d699a",
   "metadata": {
    "tags": []
   },
   "source": [
    "# Load Datasets\n",
    "## Load the EV sales dataset"
   ]
  },
  {
   "cell_type": "code",
   "execution_count": 3,
   "id": "65a0e6c5-1d44-4402-a057-08ad848c55fa",
   "metadata": {},
   "outputs": [
    {
     "name": "stdout",
     "output_type": "stream",
     "text": [
      "(51, 4)\n"
     ]
    },
    {
     "data": {
      "text/html": [
       "<div>\n",
       "<style scoped>\n",
       "    .dataframe tbody tr th:only-of-type {\n",
       "        vertical-align: middle;\n",
       "    }\n",
       "\n",
       "    .dataframe tbody tr th {\n",
       "        vertical-align: top;\n",
       "    }\n",
       "\n",
       "    .dataframe thead th {\n",
       "        text-align: right;\n",
       "    }\n",
       "</style>\n",
       "<table border=\"1\" class=\"dataframe\">\n",
       "  <thead>\n",
       "    <tr style=\"text-align: right;\">\n",
       "      <th></th>\n",
       "      <th>2016</th>\n",
       "      <th>2017</th>\n",
       "      <th>2018</th>\n",
       "      <th>2019</th>\n",
       "    </tr>\n",
       "    <tr>\n",
       "      <th>State</th>\n",
       "      <th></th>\n",
       "      <th></th>\n",
       "      <th></th>\n",
       "      <th></th>\n",
       "    </tr>\n",
       "  </thead>\n",
       "  <tbody>\n",
       "    <tr>\n",
       "      <th>California</th>\n",
       "      <td>73854</td>\n",
       "      <td>94873</td>\n",
       "      <td>153442</td>\n",
       "      <td>145020</td>\n",
       "    </tr>\n",
       "    <tr>\n",
       "      <th>New York</th>\n",
       "      <td>6043</td>\n",
       "      <td>10090</td>\n",
       "      <td>15752</td>\n",
       "      <td>14823</td>\n",
       "    </tr>\n",
       "    <tr>\n",
       "      <th>Washington</th>\n",
       "      <td>5363</td>\n",
       "      <td>7068</td>\n",
       "      <td>12650</td>\n",
       "      <td>12172</td>\n",
       "    </tr>\n",
       "    <tr>\n",
       "      <th>Florida</th>\n",
       "      <td>6255</td>\n",
       "      <td>6573</td>\n",
       "      <td>13705</td>\n",
       "      <td>15794</td>\n",
       "    </tr>\n",
       "    <tr>\n",
       "      <th>Texas</th>\n",
       "      <td>4510</td>\n",
       "      <td>5419</td>\n",
       "      <td>11764</td>\n",
       "      <td>5780</td>\n",
       "    </tr>\n",
       "  </tbody>\n",
       "</table>\n",
       "</div>"
      ],
      "text/plain": [
       "             2016   2017    2018    2019\n",
       "State                                   \n",
       "California  73854  94873  153442  145020\n",
       "New York     6043  10090   15752   14823\n",
       "Washington   5363   7068   12650   12172\n",
       "Florida      6255   6573   13705   15794\n",
       "Texas        4510   5419   11764    5780"
      ]
     },
     "execution_count": 3,
     "metadata": {},
     "output_type": "execute_result"
    }
   ],
   "source": [
    "df_EV = pd.read_csv(EV_SALE_DATASET,index_col=[0]).set_index(\"State\")\n",
    "print(df_EV.shape)\n",
    "df_EV.head()"
   ]
  },
  {
   "cell_type": "markdown",
   "id": "f5df1e04-b252-4d03-b023-30dfaa11e8e1",
   "metadata": {},
   "source": [
    "## Load the GDP dataset"
   ]
  },
  {
   "cell_type": "code",
   "execution_count": 4,
   "id": "7401883d-2238-4c4e-b166-735f36a8b9ab",
   "metadata": {},
   "outputs": [
    {
     "name": "stdout",
     "output_type": "stream",
     "text": [
      "(51, 24)\n"
     ]
    },
    {
     "data": {
      "text/html": [
       "<div>\n",
       "<style scoped>\n",
       "    .dataframe tbody tr th:only-of-type {\n",
       "        vertical-align: middle;\n",
       "    }\n",
       "\n",
       "    .dataframe tbody tr th {\n",
       "        vertical-align: top;\n",
       "    }\n",
       "\n",
       "    .dataframe thead th {\n",
       "        text-align: right;\n",
       "    }\n",
       "</style>\n",
       "<table border=\"1\" class=\"dataframe\">\n",
       "  <thead>\n",
       "    <tr style=\"text-align: right;\">\n",
       "      <th></th>\n",
       "      <th>1997</th>\n",
       "      <th>1998</th>\n",
       "      <th>1999</th>\n",
       "      <th>2000</th>\n",
       "      <th>2001</th>\n",
       "      <th>2002</th>\n",
       "      <th>2003</th>\n",
       "      <th>2004</th>\n",
       "      <th>2005</th>\n",
       "      <th>2006</th>\n",
       "      <th>...</th>\n",
       "      <th>2011</th>\n",
       "      <th>2012</th>\n",
       "      <th>2013</th>\n",
       "      <th>2014</th>\n",
       "      <th>2015</th>\n",
       "      <th>2016</th>\n",
       "      <th>2017</th>\n",
       "      <th>2018</th>\n",
       "      <th>2019</th>\n",
       "      <th>2020</th>\n",
       "    </tr>\n",
       "    <tr>\n",
       "      <th>GeoName</th>\n",
       "      <th></th>\n",
       "      <th></th>\n",
       "      <th></th>\n",
       "      <th></th>\n",
       "      <th></th>\n",
       "      <th></th>\n",
       "      <th></th>\n",
       "      <th></th>\n",
       "      <th></th>\n",
       "      <th></th>\n",
       "      <th></th>\n",
       "      <th></th>\n",
       "      <th></th>\n",
       "      <th></th>\n",
       "      <th></th>\n",
       "      <th></th>\n",
       "      <th></th>\n",
       "      <th></th>\n",
       "      <th></th>\n",
       "      <th></th>\n",
       "      <th></th>\n",
       "    </tr>\n",
       "  </thead>\n",
       "  <tbody>\n",
       "    <tr>\n",
       "      <th>Alabama</th>\n",
       "      <td>61083.8</td>\n",
       "      <td>64168.6</td>\n",
       "      <td>67225.1</td>\n",
       "      <td>69764.4</td>\n",
       "      <td>72038.4</td>\n",
       "      <td>74152.3</td>\n",
       "      <td>77085.0</td>\n",
       "      <td>81588.9</td>\n",
       "      <td>86356.8</td>\n",
       "      <td>91148.0</td>\n",
       "      <td>...</td>\n",
       "      <td>98890.3</td>\n",
       "      <td>100372.5</td>\n",
       "      <td>102206.9</td>\n",
       "      <td>106036.8</td>\n",
       "      <td>110031.4</td>\n",
       "      <td>112854.1</td>\n",
       "      <td>116653.1</td>\n",
       "      <td>121648.4</td>\n",
       "      <td>126982.8</td>\n",
       "      <td>129730.7</td>\n",
       "    </tr>\n",
       "    <tr>\n",
       "      <th>Alaska</th>\n",
       "      <td>12347.8</td>\n",
       "      <td>12889.6</td>\n",
       "      <td>13127.5</td>\n",
       "      <td>13893.0</td>\n",
       "      <td>14883.3</td>\n",
       "      <td>15703.7</td>\n",
       "      <td>16522.0</td>\n",
       "      <td>17454.3</td>\n",
       "      <td>18584.7</td>\n",
       "      <td>19600.3</td>\n",
       "      <td>...</td>\n",
       "      <td>24458.4</td>\n",
       "      <td>25739.1</td>\n",
       "      <td>26362.2</td>\n",
       "      <td>27139.9</td>\n",
       "      <td>27826.3</td>\n",
       "      <td>27170.6</td>\n",
       "      <td>27133.0</td>\n",
       "      <td>28299.9</td>\n",
       "      <td>29108.0</td>\n",
       "      <td>28797.9</td>\n",
       "    </tr>\n",
       "    <tr>\n",
       "      <th>Arizona</th>\n",
       "      <td>69876.9</td>\n",
       "      <td>77166.0</td>\n",
       "      <td>82849.8</td>\n",
       "      <td>91205.4</td>\n",
       "      <td>95475.5</td>\n",
       "      <td>98041.6</td>\n",
       "      <td>102681.4</td>\n",
       "      <td>111133.6</td>\n",
       "      <td>121777.9</td>\n",
       "      <td>134607.4</td>\n",
       "      <td>...</td>\n",
       "      <td>139617.8</td>\n",
       "      <td>145243.2</td>\n",
       "      <td>150331.8</td>\n",
       "      <td>156465.4</td>\n",
       "      <td>163929.0</td>\n",
       "      <td>170624.3</td>\n",
       "      <td>180958.5</td>\n",
       "      <td>193037.3</td>\n",
       "      <td>204327.8</td>\n",
       "      <td>214073.1</td>\n",
       "    </tr>\n",
       "    <tr>\n",
       "      <th>Arkansas</th>\n",
       "      <td>32715.5</td>\n",
       "      <td>34880.9</td>\n",
       "      <td>36741.0</td>\n",
       "      <td>38766.8</td>\n",
       "      <td>40397.1</td>\n",
       "      <td>41662.0</td>\n",
       "      <td>43485.7</td>\n",
       "      <td>46064.2</td>\n",
       "      <td>48480.3</td>\n",
       "      <td>51110.2</td>\n",
       "      <td>...</td>\n",
       "      <td>56870.0</td>\n",
       "      <td>59196.2</td>\n",
       "      <td>60545.9</td>\n",
       "      <td>62563.9</td>\n",
       "      <td>64679.8</td>\n",
       "      <td>66179.6</td>\n",
       "      <td>68619.4</td>\n",
       "      <td>70996.5</td>\n",
       "      <td>73514.4</td>\n",
       "      <td>75295.1</td>\n",
       "    </tr>\n",
       "    <tr>\n",
       "      <th>California</th>\n",
       "      <td>574432.9</td>\n",
       "      <td>625411.7</td>\n",
       "      <td>681068.5</td>\n",
       "      <td>768199.0</td>\n",
       "      <td>786778.9</td>\n",
       "      <td>793668.6</td>\n",
       "      <td>826979.8</td>\n",
       "      <td>881668.6</td>\n",
       "      <td>926929.3</td>\n",
       "      <td>980936.4</td>\n",
       "      <td>...</td>\n",
       "      <td>1059293.2</td>\n",
       "      <td>1113411.5</td>\n",
       "      <td>1157678.6</td>\n",
       "      <td>1225532.5</td>\n",
       "      <td>1313766.3</td>\n",
       "      <td>1371402.0</td>\n",
       "      <td>1452842.6</td>\n",
       "      <td>1531503.1</td>\n",
       "      <td>1615149.1</td>\n",
       "      <td>1658813.1</td>\n",
       "    </tr>\n",
       "  </tbody>\n",
       "</table>\n",
       "<p>5 rows × 24 columns</p>\n",
       "</div>"
      ],
      "text/plain": [
       "                1997      1998      1999      2000      2001      2002  \\\n",
       "GeoName                                                                  \n",
       "Alabama      61083.8   64168.6   67225.1   69764.4   72038.4   74152.3   \n",
       "Alaska       12347.8   12889.6   13127.5   13893.0   14883.3   15703.7   \n",
       "Arizona      69876.9   77166.0   82849.8   91205.4   95475.5   98041.6   \n",
       "Arkansas     32715.5   34880.9   36741.0   38766.8   40397.1   41662.0   \n",
       "California  574432.9  625411.7  681068.5  768199.0  786778.9  793668.6   \n",
       "\n",
       "                2003      2004      2005      2006  ...       2011       2012  \\\n",
       "GeoName                                             ...                         \n",
       "Alabama      77085.0   81588.9   86356.8   91148.0  ...    98890.3   100372.5   \n",
       "Alaska       16522.0   17454.3   18584.7   19600.3  ...    24458.4    25739.1   \n",
       "Arizona     102681.4  111133.6  121777.9  134607.4  ...   139617.8   145243.2   \n",
       "Arkansas     43485.7   46064.2   48480.3   51110.2  ...    56870.0    59196.2   \n",
       "California  826979.8  881668.6  926929.3  980936.4  ...  1059293.2  1113411.5   \n",
       "\n",
       "                 2013       2014       2015       2016       2017       2018  \\\n",
       "GeoName                                                                        \n",
       "Alabama      102206.9   106036.8   110031.4   112854.1   116653.1   121648.4   \n",
       "Alaska        26362.2    27139.9    27826.3    27170.6    27133.0    28299.9   \n",
       "Arizona      150331.8   156465.4   163929.0   170624.3   180958.5   193037.3   \n",
       "Arkansas      60545.9    62563.9    64679.8    66179.6    68619.4    70996.5   \n",
       "California  1157678.6  1225532.5  1313766.3  1371402.0  1452842.6  1531503.1   \n",
       "\n",
       "                 2019       2020  \n",
       "GeoName                           \n",
       "Alabama      126982.8   129730.7  \n",
       "Alaska        29108.0    28797.9  \n",
       "Arizona      204327.8   214073.1  \n",
       "Arkansas      73514.4    75295.1  \n",
       "California  1615149.1  1658813.1  \n",
       "\n",
       "[5 rows x 24 columns]"
      ]
     },
     "execution_count": 4,
     "metadata": {},
     "output_type": "execute_result"
    }
   ],
   "source": [
    "df_GDP = pd.read_csv(GDP_DATASET,index_col=[0]).sort_values('GeoName').set_index('GeoName')\n",
    "print(df_GDP.shape)\n",
    "df_GDP.head()"
   ]
  },
  {
   "cell_type": "markdown",
   "id": "7c6780ef-cd32-4b55-8a36-4790e816535d",
   "metadata": {},
   "source": [
    "## Load the income dataset"
   ]
  },
  {
   "cell_type": "code",
   "execution_count": 5,
   "id": "a084f8f3-c2e1-4541-8c96-e00abdbaebc7",
   "metadata": {},
   "outputs": [
    {
     "name": "stdout",
     "output_type": "stream",
     "text": [
      "(51, 74)\n"
     ]
    },
    {
     "data": {
      "text/html": [
       "<div>\n",
       "<style scoped>\n",
       "    .dataframe tbody tr th:only-of-type {\n",
       "        vertical-align: middle;\n",
       "    }\n",
       "\n",
       "    .dataframe tbody tr th {\n",
       "        vertical-align: top;\n",
       "    }\n",
       "\n",
       "    .dataframe thead th {\n",
       "        text-align: right;\n",
       "    }\n",
       "</style>\n",
       "<table border=\"1\" class=\"dataframe\">\n",
       "  <thead>\n",
       "    <tr style=\"text-align: right;\">\n",
       "      <th></th>\n",
       "      <th>1948</th>\n",
       "      <th>1949</th>\n",
       "      <th>1950</th>\n",
       "      <th>1951</th>\n",
       "      <th>1952</th>\n",
       "      <th>1953</th>\n",
       "      <th>1954</th>\n",
       "      <th>1955</th>\n",
       "      <th>1956</th>\n",
       "      <th>1957</th>\n",
       "      <th>...</th>\n",
       "      <th>2012</th>\n",
       "      <th>2013</th>\n",
       "      <th>2014</th>\n",
       "      <th>2015</th>\n",
       "      <th>2016</th>\n",
       "      <th>2017</th>\n",
       "      <th>2018</th>\n",
       "      <th>2019</th>\n",
       "      <th>2020</th>\n",
       "      <th>2021</th>\n",
       "    </tr>\n",
       "    <tr>\n",
       "      <th>GeoName</th>\n",
       "      <th></th>\n",
       "      <th></th>\n",
       "      <th></th>\n",
       "      <th></th>\n",
       "      <th></th>\n",
       "      <th></th>\n",
       "      <th></th>\n",
       "      <th></th>\n",
       "      <th></th>\n",
       "      <th></th>\n",
       "      <th></th>\n",
       "      <th></th>\n",
       "      <th></th>\n",
       "      <th></th>\n",
       "      <th></th>\n",
       "      <th></th>\n",
       "      <th></th>\n",
       "      <th></th>\n",
       "      <th></th>\n",
       "      <th></th>\n",
       "      <th></th>\n",
       "    </tr>\n",
       "  </thead>\n",
       "  <tbody>\n",
       "    <tr>\n",
       "      <th>Alabama</th>\n",
       "      <td>10467.9</td>\n",
       "      <td>10252.7</td>\n",
       "      <td>12141.1</td>\n",
       "      <td>13719.4</td>\n",
       "      <td>14571.1</td>\n",
       "      <td>14331.5</td>\n",
       "      <td>16687.0</td>\n",
       "      <td>17907.4</td>\n",
       "      <td>18931.3</td>\n",
       "      <td>20113.4</td>\n",
       "      <td>...</td>\n",
       "      <td>491754.4</td>\n",
       "      <td>790033.1</td>\n",
       "      <td>1185940.7</td>\n",
       "      <td>1629938.5</td>\n",
       "      <td>2175204.7</td>\n",
       "      <td>2680407.0</td>\n",
       "      <td>3251615.6</td>\n",
       "      <td>561796.4</td>\n",
       "      <td>4097666.7</td>\n",
       "      <td>10591485.7</td>\n",
       "    </tr>\n",
       "    <tr>\n",
       "      <th>Alaska</th>\n",
       "      <td>0.0</td>\n",
       "      <td>343.4</td>\n",
       "      <td>1834.8</td>\n",
       "      <td>2453.7</td>\n",
       "      <td>2598.4</td>\n",
       "      <td>2486.0</td>\n",
       "      <td>2633.0</td>\n",
       "      <td>2723.0</td>\n",
       "      <td>2688.8</td>\n",
       "      <td>2842.0</td>\n",
       "      <td>...</td>\n",
       "      <td>103757.3</td>\n",
       "      <td>172710.3</td>\n",
       "      <td>231480.8</td>\n",
       "      <td>299836.3</td>\n",
       "      <td>418046.7</td>\n",
       "      <td>593095.3</td>\n",
       "      <td>695672.9</td>\n",
       "      <td>95956.2</td>\n",
       "      <td>807784.7</td>\n",
       "      <td>2192509.1</td>\n",
       "    </tr>\n",
       "    <tr>\n",
       "      <th>Arizona</th>\n",
       "      <td>3738.2</td>\n",
       "      <td>3917.6</td>\n",
       "      <td>4731.7</td>\n",
       "      <td>5915.6</td>\n",
       "      <td>6359.8</td>\n",
       "      <td>6732.2</td>\n",
       "      <td>7652.7</td>\n",
       "      <td>8771.7</td>\n",
       "      <td>9488.8</td>\n",
       "      <td>10717.6</td>\n",
       "      <td>...</td>\n",
       "      <td>414098.9</td>\n",
       "      <td>784716.8</td>\n",
       "      <td>1197632.4</td>\n",
       "      <td>1967944.9</td>\n",
       "      <td>2999854.9</td>\n",
       "      <td>3653468.2</td>\n",
       "      <td>4894171.6</td>\n",
       "      <td>569427.7</td>\n",
       "      <td>4364393.0</td>\n",
       "      <td>13481460.5</td>\n",
       "    </tr>\n",
       "    <tr>\n",
       "      <th>Arkansas</th>\n",
       "      <td>6429.8</td>\n",
       "      <td>6002.5</td>\n",
       "      <td>6961.9</td>\n",
       "      <td>7638.7</td>\n",
       "      <td>7717.7</td>\n",
       "      <td>7672.4</td>\n",
       "      <td>8583.4</td>\n",
       "      <td>8753.5</td>\n",
       "      <td>9244.4</td>\n",
       "      <td>10108.6</td>\n",
       "      <td>...</td>\n",
       "      <td>280218.7</td>\n",
       "      <td>440516.1</td>\n",
       "      <td>644009.5</td>\n",
       "      <td>916271.4</td>\n",
       "      <td>1254655.3</td>\n",
       "      <td>1612672.7</td>\n",
       "      <td>2048814.3</td>\n",
       "      <td>321698.4</td>\n",
       "      <td>2281015.7</td>\n",
       "      <td>6264201.1</td>\n",
       "    </tr>\n",
       "    <tr>\n",
       "      <th>California</th>\n",
       "      <td>73098.0</td>\n",
       "      <td>76086.4</td>\n",
       "      <td>89729.5</td>\n",
       "      <td>104507.7</td>\n",
       "      <td>114912.5</td>\n",
       "      <td>120629.2</td>\n",
       "      <td>136485.1</td>\n",
       "      <td>150933.0</td>\n",
       "      <td>161009.6</td>\n",
       "      <td>179496.7</td>\n",
       "      <td>...</td>\n",
       "      <td>4474919.5</td>\n",
       "      <td>7767454.3</td>\n",
       "      <td>11280953.2</td>\n",
       "      <td>16209227.0</td>\n",
       "      <td>22363039.0</td>\n",
       "      <td>27437210.9</td>\n",
       "      <td>37870143.0</td>\n",
       "      <td>5844770.9</td>\n",
       "      <td>39732554.0</td>\n",
       "      <td>110884678.8</td>\n",
       "    </tr>\n",
       "  </tbody>\n",
       "</table>\n",
       "<p>5 rows × 74 columns</p>\n",
       "</div>"
      ],
      "text/plain": [
       "               1948     1949     1950      1951      1952      1953      1954  \\\n",
       "GeoName                                                                         \n",
       "Alabama     10467.9  10252.7  12141.1   13719.4   14571.1   14331.5   16687.0   \n",
       "Alaska          0.0    343.4   1834.8    2453.7    2598.4    2486.0    2633.0   \n",
       "Arizona      3738.2   3917.6   4731.7    5915.6    6359.8    6732.2    7652.7   \n",
       "Arkansas     6429.8   6002.5   6961.9    7638.7    7717.7    7672.4    8583.4   \n",
       "California  73098.0  76086.4  89729.5  104507.7  114912.5  120629.2  136485.1   \n",
       "\n",
       "                1955      1956      1957  ...       2012       2013  \\\n",
       "GeoName                                   ...                         \n",
       "Alabama      17907.4   18931.3   20113.4  ...   491754.4   790033.1   \n",
       "Alaska        2723.0    2688.8    2842.0  ...   103757.3   172710.3   \n",
       "Arizona       8771.7    9488.8   10717.6  ...   414098.9   784716.8   \n",
       "Arkansas      8753.5    9244.4   10108.6  ...   280218.7   440516.1   \n",
       "California  150933.0  161009.6  179496.7  ...  4474919.5  7767454.3   \n",
       "\n",
       "                  2014        2015        2016        2017        2018  \\\n",
       "GeoName                                                                  \n",
       "Alabama      1185940.7   1629938.5   2175204.7   2680407.0   3251615.6   \n",
       "Alaska        231480.8    299836.3    418046.7    593095.3    695672.9   \n",
       "Arizona      1197632.4   1967944.9   2999854.9   3653468.2   4894171.6   \n",
       "Arkansas      644009.5    916271.4   1254655.3   1612672.7   2048814.3   \n",
       "California  11280953.2  16209227.0  22363039.0  27437210.9  37870143.0   \n",
       "\n",
       "                 2019        2020         2021  \n",
       "GeoName                                         \n",
       "Alabama      561796.4   4097666.7   10591485.7  \n",
       "Alaska        95956.2    807784.7    2192509.1  \n",
       "Arizona      569427.7   4364393.0   13481460.5  \n",
       "Arkansas     321698.4   2281015.7    6264201.1  \n",
       "California  5844770.9  39732554.0  110884678.8  \n",
       "\n",
       "[5 rows x 74 columns]"
      ]
     },
     "execution_count": 5,
     "metadata": {},
     "output_type": "execute_result"
    }
   ],
   "source": [
    "df_Income = pd.read_csv(INCOME_DATASET,index_col=[0]).sort_values('GeoName').set_index(\"GeoName\")\n",
    "print(df_Income.shape)\n",
    "df_Income.head()"
   ]
  },
  {
   "cell_type": "markdown",
   "id": "fcdb277b-047a-4e49-9f08-dfd50851b8ae",
   "metadata": {},
   "source": [
    "## Merge into one dataframe"
   ]
  },
  {
   "cell_type": "code",
   "execution_count": 6,
   "id": "a39035b6-ed0e-4528-a81b-1ec079e9bf4c",
   "metadata": {},
   "outputs": [
    {
     "name": "stdout",
     "output_type": "stream",
     "text": [
      "(51, 3)\n"
     ]
    },
    {
     "data": {
      "text/html": [
       "<div>\n",
       "<style scoped>\n",
       "    .dataframe tbody tr th:only-of-type {\n",
       "        vertical-align: middle;\n",
       "    }\n",
       "\n",
       "    .dataframe tbody tr th {\n",
       "        vertical-align: top;\n",
       "    }\n",
       "\n",
       "    .dataframe thead th {\n",
       "        text-align: right;\n",
       "    }\n",
       "</style>\n",
       "<table border=\"1\" class=\"dataframe\">\n",
       "  <thead>\n",
       "    <tr style=\"text-align: right;\">\n",
       "      <th></th>\n",
       "      <th>income</th>\n",
       "      <th>GDP</th>\n",
       "      <th>EV_sale</th>\n",
       "    </tr>\n",
       "  </thead>\n",
       "  <tbody>\n",
       "    <tr>\n",
       "      <th>Alabama</th>\n",
       "      <td>561796.4</td>\n",
       "      <td>126982.8</td>\n",
       "      <td>1007</td>\n",
       "    </tr>\n",
       "    <tr>\n",
       "      <th>Alaska</th>\n",
       "      <td>95956.2</td>\n",
       "      <td>29108.0</td>\n",
       "      <td>143</td>\n",
       "    </tr>\n",
       "    <tr>\n",
       "      <th>Arizona</th>\n",
       "      <td>569427.7</td>\n",
       "      <td>204327.8</td>\n",
       "      <td>7591</td>\n",
       "    </tr>\n",
       "    <tr>\n",
       "      <th>Arkansas</th>\n",
       "      <td>321698.4</td>\n",
       "      <td>73514.4</td>\n",
       "      <td>538</td>\n",
       "    </tr>\n",
       "    <tr>\n",
       "      <th>California</th>\n",
       "      <td>5844770.9</td>\n",
       "      <td>1615149.1</td>\n",
       "      <td>145020</td>\n",
       "    </tr>\n",
       "  </tbody>\n",
       "</table>\n",
       "</div>"
      ],
      "text/plain": [
       "               income        GDP  EV_sale\n",
       "Alabama      561796.4   126982.8     1007\n",
       "Alaska        95956.2    29108.0      143\n",
       "Arizona      569427.7   204327.8     7591\n",
       "Arkansas     321698.4    73514.4      538\n",
       "California  5844770.9  1615149.1   145020"
      ]
     },
     "execution_count": 6,
     "metadata": {},
     "output_type": "execute_result"
    }
   ],
   "source": [
    "df_economic = pd.concat([df_Income['2019'].rename('income'), \\\n",
    "                               df_GDP['2019'].rename('GDP'),\\\n",
    "                               df_EV['2019'].rename('EV_sale')],\\\n",
    "                              axis = 1)\n",
    "df_economic = df_economic.dropna()\n",
    "print(df_economic.shape)\n",
    "df_economic.head()"
   ]
  },
  {
   "cell_type": "markdown",
   "id": "bb665bbb-b241-48c6-83aa-ffb8fcdee0c1",
   "metadata": {},
   "source": [
    "# Analyze Economic, GDP vs Income"
   ]
  },
  {
   "cell_type": "markdown",
   "id": "bdfcf874-f206-42af-be1d-5e6710e6ce44",
   "metadata": {},
   "source": [
    "We will use a scatter plot to represent their relationship from the prominent cities analysed. The cities with the highest gdp, income and the lowest gdp and income respectively"
   ]
  },
  {
   "cell_type": "code",
   "execution_count": 7,
   "id": "01ab0c1c-d618-4a2d-81b9-2d948dac1ceb",
   "metadata": {},
   "outputs": [
    {
     "data": {
      "text/plain": [
       "('California', 'California', 'Wyoming', 'Wyoming')"
      ]
     },
     "execution_count": 7,
     "metadata": {},
     "output_type": "execute_result"
    }
   ],
   "source": [
    "highest_income = df_economic.sort_values(by='income',ascending=False).index[0]\n",
    "highest_gdp = df_economic.sort_values(by='GDP',ascending=False).index[0]\n",
    "\n",
    "lowest_income = df_economic.sort_values(by='income',ascending=True).index[0]\n",
    "lowest_gdp = df_economic.sort_values(by='GDP',ascending=True).index[0]\n",
    "highest_income, highest_gdp, lowest_income, lowest_gdp"
   ]
  },
  {
   "cell_type": "code",
   "execution_count": 8,
   "id": "03fdec79-b5d8-400a-adeb-2335c2014f8b",
   "metadata": {},
   "outputs": [
    {
     "data": {
      "image/png": "[encoded data removed]",
      "text/plain": [
       "<Figure size 720x360 with 1 Axes>"
      ]
     },
     "metadata": {
      "needs_background": "light"
     },
     "output_type": "display_data"
    }
   ],
   "source": [
    "fig, ax = plt.subplots(figsize=(10, 5))\n",
    "ax.ticklabel_format(style='plain')\n",
    "plt.scatter(df_economic['GDP'],df_economic['income'])\n",
    "plt.title(\"income_gdp vs EV sales\")\n",
    "plt.xlabel(\"GDP\")\n",
    "plt.ylabel(\"income\")\n",
    "plt.show()"
   ]
  },
  {
   "cell_type": "markdown",
   "id": "552b0b31-ce75-4edf-a1be-c8e5f28eb333",
   "metadata": {},
   "source": [
    "#### We can see that GDP and income are proportional, but there is a lack of indication of EV sales. Each point represents a state, so we use EV sales to assign a size to the points"
   ]
  },
  {
   "cell_type": "code",
   "execution_count": 9,
   "id": "10859347-3143-43cc-9979-4799f31ce1f0",
   "metadata": {},
   "outputs": [
    {
     "data": {
      "image/png": "[encoded data removed]",
      "text/plain": [
       "<Figure size 1296x576 with 2 Axes>"
      ]
     },
     "metadata": {
      "needs_background": "light"
     },
     "output_type": "display_data"
    }
   ],
   "source": [
    "def draw(df_economic, ax, size_scale=0.1, *args, **kwargs):\n",
    "    df_economic.plot.scatter(x='GDP',y='income',s=(df_economic['EV_sale'])*size_scale, ax=ax,*args, **kwargs)\n",
    "fig, ax = plt.subplots(figsize=(18,8))\n",
    "ax.ticklabel_format(style='plain')\n",
    "draw(df_economic, ax, c='EV_sale', colormap='RdBu', colorbar=True)\n",
    "\n",
    "## hightlight cities\n",
    "plt.annotate(highest_income, xy = (df_economic.loc[highest_income][['GDP', 'income']]), xytext = df_economic.loc[highest_income][['GDP', 'income']] +(-400000, 0.2), fontsize=18, \n",
    "            arrowprops=dict(arrowstyle='->')\n",
    "            )\n",
    "plt.annotate(highest_gdp, xy = (df_economic.loc[highest_gdp][['GDP', 'income']]), xytext = df_economic.loc[highest_gdp][['GDP', 'income']] +(-400000, 0.2), fontsize=18, \n",
    "            arrowprops=dict(arrowstyle='->')\n",
    "            )\n",
    "plt.annotate(lowest_income, xy = (df_economic.loc[lowest_income][['GDP', 'income']]), xytext = df_economic.loc[lowest_income][['GDP', 'income']] +(-0, +1200000), fontsize=18, \n",
    "            arrowprops=dict(arrowstyle='->')\n",
    "            )\n",
    "plt.annotate(lowest_income, xy = (df_economic.loc[lowest_income][['GDP', 'income']]), xytext = df_economic.loc[lowest_income][['GDP', 'income']] +(-0, +1200000), fontsize=18, \n",
    "            arrowprops=dict(arrowstyle='->')\n",
    "            )\n",
    "\n",
    "\n",
    "plt.title(\"Income & GDP vs EV sales\")\n",
    "ax.set_xlabel('GDP')\n",
    "ax.set_ylabel('income')\n",
    "fig.tight_layout()"
   ]
  },
  {
   "cell_type": "markdown",
   "id": "4f8597d0-5ab5-4915-a340-458d23d4d354",
   "metadata": {},
   "source": [
    "#### The highest as well as the lowest revenues and gdp correspond to the highest and lowest sales respectively. This is similar to our forecast. But the data for California is too large for us to see a significant change. So we removed California"
   ]
  },
  {
   "cell_type": "code",
   "execution_count": 10,
   "id": "ec71b8ed-c809-41ba-bfb2-2b64f98824f4",
   "metadata": {},
   "outputs": [
    {
     "data": {
      "text/plain": [
       "('New York', 'Texas', 'Wyoming', 'Wyoming')"
      ]
     },
     "execution_count": 10,
     "metadata": {},
     "output_type": "execute_result"
    }
   ],
   "source": [
    "highest_income = df_economic.drop(\"California\").sort_values(by='income',ascending=False).index[0]\n",
    "highest_gdp = df_economic.drop(\"California\").sort_values(by='GDP',ascending=False).index[0]\n",
    "\n",
    "lowest_income = df_economic.drop(\"California\").sort_values(by='income',ascending=True).index[0]\n",
    "lowest_gdp = df_economic.drop(\"California\").sort_values(by='GDP',ascending=True).index[0]\n",
    "highest_income, highest_gdp, lowest_income, lowest_gdp"
   ]
  },
  {
   "cell_type": "code",
   "execution_count": 11,
   "id": "ed2209f3-c374-49ea-a32f-c2334a7fc3ce",
   "metadata": {},
   "outputs": [
    {
     "data": {
      "image/png": "[encoded data removed]",
      "text/plain": [
       "<Figure size 1296x576 with 2 Axes>"
      ]
     },
     "metadata": {
      "needs_background": "light"
     },
     "output_type": "display_data"
    }
   ],
   "source": [
    "df_economic = df_economic.drop(\"California\")\n",
    "fig, ax = plt.subplots(figsize=(18,8))\n",
    "ax.ticklabel_format(style='plain')\n",
    "draw(df_economic, ax, c='EV_sale', colormap='RdBu', colorbar=True)\n",
    "\n",
    "\n",
    "plt.annotate(highest_income, xy = (df_economic.loc[highest_income][['GDP', 'income']]), xytext = df_economic.loc[highest_income][['GDP', 'income']] +(-150000, 0.2), fontsize=18, \n",
    "            arrowprops=dict(arrowstyle='->')\n",
    "            )\n",
    "plt.annotate(highest_gdp, xy = (df_economic.loc[highest_gdp][['GDP', 'income']]), xytext = df_economic.loc[highest_gdp][['GDP', 'income']] +(-90000, 0.2), fontsize=18, \n",
    "            arrowprops=dict(arrowstyle='->')\n",
    "            )\n",
    "plt.annotate(lowest_income, xy = (df_economic.loc[lowest_income][['GDP', 'income']]), xytext = df_economic.loc[lowest_income][['GDP', 'income']] +(-25000, +500000), fontsize=18, \n",
    "            arrowprops=dict(arrowstyle='->')\n",
    "            )\n",
    "plt.annotate(lowest_income, xy = (df_economic.loc[lowest_income][['GDP', 'income']]), xytext = df_economic.loc[lowest_income][['GDP', 'income']] +(-25000, +500000), fontsize=18, \n",
    "            arrowprops=dict(arrowstyle='->')\n",
    "            )\n",
    "\n",
    "\n",
    "plt.title(\"income_gdp vs EV sales\")\n",
    "ax.set_xlabel('GDP')\n",
    "ax.set_ylabel('income')\n",
    "fig.tight_layout()\n",
    "\n",
    "# Save as png image\n",
    "fig.savefig('./Images/Income_GDP_vs_EVsales.png', format='png')"
   ]
  },
  {
   "cell_type": "markdown",
   "id": "81d80546-4ccb-429e-9896-a54d0b7468dc",
   "metadata": {},
   "source": [
    "#### The change in the data is now becoming more apparent: a proportional trend. But the highest GDP corresponds not to the highest sales, the highest income corresponds to the highest sales. So which factor has the greatest influence on the factor of sales, GDP?"
   ]
  },
  {
   "cell_type": "markdown",
   "id": "1ab8da7f-1a1b-414a-83fa-b6d4ed4aae78",
   "metadata": {},
   "source": [
    "We will model each of these two factors to derive R^2. The correlation will be derived from the magnitude of R^2"
   ]
  },
  {
   "cell_type": "code",
   "execution_count": 12,
   "id": "593ddcf3-8c8a-4749-9936-1b0dbf556ac6",
   "metadata": {},
   "outputs": [],
   "source": [
    "## df_EV.head(), df_gdp.head(), df_income.head()"
   ]
  },
  {
   "cell_type": "code",
   "execution_count": 13,
   "id": "4620ce61-b2e8-4511-8b95-d409291da0d8",
   "metadata": {},
   "outputs": [
    {
     "data": {
      "text/html": [
       "<div>\n",
       "<style scoped>\n",
       "    .dataframe tbody tr th:only-of-type {\n",
       "        vertical-align: middle;\n",
       "    }\n",
       "\n",
       "    .dataframe tbody tr th {\n",
       "        vertical-align: top;\n",
       "    }\n",
       "\n",
       "    .dataframe thead th {\n",
       "        text-align: right;\n",
       "    }\n",
       "</style>\n",
       "<table border=\"1\" class=\"dataframe\">\n",
       "  <thead>\n",
       "    <tr style=\"text-align: right;\">\n",
       "      <th></th>\n",
       "      <th>income</th>\n",
       "      <th>GDP</th>\n",
       "      <th>EV_sale</th>\n",
       "    </tr>\n",
       "  </thead>\n",
       "  <tbody>\n",
       "    <tr>\n",
       "      <th>Alabama</th>\n",
       "      <td>561796.4</td>\n",
       "      <td>126982.8</td>\n",
       "      <td>1007</td>\n",
       "    </tr>\n",
       "    <tr>\n",
       "      <th>Alaska</th>\n",
       "      <td>95956.2</td>\n",
       "      <td>29108.0</td>\n",
       "      <td>143</td>\n",
       "    </tr>\n",
       "    <tr>\n",
       "      <th>Arizona</th>\n",
       "      <td>569427.7</td>\n",
       "      <td>204327.8</td>\n",
       "      <td>7591</td>\n",
       "    </tr>\n",
       "    <tr>\n",
       "      <th>Arkansas</th>\n",
       "      <td>321698.4</td>\n",
       "      <td>73514.4</td>\n",
       "      <td>538</td>\n",
       "    </tr>\n",
       "    <tr>\n",
       "      <th>Colorado</th>\n",
       "      <td>667379.3</td>\n",
       "      <td>219975.9</td>\n",
       "      <td>9007</td>\n",
       "    </tr>\n",
       "  </tbody>\n",
       "</table>\n",
       "</div>"
      ],
      "text/plain": [
       "            income       GDP  EV_sale\n",
       "Alabama   561796.4  126982.8     1007\n",
       "Alaska     95956.2   29108.0      143\n",
       "Arizona   569427.7  204327.8     7591\n",
       "Arkansas  321698.4   73514.4      538\n",
       "Colorado  667379.3  219975.9     9007"
      ]
     },
     "execution_count": 13,
     "metadata": {},
     "output_type": "execute_result"
    }
   ],
   "source": [
    "df_economic.head()"
   ]
  },
  {
   "cell_type": "markdown",
   "id": "fd914f2a-7bf1-474c-9140-9357aa516256",
   "metadata": {},
   "source": [
    "# GDP"
   ]
  },
  {
   "cell_type": "code",
   "execution_count": 14,
   "id": "944c268d-c2e4-4075-a2e6-73533fe2397a",
   "metadata": {},
   "outputs": [
    {
     "name": "stderr",
     "output_type": "stream",
     "text": [
      "/var/folders/wx/jdk00pf51bj00q6tgsbrn_vr0000gn/T/ipykernel_7041/24356421.py:15: UserWarning: Matplotlib is currently using module://matplotlib_inline.backend_inline, which is a non-GUI backend, so cannot show the figure.\n",
      "  fig.show()\n"
     ]
    },
    {
     "data": {
      "image/png": "[encoded data removed]",
      "text/plain": [
       "<Figure size 1296x576 with 1 Axes>"
      ]
     },
     "metadata": {
      "needs_background": "light"
     },
     "output_type": "display_data"
    }
   ],
   "source": [
    "import scipy.integrate \n",
    "\n",
    "m, b, r_value, p_value, std_err = scipy.stats.linregress(df_economic['GDP'], df_economic['EV_sale'])\n",
    "\n",
    "fig, ax = plt.subplots(figsize=(18,8))\n",
    "ax.scatter(df_economic['GDP'],df_economic['EV_sale'])\n",
    "ax.plot(df_economic['GDP'], m*df_economic['GDP'] + b)\n",
    "ax.annotate('r^2= ' + str(\"{:.2f}\".format(r_value**2)), xy=(1950,15000),fontsize=20)\n",
    "ax.annotate('formula: ' + str(\"{:.2f}\".format(m)) + 'x + ' + str(\"{:.2f}\".format(b)), xy=(1950,13000),fontsize=20)\n",
    "\n",
    "plt.title(\"GDP vs EV sales\")\n",
    "ax.set_xlabel('GDP')\n",
    "ax.set_ylabel('EV sales')\n",
    "\n",
    "fig.show()\n",
    "\n",
    "# Save as png image\n",
    "fig.savefig('./Images/GDP_vs_EVsales.png', format='png')"
   ]
  },
  {
   "cell_type": "markdown",
   "id": "27b3e06d-11d9-4f25-b591-3017d278fe48",
   "metadata": {},
   "source": [
    "# Income"
   ]
  },
  {
   "cell_type": "code",
   "execution_count": 15,
   "id": "e6fde251-ff7e-4938-bc24-84a4a0b834ea",
   "metadata": {},
   "outputs": [
    {
     "name": "stderr",
     "output_type": "stream",
     "text": [
      "/var/folders/wx/jdk00pf51bj00q6tgsbrn_vr0000gn/T/ipykernel_7041/2628299201.py:13: UserWarning: Matplotlib is currently using module://matplotlib_inline.backend_inline, which is a non-GUI backend, so cannot show the figure.\n",
      "  fig.show()\n"
     ]
    },
    {
     "data": {
      "image/png": "[encoded data removed]",
      "text/plain": [
       "<Figure size 1296x576 with 1 Axes>"
      ]
     },
     "metadata": {
      "needs_background": "light"
     },
     "output_type": "display_data"
    }
   ],
   "source": [
    "m, b, r_value, p_value, std_err = scipy.stats.linregress(df_economic['income'], df_economic['EV_sale'])\n",
    "\n",
    "fig, ax = plt.subplots(figsize=(18,8))\n",
    "ax.scatter(df_economic['income'],df_economic['EV_sale'])\n",
    "ax.plot(df_economic['income'], m*df_economic['income'] + b)\n",
    "ax.annotate('r^2= ' + str(\"{:.2f}\".format(r_value**2)), xy=(1950,15000),fontsize=20)\n",
    "ax.annotate('formula: ' + str(\"{:.2f}\".format(m)) + 'x + ' + str(\"{:.2f}\".format(b)), xy=(1950,13000),fontsize=20)\n",
    "\n",
    "plt.title(\"income vs EV sales\")\n",
    "ax.set_xlabel('income')\n",
    "ax.set_ylabel('EV sales')\n",
    "\n",
    "fig.show()\n",
    "\n",
    "# Save as png image\n",
    "fig.savefig('./Images/Income_vs_EVsales.png', format='png')"
   ]
  },
  {
   "cell_type": "markdown",
   "id": "4bdc8305-b3a1-4662-b973-bf1df56d641a",
   "metadata": {},
   "source": [
    "## Conclusion"
   ]
  },
  {
   "cell_type": "markdown",
   "id": "2fb0db66-3422-437f-8ac6-09d6ce1e0240",
   "metadata": {},
   "source": [
    "GDP and income are directly proportional. They are each directly proportional to EV sales. However, GDP usually has a greater impact on sales, according to the value of R^2"
   ]
  }
 ],
 "metadata": {
  "kernelspec": {
   "display_name": "Python 3 (ipykernel)",
   "language": "python",
   "name": "python3"
  },
  "language_info": {
   "codemirror_mode": {
    "name": "ipython",
    "version": 3
   },
   "file_extension": ".py",
   "mimetype": "text/x-python",
   "name": "python",
   "nbconvert_exporter": "python",
   "pygments_lexer": "ipython3",
   "version": "3.9.7"
  }
 },
 "nbformat": 4,
 "nbformat_minor": 5
}
