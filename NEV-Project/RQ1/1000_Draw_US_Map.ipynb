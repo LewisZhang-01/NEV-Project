{
 "cells": [
  {
   "cell_type": "code",
   "execution_count": 89,
   "id": "ccbc505f-516e-4057-ad9b-eca188b67a44",
   "metadata": {},
   "outputs": [],
   "source": [
    "import pandas as pd\n",
    "import matplotlib.pylab as plt\n",
    "from matplotlib.patches import Patch\n",
    "from matplotlib.lines import Line2D\n",
    "import matplotlib\n",
    "\n",
    "import seaborn as sns\n",
    "from scipy.stats import ttest_ind\n",
    "import geopandas as gpd"
   ]
  },
  {
   "cell_type": "code",
   "execution_count": 91,
   "id": "42254443-0cc9-4900-a52d-5fdd66924389",
   "metadata": {},
   "outputs": [],
   "source": [
    "# https://eric.clst.org/tech/usgeojson/\n",
    "# https://www.weather.gov/gis/USStates"
   ]
  },
  {
   "cell_type": "code",
   "execution_count": 93,
   "id": "9cf6f47c-1a8d-482c-9d2d-0288f10ae326",
   "metadata": {},
   "outputs": [],
   "source": [
    "world = gpd.read_file(gpd.datasets.get_path('naturalearth_lowres'))\n",
    "cities = gpd.read_file(gpd.datasets.get_path('naturalearth_cities'))\n",
    "us = gpd.read_file('./data/s_22mr22/s_22mr22.shp')"
   ]
  },
  {
   "cell_type": "code",
   "execution_count": 51,
   "id": "bfe83890-ebf9-4c6b-9f1f-93a10c98cd64",
   "metadata": {
    "tags": []
   },
   "outputs": [
    {
     "name": "stdout",
     "output_type": "stream",
     "text": [
      "<class 'geopandas.geodataframe.GeoDataFrame'>\n"
     ]
    },
    {
     "data": {
      "text/html": [
       "<div>\n",
       "<style scoped>\n",
       "    .dataframe tbody tr th:only-of-type {\n",
       "        vertical-align: middle;\n",
       "    }\n",
       "\n",
       "    .dataframe tbody tr th {\n",
       "        vertical-align: top;\n",
       "    }\n",
       "\n",
       "    .dataframe thead th {\n",
       "        text-align: right;\n",
       "    }\n",
       "</style>\n",
       "<table border=\"1\" class=\"dataframe\">\n",
       "  <thead>\n",
       "    <tr style=\"text-align: right;\">\n",
       "      <th></th>\n",
       "      <th>STATE</th>\n",
       "      <th>NAME</th>\n",
       "      <th>FIPS</th>\n",
       "      <th>LON</th>\n",
       "      <th>LAT</th>\n",
       "      <th>geometry</th>\n",
       "    </tr>\n",
       "  </thead>\n",
       "  <tbody>\n",
       "    <tr>\n",
       "      <th>0</th>\n",
       "      <td>AK</td>\n",
       "      <td>Alaska</td>\n",
       "      <td>02</td>\n",
       "      <td>-152.24098</td>\n",
       "      <td>64.24019</td>\n",
       "      <td>MULTIPOLYGON (((-179.10754 51.30120, -179.1054...</td>\n",
       "    </tr>\n",
       "    <tr>\n",
       "      <th>1</th>\n",
       "      <td>AL</td>\n",
       "      <td>Alabama</td>\n",
       "      <td>01</td>\n",
       "      <td>-86.82676</td>\n",
       "      <td>32.79354</td>\n",
       "      <td>MULTIPOLYGON (((-88.11011 30.25891, -88.10638 ...</td>\n",
       "    </tr>\n",
       "    <tr>\n",
       "      <th>2</th>\n",
       "      <td>AR</td>\n",
       "      <td>Arkansas</td>\n",
       "      <td>05</td>\n",
       "      <td>-92.43920</td>\n",
       "      <td>34.89977</td>\n",
       "      <td>POLYGON ((-91.62986 36.49921, -91.62849 36.499...</td>\n",
       "    </tr>\n",
       "    <tr>\n",
       "      <th>3</th>\n",
       "      <td>AS</td>\n",
       "      <td>American Samoa</td>\n",
       "      <td>60</td>\n",
       "      <td>-170.37215</td>\n",
       "      <td>-14.26486</td>\n",
       "      <td>MULTIPOLYGON (((-170.77310 -14.36245, -170.773...</td>\n",
       "    </tr>\n",
       "    <tr>\n",
       "      <th>4</th>\n",
       "      <td>AZ</td>\n",
       "      <td>Arizona</td>\n",
       "      <td>04</td>\n",
       "      <td>-111.66457</td>\n",
       "      <td>34.29323</td>\n",
       "      <td>POLYGON ((-110.49090 37.00361, -110.48750 37.0...</td>\n",
       "    </tr>\n",
       "  </tbody>\n",
       "</table>\n",
       "</div>"
      ],
      "text/plain": [
       "  STATE            NAME FIPS        LON       LAT  \\\n",
       "0    AK          Alaska   02 -152.24098  64.24019   \n",
       "1    AL         Alabama   01  -86.82676  32.79354   \n",
       "2    AR        Arkansas   05  -92.43920  34.89977   \n",
       "3    AS  American Samoa   60 -170.37215 -14.26486   \n",
       "4    AZ         Arizona   04 -111.66457  34.29323   \n",
       "\n",
       "                                            geometry  \n",
       "0  MULTIPOLYGON (((-179.10754 51.30120, -179.1054...  \n",
       "1  MULTIPOLYGON (((-88.11011 30.25891, -88.10638 ...  \n",
       "2  POLYGON ((-91.62986 36.49921, -91.62849 36.499...  \n",
       "3  MULTIPOLYGON (((-170.77310 -14.36245, -170.773...  \n",
       "4  POLYGON ((-110.49090 37.00361, -110.48750 37.0...  "
      ]
     },
     "execution_count": 51,
     "metadata": {},
     "output_type": "execute_result"
    }
   ],
   "source": [
    "print(type(us))\n",
    "us.head()"
   ]
  },
  {
   "cell_type": "code",
   "execution_count": 52,
   "id": "65ea84bc-4752-4aba-9bf2-fe51c6159e6b",
   "metadata": {},
   "outputs": [
    {
     "data": {
      "text/plain": [
       "<Geographic 2D CRS: EPSG:4269>\n",
       "Name: NAD83\n",
       "Axis Info [ellipsoidal]:\n",
       "- Lat[north]: Geodetic latitude (degree)\n",
       "- Lon[east]: Geodetic longitude (degree)\n",
       "Area of Use:\n",
       "- name: North America - onshore and offshore: Canada - Alberta; British Columbia; Manitoba; New Brunswick; Newfoundland and Labrador; Northwest Territories; Nova Scotia; Nunavut; Ontario; Prince Edward Island; Quebec; Saskatchewan; Yukon. Puerto Rico. United States (USA) - Alabama; Alaska; Arizona; Arkansas; California; Colorado; Connecticut; Delaware; Florida; Georgia; Hawaii; Idaho; Illinois; Indiana; Iowa; Kansas; Kentucky; Louisiana; Maine; Maryland; Massachusetts; Michigan; Minnesota; Mississippi; Missouri; Montana; Nebraska; Nevada; New Hampshire; New Jersey; New Mexico; New York; North Carolina; North Dakota; Ohio; Oklahoma; Oregon; Pennsylvania; Rhode Island; South Carolina; South Dakota; Tennessee; Texas; Utah; Vermont; Virginia; Washington; West Virginia; Wisconsin; Wyoming. US Virgin Islands. British Virgin Islands.\n",
       "- bounds: (167.65, 14.92, -47.74, 86.46)\n",
       "Datum: North American Datum 1983\n",
       "- Ellipsoid: GRS 1980\n",
       "- Prime Meridian: Greenwich"
      ]
     },
     "execution_count": 52,
     "metadata": {},
     "output_type": "execute_result"
    }
   ],
   "source": [
    "us.crs"
   ]
  },
  {
   "cell_type": "code",
   "execution_count": 56,
   "id": "986d16ff-162c-4867-9f2f-7659608defbf",
   "metadata": {},
   "outputs": [],
   "source": [
    "gdf = us.set_index(\"STATE\")"
   ]
  },
  {
   "cell_type": "code",
   "execution_count": 57,
   "id": "03d23ce8-f1ff-4175-84a9-5d9ee7079417",
   "metadata": {},
   "outputs": [
    {
     "name": "stderr",
     "output_type": "stream",
     "text": [
      "/var/folders/wx/jdk00pf51bj00q6tgsbrn_vr0000gn/T/ipykernel_16048/2969711843.py:1: UserWarning: Geometry is in a geographic CRS. Results from 'area' are likely incorrect. Use 'GeoSeries.to_crs()' to re-project geometries to a projected CRS before this operation.\n",
      "\n",
      "  gdf[\"area\"] = gdf.area\n"
     ]
    },
    {
     "data": {
      "text/plain": [
       "STATE\n",
       "AK    279.640921\n",
       "AL     12.870622\n",
       "AR     13.585591\n",
       "AS      0.017061\n",
       "AZ     28.921380\n",
       "CA     41.623655\n",
       "CO     28.039439\n",
       "CT      1.390348\n",
       "DC      0.016988\n",
       "DE      0.535242\n",
       "FL     13.354814\n",
       "GA     14.651156\n",
       "HI      1.440208\n",
       "IA     15.857126\n",
       "ID     24.456852\n",
       "IL     15.408512\n",
       "IN      9.872015\n",
       "KS     22.004395\n",
       "KY     10.668511\n",
       "LA     11.237308\n",
       "MA      2.288664\n",
       "ME      9.674075\n",
       "MI     17.010277\n",
       "MN     25.536397\n",
       "MS     11.879580\n",
       "MT     45.077582\n",
       "NC     12.753008\n",
       "ND     21.839025\n",
       "NE     21.615450\n",
       "NH      2.683599\n",
       "NJ      2.071942\n",
       "NM     30.892777\n",
       "NV     29.937626\n",
       "NY     13.893624\n",
       "OH     11.317424\n",
       "OK     18.005487\n",
       "OR     28.153253\n",
       "PA     12.534376\n",
       "PR      0.762790\n",
       "RI      0.305420\n",
       "SD     22.578360\n",
       "TN     10.889346\n",
       "TX     65.133454\n",
       "UT     22.974847\n",
       "VA     10.632414\n",
       "VI      0.029747\n",
       "VT      2.797629\n",
       "WA     20.842497\n",
       "WI     16.486973\n",
       "WV      6.493794\n",
       "WY     27.971677\n",
       "MO     18.614233\n",
       "SC      7.854362\n",
       "GU      0.045443\n",
       "MD      2.754263\n",
       "PW      0.037719\n",
       "MH      0.011534\n",
       "MP      0.038277\n",
       "FM      0.060598\n",
       "Name: area, dtype: float64"
      ]
     },
     "execution_count": 57,
     "metadata": {},
     "output_type": "execute_result"
    }
   ],
   "source": [
    "gdf[\"area\"] = gdf.area\n",
    "gdf[\"area\"]"
   ]
  },
  {
   "cell_type": "code",
   "execution_count": 58,
   "id": "fcbcb618-4dc2-4ed6-a9e9-85a27fc4664a",
   "metadata": {},
   "outputs": [
    {
     "data": {
      "text/plain": [
       "STATE\n",
       "AK    MULTILINESTRING ((-179.10754 51.30120, -179.10...\n",
       "AL    MULTILINESTRING ((-88.11011 30.25891, -88.1063...\n",
       "AR    MULTILINESTRING ((-91.62986 36.49921, -91.6284...\n",
       "AS    MULTILINESTRING ((-170.77310 -14.36245, -170.7...\n",
       "AZ    LINESTRING (-110.49090 37.00361, -110.48750 37...\n",
       "CA    MULTILINESTRING ((-118.42620 32.79973, -118.42...\n",
       "CO    LINESTRING (-106.87560 41.00301, -106.85850 41...\n",
       "CT    MULTILINESTRING ((-73.62247 40.98430, -73.6220...\n",
       "DC    MULTILINESTRING ((-77.03097 38.80826, -77.0311...\n",
       "DE    MULTILINESTRING ((-75.22731 38.58854, -75.2274...\n",
       "FL    MULTILINESTRING ((-81.96339 24.52110, -81.9637...\n",
       "GA    MULTILINESTRING ((-81.49619 30.73234, -81.4964...\n",
       "HI    MULTILINESTRING ((-155.91183 19.18402, -155.91...\n",
       "IA    LINESTRING (-92.44900 43.50181, -92.44550 43.5...\n",
       "ID    LINESTRING (-116.06000 49.00081, -116.04919 49...\n",
       "IL    MULTILINESTRING ((-90.64000 42.50841, -90.6366...\n",
       "IN    LINESTRING (-86.08849 41.76071, -86.06750 41.7...\n",
       "KS    LINESTRING (-101.87420 40.00311, -101.86520 40...\n",
       "KY    MULTILINESTRING ((-89.48360 36.50021, -89.4849...\n",
       "LA    MULTILINESTRING ((-89.41367 28.92076, -89.4142...\n",
       "MA    MULTILINESTRING ((-70.81094 41.26176, -70.8101...\n",
       "ME    MULTILINESTRING ((-70.42468 43.36591, -70.4220...\n",
       "MI    MULTILINESTRING ((-83.43458 41.73714, -83.4346...\n",
       "MN    MULTILINESTRING ((-92.20329 46.70404, -92.2023...\n",
       "MS    MULTILINESTRING ((-88.62128 30.35913, -88.6242...\n",
       "MT    LINESTRING (-114.32130 49.00081, -114.26040 49...\n",
       "NC    MULTILINESTRING ((-77.50814 34.45068, -77.5084...\n",
       "ND    LINESTRING (-97.23270 48.99921, -97.23390 48.9...\n",
       "NE    LINESTRING (-103.96180 43.00156, -103.96079 43...\n",
       "NH    LINESTRING (-71.08420 45.30531, -71.08210 45.2...\n",
       "NJ    MULTILINESTRING ((-74.90399 38.95216, -74.9037...\n",
       "NM    LINESTRING (-108.37560 36.99951, -108.35719 36...\n",
       "NV    LINESTRING (-114.81620 42.00201, -114.80900 42...\n",
       "NY    MULTILINESTRING ((-73.72681 40.59421, -73.7266...\n",
       "OH    MULTILINESTRING ((-82.65704 41.43713, -82.6574...\n",
       "OK    MULTILINESTRING ((-100.08950 37.00231, -100.05...\n",
       "OR    MULTILINESTRING ((-124.21268 42.00535, -124.21...\n",
       "PA    MULTILINESTRING ((-79.76220 42.26891, -79.7620...\n",
       "PR    MULTILINESTRING ((-66.53116 17.88319, -66.5310...\n",
       "RI    MULTILINESTRING ((-71.56863 41.22551, -71.5677...\n",
       "SD    LINESTRING (-102.64259 45.94541, -102.63840 45...\n",
       "TN    LINESTRING (-88.04480 36.67801, -88.02460 36.6...\n",
       "TX    MULTILINESTRING ((-97.19970 25.99932, -97.1999...\n",
       "UT    LINESTRING (-111.04929 42.00161, -111.04680 42...\n",
       "VA    MULTILINESTRING ((-77.92809 39.19681, -77.9240...\n",
       "VI    MULTILINESTRING ((-64.76180 17.68474, -64.7611...\n",
       "VT    LINESTRING (-72.83210 45.01641, -72.82570 45.0...\n",
       "WA    MULTILINESTRING ((-123.34106 46.15892, -123.34...\n",
       "WI    MULTILINESTRING ((-87.81677 42.59232, -87.8169...\n",
       "WV    LINESTRING (-80.52020 40.63791, -80.51900 40.6...\n",
       "WY    LINESTRING (-109.10339 45.00591, -109.08920 45...\n",
       "MO    LINESTRING (-91.72970 40.61361, -91.72010 40.6...\n",
       "SC    MULTILINESTRING ((-82.38064 35.20132, -82.3794...\n",
       "GU    MULTILINESTRING ((144.67462 13.23862, 144.6737...\n",
       "MD    MULTILINESTRING ((-75.88359 37.90867, -75.8840...\n",
       "PW    MULTILINESTRING ((131.81223 2.97520, 131.81258...\n",
       "MH    MULTILINESTRING ((169.55728 5.82567, 169.55684...\n",
       "MP    MULTILINESTRING ((145.14309 14.14635, 145.1426...\n",
       "FM    MULTILINESTRING ((154.78084 1.02639, 154.77972...\n",
       "Name: boundary, dtype: geometry"
      ]
     },
     "execution_count": 58,
     "metadata": {},
     "output_type": "execute_result"
    }
   ],
   "source": [
    "gdf['boundary'] = gdf.boundary\n",
    "gdf['boundary']"
   ]
  },
  {
   "cell_type": "code",
   "execution_count": 59,
   "id": "d47bac24-a329-4d9b-9d73-f4c201d67c17",
   "metadata": {},
   "outputs": [
    {
     "name": "stderr",
     "output_type": "stream",
     "text": [
      "/var/folders/wx/jdk00pf51bj00q6tgsbrn_vr0000gn/T/ipykernel_16048/3714020261.py:1: UserWarning: Geometry is in a geographic CRS. Results from 'centroid' are likely incorrect. Use 'GeoSeries.to_crs()' to re-project geometries to a projected CRS before this operation.\n",
      "\n",
      "  gdf['centroid'] = gdf.centroid\n"
     ]
    },
    {
     "data": {
      "text/plain": [
       "STATE\n",
       "AK     POINT (-152.24098 64.24019)\n",
       "AL      POINT (-86.82676 32.79354)\n",
       "AR      POINT (-92.43920 34.89977)\n",
       "AS    POINT (-170.37215 -14.26486)\n",
       "AZ     POINT (-111.66457 34.29323)\n",
       "CA     POINT (-119.60818 37.24537)\n",
       "CO     POINT (-105.54783 38.99855)\n",
       "CT      POINT (-72.72623 41.62196)\n",
       "DC      POINT (-77.01464 38.90932)\n",
       "DE      POINT (-75.50592 38.99559)\n",
       "FL      POINT (-82.50934 28.67402)\n",
       "GA      POINT (-83.44848 32.65155)\n",
       "HI     POINT (-156.34743 20.24923)\n",
       "IA      POINT (-93.50003 42.07463)\n",
       "ID     POINT (-114.65933 44.38907)\n",
       "IL      POINT (-89.19838 40.06501)\n",
       "IN      POINT (-86.27548 39.90801)\n",
       "KS      POINT (-98.38019 38.48471)\n",
       "KY      POINT (-85.29046 37.52668)\n",
       "LA      POINT (-92.02905 31.08910)\n",
       "MA      POINT (-71.81423 42.25788)\n",
       "ME      POINT (-69.22999 45.38046)\n",
       "MI      POINT (-85.43679 44.34719)\n",
       "MN      POINT (-94.30924 46.31640)\n",
       "MS      POINT (-89.66553 32.75201)\n",
       "MT     POINT (-109.64507 47.03350)\n",
       "NC      POINT (-79.37865 35.54369)\n",
       "ND     POINT (-100.46935 47.44626)\n",
       "NE      POINT (-99.81058 41.52709)\n",
       "NH      POINT (-71.57754 43.68556)\n",
       "NJ      POINT (-74.66876 40.20049)\n",
       "NM     POINT (-106.10837 34.42137)\n",
       "NV     POINT (-116.65539 39.35648)\n",
       "NY      POINT (-75.51495 42.94796)\n",
       "OH      POINT (-82.79002 40.29120)\n",
       "OK      POINT (-97.50819 35.58345)\n",
       "OR     POINT (-120.55232 43.93589)\n",
       "PA      POINT (-77.79930 40.87368)\n",
       "PR      POINT (-66.46911 18.22241)\n",
       "RI      POINT (-71.55579 41.67544)\n",
       "SD     POINT (-100.23048 44.43614)\n",
       "TN      POINT (-86.34332 35.84299)\n",
       "TX      POINT (-99.35939 31.49422)\n",
       "UT     POINT (-111.67822 39.32379)\n",
       "VA      POINT (-78.82953 37.51640)\n",
       "VI      POINT (-64.80128 17.96400)\n",
       "VT      POINT (-72.66273 44.07511)\n",
       "WA     POINT (-120.43997 47.38076)\n",
       "WI      POINT (-90.01144 44.63725)\n",
       "WV      POINT (-80.61372 38.64259)\n",
       "WY     POINT (-107.55144 42.99963)\n",
       "MO      POINT (-92.47723 38.36750)\n",
       "SC      POINT (-80.89617 33.90834)\n",
       "GU      POINT (144.77492 13.44194)\n",
       "MD      POINT (-76.78537 39.04478)\n",
       "PW       POINT (134.51133 7.42353)\n",
       "MH       POINT (169.68075 7.46045)\n",
       "MP      POINT (145.61114 15.77670)\n",
       "FM       POINT (154.78472 7.08927)\n",
       "Name: centroid, dtype: geometry"
      ]
     },
     "execution_count": 59,
     "metadata": {},
     "output_type": "execute_result"
    }
   ],
   "source": [
    "gdf['centroid'] = gdf.centroid\n",
    "gdf['centroid']"
   ]
  },
  {
   "cell_type": "code",
   "execution_count": 60,
   "id": "4fb78b12-14aa-445d-abbe-dfa901a3f7c0",
   "metadata": {},
   "outputs": [
    {
     "name": "stderr",
     "output_type": "stream",
     "text": [
      "/var/folders/wx/jdk00pf51bj00q6tgsbrn_vr0000gn/T/ipykernel_16048/2530803384.py:2: UserWarning: Geometry is in a geographic CRS. Results from 'distance' are likely incorrect. Use 'GeoSeries.to_crs()' to re-project geometries to a projected CRS before this operation.\n",
      "\n",
      "  gdf['distance'] = gdf['centroid'].distance(first_point)\n"
     ]
    },
    {
     "data": {
      "text/plain": [
       "STATE\n",
       "AK      0.000000\n",
       "AL     72.580388\n",
       "AR     66.611661\n",
       "AS     80.571594\n",
       "AZ     50.430798\n",
       "CA     42.351149\n",
       "CO     53.079102\n",
       "CT     82.669101\n",
       "DC     79.376667\n",
       "DE     80.780933\n",
       "FL     78.278060\n",
       "GA     75.698420\n",
       "HI     44.182202\n",
       "IA     62.783850\n",
       "ID     42.502323\n",
       "IL     67.518958\n",
       "IN     70.310042\n",
       "KS     59.702003\n",
       "KY     72.083174\n",
       "LA     68.734790\n",
       "MA     83.376761\n",
       "ME     85.126464\n",
       "MI     69.703169\n",
       "MN     60.641149\n",
       "MS     70.051359\n",
       "MT     45.939987\n",
       "NC     78.309698\n",
       "ND     54.427366\n",
       "NE     57.138715\n",
       "NH     83.241120\n",
       "NJ     81.211801\n",
       "NM     54.930685\n",
       "NV     43.422729\n",
       "NY     79.625642\n",
       "OH     73.464218\n",
       "OK     61.780962\n",
       "OR     37.635570\n",
       "PA     78.022807\n",
       "PR     97.336789\n",
       "RI     83.781073\n",
       "SD     55.653325\n",
       "TN     71.755853\n",
       "TX     62.199365\n",
       "UT     47.604254\n",
       "VA     78.124277\n",
       "VI     98.930213\n",
       "VT     82.093418\n",
       "WA     35.993677\n",
       "WI     65.244088\n",
       "WV     76.063806\n",
       "WY     49.480469\n",
       "MO     65.123749\n",
       "SC     77.524863\n",
       "GU    301.328579\n",
       "MD     79.550983\n",
       "PW    292.326913\n",
       "MH    326.890721\n",
       "MP    301.769116\n",
       "FM    312.299549\n",
       "Name: distance, dtype: float64"
      ]
     },
     "execution_count": 60,
     "metadata": {},
     "output_type": "execute_result"
    }
   ],
   "source": [
    "first_point = gdf['centroid'].iloc[0]\n",
    "gdf['distance'] = gdf['centroid'].distance(first_point)\n",
    "gdf['distance']"
   ]
  },
  {
   "cell_type": "code",
   "execution_count": 61,
   "id": "2d0331a3-6496-489f-9dc8-c342d9ec0dcf",
   "metadata": {},
   "outputs": [
    {
     "data": {
      "text/plain": [
       "86.59949986223789"
      ]
     },
     "execution_count": 61,
     "metadata": {},
     "output_type": "execute_result"
    }
   ],
   "source": [
    "gdf['distance'].mean()"
   ]
  },
  {
   "cell_type": "code",
   "execution_count": null,
   "id": "9ae1a155-7d55-409e-a37e-f3f97eea42ec",
   "metadata": {},
   "outputs": [],
   "source": []
  },
  {
   "cell_type": "code",
   "execution_count": 65,
   "id": "1f7c11b8-f0f3-441b-9057-4e920673b2d4",
   "metadata": {},
   "outputs": [],
   "source": [
    "u = r\"gz_2010_us_040_00_5m.json\"\n",
    "us_main = gpd.read_file(u)"
   ]
  },
  {
   "cell_type": "code",
   "execution_count": 88,
   "id": "d4ea9dd4-c55a-48f7-8c24-d5323e10fbb0",
   "metadata": {},
   "outputs": [
    {
     "data": {
      "image/png": "[encoded data removed]",
      "text/plain": [
       "<Figure size 1200x800 with 1 Axes>"
      ]
     },
     "metadata": {
      "needs_background": "light"
     },
     "output_type": "display_data"
    }
   ],
   "source": [
    "fig, ax = plt.subplots(figsize=(12, 8),dpi=100)\n",
    "ax = us_main.plot(ax=ax)\n",
    "\n",
    "plt.xlim([-130, -65])\n",
    "plt.ylim([23, 50])\n",
    "plt.show()"
   ]
  },
  {
   "cell_type": "code",
   "execution_count": null,
   "id": "015a2122-ef1c-42d7-962e-35e97727b87f",
   "metadata": {},
   "outputs": [],
   "source": [
    "gdf.explore(\"area\", legend=False)"
   ]
  }
 ],
 "metadata": {
  "kernelspec": {
   "display_name": "Python 3 (ipykernel)",
   "language": "python",
   "name": "python3"
  },
  "language_info": {
   "codemirror_mode": {
    "name": "ipython",
    "version": 3
   },
   "file_extension": ".py",
   "mimetype": "text/x-python",
   "name": "python",
   "nbconvert_exporter": "python",
   "pygments_lexer": "ipython3",
   "version": "3.9.7"
  }
 },
 "nbformat": 4,
 "nbformat_minor": 5
}
