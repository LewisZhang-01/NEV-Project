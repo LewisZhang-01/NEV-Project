{
 "cells": [
  {
   "cell_type": "markdown",
   "id": "6b7bc0da-9c8e-4d4b-8f91-358452818d14",
   "metadata": {},
   "source": [
    "# Introduction"
   ]
  },
  {
   "cell_type": "markdown",
   "id": "aef403aa-eb85-4386-99f3-702bad79f409",
   "metadata": {},
   "source": [
    "In this NoteBook we will clean the dataset of NEV stations."
   ]
  },
  {
   "cell_type": "markdown",
   "id": "a1b2bfd0-070e-410c-ac7a-73f0bc8cc3f6",
   "metadata": {},
   "source": [
    "# Set up"
   ]
  },
  {
   "cell_type": "code",
   "execution_count": 1,
   "id": "b542c0d1-e799-4960-9bda-3bfdd4e273f1",
   "metadata": {},
   "outputs": [],
   "source": [
    "import pandas as pd\n",
    "from glob import glob\n",
    "from pathlib import Path\n",
    "import os"
   ]
  },
  {
   "cell_type": "markdown",
   "id": "777ae93d-db40-4e82-ab9c-1af5b523d903",
   "metadata": {},
   "source": [
    "# Read the data\n",
    "**Show total number of csv files in current directory**"
   ]
  },
  {
   "cell_type": "code",
   "execution_count": 2,
   "id": "25d87640-342a-4573-8211-70e7867ed2be",
   "metadata": {},
   "outputs": [
    {
     "data": {
      "text/plain": [
       "15"
      ]
     },
     "execution_count": 2,
     "metadata": {},
     "output_type": "execute_result"
    }
   ],
   "source": [
    "files = glob('../Raw_Data/Station Counts by State and Fuel Type/*.csv')\n",
    "len(files)"
   ]
  },
  {
   "cell_type": "markdown",
   "id": "76c219c5-ca9c-46ee-b8a2-391d4413bb13",
   "metadata": {},
   "source": [
    "**Read and concat all files into one dataframe**"
   ]
  },
  {
   "cell_type": "code",
   "execution_count": 3,
   "id": "ff28a8bb-df43-4ebc-9eee-62a800c534c4",
   "metadata": {},
   "outputs": [
    {
     "name": "stdout",
     "output_type": "stream",
     "text": [
      "(765, 9)\n"
     ]
    },
    {
     "data": {
      "text/html": [
       "<div>\n",
       "<style scoped>\n",
       "    .dataframe tbody tr th:only-of-type {\n",
       "        vertical-align: middle;\n",
       "    }\n",
       "\n",
       "    .dataframe tbody tr th {\n",
       "        vertical-align: top;\n",
       "    }\n",
       "\n",
       "    .dataframe thead th {\n",
       "        text-align: right;\n",
       "    }\n",
       "</style>\n",
       "<table border=\"1\" class=\"dataframe\">\n",
       "  <thead>\n",
       "    <tr style=\"text-align: right;\">\n",
       "      <th></th>\n",
       "      <th>Biodiesel</th>\n",
       "      <th>CNG</th>\n",
       "      <th>E85</th>\n",
       "      <th>Electric</th>\n",
       "      <th>Hydrogen</th>\n",
       "      <th>LNG</th>\n",
       "      <th>Propane</th>\n",
       "      <th>Total</th>\n",
       "      <th>Year</th>\n",
       "    </tr>\n",
       "    <tr>\n",
       "      <th>State</th>\n",
       "      <th></th>\n",
       "      <th></th>\n",
       "      <th></th>\n",
       "      <th></th>\n",
       "      <th></th>\n",
       "      <th></th>\n",
       "      <th></th>\n",
       "      <th></th>\n",
       "      <th></th>\n",
       "    </tr>\n",
       "  </thead>\n",
       "  <tbody>\n",
       "    <tr>\n",
       "      <th>Alabama</th>\n",
       "      <td>11</td>\n",
       "      <td>3</td>\n",
       "      <td>6</td>\n",
       "      <td>0</td>\n",
       "      <td>0</td>\n",
       "      <td>0</td>\n",
       "      <td>40</td>\n",
       "      <td>60</td>\n",
       "      <td>2008</td>\n",
       "    </tr>\n",
       "    <tr>\n",
       "      <th>Alaska</th>\n",
       "      <td>0</td>\n",
       "      <td>1</td>\n",
       "      <td>0</td>\n",
       "      <td>0</td>\n",
       "      <td>0</td>\n",
       "      <td>0</td>\n",
       "      <td>10</td>\n",
       "      <td>11</td>\n",
       "      <td>2008</td>\n",
       "    </tr>\n",
       "    <tr>\n",
       "      <th>Arizona</th>\n",
       "      <td>10</td>\n",
       "      <td>40</td>\n",
       "      <td>23</td>\n",
       "      <td>5</td>\n",
       "      <td>1</td>\n",
       "      <td>5</td>\n",
       "      <td>51</td>\n",
       "      <td>135</td>\n",
       "      <td>2008</td>\n",
       "    </tr>\n",
       "    <tr>\n",
       "      <th>Arkansas</th>\n",
       "      <td>2</td>\n",
       "      <td>3</td>\n",
       "      <td>7</td>\n",
       "      <td>0</td>\n",
       "      <td>0</td>\n",
       "      <td>0</td>\n",
       "      <td>37</td>\n",
       "      <td>49</td>\n",
       "      <td>2008</td>\n",
       "    </tr>\n",
       "    <tr>\n",
       "      <th>California</th>\n",
       "      <td>36</td>\n",
       "      <td>184</td>\n",
       "      <td>13</td>\n",
       "      <td>376</td>\n",
       "      <td>26</td>\n",
       "      <td>28</td>\n",
       "      <td>199</td>\n",
       "      <td>862</td>\n",
       "      <td>2008</td>\n",
       "    </tr>\n",
       "  </tbody>\n",
       "</table>\n",
       "</div>"
      ],
      "text/plain": [
       "            Biodiesel  CNG  E85 Electric  Hydrogen  LNG  Propane  Total  Year\n",
       "State                                                                        \n",
       "Alabama            11    3    6        0         0    0       40     60  2008\n",
       "Alaska              0    1    0        0         0    0       10     11  2008\n",
       "Arizona            10   40   23        5         1    5       51    135  2008\n",
       "Arkansas            2    3    7        0         0    0       37     49  2008\n",
       "California         36  184   13      376        26   28      199    862  2008"
      ]
     },
     "execution_count": 3,
     "metadata": {},
     "output_type": "execute_result"
    }
   ],
   "source": [
    "files = Path('../Raw_Data/Station Counts by State and Fuel Type').glob('*.csv') # get all csvs in your dir.\n",
    "\n",
    "df = pd.DataFrame()\n",
    "for file in files:\n",
    "    #name = os.path.basename(file)\n",
    "    data = pd.read_csv(file,index_col = 0,nrows=51,thousands=',')\n",
    "    # Find the file name which is the year of current df, split with dot, year is the first part.\n",
    "    year = os.path.basename(file).split('.')[0]\n",
    "    # Add year as a new column\n",
    "    data.insert(data.shape[1], 'Year', year)\n",
    "    # Change specific column name\n",
    "    if 'Electric(stations / charging outlets)' in data.columns:\n",
    "        data = data.rename(columns = {'Electric(stations / charging outlets)':'Electric'})\n",
    "        # Remove thousand comma mark\n",
    "        data['Electric'] = data['Electric'].str.replace(',', '')\n",
    "        # Keep last number in cell\n",
    "        data['Electric'] = data['Electric'].str.split(\"/\").str[-1]\n",
    "    df = pd.concat([df,data])\n",
    "print(df.shape)\n",
    "df.head()"
   ]
  },
  {
   "cell_type": "markdown",
   "id": "6fe90dd8-4d18-4012-adfb-3b1dfc8f6ab4",
   "metadata": {},
   "source": [
    "**Check states number & Year range**"
   ]
  },
  {
   "cell_type": "code",
   "execution_count": 4,
   "id": "259e8b38-b29c-4025-87ea-e184cd0bc357",
   "metadata": {},
   "outputs": [
    {
     "data": {
      "text/plain": [
       "(51, '2007', '2021')"
      ]
     },
     "execution_count": 4,
     "metadata": {},
     "output_type": "execute_result"
    }
   ],
   "source": [
    "df.groupby('State').size().count(),df['Year'].min(),df['Year'].max()"
   ]
  },
  {
   "cell_type": "markdown",
   "id": "428074be-ceb7-4915-8b00-6e859b1e2b14",
   "metadata": {},
   "source": [
    "# Output Cleaned Data Version"
   ]
  },
  {
   "cell_type": "code",
   "execution_count": 5,
   "id": "e7bbb0c9-2c1f-4493-b6ce-d9d736dba340",
   "metadata": {},
   "outputs": [],
   "source": [
    "path = '../Processed_Data/station.csv'\n",
    "df.to_csv(path)"
   ]
  }
 ],
 "metadata": {
  "kernelspec": {
   "display_name": "Python 3 (ipykernel)",
   "language": "python",
   "name": "python3"
  },
  "language_info": {
   "codemirror_mode": {
    "name": "ipython",
    "version": 3
   },
   "file_extension": ".py",
   "mimetype": "text/x-python",
   "name": "python",
   "nbconvert_exporter": "python",
   "pygments_lexer": "ipython3",
   "version": "3.9.7"
  }
 },
 "nbformat": 4,
 "nbformat_minor": 5
}
