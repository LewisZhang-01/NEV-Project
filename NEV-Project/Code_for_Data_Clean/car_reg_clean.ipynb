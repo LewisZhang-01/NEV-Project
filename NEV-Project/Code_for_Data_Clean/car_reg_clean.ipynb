{
 "cells": [
  {
   "cell_type": "markdown",
   "id": "6b7bc0da-9c8e-4d4b-8f91-358452818d14",
   "metadata": {},
   "source": [
    "# Introduction"
   ]
  },
  {
   "cell_type": "markdown",
   "id": "aef403aa-eb85-4386-99f3-702bad79f409",
   "metadata": {},
   "source": [
    "In this NoteBook we will clean the dataset of total number of registered vehicles per state in 2015 & 2020"
   ]
  },
  {
   "cell_type": "markdown",
   "id": "a1b2bfd0-070e-410c-ac7a-73f0bc8cc3f6",
   "metadata": {},
   "source": [
    "## Set up"
   ]
  },
  {
   "cell_type": "code",
   "execution_count": 2,
   "id": "b542c0d1-e799-4960-9bda-3bfdd4e273f1",
   "metadata": {},
   "outputs": [],
   "source": [
    "import pandas as pd"
   ]
  },
  {
   "cell_type": "markdown",
   "id": "777ae93d-db40-4e82-ab9c-1af5b523d903",
   "metadata": {},
   "source": [
    "## Read the data"
   ]
  },
  {
   "cell_type": "code",
   "execution_count": 12,
   "id": "b906f924-f120-4063-84fb-028c2626e5d3",
   "metadata": {},
   "outputs": [],
   "source": [
    "data = pd.read_csv('../Raw_Data/Total_number_of_registered_vehicles_per_state_2015&2020.csv',\n",
    "                   thousands=',',\n",
    "                   skiprows=[1], \n",
    "                   delimiter = ',',\n",
    "                   index_col=[0]\n",
    "                  )\n",
    "data.set_axis(['2020', '2015'], axis=1, inplace=True)"
   ]
  },
  {
   "cell_type": "code",
   "execution_count": 13,
   "id": "259e8b38-b29c-4025-87ea-e184cd0bc357",
   "metadata": {},
   "outputs": [
    {
     "data": {
      "text/html": [
       "<div>\n",
       "<style scoped>\n",
       "    .dataframe tbody tr th:only-of-type {\n",
       "        vertical-align: middle;\n",
       "    }\n",
       "\n",
       "    .dataframe tbody tr th {\n",
       "        vertical-align: top;\n",
       "    }\n",
       "\n",
       "    .dataframe thead th {\n",
       "        text-align: right;\n",
       "    }\n",
       "</style>\n",
       "<table border=\"1\" class=\"dataframe\">\n",
       "  <thead>\n",
       "    <tr style=\"text-align: right;\">\n",
       "      <th></th>\n",
       "      <th>2020</th>\n",
       "      <th>2015</th>\n",
       "    </tr>\n",
       "    <tr>\n",
       "      <th>State</th>\n",
       "      <th></th>\n",
       "      <th></th>\n",
       "    </tr>\n",
       "  </thead>\n",
       "  <tbody>\n",
       "    <tr>\n",
       "      <th>Alabama</th>\n",
       "      <td>5320340</td>\n",
       "      <td>5400419</td>\n",
       "    </tr>\n",
       "    <tr>\n",
       "      <th>Alaska</th>\n",
       "      <td>792826</td>\n",
       "      <td>815122</td>\n",
       "    </tr>\n",
       "    <tr>\n",
       "      <th>Arizona</th>\n",
       "      <td>6053781</td>\n",
       "      <td>5630647</td>\n",
       "    </tr>\n",
       "    <tr>\n",
       "      <th>Arkansas</th>\n",
       "      <td>2913369</td>\n",
       "      <td>2772214</td>\n",
       "    </tr>\n",
       "    <tr>\n",
       "      <th>California</th>\n",
       "      <td>30398249</td>\n",
       "      <td>29424012</td>\n",
       "    </tr>\n",
       "  </tbody>\n",
       "</table>\n",
       "</div>"
      ],
      "text/plain": [
       "                2020      2015\n",
       "State                         \n",
       "Alabama      5320340   5400419\n",
       "Alaska        792826    815122\n",
       "Arizona      6053781   5630647\n",
       "Arkansas     2913369   2772214\n",
       "California  30398249  29424012"
      ]
     },
     "execution_count": 13,
     "metadata": {},
     "output_type": "execute_result"
    }
   ],
   "source": [
    "data.head()"
   ]
  },
  {
   "cell_type": "code",
   "execution_count": 14,
   "id": "e7bbb0c9-2c1f-4493-b6ce-d9d736dba340",
   "metadata": {},
   "outputs": [],
   "source": [
    "path = '../Processed_Data/car_reg_2015_and_2020.csv'\n",
    "data.to_csv(path)"
   ]
  },
  {
   "cell_type": "code",
   "execution_count": null,
   "id": "60e9c902-b1fa-445b-9713-2a7cf16090a8",
   "metadata": {},
   "outputs": [],
   "source": []
  },
  {
   "cell_type": "code",
   "execution_count": null,
   "id": "86809b7a-83ca-43fb-91ae-818e5892c8f8",
   "metadata": {},
   "outputs": [],
   "source": []
  }
 ],
 "metadata": {
  "kernelspec": {
   "display_name": "Python 3 (ipykernel)",
   "language": "python",
   "name": "python3"
  },
  "language_info": {
   "codemirror_mode": {
    "name": "ipython",
    "version": 3
   },
   "file_extension": ".py",
   "mimetype": "text/x-python",
   "name": "python",
   "nbconvert_exporter": "python",
   "pygments_lexer": "ipython3",
   "version": "3.9.7"
  }
 },
 "nbformat": 4,
 "nbformat_minor": 5
}
