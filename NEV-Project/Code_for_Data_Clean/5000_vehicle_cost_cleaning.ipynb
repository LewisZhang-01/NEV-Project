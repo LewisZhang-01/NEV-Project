{
 "cells": [
  {
   "cell_type": "markdown",
   "id": "1ccc19af-d7fe-4be6-a0a9-70e68b0fe1f1",
   "metadata": {},
   "source": [
    "# Introduction\n",
    "In this NoteBook we will clean the datasets of vehicle cost.\n",
    "# Set up"
   ]
  },
  {
   "cell_type": "code",
   "execution_count": 1,
   "id": "f1fbb26b-59b5-4d0d-947f-45372b9987f5",
   "metadata": {},
   "outputs": [],
   "source": [
    "import pandas as pd\n",
    "from glob import glob\n",
    "import os\n",
    "from pathlib import Path"
   ]
  },
  {
   "cell_type": "markdown",
   "id": "fcf099ac-d4df-4f11-a243-cb9b69e0d463",
   "metadata": {},
   "source": [
    "# Read the data\n",
    "**Check total number of file in given directory** "
   ]
  },
  {
   "cell_type": "code",
   "execution_count": 2,
   "id": "96bc8569-5a8d-4a46-a034-f0f3f06928f4",
   "metadata": {},
   "outputs": [
    {
     "data": {
      "text/plain": [
       "9"
      ]
     },
     "execution_count": 2,
     "metadata": {},
     "output_type": "execute_result"
    }
   ],
   "source": [
    "files = glob('../Raw_Data/Vehicle_Cost/*.xlsx')\n",
    "len(files)"
   ]
  },
  {
   "cell_type": "markdown",
   "id": "b3709b9a-4ed0-41b5-996c-dcddf92c09c9",
   "metadata": {},
   "source": [
    "**Get the index of 'Annual fuel cost' in excel file**"
   ]
  },
  {
   "cell_type": "code",
   "execution_count": 3,
   "id": "2b210ff9-57c9-4cdf-ab48-4be6da8a4475",
   "metadata": {},
   "outputs": [
    {
     "data": {
      "text/plain": [
       "44"
      ]
     },
     "execution_count": 3,
     "metadata": {},
     "output_type": "execute_result"
    }
   ],
   "source": [
    "df_21EV = pd.read_excel('../Raw_Data/Vehicle_Cost/2021 FE Guide-release dates before 11-23-2021-no-sales -11-22-2021 for DOE_Karmapublic.xlsx', \n",
    "                      sheet_name = '21')\n",
    "\n",
    "df_21EV.columns.get_loc('Annual Fuel1 Cost - Conventional Fuel')"
   ]
  },
  {
   "cell_type": "markdown",
   "id": "80800efb-abce-4ebb-95a3-cb8883e47e87",
   "metadata": {},
   "source": [
    "**Read and calculate average cost of each fuel type by years** "
   ]
  },
  {
   "cell_type": "code",
   "execution_count": 4,
   "id": "a46a61ca-9c5f-4948-9371-7bacb3b04c70",
   "metadata": {},
   "outputs": [
    {
     "data": {
      "text/html": [
       "<div>\n",
       "<style scoped>\n",
       "    .dataframe tbody tr th:only-of-type {\n",
       "        vertical-align: middle;\n",
       "    }\n",
       "\n",
       "    .dataframe tbody tr th {\n",
       "        vertical-align: top;\n",
       "    }\n",
       "\n",
       "    .dataframe thead th {\n",
       "        text-align: right;\n",
       "    }\n",
       "</style>\n",
       "<table border=\"1\" class=\"dataframe\">\n",
       "  <thead>\n",
       "    <tr style=\"text-align: right;\">\n",
       "      <th></th>\n",
       "      <th>cost_of_gas</th>\n",
       "      <th>cost_of_EV</th>\n",
       "      <th>cost_of_PHEV</th>\n",
       "      <th>cost_of_FCV</th>\n",
       "    </tr>\n",
       "    <tr>\n",
       "      <th>Year</th>\n",
       "      <th></th>\n",
       "      <th></th>\n",
       "      <th></th>\n",
       "      <th></th>\n",
       "    </tr>\n",
       "  </thead>\n",
       "  <tbody>\n",
       "    <tr>\n",
       "      <th>2016</th>\n",
       "      <td>2147.732894</td>\n",
       "      <td>664.516129</td>\n",
       "      <td>1311.111111</td>\n",
       "      <td>1475.0</td>\n",
       "    </tr>\n",
       "    <tr>\n",
       "      <th>2018</th>\n",
       "      <td>1778.682171</td>\n",
       "      <td>618.750000</td>\n",
       "      <td>1213.235294</td>\n",
       "      <td>1250.0</td>\n",
       "    </tr>\n",
       "    <tr>\n",
       "      <th>2021</th>\n",
       "      <td>2095.423729</td>\n",
       "      <td>695.098039</td>\n",
       "      <td>1492.000000</td>\n",
       "      <td>1320.0</td>\n",
       "    </tr>\n",
       "    <tr>\n",
       "      <th>2020</th>\n",
       "      <td>2076.817793</td>\n",
       "      <td>646.052632</td>\n",
       "      <td>1445.555556</td>\n",
       "      <td>1350.0</td>\n",
       "    </tr>\n",
       "    <tr>\n",
       "      <th>2019</th>\n",
       "      <td>1904.559748</td>\n",
       "      <td>628.571429</td>\n",
       "      <td>1258.333333</td>\n",
       "      <td>1350.0</td>\n",
       "    </tr>\n",
       "    <tr>\n",
       "      <th>2015</th>\n",
       "      <td>2532.294165</td>\n",
       "      <td>597.222222</td>\n",
       "      <td>1520.833333</td>\n",
       "      <td>1700.0</td>\n",
       "    </tr>\n",
       "    <tr>\n",
       "      <th>2014</th>\n",
       "      <td>2570.443144</td>\n",
       "      <td>620.000000</td>\n",
       "      <td>1315.000000</td>\n",
       "      <td>1400.0</td>\n",
       "    </tr>\n",
       "    <tr>\n",
       "      <th>2022</th>\n",
       "      <td>1859.905660</td>\n",
       "      <td>698.125000</td>\n",
       "      <td>1318.604651</td>\n",
       "      <td>1300.0</td>\n",
       "    </tr>\n",
       "    <tr>\n",
       "      <th>2017</th>\n",
       "      <td>1794.774920</td>\n",
       "      <td>645.000000</td>\n",
       "      <td>1131.578947</td>\n",
       "      <td>1400.0</td>\n",
       "    </tr>\n",
       "  </tbody>\n",
       "</table>\n",
       "</div>"
      ],
      "text/plain": [
       "      cost_of_gas  cost_of_EV  cost_of_PHEV  cost_of_FCV\n",
       "Year                                                    \n",
       "2016  2147.732894  664.516129   1311.111111       1475.0\n",
       "2018  1778.682171  618.750000   1213.235294       1250.0\n",
       "2021  2095.423729  695.098039   1492.000000       1320.0\n",
       "2020  2076.817793  646.052632   1445.555556       1350.0\n",
       "2019  1904.559748  628.571429   1258.333333       1350.0\n",
       "2015  2532.294165  597.222222   1520.833333       1700.0\n",
       "2014  2570.443144  620.000000   1315.000000       1400.0\n",
       "2022  1859.905660  698.125000   1318.604651       1300.0\n",
       "2017  1794.774920  645.000000   1131.578947       1400.0"
      ]
     },
     "execution_count": 4,
     "metadata": {},
     "output_type": "execute_result"
    }
   ],
   "source": [
    "files = Path('../Raw_Data/Vehicle_Cost').glob('*.xlsx') # get all xlsx files in your dir.\n",
    "\n",
    "df_output = pd.DataFrame(columns = ['Year','cost_of_gas','cost_of_EV','cost_of_PHEV','cost_of_FCV'])\n",
    "for file in files:\n",
    "    # Get annual fuel cost for all types vehicle (different excel sheet)\n",
    "    df_gas = pd.read_excel(file, sheet_name=0, usecols = [44])\n",
    "    df_PHEV = pd.read_excel(file, sheet_name=1, usecols = [44]).dropna()[2:] \n",
    "    df_EV = pd.read_excel(file, sheet_name=2, usecols = [44]).dropna()[2:]\n",
    "    df_FCV = pd.read_excel(file, sheet_name=3, usecols = [44]).dropna()[2:]\n",
    "    \n",
    "    # Calculate the average cost of the year\n",
    "    cost_of_gas = df_gas.mean()[0]\n",
    "    cost_of_PHEV = df_PHEV.mean()[0]\n",
    "    cost_of_EV = df_EV.mean()[0]\n",
    "    cost_of_FCV = df_FCV.mean()[0]\n",
    "    \n",
    "    # Find the file name which is the year of current df, split with dot, year is the first part.\n",
    "    year = os.path.basename(file).split(' ')[0]\n",
    "\n",
    "    # Fill output dataframe with calculated values\n",
    "    df_output = df_output.append({'Year':year, \n",
    "                            'cost_of_gas':cost_of_gas, \n",
    "                            'cost_of_EV':cost_of_EV, \n",
    "                            'cost_of_PHEV':cost_of_PHEV, \n",
    "                            'cost_of_FCV':cost_of_FCV\n",
    "                           }, ignore_index=True)\n",
    "\n",
    "df_output = df_output.set_index('Year')\n",
    "df_output"
   ]
  },
  {
   "cell_type": "markdown",
   "id": "f2f32a65-2a85-486e-a2b1-00fc59398a74",
   "metadata": {},
   "source": [
    "**Calculate average cost for all new energy vehicles**"
   ]
  },
  {
   "cell_type": "code",
   "execution_count": 5,
   "id": "48268c23-a555-4a66-993e-4ebbd84c9e01",
   "metadata": {},
   "outputs": [
    {
     "data": {
      "text/html": [
       "<div>\n",
       "<style scoped>\n",
       "    .dataframe tbody tr th:only-of-type {\n",
       "        vertical-align: middle;\n",
       "    }\n",
       "\n",
       "    .dataframe tbody tr th {\n",
       "        vertical-align: top;\n",
       "    }\n",
       "\n",
       "    .dataframe thead th {\n",
       "        text-align: right;\n",
       "    }\n",
       "</style>\n",
       "<table border=\"1\" class=\"dataframe\">\n",
       "  <thead>\n",
       "    <tr style=\"text-align: right;\">\n",
       "      <th></th>\n",
       "      <th>cost_of_gas</th>\n",
       "      <th>cost_of_EV</th>\n",
       "      <th>cost_of_PHEV</th>\n",
       "      <th>cost_of_FCV</th>\n",
       "      <th>Avg_NE</th>\n",
       "    </tr>\n",
       "    <tr>\n",
       "      <th>Year</th>\n",
       "      <th></th>\n",
       "      <th></th>\n",
       "      <th></th>\n",
       "      <th></th>\n",
       "      <th></th>\n",
       "    </tr>\n",
       "  </thead>\n",
       "  <tbody>\n",
       "    <tr>\n",
       "      <th>2014</th>\n",
       "      <td>2570.443144</td>\n",
       "      <td>620.000000</td>\n",
       "      <td>1315.000000</td>\n",
       "      <td>1400.0</td>\n",
       "      <td>1111.666667</td>\n",
       "    </tr>\n",
       "    <tr>\n",
       "      <th>2015</th>\n",
       "      <td>2532.294165</td>\n",
       "      <td>597.222222</td>\n",
       "      <td>1520.833333</td>\n",
       "      <td>1700.0</td>\n",
       "      <td>1272.685185</td>\n",
       "    </tr>\n",
       "    <tr>\n",
       "      <th>2016</th>\n",
       "      <td>2147.732894</td>\n",
       "      <td>664.516129</td>\n",
       "      <td>1311.111111</td>\n",
       "      <td>1475.0</td>\n",
       "      <td>1150.209080</td>\n",
       "    </tr>\n",
       "    <tr>\n",
       "      <th>2017</th>\n",
       "      <td>1794.774920</td>\n",
       "      <td>645.000000</td>\n",
       "      <td>1131.578947</td>\n",
       "      <td>1400.0</td>\n",
       "      <td>1058.859649</td>\n",
       "    </tr>\n",
       "    <tr>\n",
       "      <th>2018</th>\n",
       "      <td>1778.682171</td>\n",
       "      <td>618.750000</td>\n",
       "      <td>1213.235294</td>\n",
       "      <td>1250.0</td>\n",
       "      <td>1027.328431</td>\n",
       "    </tr>\n",
       "    <tr>\n",
       "      <th>2019</th>\n",
       "      <td>1904.559748</td>\n",
       "      <td>628.571429</td>\n",
       "      <td>1258.333333</td>\n",
       "      <td>1350.0</td>\n",
       "      <td>1078.968254</td>\n",
       "    </tr>\n",
       "    <tr>\n",
       "      <th>2020</th>\n",
       "      <td>2076.817793</td>\n",
       "      <td>646.052632</td>\n",
       "      <td>1445.555556</td>\n",
       "      <td>1350.0</td>\n",
       "      <td>1147.202729</td>\n",
       "    </tr>\n",
       "    <tr>\n",
       "      <th>2021</th>\n",
       "      <td>2095.423729</td>\n",
       "      <td>695.098039</td>\n",
       "      <td>1492.000000</td>\n",
       "      <td>1320.0</td>\n",
       "      <td>1169.032680</td>\n",
       "    </tr>\n",
       "    <tr>\n",
       "      <th>2022</th>\n",
       "      <td>1859.905660</td>\n",
       "      <td>698.125000</td>\n",
       "      <td>1318.604651</td>\n",
       "      <td>1300.0</td>\n",
       "      <td>1105.576550</td>\n",
       "    </tr>\n",
       "  </tbody>\n",
       "</table>\n",
       "</div>"
      ],
      "text/plain": [
       "      cost_of_gas  cost_of_EV  cost_of_PHEV  cost_of_FCV       Avg_NE\n",
       "Year                                                                 \n",
       "2014  2570.443144  620.000000   1315.000000       1400.0  1111.666667\n",
       "2015  2532.294165  597.222222   1520.833333       1700.0  1272.685185\n",
       "2016  2147.732894  664.516129   1311.111111       1475.0  1150.209080\n",
       "2017  1794.774920  645.000000   1131.578947       1400.0  1058.859649\n",
       "2018  1778.682171  618.750000   1213.235294       1250.0  1027.328431\n",
       "2019  1904.559748  628.571429   1258.333333       1350.0  1078.968254\n",
       "2020  2076.817793  646.052632   1445.555556       1350.0  1147.202729\n",
       "2021  2095.423729  695.098039   1492.000000       1320.0  1169.032680\n",
       "2022  1859.905660  698.125000   1318.604651       1300.0  1105.576550"
      ]
     },
     "execution_count": 5,
     "metadata": {},
     "output_type": "execute_result"
    }
   ],
   "source": [
    "df_output['Avg_NE'] = df_output.iloc[:,1:].mean(axis=1)\n",
    "df_output.sort_index(inplace=True)\n",
    "df_output"
   ]
  },
  {
   "cell_type": "markdown",
   "id": "fffb361b-2f69-4ce2-bb30-29d2d6d992c3",
   "metadata": {},
   "source": [
    "# Output Cleaned Data Version"
   ]
  },
  {
   "cell_type": "code",
   "execution_count": 6,
   "id": "01ec9354-4dd2-4adf-9a97-be6fff11929b",
   "metadata": {},
   "outputs": [],
   "source": [
    "path = '../Processed_Data/Save_money.csv'\n",
    "df_output.to_csv(path)"
   ]
  }
 ],
 "metadata": {
  "kernelspec": {
   "display_name": "Python 3 (ipykernel)",
   "language": "python",
   "name": "python3"
  },
  "language_info": {
   "codemirror_mode": {
    "name": "ipython",
    "version": 3
   },
   "file_extension": ".py",
   "mimetype": "text/x-python",
   "name": "python",
   "nbconvert_exporter": "python",
   "pygments_lexer": "ipython3",
   "version": "3.9.7"
  }
 },
 "nbformat": 4,
 "nbformat_minor": 5
}
