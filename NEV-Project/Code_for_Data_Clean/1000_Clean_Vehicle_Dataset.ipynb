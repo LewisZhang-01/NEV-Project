{
 "cells": [
  {
   "cell_type": "markdown",
   "id": "995acfc4-4cd2-4755-b236-b3dcdfc6b6dd",
   "metadata": {},
   "source": [
    "# Introduction\n",
    "In this NoteBook, we will clean the all types vehicles dataset."
   ]
  },
  {
   "cell_type": "markdown",
   "id": "ac8c0714-0ca0-46a9-b8b3-07eae51e751d",
   "metadata": {},
   "source": [
    "# Setup & Load Dataset"
   ]
  },
  {
   "cell_type": "code",
   "execution_count": 1,
   "id": "60ab198f-a27f-45a8-b762-21094393783a",
   "metadata": {},
   "outputs": [],
   "source": [
    "import pandas as pd"
   ]
  },
  {
   "cell_type": "markdown",
   "id": "441c47d4-a47b-4bea-a357-bddd8b0f01dc",
   "metadata": {},
   "source": [
    "**Path to dataset**"
   ]
  },
  {
   "cell_type": "code",
   "execution_count": 2,
   "id": "82fea792-6885-4a95-98f7-e1acb124570d",
   "metadata": {
    "tags": []
   },
   "outputs": [
    {
     "data": {
      "text/plain": [
       "(335562, 9)"
      ]
     },
     "execution_count": 2,
     "metadata": {},
     "output_type": "execute_result"
    }
   ],
   "source": [
    "dataset = \"../Raw_Data/Vehicle_Dataset.csv\"\n",
    "df = pd.read_csv(dataset)\n",
    "df.shape"
   ]
  },
  {
   "cell_type": "code",
   "execution_count": 3,
   "id": "9f403150-e2eb-417a-97e0-d9fae764c781",
   "metadata": {},
   "outputs": [
    {
     "data": {
      "text/html": [
       "<div>\n",
       "<style scoped>\n",
       "    .dataframe tbody tr th:only-of-type {\n",
       "        vertical-align: middle;\n",
       "    }\n",
       "\n",
       "    .dataframe tbody tr th {\n",
       "        vertical-align: top;\n",
       "    }\n",
       "\n",
       "    .dataframe thead th {\n",
       "        text-align: right;\n",
       "    }\n",
       "</style>\n",
       "<table border=\"1\" class=\"dataframe\">\n",
       "  <thead>\n",
       "    <tr style=\"text-align: right;\">\n",
       "      <th></th>\n",
       "      <th>Genmodel_ID</th>\n",
       "      <th>Maker</th>\n",
       "      <th>Genmodel</th>\n",
       "      <th>Trim</th>\n",
       "      <th>Year</th>\n",
       "      <th>Price</th>\n",
       "      <th>Gas_emission</th>\n",
       "      <th>Fuel_type</th>\n",
       "      <th>Engine_size</th>\n",
       "    </tr>\n",
       "  </thead>\n",
       "  <tbody>\n",
       "    <tr>\n",
       "      <th>0</th>\n",
       "      <td>2_1</td>\n",
       "      <td>Abarth</td>\n",
       "      <td>124 spider</td>\n",
       "      <td>124 Spider1.4 Turbo MultiAir 170hp 2d</td>\n",
       "      <td>2016</td>\n",
       "      <td>29365</td>\n",
       "      <td>148</td>\n",
       "      <td>Petrol</td>\n",
       "      <td>1368</td>\n",
       "    </tr>\n",
       "    <tr>\n",
       "      <th>1</th>\n",
       "      <td>2_1</td>\n",
       "      <td>Abarth</td>\n",
       "      <td>124 spider</td>\n",
       "      <td>124 Spider1.4 Turbo MultiAir 170hp Sequenziale...</td>\n",
       "      <td>2016</td>\n",
       "      <td>31365</td>\n",
       "      <td>153</td>\n",
       "      <td>Petrol</td>\n",
       "      <td>1368</td>\n",
       "    </tr>\n",
       "    <tr>\n",
       "      <th>2</th>\n",
       "      <td>2_1</td>\n",
       "      <td>Abarth</td>\n",
       "      <td>124 spider</td>\n",
       "      <td>124 Spider1.4 Turbo MultiAir 170hp 2d</td>\n",
       "      <td>2017</td>\n",
       "      <td>29365</td>\n",
       "      <td>148</td>\n",
       "      <td>Petrol</td>\n",
       "      <td>1368</td>\n",
       "    </tr>\n",
       "    <tr>\n",
       "      <th>3</th>\n",
       "      <td>2_1</td>\n",
       "      <td>Abarth</td>\n",
       "      <td>124 spider</td>\n",
       "      <td>124 Spider1.4 Turbo MultiAir 170hp Sequenziale...</td>\n",
       "      <td>2017</td>\n",
       "      <td>31365</td>\n",
       "      <td>153</td>\n",
       "      <td>Petrol</td>\n",
       "      <td>1368</td>\n",
       "    </tr>\n",
       "    <tr>\n",
       "      <th>4</th>\n",
       "      <td>2_1</td>\n",
       "      <td>Abarth</td>\n",
       "      <td>124 spider</td>\n",
       "      <td>124 SpiderScorpione 1.4 Turbo MultiAir 170hp 2d</td>\n",
       "      <td>2017</td>\n",
       "      <td>26665</td>\n",
       "      <td>148</td>\n",
       "      <td>Petrol</td>\n",
       "      <td>1368</td>\n",
       "    </tr>\n",
       "  </tbody>\n",
       "</table>\n",
       "</div>"
      ],
      "text/plain": [
       "  Genmodel_ID   Maker    Genmodel  \\\n",
       "0         2_1  Abarth  124 spider   \n",
       "1         2_1  Abarth  124 spider   \n",
       "2         2_1  Abarth  124 spider   \n",
       "3         2_1  Abarth  124 spider   \n",
       "4         2_1  Abarth  124 spider   \n",
       "\n",
       "                                                Trim  Year  Price  \\\n",
       "0              124 Spider1.4 Turbo MultiAir 170hp 2d  2016  29365   \n",
       "1  124 Spider1.4 Turbo MultiAir 170hp Sequenziale...  2016  31365   \n",
       "2              124 Spider1.4 Turbo MultiAir 170hp 2d  2017  29365   \n",
       "3  124 Spider1.4 Turbo MultiAir 170hp Sequenziale...  2017  31365   \n",
       "4    124 SpiderScorpione 1.4 Turbo MultiAir 170hp 2d  2017  26665   \n",
       "\n",
       "   Gas_emission Fuel_type  Engine_size  \n",
       "0           148    Petrol         1368  \n",
       "1           153    Petrol         1368  \n",
       "2           148    Petrol         1368  \n",
       "3           153    Petrol         1368  \n",
       "4           148    Petrol         1368  "
      ]
     },
     "execution_count": 3,
     "metadata": {},
     "output_type": "execute_result"
    }
   ],
   "source": [
    "df.head()"
   ]
  },
  {
   "cell_type": "markdown",
   "id": "7ee24fad-95d9-4a9a-83b0-70f94979dea1",
   "metadata": {},
   "source": [
    "**Check the number of relevant data by fuel types**"
   ]
  },
  {
   "cell_type": "code",
   "execution_count": 4,
   "id": "d8c43754-4482-4da8-895d-a7e059660749",
   "metadata": {},
   "outputs": [
    {
     "data": {
      "text/plain": [
       "Petrol                 179599\n",
       "Diesel                 147860\n",
       "Other                    8085\n",
       "Electric Diesel REX        18\n",
       "Name: Fuel_type, dtype: int64"
      ]
     },
     "execution_count": 4,
     "metadata": {},
     "output_type": "execute_result"
    }
   ],
   "source": [
    "df[\"Fuel_type\"].value_counts()"
   ]
  },
  {
   "cell_type": "markdown",
   "id": "0ca06fb0-72ed-4125-9e91-a30f42969855",
   "metadata": {},
   "source": [
    "**Drop some unused column**"
   ]
  },
  {
   "cell_type": "code",
   "execution_count": 5,
   "id": "1a725974-10e1-4e20-b25c-c718218f6d25",
   "metadata": {},
   "outputs": [
    {
     "data": {
      "text/html": [
       "<div>\n",
       "<style scoped>\n",
       "    .dataframe tbody tr th:only-of-type {\n",
       "        vertical-align: middle;\n",
       "    }\n",
       "\n",
       "    .dataframe tbody tr th {\n",
       "        vertical-align: top;\n",
       "    }\n",
       "\n",
       "    .dataframe thead th {\n",
       "        text-align: right;\n",
       "    }\n",
       "</style>\n",
       "<table border=\"1\" class=\"dataframe\">\n",
       "  <thead>\n",
       "    <tr style=\"text-align: right;\">\n",
       "      <th></th>\n",
       "      <th>Maker</th>\n",
       "      <th>Genmodel</th>\n",
       "      <th>Year</th>\n",
       "      <th>Price</th>\n",
       "      <th>Gas_emission</th>\n",
       "      <th>Fuel_type</th>\n",
       "      <th>Engine_size</th>\n",
       "    </tr>\n",
       "  </thead>\n",
       "  <tbody>\n",
       "    <tr>\n",
       "      <th>0</th>\n",
       "      <td>Abarth</td>\n",
       "      <td>124 spider</td>\n",
       "      <td>2016</td>\n",
       "      <td>29365</td>\n",
       "      <td>148</td>\n",
       "      <td>Petrol</td>\n",
       "      <td>1368</td>\n",
       "    </tr>\n",
       "    <tr>\n",
       "      <th>1</th>\n",
       "      <td>Abarth</td>\n",
       "      <td>124 spider</td>\n",
       "      <td>2016</td>\n",
       "      <td>31365</td>\n",
       "      <td>153</td>\n",
       "      <td>Petrol</td>\n",
       "      <td>1368</td>\n",
       "    </tr>\n",
       "    <tr>\n",
       "      <th>2</th>\n",
       "      <td>Abarth</td>\n",
       "      <td>124 spider</td>\n",
       "      <td>2017</td>\n",
       "      <td>29365</td>\n",
       "      <td>148</td>\n",
       "      <td>Petrol</td>\n",
       "      <td>1368</td>\n",
       "    </tr>\n",
       "    <tr>\n",
       "      <th>3</th>\n",
       "      <td>Abarth</td>\n",
       "      <td>124 spider</td>\n",
       "      <td>2017</td>\n",
       "      <td>31365</td>\n",
       "      <td>153</td>\n",
       "      <td>Petrol</td>\n",
       "      <td>1368</td>\n",
       "    </tr>\n",
       "    <tr>\n",
       "      <th>4</th>\n",
       "      <td>Abarth</td>\n",
       "      <td>124 spider</td>\n",
       "      <td>2017</td>\n",
       "      <td>26665</td>\n",
       "      <td>148</td>\n",
       "      <td>Petrol</td>\n",
       "      <td>1368</td>\n",
       "    </tr>\n",
       "  </tbody>\n",
       "</table>\n",
       "</div>"
      ],
      "text/plain": [
       "    Maker    Genmodel  Year  Price  Gas_emission Fuel_type  Engine_size\n",
       "0  Abarth  124 spider  2016  29365           148    Petrol         1368\n",
       "1  Abarth  124 spider  2016  31365           153    Petrol         1368\n",
       "2  Abarth  124 spider  2017  29365           148    Petrol         1368\n",
       "3  Abarth  124 spider  2017  31365           153    Petrol         1368\n",
       "4  Abarth  124 spider  2017  26665           148    Petrol         1368"
      ]
     },
     "execution_count": 5,
     "metadata": {},
     "output_type": "execute_result"
    }
   ],
   "source": [
    "df = df.drop(['Genmodel_ID','Trim'],axis=1)\n",
    "df.head()"
   ]
  },
  {
   "cell_type": "markdown",
   "id": "379197d4-18ee-4a70-aa59-dff6ec80f48e",
   "metadata": {},
   "source": [
    "# Output Cleaned Data Version"
   ]
  },
  {
   "cell_type": "code",
   "execution_count": 6,
   "id": "f15bb6c3-ab1c-4238-aaaf-d98a06245443",
   "metadata": {},
   "outputs": [],
   "source": [
    "path = '../Processed_Data/Vehicle_Dataset.csv'\n",
    "df.to_csv(path)"
   ]
  }
 ],
 "metadata": {
  "kernelspec": {
   "display_name": "Python 3 (ipykernel)",
   "language": "python",
   "name": "python3"
  },
  "language_info": {
   "codemirror_mode": {
    "name": "ipython",
    "version": 3
   },
   "file_extension": ".py",
   "mimetype": "text/x-python",
   "name": "python",
   "nbconvert_exporter": "python",
   "pygments_lexer": "ipython3",
   "version": "3.9.7"
  }
 },
 "nbformat": 4,
 "nbformat_minor": 5
}
