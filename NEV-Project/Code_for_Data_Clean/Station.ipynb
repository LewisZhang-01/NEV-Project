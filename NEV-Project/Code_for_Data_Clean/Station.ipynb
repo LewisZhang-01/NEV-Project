{
 "cells": [
  {
   "cell_type": "markdown",
   "id": "6b7bc0da-9c8e-4d4b-8f91-358452818d14",
   "metadata": {},
   "source": [
    "# Introduction"
   ]
  },
  {
   "cell_type": "markdown",
   "id": "aef403aa-eb85-4386-99f3-702bad79f409",
   "metadata": {},
   "source": [
    "In this NoteBook we will clean the dataset of NEV stations."
   ]
  },
  {
   "cell_type": "markdown",
   "id": "a1b2bfd0-070e-410c-ac7a-73f0bc8cc3f6",
   "metadata": {},
   "source": [
    "## Set up"
   ]
  },
  {
   "cell_type": "code",
   "execution_count": 46,
   "id": "b542c0d1-e799-4960-9bda-3bfdd4e273f1",
   "metadata": {},
   "outputs": [],
   "source": [
    "import pandas as pd\n",
    "from glob import glob\n",
    "import os\n",
    "import itertools\n",
    "import unittest\n",
    "from loguru import logger\n",
    "from IPython.display import display, clear_output"
   ]
  },
  {
   "cell_type": "markdown",
   "id": "777ae93d-db40-4e82-ab9c-1af5b523d903",
   "metadata": {},
   "source": [
    "## Read the data"
   ]
  },
  {
   "cell_type": "code",
   "execution_count": 47,
   "id": "25d87640-342a-4573-8211-70e7867ed2be",
   "metadata": {},
   "outputs": [
    {
     "data": {
      "text/plain": [
       "15"
      ]
     },
     "execution_count": 47,
     "metadata": {},
     "output_type": "execute_result"
    }
   ],
   "source": [
    "files = glob('../Raw_Data/Station Counts by State and Fuel Type/*.csv')\n",
    "len(files)"
   ]
  },
  {
   "cell_type": "code",
   "execution_count": 60,
   "id": "ff28a8bb-df43-4ebc-9eee-62a800c534c4",
   "metadata": {},
   "outputs": [
    {
     "data": {
      "text/html": [
       "<div>\n",
       "<style scoped>\n",
       "    .dataframe tbody tr th:only-of-type {\n",
       "        vertical-align: middle;\n",
       "    }\n",
       "\n",
       "    .dataframe tbody tr th {\n",
       "        vertical-align: top;\n",
       "    }\n",
       "\n",
       "    .dataframe thead th {\n",
       "        text-align: right;\n",
       "    }\n",
       "</style>\n",
       "<table border=\"1\" class=\"dataframe\">\n",
       "  <thead>\n",
       "    <tr style=\"text-align: right;\">\n",
       "      <th></th>\n",
       "      <th>Biodiesel</th>\n",
       "      <th>CNG</th>\n",
       "      <th>E85</th>\n",
       "      <th>Electric</th>\n",
       "      <th>Hydrogen</th>\n",
       "      <th>LNG</th>\n",
       "      <th>Propane</th>\n",
       "      <th>Total</th>\n",
       "      <th>Year</th>\n",
       "    </tr>\n",
       "    <tr>\n",
       "      <th>State</th>\n",
       "      <th></th>\n",
       "      <th></th>\n",
       "      <th></th>\n",
       "      <th></th>\n",
       "      <th></th>\n",
       "      <th></th>\n",
       "      <th></th>\n",
       "      <th></th>\n",
       "      <th></th>\n",
       "    </tr>\n",
       "  </thead>\n",
       "  <tbody>\n",
       "    <tr>\n",
       "      <th>Alabama</th>\n",
       "      <td>11</td>\n",
       "      <td>3</td>\n",
       "      <td>6</td>\n",
       "      <td>0</td>\n",
       "      <td>0</td>\n",
       "      <td>0</td>\n",
       "      <td>40</td>\n",
       "      <td>60</td>\n",
       "      <td>2008</td>\n",
       "    </tr>\n",
       "    <tr>\n",
       "      <th>Alaska</th>\n",
       "      <td>0</td>\n",
       "      <td>1</td>\n",
       "      <td>0</td>\n",
       "      <td>0</td>\n",
       "      <td>0</td>\n",
       "      <td>0</td>\n",
       "      <td>10</td>\n",
       "      <td>11</td>\n",
       "      <td>2008</td>\n",
       "    </tr>\n",
       "    <tr>\n",
       "      <th>Arizona</th>\n",
       "      <td>10</td>\n",
       "      <td>40</td>\n",
       "      <td>23</td>\n",
       "      <td>5</td>\n",
       "      <td>1</td>\n",
       "      <td>5</td>\n",
       "      <td>51</td>\n",
       "      <td>135</td>\n",
       "      <td>2008</td>\n",
       "    </tr>\n",
       "    <tr>\n",
       "      <th>Arkansas</th>\n",
       "      <td>2</td>\n",
       "      <td>3</td>\n",
       "      <td>7</td>\n",
       "      <td>0</td>\n",
       "      <td>0</td>\n",
       "      <td>0</td>\n",
       "      <td>37</td>\n",
       "      <td>49</td>\n",
       "      <td>2008</td>\n",
       "    </tr>\n",
       "    <tr>\n",
       "      <th>California</th>\n",
       "      <td>36</td>\n",
       "      <td>184</td>\n",
       "      <td>13</td>\n",
       "      <td>376</td>\n",
       "      <td>26</td>\n",
       "      <td>28</td>\n",
       "      <td>199</td>\n",
       "      <td>862</td>\n",
       "      <td>2008</td>\n",
       "    </tr>\n",
       "    <tr>\n",
       "      <th>...</th>\n",
       "      <td>...</td>\n",
       "      <td>...</td>\n",
       "      <td>...</td>\n",
       "      <td>...</td>\n",
       "      <td>...</td>\n",
       "      <td>...</td>\n",
       "      <td>...</td>\n",
       "      <td>...</td>\n",
       "      <td>...</td>\n",
       "    </tr>\n",
       "    <tr>\n",
       "      <th>Virginia</th>\n",
       "      <td>1</td>\n",
       "      <td>3</td>\n",
       "      <td>0</td>\n",
       "      <td>8</td>\n",
       "      <td>1</td>\n",
       "      <td>0</td>\n",
       "      <td>5</td>\n",
       "      <td>18</td>\n",
       "      <td>2011</td>\n",
       "    </tr>\n",
       "    <tr>\n",
       "      <th>Washington</th>\n",
       "      <td>32</td>\n",
       "      <td>15</td>\n",
       "      <td>19</td>\n",
       "      <td>438</td>\n",
       "      <td>0</td>\n",
       "      <td>0</td>\n",
       "      <td>67</td>\n",
       "      <td>571</td>\n",
       "      <td>2011</td>\n",
       "    </tr>\n",
       "    <tr>\n",
       "      <th>West Virginia</th>\n",
       "      <td>2</td>\n",
       "      <td>17</td>\n",
       "      <td>140</td>\n",
       "      <td>60</td>\n",
       "      <td>0</td>\n",
       "      <td>0</td>\n",
       "      <td>48</td>\n",
       "      <td>267</td>\n",
       "      <td>2011</td>\n",
       "    </tr>\n",
       "    <tr>\n",
       "      <th>Wisconsin</th>\n",
       "      <td>0</td>\n",
       "      <td>1</td>\n",
       "      <td>3</td>\n",
       "      <td>6</td>\n",
       "      <td>1</td>\n",
       "      <td>0</td>\n",
       "      <td>9</td>\n",
       "      <td>20</td>\n",
       "      <td>2011</td>\n",
       "    </tr>\n",
       "    <tr>\n",
       "      <th>Wyoming</th>\n",
       "      <td>13</td>\n",
       "      <td>8</td>\n",
       "      <td>5</td>\n",
       "      <td>0</td>\n",
       "      <td>0</td>\n",
       "      <td>0</td>\n",
       "      <td>22</td>\n",
       "      <td>48</td>\n",
       "      <td>2011</td>\n",
       "    </tr>\n",
       "  </tbody>\n",
       "</table>\n",
       "<p>765 rows × 9 columns</p>\n",
       "</div>"
      ],
      "text/plain": [
       "               Biodiesel  CNG  E85 Electric  Hydrogen  LNG  Propane  Total  \\\n",
       "State                                                                        \n",
       "Alabama               11    3    6        0         0    0       40     60   \n",
       "Alaska                 0    1    0        0         0    0       10     11   \n",
       "Arizona               10   40   23        5         1    5       51    135   \n",
       "Arkansas               2    3    7        0         0    0       37     49   \n",
       "California            36  184   13      376        26   28      199    862   \n",
       "...                  ...  ...  ...      ...       ...  ...      ...    ...   \n",
       "Virginia               1    3    0        8         1    0        5     18   \n",
       "Washington            32   15   19      438         0    0       67    571   \n",
       "West Virginia          2   17  140       60         0    0       48    267   \n",
       "Wisconsin              0    1    3        6         1    0        9     20   \n",
       "Wyoming               13    8    5        0         0    0       22     48   \n",
       "\n",
       "               Year  \n",
       "State                \n",
       "Alabama        2008  \n",
       "Alaska         2008  \n",
       "Arizona        2008  \n",
       "Arkansas       2008  \n",
       "California     2008  \n",
       "...             ...  \n",
       "Virginia       2011  \n",
       "Washington     2011  \n",
       "West Virginia  2011  \n",
       "Wisconsin      2011  \n",
       "Wyoming        2011  \n",
       "\n",
       "[765 rows x 9 columns]"
      ]
     },
     "execution_count": 60,
     "metadata": {},
     "output_type": "execute_result"
    }
   ],
   "source": [
    "from pathlib import Path\n",
    "files = Path('../Raw_Data/Station Counts by State and Fuel Type').glob('*.csv') # get all csvs in your dir.\n",
    "\n",
    "df = pd.DataFrame()\n",
    "for file in files:\n",
    "    #name = os.path.basename(file)\n",
    "    data = pd.read_csv(file,index_col = 0,nrows=51,thousands=',')\n",
    "    # Find the file name which is the year of current df, split with dot, year is the first part.\n",
    "    year = os.path.basename(file).split('.')[0]\n",
    "    # Add year as a new column\n",
    "    data.insert(data.shape[1], 'Year', year)\n",
    "    # Change specific column name\n",
    "    if 'Electric(stations / charging outlets)' in data.columns:\n",
    "        data = data.rename(columns = {'Electric(stations / charging outlets)':'Electric'})\n",
    "        # Remove thousand comma mark\n",
    "        data['Electric'] = data['Electric'].str.replace(',', '')\n",
    "        # Keep last number in cell\n",
    "        data['Electric'] = data['Electric'].str.split(\"/\").str[-1]\n",
    "    df = pd.concat([df,data])\n",
    "    #print(df)\n",
    "df"
   ]
  },
  {
   "cell_type": "code",
   "execution_count": null,
   "id": "27f84ffd-116a-480c-962c-04b099e9f696",
   "metadata": {},
   "outputs": [],
   "source": []
  },
  {
   "cell_type": "code",
   "execution_count": null,
   "id": "68632728-5d6b-4d87-9793-6a226b718122",
   "metadata": {},
   "outputs": [],
   "source": []
  },
  {
   "cell_type": "code",
   "execution_count": 61,
   "id": "67670686-cb73-49bd-b545-3e0d1998eefd",
   "metadata": {},
   "outputs": [
    {
     "data": {
      "text/plain": [
       "Electric\n",
       "0       133\n",
       "1        20\n",
       "2        16\n",
       "3        12\n",
       "4        10\n",
       "       ... \n",
       " 986      1\n",
       " 989      1\n",
       " 990      1\n",
       " 993      1\n",
       " 995      1\n",
       "Length: 477, dtype: int64"
      ]
     },
     "execution_count": 61,
     "metadata": {},
     "output_type": "execute_result"
    }
   ],
   "source": [
    "df.groupby('Electric').size()"
   ]
  },
  {
   "cell_type": "code",
   "execution_count": 62,
   "id": "359ba973-6e10-495b-bba0-f56865a710d9",
   "metadata": {},
   "outputs": [
    {
     "data": {
      "text/plain": [
       "State\n",
       "Alabama                 15\n",
       "Alaska                  15\n",
       "Arizona                 15\n",
       "Arkansas                15\n",
       "California              15\n",
       "Colorado                15\n",
       "Connecticut             15\n",
       "Delaware                15\n",
       "District of Columbia    15\n",
       "Florida                 15\n",
       "Georgia                 15\n",
       "Hawaii                  15\n",
       "Idaho                   15\n",
       "Illinois                15\n",
       "Indiana                 15\n",
       "Iowa                    15\n",
       "Kansas                  15\n",
       "Kentucky                15\n",
       "Louisiana               15\n",
       "Maine                   15\n",
       "Maryland                15\n",
       "Massachusetts           15\n",
       "Michigan                15\n",
       "Minnesota               15\n",
       "Mississippi             15\n",
       "Missouri                15\n",
       "Montana                 15\n",
       "Nebraska                15\n",
       "Nevada                  15\n",
       "New Hampshire           15\n",
       "New Jersey              15\n",
       "New Mexico              15\n",
       "New York                15\n",
       "North Carolina          15\n",
       "North Dakota            15\n",
       "Ohio                    15\n",
       "Oklahoma                15\n",
       "Oregon                  15\n",
       "Pennsylvania            15\n",
       "Rhode Island            15\n",
       "South Carolina          15\n",
       "South Dakota            15\n",
       "Tennessee               15\n",
       "Texas                   15\n",
       "Utah                    15\n",
       "Vermont                 15\n",
       "Virginia                15\n",
       "Washington              15\n",
       "West Virginia           15\n",
       "Wisconsin               15\n",
       "Wyoming                 15\n",
       "dtype: int64"
      ]
     },
     "execution_count": 62,
     "metadata": {},
     "output_type": "execute_result"
    }
   ],
   "source": [
    "df.groupby('State').size()"
   ]
  },
  {
   "cell_type": "code",
   "execution_count": 63,
   "id": "259e8b38-b29c-4025-87ea-e184cd0bc357",
   "metadata": {},
   "outputs": [
    {
     "data": {
      "text/plain": [
       "(51, (765, 9))"
      ]
     },
     "execution_count": 63,
     "metadata": {},
     "output_type": "execute_result"
    }
   ],
   "source": [
    "df.groupby('State').size().count(),df.shape"
   ]
  },
  {
   "cell_type": "code",
   "execution_count": 64,
   "id": "4560fc1f-ddf8-4e56-a536-c445521901e3",
   "metadata": {},
   "outputs": [
    {
     "data": {
      "text/plain": [
       "Year\n",
       "2007    51\n",
       "2008    51\n",
       "2009    51\n",
       "2010    51\n",
       "2011    51\n",
       "2012    51\n",
       "2013    51\n",
       "2014    51\n",
       "2015    51\n",
       "2016    51\n",
       "2017    51\n",
       "2018    51\n",
       "2019    51\n",
       "2020    51\n",
       "2021    51\n",
       "dtype: int64"
      ]
     },
     "execution_count": 64,
     "metadata": {},
     "output_type": "execute_result"
    }
   ],
   "source": [
    "df.groupby(['Year']).size()"
   ]
  },
  {
   "cell_type": "code",
   "execution_count": 65,
   "id": "e7260a31-3aec-48e9-ba60-de6b2b4bd953",
   "metadata": {},
   "outputs": [
    {
     "data": {
      "text/plain": [
       "15"
      ]
     },
     "execution_count": 65,
     "metadata": {},
     "output_type": "execute_result"
    }
   ],
   "source": [
    "df.groupby(['Year']).size().count()"
   ]
  },
  {
   "cell_type": "code",
   "execution_count": 66,
   "id": "e7bbb0c9-2c1f-4493-b6ce-d9d736dba340",
   "metadata": {},
   "outputs": [],
   "source": [
    "path = '../Processed_Data/station.csv'\n",
    "df.to_csv(path)"
   ]
  },
  {
   "cell_type": "code",
   "execution_count": null,
   "id": "8fdfdab5-80f9-4897-b5dc-7df971940e9f",
   "metadata": {},
   "outputs": [],
   "source": []
  },
  {
   "cell_type": "code",
   "execution_count": null,
   "id": "cc387c97-c658-4237-9a28-def9e0513748",
   "metadata": {},
   "outputs": [],
   "source": []
  }
 ],
 "metadata": {
  "kernelspec": {
   "display_name": "Python 3 (ipykernel)",
   "language": "python",
   "name": "python3"
  },
  "language_info": {
   "codemirror_mode": {
    "name": "ipython",
    "version": 3
   },
   "file_extension": ".py",
   "mimetype": "text/x-python",
   "name": "python",
   "nbconvert_exporter": "python",
   "pygments_lexer": "ipython3",
   "version": "3.9.7"
  }
 },
 "nbformat": 4,
 "nbformat_minor": 5
}
