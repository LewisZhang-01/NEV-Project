{
 "cells": [
  {
   "cell_type": "markdown",
   "id": "5cfc10b5-d842-42a6-b0cc-c5a37a52d410",
   "metadata": {},
   "source": [
    "# Introduction"
   ]
  },
  {
   "cell_type": "markdown",
   "id": "76662985-3814-4af1-84cd-68ae032517a7",
   "metadata": {},
   "source": [
    "In this notebook we will clean the data of \"laws_and_incentives\""
   ]
  },
  {
   "cell_type": "markdown",
   "id": "6814768e-3906-4a59-9381-d0b737a653dd",
   "metadata": {},
   "source": [
    "# Set up"
   ]
  },
  {
   "cell_type": "code",
   "execution_count": 1,
   "id": "f71a8c2b-18de-43ad-aaaf-ecdc8f1254c3",
   "metadata": {},
   "outputs": [],
   "source": [
    "import pandas as pd\n",
    "import csv\n",
    "from datetime import datetime"
   ]
  },
  {
   "cell_type": "markdown",
   "id": "577cdd52-b84b-4f17-9130-bdda3d7c010c",
   "metadata": {},
   "source": [
    "# Read Data"
   ]
  },
  {
   "cell_type": "code",
   "execution_count": 2,
   "id": "5f6e2d9e-6af9-45cf-b9f8-ba59a72da960",
   "metadata": {},
   "outputs": [
    {
     "data": {
      "text/html": [
       "<div>\n",
       "<style scoped>\n",
       "    .dataframe tbody tr th:only-of-type {\n",
       "        vertical-align: middle;\n",
       "    }\n",
       "\n",
       "    .dataframe tbody tr th {\n",
       "        vertical-align: top;\n",
       "    }\n",
       "\n",
       "    .dataframe thead th {\n",
       "        text-align: right;\n",
       "    }\n",
       "</style>\n",
       "<table border=\"1\" class=\"dataframe\">\n",
       "  <thead>\n",
       "    <tr style=\"text-align: right;\">\n",
       "      <th></th>\n",
       "      <th>Law Id</th>\n",
       "      <th>State</th>\n",
       "      <th>Title</th>\n",
       "      <th>Text</th>\n",
       "      <th>Enacted Date</th>\n",
       "      <th>Amended Date</th>\n",
       "      <th>Recent?</th>\n",
       "      <th>Sequence Number</th>\n",
       "      <th>Type</th>\n",
       "      <th>Agency</th>\n",
       "      <th>Significant Update Date</th>\n",
       "      <th>Expired Date</th>\n",
       "      <th>Archived Date</th>\n",
       "      <th>Repealed Date</th>\n",
       "      <th>Topic</th>\n",
       "      <th>Technology Categories</th>\n",
       "      <th>Incentive Categories</th>\n",
       "      <th>Regulation Categories</th>\n",
       "      <th>User Categories</th>\n",
       "      <th>References</th>\n",
       "    </tr>\n",
       "  </thead>\n",
       "  <tbody>\n",
       "    <tr>\n",
       "      <th>0</th>\n",
       "      <td>284</td>\n",
       "      <td>US</td>\n",
       "      <td>Congestion Mitigation and Air Quality (CMAQ) I...</td>\n",
       "      <td>The CMAQ Program provides funding to state dep...</td>\n",
       "      <td>2005-08-10 00:00:00 UTC</td>\n",
       "      <td>2021-11-15 00:00:00 UTC</td>\n",
       "      <td>False</td>\n",
       "      <td>54.0</td>\n",
       "      <td>Incentives</td>\n",
       "      <td>U.S. Department of Transportation</td>\n",
       "      <td>2021-11-29 21:00:16 UTC</td>\n",
       "      <td>NaN</td>\n",
       "      <td>NaN</td>\n",
       "      <td>NaN</td>\n",
       "      <td>NaN</td>\n",
       "      <td>BIOD|ETH|ELEC|HY|IR|NG|PHEV|LPG</td>\n",
       "      <td>GNT</td>\n",
       "      <td>NaN</td>\n",
       "      <td>STATION|FLEET|GOV</td>\n",
       "      <td>https://www.congress.gov/public-laws/117th-con...</td>\n",
       "    </tr>\n",
       "    <tr>\n",
       "      <th>1</th>\n",
       "      <td>288</td>\n",
       "      <td>US</td>\n",
       "      <td>Clean Cities Coalition Network</td>\n",
       "      <td>The mission of Clean Cities Coalition Network ...</td>\n",
       "      <td>NaN</td>\n",
       "      <td>NaN</td>\n",
       "      <td>False</td>\n",
       "      <td>21.0</td>\n",
       "      <td>Programs</td>\n",
       "      <td>U.S. Department of Energy</td>\n",
       "      <td>NaN</td>\n",
       "      <td>NaN</td>\n",
       "      <td>NaN</td>\n",
       "      <td>NaN</td>\n",
       "      <td>NaN</td>\n",
       "      <td>AFTMKTCONV|BIOD|ETH|ELEC|EFFEC|HEV|HY|IR|NG|NE...</td>\n",
       "      <td>GNT|OTHER</td>\n",
       "      <td>NaN</td>\n",
       "      <td>STATION|AFP|PURCH|MAN|FLEET|GOV|IND</td>\n",
       "      <td>NaN</td>\n",
       "    </tr>\n",
       "    <tr>\n",
       "      <th>2</th>\n",
       "      <td>317</td>\n",
       "      <td>US</td>\n",
       "      <td>State Energy Program (SEP) Funding</td>\n",
       "      <td>The SEP provides grants to states to assist in...</td>\n",
       "      <td>NaN</td>\n",
       "      <td>2021-11-15 00:00:00 UTC</td>\n",
       "      <td>False</td>\n",
       "      <td>26.0</td>\n",
       "      <td>Incentives</td>\n",
       "      <td>U.S. Department of Energy</td>\n",
       "      <td>2021-11-29 21:33:02 UTC</td>\n",
       "      <td>NaN</td>\n",
       "      <td>NaN</td>\n",
       "      <td>NaN</td>\n",
       "      <td>NaN</td>\n",
       "      <td>BIOD|ETH|ELEC|EFFEC|HY|NG|PHEV|LPG</td>\n",
       "      <td>GNT</td>\n",
       "      <td>NaN</td>\n",
       "      <td>OTHER</td>\n",
       "      <td>https://www.congress.gov/public-laws/117th-con...</td>\n",
       "    </tr>\n",
       "    <tr>\n",
       "      <th>3</th>\n",
       "      <td>323</td>\n",
       "      <td>US</td>\n",
       "      <td>Clean School Bus</td>\n",
       "      <td>The U.S. Environmental Protection Agency\\'s (E...</td>\n",
       "      <td>NaN</td>\n",
       "      <td>2021-11-15 00:00:00 UTC</td>\n",
       "      <td>True</td>\n",
       "      <td>33.0</td>\n",
       "      <td>Incentives</td>\n",
       "      <td>U.S. Environmental Protection Agency</td>\n",
       "      <td>2022-03-24 15:26:06 UTC</td>\n",
       "      <td>NaN</td>\n",
       "      <td>NaN</td>\n",
       "      <td>NaN</td>\n",
       "      <td>NaN</td>\n",
       "      <td>AFTMKTCONV|BIOD|ETH|ELEC|EFFEC|HY|IR|NG|PHEV|LPG</td>\n",
       "      <td>GNT</td>\n",
       "      <td>NaN</td>\n",
       "      <td>FLEET|GOV</td>\n",
       "      <td>https://www.congress.gov/public-laws/117th-con...</td>\n",
       "    </tr>\n",
       "    <tr>\n",
       "      <th>4</th>\n",
       "      <td>324</td>\n",
       "      <td>US</td>\n",
       "      <td>Clean Construction and Agriculture</td>\n",
       "      <td>Clean Construction is a voluntary program that...</td>\n",
       "      <td>NaN</td>\n",
       "      <td>NaN</td>\n",
       "      <td>False</td>\n",
       "      <td>34.0</td>\n",
       "      <td>Programs</td>\n",
       "      <td>U.S. Environmental Protection Agency</td>\n",
       "      <td>NaN</td>\n",
       "      <td>NaN</td>\n",
       "      <td>NaN</td>\n",
       "      <td>NaN</td>\n",
       "      <td>NaN</td>\n",
       "      <td>BIOD|ELEC|HEV|HY|NG|PHEV|LPG</td>\n",
       "      <td>GNT</td>\n",
       "      <td>NaN</td>\n",
       "      <td>PURCH|FLEET|OTHER</td>\n",
       "      <td>NaN</td>\n",
       "    </tr>\n",
       "  </tbody>\n",
       "</table>\n",
       "</div>"
      ],
      "text/plain": [
       "   Law Id State                                              Title  \\\n",
       "0     284    US  Congestion Mitigation and Air Quality (CMAQ) I...   \n",
       "1     288    US                     Clean Cities Coalition Network   \n",
       "2     317    US                 State Energy Program (SEP) Funding   \n",
       "3     323    US                                   Clean School Bus   \n",
       "4     324    US                 Clean Construction and Agriculture   \n",
       "\n",
       "                                                Text             Enacted Date  \\\n",
       "0  The CMAQ Program provides funding to state dep...  2005-08-10 00:00:00 UTC   \n",
       "1  The mission of Clean Cities Coalition Network ...                      NaN   \n",
       "2  The SEP provides grants to states to assist in...                      NaN   \n",
       "3  The U.S. Environmental Protection Agency\\'s (E...                      NaN   \n",
       "4  Clean Construction is a voluntary program that...                      NaN   \n",
       "\n",
       "              Amended Date  Recent?  Sequence Number        Type  \\\n",
       "0  2021-11-15 00:00:00 UTC    False             54.0  Incentives   \n",
       "1                      NaN    False             21.0    Programs   \n",
       "2  2021-11-15 00:00:00 UTC    False             26.0  Incentives   \n",
       "3  2021-11-15 00:00:00 UTC     True             33.0  Incentives   \n",
       "4                      NaN    False             34.0    Programs   \n",
       "\n",
       "                                 Agency  Significant Update Date Expired Date  \\\n",
       "0     U.S. Department of Transportation  2021-11-29 21:00:16 UTC          NaN   \n",
       "1             U.S. Department of Energy                      NaN          NaN   \n",
       "2             U.S. Department of Energy  2021-11-29 21:33:02 UTC          NaN   \n",
       "3  U.S. Environmental Protection Agency  2022-03-24 15:26:06 UTC          NaN   \n",
       "4  U.S. Environmental Protection Agency                      NaN          NaN   \n",
       "\n",
       "  Archived Date Repealed Date Topic  \\\n",
       "0           NaN           NaN   NaN   \n",
       "1           NaN           NaN   NaN   \n",
       "2           NaN           NaN   NaN   \n",
       "3           NaN           NaN   NaN   \n",
       "4           NaN           NaN   NaN   \n",
       "\n",
       "                               Technology Categories Incentive Categories  \\\n",
       "0                    BIOD|ETH|ELEC|HY|IR|NG|PHEV|LPG                  GNT   \n",
       "1  AFTMKTCONV|BIOD|ETH|ELEC|EFFEC|HEV|HY|IR|NG|NE...            GNT|OTHER   \n",
       "2                 BIOD|ETH|ELEC|EFFEC|HY|NG|PHEV|LPG                  GNT   \n",
       "3   AFTMKTCONV|BIOD|ETH|ELEC|EFFEC|HY|IR|NG|PHEV|LPG                  GNT   \n",
       "4                       BIOD|ELEC|HEV|HY|NG|PHEV|LPG                  GNT   \n",
       "\n",
       "  Regulation Categories                      User Categories  \\\n",
       "0                   NaN                    STATION|FLEET|GOV   \n",
       "1                   NaN  STATION|AFP|PURCH|MAN|FLEET|GOV|IND   \n",
       "2                   NaN                                OTHER   \n",
       "3                   NaN                            FLEET|GOV   \n",
       "4                   NaN                    PURCH|FLEET|OTHER   \n",
       "\n",
       "                                          References  \n",
       "0  https://www.congress.gov/public-laws/117th-con...  \n",
       "1                                                NaN  \n",
       "2  https://www.congress.gov/public-laws/117th-con...  \n",
       "3  https://www.congress.gov/public-laws/117th-con...  \n",
       "4                                                NaN  "
      ]
     },
     "execution_count": 2,
     "metadata": {},
     "output_type": "execute_result"
    }
   ],
   "source": [
    "#read the file\n",
    "path = '../Raw_Data/laws_and_incentives (Apr 7 2022).csv'\n",
    "df = pd.read_csv(path)\n",
    "df.head()"
   ]
  },
  {
   "cell_type": "markdown",
   "id": "19f9beb2-dc28-4538-a59a-1bc7e4f9bee7",
   "metadata": {},
   "source": [
    "# Cleaning"
   ]
  },
  {
   "cell_type": "markdown",
   "id": "263973ad-5cb7-479d-920a-881a23774052",
   "metadata": {},
   "source": [
    "**Drop some unused column**"
   ]
  },
  {
   "cell_type": "code",
   "execution_count": 3,
   "id": "19293ab6-c1ca-4719-b9a2-8edeb86533a0",
   "metadata": {},
   "outputs": [
    {
     "data": {
      "text/plain": [
       "Index(['Law Id', 'State', 'Title', 'Text', 'Enacted Date', 'Amended Date',\n",
       "       'Recent?', 'Sequence Number', 'Type', 'Agency',\n",
       "       'Significant Update Date', 'Expired Date', 'Archived Date',\n",
       "       'Repealed Date', 'Topic', 'Technology Categories',\n",
       "       'Incentive Categories', 'Regulation Categories', 'User Categories',\n",
       "       'References'],\n",
       "      dtype='object')"
      ]
     },
     "execution_count": 3,
     "metadata": {},
     "output_type": "execute_result"
    }
   ],
   "source": [
    "#show the columns and choose what we need (State,Type)\n",
    "df.columns"
   ]
  },
  {
   "cell_type": "code",
   "execution_count": 4,
   "id": "1a531a81-0a85-4b5e-8d5e-6064c2786c88",
   "metadata": {},
   "outputs": [],
   "source": [
    "#drop the columns\n",
    "df=df.drop(['Law Id',\n",
    " 'Title',\n",
    " 'Text',\n",
    " 'Enacted Date',\n",
    " 'Amended Date',\n",
    " 'Recent?',\n",
    " 'Sequence Number',\n",
    " 'Agency',\n",
    " 'Significant Update Date',\n",
    " 'Expired Date',\n",
    " 'Archived Date',\n",
    " 'Repealed Date',\n",
    " 'Topic',\n",
    " 'Technology Categories',\n",
    " 'Incentive Categories',\n",
    " 'Regulation Categories',\n",
    " 'User Categories',\n",
    " 'References'],axis=1)"
   ]
  },
  {
   "cell_type": "markdown",
   "id": "2059e4d6-14d5-4cc5-9371-bf8d062c1b33",
   "metadata": {},
   "source": [
    "**Only keep statewide policy**"
   ]
  },
  {
   "cell_type": "code",
   "execution_count": 5,
   "id": "163d06e2-d028-481d-bd5a-2f08f864aba4",
   "metadata": {},
   "outputs": [
    {
     "data": {
      "text/html": [
       "<div>\n",
       "<style scoped>\n",
       "    .dataframe tbody tr th:only-of-type {\n",
       "        vertical-align: middle;\n",
       "    }\n",
       "\n",
       "    .dataframe tbody tr th {\n",
       "        vertical-align: top;\n",
       "    }\n",
       "\n",
       "    .dataframe thead th {\n",
       "        text-align: right;\n",
       "    }\n",
       "</style>\n",
       "<table border=\"1\" class=\"dataframe\">\n",
       "  <thead>\n",
       "    <tr style=\"text-align: right;\">\n",
       "      <th></th>\n",
       "      <th>State</th>\n",
       "      <th>Type</th>\n",
       "    </tr>\n",
       "  </thead>\n",
       "  <tbody>\n",
       "    <tr>\n",
       "      <th>18</th>\n",
       "      <td>AZ</td>\n",
       "      <td>State Incentives</td>\n",
       "    </tr>\n",
       "    <tr>\n",
       "      <th>19</th>\n",
       "      <td>AZ</td>\n",
       "      <td>State Incentives</td>\n",
       "    </tr>\n",
       "    <tr>\n",
       "      <th>20</th>\n",
       "      <td>CA</td>\n",
       "      <td>State Incentives</td>\n",
       "    </tr>\n",
       "    <tr>\n",
       "      <th>21</th>\n",
       "      <td>CA</td>\n",
       "      <td>Utility/Private Incentives</td>\n",
       "    </tr>\n",
       "    <tr>\n",
       "      <th>22</th>\n",
       "      <td>CA</td>\n",
       "      <td>Laws and Regulations</td>\n",
       "    </tr>\n",
       "  </tbody>\n",
       "</table>\n",
       "</div>"
      ],
      "text/plain": [
       "   State                        Type\n",
       "18    AZ            State Incentives\n",
       "19    AZ            State Incentives\n",
       "20    CA            State Incentives\n",
       "21    CA  Utility/Private Incentives\n",
       "22    CA        Laws and Regulations"
      ]
     },
     "execution_count": 5,
     "metadata": {},
     "output_type": "execute_result"
    }
   ],
   "source": [
    "df_state_policy = df[df['State']!='US']\n",
    "df_state_policy.head()"
   ]
  },
  {
   "cell_type": "markdown",
   "id": "0ae55e11-777b-4fff-a756-02b4bb7bf90c",
   "metadata": {},
   "source": [
    "**Convert state abbreviation to full name**"
   ]
  },
  {
   "cell_type": "code",
   "execution_count": 6,
   "id": "eae3f1b8-79c6-4de6-a890-fd0d07c7c6dc",
   "metadata": {},
   "outputs": [],
   "source": [
    "States = {\n",
    "        'AK': 'Alaska',\n",
    "        'AL': 'Alabama',\n",
    "        'AR': 'Arkansas',\n",
    "        'AS': 'American Samoa',\n",
    "        'AZ': 'Arizona',\n",
    "        'CA': 'California',\n",
    "        'CO': 'Colorado',\n",
    "        'CT': 'Connecticut',\n",
    "        'DC': 'District of Columbia',\n",
    "        'DE': 'Delaware',\n",
    "        'FL': 'Florida',\n",
    "        'GA': 'Georgia',\n",
    "        'GU': 'Guam',\n",
    "        'HI': 'Hawaii',\n",
    "        'IA': 'Iowa',\n",
    "        'ID': 'Idaho',\n",
    "        'IL': 'Illinois',\n",
    "        'IN': 'Indiana',\n",
    "        'KS': 'Kansas',\n",
    "        'KY': 'Kentucky',\n",
    "        'LA': 'Louisiana',\n",
    "        'MA': 'Massachusetts',\n",
    "        'MD': 'Maryland',\n",
    "        'ME': 'Maine',\n",
    "        'MI': 'Michigan',\n",
    "        'MN': 'Minnesota',\n",
    "        'MO': 'Missouri',\n",
    "        'MP': 'Northern Mariana Islands',\n",
    "        'MS': 'Mississippi',\n",
    "        'MT': 'Montana',\n",
    "        'NA': 'National',\n",
    "        'NC': 'North Carolina',\n",
    "        'ND': 'North Dakota',\n",
    "        'NE': 'Nebraska',\n",
    "        'NH': 'New Hampshire',\n",
    "        'NJ': 'New Jersey',\n",
    "        'NM': 'New Mexico',\n",
    "        'NV': 'Nevada',\n",
    "        'NY': 'New York',\n",
    "        'OH': 'Ohio',\n",
    "        'OK': 'Oklahoma',\n",
    "        'OR': 'Oregon',\n",
    "        'PA': 'Pennsylvania',\n",
    "        'PR': 'Puerto Rico',\n",
    "        'RI': 'Rhode Island',\n",
    "        'SC': 'South Carolina',\n",
    "        'SD': 'South Dakota',\n",
    "        'TN': 'Tennessee',\n",
    "        'TX': 'Texas',\n",
    "        'UT': 'Utah',\n",
    "        'VA': 'Virginia',\n",
    "        'VI': 'Virgin Islands',\n",
    "        'VT': 'Vermont',\n",
    "        'WA': 'Washington',\n",
    "        'WI': 'Wisconsin',\n",
    "        'WV': 'West Virginia',\n",
    "        'WY': 'Wyoming'\n",
    "}"
   ]
  },
  {
   "cell_type": "code",
   "execution_count": 7,
   "id": "a6f01605-5efe-41e9-ad98-0e2bacf020cc",
   "metadata": {},
   "outputs": [
    {
     "data": {
      "text/html": [
       "<div>\n",
       "<style scoped>\n",
       "    .dataframe tbody tr th:only-of-type {\n",
       "        vertical-align: middle;\n",
       "    }\n",
       "\n",
       "    .dataframe tbody tr th {\n",
       "        vertical-align: top;\n",
       "    }\n",
       "\n",
       "    .dataframe thead th {\n",
       "        text-align: right;\n",
       "    }\n",
       "</style>\n",
       "<table border=\"1\" class=\"dataframe\">\n",
       "  <thead>\n",
       "    <tr style=\"text-align: right;\">\n",
       "      <th></th>\n",
       "      <th>State</th>\n",
       "      <th>Type</th>\n",
       "    </tr>\n",
       "  </thead>\n",
       "  <tbody>\n",
       "    <tr>\n",
       "      <th>18</th>\n",
       "      <td>Arizona</td>\n",
       "      <td>State Incentives</td>\n",
       "    </tr>\n",
       "    <tr>\n",
       "      <th>19</th>\n",
       "      <td>Arizona</td>\n",
       "      <td>State Incentives</td>\n",
       "    </tr>\n",
       "    <tr>\n",
       "      <th>20</th>\n",
       "      <td>California</td>\n",
       "      <td>State Incentives</td>\n",
       "    </tr>\n",
       "    <tr>\n",
       "      <th>21</th>\n",
       "      <td>California</td>\n",
       "      <td>Utility/Private Incentives</td>\n",
       "    </tr>\n",
       "    <tr>\n",
       "      <th>22</th>\n",
       "      <td>California</td>\n",
       "      <td>Laws and Regulations</td>\n",
       "    </tr>\n",
       "  </tbody>\n",
       "</table>\n",
       "</div>"
      ],
      "text/plain": [
       "         State                        Type\n",
       "18     Arizona            State Incentives\n",
       "19     Arizona            State Incentives\n",
       "20  California            State Incentives\n",
       "21  California  Utility/Private Incentives\n",
       "22  California        Laws and Regulations"
      ]
     },
     "execution_count": 7,
     "metadata": {},
     "output_type": "execute_result"
    }
   ],
   "source": [
    "df_state_policy = df_state_policy.replace({'State':States})\n",
    "df_state_policy.head()"
   ]
  },
  {
   "cell_type": "markdown",
   "id": "922c1020-b195-432e-bfcd-8586c60b6907",
   "metadata": {},
   "source": [
    "**Number of unique type for this data**"
   ]
  },
  {
   "cell_type": "code",
   "execution_count": 8,
   "id": "94002e0e-6474-4dd1-88c5-abfd386f636f",
   "metadata": {},
   "outputs": [
    {
     "data": {
      "text/plain": [
       "array(['State Incentives', 'Utility/Private Incentives',\n",
       "       'Laws and Regulations'], dtype=object)"
      ]
     },
     "execution_count": 8,
     "metadata": {},
     "output_type": "execute_result"
    }
   ],
   "source": [
    "df_state_policy['Type'].unique()"
   ]
  },
  {
   "cell_type": "markdown",
   "id": "15502b6b-8227-4d00-92f2-bd1744b663be",
   "metadata": {},
   "source": [
    "**Count total number for each state**"
   ]
  },
  {
   "cell_type": "code",
   "execution_count": 9,
   "id": "d9491549-160a-4b3f-86e4-d72986755c69",
   "metadata": {},
   "outputs": [
    {
     "data": {
      "text/html": [
       "<div>\n",
       "<style scoped>\n",
       "    .dataframe tbody tr th:only-of-type {\n",
       "        vertical-align: middle;\n",
       "    }\n",
       "\n",
       "    .dataframe tbody tr th {\n",
       "        vertical-align: top;\n",
       "    }\n",
       "\n",
       "    .dataframe thead th {\n",
       "        text-align: right;\n",
       "    }\n",
       "</style>\n",
       "<table border=\"1\" class=\"dataframe\">\n",
       "  <thead>\n",
       "    <tr style=\"text-align: right;\">\n",
       "      <th></th>\n",
       "      <th>Total</th>\n",
       "    </tr>\n",
       "    <tr>\n",
       "      <th>State</th>\n",
       "      <th></th>\n",
       "    </tr>\n",
       "  </thead>\n",
       "  <tbody>\n",
       "    <tr>\n",
       "      <th>Alabama</th>\n",
       "      <td>8</td>\n",
       "    </tr>\n",
       "    <tr>\n",
       "      <th>Alaska</th>\n",
       "      <td>6</td>\n",
       "    </tr>\n",
       "    <tr>\n",
       "      <th>Arizona</th>\n",
       "      <td>24</td>\n",
       "    </tr>\n",
       "    <tr>\n",
       "      <th>Arkansas</th>\n",
       "      <td>6</td>\n",
       "    </tr>\n",
       "    <tr>\n",
       "      <th>California</th>\n",
       "      <td>133</td>\n",
       "    </tr>\n",
       "  </tbody>\n",
       "</table>\n",
       "</div>"
      ],
      "text/plain": [
       "            Total\n",
       "State            \n",
       "Alabama         8\n",
       "Alaska          6\n",
       "Arizona        24\n",
       "Arkansas        6\n",
       "California    133"
      ]
     },
     "execution_count": 9,
     "metadata": {},
     "output_type": "execute_result"
    }
   ],
   "source": [
    "df_total = df_state_policy.groupby('State').count().rename(columns={'Type':'Total'})\n",
    "df_total.head()"
   ]
  },
  {
   "cell_type": "markdown",
   "id": "ac9c6158-f3c7-4d9b-9f4d-0a496f5c96d3",
   "metadata": {},
   "source": [
    "# Output Cleaned Data Version"
   ]
  },
  {
   "cell_type": "code",
   "execution_count": 10,
   "id": "2281a53b-a4bb-4114-abe6-f5d1eb573700",
   "metadata": {},
   "outputs": [],
   "source": [
    "path = '../Processed_Data/policy_state.csv'\n",
    "df_total.to_csv(path)"
   ]
  }
 ],
 "metadata": {
  "kernelspec": {
   "display_name": "Python 3 (ipykernel)",
   "language": "python",
   "name": "python3"
  },
  "language_info": {
   "codemirror_mode": {
    "name": "ipython",
    "version": 3
   },
   "file_extension": ".py",
   "mimetype": "text/x-python",
   "name": "python",
   "nbconvert_exporter": "python",
   "pygments_lexer": "ipython3",
   "version": "3.9.7"
  }
 },
 "nbformat": 4,
 "nbformat_minor": 5
}
