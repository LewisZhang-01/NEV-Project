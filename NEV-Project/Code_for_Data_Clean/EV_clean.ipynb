{
 "cells": [
  {
   "cell_type": "markdown",
   "id": "2d7f9599-8129-48af-ab2a-861550a27e08",
   "metadata": {},
   "source": [
    "# Introduction"
   ]
  },
  {
   "cell_type": "markdown",
   "id": "8e59faf8-0fdf-4267-ac6e-a3f665b282cd",
   "metadata": {},
   "source": [
    "In this NoteBook, we will clean the dataset of EV sales in different states from 2016-2019."
   ]
  },
  {
   "cell_type": "markdown",
   "id": "f64de29e-c6d5-4eb5-b753-50447f2c1b97",
   "metadata": {},
   "source": [
    "# Set up"
   ]
  },
  {
   "cell_type": "code",
   "execution_count": 13,
   "id": "b30342d1-ca32-4a59-9204-7ee0ce35b934",
   "metadata": {},
   "outputs": [],
   "source": [
    "import pandas as pd"
   ]
  },
  {
   "cell_type": "markdown",
   "id": "2857eb31-590a-4d98-8c4a-c46ade70b047",
   "metadata": {},
   "source": [
    "### Read the data"
   ]
  },
  {
   "cell_type": "code",
   "execution_count": 14,
   "id": "0e99c327-9dac-4fa0-86d2-0b5d5bea4a68",
   "metadata": {},
   "outputs": [],
   "source": [
    "#read the data file, skip the third row and rows contain 'mean' and 'median' \n",
    "data = pd.read_csv('../Raw_Data/EV_sales_by_state_2016-2019.csv', skiprows=[0,2,54,55,56], delimiter = ',')"
   ]
  },
  {
   "cell_type": "code",
   "execution_count": 15,
   "id": "09357e3f-7654-4d53-8425-032dab49a8e9",
   "metadata": {},
   "outputs": [
    {
     "data": {
      "text/html": [
       "<div>\n",
       "<style scoped>\n",
       "    .dataframe tbody tr th:only-of-type {\n",
       "        vertical-align: middle;\n",
       "    }\n",
       "\n",
       "    .dataframe tbody tr th {\n",
       "        vertical-align: top;\n",
       "    }\n",
       "\n",
       "    .dataframe thead th {\n",
       "        text-align: right;\n",
       "    }\n",
       "</style>\n",
       "<table border=\"1\" class=\"dataframe\">\n",
       "  <thead>\n",
       "    <tr style=\"text-align: right;\">\n",
       "      <th></th>\n",
       "      <th>Unnamed: 0</th>\n",
       "      <th>2016</th>\n",
       "      <th>2017</th>\n",
       "      <th>2018</th>\n",
       "      <th>2019</th>\n",
       "    </tr>\n",
       "  </thead>\n",
       "  <tbody>\n",
       "    <tr>\n",
       "      <th>0</th>\n",
       "      <td>California</td>\n",
       "      <td>73,854</td>\n",
       "      <td>94,873</td>\n",
       "      <td>153,442</td>\n",
       "      <td>145,020</td>\n",
       "    </tr>\n",
       "    <tr>\n",
       "      <th>1</th>\n",
       "      <td>New York</td>\n",
       "      <td>6,043</td>\n",
       "      <td>10,090</td>\n",
       "      <td>15,752</td>\n",
       "      <td>14,823</td>\n",
       "    </tr>\n",
       "    <tr>\n",
       "      <th>2</th>\n",
       "      <td>Washington</td>\n",
       "      <td>5,363</td>\n",
       "      <td>7,068</td>\n",
       "      <td>12,650</td>\n",
       "      <td>12,172</td>\n",
       "    </tr>\n",
       "    <tr>\n",
       "      <th>3</th>\n",
       "      <td>Florida</td>\n",
       "      <td>6,255</td>\n",
       "      <td>6,573</td>\n",
       "      <td>13,705</td>\n",
       "      <td>15,794</td>\n",
       "    </tr>\n",
       "    <tr>\n",
       "      <th>4</th>\n",
       "      <td>Texas</td>\n",
       "      <td>4,510</td>\n",
       "      <td>5,419</td>\n",
       "      <td>11,764</td>\n",
       "      <td>5,780</td>\n",
       "    </tr>\n",
       "  </tbody>\n",
       "</table>\n",
       "</div>"
      ],
      "text/plain": [
       "   Unnamed: 0    2016    2017     2018     2019\n",
       "0  California  73,854  94,873  153,442  145,020\n",
       "1    New York   6,043  10,090   15,752   14,823\n",
       "2  Washington   5,363   7,068   12,650   12,172\n",
       "3     Florida   6,255   6,573   13,705   15,794\n",
       "4       Texas   4,510   5,419   11,764    5,780"
      ]
     },
     "execution_count": 15,
     "metadata": {},
     "output_type": "execute_result"
    }
   ],
   "source": [
    "data.head()"
   ]
  },
  {
   "cell_type": "code",
   "execution_count": 16,
   "id": "573801e0-1b7e-4131-bdbd-0e9d9f605c4a",
   "metadata": {},
   "outputs": [
    {
     "data": {
      "text/plain": [
       "str"
      ]
     },
     "execution_count": 16,
     "metadata": {},
     "output_type": "execute_result"
    }
   ],
   "source": [
    "type(data.iloc[0,1])"
   ]
  },
  {
   "cell_type": "markdown",
   "id": "cdd4f253-b0c0-435b-b50a-51eaf21faa3b",
   "metadata": {},
   "source": [
    "#### We find that, the type of data are string, we need int type."
   ]
  },
  {
   "cell_type": "code",
   "execution_count": 17,
   "id": "5435d379-f5e6-43e5-99b1-f4e29a21ce27",
   "metadata": {},
   "outputs": [],
   "source": [
    "data[\"2016\"] = pd.to_numeric(data[\"2016\"].str.replace(',', ''))\n",
    "data[\"2017\"] = pd.to_numeric(data[\"2017\"].str.replace(',', ''))\n",
    "data[\"2018\"] = pd.to_numeric(data[\"2018\"].str.replace(',', ''))\n",
    "data[\"2019\"] = pd.to_numeric(data[\"2019\"].str.replace(',', ''))"
   ]
  },
  {
   "cell_type": "code",
   "execution_count": 18,
   "id": "ef5da0ff-f05f-4789-ac3a-7bddf4eff441",
   "metadata": {},
   "outputs": [
    {
     "data": {
      "text/html": [
       "<div>\n",
       "<style scoped>\n",
       "    .dataframe tbody tr th:only-of-type {\n",
       "        vertical-align: middle;\n",
       "    }\n",
       "\n",
       "    .dataframe tbody tr th {\n",
       "        vertical-align: top;\n",
       "    }\n",
       "\n",
       "    .dataframe thead th {\n",
       "        text-align: right;\n",
       "    }\n",
       "</style>\n",
       "<table border=\"1\" class=\"dataframe\">\n",
       "  <thead>\n",
       "    <tr style=\"text-align: right;\">\n",
       "      <th></th>\n",
       "      <th>Unnamed: 0</th>\n",
       "      <th>2016</th>\n",
       "      <th>2017</th>\n",
       "      <th>2018</th>\n",
       "      <th>2019</th>\n",
       "    </tr>\n",
       "  </thead>\n",
       "  <tbody>\n",
       "    <tr>\n",
       "      <th>0</th>\n",
       "      <td>California</td>\n",
       "      <td>73854</td>\n",
       "      <td>94873</td>\n",
       "      <td>153442</td>\n",
       "      <td>145020</td>\n",
       "    </tr>\n",
       "    <tr>\n",
       "      <th>1</th>\n",
       "      <td>New York</td>\n",
       "      <td>6043</td>\n",
       "      <td>10090</td>\n",
       "      <td>15752</td>\n",
       "      <td>14823</td>\n",
       "    </tr>\n",
       "    <tr>\n",
       "      <th>2</th>\n",
       "      <td>Washington</td>\n",
       "      <td>5363</td>\n",
       "      <td>7068</td>\n",
       "      <td>12650</td>\n",
       "      <td>12172</td>\n",
       "    </tr>\n",
       "    <tr>\n",
       "      <th>3</th>\n",
       "      <td>Florida</td>\n",
       "      <td>6255</td>\n",
       "      <td>6573</td>\n",
       "      <td>13705</td>\n",
       "      <td>15794</td>\n",
       "    </tr>\n",
       "    <tr>\n",
       "      <th>4</th>\n",
       "      <td>Texas</td>\n",
       "      <td>4510</td>\n",
       "      <td>5419</td>\n",
       "      <td>11764</td>\n",
       "      <td>5780</td>\n",
       "    </tr>\n",
       "  </tbody>\n",
       "</table>\n",
       "</div>"
      ],
      "text/plain": [
       "   Unnamed: 0   2016   2017    2018    2019\n",
       "0  California  73854  94873  153442  145020\n",
       "1    New York   6043  10090   15752   14823\n",
       "2  Washington   5363   7068   12650   12172\n",
       "3     Florida   6255   6573   13705   15794\n",
       "4       Texas   4510   5419   11764    5780"
      ]
     },
     "execution_count": 18,
     "metadata": {},
     "output_type": "execute_result"
    }
   ],
   "source": [
    "data.head()"
   ]
  },
  {
   "cell_type": "code",
   "execution_count": 19,
   "id": "d37be950-571b-46d0-a33d-c6e69891fb94",
   "metadata": {},
   "outputs": [
    {
     "data": {
      "text/html": [
       "<div>\n",
       "<style scoped>\n",
       "    .dataframe tbody tr th:only-of-type {\n",
       "        vertical-align: middle;\n",
       "    }\n",
       "\n",
       "    .dataframe tbody tr th {\n",
       "        vertical-align: top;\n",
       "    }\n",
       "\n",
       "    .dataframe thead th {\n",
       "        text-align: right;\n",
       "    }\n",
       "</style>\n",
       "<table border=\"1\" class=\"dataframe\">\n",
       "  <thead>\n",
       "    <tr style=\"text-align: right;\">\n",
       "      <th></th>\n",
       "      <th>State</th>\n",
       "      <th>2016</th>\n",
       "      <th>2017</th>\n",
       "      <th>2018</th>\n",
       "      <th>2019</th>\n",
       "    </tr>\n",
       "  </thead>\n",
       "  <tbody>\n",
       "    <tr>\n",
       "      <th>0</th>\n",
       "      <td>California</td>\n",
       "      <td>73854</td>\n",
       "      <td>94873</td>\n",
       "      <td>153442</td>\n",
       "      <td>145020</td>\n",
       "    </tr>\n",
       "    <tr>\n",
       "      <th>1</th>\n",
       "      <td>New York</td>\n",
       "      <td>6043</td>\n",
       "      <td>10090</td>\n",
       "      <td>15752</td>\n",
       "      <td>14823</td>\n",
       "    </tr>\n",
       "    <tr>\n",
       "      <th>2</th>\n",
       "      <td>Washington</td>\n",
       "      <td>5363</td>\n",
       "      <td>7068</td>\n",
       "      <td>12650</td>\n",
       "      <td>12172</td>\n",
       "    </tr>\n",
       "    <tr>\n",
       "      <th>3</th>\n",
       "      <td>Florida</td>\n",
       "      <td>6255</td>\n",
       "      <td>6573</td>\n",
       "      <td>13705</td>\n",
       "      <td>15794</td>\n",
       "    </tr>\n",
       "    <tr>\n",
       "      <th>4</th>\n",
       "      <td>Texas</td>\n",
       "      <td>4510</td>\n",
       "      <td>5419</td>\n",
       "      <td>11764</td>\n",
       "      <td>5780</td>\n",
       "    </tr>\n",
       "  </tbody>\n",
       "</table>\n",
       "</div>"
      ],
      "text/plain": [
       "        State   2016   2017    2018    2019\n",
       "0  California  73854  94873  153442  145020\n",
       "1    New York   6043  10090   15752   14823\n",
       "2  Washington   5363   7068   12650   12172\n",
       "3     Florida   6255   6573   13705   15794\n",
       "4       Texas   4510   5419   11764    5780"
      ]
     },
     "execution_count": 19,
     "metadata": {},
     "output_type": "execute_result"
    }
   ],
   "source": [
    "data = data.rename(columns={'Unnamed: 0':'State'})\n",
    "data.head()"
   ]
  },
  {
   "cell_type": "code",
   "execution_count": 20,
   "id": "5a373791-2539-4de0-a177-0be29d7f5e3e",
   "metadata": {},
   "outputs": [],
   "source": [
    "# Now we have cleanned data, save it into processed file\n",
    "path = '../Processed_Data/Ev_sales.csv'\n",
    "data.to_csv(path)"
   ]
  },
  {
   "cell_type": "code",
   "execution_count": null,
   "id": "1b2805b9-f849-4249-8580-a455362ff882",
   "metadata": {},
   "outputs": [],
   "source": []
  }
 ],
 "metadata": {
  "kernelspec": {
   "display_name": "Python 3 (ipykernel)",
   "language": "python",
   "name": "python3"
  },
  "language_info": {
   "codemirror_mode": {
    "name": "ipython",
    "version": 3
   },
   "file_extension": ".py",
   "mimetype": "text/x-python",
   "name": "python",
   "nbconvert_exporter": "python",
   "pygments_lexer": "ipython3",
   "version": "3.9.7"
  }
 },
 "nbformat": 4,
 "nbformat_minor": 5
}
