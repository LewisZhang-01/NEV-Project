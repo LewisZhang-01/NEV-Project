{
 "cells": [
  {
   "cell_type": "markdown",
   "id": "ac979d09-7a5d-4d31-a4cb-fff21c1cf21e",
   "metadata": {},
   "source": [
    "# Accessing the NHTSA API (crawler)\n",
    "## Recall Data "
   ]
  },
  {
   "cell_type": "code",
   "execution_count": 2,
   "id": "c8d62758-e509-46f0-83b9-d5ba4728174f",
   "metadata": {},
   "outputs": [],
   "source": [
    "import requests\n",
    "from pathlib import Path\n",
    "import json\n",
    "import pandas as pd\n",
    "import urllib.request\n",
    "import urllib.error\n",
    "import time\n",
    "from loguru import logger\n",
    "import pygame\n",
    "from IPython.display import display, clear_output"
   ]
  },
  {
   "cell_type": "code",
   "execution_count": 12,
   "id": "629ce44e-f939-4a02-b0ac-b18f43f67430",
   "metadata": {},
   "outputs": [],
   "source": [
    "# Set API prefix because our api headers are same.\n",
    "api_prefix = \"https://api.nhtsa.gov\"\n",
    "\n",
    "# Set API suffix for get year.\n",
    "api_get_year = \"/products/vehicle/modelYears?issueType=r\"\n",
    "\n",
    "# Set output path.\n",
    "dir_raw = Path(\"../raw/Recalls\")\n",
    "dir_raw.mkdir(parents=True, exist_ok=True)\n",
    "out_dir = Path(\"../raw/Recalls_buffer\")\n",
    "out_dir.mkdir(parents=True, exist_ok=True)"
   ]
  },
  {
   "cell_type": "code",
<<<<<<< HEAD
   "execution_count": 10,
=======
   "execution_count": 33,
>>>>>>> processed-data
   "id": "9922a53f-10e4-406f-96f4-4065c78bb63e",
   "metadata": {},
   "outputs": [],
   "source": [
    "def fetch_recalls(url):\n",
    "    logger.info(\"Fetching %s\" % url)\n",
    "    try:\n",
    "        headers = {\n",
    "          'User-Agent':\"Mozilla/5.0 (Macintosh; Intel Mac OS X 10.6; rv:2.0.1) Gecko/20100101 Firefox/4.0.1\"\n",
    "        }\n",
    "        response = requests.get(url,headers=headers)\n",
    "        status = response.status_code\n",
    "        logger.info(status)\n",
    "\n",
    "        # Stop if the API cannot be accessed properly.\n",
    "        if status != 200:\n",
    "            return [-1,None]\n",
    "        \n",
    "        # Otherwise return retrieved data.\n",
    "        raw_data = response.text\n",
    "        return [1,json.loads(raw_data)]\n",
    "    except urllib.error.URLError as e:\n",
    "        e.reason \n",
    "\n",
    "# Output each recall for a json file.\n",
    "def write_out_raw(recalls_count,year,make,model,data):\n",
    "    # Check if '/' is already in make or model, replaced by '_or_'.\n",
    "    if '/' in make:\n",
    "        make = make.replace(\"/\", \"_or_\")\n",
    "    if '/' in model:\n",
    "        model = model.replace(\"/\", \"_or_\")\n",
    "    # File name format [complaint_num]year_make_model.json\n",
    "    #             e.g. [802]1994_MERCEDES BENZ_E.json\n",
<<<<<<< HEAD
    "    fname = \"[%d]%s_%s_%s.json\" % (complaints_count,year,make,model)\n",
=======
    "    fname = \"[%d]%s_%s_%s.json\" % (recalls_count,year,make,model)\n",
>>>>>>> processed-data
    "    out_path = dir_raw / fname\n",
    "    logger.info(\"Writing data to %s\" % out_path)\n",
    "    fout = open(out_path, \"w\")\n",
    "    json.dump(data, fout, indent=4, sort_keys=True)\n",
    "    fout.close()\n",
    "    \n",
    "# Check API status.\n",
    "def check_status(data):\n",
    "    #number of recall in this time.\n",
    "    recall_num = data[\"count\"]\n",
    "    # Are results returned successfully?\n",
    "    if data[\"message\"] != \"Results returned successfully\":\n",
    "        logger.warning(\"Fail to get from API, %s\" % (data[\"status_message\"]))\n",
    "        return [False,-1]\n",
    "    elif recall_num <= 0:\n",
    "        logger.warning(\"No info from current API address.\")\n",
    "        return [False,0]\n",
    "    else:\n",
    "        return [True,recall_num]\n",
    "\n",
    "# Output for \"years\", \"makes\", \"models\" which are dictionaries we get from first 3 steps.  \n",
    "def write_out(name,data):\n",
    "    fname = \"%s.json\" % (name)\n",
    "    out_path = out_dir / fname\n",
    "    logger.info(\"Writing data to %s\" % out_path)\n",
    "    fout = open(out_path, \"w\")\n",
    "    json.dump(data, fout, indent=4, sort_keys=True)\n",
    "    fout.close()"
   ]
  },
  {
   "cell_type": "markdown",
   "id": "209d6d29-6440-42aa-b658-899c5a30868c",
   "metadata": {
    "tags": []
   },
   "source": [
    "## Step-1: Get all Model Years "
   ]
  },
  {
   "cell_type": "code",
   "execution_count": 11,
   "id": "4dae3265-791b-438d-8bf4-df8f3ba88818",
   "metadata": {
    "tags": []
   },
   "outputs": [
    {
     "name": "stderr",
     "output_type": "stream",
     "text": [
      "2022-04-06 23:53:20.869 | INFO     | __main__:fetch_recalls:2 - Fetching https://api.nhtsa.gov/products/vehicle/modelYears?issueType=r\n",
      "2022-04-06 23:53:21.227 | INFO     | __main__:fetch_recalls:9 - 200\n",
      "2022-04-06 23:53:21.227 | INFO     | __main__:<module>:7 - Completed the task of getting all model years!\n",
      "2022-04-06 23:53:21.228 | INFO     | __main__:write_out:55 - Writing data to ../raw/Recalls_buffer/years.json\n"
     ]
    }
   ],
   "source": [
    "# Construct API url.\n",
    "api = api_prefix + api_get_year\n",
    "# Fetch data.\n",
    "status,data = fetch_recalls(api)\n",
    "# Convert result data into list format.\n",
    "years = (list(each[\"modelYear\"] for each in data[\"results\"]))\n",
    "logger.info(\"Completed the task of getting all model years!\")\n",
    "# Store years data.\n",
    "write_out(\"years\",years)"
   ]
  },
  {
   "cell_type": "markdown",
   "id": "7e95c2fc-a119-4d16-ae71-da60517693fb",
   "metadata": {},
   "source": [
    "## Step-2: Get all Makes for the Model Year"
   ]
  },
  {
   "cell_type": "code",
   "execution_count": 13,
   "id": "9fe9de5d-82b7-4e77-abe5-340aa781390b",
   "metadata": {},
   "outputs": [
    {
     "name": "stderr",
     "output_type": "stream",
     "text": [
      "2022-04-06 23:55:07.139 | INFO     | __main__:fetch_recalls:2 - Fetching https://api.nhtsa.gov/products/vehicle/makes?modelYear=9999&issueType=r\n",
      "2022-04-06 23:55:08.055 | INFO     | __main__:fetch_recalls:9 - 200\n",
      "2022-04-06 23:55:08.056 | INFO     | __main__:<module>:10 - Completed the task of getting all makes for the model year!\n",
      "2022-04-06 23:55:08.057 | INFO     | __main__:write_out:55 - Writing data to ../raw/Recalls_buffer/recall_makes.json\n"
     ]
    }
   ],
   "source": [
    "makes={}\n",
    "for year in years:\n",
    "    clear_output()\n",
    "    # Construct API url.\n",
    "    api = api_prefix + \"/products/vehicle/makes?modelYear=%d&issueType=r\" % (int(year))\n",
    "    # Fetch data.\n",
    "    status,data = fetch_recalls(api)\n",
    "    # Convert result data into list format then store in a dict by year.\n",
    "    makes[year] = (list(each[\"make\"] for each in data[\"results\"]))\n",
    "logger.info(\"Completed the task of getting all makes for the model year!\")\n",
    "# Store makes data.\n",
    "write_out(\"recall_makes\",makes)"
   ]
  },
  {
   "cell_type": "markdown",
   "id": "59e5fcb7-c5d5-4e6a-82b7-20cc1c4a6b4e",
   "metadata": {},
   "source": [
    "## Step-3: Get all Models for the Make and Model Year \n",
    "Due to the website's restrictions on crawlers, we have to change IP frequently to bypass its restrictions. The following function will automatically stop when it received an access error (Typically a 403 error) and return the data we got so far. And it will give us a hint for next start."
   ]
  },
  {
   "cell_type": "code",
<<<<<<< HEAD
   "execution_count": 53,
=======
   "execution_count": 14,
>>>>>>> processed-data
   "id": "d5ceaec4-0136-4d74-8974-ca8776f19c7a",
   "metadata": {},
   "outputs": [],
   "source": [
    "def Get_model(years,skip):\n",
    "    models={}\n",
    "    start_year = years[0]\n",
    "    for year in years:\n",
    "        for make in makes[year]:\n",
    "            # If meet some special case we need skip it.\n",
    "            if make != skip:\n",
    "                clear_output()\n",
    "                api = api_prefix + \"/products/vehicle/models?modelYear=%d&make=%s&issueType=r\" % (int(year),make)\n",
    "                status,data = fetch_recalls(api)\n",
    "            # Status equal -1 means we are failing to use this API at this moment.\n",
    "            if status == -1:\n",
    "                logger.warning(\"Start year:%s, Current Year:%s(index:%d) Current Make:%s(index:%d)\" % (start_year,year,years.index(year),make,makes[year].index(make)))\n",
    "                return models\n",
    "            # Otherwise, convert result data into list format then store in a dict by make.\n",
    "            else:\n",
    "                models[make] = (list(each[\"model\"] for each in data[\"results\"]))\n",
    "    end_year = year\n",
    "    logger.info(\"Finished (%s-%s)\" % (start_year,end_year))\n",
    "    return models"
   ]
  },
  {
<<<<<<< HEAD
   "cell_type": "markdown",
   "id": "327976f6-45f3-43d1-9fc2-ec92f2ec1a3d",
   "metadata": {},
   "source": [
    "# Maybe:!!!!!"
   ]
  },
  {
   "cell_type": "markdown",
   "id": "4fe53057-e79d-4446-9988-1080ee59230d",
   "metadata": {},
   "source": [
    "#### We cannot access url related to **\"EMERGENCY ONE\"**, therefore we skip it."
=======
   "cell_type": "code",
   "execution_count": 15,
   "id": "ed9c811e-2cf8-492b-8439-7abade3e7f3d",
   "metadata": {},
   "outputs": [
    {
     "name": "stderr",
     "output_type": "stream",
     "text": [
      "2022-04-07 00:03:56.655 | INFO     | __main__:fetch_recalls:2 - Fetching https://api.nhtsa.gov/products/vehicle/models?modelYear=1975&make=CADILLAC&issueType=r\n",
      "2022-04-07 00:03:56.843 | INFO     | __main__:fetch_recalls:9 - 403\n",
      "2022-04-07 00:03:56.844 | WARNING  | __main__:Get_model:13 - Start year:1949, Current Year:1975(index:26) Current Make:CADILLAC(index:25)\n"
     ]
    }
   ],
   "source": [
    "models = Get_model(years,\"\")"
>>>>>>> processed-data
   ]
  },
  {
   "cell_type": "code",
<<<<<<< HEAD
   "execution_count": 54,
   "id": "ed9c811e-2cf8-492b-8439-7abade3e7f3d",
=======
   "execution_count": 22,
   "id": "315a01c3-9616-4263-b5d4-7aa5add310a8",
>>>>>>> processed-data
   "metadata": {},
   "outputs": [
    {
     "name": "stderr",
     "output_type": "stream",
     "text": [
<<<<<<< HEAD
      "2022-04-05 23:43:22.630 | INFO     | __main__:fetch_complaints:2 - Fetching https://api.nhtsa.gov/products/vehicle/models?modelYear=2011&make=NU WA&issueType=c\n",
      "2022-04-05 23:43:22.809 | INFO     | __main__:fetch_complaints:9 - 403\n",
      "2022-04-05 23:43:22.810 | WARNING  | __main__:Get_model:13 - Start year:1949, Current Year:2011(index:56) Current Make:NU WA(index:102)\n"
=======
      "2022-04-07 09:45:44.208 | INFO     | __main__:fetch_recalls:2 - Fetching https://api.nhtsa.gov/products/vehicle/models?modelYear=1983&make=YAMAHA&issueType=r\n",
      "2022-04-07 09:45:44.413 | INFO     | __main__:fetch_recalls:9 - 200\n",
      "2022-04-07 09:45:44.414 | INFO     | __main__:Get_model:19 - Finished (1975-1983)\n"
>>>>>>> processed-data
     ]
    }
   ],
   "source": [
<<<<<<< HEAD
    "models = Get_model(years,\"EMERGENCY ONE\")"
=======
    "start = years.index(\"1975\")\n",
    "end = years.index(\"1984\")\n",
    "model_1 = Get_model(years[start:end],\"\")"
   ]
  },
  {
   "cell_type": "markdown",
   "id": "00fa85b2-b011-40e5-816a-26c0f8e694a6",
   "metadata": {
    "tags": []
   },
   "source": [
    "#### We cannot access url related to **\"EMERGENCY ONE\"**, therefore we skip it."
>>>>>>> processed-data
   ]
  },
  {
   "cell_type": "code",
<<<<<<< HEAD
   "execution_count": 57,
   "id": "88d6e4f8-bd19-4bcd-971e-e1d24dfa640a",
=======
   "execution_count": 17,
   "id": "4de7d7e2-1789-4174-9fe2-199a10ee5db2",
>>>>>>> processed-data
   "metadata": {},
   "outputs": [
    {
     "name": "stderr",
     "output_type": "stream",
     "text": [
<<<<<<< HEAD
      "2022-04-05 23:51:34.639 | INFO     | __main__:fetch_complaints:2 - Fetching https://api.nhtsa.gov/products/vehicle/models?modelYear=9999&make=ZAP&issueType=c\n",
      "2022-04-05 23:51:34.837 | INFO     | __main__:fetch_complaints:9 - 200\n",
      "2022-04-05 23:51:34.838 | INFO     | __main__:Get_model:18 - Finished (2011-9999)\n"
=======
      "2022-04-07 01:13:30.072 | INFO     | __main__:fetch_recalls:2 - Fetching https://api.nhtsa.gov/products/vehicle/models?modelYear=9999&make=ZEMCO&issueType=r\n",
      "2022-04-07 01:13:30.312 | INFO     | __main__:fetch_recalls:9 - 200\n",
      "2022-04-07 01:13:30.313 | INFO     | __main__:Get_model:19 - Finished (1984-9999)\n"
>>>>>>> processed-data
     ]
    }
   ],
   "source": [
<<<<<<< HEAD
    "start = years.index(\"2011\")\n",
=======
    "start = years.index(\"1984\")\n",
>>>>>>> processed-data
    "model_2 = Get_model(years[start:],\"EMERGENCY ONE\")"
   ]
  },
  {
   "cell_type": "code",
<<<<<<< HEAD
   "execution_count": 63,
=======
   "execution_count": 23,
>>>>>>> processed-data
   "id": "054a4d83-60c0-410a-95cf-a812c7d9de1e",
   "metadata": {},
   "outputs": [
    {
     "data": {
      "text/plain": [
<<<<<<< HEAD
       "(709, 517)"
      ]
     },
     "execution_count": 63,
=======
       "(263, 259, 1485)"
      ]
     },
     "execution_count": 23,
>>>>>>> processed-data
     "metadata": {},
     "output_type": "execute_result"
    }
   ],
   "source": [
<<<<<<< HEAD
    "len(models),len(model_2)"
=======
    "len(models),len(model_1),len(model_2)"
>>>>>>> processed-data
   ]
  },
  {
   "cell_type": "markdown",
   "id": "e677a545-cb18-4538-95a3-99a88cdc5c47",
   "metadata": {},
   "source": [
    "#### Define a function for merge two dictionary with out replacement & duplication."
   ]
  },
  {
   "cell_type": "code",
<<<<<<< HEAD
   "execution_count": 60,
=======
   "execution_count": 24,
>>>>>>> processed-data
   "id": "763a8c91-8dd3-4bc0-947a-ce2bc56967a4",
   "metadata": {},
   "outputs": [],
   "source": [
    "def merge_2_dict(dict_1,dict_2):\n",
    "    for key, value in dict_2.items():\n",
    "        if key in dict_1:\n",
    "            for v in value:\n",
    "                if v not in dict_1[key]:\n",
    "                    dict_1[key].append(v)\n",
    "        else:\n",
    "            dict_1[key] = value\n",
    "    return dict_1"
   ]
  },
  {
   "cell_type": "code",
<<<<<<< HEAD
   "execution_count": 70,
   "id": "e01db59c-f8c1-4f9a-9a3c-e8bbb023fcdb",
   "metadata": {},
   "outputs": [],
   "source": [
    "models = merge_2_dict(models,model_2)"
   ]
  },
  {
   "cell_type": "markdown",
   "id": "76b8ca3d-b8be-478a-a379-d57cf31c2bd3",
   "metadata": {},
   "source": [
    "#### Delete pair if the value of this key is empty."
   ]
  },
  {
   "cell_type": "code",
   "execution_count": 71,
   "id": "a335d4db-86d4-4436-b7ae-1bd537ac1a46",
   "metadata": {},
=======
   "execution_count": 25,
   "id": "e01db59c-f8c1-4f9a-9a3c-e8bbb023fcdb",
   "metadata": {},
>>>>>>> processed-data
   "outputs": [
    {
     "data": {
      "text/plain": [
<<<<<<< HEAD
       "934"
      ]
     },
     "execution_count": 71,
=======
       "1671"
      ]
     },
     "execution_count": 25,
>>>>>>> processed-data
     "metadata": {},
     "output_type": "execute_result"
    }
   ],
   "source": [
<<<<<<< HEAD
=======
    "models = merge_2_dict(models,model_1)\n",
    "models = merge_2_dict(models,model_2)\n",
>>>>>>> processed-data
    "len(models)"
   ]
  },
  {
<<<<<<< HEAD
   "cell_type": "code",
   "execution_count": 72,
=======
   "cell_type": "markdown",
   "id": "76b8ca3d-b8be-478a-a379-d57cf31c2bd3",
   "metadata": {},
   "source": [
    "#### Delete pair if the value of this key is empty."
   ]
  },
  {
   "cell_type": "code",
   "execution_count": 26,
>>>>>>> processed-data
   "id": "f642cc48-42e8-4731-afb6-074fe30fabe0",
   "metadata": {},
   "outputs": [
    {
     "data": {
      "text/plain": [
<<<<<<< HEAD
       "860"
      ]
     },
     "execution_count": 72,
=======
       "1502"
      ]
     },
     "execution_count": 26,
>>>>>>> processed-data
     "metadata": {},
     "output_type": "execute_result"
    }
   ],
   "source": [
    "clean_models = models.copy()\n",
    "for key in list(clean_models.keys()):\n",
    "    if not clean_models.get(key):\n",
    "        del clean_models[key]\n",
    "len(clean_models)"
   ]
  },
  {
   "cell_type": "markdown",
   "id": "ee60b0c8-e00e-4d71-b446-e2dd3d8106fa",
   "metadata": {},
   "source": [
    "#### Delect special 403 case from **makes** and **models**."
   ]
  },
  {
   "cell_type": "code",
<<<<<<< HEAD
   "execution_count": 228,
=======
   "execution_count": 27,
>>>>>>> processed-data
   "id": "dc26d857-4364-44ef-85a6-525859fdd05c",
   "metadata": {},
   "outputs": [],
   "source": [
    "#Retrieve back from file\n",
    "\n",
    "#f = open('../raw/Complaints-Plus/makes.json')\n",
    "#data_m = json.load(f)\n",
    "#f.close()\n",
    "#makes = data_m.copy()"
   ]
  },
  {
   "cell_type": "code",
<<<<<<< HEAD
   "execution_count": 229,
=======
   "execution_count": 80,
>>>>>>> processed-data
   "id": "d4fc1df4-6b7f-435b-99a1-efdf76b3b1dc",
   "metadata": {},
   "outputs": [
    {
     "name": "stderr",
     "output_type": "stream",
     "text": [
<<<<<<< HEAD
      "2022-04-06 15:14:27.720 | INFO     | __main__:<module>:6 - 69 -> 69\n"
=======
      "2022-04-07 17:59:23.847 | INFO     | __main__:<module>:9 - 76 -> 76\n"
>>>>>>> processed-data
     ]
    }
   ],
   "source": [
    "makes_clean_403 = makes.copy()\n",
    "for k,v in makes_clean_403.items():\n",
    "    if \"EMERGENCY ONE\" in v:\n",
    "        id = v.index(\"EMERGENCY ONE\")\n",
    "        del v[id]\n",
<<<<<<< HEAD
=======
    "    if \"SUNLIGHT\" in v:\n",
    "        id = v.index(\"SUNLIGHT\")\n",
    "        del v[id]\n",
>>>>>>> processed-data
    "logger.info( \"%d -> %d\" %(len(makes),len(makes_clean_403)))"
   ]
  },
  {
   "cell_type": "code",
<<<<<<< HEAD
   "execution_count": 230,
=======
   "execution_count": 75,
>>>>>>> processed-data
   "id": "ea8b536e-b9f1-49fd-b63b-2e3e7ad08628",
   "metadata": {},
   "outputs": [
    {
     "name": "stderr",
     "output_type": "stream",
     "text": [
<<<<<<< HEAD
      "2022-04-06 15:14:32.666 | INFO     | __main__:<module>:3 - 934 -> 933\n"
=======
      "2022-04-07 17:57:15.482 | INFO     | __main__:<module>:4 - 1671 -> 1669\n"
>>>>>>> processed-data
     ]
    }
   ],
   "source": [
    "models_clean_403 = models.copy()\n",
    "del models_clean_403[\"EMERGENCY ONE\"]\n",
<<<<<<< HEAD
=======
    "del models_clean_403[\"SUNLIGHT\"]\n",
>>>>>>> processed-data
    "logger.info( \"%d -> %d\" %(len(models),len(models_clean_403)))"
   ]
  },
  {
   "cell_type": "code",
<<<<<<< HEAD
   "execution_count": 77,
=======
   "execution_count": 30,
>>>>>>> processed-data
   "id": "623eb764-aac4-4fa0-acba-e39cce81fcb5",
   "metadata": {},
   "outputs": [
    {
     "name": "stderr",
     "output_type": "stream",
     "text": [
<<<<<<< HEAD
      "2022-04-06 00:04:51.999 | INFO     | __main__:write_out:44 - Writing data to ../raw/Complaints-Plus/models.json\n",
      "2022-04-06 00:04:52.006 | INFO     | __main__:write_out:44 - Writing data to ../raw/Complaints-Plus/makes.json\n",
      "2022-04-06 00:04:52.013 | INFO     | __main__:write_out:44 - Writing data to ../raw/Complaints-Plus/years.json\n"
=======
      "2022-04-07 09:58:13.426 | INFO     | __main__:write_out:55 - Writing data to ../raw/Recalls_buffer/recall_models.json\n"
>>>>>>> processed-data
     ]
    }
   ],
   "source": [
    "write_out(\"recall_models\",models)"
   ]
  },
  {
   "cell_type": "markdown",
   "id": "cd2c5a11-ee86-4c6e-9818-16a4943d5ac1",
   "metadata": {},
   "source": [
    "## Step-4: Get all recalls for the selected Model Year, Make, Model"
   ]
  },
  {
   "cell_type": "code",
<<<<<<< HEAD
   "execution_count": 146,
=======
   "execution_count": 31,
>>>>>>> processed-data
   "id": "d8f512ad-9456-4993-b638-680a103a173b",
   "metadata": {},
   "outputs": [],
   "source": [
    "def Get_recalls(recalls_count,years,makes,models,continue_):\n",
    "    recalls_count = recalls_count\n",
    "    start_year = years[0]\n",
    "    for year in years:\n",
    "        # \"continue_\" means we've suffered an interruption, \n",
    "        # and we're going back to that position.\n",
    "        if continue_ : \n",
    "            #Get user input of \"make\" which want to continue.\n",
    "            make_input = input()\n",
    "            \n",
    "            #Find correspond index position in the \"makes\" dict.\n",
    "            position_make = makes[year].index(make_input)\n",
    "            \n",
    "            #Get user input of \"model\" which want to continue.\n",
    "            model_input = input()\n",
    "            \n",
    "            #Find correspond index position in the \"models\" dict.\n",
    "            position_model = models[make_input].index(model_input)\n",
    "            \n",
    "            # Find a list of rest of makes by current year. \n",
    "            make_position = makes[year].index(make_input)\n",
    "            \n",
    "            # Find a list of rest of models by current year & make. \n",
    "            model_position = models[make_input].index(model_input)\n",
    "\n",
    "            for make in (makes[year])[make_position:]:\n",
    "                for model in (models[make_input])[model_position:]:\n",
    "                    \n",
    "                    clear_output()\n",
    "                    api = api_prefix + \"/recalls/recallsByVehicle?make=%s&model=%s&modelYear=%d\" % (make,model,int(year))\n",
    "                    # Fetch data.\n",
    "                    status, data = fetch_recalls(api)\n",
    "\n",
    "                    # Status equal -1 means we are failing to use this API at this moment.\n",
    "                    if status == -1:\n",
    "                        logger.warning(\"Stopped! (%s_%s_%s_%s)\" % (recalls_count,year,make,model))                    \n",
    "                        alarm_clock()\n",
    "                        return -1\n",
    "                    \n",
    "                    # Skip if data is empty\n",
    "                    if data[\"results\"] != []:\n",
    "                        #Write out\n",
    "                        write_out_raw(recalls_count,year,make,model,data[\"results\"])\n",
    "                        recalls_count += 1\n",
    "                    else:\n",
    "                        logger.info(\"Empty data\")\n",
    "            continue_ = False\n",
    "        else:\n",
    "            for make in makes[year]:\n",
    "                for model in models[make]:\n",
    "                    clear_output()\n",
    "                    api = api_prefix + \"/recalls/recallsByVehicle?make=%s&model=%s&modelYear=%d\" % (make,model,int(year))\n",
    "                    status, data = fetch_recalls(api)\n",
    "\n",
    "                    # Status equal -1 means we are failing to use this API at this moment.\n",
    "                    if status == -1:\n",
    "                        logger.warning(\"Stopped! (%s_%s_%s_%s)\" % (recalls_count,year,make,model)) \n",
    "                        alarm_clock()\n",
    "                        return -1\n",
    "                    \n",
    "                    # Skip if data is empty\n",
    "                    if data[\"results\"] != []:\n",
    "                        #Write out\n",
    "                        write_out_raw(recalls_count,year,make,model,data[\"results\"])\n",
    "                        recalls_count += 1\n",
    "                    else:\n",
    "                        logger.info(\"Empty data\")\n",
    "    end_year = year\n",
    "    logger.info(\"Finished (%s_%s_%s_%s) from %s to %s.\" % (recalls_count,year,make,model,start_year,end_year))\n",
    "\n",
    "# Set an alert to remind me to reset when our IP is blocked.\n",
    "def alarm_clock():\n",
    "    file = 'alarm_music.mp3'\n",
    "    pygame.init()\n",
    "    pygame.mixer.init()\n",
    "    pygame.mixer.music.load(file)\n",
    "    pygame.mixer.music.play()\n",
    "    time.sleep(10)\n",
    "    pygame.mixer.music.stop()"
   ]
  },
  {
   "cell_type": "code",
<<<<<<< HEAD
   "execution_count": 97,
=======
   "execution_count": 34,
>>>>>>> processed-data
   "id": "34277edd-7ac3-479c-947b-bbe44711721f",
   "metadata": {},
   "outputs": [
    {
     "name": "stderr",
     "output_type": "stream",
     "text": [
<<<<<<< HEAD
      "2022-04-06 00:27:28.693 | INFO     | __main__:fetch_complaints:2 - Fetching https://api.nhtsa.gov/complaints/complaintsByVehicle?make=CADILLAC&model=STS&modelYear=1972\n",
      "2022-04-06 00:27:28.898 | INFO     | __main__:fetch_complaints:9 - 403\n",
      "2022-04-06 00:27:28.900 | WARNING  | __main__:Get_complaints:36 - Stopped! (27_1972_CADILLAC_STS)\n"
=======
      "2022-04-07 10:08:22.943 | INFO     | __main__:fetch_recalls:2 - Fetching https://api.nhtsa.gov/recalls/recallsByVehicle?make=GMC&model=P2500&modelYear=1963\n",
      "2022-04-07 10:08:23.113 | INFO     | __main__:fetch_recalls:9 - 403\n",
      "2022-04-07 10:08:23.114 | WARNING  | __main__:Get_recalls:57 - Stopped! (151_1963_GMC_P2500)\n"
>>>>>>> processed-data
     ]
    },
    {
     "data": {
      "text/plain": [
       "-1"
      ]
     },
<<<<<<< HEAD
     "execution_count": 97,
=======
     "execution_count": 34,
>>>>>>> processed-data
     "metadata": {},
     "output_type": "execute_result"
    }
   ],
   "source": [
    "Get_recalls(0,years,makes,models,False)"
   ]
  },
  {
   "cell_type": "code",
<<<<<<< HEAD
   "execution_count": 135,
=======
   "execution_count": 35,
>>>>>>> processed-data
   "id": "fa336b13-f702-4353-9380-bbfa111680bb",
   "metadata": {},
   "outputs": [
    {
     "name": "stderr",
     "output_type": "stream",
     "text": [
<<<<<<< HEAD
      "2022-04-06 12:27:26.238 | INFO     | __main__:fetch_complaints:2 - Fetching https://api.nhtsa.gov/complaints/complaintsByVehicle?make=BMW&model=550I&modelYear=1978\n",
      "2022-04-06 12:27:26.286 | INFO     | __main__:fetch_complaints:9 - 403\n",
      "2022-04-06 12:27:26.288 | WARNING  | __main__:Get_complaints:53 - Stopped! (49_1978_BMW_550I)\n"
=======
      "2022-04-07 10:18:36.296 | INFO     | __main__:fetch_recalls:2 - Fetching https://api.nhtsa.gov/recalls/recallsByVehicle?make=MOTOR COACH&model=MC9&modelYear=1966\n",
      "2022-04-07 10:18:36.660 | INFO     | __main__:fetch_recalls:9 - 403\n",
      "2022-04-07 10:18:36.661 | WARNING  | __main__:Get_recalls:57 - Stopped! (275_1966_MOTOR COACH_MC9)\n"
>>>>>>> processed-data
     ]
    },
    {
     "data": {
      "text/plain": [
       "-1"
      ]
     },
<<<<<<< HEAD
     "execution_count": 135,
=======
     "execution_count": 35,
>>>>>>> processed-data
     "metadata": {},
     "output_type": "execute_result"
    }
   ],
   "source": [
<<<<<<< HEAD
    "start = years.index(\"1972\")\n",
    "Get_recalls(20,years[start:],makes,models,True)"
=======
    "start = years.index(\"1963\")\n",
    "Get_recalls(151,years[start:],makes,models,True)"
>>>>>>> processed-data
   ]
  },
  {
   "cell_type": "code",
<<<<<<< HEAD
   "execution_count": 141,
   "id": "1a01bb24-bf67-4f6e-921a-7cc2797895ec",
=======
   "execution_count": 36,
   "id": "eae138e1-d378-410f-87a7-b95a22b06308",
>>>>>>> processed-data
   "metadata": {},
   "outputs": [
    {
     "name": "stderr",
     "output_type": "stream",
     "text": [
<<<<<<< HEAD
      "2022-04-06 13:32:34.714 | INFO     | __main__:fetch_complaints:2 - Fetching https://api.nhtsa.gov/complaints/complaintsByVehicle?make=MERCEDES BENZ&model=ML350&modelYear=1979\n",
      "2022-04-06 13:32:34.895 | INFO     | __main__:fetch_complaints:9 - 403\n",
      "2022-04-06 13:32:34.896 | WARNING  | __main__:Get_complaints:56 - Stopped! (63_1979_MERCEDES BENZ_ML350)\n"
=======
      "2022-04-07 10:28:49.443 | INFO     | __main__:fetch_recalls:2 - Fetching https://api.nhtsa.gov/recalls/recallsByVehicle?make=INTERNATIONAL HARVESTER&model=S1600&modelYear=1969\n",
      "2022-04-07 10:28:49.616 | INFO     | __main__:fetch_recalls:9 - 403\n",
      "2022-04-07 10:28:49.617 | WARNING  | __main__:Get_recalls:57 - Stopped! (645_1969_INTERNATIONAL HARVESTER_S1600)\n"
>>>>>>> processed-data
     ]
    },
    {
     "data": {
      "text/plain": [
       "-1"
      ]
     },
<<<<<<< HEAD
     "execution_count": 141,
=======
     "execution_count": 36,
>>>>>>> processed-data
     "metadata": {},
     "output_type": "execute_result"
    }
   ],
   "source": [
<<<<<<< HEAD
    "start = years.index(\"1978\")\n",
    "Get_recalls(49,years[start:],makes,models,True)"
=======
    "start = years.index(\"1966\")\n",
    "Get_recalls(275,years[start:],makes,models,True)"
>>>>>>> processed-data
   ]
  },
  {
   "cell_type": "code",
<<<<<<< HEAD
   "execution_count": 143,
   "id": "75e6ec30-1c40-4e5e-92e0-e4fe67b973bb",
=======
   "execution_count": 37,
   "id": "44782a7b-36d2-4e85-af14-0f2591c1a76d",
>>>>>>> processed-data
   "metadata": {},
   "outputs": [
    {
     "name": "stderr",
     "output_type": "stream",
     "text": [
<<<<<<< HEAD
      "2022-04-06 14:06:41.186 | INFO     | __main__:fetch_complaints:2 - Fetching https://api.nhtsa.gov/complaints/complaintsByVehicle?make=FORD&model=FLEX&modelYear=1986\n",
      "2022-04-06 14:06:41.381 | INFO     | __main__:fetch_complaints:9 - 403\n",
      "2022-04-06 14:06:41.382 | WARNING  | __main__:Get_complaints:56 - Stopped! (236_1986_FORD_FLEX)\n"
=======
      "2022-04-07 10:38:50.466 | INFO     | __main__:fetch_recalls:2 - Fetching https://api.nhtsa.gov/recalls/recallsByVehicle?make=KENWORTH&model=W900B&modelYear=1971\n",
      "2022-04-07 10:38:50.637 | INFO     | __main__:fetch_recalls:9 - 403\n",
      "2022-04-07 10:38:50.638 | WARNING  | __main__:Get_recalls:57 - Stopped! (1101_1971_KENWORTH_W900B)\n"
>>>>>>> processed-data
     ]
    },
    {
     "data": {
      "text/plain": [
       "-1"
      ]
     },
<<<<<<< HEAD
     "execution_count": 143,
=======
     "execution_count": 37,
>>>>>>> processed-data
     "metadata": {},
     "output_type": "execute_result"
    }
   ],
   "source": [
<<<<<<< HEAD
    "start = years.index(\"1979\")\n",
    "Get_recalls(63,years[start:],makes,models,True)"
=======
    "start = years.index(\"1969\")\n",
    "Get_recalls(645,years[start:],makes,models,True)"
>>>>>>> processed-data
   ]
  },
  {
   "cell_type": "code",
<<<<<<< HEAD
   "execution_count": null,
   "id": "9a68b40f-b2ca-4fee-94d4-92dc54a31c97",
=======
   "execution_count": 39,
   "id": "995f014a-3700-4435-b090-9e3751076472",
   "metadata": {},
   "outputs": [
    {
     "name": "stderr",
     "output_type": "stream",
     "text": [
      "2022-04-07 10:48:41.209 | INFO     | __main__:fetch_recalls:2 - Fetching https://api.nhtsa.gov/recalls/recallsByVehicle?make=PREVOST&model=LE MIRAGE&modelYear=1973\n",
      "2022-04-07 10:48:41.378 | INFO     | __main__:fetch_recalls:9 - 403\n",
      "2022-04-07 10:48:41.379 | WARNING  | __main__:Get_recalls:57 - Stopped! (1882_1973_PREVOST_LE MIRAGE)\n"
     ]
    },
    {
     "data": {
      "text/plain": [
       "-1"
      ]
     },
     "execution_count": 39,
     "metadata": {},
     "output_type": "execute_result"
    }
   ],
   "source": [
    "start = years.index(\"1971\")\n",
    "Get_recalls(1101,years[start:],makes,models,True)"
   ]
  },
  {
   "cell_type": "code",
   "execution_count": 40,
   "id": "0488ae3e-f773-4b2b-afcb-5ca60d4c5946",
>>>>>>> processed-data
   "metadata": {},
   "outputs": [
    {
     "name": "stderr",
     "output_type": "stream",
     "text": [
<<<<<<< HEAD
      "2022-04-06 15:45:16.631 | INFO     | __main__:fetch_complaints:2 - Fetching https://api.nhtsa.gov/complaints/complaintsByVehicle?make=FORD&model=TAURUS&modelYear=1992\n"
     ]
    }
   ],
   "source": [
    "start = years.index(\"1986\")\n",
    "Get_recalls(236,years[start:],makes,models,True)"
=======
      "2022-04-07 11:13:59.646 | INFO     | __main__:fetch_recalls:2 - Fetching https://api.nhtsa.gov/recalls/recallsByVehicle?make=MERCEDES BENZ&model=450SL&modelYear=1975\n",
      "2022-04-07 11:13:59.814 | INFO     | __main__:fetch_recalls:9 - 403\n",
      "2022-04-07 11:13:59.815 | WARNING  | __main__:Get_recalls:57 - Stopped! (2855_1975_MERCEDES BENZ_450SL)\n"
     ]
    },
    {
     "data": {
      "text/plain": [
       "-1"
      ]
     },
     "execution_count": 40,
     "metadata": {},
     "output_type": "execute_result"
    }
   ],
   "source": [
    "start = years.index(\"1973\")\n",
    "Get_recalls(1882,years[start:],makes,models,True)"
>>>>>>> processed-data
   ]
  },
  {
   "cell_type": "code",
<<<<<<< HEAD
   "execution_count": null,
   "id": "eae138e1-d378-410f-87a7-b95a22b06308",
   "metadata": {},
   "outputs": [],
   "source": []
  },
  {
   "cell_type": "code",
   "execution_count": null,
   "id": "0ee811bf-57f3-4abe-b23d-f6bb620b2370",
   "metadata": {},
   "outputs": [],
   "source": []
  },
  {
   "cell_type": "code",
   "execution_count": 149,
   "id": "ed340aae-2228-487f-b958-323fc3bd6a0e",
=======
   "execution_count": 41,
   "id": "62ebb925-1169-49f2-8c88-83fb4e0e3675",
   "metadata": {},
   "outputs": [
    {
     "name": "stderr",
     "output_type": "stream",
     "text": [
      "2022-04-07 11:29:10.958 | INFO     | __main__:fetch_recalls:2 - Fetching https://api.nhtsa.gov/recalls/recallsByVehicle?make=OSHKOSH&model=A1823&modelYear=1978\n",
      "2022-04-07 11:29:11.126 | INFO     | __main__:fetch_recalls:9 - 403\n",
      "2022-04-07 11:29:11.127 | WARNING  | __main__:Get_recalls:57 - Stopped! (3907_1978_OSHKOSH_A1823)\n"
     ]
    },
    {
     "data": {
      "text/plain": [
       "-1"
      ]
     },
     "execution_count": 41,
     "metadata": {},
     "output_type": "execute_result"
    }
   ],
   "source": [
    "start = years.index(\"1975\")\n",
    "Get_recalls(2855,years[start:],makes,models,True)"
   ]
  },
  {
   "cell_type": "code",
   "execution_count": 42,
   "id": "136e393a-db79-4dd7-b8df-5219365fea0c",
   "metadata": {},
   "outputs": [
    {
     "name": "stderr",
     "output_type": "stream",
     "text": [
      "2022-04-07 11:39:02.514 | INFO     | __main__:fetch_recalls:2 - Fetching https://api.nhtsa.gov/recalls/recallsByVehicle?make=GMC&model=TZE063&modelYear=1980\n",
      "2022-04-07 11:39:02.685 | INFO     | __main__:fetch_recalls:9 - 403\n",
      "2022-04-07 11:39:02.686 | WARNING  | __main__:Get_recalls:57 - Stopped! (4434_1980_GMC_TZE063)\n"
     ]
    },
    {
     "data": {
      "text/plain": [
       "-1"
      ]
     },
     "execution_count": 42,
     "metadata": {},
     "output_type": "execute_result"
    }
   ],
   "source": [
    "start = years.index(\"1978\")\n",
    "Get_recalls(3907,years[start:],makes,models,True)"
   ]
  },
  {
   "cell_type": "code",
   "execution_count": 43,
   "id": "0ee811bf-57f3-4abe-b23d-f6bb620b2370",
   "metadata": {},
   "outputs": [
    {
     "name": "stderr",
     "output_type": "stream",
     "text": [
      "2022-04-07 11:53:57.667 | INFO     | __main__:fetch_recalls:2 - Fetching https://api.nhtsa.gov/recalls/recallsByVehicle?make=EZ LOADER&model=ADJUSTABLE STEEL TRAILER&modelYear=1981\n",
      "2022-04-07 11:53:57.841 | INFO     | __main__:fetch_recalls:9 - 403\n",
      "2022-04-07 11:53:57.842 | WARNING  | __main__:Get_recalls:57 - Stopped! (4541_1981_EZ LOADER_ADJUSTABLE STEEL TRAILER)\n"
     ]
    },
    {
     "data": {
      "text/plain": [
       "-1"
      ]
     },
     "execution_count": 43,
     "metadata": {},
     "output_type": "execute_result"
    }
   ],
   "source": [
    "start = years.index(\"1980\")\n",
    "Get_recalls(4434,years[start:],makes,models,True)"
   ]
  },
  {
   "cell_type": "code",
   "execution_count": 45,
   "id": "d7d5cf2e-974b-48a7-af19-42a381b5644c",
>>>>>>> processed-data
   "metadata": {},
   "outputs": [
    {
     "name": "stderr",
     "output_type": "stream",
     "text": [
<<<<<<< HEAD
      "2022-04-06 14:23:33.468 | INFO     | __main__:fetch_complaints:2 - Fetching https://api.nhtsa.gov/complaints/complaintsByVehicle?make=EMERGENCY ONE&model=ATTITUDE&modelYear=1988\n",
      "2022-04-06 14:23:34.529 | INFO     | __main__:fetch_complaints:9 - 403\n",
      "2022-04-06 14:23:34.530 | WARNING  | __main__:Get_complaints:36 - Stopped! (311_1988_EMERGENCY ONE_ATTITUDE)\n"
=======
      "2022-04-07 12:04:13.028 | INFO     | __main__:fetch_recalls:2 - Fetching https://api.nhtsa.gov/recalls/recallsByVehicle?make=TOYOTA&model=CELICA&modelYear=1983\n",
      "2022-04-07 12:04:13.214 | INFO     | __main__:fetch_recalls:9 - 403\n",
      "2022-04-07 12:04:13.215 | WARNING  | __main__:Get_recalls:57 - Stopped! (5490_1983_TOYOTA_CELICA)\n"
>>>>>>> processed-data
     ]
    },
    {
     "data": {
      "text/plain": [
       "-1"
      ]
     },
<<<<<<< HEAD
     "execution_count": 149,
=======
     "execution_count": 45,
>>>>>>> processed-data
     "metadata": {},
     "output_type": "execute_result"
    }
   ],
   "source": [
<<<<<<< HEAD
    "start = years.index(\"19\")\n",
    "Get_recalls(311,years[start:],makes,models,True)"
=======
    "start = years.index(\"1981\")\n",
    "Get_recalls(4541,years[start:],makes,models,True)"
>>>>>>> processed-data
   ]
  },
  {
   "cell_type": "code",
<<<<<<< HEAD
   "execution_count": null,
   "id": "a2058861-3878-47fd-a376-bf21d82a37f6",
   "metadata": {},
=======
   "execution_count": 46,
   "id": "563b0477-4b41-45ad-95d8-d9eccb7e7759",
   "metadata": {},
   "outputs": [
    {
     "name": "stderr",
     "output_type": "stream",
     "text": [
      "2022-04-07 12:29:12.591 | INFO     | __main__:fetch_recalls:2 - Fetching https://api.nhtsa.gov/recalls/recallsByVehicle?make=SAAB&model=99LE&modelYear=1985\n",
      "2022-04-07 12:29:12.818 | INFO     | __main__:fetch_recalls:9 - 403\n",
      "2022-04-07 12:29:12.819 | WARNING  | __main__:Get_recalls:57 - Stopped! (6317_1985_SAAB_99LE)\n"
     ]
    },
    {
     "data": {
      "text/plain": [
       "-1"
      ]
     },
     "execution_count": 46,
     "metadata": {},
     "output_type": "execute_result"
    }
   ],
   "source": [
    "start = years.index(\"1983\")\n",
    "Get_recalls(5490,years[start:],makes,models,True)"
   ]
  },
  {
   "cell_type": "code",
   "execution_count": 48,
   "id": "392265e2-8025-49bf-8b15-3b13c9476d88",
   "metadata": {},
   "outputs": [
    {
     "name": "stderr",
     "output_type": "stream",
     "text": [
      "2022-04-07 13:08:04.915 | INFO     | __main__:fetch_recalls:2 - Fetching https://api.nhtsa.gov/recalls/recallsByVehicle?make=VOLVO&model=DC&modelYear=1987\n",
      "2022-04-07 13:08:05.151 | INFO     | __main__:fetch_recalls:9 - 403\n",
      "2022-04-07 13:08:05.152 | WARNING  | __main__:Get_recalls:57 - Stopped! (7013_1987_VOLVO_DC)\n"
     ]
    },
    {
     "data": {
      "text/plain": [
       "-1"
      ]
     },
     "execution_count": 48,
     "metadata": {},
     "output_type": "execute_result"
    }
   ],
   "source": [
    "start = years.index(\"1985\")\n",
    "Get_recalls(6317,years[start:],makes,models,True)"
   ]
  },
  {
   "cell_type": "code",
   "execution_count": 49,
   "id": "66fbff74-6084-4a39-898b-50a6fb4f4f5c",
   "metadata": {},
   "outputs": [
    {
     "name": "stderr",
     "output_type": "stream",
     "text": [
      "2022-04-07 13:19:18.098 | INFO     | __main__:fetch_recalls:2 - Fetching https://api.nhtsa.gov/recalls/recallsByVehicle?make=INTERNATIONAL HARVESTER&model=1210&modelYear=1989\n",
      "2022-04-07 13:19:18.285 | INFO     | __main__:fetch_recalls:9 - 403\n",
      "2022-04-07 13:19:18.286 | WARNING  | __main__:Get_recalls:57 - Stopped! (7519_1989_INTERNATIONAL HARVESTER_1210)\n"
     ]
    },
    {
     "data": {
      "text/plain": [
       "-1"
      ]
     },
     "execution_count": 49,
     "metadata": {},
     "output_type": "execute_result"
    }
   ],
   "source": [
    "start = years.index(\"1987\")\n",
    "Get_recalls(7013,years[start:],makes,models,True)"
   ]
  },
  {
   "cell_type": "code",
   "execution_count": 50,
   "id": "a2058861-3878-47fd-a376-bf21d82a37f6",
   "metadata": {},
   "outputs": [
    {
     "name": "stderr",
     "output_type": "stream",
     "text": [
      "2022-04-07 13:34:01.530 | INFO     | __main__:fetch_recalls:2 - Fetching https://api.nhtsa.gov/recalls/recallsByVehicle?make=MALLARD&model=9670&modelYear=1989\n",
      "2022-04-07 13:34:01.711 | INFO     | __main__:fetch_recalls:9 - 403\n",
      "2022-04-07 13:34:01.711 | WARNING  | __main__:Get_recalls:36 - Stopped! (7532_1989_MALLARD_9670)\n"
     ]
    },
    {
     "data": {
      "text/plain": [
       "-1"
      ]
     },
     "execution_count": 50,
     "metadata": {},
     "output_type": "execute_result"
    }
   ],
   "source": [
    "start = years.index(\"1989\")\n",
    "Get_recalls(7519,years[start:],makes,models,True)"
   ]
  },
  {
   "cell_type": "code",
   "execution_count": 55,
   "id": "7779adec-3b3d-4a4b-a7f0-b5bfccf40a52",
   "metadata": {},
   "outputs": [
    {
     "name": "stderr",
     "output_type": "stream",
     "text": [
      "2022-04-07 13:44:09.288 | INFO     | __main__:fetch_recalls:2 - Fetching https://api.nhtsa.gov/recalls/recallsByVehicle?make=SUBARU&model=DL&modelYear=1990\n",
      "2022-04-07 13:44:11.229 | INFO     | __main__:fetch_recalls:9 - 403\n",
      "2022-04-07 13:44:11.230 | WARNING  | __main__:Get_recalls:57 - Stopped! (7762_1990_SUBARU_DL)\n"
     ]
    },
    {
     "data": {
      "text/plain": [
       "-1"
      ]
     },
     "execution_count": 55,
     "metadata": {},
     "output_type": "execute_result"
    }
   ],
   "source": [
    "start = years.index(\"1989\")\n",
    "Get_recalls(7532,years[start:],makes,models,True)"
   ]
  },
  {
   "cell_type": "code",
   "execution_count": 56,
   "id": "762070d2-9ccb-4272-b295-31410f91576b",
   "metadata": {},
   "outputs": [
    {
     "name": "stderr",
     "output_type": "stream",
     "text": [
      "2022-04-07 14:08:57.925 | INFO     | __main__:fetch_recalls:2 - Fetching https://api.nhtsa.gov/recalls/recallsByVehicle?make=AM GENERAL&model=96408&modelYear=1995\n",
      "2022-04-07 14:08:58.101 | INFO     | __main__:fetch_recalls:9 - 403\n",
      "2022-04-07 14:08:58.102 | WARNING  | __main__:Get_recalls:57 - Stopped! (8809_1995_AM GENERAL_96408)\n"
     ]
    },
    {
     "data": {
      "text/plain": [
       "-1"
      ]
     },
     "execution_count": 56,
     "metadata": {},
     "output_type": "execute_result"
    }
   ],
   "source": [
    "start = years.index(\"1990\")\n",
    "Get_recalls(7762,years[start:],makes,models,True)"
   ]
  },
  {
   "cell_type": "code",
   "execution_count": 57,
   "id": "53ff26e6-6991-462d-b15d-a0275343eda1",
   "metadata": {},
   "outputs": [
    {
     "name": "stderr",
     "output_type": "stream",
     "text": [
      "2022-04-07 14:39:59.181 | INFO     | __main__:fetch_recalls:2 - Fetching https://api.nhtsa.gov/recalls/recallsByVehicle?make=FORD&model=FT800&modelYear=1996\n",
      "2022-04-07 14:39:59.787 | INFO     | __main__:fetch_recalls:9 - 403\n",
      "2022-04-07 14:39:59.788 | WARNING  | __main__:Get_recalls:57 - Stopped! (8895_1996_FORD_FT800)\n"
     ]
    },
    {
     "data": {
      "text/plain": [
       "-1"
      ]
     },
     "execution_count": 57,
     "metadata": {},
     "output_type": "execute_result"
    }
   ],
   "source": [
    "start = years.index(\"1995\")\n",
    "Get_recalls(8809,years[start:],makes,models,True)"
   ]
  },
  {
   "cell_type": "code",
   "execution_count": 58,
   "id": "1e4a96d9-48fe-48f4-8189-8a4bba60a263",
   "metadata": {},
   "outputs": [
    {
     "name": "stderr",
     "output_type": "stream",
     "text": [
      "2022-04-07 15:09:22.873 | INFO     | __main__:fetch_recalls:2 - Fetching https://api.nhtsa.gov/recalls/recallsByVehicle?make=NISSAN DIESEL&model=UD1800&modelYear=1998\n",
      "2022-04-07 15:09:23.045 | INFO     | __main__:fetch_recalls:9 - 403\n",
      "2022-04-07 15:09:23.046 | WARNING  | __main__:Get_recalls:57 - Stopped! (9421_1998_NISSAN DIESEL_UD1800)\n"
     ]
    },
    {
     "data": {
      "text/plain": [
       "-1"
      ]
     },
     "execution_count": 58,
     "metadata": {},
     "output_type": "execute_result"
    }
   ],
   "source": [
    "start = years.index(\"1996\")\n",
    "Get_recalls(8895,years[start:],makes,models,True)"
   ]
  },
  {
   "cell_type": "code",
   "execution_count": 59,
   "id": "4010aebb-2cbc-4ddc-8b4a-aeaf21c3ed32",
   "metadata": {},
   "outputs": [
    {
     "name": "stderr",
     "output_type": "stream",
     "text": [
      "2022-04-07 16:08:38.724 | INFO     | __main__:fetch_recalls:2 - Fetching https://api.nhtsa.gov/recalls/recallsByVehicle?make=KZRV&model=SONIC&modelYear=2005\n",
      "2022-04-07 16:08:38.913 | INFO     | __main__:fetch_recalls:9 - 403\n",
      "2022-04-07 16:08:38.914 | WARNING  | __main__:Get_recalls:57 - Stopped! (12007_2005_KZRV_SONIC)\n"
     ]
    },
    {
     "data": {
      "text/plain": [
       "-1"
      ]
     },
     "execution_count": 59,
     "metadata": {},
     "output_type": "execute_result"
    }
   ],
   "source": [
    "start = years.index(\"1998\")\n",
    "Get_recalls(9421,years[start:],makes,models,True)"
   ]
  },
  {
   "cell_type": "code",
   "execution_count": 61,
   "id": "2813d62a-153e-4cd4-8ab9-7ae1972ac4ce",
   "metadata": {},
   "outputs": [
    {
     "name": "stderr",
     "output_type": "stream",
     "text": [
      "2022-04-07 17:15:13.861 | INFO     | __main__:fetch_recalls:2 - Fetching https://api.nhtsa.gov/recalls/recallsByVehicle?make=FORD CHASSIS/WINNEBAGO&model=MOBILE CLASSROOM&modelYear=2011\n",
      "2022-04-07 17:15:14.076 | INFO     | __main__:fetch_recalls:9 - 403\n",
      "2022-04-07 17:15:14.077 | WARNING  | __main__:Get_recalls:57 - Stopped! (14990_2011_FORD CHASSIS/WINNEBAGO_MOBILE CLASSROOM)\n"
     ]
    },
    {
     "data": {
      "text/plain": [
       "-1"
      ]
     },
     "execution_count": 61,
     "metadata": {},
     "output_type": "execute_result"
    }
   ],
   "source": [
    "start = years.index(\"2005\")\n",
    "Get_recalls(12007,years[start:],makes,models,True)"
   ]
  },
  {
   "cell_type": "code",
   "execution_count": 62,
   "id": "920728df-fac0-4426-a967-cd2c94846859",
   "metadata": {},
   "outputs": [
    {
     "name": "stderr",
     "output_type": "stream",
     "text": [
      "2022-04-07 17:25:09.435 | INFO     | __main__:fetch_recalls:2 - Fetching https://api.nhtsa.gov/recalls/recallsByVehicle?make=SUNLIGHT&model=VAN ONE&modelYear=2012\n",
      "2022-04-07 17:25:09.618 | INFO     | __main__:fetch_recalls:9 - 403\n",
      "2022-04-07 17:25:09.619 | WARNING  | __main__:Get_recalls:57 - Stopped! (15521_2012_SUNLIGHT_VAN ONE)\n"
     ]
    },
    {
     "data": {
      "text/plain": [
       "-1"
      ]
     },
     "execution_count": 62,
     "metadata": {},
     "output_type": "execute_result"
    }
   ],
   "source": [
    "start = years.index(\"2011\")\n",
    "Get_recalls(14990,years[start:],makes,models,True)"
   ]
  },
  {
   "cell_type": "code",
   "execution_count": 70,
   "id": "9847c39b-a981-4d83-8d62-79551f125bb2",
   "metadata": {},
   "outputs": [
    {
     "name": "stderr",
     "output_type": "stream",
     "text": [
      "2022-04-07 17:40:39.761 | INFO     | __main__:fetch_recalls:2 - Fetching https://api.nhtsa.gov/recalls/recallsByVehicle?make=SUNLIGHT&model=VAN ONE&modelYear=2013\n",
      "2022-04-07 17:40:39.943 | INFO     | __main__:fetch_recalls:9 - 403\n",
      "2022-04-07 17:40:39.944 | WARNING  | __main__:Get_recalls:57 - Stopped! (16113_2013_SUNLIGHT_VAN ONE)\n"
     ]
    },
    {
     "data": {
      "text/plain": [
       "-1"
      ]
     },
     "execution_count": 70,
     "metadata": {},
     "output_type": "execute_result"
    }
   ],
   "source": [
    "start = years.index(\"2012\")\n",
    "Get_recalls(15521,years[start:],makes,models,True)"
   ]
  },
  {
   "cell_type": "code",
   "execution_count": 72,
   "id": "52236a71-600a-4291-ac86-8f6690b625e6",
   "metadata": {},
   "outputs": [
    {
     "name": "stderr",
     "output_type": "stream",
     "text": [
      "2022-04-07 17:53:25.265 | INFO     | __main__:fetch_recalls:2 - Fetching https://api.nhtsa.gov/recalls/recallsByVehicle?make=SUNLIGHT&model=VAN ONE&modelYear=2014\n",
      "2022-04-07 17:53:25.476 | INFO     | __main__:fetch_recalls:9 - 403\n",
      "2022-04-07 17:53:25.477 | WARNING  | __main__:Get_recalls:57 - Stopped! (16607_2014_SUNLIGHT_VAN ONE)\n"
     ]
    },
    {
     "data": {
      "text/plain": [
       "-1"
      ]
     },
     "execution_count": 72,
     "metadata": {},
     "output_type": "execute_result"
    }
   ],
   "source": [
    "start = years.index(\"2013\")\n",
    "Get_recalls(16113,years[start:],makes,models,True)"
   ]
  },
  {
   "cell_type": "code",
   "execution_count": 81,
   "id": "eae51635-0543-4951-8984-586d683dfec6",
   "metadata": {},
   "outputs": [
    {
     "name": "stderr",
     "output_type": "stream",
     "text": [
      "2022-04-07 19:02:29.131 | INFO     | __main__:fetch_recalls:2 - Fetching https://api.nhtsa.gov/recalls/recallsByVehicle?make=YAMAHA&model=XC180KC&modelYear=9999\n",
      "2022-04-07 19:02:29.354 | INFO     | __main__:fetch_recalls:9 - 200\n",
      "2022-04-07 19:02:29.355 | INFO     | __main__:Get_recalls:67 - Empty data\n",
      "2022-04-07 19:02:29.355 | INFO     | __main__:Get_recalls:69 - Finished (20340_9999_ZEMCO_XC180KC) from 2014 to 9999.\n"
     ]
    }
   ],
   "source": [
    "start = years.index(\"2014\")\n",
    "Get_recalls(16113,years[start:],makes_clean_403,models_clean_403,True)"
   ]
  },
  {
   "cell_type": "code",
   "execution_count": null,
   "id": "5da03d62-9d0d-4976-b7bb-ee2d75902bca",
   "metadata": {},
   "outputs": [],
   "source": []
  },
  {
   "cell_type": "code",
   "execution_count": null,
   "id": "890db369-74d4-487f-9775-2cf774eac6db",
   "metadata": {},
   "outputs": [],
   "source": []
  },
  {
   "cell_type": "code",
   "execution_count": null,
   "id": "0d66ced5-c95a-4d19-aee1-fdf6175898a4",
   "metadata": {},
   "outputs": [],
   "source": []
  },
  {
   "cell_type": "code",
   "execution_count": 69,
   "id": "2f76ee95-886c-4a73-982e-fbf97dc048a9",
   "metadata": {},
   "outputs": [
    {
     "data": {
      "text/plain": [
       "['REMINGTON']"
      ]
     },
     "execution_count": 69,
     "metadata": {},
     "output_type": "execute_result"
    }
   ],
   "source": [
    "models[\"SUNNYBROOK\"]"
   ]
  },
  {
   "cell_type": "code",
   "execution_count": null,
   "id": "a3cfa874-ca19-4318-bd13-d36f1b3069a0",
   "metadata": {},
>>>>>>> processed-data
   "outputs": [],
   "source": []
  }
 ],
 "metadata": {
  "kernelspec": {
   "display_name": "Python 3 (ipykernel)",
   "language": "python",
   "name": "python3"
  },
  "language_info": {
   "codemirror_mode": {
    "name": "ipython",
    "version": 3
   },
   "file_extension": ".py",
   "mimetype": "text/x-python",
   "name": "python",
   "nbconvert_exporter": "python",
   "pygments_lexer": "ipython3",
   "version": "3.9.7"
  }
 },
 "nbformat": 4,
 "nbformat_minor": 5
}
