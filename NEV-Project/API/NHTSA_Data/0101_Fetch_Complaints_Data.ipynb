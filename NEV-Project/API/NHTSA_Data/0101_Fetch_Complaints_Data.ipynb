{
 "cells": [
  {
   "cell_type": "markdown",
   "id": "ac979d09-7a5d-4d31-a4cb-fff21c1cf21e",
   "metadata": {},
   "source": [
    "# Accessing the NHTSA API [crawler]\n",
    "## Complaints Data "
   ]
  },
  {
   "cell_type": "code",
   "execution_count": 145,
   "id": "c8d62758-e509-46f0-83b9-d5ba4728174f",
   "metadata": {},
   "outputs": [
    {
     "name": "stdout",
     "output_type": "stream",
     "text": [
      "pygame 2.1.2 (SDL 2.0.18, Python 3.9.7)\n",
      "Hello from the pygame community. https://www.pygame.org/contribute.html\n"
     ]
    }
   ],
   "source": [
    "import requests\n",
    "from pathlib import Path\n",
    "import json\n",
    "import pandas as pd\n",
    "import urllib.request\n",
    "import urllib.error\n",
    "import time\n",
    "from loguru import logger\n",
    "from IPython.display import display, clear_output\n",
    "import pygame"
   ]
  },
  {
   "cell_type": "code",
   "execution_count": 2,
   "id": "629ce44e-f939-4a02-b0ac-b18f43f67430",
   "metadata": {},
   "outputs": [],
   "source": [
    "# Set API prefix because our api headers are same.\n",
    "api_prefix = \"https://api.nhtsa.gov\"\n",
    "\n",
    "# Set API suffix for get year.\n",
    "api_get_year = \"/products/vehicle/modelYears?issueType=c\"\n",
    "\n",
    "# Set output path.\n",
    "dir_raw = Path(\"../raw/Complaints-Plus\")\n",
    "dir_raw.mkdir(parents=True, exist_ok=True)"
   ]
  },
  {
   "cell_type": "code",
   "execution_count": 261,
   "id": "9922a53f-10e4-406f-96f4-4065c78bb63e",
   "metadata": {},
   "outputs": [],
   "source": [
    "def fetch_complaints(url):\n",
    "    logger.info(\"Fetching %s\" % url)\n",
    "    try:\n",
    "        headers = {\n",
    "          'User-Agent':\"Mozilla/5.0 (Macintosh; Intel Mac OS X 10.6; rv:2.0.1) Gecko/20100101 Firefox/4.0.1\"\n",
    "        }\n",
    "        response = requests.get(url,headers=headers)\n",
    "        status = response.status_code\n",
    "        logger.info(status)\n",
    "        \n",
    "        # Stop if the API cannot be accessed properly.\n",
    "        if status != 200:\n",
    "            return [-1,None]\n",
    "        \n",
    "        # Otherwise return retrieved data.\n",
    "        raw_data = response.text\n",
    "        return [1,json.loads(raw_data)]\n",
    "    except urllib.error.URLError as e:\n",
    "        e.reason \n",
    "\n",
    "# Output each complaint for a json file.\n",
    "def write_out_raw(complaints_count,year,make,model,data):\n",
    "    # Check if '/' is already in make or model, replaced by '_or_'.\n",
    "    if '/' in make:\n",
    "        make = make.replace(\"/\", \"_or_\")\n",
    "    if '/' in model:\n",
    "        model = model.replace(\"/\", \"_or_\")\n",
    "    # File name format [complaint_num]year_make_model.json\n",
    "    #             e.g. [802]1994_MERCEDES BENZ_E.json\n",
    "    fname = \"[%d]%s_%s_%s.json\" % (complaints_count,year,make,model)\n",
    "    out_path = dir_raw / fname\n",
    "    logger.info(\"Writing data to %s\" % out_path)\n",
    "    fout = open(out_path, \"w\")\n",
    "    json.dump(data, fout, indent=4, sort_keys=True)\n",
    "    fout.close()\n",
    "    \n",
    "# Check API status.\n",
    "def check_status(data):\n",
    "    # Number of complaint in this time.\n",
    "    complaint_num = data[\"count\"]\n",
    "    # Are results returned successfully?\n",
    "    if data[\"message\"] != \"Results returned successfully\":\n",
    "        logger.warning(\"Fail to get from API, %s\" % (data[\"status_message\"]))\n",
    "        return [False,-1]\n",
    "    elif complaint_num <= 0:\n",
    "        logger.warning(\"No info from current API address.\")\n",
    "        return [False,0]\n",
    "    else:\n",
    "        return [True,complaint_num]\n",
    "\n",
    "# Output for \"years\", \"makes\", \"models\" which are dictionaries we get from first 3 steps.  \n",
    "def write_out(name,data):\n",
    "    fname = \"%s.json\" % (name)\n",
    "    out_dir = Path(\"../raw/Complaints_buffer\")\n",
    "    out_path = out_dir / fname\n",
    "    logger.info(\"Writing data to %s\" % out_path)\n",
    "    fout = open(out_path, \"w\")\n",
    "    json.dump(data, fout, indent=4, sort_keys=True)\n",
    "    fout.close()"
   ]
  },
  {
   "cell_type": "markdown",
   "id": "209d6d29-6440-42aa-b658-899c5a30868c",
   "metadata": {
    "tags": []
   },
   "source": [
    "## Step-1: Get all Model Years "
   ]
  },
  {
   "cell_type": "code",
   "execution_count": 6,
   "id": "4dae3265-791b-438d-8bf4-df8f3ba88818",
   "metadata": {
    "tags": []
   },
   "outputs": [
    {
     "name": "stderr",
     "output_type": "stream",
     "text": [
      "2022-04-05 21:11:35.238 | INFO     | __main__:fetch_complaints:2 - Fetching https://api.nhtsa.gov/products/vehicle/modelYears?issueType=c\n",
      "2022-04-05 21:11:35.587 | INFO     | __main__:fetch_complaints:9 - 200\n"
     ]
    }
   ],
   "source": [
    "# Construct API url.\n",
    "api = api_prefix + api_get_year\n",
    "# Fetch data.\n",
    "status,data = fetch_complaints(api)\n",
    "# Convert result data into list format.\n",
    "years = (list(each[\"modelYear\"] for each in data[\"results\"]))\n",
    "logger.info(\"Completed the task of getting all model years!\")\n",
    "# Store years data.\n",
    "write_out(\"years\",years)"
   ]
  },
  {
   "cell_type": "markdown",
   "id": "7e95c2fc-a119-4d16-ae71-da60517693fb",
   "metadata": {},
   "source": [
    "## Step-2: Get all Makes for the Model Year"
   ]
  },
  {
   "cell_type": "code",
   "execution_count": 7,
   "id": "9fe9de5d-82b7-4e77-abe5-340aa781390b",
   "metadata": {},
   "outputs": [
    {
     "name": "stderr",
     "output_type": "stream",
     "text": [
      "2022-04-05 21:12:33.344 | INFO     | __main__:fetch_complaints:2 - Fetching https://api.nhtsa.gov/products/vehicle/makes?modelYear=9999&issueType=c\n",
      "2022-04-05 21:12:34.148 | INFO     | __main__:fetch_complaints:9 - 200\n"
     ]
    }
   ],
   "source": [
    "makes={}\n",
    "for year in years:\n",
    "    clear_output()\n",
    "    # Construct API url.\n",
    "    api = api_prefix + \"/products/vehicle/makes?modelYear=%d&issueType=c\" % (int(year))\n",
    "    # Fetch data.\n",
    "    status,data = fetch_complaints(api)\n",
    "    # Convert result data into list format then store in a dict by year.\n",
    "    makes[year] = (list(each[\"make\"] for each in data[\"results\"]))\n",
    "logger.info(\"Completed the task of getting all makes for the model year!\")\n",
    "# Store makes data.\n",
    "write_out(\"complaint_makes\",makes)"
   ]
  },
  {
   "cell_type": "markdown",
   "id": "59e5fcb7-c5d5-4e6a-82b7-20cc1c4a6b4e",
   "metadata": {},
   "source": [
    "## Step-3: Get all Models for the Make and Model Year \n",
    "Due to the website's restrictions on crawlers, we have to change IP frequently to bypass its restrictions. The following function will automatically stop when it received an access error (Typically a 403 error) and return the data we got so far. And it will give us a hint for next start."
   ]
  },
  {
   "cell_type": "code",
   "execution_count": 53,
   "id": "d5ceaec4-0136-4d74-8974-ca8776f19c7a",
   "metadata": {},
   "outputs": [],
   "source": [
    "def Get_model(years,skip):\n",
    "    models={}\n",
    "    start_year = years[0]\n",
    "    for year in years:\n",
    "        for make in makes[year]:\n",
    "            # If meet some special case we need skip it.\n",
    "            if make != skip:\n",
    "                clear_output()\n",
    "                api = api_prefix + \"/products/vehicle/models?modelYear=%d&make=%s&issueType=c\" % (int(year),make)\n",
    "                status,data = fetch_complaints(api)\n",
    "            # Status equal -1 means we are failing to use this API at this moment.\n",
    "            if status == -1:\n",
    "                logger.warning(\"Start year:%s, Current Year:%s(index:%d) Current Make:%s(index:%d)\" % (start_year,year,years.index(year),make,makes[year].index(make)))\n",
    "                return models\n",
    "            # Otherwise, convert result data into list format then store in a dict by make.\n",
    "            else:\n",
    "                models[make] = (list(each[\"model\"] for each in data[\"results\"]))\n",
    "    end_year = year\n",
    "    logger.info(\"Finished (%s-%s)\" % (start_year,end_year))\n",
    "    return models"
   ]
  },
  {
   "cell_type": "markdown",
   "id": "4fe53057-e79d-4446-9988-1080ee59230d",
   "metadata": {},
   "source": [
    "#### We cannot access url related to **\"EMERGENCY ONE\"**, therefore we skip it."
   ]
  },
  {
   "cell_type": "code",
   "execution_count": 54,
   "id": "ed9c811e-2cf8-492b-8439-7abade3e7f3d",
   "metadata": {},
   "outputs": [
    {
     "name": "stderr",
     "output_type": "stream",
     "text": [
      "2022-04-05 23:43:22.630 | INFO     | __main__:fetch_complaints:2 - Fetching https://api.nhtsa.gov/products/vehicle/models?modelYear=2011&make=NU WA&issueType=c\n",
      "2022-04-05 23:43:22.809 | INFO     | __main__:fetch_complaints:9 - 403\n",
      "2022-04-05 23:43:22.810 | WARNING  | __main__:Get_model:13 - Start year:1949, Current Year:2011(index:56) Current Make:NU WA(index:102)\n"
     ]
    }
   ],
   "source": [
    "models = Get_model(years,\"EMERGENCY ONE\")"
   ]
  },
  {
   "cell_type": "code",
   "execution_count": 57,
   "id": "88d6e4f8-bd19-4bcd-971e-e1d24dfa640a",
   "metadata": {},
   "outputs": [
    {
     "name": "stderr",
     "output_type": "stream",
     "text": [
      "2022-04-05 23:51:34.639 | INFO     | __main__:fetch_complaints:2 - Fetching https://api.nhtsa.gov/products/vehicle/models?modelYear=9999&make=ZAP&issueType=c\n",
      "2022-04-05 23:51:34.837 | INFO     | __main__:fetch_complaints:9 - 200\n",
      "2022-04-05 23:51:34.838 | INFO     | __main__:Get_model:18 - Finished (2011-9999)\n"
     ]
    }
   ],
   "source": [
    "start = years.index(\"2011\")\n",
    "model_2 = Get_model(years[start:],\"EMERGENCY ONE\")"
   ]
  },
  {
   "cell_type": "code",
   "execution_count": 63,
   "id": "054a4d83-60c0-410a-95cf-a812c7d9de1e",
   "metadata": {},
   "outputs": [
    {
     "data": {
      "text/plain": [
       "(709, 517)"
      ]
     },
     "execution_count": 63,
     "metadata": {},
     "output_type": "execute_result"
    }
   ],
   "source": [
    "len(models),len(model_2)"
   ]
  },
  {
   "cell_type": "markdown",
   "id": "007847b8-ef01-48b8-8f4b-44e7586b5c58",
   "metadata": {},
   "source": [
    "#### Define a function for merge two dictionary with out replacement & duplication."
   ]
  },
  {
   "cell_type": "code",
   "execution_count": 60,
   "id": "763a8c91-8dd3-4bc0-947a-ce2bc56967a4",
   "metadata": {},
   "outputs": [],
   "source": [
    "def merge_2_dict(dict_1,dict_2):\n",
    "    for key, value in dict_2.items():\n",
    "        if key in dict_1:\n",
    "            for v in value:\n",
    "                if v not in dict_1[key]:\n",
    "                    dict_1[key].append(v)\n",
    "        else:\n",
    "            dict_1[key] = value\n",
    "    return dict_1"
   ]
  },
  {
   "cell_type": "code",
   "execution_count": 70,
   "id": "e01db59c-f8c1-4f9a-9a3c-e8bbb023fcdb",
   "metadata": {},
   "outputs": [],
   "source": [
    "models = merge_2_dict(models,model_2)"
   ]
  },
  {
   "cell_type": "markdown",
   "id": "76b8ca3d-b8be-478a-a379-d57cf31c2bd3",
   "metadata": {},
   "source": [
    "Delete pair if the value of this key is empty."
   ]
  },
  {
   "cell_type": "code",
   "execution_count": 71,
   "id": "a335d4db-86d4-4436-b7ae-1bd537ac1a46",
   "metadata": {},
   "outputs": [
    {
     "data": {
      "text/plain": [
       "934"
      ]
     },
     "execution_count": 71,
     "metadata": {},
     "output_type": "execute_result"
    }
   ],
   "source": [
    "len(models)"
   ]
  },
  {
   "cell_type": "code",
   "execution_count": 72,
   "id": "f642cc48-42e8-4731-afb6-074fe30fabe0",
   "metadata": {},
   "outputs": [
    {
     "data": {
      "text/plain": [
       "860"
      ]
     },
     "execution_count": 72,
     "metadata": {},
     "output_type": "execute_result"
    }
   ],
   "source": [
    "clean_models = models.copy()\n",
    "for key in list(clean_models.keys()):\n",
    "    if not clean_models.get(key):\n",
    "        del clean_models[key]\n",
    "len(clean_models)"
   ]
  },
  {
   "cell_type": "markdown",
   "id": "ee60b0c8-e00e-4d71-b446-e2dd3d8106fa",
   "metadata": {},
   "source": [
    "#### Delect special 403 case from **makes** and **models**."
   ]
  },
  {
   "cell_type": "code",
   "execution_count": 228,
   "id": "dc26d857-4364-44ef-85a6-525859fdd05c",
   "metadata": {},
   "outputs": [],
   "source": [
    "#Retrieve back from file\n",
    "\n",
    "#f = open('../raw/Complaints-Plus/makes.json')\n",
    "#data_m = json.load(f)\n",
    "#f.close()\n",
    "#makes = data_m.copy()"
   ]
  },
  {
   "cell_type": "code",
   "execution_count": 229,
   "id": "d4fc1df4-6b7f-435b-99a1-efdf76b3b1dc",
   "metadata": {},
   "outputs": [
    {
     "name": "stderr",
     "output_type": "stream",
     "text": [
      "2022-04-06 15:14:27.720 | INFO     | __main__:<module>:6 - 69 -> 69\n"
     ]
    }
   ],
   "source": [
    "makes_clean_403 = makes.copy()\n",
    "for k,v in makes_clean_403.items():\n",
    "    if \"EMERGENCY ONE\" in v:\n",
    "        id = v.index(\"EMERGENCY ONE\")\n",
    "        del v[id]\n",
    "logger.info( \"%d -> %d\" %(len(makes),len(makes_clean_403)))"
   ]
  },
  {
   "cell_type": "code",
   "execution_count": 230,
   "id": "ea8b536e-b9f1-49fd-b63b-2e3e7ad08628",
   "metadata": {},
   "outputs": [
    {
     "name": "stderr",
     "output_type": "stream",
     "text": [
      "2022-04-06 15:14:32.666 | INFO     | __main__:<module>:3 - 934 -> 933\n"
     ]
    }
   ],
   "source": [
    "models_clean_403 = models.copy()\n",
    "del models_clean_403[\"EMERGENCY ONE\"]\n",
    "logger.info( \"%d -> %d\" %(len(models),len(models_clean_403)))"
   ]
  },
  {
   "cell_type": "code",
   "execution_count": 77,
   "id": "623eb764-aac4-4fa0-acba-e39cce81fcb5",
   "metadata": {},
   "outputs": [
    {
     "name": "stderr",
     "output_type": "stream",
     "text": [
      "2022-04-06 00:04:51.999 | INFO     | __main__:write_out:44 - Writing data to ../raw/Complaints-Plus/models.json\n",
      "2022-04-06 00:04:52.006 | INFO     | __main__:write_out:44 - Writing data to ../raw/Complaints-Plus/makes.json\n",
      "2022-04-06 00:04:52.013 | INFO     | __main__:write_out:44 - Writing data to ../raw/Complaints-Plus/years.json\n"
     ]
    }
   ],
   "source": [
    "write_out(\"models\",models)"
   ]
  },
  {
   "cell_type": "markdown",
   "id": "cd2c5a11-ee86-4c6e-9818-16a4943d5ac1",
   "metadata": {},
   "source": [
    "## Step-4: Get all complaints for the selected Model Year, Make, Model"
   ]
  },
  {
   "cell_type": "code",
   "execution_count": 146,
   "id": "d8f512ad-9456-4993-b638-680a103a173b",
   "metadata": {},
   "outputs": [],
   "source": [
    "def Get_complaints(complaints_count,years,makes,models,continue_):\n",
    "    complaints_count = complaints_count\n",
    "    start_year = years[0]\n",
    "    for year in years:\n",
    "        # \"continue_\" means we've suffered an interruption, \n",
    "        # and we're going back to that position.\n",
    "        if continue_ : \n",
    "            #Get user input of \"make\" which want to continue.\n",
    "            make_input = input()\n",
    "            \n",
    "            #Find correspond index position in the \"makes\" dict.\n",
    "            position_make = makes[year].index(make_input)\n",
    "            \n",
    "            #Get user input of \"model\" which want to continue.\n",
    "            model_input = input()\n",
    "            \n",
    "            #Find correspond index position in the \"models\" dict.\n",
    "            position_model = models[make_input].index(model_input)\n",
    "            \n",
    "            # Find a list of rest of makes by current year. \n",
    "            make_position = makes[year].index(make_input)\n",
    "            \n",
    "            # Find a list of rest of models by current year & make. \n",
    "            model_position = models[make_input].index(model_input)\n",
    "\n",
    "            for make in (makes[year])[make_position:]:\n",
    "                for model in (models[make_input])[model_position:]:\n",
    "                    \n",
    "                    clear_output()\n",
    "                    api = api_prefix + \"/complaints/complaintsByVehicle?make=%s&model=%s&modelYear=%d\" % (make,model,int(year))\n",
    "                    status, data = fetch_complaints(api)\n",
    "                    \n",
    "                    # Status equal -1 means we are failing to use this API at this moment.\n",
    "                    if status == -1:\n",
    "                        logger.warning(\"Stopped! (%s_%s_%s_%s)\" % (complaints_count,year,make,model))                    \n",
    "                        alarm_clock()\n",
    "                        return -1\n",
    "                    \n",
    "                    # Skip if data is empty\n",
    "                    if data[\"results\"] != []:\n",
    "                        #Write out\n",
    "                        write_out_raw(complaints_count,year,make,model,data[\"results\"])\n",
    "                        complaints_count += 1\n",
    "                    else:\n",
    "                        logger.info(\"Empty data\")\n",
    "            continue_ = False\n",
    "        else:\n",
    "            for make in makes[year]:\n",
    "                for model in models[make]:\n",
    "                    clear_output()\n",
    "                    api = api_prefix + \"/complaints/complaintsByVehicle?make=%s&model=%s&modelYear=%d\" % (make,model,int(year))\n",
    "                    # Fetch data.\n",
    "                    status, data = fetch_complaints(api)\n",
    "\n",
    "                    # Status equal -1 means we are failing to use this API at this moment.\n",
    "                    if status == -1:\n",
    "                        logger.warning(\"Stopped! (%s_%s_%s_%s)\" % (complaints_count,year,make,model)) \n",
    "                        alarm_clock()\n",
    "                        return -1\n",
    "                    \n",
    "                    # Skip if data is empty\n",
    "                    if data[\"results\"] != []:\n",
    "                        #Write out\n",
    "                        write_out_raw(complaints_count,year,make,model,data[\"results\"])\n",
    "                        complaints_count += 1\n",
    "                    else:\n",
    "                        logger.info(\"Empty data\")\n",
    "    end_year = year\n",
    "    logger.info(\"Finished (%s_%s_%s_%s) from %s to %s.\" % (complaints_count,year,make,model,start_year,end_year))\n",
    "    \n",
    "# Set an alert to remind me to reset when our IP is blocked.\n",
    "def alarm_clock():\n",
    "    file = 'alarm_music.mp3'\n",
    "    pygame.init()\n",
    "    pygame.mixer.init()\n",
    "    pygame.mixer.music.load(file)\n",
    "    pygame.mixer.music.play()\n",
    "    time.sleep(10)\n",
    "    pygame.mixer.music.stop()"
   ]
  },
  {
   "cell_type": "code",
   "execution_count": 97,
   "id": "34277edd-7ac3-479c-947b-bbe44711721f",
   "metadata": {},
   "outputs": [
    {
     "name": "stderr",
     "output_type": "stream",
     "text": [
      "2022-04-06 00:27:28.693 | INFO     | __main__:fetch_complaints:2 - Fetching https://api.nhtsa.gov/complaints/complaintsByVehicle?make=CADILLAC&model=STS&modelYear=1972\n",
      "2022-04-06 00:27:28.898 | INFO     | __main__:fetch_complaints:9 - 403\n",
      "2022-04-06 00:27:28.900 | WARNING  | __main__:Get_complaints:36 - Stopped! (27_1972_CADILLAC_STS)\n"
     ]
    },
    {
     "data": {
      "text/plain": [
       "-1"
      ]
     },
     "execution_count": 97,
     "metadata": {},
     "output_type": "execute_result"
    }
   ],
   "source": [
    "Get_complaints(0,years,makes,models,False)"
   ]
  },
  {
   "cell_type": "code",
   "execution_count": 135,
   "id": "fa336b13-f702-4353-9380-bbfa111680bb",
   "metadata": {},
   "outputs": [
    {
     "name": "stderr",
     "output_type": "stream",
     "text": [
      "2022-04-06 12:27:26.238 | INFO     | __main__:fetch_complaints:2 - Fetching https://api.nhtsa.gov/complaints/complaintsByVehicle?make=BMW&model=550I&modelYear=1978\n",
      "2022-04-06 12:27:26.286 | INFO     | __main__:fetch_complaints:9 - 403\n",
      "2022-04-06 12:27:26.288 | WARNING  | __main__:Get_complaints:53 - Stopped! (49_1978_BMW_550I)\n"
     ]
    },
    {
     "data": {
      "text/plain": [
       "-1"
      ]
     },
     "execution_count": 135,
     "metadata": {},
     "output_type": "execute_result"
    }
   ],
   "source": [
    "start = years.index(\"1972\")\n",
    "Get_complaints(20,years[start:],makes,models,True)"
   ]
  },
  {
   "cell_type": "code",
   "execution_count": 141,
   "id": "1a01bb24-bf67-4f6e-921a-7cc2797895ec",
   "metadata": {},
   "outputs": [
    {
     "name": "stderr",
     "output_type": "stream",
     "text": [
      "2022-04-06 13:32:34.714 | INFO     | __main__:fetch_complaints:2 - Fetching https://api.nhtsa.gov/complaints/complaintsByVehicle?make=MERCEDES BENZ&model=ML350&modelYear=1979\n",
      "2022-04-06 13:32:34.895 | INFO     | __main__:fetch_complaints:9 - 403\n",
      "2022-04-06 13:32:34.896 | WARNING  | __main__:Get_complaints:56 - Stopped! (63_1979_MERCEDES BENZ_ML350)\n"
     ]
    },
    {
     "data": {
      "text/plain": [
       "-1"
      ]
     },
     "execution_count": 141,
     "metadata": {},
     "output_type": "execute_result"
    }
   ],
   "source": [
    "start = years.index(\"1978\")\n",
    "Get_complaints(49,years[start:],makes,models,True)"
   ]
  },
  {
   "cell_type": "code",
   "execution_count": 143,
   "id": "75e6ec30-1c40-4e5e-92e0-e4fe67b973bb",
   "metadata": {},
   "outputs": [
    {
     "name": "stderr",
     "output_type": "stream",
     "text": [
      "2022-04-06 14:06:41.186 | INFO     | __main__:fetch_complaints:2 - Fetching https://api.nhtsa.gov/complaints/complaintsByVehicle?make=FORD&model=FLEX&modelYear=1986\n",
      "2022-04-06 14:06:41.381 | INFO     | __main__:fetch_complaints:9 - 403\n",
      "2022-04-06 14:06:41.382 | WARNING  | __main__:Get_complaints:56 - Stopped! (236_1986_FORD_FLEX)\n"
     ]
    },
    {
     "data": {
      "text/plain": [
       "-1"
      ]
     },
     "execution_count": 143,
     "metadata": {},
     "output_type": "execute_result"
    }
   ],
   "source": [
    "start = years.index(\"1979\")\n",
    "Get_complaints(63,years[start:],makes,models,True)"
   ]
  },
  {
   "cell_type": "code",
   "execution_count": 231,
   "id": "9a68b40f-b2ca-4fee-94d4-92dc54a31c97",
   "metadata": {},
   "outputs": [
    {
     "name": "stderr",
     "output_type": "stream",
     "text": [
      "2022-04-06 16:07:22.501 | INFO     | __main__:fetch_complaints:2 - Fetching https://api.nhtsa.gov/complaints/complaintsByVehicle?make=CONQUEST&model=TRAILER&modelYear=1995\n",
      "2022-04-06 16:07:22.670 | INFO     | __main__:fetch_complaints:9 - 403\n",
      "2022-04-06 16:07:22.671 | WARNING  | __main__:Get_complaints:57 - Stopped! (863_1995_CONQUEST_TRAILER)\n"
     ]
    },
    {
     "data": {
      "text/plain": [
       "-1"
      ]
     },
     "execution_count": 231,
     "metadata": {},
     "output_type": "execute_result"
    }
   ],
   "source": [
    "start = years.index(\"1986\")\n",
    "Get_complaints(236,years[start:],makes,models,True)"
   ]
  },
  {
   "cell_type": "code",
   "execution_count": 234,
   "id": "ed340aae-2228-487f-b958-323fc3bd6a0e",
   "metadata": {},
   "outputs": [
    {
     "name": "stderr",
     "output_type": "stream",
     "text": [
      "2022-04-06 17:07:06.153 | INFO     | __main__:fetch_complaints:2 - Fetching https://api.nhtsa.gov/complaints/complaintsByVehicle?make=SUZUKI&model=GRAND VITARA&modelYear=1997\n",
      "2022-04-06 17:07:06.334 | INFO     | __main__:fetch_complaints:9 - 403\n",
      "2022-04-06 17:07:06.335 | WARNING  | __main__:Get_complaints:57 - Stopped! (1129_1997_SUZUKI_GRAND VITARA)\n"
     ]
    },
    {
     "data": {
      "text/plain": [
       "-1"
      ]
     },
     "execution_count": 234,
     "metadata": {},
     "output_type": "execute_result"
    }
   ],
   "source": [
    "start = years.index(\"1995\")\n",
    "Get_complaints(863,years[start:],makes,models,True)"
   ]
  },
  {
   "cell_type": "code",
   "execution_count": 235,
   "id": "a2058861-3878-47fd-a376-bf21d82a37f6",
   "metadata": {},
   "outputs": [
    {
     "name": "stderr",
     "output_type": "stream",
     "text": [
      "2022-04-06 18:15:40.172 | INFO     | __main__:fetch_complaints:2 - Fetching https://api.nhtsa.gov/complaints/complaintsByVehicle?make=SKYLINE&model=RAMPAGE&modelYear=2004\n",
      "2022-04-06 18:15:40.343 | INFO     | __main__:fetch_complaints:9 - 403\n",
      "2022-04-06 18:15:40.344 | WARNING  | __main__:Get_complaints:57 - Stopped! (2566_2004_SKYLINE_RAMPAGE)\n"
     ]
    },
    {
     "data": {
      "text/plain": [
       "-1"
      ]
     },
     "execution_count": 235,
     "metadata": {},
     "output_type": "execute_result"
    }
   ],
   "source": [
    "start = years.index(\"1997\")\n",
    "Get_complaints(1129,years[start:],makes,models,True)"
   ]
  },
  {
   "cell_type": "code",
   "execution_count": 236,
   "id": "cb615c80-3c49-4a65-a986-8913bb4f30ff",
   "metadata": {},
   "outputs": [
    {
     "name": "stderr",
     "output_type": "stream",
     "text": [
      "2022-04-06 18:47:32.905 | INFO     | __main__:fetch_complaints:2 - Fetching https://api.nhtsa.gov/complaints/complaintsByVehicle?make=JAGUAR&model=XF&modelYear=2007\n",
      "2022-04-06 18:47:33.091 | INFO     | __main__:fetch_complaints:9 - 403\n",
      "2022-04-06 18:47:33.092 | WARNING  | __main__:Get_complaints:57 - Stopped! (3341_2007_JAGUAR_XF)\n"
     ]
    },
    {
     "data": {
      "text/plain": [
       "-1"
      ]
     },
     "execution_count": 236,
     "metadata": {},
     "output_type": "execute_result"
    }
   ],
   "source": [
    "start = years.index(\"2004\")\n",
    "Get_complaints(2566,years[start:],makes,models,True)"
   ]
  },
  {
   "cell_type": "code",
   "execution_count": 237,
   "id": "514f16bf-557d-4a8d-bed1-984cdc2da115",
   "metadata": {},
   "outputs": [
    {
     "name": "stderr",
     "output_type": "stream",
     "text": [
      "2022-04-06 19:58:23.882 | INFO     | __main__:fetch_complaints:2 - Fetching https://api.nhtsa.gov/complaints/complaintsByVehicle?make=CHEVROLET&model=SILVERADO 2500&modelYear=2009\n",
      "2022-04-06 19:58:24.054 | INFO     | __main__:fetch_complaints:9 - 403\n",
      "2022-04-06 19:58:24.056 | WARNING  | __main__:Get_complaints:57 - Stopped! (3781_2009_CHEVROLET_SILVERADO 2500)\n"
     ]
    },
    {
     "data": {
      "text/plain": [
       "-1"
      ]
     },
     "execution_count": 237,
     "metadata": {},
     "output_type": "execute_result"
    }
   ],
   "source": [
    "start = years.index(\"2007\")\n",
    "Get_complaints(3341,years[start:],makes,models,True)"
   ]
  },
  {
   "cell_type": "code",
   "execution_count": 238,
   "id": "d95fbe06-bafe-40ba-ab54-1a4d4b1c78af",
   "metadata": {},
   "outputs": [
    {
     "name": "stderr",
     "output_type": "stream",
     "text": [
      "2022-04-06 20:12:33.888 | INFO     | __main__:fetch_complaints:2 - Fetching https://api.nhtsa.gov/complaints/complaintsByVehicle?make=SUZUKI&model=SILVERADO 3500&modelYear=2009\n",
      "2022-04-06 20:12:34.113 | INFO     | __main__:fetch_complaints:9 - 403\n",
      "2022-04-06 20:12:34.114 | WARNING  | __main__:Get_complaints:36 - Stopped! (3787_2009_SUZUKI_SILVERADO 3500)\n"
     ]
    },
    {
     "data": {
      "text/plain": [
       "-1"
      ]
     },
     "execution_count": 238,
     "metadata": {},
     "output_type": "execute_result"
    }
   ],
   "source": [
    "start = years.index(\"2009\")\n",
    "Get_complaints(3781,years[start:],makes,models,True)"
   ]
  },
  {
   "cell_type": "code",
   "execution_count": 242,
   "id": "e81f4b14-e3ff-477a-bed8-6e90f0617a50",
   "metadata": {},
   "outputs": [
    {
     "name": "stderr",
     "output_type": "stream",
     "text": [
      "2022-04-06 20:32:20.144 | INFO     | __main__:fetch_complaints:2 - Fetching https://api.nhtsa.gov/complaints/complaintsByVehicle?make=BMW&model=X5&modelYear=2011\n",
      "2022-04-06 20:32:20.322 | INFO     | __main__:fetch_complaints:9 - 403\n",
      "2022-04-06 20:32:20.323 | WARNING  | __main__:Get_complaints:57 - Stopped! (4291_2011_BMW_X5)\n"
     ]
    },
    {
     "data": {
      "text/plain": [
       "-1"
      ]
     },
     "execution_count": 242,
     "metadata": {},
     "output_type": "execute_result"
    }
   ],
   "source": [
    "start = years.index(\"2009\")\n",
    "Get_complaints(3787,years[start:],makes,models,True)"
   ]
  },
  {
   "cell_type": "code",
   "execution_count": 243,
   "id": "7f1a7cfc-e6de-477a-a96e-8a102da4154a",
   "metadata": {},
   "outputs": [
    {
     "name": "stderr",
     "output_type": "stream",
     "text": [
      "2022-04-06 20:47:25.966 | INFO     | __main__:fetch_complaints:2 - Fetching https://api.nhtsa.gov/complaints/complaintsByVehicle?make=ASTON MARTIN&model=V8 VANTAGE S&modelYear=2012\n",
      "2022-04-06 20:47:26.143 | INFO     | __main__:fetch_complaints:9 - 403\n",
      "2022-04-06 20:47:26.143 | WARNING  | __main__:Get_complaints:57 - Stopped! (4303_2012_ASTON MARTIN_V8 VANTAGE S)\n"
     ]
    },
    {
     "data": {
      "text/plain": [
       "-1"
      ]
     },
     "execution_count": 243,
     "metadata": {},
     "output_type": "execute_result"
    }
   ],
   "source": [
    "start = years.index(\"2011\")\n",
    "Get_complaints(4291,years[start:],makes,models,True)"
   ]
  },
  {
   "cell_type": "code",
   "execution_count": 245,
   "id": "98f7c145-4ba8-4898-af06-6ef9fcfcfd93",
   "metadata": {},
   "outputs": [
    {
     "name": "stderr",
     "output_type": "stream",
     "text": [
      "2022-04-06 21:12:31.442 | INFO     | __main__:fetch_complaints:2 - Fetching https://api.nhtsa.gov/complaints/complaintsByVehicle?make=MERCEDES BENZ&model=E&modelYear=2013\n",
      "2022-04-06 21:12:31.617 | INFO     | __main__:fetch_complaints:9 - 403\n",
      "2022-04-06 21:12:31.618 | WARNING  | __main__:Get_complaints:57 - Stopped! (4572_2013_MERCEDES BENZ_E)\n"
     ]
    },
    {
     "data": {
      "text/plain": [
       "-1"
      ]
     },
     "execution_count": 245,
     "metadata": {},
     "output_type": "execute_result"
    }
   ],
   "source": [
    "start = years.index(\"2012\")\n",
    "Get_complaints(4303,years[start:],makes,models,True)"
   ]
  },
  {
   "cell_type": "code",
   "execution_count": 246,
   "id": "07b096d3-35bf-4000-a38a-3d829d28c2d8",
   "metadata": {},
   "outputs": [
    {
     "name": "stderr",
     "output_type": "stream",
     "text": [
      "2022-04-06 21:22:34.743 | INFO     | __main__:fetch_complaints:2 - Fetching https://api.nhtsa.gov/complaints/complaintsByVehicle?make=UTILITY&model=GL350&modelYear=2013\n",
      "2022-04-06 21:22:34.999 | INFO     | __main__:fetch_complaints:9 - 403\n",
      "2022-04-06 21:22:35.000 | WARNING  | __main__:Get_complaints:36 - Stopped! (4572_2013_UTILITY_GL350)\n"
     ]
    },
    {
     "data": {
      "text/plain": [
       "-1"
      ]
     },
     "execution_count": 246,
     "metadata": {},
     "output_type": "execute_result"
    }
   ],
   "source": [
    "start = years.index(\"2013\")\n",
    "Get_complaints(4572,years[start:],makes,models,True)"
   ]
  },
  {
   "cell_type": "code",
   "execution_count": 251,
   "id": "1c417716-8d5a-4761-85b4-6df666e9cdb3",
   "metadata": {},
   "outputs": [
    {
     "name": "stderr",
     "output_type": "stream",
     "text": [
      "2022-04-06 21:37:27.173 | INFO     | __main__:fetch_complaints:2 - Fetching https://api.nhtsa.gov/complaints/complaintsByVehicle?make=FORD&model=FLEX&modelYear=2015\n",
      "2022-04-06 21:37:27.372 | INFO     | __main__:fetch_complaints:9 - 403\n",
      "2022-04-06 21:37:27.373 | WARNING  | __main__:Get_complaints:57 - Stopped! (5022_2015_FORD_FLEX)\n"
     ]
    },
    {
     "data": {
      "text/plain": [
       "-1"
      ]
     },
     "execution_count": 251,
     "metadata": {},
     "output_type": "execute_result"
    }
   ],
   "source": [
    "start = years.index(\"2013\")\n",
    "Get_complaints(4572,years[start:],makes,models,True)"
   ]
  },
  {
   "cell_type": "code",
   "execution_count": 253,
   "id": "323b7e76-49a0-4dad-815a-e123729768b2",
   "metadata": {},
   "outputs": [
    {
     "name": "stderr",
     "output_type": "stream",
     "text": [
      "2022-04-06 21:47:30.216 | INFO     | __main__:fetch_complaints:2 - Fetching https://api.nhtsa.gov/complaints/complaintsByVehicle?make=YAMAHA&model=FUSION HYBRID&modelYear=2015\n",
      "2022-04-06 21:47:30.391 | INFO     | __main__:fetch_complaints:9 - 403\n",
      "2022-04-06 21:47:30.392 | WARNING  | __main__:Get_complaints:36 - Stopped! (5029_2015_YAMAHA_FUSION HYBRID)\n"
     ]
    },
    {
     "data": {
      "text/plain": [
       "-1"
      ]
     },
     "execution_count": 253,
     "metadata": {},
     "output_type": "execute_result"
    }
   ],
   "source": [
    "start = years.index(\"2015\")\n",
    "Get_complaints(5022,years[start:],makes,models,True)"
   ]
  },
  {
   "cell_type": "code",
   "execution_count": 256,
   "id": "ac7a216f-ff45-4e65-b20a-2cbc21d5da5d",
   "metadata": {},
   "outputs": [
    {
     "name": "stderr",
     "output_type": "stream",
     "text": [
      "2022-04-06 21:57:24.063 | INFO     | __main__:fetch_complaints:2 - Fetching https://api.nhtsa.gov/complaints/complaintsByVehicle?make=VOLVO&model=780&modelYear=2016\n",
      "2022-04-06 21:57:24.228 | INFO     | __main__:fetch_complaints:9 - 403\n",
      "2022-04-06 21:57:24.229 | WARNING  | __main__:Get_complaints:57 - Stopped! (5332_2016_VOLVO_780)\n"
     ]
    },
    {
     "data": {
      "text/plain": [
       "-1"
      ]
     },
     "execution_count": 256,
     "metadata": {},
     "output_type": "execute_result"
    }
   ],
   "source": [
    "start = years.index(\"2015\")\n",
    "Get_complaints(5029,years[start:],makes,models,True)"
   ]
  },
  {
   "cell_type": "code",
   "execution_count": 257,
   "id": "bed37510-f982-420b-95df-0b7a0a27b64d",
   "metadata": {},
   "outputs": [
    {
     "name": "stderr",
     "output_type": "stream",
     "text": [
      "2022-04-06 22:38:23.834 | INFO     | __main__:fetch_complaints:2 - Fetching https://api.nhtsa.gov/complaints/complaintsByVehicle?make=LANCE&model=2281&modelYear=2021\n",
      "2022-04-06 22:38:24.021 | INFO     | __main__:fetch_complaints:9 - 403\n",
      "2022-04-06 22:38:24.022 | WARNING  | __main__:Get_complaints:57 - Stopped! (6445_2021_LANCE_2281)\n"
     ]
    },
    {
     "data": {
      "text/plain": [
       "-1"
      ]
     },
     "execution_count": 257,
     "metadata": {},
     "output_type": "execute_result"
    }
   ],
   "source": [
    "start = years.index(\"2016\")\n",
    "Get_complaints(5332,years[start:],makes,models,True)"
   ]
  },
  {
   "cell_type": "code",
   "execution_count": 259,
   "id": "e9eac368-1529-48c9-8f91-007084679c7c",
   "metadata": {},
   "outputs": [
    {
     "name": "stderr",
     "output_type": "stream",
     "text": [
      "2022-04-06 22:47:23.454 | INFO     | __main__:fetch_complaints:2 - Fetching https://api.nhtsa.gov/complaints/complaintsByVehicle?make=TRIUMPH&model=THUNDERBIRD ABS A1&modelYear=9999\n",
      "2022-04-06 22:47:23.634 | INFO     | __main__:fetch_complaints:9 - 403\n",
      "2022-04-06 22:47:23.635 | WARNING  | __main__:Get_complaints:57 - Stopped! (6533_9999_TRIUMPH_THUNDERBIRD ABS A1)\n"
     ]
    },
    {
     "data": {
      "text/plain": [
       "-1"
      ]
     },
     "execution_count": 259,
     "metadata": {},
     "output_type": "execute_result"
    }
   ],
   "source": [
    "start = years.index(\"2021\")\n",
    "Get_complaints(6445,years[start:],makes,models,True)"
   ]
  },
  {
   "cell_type": "code",
   "execution_count": 260,
   "id": "2011462b-59d2-4fd3-8cab-17864be423e3",
   "metadata": {},
   "outputs": [
    {
     "name": "stderr",
     "output_type": "stream",
     "text": [
      "2022-04-06 22:48:38.660 | INFO     | __main__:fetch_complaints:2 - Fetching https://api.nhtsa.gov/complaints/complaintsByVehicle?make=ZAP&model=TIGER 1050 CCM ABS&modelYear=9999\n",
      "2022-04-06 22:48:38.900 | INFO     | __main__:fetch_complaints:9 - 200\n",
      "2022-04-06 22:48:38.901 | INFO     | __main__:Get_complaints:45 - Empty data\n",
      "2022-04-06 22:48:38.902 | INFO     | __main__:Get_complaints:68 - Finished (6533_9999_ZAP_TIGER 1050 CCM ABS) from 9999 to 9999.\n"
     ]
    }
   ],
   "source": [
    "start = years.index(\"9999\")\n",
    "Get_complaints(6533,years[start:],makes,models,True)"
   ]
  },
  {
   "cell_type": "code",
   "execution_count": null,
   "id": "f0a8bc44-b4c5-4c60-8271-71faeedfa0ec",
   "metadata": {},
   "outputs": [],
   "source": []
  }
 ],
 "metadata": {
  "kernelspec": {
   "display_name": "Python 3 (ipykernel)",
   "language": "python",
   "name": "python3"
  },
  "language_info": {
   "codemirror_mode": {
    "name": "ipython",
    "version": 3
   },
   "file_extension": ".py",
   "mimetype": "text/x-python",
   "name": "python",
   "nbconvert_exporter": "python",
   "pygments_lexer": "ipython3",
   "version": "3.9.7"
  }
 },
 "nbformat": 4,
 "nbformat_minor": 5
}
